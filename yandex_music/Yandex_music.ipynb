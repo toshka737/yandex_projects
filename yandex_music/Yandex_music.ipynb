{
 "cells": [
  {
   "cell_type": "markdown",
   "metadata": {
    "id": "E0vqbgi9ay0H"
   },
   "source": [
    "# Яндекс.Музыка"
   ]
  },
  {
   "cell_type": "markdown",
   "metadata": {
    "id": "VUC88oWjTJw2"
   },
   "source": [
    "Сравнение Москвы и Петербурга окружено мифами. Например:\n",
    " * Москва — мегаполис, подчинённый жёсткому ритму рабочей недели;\n",
    " * Петербург — культурная столица, со своими вкусами.\n",
    "\n",
    "На данных Яндекс.Музыки вы сравните поведение пользователей двух столиц.\n",
    "\n",
    "**Цель исследования** — проверьте три гипотезы:\n",
    "1. Активность пользователей зависит от дня недели. Причём в Москве и Петербурге это проявляется по-разному.\n",
    "2. В понедельник утром в Москве преобладают одни жанры, а в Петербурге — другие. Так же и вечером пятницы преобладают разные жанры — в зависимости от города. \n",
    "3. Москва и Петербург предпочитают разные жанры музыки. В Москве чаще слушают поп-музыку, в Петербурге — русский рэп.\n"
   ]
  },
  {
   "cell_type": "markdown",
   "metadata": {
    "id": "Ml1hmfXC_Zcs"
   },
   "source": [
    "## Обзор данных\n",
    "\n",
    "Составьте первое представление о данных Яндекс.Музыки.\n",
    "\n",
    "\n"
   ]
  },
  {
   "cell_type": "markdown",
   "metadata": {
    "id": "57eAOGIz_Zcs"
   },
   "source": [
    "Основной инструмент аналитика — `pandas`. Импортируйте эту библиотеку."
   ]
  },
  {
   "cell_type": "code",
   "execution_count": 1,
   "metadata": {
    "id": "AXN7PHPN_Zcs"
   },
   "outputs": [],
   "source": [
    "import pandas as pd "
   ]
  },
  {
   "cell_type": "markdown",
   "metadata": {
    "id": "SG23P8tt_Zcs"
   },
   "source": [
    "Прочитайте файл `yandex_music_project.csv` из папки `/datasets` и сохраните его в переменной `df`:"
   ]
  },
  {
   "cell_type": "code",
   "execution_count": 2,
   "metadata": {
    "id": "fFVu7vqh_Zct"
   },
   "outputs": [],
   "source": [
    "df = pd.read_csv('./datasets/yandex_music_project.csv')"
   ]
  },
  {
   "cell_type": "markdown",
   "metadata": {
    "id": "rDoOMd3uTqnZ"
   },
   "source": [
    "Выведите на экран первые десять строк таблицы:"
   ]
  },
  {
   "cell_type": "code",
   "execution_count": 3,
   "metadata": {
    "id": "oWTVX3gW_Zct"
   },
   "outputs": [
    {
     "data": {
      "text/html": [
       "<div>\n",
       "<style scoped>\n",
       "    .dataframe tbody tr th:only-of-type {\n",
       "        vertical-align: middle;\n",
       "    }\n",
       "\n",
       "    .dataframe tbody tr th {\n",
       "        vertical-align: top;\n",
       "    }\n",
       "\n",
       "    .dataframe thead th {\n",
       "        text-align: right;\n",
       "    }\n",
       "</style>\n",
       "<table border=\"1\" class=\"dataframe\">\n",
       "  <thead>\n",
       "    <tr style=\"text-align: right;\">\n",
       "      <th></th>\n",
       "      <th>userID</th>\n",
       "      <th>Track</th>\n",
       "      <th>artist</th>\n",
       "      <th>genre</th>\n",
       "      <th>City</th>\n",
       "      <th>time</th>\n",
       "      <th>Day</th>\n",
       "    </tr>\n",
       "  </thead>\n",
       "  <tbody>\n",
       "    <tr>\n",
       "      <th>0</th>\n",
       "      <td>FFB692EC</td>\n",
       "      <td>Kamigata To Boots</td>\n",
       "      <td>The Mass Missile</td>\n",
       "      <td>rock</td>\n",
       "      <td>Saint-Petersburg</td>\n",
       "      <td>20:28:33</td>\n",
       "      <td>Wednesday</td>\n",
       "    </tr>\n",
       "    <tr>\n",
       "      <th>1</th>\n",
       "      <td>55204538</td>\n",
       "      <td>Delayed Because of Accident</td>\n",
       "      <td>Andreas Rönnberg</td>\n",
       "      <td>rock</td>\n",
       "      <td>Moscow</td>\n",
       "      <td>14:07:09</td>\n",
       "      <td>Friday</td>\n",
       "    </tr>\n",
       "    <tr>\n",
       "      <th>2</th>\n",
       "      <td>20EC38</td>\n",
       "      <td>Funiculì funiculà</td>\n",
       "      <td>Mario Lanza</td>\n",
       "      <td>pop</td>\n",
       "      <td>Saint-Petersburg</td>\n",
       "      <td>20:58:07</td>\n",
       "      <td>Wednesday</td>\n",
       "    </tr>\n",
       "    <tr>\n",
       "      <th>3</th>\n",
       "      <td>A3DD03C9</td>\n",
       "      <td>Dragons in the Sunset</td>\n",
       "      <td>Fire + Ice</td>\n",
       "      <td>folk</td>\n",
       "      <td>Saint-Petersburg</td>\n",
       "      <td>08:37:09</td>\n",
       "      <td>Monday</td>\n",
       "    </tr>\n",
       "    <tr>\n",
       "      <th>4</th>\n",
       "      <td>E2DC1FAE</td>\n",
       "      <td>Soul People</td>\n",
       "      <td>Space Echo</td>\n",
       "      <td>dance</td>\n",
       "      <td>Moscow</td>\n",
       "      <td>08:34:34</td>\n",
       "      <td>Monday</td>\n",
       "    </tr>\n",
       "    <tr>\n",
       "      <th>5</th>\n",
       "      <td>842029A1</td>\n",
       "      <td>Преданная</td>\n",
       "      <td>IMPERVTOR</td>\n",
       "      <td>rusrap</td>\n",
       "      <td>Saint-Petersburg</td>\n",
       "      <td>13:09:41</td>\n",
       "      <td>Friday</td>\n",
       "    </tr>\n",
       "    <tr>\n",
       "      <th>6</th>\n",
       "      <td>4CB90AA5</td>\n",
       "      <td>True</td>\n",
       "      <td>Roman Messer</td>\n",
       "      <td>dance</td>\n",
       "      <td>Moscow</td>\n",
       "      <td>13:00:07</td>\n",
       "      <td>Wednesday</td>\n",
       "    </tr>\n",
       "    <tr>\n",
       "      <th>7</th>\n",
       "      <td>F03E1C1F</td>\n",
       "      <td>Feeling This Way</td>\n",
       "      <td>Polina Griffith</td>\n",
       "      <td>dance</td>\n",
       "      <td>Moscow</td>\n",
       "      <td>20:47:49</td>\n",
       "      <td>Wednesday</td>\n",
       "    </tr>\n",
       "    <tr>\n",
       "      <th>8</th>\n",
       "      <td>8FA1D3BE</td>\n",
       "      <td>И вновь продолжается бой</td>\n",
       "      <td>NaN</td>\n",
       "      <td>ruspop</td>\n",
       "      <td>Moscow</td>\n",
       "      <td>09:17:40</td>\n",
       "      <td>Friday</td>\n",
       "    </tr>\n",
       "    <tr>\n",
       "      <th>9</th>\n",
       "      <td>E772D5C0</td>\n",
       "      <td>Pessimist</td>\n",
       "      <td>NaN</td>\n",
       "      <td>dance</td>\n",
       "      <td>Saint-Petersburg</td>\n",
       "      <td>21:20:49</td>\n",
       "      <td>Wednesday</td>\n",
       "    </tr>\n",
       "  </tbody>\n",
       "</table>\n",
       "</div>"
      ],
      "text/plain": [
       "     userID                        Track            artist   genre  \\\n",
       "0  FFB692EC            Kamigata To Boots  The Mass Missile    rock   \n",
       "1  55204538  Delayed Because of Accident  Andreas Rönnberg    rock   \n",
       "2    20EC38            Funiculì funiculà       Mario Lanza     pop   \n",
       "3  A3DD03C9        Dragons in the Sunset        Fire + Ice    folk   \n",
       "4  E2DC1FAE                  Soul People        Space Echo   dance   \n",
       "5  842029A1                    Преданная         IMPERVTOR  rusrap   \n",
       "6  4CB90AA5                         True      Roman Messer   dance   \n",
       "7  F03E1C1F             Feeling This Way   Polina Griffith   dance   \n",
       "8  8FA1D3BE     И вновь продолжается бой               NaN  ruspop   \n",
       "9  E772D5C0                    Pessimist               NaN   dance   \n",
       "\n",
       "             City        time        Day  \n",
       "0  Saint-Petersburg  20:28:33  Wednesday  \n",
       "1            Moscow  14:07:09     Friday  \n",
       "2  Saint-Petersburg  20:58:07  Wednesday  \n",
       "3  Saint-Petersburg  08:37:09     Monday  \n",
       "4            Moscow  08:34:34     Monday  \n",
       "5  Saint-Petersburg  13:09:41     Friday  \n",
       "6            Moscow  13:00:07  Wednesday  \n",
       "7            Moscow  20:47:49  Wednesday  \n",
       "8            Moscow  09:17:40     Friday  \n",
       "9  Saint-Petersburg  21:20:49  Wednesday  "
      ]
     },
     "execution_count": 3,
     "metadata": {},
     "output_type": "execute_result"
    }
   ],
   "source": [
    "df.head(10)"
   ]
  },
  {
   "cell_type": "markdown",
   "metadata": {
    "id": "EO73Kwic_Zct"
   },
   "source": [
    "Одной командой получить общую информацию о таблице:"
   ]
  },
  {
   "cell_type": "code",
   "execution_count": 4,
   "metadata": {
    "id": "DSf2kIb-_Zct"
   },
   "outputs": [
    {
     "name": "stdout",
     "output_type": "stream",
     "text": [
      "<class 'pandas.core.frame.DataFrame'>\n",
      "RangeIndex: 65079 entries, 0 to 65078\n",
      "Data columns (total 7 columns):\n",
      " #   Column    Non-Null Count  Dtype \n",
      "---  ------    --------------  ----- \n",
      " 0     userID  65079 non-null  object\n",
      " 1   Track     63848 non-null  object\n",
      " 2   artist    57876 non-null  object\n",
      " 3   genre     63881 non-null  object\n",
      " 4     City    65079 non-null  object\n",
      " 5   time      65079 non-null  object\n",
      " 6   Day       65079 non-null  object\n",
      "dtypes: object(7)\n",
      "memory usage: 3.5+ MB\n"
     ]
    }
   ],
   "source": [
    "df.info()"
   ]
  },
  {
   "cell_type": "markdown",
   "metadata": {
    "id": "TaQ2Iwbr_Zct"
   },
   "source": [
    "Итак, в таблице семь столбцов. Тип данных во всех столбцах — `object`.\n",
    "\n",
    "Согласно документации к данным:\n",
    "* `userID` — идентификатор пользователя;\n",
    "* `Track` — название трека;  \n",
    "* `artist` — имя исполнителя;\n",
    "* `genre` — название жанра;\n",
    "* `City` — город пользователя;\n",
    "* `time` — время начала прослушивания;\n",
    "* `Day` — день недели.\n",
    "\n",
    "В названиях колонок видны три нарушения стиля:\n",
    "1. Строчные буквы сочетаются с прописными.\n",
    "2. Встречаются пробелы.\n",
    "3. Не используется \"змеиный\" стиль.\n",
    "\n",
    "\n",
    "\n",
    "Количество значений в столбцах различается. Значит, в данных есть пропущенные значения.\n"
   ]
  },
  {
   "cell_type": "markdown",
   "metadata": {
    "id": "MCB6-dXG_Zct"
   },
   "source": [
    "**Выводы**\n",
    "\n",
    "В каждой строке таблицы — данные о прослушанном треке. Часть колонок описывает саму композицию: название, исполнителя и жанр. Остальные данные рассказывают о пользователе: из какого он города, когда он слушал музыку. \n",
    "\n",
    "Предварительно можно утверждать, что, данных достаточно для проверки гипотез. Но встречаются пропуски в данных, а в названиях колонок — расхождения с хорошим стилем.\n",
    "\n",
    "Чтобы двигаться дальше, нужно устранить проблемы в данных."
   ]
  },
  {
   "cell_type": "markdown",
   "metadata": {
    "id": "SjYF6Ub9_Zct"
   },
   "source": [
    "## Предобработка данных\n",
    "Исправьте стиль в заголовках столбцов, исключите пропуски. Затем проверьте данные на дубликаты."
   ]
  },
  {
   "cell_type": "markdown",
   "metadata": {
    "id": "dIaKXr29_Zct"
   },
   "source": [
    "### Стиль заголовков\n",
    "Выведите на экран названия столбцов:"
   ]
  },
  {
   "cell_type": "code",
   "execution_count": 5,
   "metadata": {
    "id": "oKOTdF_Q_Zct"
   },
   "outputs": [
    {
     "data": {
      "text/plain": [
       "Index(['  userID', 'Track', 'artist', 'genre', '  City  ', 'time', 'Day'], dtype='object')"
      ]
     },
     "execution_count": 5,
     "metadata": {},
     "output_type": "execute_result"
    }
   ],
   "source": [
    "df.columns"
   ]
  },
  {
   "cell_type": "markdown",
   "metadata": {
    "id": "zj5534cv_Zct"
   },
   "source": [
    "Приведите названия в соответствие с хорошим стилем:\n",
    "* несколько слов в названии запишите в «змеином_регистре»,\n",
    "* все символы сделайте строчными,\n",
    "* устраните пробелы.\n",
    "\n",
    "Для этого переименуйте колонки так:\n",
    "* `'  userID'` → `'user_id'`;\n",
    "* `'Track'` → `'track'`;\n",
    "* `'  City  '` → `'city'`;\n",
    "* `'Day'` → `'day'`."
   ]
  },
  {
   "cell_type": "code",
   "execution_count": 6,
   "metadata": {
    "id": "ISlFqs5y_Zct"
   },
   "outputs": [],
   "source": [
    "df = df.rename(columns = {'  userID':'user_id', 'Track':'track', '  City  ':'city', 'Day':'day'}) # переименование столбцов"
   ]
  },
  {
   "cell_type": "markdown",
   "metadata": {
    "id": "1dqbh00J_Zct"
   },
   "source": [
    "Проверьте результат. Для этого ещё раз выведите на экран названия столбцов:"
   ]
  },
  {
   "cell_type": "code",
   "execution_count": 7,
   "metadata": {
    "id": "d4NOAmTW_Zct"
   },
   "outputs": [
    {
     "data": {
      "text/plain": [
       "Index(['user_id', 'track', 'artist', 'genre', 'city', 'time', 'day'], dtype='object')"
      ]
     },
     "execution_count": 7,
     "metadata": {},
     "output_type": "execute_result"
    }
   ],
   "source": [
    "df.columns"
   ]
  },
  {
   "cell_type": "markdown",
   "metadata": {
    "id": "5ISfbcfY_Zct"
   },
   "source": [
    "### Пропуски значений\n",
    "Сначала посчитайте, сколько в таблице пропущенных значений. Для этого достаточно двух методов `pandas`:"
   ]
  },
  {
   "cell_type": "code",
   "execution_count": 8,
   "metadata": {
    "id": "RskX29qr_Zct"
   },
   "outputs": [
    {
     "data": {
      "text/plain": [
       "user_id       0\n",
       "track      1231\n",
       "artist     7203\n",
       "genre      1198\n",
       "city          0\n",
       "time          0\n",
       "day           0\n",
       "dtype: int64"
      ]
     },
     "execution_count": 8,
     "metadata": {},
     "output_type": "execute_result"
    }
   ],
   "source": [
    "df.isna().sum()"
   ]
  },
  {
   "cell_type": "markdown",
   "metadata": {
    "id": "qubhgnlO_Zct"
   },
   "source": [
    "Не все пропущенные значения влияют на исследование. Так в `track` и `artist` пропуски не важны для вашей работы. Достаточно заменить их явными обозначениями.\n",
    "\n",
    "Но пропуски в `genre` могут помешать сравнению музыкальных вкусов в Москве и Санкт-Петербурге. На практике было бы правильно установить причину пропусков и восстановить данные. Такой возможности нет в учебном проекте. Придётся:\n",
    "* заполнить и эти пропуски явными обозначениями,\n",
    "* оценить, насколько они повредят расчётам. "
   ]
  },
  {
   "cell_type": "markdown",
   "metadata": {
    "id": "fSv2laPA_Zct"
   },
   "source": [
    "Замените пропущенные значения в столбцах `track`, `artist` и `genre` на строку `'unknown'`. Для этого создайте список `columns_to_replace`, переберите его элементы циклом `for` и для каждого столбца выполните замену пропущенных значений:"
   ]
  },
  {
   "cell_type": "code",
   "execution_count": 9,
   "metadata": {
    "id": "KplB5qWs_Zct"
   },
   "outputs": [],
   "source": [
    "columns_to_replace = ['track', 'artist', 'genre']\n",
    "for col in columns_to_replace:\n",
    "    df[col] = df[col].fillna('unknown')"
   ]
  },
  {
   "cell_type": "markdown",
   "metadata": {
    "id": "Ilsm-MZo_Zct"
   },
   "source": [
    "Убедитесь, что в таблице не осталось пропусков. Для этого ещё раз посчитайте пропущенные значения."
   ]
  },
  {
   "cell_type": "code",
   "execution_count": 10,
   "metadata": {
    "id": "Tq4nYRX4_Zct"
   },
   "outputs": [
    {
     "data": {
      "text/plain": [
       "user_id    0\n",
       "track      0\n",
       "artist     0\n",
       "genre      0\n",
       "city       0\n",
       "time       0\n",
       "day        0\n",
       "dtype: int64"
      ]
     },
     "execution_count": 10,
     "metadata": {},
     "output_type": "execute_result"
    }
   ],
   "source": [
    "df.isna().sum()"
   ]
  },
  {
   "cell_type": "markdown",
   "metadata": {
    "id": "BWKRtBJ3_Zct"
   },
   "source": [
    "### Дубликаты\n",
    "Посчитайте явные дубликаты в таблице одной командой:"
   ]
  },
  {
   "cell_type": "code",
   "execution_count": 11,
   "metadata": {
    "id": "36eES_S0_Zct"
   },
   "outputs": [
    {
     "data": {
      "text/plain": [
       "3826"
      ]
     },
     "execution_count": 11,
     "metadata": {},
     "output_type": "execute_result"
    }
   ],
   "source": [
    "df.duplicated().sum()"
   ]
  },
  {
   "cell_type": "markdown",
   "metadata": {
    "id": "Ot25h6XR_Zct"
   },
   "source": [
    "Вызовите специальный метод `pandas`, чтобы удалить явные дубликаты:"
   ]
  },
  {
   "cell_type": "code",
   "execution_count": 12,
   "metadata": {
    "id": "exFHq6tt_Zct"
   },
   "outputs": [],
   "source": [
    "df = df.drop_duplicates().reset_index(drop=True)"
   ]
  },
  {
   "cell_type": "markdown",
   "metadata": {
    "id": "Im2YwBEG_Zct"
   },
   "source": [
    "Ещё раз посчитайте явные дубликаты в таблице — убедитесь, что полностью от них избавились:"
   ]
  },
  {
   "cell_type": "code",
   "execution_count": 13,
   "metadata": {
    "id": "-8PuNWQ0_Zct"
   },
   "outputs": [
    {
     "data": {
      "text/plain": [
       "0"
      ]
     },
     "execution_count": 13,
     "metadata": {},
     "output_type": "execute_result"
    }
   ],
   "source": [
    "df.duplicated().sum()"
   ]
  },
  {
   "cell_type": "markdown",
   "metadata": {
    "id": "QlFBsxAr_Zct"
   },
   "source": [
    "Теперь избавьтесь от неявных дубликатов в колонке `genre`. Например, название одного и того же жанра может быть записано немного по-разному. Такие ошибки тоже повлияют на результат исследования."
   ]
  },
  {
   "cell_type": "markdown",
   "metadata": {
    "id": "eSjWwsOh_Zct"
   },
   "source": [
    "Выведите на экран список уникальных названий жанров, отсортированный в алфавитном порядке. Для этого:\n",
    "* извлеките нужный столбец датафрейма, \n",
    "* примените к нему метод сортировки,\n",
    "* для отсортированного столбца вызовите метод, который вернёт уникальные значения из столбца."
   ]
  },
  {
   "cell_type": "code",
   "execution_count": 14,
   "metadata": {
    "id": "JIUcqzZN_Zct"
   },
   "outputs": [
    {
     "data": {
      "text/plain": [
       "array(['acid', 'acoustic', 'action', 'adult', 'africa', 'afrikaans',\n",
       "       'alternative', 'alternativepunk', 'ambient', 'americana',\n",
       "       'animated', 'anime', 'arabesk', 'arabic', 'arena',\n",
       "       'argentinetango', 'art', 'audiobook', 'author', 'avantgarde',\n",
       "       'axé', 'baile', 'balkan', 'beats', 'bigroom', 'black', 'bluegrass',\n",
       "       'blues', 'bollywood', 'bossa', 'brazilian', 'breakbeat', 'breaks',\n",
       "       'broadway', 'cantautori', 'cantopop', 'canzone', 'caribbean',\n",
       "       'caucasian', 'celtic', 'chamber', 'chanson', 'children', 'chill',\n",
       "       'chinese', 'choral', 'christian', 'christmas', 'classical',\n",
       "       'classicmetal', 'club', 'colombian', 'comedy', 'conjazz',\n",
       "       'contemporary', 'country', 'cuban', 'dance', 'dancehall',\n",
       "       'dancepop', 'dark', 'death', 'deep', 'deutschrock', 'deutschspr',\n",
       "       'dirty', 'disco', 'dnb', 'documentary', 'downbeat', 'downtempo',\n",
       "       'drum', 'dub', 'dubstep', 'eastern', 'easy', 'electronic',\n",
       "       'electropop', 'emo', 'entehno', 'epicmetal', 'estrada', 'ethnic',\n",
       "       'eurofolk', 'european', 'experimental', 'extrememetal', 'fado',\n",
       "       'fairytail', 'film', 'fitness', 'flamenco', 'folk', 'folklore',\n",
       "       'folkmetal', 'folkrock', 'folktronica', 'forró', 'frankreich',\n",
       "       'französisch', 'french', 'funk', 'future', 'gangsta', 'garage',\n",
       "       'german', 'ghazal', 'gitarre', 'glitch', 'gospel', 'gothic',\n",
       "       'grime', 'grunge', 'gypsy', 'handsup', \"hard'n'heavy\", 'hardcore',\n",
       "       'hardstyle', 'hardtechno', 'hip', 'hip-hop', 'hiphop',\n",
       "       'historisch', 'holiday', 'hop', 'horror', 'house', 'hymn', 'idm',\n",
       "       'independent', 'indian', 'indie', 'indipop', 'industrial',\n",
       "       'inspirational', 'instrumental', 'international', 'irish', 'jam',\n",
       "       'japanese', 'jazz', 'jewish', 'jpop', 'jungle', 'k-pop',\n",
       "       'karadeniz', 'karaoke', 'kayokyoku', 'korean', 'laiko', 'latin',\n",
       "       'latino', 'leftfield', 'local', 'lounge', 'loungeelectronic',\n",
       "       'lovers', 'malaysian', 'mandopop', 'marschmusik', 'meditative',\n",
       "       'mediterranean', 'melodic', 'metal', 'metalcore', 'mexican',\n",
       "       'middle', 'minimal', 'miscellaneous', 'modern', 'mood', 'mpb',\n",
       "       'muslim', 'native', 'neoklassik', 'neue', 'new', 'newage',\n",
       "       'newwave', 'nu', 'nujazz', 'numetal', 'oceania', 'old', 'opera',\n",
       "       'orchestral', 'other', 'piano', 'podcasts', 'pop', 'popdance',\n",
       "       'popelectronic', 'popeurodance', 'poprussian', 'post',\n",
       "       'posthardcore', 'postrock', 'power', 'progmetal', 'progressive',\n",
       "       'psychedelic', 'punjabi', 'punk', 'quebecois', 'ragga', 'ram',\n",
       "       'rancheras', 'rap', 'rave', 'reggae', 'reggaeton', 'regional',\n",
       "       'relax', 'religious', 'retro', 'rhythm', 'rnb', 'rnr', 'rock',\n",
       "       'rockabilly', 'rockalternative', 'rockindie', 'rockother',\n",
       "       'romance', 'roots', 'ruspop', 'rusrap', 'rusrock', 'russian',\n",
       "       'salsa', 'samba', 'scenic', 'schlager', 'self', 'sertanejo',\n",
       "       'shanson', 'shoegazing', 'showtunes', 'singer', 'ska', 'skarock',\n",
       "       'slow', 'smooth', 'soft', 'soul', 'soulful', 'sound', 'soundtrack',\n",
       "       'southern', 'specialty', 'speech', 'spiritual', 'sport',\n",
       "       'stonerrock', 'surf', 'swing', 'synthpop', 'synthrock',\n",
       "       'sängerportrait', 'tango', 'tanzorchester', 'taraftar', 'tatar',\n",
       "       'tech', 'techno', 'teen', 'thrash', 'top', 'traditional',\n",
       "       'tradjazz', 'trance', 'tribal', 'trip', 'triphop', 'tropical',\n",
       "       'türk', 'türkçe', 'ukrrock', 'unknown', 'urban', 'uzbek',\n",
       "       'variété', 'vi', 'videogame', 'vocal', 'western', 'world',\n",
       "       'worldbeat', 'ïîï', 'электроника'], dtype=object)"
      ]
     },
     "execution_count": 14,
     "metadata": {},
     "output_type": "execute_result"
    }
   ],
   "source": [
    "df['genre'].sort_values().unique()"
   ]
  },
  {
   "cell_type": "markdown",
   "metadata": {
    "id": "qej-Qmuo_Zct"
   },
   "source": [
    "Просмотрите список и найдите неявные дубликаты названия `hiphop`. Это могут быть названия с ошибками или альтернативные названия того же жанра.\n",
    "\n",
    "Вы увидите следующие неявные дубликаты:\n",
    "* *hip*,\n",
    "* *hop*,\n",
    "* *hip-hop*.\n",
    "\n",
    "Чтобы очистить от них таблицу, напишите функцию `replace_wrong_genres()` с двумя параметрами: \n",
    "* `wrong_genres` — список дубликатов,\n",
    "* `correct_genre` — строка с правильным значением.\n",
    "\n",
    "Функция должна исправить колонку `genre` в таблице `df`: заменить каждое значение из списка `wrong_genres` на значение из `correct_genre`."
   ]
  },
  {
   "cell_type": "code",
   "execution_count": 15,
   "metadata": {
    "id": "ErNDkmns_Zct"
   },
   "outputs": [],
   "source": [
    "def replace_wrong_genres(wrong_genres,correct_genre):\n",
    "    df['genre'] = df['genre'].replace(wrong_genres,correct_genre)\n",
    "    return wrong_genres,correct_genre"
   ]
  },
  {
   "cell_type": "markdown",
   "metadata": {
    "id": "aDoBJxbA_Zct"
   },
   "source": [
    "Вызовите `replace_wrong_genres()` и передайте ей такие аргументы, чтобы она устранила неявные дубликаты: вместо `hip`, `hop` и `hip-hop` в таблице должно быть значение `hiphop`:"
   ]
  },
  {
   "cell_type": "code",
   "execution_count": 16,
   "metadata": {
    "id": "YN5i2hpmSo09"
   },
   "outputs": [
    {
     "data": {
      "text/plain": [
       "(['hip', 'hop', 'hip-hop'], 'hiphop')"
      ]
     },
     "execution_count": 16,
     "metadata": {},
     "output_type": "execute_result"
    }
   ],
   "source": [
    "replace_wrong_genres(['hip', 'hop', 'hip-hop'], 'hiphop')"
   ]
  },
  {
   "cell_type": "markdown",
   "metadata": {
    "id": "zQKF16_RG15m"
   },
   "source": [
    "Проверьте, что заменили неправильные названия:\n",
    "\n",
    "*   hip\n",
    "*   hop\n",
    "*   hip-hop\n",
    "\n",
    "Выведите отсортированный список уникальных значений столбца `genre`:"
   ]
  },
  {
   "cell_type": "code",
   "execution_count": 17,
   "metadata": {
    "id": "wvixALnFG15m"
   },
   "outputs": [
    {
     "data": {
      "text/plain": [
       "['acid',\n",
       " 'acoustic',\n",
       " 'action',\n",
       " 'adult',\n",
       " 'africa',\n",
       " 'afrikaans',\n",
       " 'alternative',\n",
       " 'alternativepunk',\n",
       " 'ambient',\n",
       " 'americana',\n",
       " 'animated',\n",
       " 'anime',\n",
       " 'arabesk',\n",
       " 'arabic',\n",
       " 'arena',\n",
       " 'argentinetango',\n",
       " 'art',\n",
       " 'audiobook',\n",
       " 'author',\n",
       " 'avantgarde',\n",
       " 'axé',\n",
       " 'baile',\n",
       " 'balkan',\n",
       " 'beats',\n",
       " 'bigroom',\n",
       " 'black',\n",
       " 'bluegrass',\n",
       " 'blues',\n",
       " 'bollywood',\n",
       " 'bossa',\n",
       " 'brazilian',\n",
       " 'breakbeat',\n",
       " 'breaks',\n",
       " 'broadway',\n",
       " 'cantautori',\n",
       " 'cantopop',\n",
       " 'canzone',\n",
       " 'caribbean',\n",
       " 'caucasian',\n",
       " 'celtic',\n",
       " 'chamber',\n",
       " 'chanson',\n",
       " 'children',\n",
       " 'chill',\n",
       " 'chinese',\n",
       " 'choral',\n",
       " 'christian',\n",
       " 'christmas',\n",
       " 'classical',\n",
       " 'classicmetal',\n",
       " 'club',\n",
       " 'colombian',\n",
       " 'comedy',\n",
       " 'conjazz',\n",
       " 'contemporary',\n",
       " 'country',\n",
       " 'cuban',\n",
       " 'dance',\n",
       " 'dancehall',\n",
       " 'dancepop',\n",
       " 'dark',\n",
       " 'death',\n",
       " 'deep',\n",
       " 'deutschrock',\n",
       " 'deutschspr',\n",
       " 'dirty',\n",
       " 'disco',\n",
       " 'dnb',\n",
       " 'documentary',\n",
       " 'downbeat',\n",
       " 'downtempo',\n",
       " 'drum',\n",
       " 'dub',\n",
       " 'dubstep',\n",
       " 'eastern',\n",
       " 'easy',\n",
       " 'electronic',\n",
       " 'electropop',\n",
       " 'emo',\n",
       " 'entehno',\n",
       " 'epicmetal',\n",
       " 'estrada',\n",
       " 'ethnic',\n",
       " 'eurofolk',\n",
       " 'european',\n",
       " 'experimental',\n",
       " 'extrememetal',\n",
       " 'fado',\n",
       " 'fairytail',\n",
       " 'film',\n",
       " 'fitness',\n",
       " 'flamenco',\n",
       " 'folk',\n",
       " 'folklore',\n",
       " 'folkmetal',\n",
       " 'folkrock',\n",
       " 'folktronica',\n",
       " 'forró',\n",
       " 'frankreich',\n",
       " 'französisch',\n",
       " 'french',\n",
       " 'funk',\n",
       " 'future',\n",
       " 'gangsta',\n",
       " 'garage',\n",
       " 'german',\n",
       " 'ghazal',\n",
       " 'gitarre',\n",
       " 'glitch',\n",
       " 'gospel',\n",
       " 'gothic',\n",
       " 'grime',\n",
       " 'grunge',\n",
       " 'gypsy',\n",
       " 'handsup',\n",
       " \"hard'n'heavy\",\n",
       " 'hardcore',\n",
       " 'hardstyle',\n",
       " 'hardtechno',\n",
       " 'hiphop',\n",
       " 'historisch',\n",
       " 'holiday',\n",
       " 'horror',\n",
       " 'house',\n",
       " 'hymn',\n",
       " 'idm',\n",
       " 'independent',\n",
       " 'indian',\n",
       " 'indie',\n",
       " 'indipop',\n",
       " 'industrial',\n",
       " 'inspirational',\n",
       " 'instrumental',\n",
       " 'international',\n",
       " 'irish',\n",
       " 'jam',\n",
       " 'japanese',\n",
       " 'jazz',\n",
       " 'jewish',\n",
       " 'jpop',\n",
       " 'jungle',\n",
       " 'k-pop',\n",
       " 'karadeniz',\n",
       " 'karaoke',\n",
       " 'kayokyoku',\n",
       " 'korean',\n",
       " 'laiko',\n",
       " 'latin',\n",
       " 'latino',\n",
       " 'leftfield',\n",
       " 'local',\n",
       " 'lounge',\n",
       " 'loungeelectronic',\n",
       " 'lovers',\n",
       " 'malaysian',\n",
       " 'mandopop',\n",
       " 'marschmusik',\n",
       " 'meditative',\n",
       " 'mediterranean',\n",
       " 'melodic',\n",
       " 'metal',\n",
       " 'metalcore',\n",
       " 'mexican',\n",
       " 'middle',\n",
       " 'minimal',\n",
       " 'miscellaneous',\n",
       " 'modern',\n",
       " 'mood',\n",
       " 'mpb',\n",
       " 'muslim',\n",
       " 'native',\n",
       " 'neoklassik',\n",
       " 'neue',\n",
       " 'new',\n",
       " 'newage',\n",
       " 'newwave',\n",
       " 'nu',\n",
       " 'nujazz',\n",
       " 'numetal',\n",
       " 'oceania',\n",
       " 'old',\n",
       " 'opera',\n",
       " 'orchestral',\n",
       " 'other',\n",
       " 'piano',\n",
       " 'podcasts',\n",
       " 'pop',\n",
       " 'popdance',\n",
       " 'popelectronic',\n",
       " 'popeurodance',\n",
       " 'poprussian',\n",
       " 'post',\n",
       " 'posthardcore',\n",
       " 'postrock',\n",
       " 'power',\n",
       " 'progmetal',\n",
       " 'progressive',\n",
       " 'psychedelic',\n",
       " 'punjabi',\n",
       " 'punk',\n",
       " 'quebecois',\n",
       " 'ragga',\n",
       " 'ram',\n",
       " 'rancheras',\n",
       " 'rap',\n",
       " 'rave',\n",
       " 'reggae',\n",
       " 'reggaeton',\n",
       " 'regional',\n",
       " 'relax',\n",
       " 'religious',\n",
       " 'retro',\n",
       " 'rhythm',\n",
       " 'rnb',\n",
       " 'rnr',\n",
       " 'rock',\n",
       " 'rockabilly',\n",
       " 'rockalternative',\n",
       " 'rockindie',\n",
       " 'rockother',\n",
       " 'romance',\n",
       " 'roots',\n",
       " 'ruspop',\n",
       " 'rusrap',\n",
       " 'rusrock',\n",
       " 'russian',\n",
       " 'salsa',\n",
       " 'samba',\n",
       " 'scenic',\n",
       " 'schlager',\n",
       " 'self',\n",
       " 'sertanejo',\n",
       " 'shanson',\n",
       " 'shoegazing',\n",
       " 'showtunes',\n",
       " 'singer',\n",
       " 'ska',\n",
       " 'skarock',\n",
       " 'slow',\n",
       " 'smooth',\n",
       " 'soft',\n",
       " 'soul',\n",
       " 'soulful',\n",
       " 'sound',\n",
       " 'soundtrack',\n",
       " 'southern',\n",
       " 'specialty',\n",
       " 'speech',\n",
       " 'spiritual',\n",
       " 'sport',\n",
       " 'stonerrock',\n",
       " 'surf',\n",
       " 'swing',\n",
       " 'synthpop',\n",
       " 'synthrock',\n",
       " 'sängerportrait',\n",
       " 'tango',\n",
       " 'tanzorchester',\n",
       " 'taraftar',\n",
       " 'tatar',\n",
       " 'tech',\n",
       " 'techno',\n",
       " 'teen',\n",
       " 'thrash',\n",
       " 'top',\n",
       " 'traditional',\n",
       " 'tradjazz',\n",
       " 'trance',\n",
       " 'tribal',\n",
       " 'trip',\n",
       " 'triphop',\n",
       " 'tropical',\n",
       " 'türk',\n",
       " 'türkçe',\n",
       " 'ukrrock',\n",
       " 'unknown',\n",
       " 'urban',\n",
       " 'uzbek',\n",
       " 'variété',\n",
       " 'vi',\n",
       " 'videogame',\n",
       " 'vocal',\n",
       " 'western',\n",
       " 'world',\n",
       " 'worldbeat',\n",
       " 'ïîï',\n",
       " 'электроника']"
      ]
     },
     "metadata": {},
     "output_type": "display_data"
    }
   ],
   "source": [
    "display(sorted(df['genre'].unique()))# Проверка на неявные дубликаты"
   ]
  },
  {
   "cell_type": "markdown",
   "metadata": {
    "id": "jz6a9-7HQUDd"
   },
   "source": [
    "**Выводы**\n",
    "\n",
    "Предобработка обнаружила три проблемы в данных:\n",
    "\n",
    "- нарушения в стиле заголовков,\n",
    "- пропущенные значения,\n",
    "- дубликаты — явные и неявные.\n",
    "\n",
    "Вы исправили заголовки, чтобы упростить работу с таблицей. Без дубликатов исследование станет более точным.\n",
    "\n",
    "Пропущенные значения вы заменили на `'unknown'`. Ещё предстоит увидеть, не повредят ли исследованию пропуски в колонке `genre`.\n",
    "\n",
    "Теперь можно перейти к проверке гипотез. "
   ]
  },
  {
   "cell_type": "markdown",
   "metadata": {
    "id": "WttZHXH0SqKk"
   },
   "source": [
    "## Проверка гипотез"
   ]
  },
  {
   "cell_type": "markdown",
   "metadata": {
    "id": "Im936VVi_Zcu"
   },
   "source": [
    "### Сравнение поведения пользователей двух столиц"
   ]
  },
  {
   "cell_type": "markdown",
   "metadata": {
    "id": "nwt_MuaL_Zcu"
   },
   "source": [
    "Первая гипотеза утверждает, что пользователи по-разному слушают музыку в Москве и Санкт-Петербурге. Проверьте это предположение по данным о трёх днях недели — понедельнике, среде и пятнице. Для этого:\n",
    "\n",
    "* Разделите пользователей Москвы и Санкт-Петербурга\n",
    "* Сравните, сколько треков послушала каждая группа пользователей в понедельник, среду и пятницу.\n"
   ]
  },
  {
   "cell_type": "markdown",
   "metadata": {
    "id": "8Dw_YMmT_Zcu"
   },
   "source": [
    "Для тренировки сначала выполните каждый из расчётов по отдельности. \n",
    "\n",
    "Оцените активность пользователей в каждом городе. Сгруппируйте данные по городу и посчитайте прослушивания в каждой группе.\n",
    "\n"
   ]
  },
  {
   "cell_type": "code",
   "execution_count": 18,
   "metadata": {
    "id": "0_Qs96oh_Zcu"
   },
   "outputs": [
    {
     "data": {
      "text/plain": [
       "['Moscow', 'Saint-Petersburg']"
      ]
     },
     "metadata": {},
     "output_type": "display_data"
    },
    {
     "name": "stdout",
     "output_type": "stream",
     "text": [
      "Прослушиваний в Москве:42741\n",
      "Прослушиваний в Санкт-Петербурге:18512\n"
     ]
    }
   ],
   "source": [
    "display(sorted(df['city'].unique()))\n",
    "moscow_count = df[df['city'] == 'Moscow']['city'].count()\n",
    "print('Прослушиваний в Москве', moscow_count, sep=':')\n",
    "piter_count = df[df['city'] == 'Saint-Petersburg']['city'].count()\n",
    "print('Прослушиваний в Санкт-Петербурге', piter_count, sep =':')"
   ]
  },
  {
   "cell_type": "markdown",
   "metadata": {
    "id": "dzli3w8o_Zcu"
   },
   "source": [
    "В Москве прослушиваний больше, чем в Петербурге. Из этого не следует, что московские пользователи чаще слушают музыку. Просто самих пользователей в Москве больше.\n",
    "\n",
    "Теперь сгруппируйте данные по дню недели и подсчитайте прослушивания в понедельник, среду и пятницу. Учтите, что в данных есть информация только о прослушиваниях только за эти дни.\n"
   ]
  },
  {
   "cell_type": "code",
   "execution_count": 19,
   "metadata": {
    "id": "uZMKjiJz_Zcu"
   },
   "outputs": [
    {
     "data": {
      "text/plain": [
       "day\n",
       "Friday       21840\n",
       "Monday       21354\n",
       "Wednesday    18059\n",
       "Name: genre, dtype: int64"
      ]
     },
     "execution_count": 19,
     "metadata": {},
     "output_type": "execute_result"
    }
   ],
   "source": [
    "df.groupby('day')['genre'].count()"
   ]
  },
  {
   "cell_type": "markdown",
   "metadata": {
    "id": "cC2tNrlL_Zcu"
   },
   "source": [
    "В среднем пользователи из двух городов менее активны по средам. Но картина может измениться, если рассмотреть каждый город в отдельности."
   ]
  },
  {
   "cell_type": "markdown",
   "metadata": {
    "id": "POzs8bGa_Zcu"
   },
   "source": [
    "Вы видели, как работает группировка по городу и по дням недели. Теперь напишите функцию, которая объединит два эти расчёта.\n",
    "\n",
    "Создайте функцию `number_tracks()`, которая посчитает прослушивания для заданного дня и города. Ей понадобятся два параметра:\n",
    "* день недели,\n",
    "* название города.\n",
    "\n",
    "В функции сохраните в переменную строки исходной таблицы, у которых значение:\n",
    "  * в колонке `day` равно параметру `day`,\n",
    "  * в колонке `city` равно параметру `city`.\n",
    "\n",
    "Для этого примените последовательную фильтрацию с логической индексацией.\n",
    "\n",
    "Затем посчитайте значения в столбце `user_id` получившейся таблицы. Результат сохраните в новую переменную. Верните эту переменную из функции."
   ]
  },
  {
   "cell_type": "code",
   "execution_count": 20,
   "metadata": {
    "id": "Nz3GdQB1_Zcu"
   },
   "outputs": [],
   "source": [
    "def number_tracks(day, city):\n",
    "    track_list = df[df['day'] == day] \n",
    "    track_list = track_list[track_list['city'] == city]\n",
    "    track_list_count = track_list['user_id'].count()\n",
    "    return track_list_count"
   ]
  },
  {
   "cell_type": "markdown",
   "metadata": {
    "id": "ytf7xFrFJQ2r"
   },
   "source": [
    "Вызовите `number_tracks()` шесть раз, меняя значение параметров — так, чтобы получить данные для каждого города в каждый из трёх дней."
   ]
  },
  {
   "cell_type": "code",
   "execution_count": 21,
   "metadata": {
    "id": "rJcRATNQ_Zcu"
   },
   "outputs": [
    {
     "data": {
      "text/plain": [
       "15740"
      ]
     },
     "execution_count": 21,
     "metadata": {},
     "output_type": "execute_result"
    }
   ],
   "source": [
    "number_tracks('Monday', 'Moscow')"
   ]
  },
  {
   "cell_type": "code",
   "execution_count": 22,
   "metadata": {
    "id": "hq_ncZ5T_Zcu"
   },
   "outputs": [
    {
     "data": {
      "text/plain": [
       "5614"
      ]
     },
     "execution_count": 22,
     "metadata": {},
     "output_type": "execute_result"
    }
   ],
   "source": [
    "number_tracks('Monday', 'Saint-Petersburg')"
   ]
  },
  {
   "cell_type": "code",
   "execution_count": 23,
   "metadata": {
    "id": "_NTy2VPU_Zcu"
   },
   "outputs": [
    {
     "data": {
      "text/plain": [
       "11056"
      ]
     },
     "execution_count": 23,
     "metadata": {},
     "output_type": "execute_result"
    }
   ],
   "source": [
    "number_tracks('Wednesday', 'Moscow')"
   ]
  },
  {
   "cell_type": "code",
   "execution_count": 24,
   "metadata": {
    "id": "j2y3TAwo_Zcu"
   },
   "outputs": [
    {
     "data": {
      "text/plain": [
       "7003"
      ]
     },
     "execution_count": 24,
     "metadata": {},
     "output_type": "execute_result"
    }
   ],
   "source": [
    "number_tracks('Wednesday', 'Saint-Petersburg')"
   ]
  },
  {
   "cell_type": "code",
   "execution_count": 25,
   "metadata": {
    "id": "vYDw5u_K_Zcu"
   },
   "outputs": [
    {
     "data": {
      "text/plain": [
       "15945"
      ]
     },
     "execution_count": 25,
     "metadata": {},
     "output_type": "execute_result"
    }
   ],
   "source": [
    "number_tracks('Friday', 'Moscow')"
   ]
  },
  {
   "cell_type": "code",
   "execution_count": 26,
   "metadata": {
    "id": "8_yzFtW3_Zcu"
   },
   "outputs": [
    {
     "data": {
      "text/plain": [
       "5895"
      ]
     },
     "execution_count": 26,
     "metadata": {},
     "output_type": "execute_result"
    }
   ],
   "source": [
    "number_tracks('Friday', 'Saint-Petersburg')"
   ]
  },
  {
   "cell_type": "markdown",
   "metadata": {
    "id": "7QXffbO-_Zcu"
   },
   "source": [
    "Создайте c помощью конструктора `pd.DataFrame` таблицу, где\n",
    "* названия колонок — `['city', 'monday', 'wednesday', 'friday']`;\n",
    "* данные — результаты, которые вы получили с помощью `number_tracks`."
   ]
  },
  {
   "cell_type": "code",
   "execution_count": 27,
   "metadata": {
    "id": "APAcLpOr_Zcu"
   },
   "outputs": [
    {
     "data": {
      "text/html": [
       "<div>\n",
       "<style scoped>\n",
       "    .dataframe tbody tr th:only-of-type {\n",
       "        vertical-align: middle;\n",
       "    }\n",
       "\n",
       "    .dataframe tbody tr th {\n",
       "        vertical-align: top;\n",
       "    }\n",
       "\n",
       "    .dataframe thead th {\n",
       "        text-align: right;\n",
       "    }\n",
       "</style>\n",
       "<table border=\"1\" class=\"dataframe\">\n",
       "  <thead>\n",
       "    <tr style=\"text-align: right;\">\n",
       "      <th></th>\n",
       "      <th>city</th>\n",
       "      <th>monday</th>\n",
       "      <th>wednesday</th>\n",
       "      <th>friday</th>\n",
       "    </tr>\n",
       "  </thead>\n",
       "  <tbody>\n",
       "    <tr>\n",
       "      <th>0</th>\n",
       "      <td>Moscow</td>\n",
       "      <td>15740</td>\n",
       "      <td>11056</td>\n",
       "      <td>15945</td>\n",
       "    </tr>\n",
       "    <tr>\n",
       "      <th>1</th>\n",
       "      <td>Saint-Petersburg</td>\n",
       "      <td>5614</td>\n",
       "      <td>7003</td>\n",
       "      <td>5895</td>\n",
       "    </tr>\n",
       "  </tbody>\n",
       "</table>\n",
       "</div>"
      ],
      "text/plain": [
       "               city  monday  wednesday  friday\n",
       "0            Moscow   15740      11056   15945\n",
       "1  Saint-Petersburg    5614       7003    5895"
      ]
     },
     "metadata": {},
     "output_type": "display_data"
    }
   ],
   "source": [
    "data = [['Moscow', 15740, 11056, 15945],\n",
    "     ['Saint-Petersburg', 5614, 7003, 5895]]\n",
    "columns = ['city', 'monday', 'wednesday', 'friday']\n",
    "table = pd.DataFrame(data = data, columns = columns)\n",
    "display(table)"
   ]
  },
  {
   "cell_type": "markdown",
   "metadata": {
    "id": "-EgPIHYu_Zcu"
   },
   "source": [
    "**Выводы**\n",
    "\n",
    "Данные показывают разницу поведения пользователей:\n",
    "\n",
    "- В Москве пик прослушиваний приходится на понедельник и пятницу, а в среду заметен спад.\n",
    "- В Петербурге, наоборот, больше слушают музыку по средам. Активность в понедельник и пятницу здесь почти в равной мере уступает среде.\n",
    "\n",
    "Значит, данные говорят в пользу первой гипотезы."
   ]
  },
  {
   "cell_type": "markdown",
   "metadata": {
    "id": "atZAxtq4_Zcu"
   },
   "source": [
    "### Музыка в начале и в конце недели"
   ]
  },
  {
   "cell_type": "markdown",
   "metadata": {
    "id": "eXrQqXFH_Zcu"
   },
   "source": [
    "Согласно второй гипотезе, утром в понедельник в Москве преобладают одни жанры, а в Петербурге — другие. Так же и вечером пятницы преобладают разные жанры — в зависимости от города."
   ]
  },
  {
   "cell_type": "markdown",
   "metadata": {
    "id": "S8UcW6Hw_Zcu"
   },
   "source": [
    "Сохраните таблицы с данными в две переменные:\n",
    "* по Москве — в `moscow_general`;\n",
    "* по Санкт-Петербургу — в `spb_general`."
   ]
  },
  {
   "cell_type": "code",
   "execution_count": 28,
   "metadata": {
    "id": "qeaFfM_P_Zcu"
   },
   "outputs": [],
   "source": [
    "moscow_general = df[df['city'] == 'Moscow']"
   ]
  },
  {
   "cell_type": "code",
   "execution_count": 29,
   "metadata": {
    "id": "ORaVRKto_Zcu"
   },
   "outputs": [],
   "source": [
    "spb_general = df[df['city'] == 'Saint-Petersburg']"
   ]
  },
  {
   "cell_type": "markdown",
   "metadata": {
    "id": "MEJV-CX2_Zcu"
   },
   "source": [
    "Создайте функцию `genre_weekday()` с четырьмя параметрами:\n",
    "* таблица (датафрейм) с данными,\n",
    "* день недели,\n",
    "* начальная временная метка в формате 'hh:mm', \n",
    "* последняя временная метка в формате 'hh:mm'.\n",
    "\n",
    "Функция должна вернуть информацию о топ-10 жанров тех треков, которые прослушивали в указанный день, в промежутке между двумя отметками времени."
   ]
  },
  {
   "cell_type": "code",
   "execution_count": 30,
   "metadata": {
    "id": "laJT9BYl_Zcu"
   },
   "outputs": [],
   "source": [
    "def genre_weekday(table, day, time1, time2):\n",
    "    genre_df = table[table['day'] == day]\n",
    "    genre_df = genre_df[genre_df['time'] > time1] \n",
    "    genre_df = genre_df[genre_df['time'] < time2]\n",
    "    genre_df_count = genre_df.groupby('genre')['genre'].count()\n",
    "    genre_df_sorted = genre_df_count.sort_values(ascending = False)\n",
    "    return genre_df_sorted.head(10)"
   ]
  },
  {
   "cell_type": "markdown",
   "metadata": {
    "id": "la2s2_PF_Zcu"
   },
   "source": [
    "Cравните результаты функции `genre_weekday()` для Москвы и Санкт-Петербурга в понедельник утром (с 7:00 до 11:00) и в пятницу вечером (с 17:00 до 23:00):"
   ]
  },
  {
   "cell_type": "code",
   "execution_count": 31,
   "metadata": {
    "id": "yz7itPUQ_Zcu"
   },
   "outputs": [
    {
     "data": {
      "text/plain": [
       "genre\n",
       "pop            781\n",
       "dance          549\n",
       "electronic     480\n",
       "rock           474\n",
       "hiphop         286\n",
       "ruspop         186\n",
       "world          181\n",
       "rusrap         175\n",
       "alternative    164\n",
       "unknown        161\n",
       "Name: genre, dtype: int64"
      ]
     },
     "execution_count": 31,
     "metadata": {},
     "output_type": "execute_result"
    }
   ],
   "source": [
    "genre_weekday(moscow_general, 'Monday', '07:00', '11:00')"
   ]
  },
  {
   "cell_type": "code",
   "execution_count": 32,
   "metadata": {
    "id": "kwUcHPdy_Zcu"
   },
   "outputs": [
    {
     "data": {
      "text/plain": [
       "genre\n",
       "pop            218\n",
       "dance          182\n",
       "rock           162\n",
       "electronic     147\n",
       "hiphop          80\n",
       "ruspop          64\n",
       "alternative     58\n",
       "rusrap          55\n",
       "jazz            44\n",
       "classical       40\n",
       "Name: genre, dtype: int64"
      ]
     },
     "execution_count": 32,
     "metadata": {},
     "output_type": "execute_result"
    }
   ],
   "source": [
    "genre_weekday(spb_general, 'Monday', '07:00', '11:00')"
   ]
  },
  {
   "cell_type": "code",
   "execution_count": 33,
   "metadata": {
    "id": "EzXVRE1o_Zcu"
   },
   "outputs": [
    {
     "data": {
      "text/plain": [
       "genre\n",
       "pop            713\n",
       "rock           517\n",
       "dance          495\n",
       "electronic     482\n",
       "hiphop         273\n",
       "world          208\n",
       "ruspop         170\n",
       "alternative    163\n",
       "classical      163\n",
       "rusrap         142\n",
       "Name: genre, dtype: int64"
      ]
     },
     "execution_count": 33,
     "metadata": {},
     "output_type": "execute_result"
    }
   ],
   "source": [
    "genre_weekday(moscow_general, 'Friday', '17:00', '23:00')"
   ]
  },
  {
   "cell_type": "code",
   "execution_count": 34,
   "metadata": {
    "id": "JZaEKu5v_Zcu"
   },
   "outputs": [
    {
     "data": {
      "text/plain": [
       "genre\n",
       "pop            256\n",
       "electronic     216\n",
       "rock           216\n",
       "dance          210\n",
       "hiphop          97\n",
       "alternative     63\n",
       "jazz            61\n",
       "classical       60\n",
       "rusrap          59\n",
       "world           54\n",
       "Name: genre, dtype: int64"
      ]
     },
     "execution_count": 34,
     "metadata": {},
     "output_type": "execute_result"
    }
   ],
   "source": [
    "genre_weekday(spb_general, 'Friday', '17:00', '23:00')"
   ]
  },
  {
   "cell_type": "markdown",
   "metadata": {
    "id": "wrCe4MNX_Zcu"
   },
   "source": [
    "**Выводы**\n",
    "\n",
    "Если сравнить топ-10 жанров в понедельник утром, можно сделать такие выводы:\n",
    "\n",
    "1. В Москве и Петербурге слушают похожую музыку. Единственное отличие — в московский рейтинг вошёл жанр “world”, а в петербургский — джаз и классика.\n",
    "\n",
    "2. В Москве пропущенных значений оказалось так много, что значение `'unknown'` заняло десятое место среди самых популярных жанров. Значит, пропущенные значения занимают существенную долю в данных и угрожают достоверности исследования.\n",
    "\n",
    "Вечер пятницы не меняет эту картину. Некоторые жанры поднимаются немного выше, другие спускаются, но в целом топ-10 остаётся тем же самым.\n",
    "\n",
    "Таким образом, вторая гипотеза подтвердилась лишь частично:\n",
    "* Пользователи слушают похожую музыку в начале недели и в конце.\n",
    "* Разница между Москвой и Петербургом не слишком выражена. В Москве чаще слушают русскую популярную музыку, в Петербурге — джаз.\n",
    "\n",
    "Однако пропуски в данных ставят под сомнение этот результат. В Москве их так много, что рейтинг топ-10 мог бы выглядеть иначе, если бы не утерянные  данные о жанрах."
   ]
  },
  {
   "cell_type": "markdown",
   "metadata": {
    "id": "JolODAqr_Zcu"
   },
   "source": [
    "### Жанровые предпочтения в Москве и Петербурге\n",
    "\n",
    "Гипотеза: Петербург — столица рэпа, музыку этого жанра там слушают чаще, чем в Москве.  А Москва — город контрастов, в котором, тем не менее, преобладает поп-музыка."
   ]
  },
  {
   "cell_type": "markdown",
   "metadata": {
    "id": "DlegSvaT_Zcu"
   },
   "source": [
    "Сгруппируйте таблицу `moscow_general` по жанру и посчитайте прослушивания треков каждого жанра методом `count()`. Затем отсортируйте результат в порядке убывания и сохраните его в таблице `moscow_genres`."
   ]
  },
  {
   "cell_type": "code",
   "execution_count": 35,
   "metadata": {
    "id": "r19lIPke_Zcu"
   },
   "outputs": [],
   "source": [
    "moscow_genres = moscow_general.groupby('genre')['genre'].count().sort_values(ascending = False)"
   ]
  },
  {
   "cell_type": "markdown",
   "metadata": {
    "id": "6kMuomxTiIr8"
   },
   "source": [
    "Выведите на экран первые десять строк `moscow_genres`:"
   ]
  },
  {
   "cell_type": "code",
   "execution_count": 36,
   "metadata": {
    "id": "WhCSooF8_Zcv"
   },
   "outputs": [
    {
     "data": {
      "text/plain": [
       "genre\n",
       "pop            5892\n",
       "dance          4435\n",
       "rock           3965\n",
       "electronic     3786\n",
       "hiphop         2096\n",
       "classical      1616\n",
       "world          1432\n",
       "alternative    1379\n",
       "ruspop         1372\n",
       "rusrap         1161\n",
       "Name: genre, dtype: int64"
      ]
     },
     "execution_count": 36,
     "metadata": {},
     "output_type": "execute_result"
    }
   ],
   "source": [
    "moscow_genres.head(10)"
   ]
  },
  {
   "cell_type": "markdown",
   "metadata": {
    "id": "cnPG2vnN_Zcv"
   },
   "source": [
    "Теперь повторите то же и для Петербурга.\n",
    "\n",
    "Сгруппируйте таблицу `spb_general` по жанру. Посчитайте прослушивания треков каждого жанра. Результат отсортируйте в порядке убывания и сохраните в таблице `spb_genres`:\n"
   ]
  },
  {
   "cell_type": "code",
   "execution_count": 37,
   "metadata": {
    "id": "gluLIpE7_Zcv"
   },
   "outputs": [],
   "source": [
    "spb_genres = spb_general.groupby('genre')['genre'].count().sort_values(ascending = False) "
   ]
  },
  {
   "cell_type": "markdown",
   "metadata": {
    "id": "5Doha_ODgyQ8"
   },
   "source": [
    "Выведите на экран первые десять строк `spb_genres`:"
   ]
  },
  {
   "cell_type": "code",
   "execution_count": 38,
   "metadata": {
    "id": "uaGJHjVU_Zcv"
   },
   "outputs": [
    {
     "data": {
      "text/plain": [
       "genre\n",
       "pop            2431\n",
       "dance          1932\n",
       "rock           1879\n",
       "electronic     1736\n",
       "hiphop          960\n",
       "alternative     649\n",
       "classical       646\n",
       "rusrap          564\n",
       "ruspop          538\n",
       "world           515\n",
       "Name: genre, dtype: int64"
      ]
     },
     "execution_count": 38,
     "metadata": {},
     "output_type": "execute_result"
    }
   ],
   "source": [
    "spb_genres.head(10)"
   ]
  },
  {
   "cell_type": "markdown",
   "metadata": {
    "id": "RY51YJYu_Zcv"
   },
   "source": [
    "**Выводы**"
   ]
  },
  {
   "cell_type": "markdown",
   "metadata": {
    "id": "nVhnJEm__Zcv"
   },
   "source": [
    "Гипотеза частично подтвердилась:\n",
    "* Поп-музыка — самый популярный жанр в Москве, как и предполагала гипотеза. Более того, в топ-10 жанров встречается близкий жанр — русская популярная музыка.\n",
    "* Вопреки ожиданиям, рэп одинаково популярен в Москве и Петербурге. \n"
   ]
  },
  {
   "cell_type": "markdown",
   "metadata": {
    "id": "ykKQ0N65_Zcv"
   },
   "source": [
    "## Итоги исследования"
   ]
  },
  {
   "cell_type": "markdown",
   "metadata": {
    "id": "tjUwbHb3_Zcv"
   },
   "source": [
    "Вы проверили три гипотезы и установили:\n",
    "\n",
    "1. День недели по-разному влияет на активность пользователей в Москве и Петербурге. \n",
    "\n",
    "Первая гипотеза полностью подтвердилась.\n",
    "\n",
    "2. Музыкальные предпочтения не сильно меняются в течение недели — будь то Москва или Петербург. Небольшие различия заметны в начале недели, по понедельникам:\n",
    "* в Москве слушают музыку жанра “world”,\n",
    "* в Петербурге — джаз и классику.\n",
    "\n",
    "Таким образом, вторая гипотеза подтвердилась лишь отчасти. Этот результат мог оказаться иным, если бы не пропуски в данных.\n",
    "\n",
    "3. Во вкусах пользователей Москвы и Петербурга больше общего чем различий. Вопреки ожиданиям, предпочтения жанров в Петербурге напоминают московские.\n",
    "\n",
    "Третья гипотеза не подтвердилась. Если различия в предпочтениях и существуют, на основной массе пользователей они незаметны.\n",
    "\n",
    "**На практике исследования содержат проверки статистических гипотез.**\n",
    "Из данных одного сервиса не всегда можно сделать вывод о всех жителях города.\n",
    "Проверки статистических гипотез покажут, насколько они достоверны, исходя из имеющихся данных. \n",
    "С методами проверок гипотез вы ещё познакомитесь в следующих темах."
   ]
  }
 ],
 "metadata": {
  "ExecuteTimeLog": [
   {
    "duration": 695,
    "start_time": "2021-12-18T18:54:23.534Z"
   },
   {
    "duration": 95,
    "start_time": "2021-12-18T18:54:26.647Z"
   },
   {
    "duration": 89,
    "start_time": "2021-12-18T18:54:48.933Z"
   },
   {
    "duration": 341,
    "start_time": "2021-12-18T18:54:58.637Z"
   },
   {
    "duration": 97,
    "start_time": "2021-12-18T18:59:40.545Z"
   },
   {
    "duration": 182,
    "start_time": "2021-12-18T18:59:59.938Z"
   },
   {
    "duration": 25,
    "start_time": "2021-12-18T19:00:08.089Z"
   },
   {
    "duration": 33,
    "start_time": "2021-12-18T19:00:16.427Z"
   },
   {
    "duration": 85,
    "start_time": "2021-12-18T19:04:09.996Z"
   },
   {
    "duration": 92,
    "start_time": "2021-12-18T19:04:21.980Z"
   },
   {
    "duration": 87,
    "start_time": "2021-12-18T19:04:52.706Z"
   },
   {
    "duration": 6,
    "start_time": "2021-12-18T19:07:36.951Z"
   },
   {
    "duration": 23,
    "start_time": "2021-12-18T19:12:54.871Z"
   },
   {
    "duration": 6,
    "start_time": "2021-12-18T19:13:09.332Z"
   },
   {
    "duration": 31,
    "start_time": "2021-12-18T19:14:46.830Z"
   },
   {
    "duration": 273,
    "start_time": "2021-12-18T19:19:28.906Z"
   },
   {
    "duration": 21,
    "start_time": "2021-12-18T19:19:57.004Z"
   },
   {
    "duration": 30,
    "start_time": "2021-12-18T19:20:28.794Z"
   },
   {
    "duration": 78,
    "start_time": "2021-12-18T19:21:18.665Z"
   },
   {
    "duration": 104,
    "start_time": "2021-12-18T19:22:25.566Z"
   },
   {
    "duration": 72,
    "start_time": "2021-12-18T19:22:53.245Z"
   },
   {
    "duration": 104,
    "start_time": "2021-12-18T19:24:23.197Z"
   },
   {
    "duration": 81,
    "start_time": "2021-12-18T19:24:31.778Z"
   },
   {
    "duration": 68,
    "start_time": "2021-12-18T19:24:40.530Z"
   },
   {
    "duration": 92,
    "start_time": "2021-12-18T19:24:50.164Z"
   },
   {
    "duration": 79,
    "start_time": "2021-12-18T19:25:11.392Z"
   },
   {
    "duration": 99,
    "start_time": "2021-12-18T19:26:03.765Z"
   },
   {
    "duration": 74,
    "start_time": "2021-12-18T19:26:09.355Z"
   },
   {
    "duration": 9,
    "start_time": "2021-12-18T19:33:26.727Z"
   },
   {
    "duration": 8,
    "start_time": "2021-12-18T19:36:24.510Z"
   },
   {
    "duration": 9,
    "start_time": "2021-12-18T19:36:29.098Z"
   },
   {
    "duration": 7,
    "start_time": "2021-12-18T19:36:36.326Z"
   },
   {
    "duration": 282,
    "start_time": "2021-12-18T19:39:37.780Z"
   },
   {
    "duration": 278,
    "start_time": "2021-12-18T19:40:38.435Z"
   },
   {
    "duration": 8,
    "start_time": "2021-12-18T19:40:45.955Z"
   },
   {
    "duration": 7,
    "start_time": "2021-12-18T19:40:51.729Z"
   },
   {
    "duration": 8,
    "start_time": "2021-12-18T19:41:24.482Z"
   },
   {
    "duration": 8,
    "start_time": "2021-12-18T19:41:38.909Z"
   },
   {
    "duration": 5,
    "start_time": "2021-12-18T19:44:41.243Z"
   },
   {
    "duration": 6,
    "start_time": "2021-12-18T19:45:22.304Z"
   },
   {
    "duration": 87,
    "start_time": "2021-12-18T19:47:16.212Z"
   },
   {
    "duration": 9,
    "start_time": "2021-12-18T19:50:37.087Z"
   },
   {
    "duration": 7,
    "start_time": "2021-12-18T19:52:40.975Z"
   },
   {
    "duration": 6,
    "start_time": "2021-12-18T19:52:46.278Z"
   },
   {
    "duration": 11,
    "start_time": "2021-12-18T19:53:47.830Z"
   },
   {
    "duration": 9,
    "start_time": "2021-12-18T19:54:05.125Z"
   },
   {
    "duration": 14,
    "start_time": "2021-12-18T20:02:49.316Z"
   },
   {
    "duration": 58,
    "start_time": "2021-12-18T20:17:31.537Z"
   },
   {
    "duration": 14,
    "start_time": "2021-12-18T20:17:53.616Z"
   },
   {
    "duration": 262,
    "start_time": "2021-12-18T20:21:48.476Z"
   },
   {
    "duration": 4,
    "start_time": "2021-12-18T20:22:06.828Z"
   },
   {
    "duration": 517,
    "start_time": "2021-12-18T20:22:11.167Z"
   },
   {
    "duration": 12,
    "start_time": "2021-12-18T20:22:37.447Z"
   },
   {
    "duration": 14,
    "start_time": "2021-12-18T20:23:47.808Z"
   },
   {
    "duration": 15,
    "start_time": "2021-12-18T20:38:39.701Z"
   },
   {
    "duration": 14,
    "start_time": "2021-12-18T20:38:42.581Z"
   },
   {
    "duration": 15,
    "start_time": "2021-12-18T20:39:29.206Z"
   },
   {
    "duration": 20,
    "start_time": "2021-12-18T20:40:27.345Z"
   },
   {
    "duration": 33,
    "start_time": "2021-12-18T20:41:05.250Z"
   },
   {
    "duration": 52,
    "start_time": "2021-12-18T20:49:04.544Z"
   },
   {
    "duration": 33,
    "start_time": "2021-12-18T20:49:54.322Z"
   },
   {
    "duration": 36,
    "start_time": "2021-12-18T20:50:19.934Z"
   },
   {
    "duration": 9,
    "start_time": "2021-12-18T20:51:29.803Z"
   },
   {
    "duration": 15,
    "start_time": "2021-12-18T20:54:56.470Z"
   },
   {
    "duration": 16,
    "start_time": "2021-12-18T20:55:31.696Z"
   },
   {
    "duration": 34,
    "start_time": "2021-12-18T21:01:51.767Z"
   },
   {
    "duration": 34,
    "start_time": "2021-12-18T21:02:08.619Z"
   },
   {
    "duration": 108,
    "start_time": "2021-12-18T21:17:02.932Z"
   },
   {
    "duration": 97,
    "start_time": "2021-12-18T21:17:48.616Z"
   },
   {
    "duration": 85,
    "start_time": "2021-12-18T21:19:44.636Z"
   },
   {
    "duration": 86,
    "start_time": "2021-12-18T21:19:58.127Z"
   },
   {
    "duration": 109,
    "start_time": "2021-12-18T21:21:32.288Z"
   },
   {
    "duration": 102,
    "start_time": "2021-12-18T21:25:53.556Z"
   },
   {
    "duration": 5,
    "start_time": "2021-12-18T21:27:02.042Z"
   },
   {
    "duration": 325,
    "start_time": "2021-12-18T21:28:07.439Z"
   },
   {
    "duration": 557,
    "start_time": "2021-12-18T21:33:20.346Z"
   },
   {
    "duration": 551,
    "start_time": "2021-12-18T21:36:28.049Z"
   },
   {
    "duration": 574,
    "start_time": "2021-12-18T21:37:22.398Z"
   },
   {
    "duration": 2554,
    "start_time": "2021-12-18T21:38:04.873Z"
   },
   {
    "duration": 573,
    "start_time": "2021-12-18T21:41:42.272Z"
   },
   {
    "duration": 3,
    "start_time": "2021-12-18T21:43:03.343Z"
   },
   {
    "duration": 6,
    "start_time": "2021-12-19T05:04:08.601Z"
   },
   {
    "duration": 5,
    "start_time": "2021-12-19T05:04:16.424Z"
   },
   {
    "duration": 866,
    "start_time": "2021-12-19T05:33:03.815Z"
   },
   {
    "duration": 205,
    "start_time": "2021-12-19T05:33:26.194Z"
   },
   {
    "duration": 5,
    "start_time": "2021-12-19T05:33:41.844Z"
   },
   {
    "duration": 5,
    "start_time": "2021-12-19T05:33:48.560Z"
   },
   {
    "duration": 718,
    "start_time": "2021-12-19T05:33:56.158Z"
   },
   {
    "duration": 5,
    "start_time": "2021-12-19T05:34:56.850Z"
   },
   {
    "duration": 5,
    "start_time": "2021-12-19T05:35:06.129Z"
   },
   {
    "duration": 497,
    "start_time": "2021-12-19T05:37:13.991Z"
   },
   {
    "duration": 6,
    "start_time": "2021-12-19T07:32:23.745Z"
   },
   {
    "duration": 910,
    "start_time": "2021-12-19T07:38:49.330Z"
   },
   {
    "duration": 771,
    "start_time": "2021-12-19T07:40:10.327Z"
   },
   {
    "duration": 421,
    "start_time": "2021-12-19T07:40:43.615Z"
   },
   {
    "duration": 799,
    "start_time": "2021-12-19T07:41:03.569Z"
   },
   {
    "duration": 181,
    "start_time": "2021-12-19T07:41:06.425Z"
   },
   {
    "duration": 25,
    "start_time": "2021-12-19T07:41:11.856Z"
   },
   {
    "duration": 50,
    "start_time": "2021-12-19T07:41:26.715Z"
   },
   {
    "duration": 6,
    "start_time": "2021-12-19T07:41:32.282Z"
   },
   {
    "duration": 7,
    "start_time": "2021-12-19T07:41:37.106Z"
   },
   {
    "duration": 32,
    "start_time": "2021-12-19T07:41:40.635Z"
   },
   {
    "duration": 11191,
    "start_time": "2021-12-19T07:41:49.345Z"
   },
   {
    "duration": -995,
    "start_time": "2021-12-19T07:42:01.533Z"
   },
   {
    "duration": -999,
    "start_time": "2021-12-19T07:42:01.539Z"
   },
   {
    "duration": 12128,
    "start_time": "2021-12-19T07:42:05.761Z"
   },
   {
    "duration": -988,
    "start_time": "2021-12-19T07:42:18.880Z"
   },
   {
    "duration": 30,
    "start_time": "2021-12-19T07:42:52.509Z"
   },
   {
    "duration": 11021,
    "start_time": "2021-12-19T07:43:01.077Z"
   },
   {
    "duration": 29,
    "start_time": "2021-12-19T07:43:13.275Z"
   },
   {
    "duration": 90,
    "start_time": "2021-12-19T07:43:30.917Z"
   },
   {
    "duration": 99,
    "start_time": "2021-12-19T07:43:41.661Z"
   },
   {
    "duration": 79,
    "start_time": "2021-12-19T07:43:46.781Z"
   },
   {
    "duration": 9202,
    "start_time": "2021-12-19T07:44:09.896Z"
   },
   {
    "duration": 379,
    "start_time": "2021-12-19T07:44:44.968Z"
   },
   {
    "duration": 10788,
    "start_time": "2021-12-19T07:45:07.457Z"
   },
   {
    "duration": 26,
    "start_time": "2021-12-19T07:46:51.279Z"
   },
   {
    "duration": 6,
    "start_time": "2021-12-19T07:46:56.457Z"
   },
   {
    "duration": 28,
    "start_time": "2021-12-19T07:47:04.145Z"
   },
   {
    "duration": 20,
    "start_time": "2021-12-19T07:47:08.713Z"
   },
   {
    "duration": 13,
    "start_time": "2021-12-19T07:47:20.633Z"
   },
   {
    "duration": 4,
    "start_time": "2021-12-19T07:47:32.652Z"
   },
   {
    "duration": 12,
    "start_time": "2021-12-19T07:47:36.274Z"
   },
   {
    "duration": 15,
    "start_time": "2021-12-19T07:47:40.977Z"
   },
   {
    "duration": 36,
    "start_time": "2021-12-19T07:47:51.427Z"
   },
   {
    "duration": 38,
    "start_time": "2021-12-19T07:47:56.116Z"
   },
   {
    "duration": 857,
    "start_time": "2021-12-19T07:48:39.849Z"
   },
   {
    "duration": 5,
    "start_time": "2021-12-19T07:52:17.286Z"
   },
   {
    "duration": 48,
    "start_time": "2021-12-19T07:52:23.192Z"
   },
   {
    "duration": 22,
    "start_time": "2021-12-19T07:53:11.487Z"
   },
   {
    "duration": 29,
    "start_time": "2021-12-19T07:55:05.850Z"
   },
   {
    "duration": 19,
    "start_time": "2021-12-19T07:56:24.869Z"
   },
   {
    "duration": 20,
    "start_time": "2021-12-19T07:56:33.365Z"
   },
   {
    "duration": 20,
    "start_time": "2021-12-19T07:56:56.286Z"
   },
   {
    "duration": 21,
    "start_time": "2021-12-19T07:57:01.541Z"
   },
   {
    "duration": 13,
    "start_time": "2021-12-19T08:09:43.074Z"
   },
   {
    "duration": 194,
    "start_time": "2021-12-19T08:14:37.730Z"
   },
   {
    "duration": 14,
    "start_time": "2021-12-19T08:14:49.491Z"
   },
   {
    "duration": 34,
    "start_time": "2021-12-19T08:15:22.258Z"
   },
   {
    "duration": 18,
    "start_time": "2021-12-19T08:15:44.139Z"
   },
   {
    "duration": 14,
    "start_time": "2021-12-19T08:16:17.259Z"
   },
   {
    "duration": 29,
    "start_time": "2021-12-19T08:16:41.708Z"
   },
   {
    "duration": 15,
    "start_time": "2021-12-19T08:17:01.141Z"
   },
   {
    "duration": 154,
    "start_time": "2021-12-19T08:39:24.117Z"
   },
   {
    "duration": 6,
    "start_time": "2021-12-19T08:40:11.659Z"
   },
   {
    "duration": -1161,
    "start_time": "2021-12-19T08:41:56.828Z"
   },
   {
    "duration": 6778,
    "start_time": "2021-12-19T08:42:54.334Z"
   },
   {
    "duration": 128,
    "start_time": "2021-12-19T08:44:11.677Z"
   },
   {
    "duration": 6,
    "start_time": "2021-12-19T08:46:08.420Z"
   },
   {
    "duration": 803,
    "start_time": "2021-12-19T08:46:35.069Z"
   },
   {
    "duration": 5,
    "start_time": "2021-12-19T08:47:05.506Z"
   },
   {
    "duration": 84,
    "start_time": "2021-12-19T08:47:09.373Z"
   },
   {
    "duration": 86,
    "start_time": "2021-12-19T08:48:09.994Z"
   },
   {
    "duration": 30,
    "start_time": "2021-12-19T08:49:16.484Z"
   },
   {
    "duration": 16,
    "start_time": "2021-12-19T08:49:29.666Z"
   },
   {
    "duration": 88,
    "start_time": "2021-12-19T08:49:34.647Z"
   },
   {
    "duration": 6,
    "start_time": "2021-12-19T08:51:15.568Z"
   },
   {
    "duration": 101,
    "start_time": "2021-12-19T08:51:20.372Z"
   },
   {
    "duration": 6,
    "start_time": "2021-12-19T08:53:40.823Z"
   },
   {
    "duration": 70,
    "start_time": "2021-12-19T08:53:45.471Z"
   },
   {
    "duration": 71,
    "start_time": "2021-12-19T08:54:41.756Z"
   },
   {
    "duration": 6,
    "start_time": "2021-12-19T08:57:50.420Z"
   },
   {
    "duration": 77,
    "start_time": "2021-12-19T08:57:54.135Z"
   },
   {
    "duration": 8,
    "start_time": "2021-12-19T09:00:47.146Z"
   },
   {
    "duration": 755,
    "start_time": "2021-12-19T09:00:51.917Z"
   },
   {
    "duration": 6,
    "start_time": "2021-12-19T09:02:28.064Z"
   },
   {
    "duration": 74,
    "start_time": "2021-12-19T09:02:38.279Z"
   },
   {
    "duration": 5,
    "start_time": "2021-12-19T09:10:49.669Z"
   },
   {
    "duration": 119,
    "start_time": "2021-12-19T09:10:52.957Z"
   },
   {
    "duration": 8,
    "start_time": "2021-12-19T09:11:05.574Z"
   },
   {
    "duration": 71,
    "start_time": "2021-12-19T09:11:09.073Z"
   },
   {
    "duration": 6,
    "start_time": "2021-12-19T09:14:30.178Z"
   },
   {
    "duration": 84,
    "start_time": "2021-12-19T09:14:34.380Z"
   },
   {
    "duration": 5,
    "start_time": "2021-12-19T09:30:51.539Z"
   },
   {
    "duration": 34,
    "start_time": "2021-12-19T09:30:56.561Z"
   },
   {
    "duration": 34,
    "start_time": "2021-12-19T09:34:00.918Z"
   },
   {
    "duration": 34,
    "start_time": "2021-12-19T09:35:57.395Z"
   },
   {
    "duration": 25,
    "start_time": "2021-12-19T09:36:22.634Z"
   },
   {
    "duration": 6,
    "start_time": "2021-12-19T09:50:38.743Z"
   },
   {
    "duration": 769,
    "start_time": "2021-12-19T09:50:42.913Z"
   },
   {
    "duration": 716,
    "start_time": "2021-12-19T09:51:07.820Z"
   },
   {
    "duration": 7,
    "start_time": "2021-12-19T09:51:21.314Z"
   },
   {
    "duration": 35,
    "start_time": "2021-12-19T09:51:24.344Z"
   },
   {
    "duration": 6,
    "start_time": "2021-12-19T09:53:59.971Z"
   },
   {
    "duration": 6,
    "start_time": "2021-12-19T09:54:02.741Z"
   },
   {
    "duration": 8989,
    "start_time": "2021-12-19T09:54:06.464Z"
   },
   {
    "duration": 5,
    "start_time": "2021-12-19T09:55:02.949Z"
   },
   {
    "duration": 37,
    "start_time": "2021-12-19T09:55:05.864Z"
   },
   {
    "duration": 26,
    "start_time": "2021-12-19T09:55:12.662Z"
   },
   {
    "duration": 5,
    "start_time": "2021-12-19T09:56:08.063Z"
   },
   {
    "duration": 49,
    "start_time": "2021-12-19T09:56:13.589Z"
   },
   {
    "duration": 6,
    "start_time": "2021-12-19T09:56:37.534Z"
   },
   {
    "duration": 38,
    "start_time": "2021-12-19T09:56:50.378Z"
   },
   {
    "duration": 6,
    "start_time": "2021-12-19T09:58:13.417Z"
   },
   {
    "duration": 752,
    "start_time": "2021-12-19T09:58:18.565Z"
   },
   {
    "duration": 8,
    "start_time": "2021-12-19T09:59:16.043Z"
   },
   {
    "duration": 42,
    "start_time": "2021-12-19T09:59:20.052Z"
   },
   {
    "duration": 6,
    "start_time": "2021-12-19T10:02:21.304Z"
   },
   {
    "duration": 781,
    "start_time": "2021-12-19T10:02:25.386Z"
   },
   {
    "duration": 7,
    "start_time": "2021-12-19T10:04:14.981Z"
   },
   {
    "duration": 6,
    "start_time": "2021-12-19T10:04:17.201Z"
   },
   {
    "duration": 40,
    "start_time": "2021-12-19T10:04:20.363Z"
   },
   {
    "duration": 5,
    "start_time": "2021-12-19T10:04:41.831Z"
   },
   {
    "duration": 36,
    "start_time": "2021-12-19T10:04:46.869Z"
   },
   {
    "duration": 5,
    "start_time": "2021-12-19T10:05:02.288Z"
   },
   {
    "duration": 39,
    "start_time": "2021-12-19T10:05:07.088Z"
   },
   {
    "duration": 6,
    "start_time": "2021-12-19T10:06:11.578Z"
   },
   {
    "duration": 37,
    "start_time": "2021-12-19T10:06:20.088Z"
   },
   {
    "duration": 6,
    "start_time": "2021-12-19T10:06:49.249Z"
   },
   {
    "duration": 34,
    "start_time": "2021-12-19T10:07:19.470Z"
   },
   {
    "duration": 29,
    "start_time": "2021-12-19T10:11:09.516Z"
   },
   {
    "duration": 34,
    "start_time": "2021-12-19T10:11:18.284Z"
   },
   {
    "duration": 28,
    "start_time": "2021-12-19T10:11:24.252Z"
   },
   {
    "duration": 5,
    "start_time": "2021-12-19T10:27:31.971Z"
   },
   {
    "duration": 38,
    "start_time": "2021-12-19T10:27:35.567Z"
   },
   {
    "duration": 5,
    "start_time": "2021-12-19T10:29:14.425Z"
   },
   {
    "duration": 885,
    "start_time": "2021-12-19T10:29:17.649Z"
   },
   {
    "duration": 5,
    "start_time": "2021-12-19T10:30:19.215Z"
   },
   {
    "duration": 6,
    "start_time": "2021-12-19T10:30:31.613Z"
   },
   {
    "duration": 44,
    "start_time": "2021-12-19T10:30:34.657Z"
   },
   {
    "duration": 6,
    "start_time": "2021-12-19T10:30:47.639Z"
   },
   {
    "duration": 870,
    "start_time": "2021-12-19T10:30:50.307Z"
   },
   {
    "duration": 6,
    "start_time": "2021-12-19T10:31:11.817Z"
   },
   {
    "duration": 792,
    "start_time": "2021-12-19T10:31:14.536Z"
   },
   {
    "duration": 5,
    "start_time": "2021-12-19T10:31:40.935Z"
   },
   {
    "duration": 27,
    "start_time": "2021-12-19T10:31:44.859Z"
   },
   {
    "duration": 6,
    "start_time": "2021-12-19T10:33:22.111Z"
   },
   {
    "duration": 904,
    "start_time": "2021-12-19T10:33:24.360Z"
   },
   {
    "duration": 6,
    "start_time": "2021-12-19T10:34:06.433Z"
   },
   {
    "duration": 800,
    "start_time": "2021-12-19T10:34:08.883Z"
   },
   {
    "duration": 5,
    "start_time": "2021-12-19T10:40:04.808Z"
   },
   {
    "duration": 796,
    "start_time": "2021-12-19T10:40:08.114Z"
   },
   {
    "duration": 6,
    "start_time": "2021-12-19T10:42:51.433Z"
   },
   {
    "duration": 765,
    "start_time": "2021-12-19T10:42:54.804Z"
   },
   {
    "duration": 6,
    "start_time": "2021-12-19T10:43:37.241Z"
   },
   {
    "duration": 27,
    "start_time": "2021-12-19T10:43:40.812Z"
   },
   {
    "duration": 8,
    "start_time": "2021-12-19T10:44:20.845Z"
   },
   {
    "duration": 744,
    "start_time": "2021-12-19T10:44:24.172Z"
   },
   {
    "duration": 15,
    "start_time": "2021-12-19T10:45:01.949Z"
   },
   {
    "duration": 39,
    "start_time": "2021-12-19T10:45:04.862Z"
   },
   {
    "duration": 5,
    "start_time": "2021-12-19T10:46:17.810Z"
   },
   {
    "duration": 27,
    "start_time": "2021-12-19T10:46:21.097Z"
   },
   {
    "duration": 6,
    "start_time": "2021-12-19T10:47:45.654Z"
   },
   {
    "duration": 25,
    "start_time": "2021-12-19T10:47:49.177Z"
   },
   {
    "duration": 5,
    "start_time": "2021-12-19T10:55:19.560Z"
   },
   {
    "duration": 5,
    "start_time": "2021-12-19T10:55:33.528Z"
   },
   {
    "duration": 5,
    "start_time": "2021-12-19T10:55:38.636Z"
   },
   {
    "duration": 369,
    "start_time": "2021-12-19T10:55:47.045Z"
   },
   {
    "duration": 5,
    "start_time": "2021-12-19T10:57:12.340Z"
   },
   {
    "duration": 1006,
    "start_time": "2021-12-19T10:57:17.968Z"
   },
   {
    "duration": 129,
    "start_time": "2021-12-19T11:01:18.564Z"
   },
   {
    "duration": 6,
    "start_time": "2021-12-19T11:01:33.762Z"
   },
   {
    "duration": 6,
    "start_time": "2021-12-19T11:07:51.975Z"
   },
   {
    "duration": 782,
    "start_time": "2021-12-19T11:07:56.057Z"
   },
   {
    "duration": 6,
    "start_time": "2021-12-19T11:08:22.952Z"
   },
   {
    "duration": 731,
    "start_time": "2021-12-19T11:08:26.785Z"
   },
   {
    "duration": 7,
    "start_time": "2021-12-19T11:13:34.293Z"
   },
   {
    "duration": 740,
    "start_time": "2021-12-19T11:13:38.179Z"
   },
   {
    "duration": 5,
    "start_time": "2021-12-19T11:14:11.175Z"
   },
   {
    "duration": 27,
    "start_time": "2021-12-19T11:14:15.768Z"
   },
   {
    "duration": 16,
    "start_time": "2021-12-19T11:18:09.801Z"
   },
   {
    "duration": 22,
    "start_time": "2021-12-19T11:18:13.125Z"
   },
   {
    "duration": 17,
    "start_time": "2021-12-19T11:18:16.582Z"
   },
   {
    "duration": 337,
    "start_time": "2021-12-19T13:41:51.558Z"
   },
   {
    "duration": 273,
    "start_time": "2021-12-19T13:42:25.969Z"
   },
   {
    "duration": 702,
    "start_time": "2021-12-19T13:42:56.516Z"
   },
   {
    "duration": 191,
    "start_time": "2021-12-19T13:42:58.723Z"
   },
   {
    "duration": 26,
    "start_time": "2021-12-19T13:43:01.070Z"
   },
   {
    "duration": 8,
    "start_time": "2021-12-19T13:43:27.532Z"
   },
   {
    "duration": 27,
    "start_time": "2021-12-19T13:43:30.379Z"
   },
   {
    "duration": 8,
    "start_time": "2021-12-19T13:43:34.164Z"
   },
   {
    "duration": 34,
    "start_time": "2021-12-19T13:43:38.578Z"
   },
   {
    "duration": 25,
    "start_time": "2021-12-19T13:43:42.602Z"
   },
   {
    "duration": 30,
    "start_time": "2021-12-19T13:43:45.683Z"
   },
   {
    "duration": 88,
    "start_time": "2021-12-19T13:43:50.078Z"
   },
   {
    "duration": 104,
    "start_time": "2021-12-19T13:43:52.436Z"
   },
   {
    "duration": 78,
    "start_time": "2021-12-19T13:43:55.764Z"
   },
   {
    "duration": 15,
    "start_time": "2021-12-19T13:44:15.997Z"
   },
   {
    "duration": 5,
    "start_time": "2021-12-19T13:44:20.941Z"
   },
   {
    "duration": 12,
    "start_time": "2021-12-19T13:44:23.837Z"
   },
   {
    "duration": 15,
    "start_time": "2021-12-19T13:44:29.958Z"
   },
   {
    "duration": 37,
    "start_time": "2021-12-19T13:44:35.334Z"
   },
   {
    "duration": 44,
    "start_time": "2021-12-19T13:44:37.637Z"
   },
   {
    "duration": 5,
    "start_time": "2021-12-19T13:44:41.996Z"
   },
   {
    "duration": 23,
    "start_time": "2021-12-19T13:44:45.646Z"
   },
   {
    "duration": 21,
    "start_time": "2021-12-19T13:44:48.245Z"
   },
   {
    "duration": 19,
    "start_time": "2021-12-19T13:44:50.510Z"
   },
   {
    "duration": 18,
    "start_time": "2021-12-19T13:44:52.870Z"
   },
   {
    "duration": 23,
    "start_time": "2021-12-19T13:44:53.863Z"
   },
   {
    "duration": 31,
    "start_time": "2021-12-19T13:44:56.104Z"
   },
   {
    "duration": 16,
    "start_time": "2021-12-19T13:44:59.487Z"
   },
   {
    "duration": 22,
    "start_time": "2021-12-19T13:45:03.869Z"
   },
   {
    "duration": 18,
    "start_time": "2021-12-19T13:45:07.022Z"
   },
   {
    "duration": 6,
    "start_time": "2021-12-19T13:45:10.475Z"
   },
   {
    "duration": 29,
    "start_time": "2021-12-19T13:45:15.679Z"
   },
   {
    "duration": 19,
    "start_time": "2021-12-19T13:45:19.943Z"
   },
   {
    "duration": 25,
    "start_time": "2021-12-19T13:45:21.210Z"
   },
   {
    "duration": 18,
    "start_time": "2021-12-19T13:45:22.109Z"
   },
   {
    "duration": 11,
    "start_time": "2021-12-19T13:45:29.487Z"
   },
   {
    "duration": 6,
    "start_time": "2021-12-19T13:45:59.156Z"
   },
   {
    "duration": 8,
    "start_time": "2021-12-19T13:46:50.395Z"
   },
   {
    "duration": 6,
    "start_time": "2021-12-19T13:47:37.904Z"
   },
   {
    "duration": 34,
    "start_time": "2021-12-19T14:13:43.075Z"
   },
   {
    "duration": 22,
    "start_time": "2021-12-19T14:14:27.969Z"
   },
   {
    "duration": 19,
    "start_time": "2021-12-19T14:22:19.095Z"
   },
   {
    "duration": 6,
    "start_time": "2021-12-19T14:22:23.019Z"
   },
   {
    "duration": 50,
    "start_time": "2021-12-19T14:24:48.257Z"
   },
   {
    "duration": 7,
    "start_time": "2021-12-19T14:28:42.588Z"
   },
   {
    "duration": 562,
    "start_time": "2021-12-20T08:07:46.287Z"
   },
   {
    "duration": 131,
    "start_time": "2021-12-20T08:07:46.851Z"
   },
   {
    "duration": 21,
    "start_time": "2021-12-20T08:07:46.984Z"
   },
   {
    "duration": 26,
    "start_time": "2021-12-20T08:07:47.007Z"
   },
   {
    "duration": 4,
    "start_time": "2021-12-20T08:07:47.034Z"
   },
   {
    "duration": 20,
    "start_time": "2021-12-20T08:07:47.040Z"
   },
   {
    "duration": 30,
    "start_time": "2021-12-20T08:07:47.061Z"
   },
   {
    "duration": 25,
    "start_time": "2021-12-20T08:07:47.094Z"
   },
   {
    "duration": 17,
    "start_time": "2021-12-20T08:07:47.121Z"
   },
   {
    "duration": 22,
    "start_time": "2021-12-20T08:07:47.140Z"
   },
   {
    "duration": 82,
    "start_time": "2021-12-20T08:07:47.164Z"
   },
   {
    "duration": 85,
    "start_time": "2021-12-20T08:07:47.248Z"
   },
   {
    "duration": 49,
    "start_time": "2021-12-20T08:07:47.334Z"
   },
   {
    "duration": 13,
    "start_time": "2021-12-20T08:07:47.384Z"
   },
   {
    "duration": 2,
    "start_time": "2021-12-20T08:07:47.399Z"
   },
   {
    "duration": 10,
    "start_time": "2021-12-20T08:07:47.403Z"
   },
   {
    "duration": 10,
    "start_time": "2021-12-20T08:07:47.415Z"
   },
   {
    "duration": 26,
    "start_time": "2021-12-20T08:07:47.426Z"
   },
   {
    "duration": 65,
    "start_time": "2021-12-20T08:07:47.453Z"
   },
   {
    "duration": 3,
    "start_time": "2021-12-20T08:07:47.520Z"
   },
   {
    "duration": 19,
    "start_time": "2021-12-20T08:07:47.525Z"
   },
   {
    "duration": 13,
    "start_time": "2021-12-20T08:07:47.546Z"
   },
   {
    "duration": 38,
    "start_time": "2021-12-20T08:07:47.562Z"
   },
   {
    "duration": 14,
    "start_time": "2021-12-20T08:07:47.602Z"
   },
   {
    "duration": 18,
    "start_time": "2021-12-20T08:07:47.617Z"
   },
   {
    "duration": 16,
    "start_time": "2021-12-20T08:07:47.637Z"
   },
   {
    "duration": 42,
    "start_time": "2021-12-20T08:07:47.655Z"
   },
   {
    "duration": 12,
    "start_time": "2021-12-20T08:07:47.699Z"
   },
   {
    "duration": 9,
    "start_time": "2021-12-20T08:07:47.713Z"
   },
   {
    "duration": 4,
    "start_time": "2021-12-20T08:07:47.723Z"
   },
   {
    "duration": 23,
    "start_time": "2021-12-20T08:07:47.729Z"
   },
   {
    "duration": 45,
    "start_time": "2021-12-20T08:07:47.754Z"
   },
   {
    "duration": 16,
    "start_time": "2021-12-20T08:07:47.801Z"
   },
   {
    "duration": 13,
    "start_time": "2021-12-20T08:07:47.819Z"
   },
   {
    "duration": 8,
    "start_time": "2021-12-20T08:07:47.833Z"
   },
   {
    "duration": 4,
    "start_time": "2021-12-20T08:07:47.842Z"
   },
   {
    "duration": 44,
    "start_time": "2021-12-20T08:07:47.847Z"
   },
   {
    "duration": 8,
    "start_time": "2021-12-20T08:07:47.893Z"
   },
   {
    "duration": 331,
    "start_time": "2021-12-20T15:20:14.407Z"
   },
   {
    "duration": 879,
    "start_time": "2021-12-20T15:20:45.543Z"
   },
   {
    "duration": 202,
    "start_time": "2021-12-20T15:20:46.425Z"
   },
   {
    "duration": 362,
    "start_time": "2021-12-20T15:20:46.632Z"
   },
   {
    "duration": 244,
    "start_time": "2021-12-20T15:20:46.997Z"
   },
   {
    "duration": 232,
    "start_time": "2021-12-20T15:20:47.244Z"
   },
   {
    "duration": 285,
    "start_time": "2021-12-20T15:20:47.479Z"
   },
   {
    "duration": 690,
    "start_time": "2021-12-20T15:20:47.768Z"
   },
   {
    "duration": 421,
    "start_time": "2021-12-20T15:20:48.463Z"
   },
   {
    "duration": 271,
    "start_time": "2021-12-20T15:20:48.888Z"
   },
   {
    "duration": 354,
    "start_time": "2021-12-20T15:20:49.161Z"
   },
   {
    "duration": 321,
    "start_time": "2021-12-20T15:20:49.518Z"
   },
   {
    "duration": 301,
    "start_time": "2021-12-20T15:20:49.842Z"
   },
   {
    "duration": 387,
    "start_time": "2021-12-20T15:20:50.146Z"
   },
   {
    "duration": 544,
    "start_time": "2021-12-20T15:20:50.535Z"
   },
   {
    "duration": 531,
    "start_time": "2021-12-20T15:20:51.081Z"
   },
   {
    "duration": 347,
    "start_time": "2021-12-20T15:20:51.615Z"
   },
   {
    "duration": 346,
    "start_time": "2021-12-20T15:20:51.964Z"
   },
   {
    "duration": 341,
    "start_time": "2021-12-20T15:20:52.313Z"
   },
   {
    "duration": 351,
    "start_time": "2021-12-20T15:20:52.658Z"
   },
   {
    "duration": 446,
    "start_time": "2021-12-20T15:20:53.012Z"
   },
   {
    "duration": 588,
    "start_time": "2021-12-20T15:20:53.461Z"
   },
   {
    "duration": 299,
    "start_time": "2021-12-20T15:20:54.052Z"
   },
   {
    "duration": 517,
    "start_time": "2021-12-20T15:20:54.357Z"
   },
   {
    "duration": 703,
    "start_time": "2021-12-20T15:20:54.877Z"
   },
   {
    "duration": 328,
    "start_time": "2021-12-20T15:20:55.583Z"
   },
   {
    "duration": 554,
    "start_time": "2021-12-20T15:20:55.914Z"
   },
   {
    "duration": 410,
    "start_time": "2021-12-20T15:20:56.471Z"
   },
   {
    "duration": 920,
    "start_time": "2021-12-20T15:20:56.883Z"
   },
   {
    "duration": 1397,
    "start_time": "2021-12-20T15:20:57.805Z"
   },
   {
    "duration": 1256,
    "start_time": "2021-12-20T15:20:59.204Z"
   },
   {
    "duration": 1299,
    "start_time": "2021-12-20T15:21:00.463Z"
   },
   {
    "duration": 391,
    "start_time": "2021-12-20T15:21:01.764Z"
   },
   {
    "duration": 398,
    "start_time": "2021-12-20T15:21:02.157Z"
   },
   {
    "duration": 459,
    "start_time": "2021-12-20T15:21:02.557Z"
   },
   {
    "duration": 373,
    "start_time": "2021-12-20T15:21:03.020Z"
   },
   {
    "duration": 337,
    "start_time": "2021-12-20T15:21:03.396Z"
   },
   {
    "duration": 589,
    "start_time": "2021-12-20T15:21:03.737Z"
   },
   {
    "duration": 450,
    "start_time": "2021-12-20T15:21:04.328Z"
   },
   {
    "duration": 4,
    "start_time": "2021-12-20T15:39:24.309Z"
   },
   {
    "duration": 1238,
    "start_time": "2021-12-20T15:39:24.317Z"
   },
   {
    "duration": 305,
    "start_time": "2021-12-20T15:39:25.558Z"
   },
   {
    "duration": 385,
    "start_time": "2021-12-20T15:39:25.867Z"
   },
   {
    "duration": 599,
    "start_time": "2021-12-20T15:39:26.256Z"
   },
   {
    "duration": 128,
    "start_time": "2021-12-20T15:39:26.859Z"
   },
   {
    "duration": 365,
    "start_time": "2021-12-20T15:39:26.990Z"
   },
   {
    "duration": 323,
    "start_time": "2021-12-20T15:39:27.358Z"
   },
   {
    "duration": 455,
    "start_time": "2021-12-20T15:39:27.685Z"
   },
   {
    "duration": 790,
    "start_time": "2021-12-20T15:39:28.143Z"
   },
   {
    "duration": 839,
    "start_time": "2021-12-20T15:39:28.935Z"
   },
   {
    "duration": 1308,
    "start_time": "2021-12-20T15:39:29.777Z"
   },
   {
    "duration": 1403,
    "start_time": "2021-12-20T15:39:31.088Z"
   },
   {
    "duration": 1226,
    "start_time": "2021-12-20T15:39:32.493Z"
   },
   {
    "duration": 1210,
    "start_time": "2021-12-20T15:39:33.722Z"
   },
   {
    "duration": 346,
    "start_time": "2021-12-20T15:39:34.591Z"
   },
   {
    "duration": 333,
    "start_time": "2021-12-20T15:39:34.606Z"
   },
   {
    "duration": 329,
    "start_time": "2021-12-20T15:39:34.611Z"
   },
   {
    "duration": 312,
    "start_time": "2021-12-20T15:39:34.630Z"
   },
   {
    "duration": 309,
    "start_time": "2021-12-20T15:39:34.635Z"
   },
   {
    "duration": 300,
    "start_time": "2021-12-20T15:39:34.645Z"
   },
   {
    "duration": 295,
    "start_time": "2021-12-20T15:39:34.652Z"
   },
   {
    "duration": 288,
    "start_time": "2021-12-20T15:39:34.661Z"
   },
   {
    "duration": 282,
    "start_time": "2021-12-20T15:39:34.668Z"
   },
   {
    "duration": 279,
    "start_time": "2021-12-20T15:39:34.673Z"
   },
   {
    "duration": 276,
    "start_time": "2021-12-20T15:39:34.678Z"
   },
   {
    "duration": 272,
    "start_time": "2021-12-20T15:39:34.685Z"
   },
   {
    "duration": 265,
    "start_time": "2021-12-20T15:39:34.694Z"
   },
   {
    "duration": 260,
    "start_time": "2021-12-20T15:39:34.701Z"
   },
   {
    "duration": 256,
    "start_time": "2021-12-20T15:39:34.707Z"
   },
   {
    "duration": 252,
    "start_time": "2021-12-20T15:39:34.713Z"
   },
   {
    "duration": 250,
    "start_time": "2021-12-20T15:39:34.718Z"
   },
   {
    "duration": 241,
    "start_time": "2021-12-20T15:39:34.729Z"
   },
   {
    "duration": 238,
    "start_time": "2021-12-20T15:39:34.735Z"
   },
   {
    "duration": 235,
    "start_time": "2021-12-20T15:39:34.740Z"
   },
   {
    "duration": 232,
    "start_time": "2021-12-20T15:39:34.745Z"
   },
   {
    "duration": 228,
    "start_time": "2021-12-20T15:39:34.752Z"
   },
   {
    "duration": 224,
    "start_time": "2021-12-20T15:39:34.758Z"
   },
   {
    "duration": 221,
    "start_time": "2021-12-20T15:39:34.763Z"
   },
   {
    "duration": 37,
    "start_time": "2021-12-20T15:53:07.130Z"
   },
   {
    "duration": 40,
    "start_time": "2021-12-20T15:53:57.153Z"
   },
   {
    "duration": 13,
    "start_time": "2021-12-20T15:54:30.891Z"
   },
   {
    "duration": 12,
    "start_time": "2021-12-20T15:54:40.131Z"
   },
   {
    "duration": 12,
    "start_time": "2021-12-20T15:54:44.760Z"
   },
   {
    "duration": 12,
    "start_time": "2021-12-20T15:54:48.089Z"
   },
   {
    "duration": 15,
    "start_time": "2021-12-20T15:55:12.328Z"
   },
   {
    "duration": 241,
    "start_time": "2021-12-20T15:56:35.487Z"
   },
   {
    "duration": 90,
    "start_time": "2021-12-20T15:57:27.798Z"
   },
   {
    "duration": 3,
    "start_time": "2021-12-20T16:21:09.472Z"
   },
   {
    "duration": 499,
    "start_time": "2021-12-20T16:21:09.481Z"
   },
   {
    "duration": 26,
    "start_time": "2021-12-20T16:21:09.983Z"
   },
   {
    "duration": 260,
    "start_time": "2021-12-20T16:21:10.014Z"
   },
   {
    "duration": 170,
    "start_time": "2021-12-20T16:21:10.278Z"
   },
   {
    "duration": 234,
    "start_time": "2021-12-20T16:21:10.451Z"
   },
   {
    "duration": 163,
    "start_time": "2021-12-20T16:21:10.688Z"
   },
   {
    "duration": 265,
    "start_time": "2021-12-20T16:21:10.854Z"
   },
   {
    "duration": 332,
    "start_time": "2021-12-20T16:21:11.125Z"
   },
   {
    "duration": 238,
    "start_time": "2021-12-20T16:21:11.462Z"
   },
   {
    "duration": 338,
    "start_time": "2021-12-20T16:21:11.703Z"
   },
   {
    "duration": 281,
    "start_time": "2021-12-20T16:21:12.044Z"
   },
   {
    "duration": 180,
    "start_time": "2021-12-20T16:21:12.328Z"
   },
   {
    "duration": 188,
    "start_time": "2021-12-20T16:21:12.510Z"
   },
   {
    "duration": 199,
    "start_time": "2021-12-20T16:21:12.701Z"
   },
   {
    "duration": 197,
    "start_time": "2021-12-20T16:21:12.902Z"
   },
   {
    "duration": 204,
    "start_time": "2021-12-20T16:21:13.101Z"
   },
   {
    "duration": 205,
    "start_time": "2021-12-20T16:21:13.308Z"
   },
   {
    "duration": 191,
    "start_time": "2021-12-20T16:21:13.516Z"
   },
   {
    "duration": 254,
    "start_time": "2021-12-20T16:21:13.709Z"
   },
   {
    "duration": 300,
    "start_time": "2021-12-20T16:21:13.965Z"
   },
   {
    "duration": 296,
    "start_time": "2021-12-20T16:21:14.268Z"
   },
   {
    "duration": 382,
    "start_time": "2021-12-20T16:21:14.567Z"
   },
   {
    "duration": 264,
    "start_time": "2021-12-20T16:21:14.958Z"
   },
   {
    "duration": 203,
    "start_time": "2021-12-20T16:21:15.226Z"
   },
   {
    "duration": 301,
    "start_time": "2021-12-20T16:21:15.432Z"
   },
   {
    "duration": 285,
    "start_time": "2021-12-20T16:21:15.735Z"
   },
   {
    "duration": 218,
    "start_time": "2021-12-20T16:21:16.022Z"
   },
   {
    "duration": 223,
    "start_time": "2021-12-20T16:21:16.243Z"
   },
   {
    "duration": 182,
    "start_time": "2021-12-20T16:21:16.468Z"
   },
   {
    "duration": 302,
    "start_time": "2021-12-20T16:21:16.652Z"
   },
   {
    "duration": 263,
    "start_time": "2021-12-20T16:21:16.956Z"
   },
   {
    "duration": 182,
    "start_time": "2021-12-20T16:21:17.223Z"
   },
   {
    "duration": 202,
    "start_time": "2021-12-20T16:21:17.409Z"
   },
   {
    "duration": 181,
    "start_time": "2021-12-20T16:21:17.614Z"
   },
   {
    "duration": 175,
    "start_time": "2021-12-20T16:21:17.797Z"
   },
   {
    "duration": 210,
    "start_time": "2021-12-20T16:21:17.975Z"
   },
   {
    "duration": 228,
    "start_time": "2021-12-20T16:21:18.188Z"
   },
   {
    "duration": 1020,
    "start_time": "2021-12-20T19:38:54.285Z"
   },
   {
    "duration": 197,
    "start_time": "2021-12-20T19:38:55.308Z"
   },
   {
    "duration": 34,
    "start_time": "2021-12-20T19:38:55.509Z"
   },
   {
    "duration": 39,
    "start_time": "2021-12-20T19:38:55.565Z"
   },
   {
    "duration": 7,
    "start_time": "2021-12-20T19:38:55.606Z"
   },
   {
    "duration": 55,
    "start_time": "2021-12-20T19:38:55.616Z"
   },
   {
    "duration": 14,
    "start_time": "2021-12-20T19:38:55.674Z"
   },
   {
    "duration": 32,
    "start_time": "2021-12-20T19:38:55.694Z"
   },
   {
    "duration": 53,
    "start_time": "2021-12-20T19:38:55.730Z"
   },
   {
    "duration": 52,
    "start_time": "2021-12-20T19:38:55.786Z"
   },
   {
    "duration": 104,
    "start_time": "2021-12-20T19:38:55.865Z"
   },
   {
    "duration": 131,
    "start_time": "2021-12-20T19:38:55.972Z"
   },
   {
    "duration": 92,
    "start_time": "2021-12-20T19:38:56.105Z"
   },
   {
    "duration": 76,
    "start_time": "2021-12-20T19:38:56.200Z"
   },
   {
    "duration": 8,
    "start_time": "2021-12-20T19:38:56.279Z"
   },
   {
    "duration": 22,
    "start_time": "2021-12-20T19:38:56.290Z"
   },
   {
    "duration": 30,
    "start_time": "2021-12-20T19:38:56.315Z"
   },
   {
    "duration": 49,
    "start_time": "2021-12-20T19:38:56.364Z"
   },
   {
    "duration": 16,
    "start_time": "2021-12-20T19:38:56.416Z"
   },
   {
    "duration": 18,
    "start_time": "2021-12-20T19:38:56.435Z"
   },
   {
    "duration": 60,
    "start_time": "2021-12-20T19:38:56.464Z"
   },
   {
    "duration": 24,
    "start_time": "2021-12-20T19:38:56.527Z"
   },
   {
    "duration": 43,
    "start_time": "2021-12-20T19:38:56.565Z"
   },
   {
    "duration": 23,
    "start_time": "2021-12-20T19:38:56.611Z"
   },
   {
    "duration": 39,
    "start_time": "2021-12-20T19:38:56.637Z"
   },
   {
    "duration": 26,
    "start_time": "2021-12-20T19:38:56.678Z"
   },
   {
    "duration": 13,
    "start_time": "2021-12-20T19:38:56.706Z"
   },
   {
    "duration": 51,
    "start_time": "2021-12-20T19:38:56.721Z"
   },
   {
    "duration": 41,
    "start_time": "2021-12-20T19:38:56.775Z"
   },
   {
    "duration": 17,
    "start_time": "2021-12-20T19:38:56.819Z"
   },
   {
    "duration": 78,
    "start_time": "2021-12-20T19:38:56.840Z"
   },
   {
    "duration": 21,
    "start_time": "2021-12-20T19:38:56.921Z"
   },
   {
    "duration": 29,
    "start_time": "2021-12-20T19:38:56.944Z"
   },
   {
    "duration": 18,
    "start_time": "2021-12-20T19:38:56.975Z"
   },
   {
    "duration": 31,
    "start_time": "2021-12-20T19:38:56.995Z"
   },
   {
    "duration": 17,
    "start_time": "2021-12-20T19:38:57.029Z"
   },
   {
    "duration": 29,
    "start_time": "2021-12-20T19:38:57.050Z"
   },
   {
    "duration": 33,
    "start_time": "2021-12-20T19:38:57.082Z"
   }
  ],
  "celltoolbar": "Необработанный формат ячейки",
  "colab": {
   "collapsed_sections": [
    "E0vqbgi9ay0H",
    "VUC88oWjTJw2"
   ],
   "name": "yandex_music_project_2021.2.ipynb",
   "provenance": []
  },
  "kernelspec": {
   "display_name": "Python 3 (ipykernel)",
   "language": "python",
   "name": "python3"
  },
  "language_info": {
   "codemirror_mode": {
    "name": "ipython",
    "version": 3
   },
   "file_extension": ".py",
   "mimetype": "text/x-python",
   "name": "python",
   "nbconvert_exporter": "python",
   "pygments_lexer": "ipython3",
   "version": "3.9.7"
  },
  "latex_envs": {
   "LaTeX_envs_menu_present": true,
   "autoclose": false,
   "autocomplete": true,
   "bibliofile": "biblio.bib",
   "cite_by": "apalike",
   "current_citInitial": 1,
   "eqLabelWithNumbers": true,
   "eqNumInitial": 1,
   "hotkeys": {
    "equation": "Ctrl-E",
    "itemize": "Ctrl-I"
   },
   "labels_anchors": false,
   "latex_user_defs": false,
   "report_style_numbering": false,
   "user_envs_cfg": false
  },
  "toc": {
   "base_numbering": 1,
   "nav_menu": {},
   "number_sections": true,
   "sideBar": true,
   "skip_h1_title": true,
   "title_cell": "Содержание",
   "title_sidebar": "Содержание",
   "toc_cell": false,
   "toc_position": {},
   "toc_section_display": true,
   "toc_window_display": true
  }
 },
 "nbformat": 4,
 "nbformat_minor": 1
}
