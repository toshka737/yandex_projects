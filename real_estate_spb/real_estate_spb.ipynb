{
 "cells": [
  {
   "cell_type": "markdown",
   "metadata": {},
   "source": [
    "# Исследование объявлений о продаже квартир\n",
    "\n",
    "\n",
    "**Цель исследования** - установить параметры, влияющие на рыночную стоимость объектов недвижимости.<br>\n",
    "\n",
    "**Исходные данные** - данные сервиса «Яндекс.Недвижимость» (архив объявлений о продаже квартир в Санкт-Петербурге и соседних населённых пунктах за несколько лет).<br>\n",
    "\n",
    "**Вопросы, интересующие заказчика:**<br>\n",
    "•\tСколько времени занимает продажа квартиры. <br>\n",
    "•\tКакие факторы больше всего влияют на стоимость квартиры<br>\n",
    "•\tКакая средняя стоимость квартиры в 10 населённых пунктов с наибольшим числом объявлений<br>\n",
    "•\tКакие факторы влияют на стоимость квартиры в центре Санкт-Петербурга. Насколько они отличаются от данных по городу"
   ]
  },
  {
   "cell_type": "markdown",
   "metadata": {},
   "source": [
    "**Описание данных**\n",
    "\n",
    "•\t`airports_nearest` — расстояние до ближайшего аэропорта в метрах (м)<br>\n",
    "•\t`balcony` — число балконов<br>\n",
    "•\t`ceiling_height` — высота потолков (м)<br>\n",
    "•\t`cityCenters_nearest` — расстояние до центра города (м)<br>\n",
    "•\t`days_exposition` — сколько дней было размещено объявление (от публикации до снятия)<br>\n",
    "•\t`first_day_exposition` — дата публикации<br>\n",
    "•\t`floor` — этаж<br>\n",
    "•\t`floors_total` — всего этажей в доме<br>\n",
    "•\t`is_apartment` — апартаменты (булев тип)<br>\n",
    "•\t`kitchen_area` — площадь кухни в квадратных метрах (м²)<br>\n",
    "•\t`last_price` — цена на момент снятия с публикации<br>\n",
    "•\t`living_area` — жилая площадь в квадратных метрах (м²)<br>\n",
    "•\t`locality_name` — название населённого пункта<br>\n",
    "•\t`open_plan` — свободная планировка (булев тип)<br>\n",
    "•\t`parks_around3000` — число парков в радиусе 3 км<br>\n",
    "•\t`parks_nearest` — расстояние до ближайшего парка (м)<br>\n",
    "•\t`ponds_around3000` — число водоёмов в радиусе 3 км<br>\n",
    "•\t`ponds_nearest` — расстояние до ближайшего водоёма (м)<br>\n",
    "•\t`rooms` — число комнат<br>\n",
    "•\t`studio` — квартира-студия (булев тип)<br>\n",
    "•\t`total_area` — площадь квартиры в квадратных метрах (м²)<br>\n",
    "•\t`total_images` — число фотографий квартиры в объявлении<br>\n",
    "\n"
   ]
  },
  {
   "cell_type": "markdown",
   "metadata": {
    "toc": true
   },
   "source": [
    "<h1>Содержание<span class=\"tocSkip\"></span></h1>\n",
    "<div class=\"toc\"><ul class=\"toc-item\"><li><span><a href=\"#Изучение-данных-из-файла\" data-toc-modified-id=\"Изучение-данных-из-файла-1\"><span class=\"toc-item-num\">1&nbsp;&nbsp;</span>Изучение данных из файла</a></span><ul class=\"toc-item\"><li><span><a href=\"#Вывод\" data-toc-modified-id=\"Вывод-1.1\"><span class=\"toc-item-num\">1.1&nbsp;&nbsp;</span>Вывод</a></span></li></ul></li><li><span><a href=\"#Предобработка-данных\" data-toc-modified-id=\"Предобработка-данных-2\"><span class=\"toc-item-num\">2&nbsp;&nbsp;</span>Предобработка данных</a></span><ul class=\"toc-item\"><li><span><a href=\"#Вывод\" data-toc-modified-id=\"Вывод-2.1\"><span class=\"toc-item-num\">2.1&nbsp;&nbsp;</span>Вывод</a></span></li></ul></li><li><span><a href=\"#Расчёты-и-добавление-результатов-в-таблицу\" data-toc-modified-id=\"Расчёты-и-добавление-результатов-в-таблицу-3\"><span class=\"toc-item-num\">3&nbsp;&nbsp;</span>Расчёты и добавление результатов в таблицу</a></span><ul class=\"toc-item\"><li><span><a href=\"#Вывод\" data-toc-modified-id=\"Вывод-3.1\"><span class=\"toc-item-num\">3.1&nbsp;&nbsp;</span>Вывод</a></span></li></ul></li><li><span><a href=\"#Исследовательский-анализ-данных\" data-toc-modified-id=\"Исследовательский-анализ-данных-4\"><span class=\"toc-item-num\">4&nbsp;&nbsp;</span>Исследовательский анализ данных</a></span><ul class=\"toc-item\"><li><span><a href=\"#Построение-гистограмм\" data-toc-modified-id=\"Построение-гистограмм-4.1\"><span class=\"toc-item-num\">4.1&nbsp;&nbsp;</span>Построение гистограмм</a></span></li><li><span><a href=\"#Изучение-времени-продажи-квартиры\" data-toc-modified-id=\"Изучение-времени-продажи-квартиры-4.2\"><span class=\"toc-item-num\">4.2&nbsp;&nbsp;</span>Изучение времени продажи квартиры</a></span><ul class=\"toc-item\"><li><span><a href=\"#Вывод\" data-toc-modified-id=\"Вывод-4.2.1\"><span class=\"toc-item-num\">4.2.1&nbsp;&nbsp;</span>Вывод</a></span></li></ul></li><li><span><a href=\"#Удаление-редких-и-выбивающихся-значений\" data-toc-modified-id=\"Удаление-редких-и-выбивающихся-значений-4.3\"><span class=\"toc-item-num\">4.3&nbsp;&nbsp;</span>Удаление редких и выбивающихся значений</a></span><ul class=\"toc-item\"><li><span><a href=\"#Вывод\" data-toc-modified-id=\"Вывод-4.3.1\"><span class=\"toc-item-num\">4.3.1&nbsp;&nbsp;</span>Вывод</a></span></li></ul></li><li><span><a href=\"#Факторы,-влияющие-на-стоимость-квартиры\" data-toc-modified-id=\"Факторы,-влияющие-на-стоимость-квартиры-4.4\"><span class=\"toc-item-num\">4.4&nbsp;&nbsp;</span>Факторы, влияющие на стоимость квартиры</a></span><ul class=\"toc-item\"><li><span><a href=\"#Вывод\" data-toc-modified-id=\"Вывод-4.4.1\"><span class=\"toc-item-num\">4.4.1&nbsp;&nbsp;</span>Вывод</a></span></li></ul></li><li><span><a href=\"#Изучение-предложения-квартир\" data-toc-modified-id=\"Изучение-предложения-квартир-4.5\"><span class=\"toc-item-num\">4.5&nbsp;&nbsp;</span>Изучение предложения квартир</a></span><ul class=\"toc-item\"><li><span><a href=\"#Вывод\" data-toc-modified-id=\"Вывод-4.5.1\"><span class=\"toc-item-num\">4.5.1&nbsp;&nbsp;</span>Вывод</a></span></li></ul></li><li><span><a href=\"#Анализ-сегмента-квартир-в-центре-Санкт-Петербурга\" data-toc-modified-id=\"Анализ-сегмента-квартир-в-центре-Санкт-Петербурга-4.6\"><span class=\"toc-item-num\">4.6&nbsp;&nbsp;</span>Анализ сегмента квартир в центре Санкт-Петербурга</a></span></li></ul></li><li><span><a href=\"#Общий-вывод\" data-toc-modified-id=\"Общий-вывод-5\"><span class=\"toc-item-num\">5&nbsp;&nbsp;</span>Общий вывод</a></span></li></ul></div>"
   ]
  },
  {
   "cell_type": "markdown",
   "metadata": {},
   "source": [
    "## Изучение данных из файла"
   ]
  },
  {
   "cell_type": "code",
   "execution_count": 1,
   "metadata": {},
   "outputs": [],
   "source": [
    "#импортируем библиотеки\n",
    "import pandas as pd\n",
    "import matplotlib.pyplot as plt"
   ]
  },
  {
   "cell_type": "code",
   "execution_count": 2,
   "metadata": {},
   "outputs": [],
   "source": [
    "#прописываем путь к датасету\n",
    "df = pd.read_csv('/datasets/real_estate_data.csv', sep = '\\t')"
   ]
  },
  {
   "cell_type": "code",
   "execution_count": 3,
   "metadata": {},
   "outputs": [
    {
     "name": "stdout",
     "output_type": "stream",
     "text": [
      "<class 'pandas.core.frame.DataFrame'>\n",
      "RangeIndex: 23699 entries, 0 to 23698\n",
      "Data columns (total 22 columns):\n",
      "total_images            23699 non-null int64\n",
      "last_price              23699 non-null float64\n",
      "total_area              23699 non-null float64\n",
      "first_day_exposition    23699 non-null object\n",
      "rooms                   23699 non-null int64\n",
      "ceiling_height          14504 non-null float64\n",
      "floors_total            23613 non-null float64\n",
      "living_area             21796 non-null float64\n",
      "floor                   23699 non-null int64\n",
      "is_apartment            2775 non-null object\n",
      "studio                  23699 non-null bool\n",
      "open_plan               23699 non-null bool\n",
      "kitchen_area            21421 non-null float64\n",
      "balcony                 12180 non-null float64\n",
      "locality_name           23650 non-null object\n",
      "airports_nearest        18157 non-null float64\n",
      "cityCenters_nearest     18180 non-null float64\n",
      "parks_around3000        18181 non-null float64\n",
      "parks_nearest           8079 non-null float64\n",
      "ponds_around3000        18181 non-null float64\n",
      "ponds_nearest           9110 non-null float64\n",
      "days_exposition         20518 non-null float64\n",
      "dtypes: bool(2), float64(14), int64(3), object(3)\n",
      "memory usage: 3.7+ MB\n"
     ]
    }
   ],
   "source": [
    "#посмотрим общую информацию о датасете\n",
    "df.info()"
   ]
  },
  {
   "cell_type": "code",
   "execution_count": 4,
   "metadata": {},
   "outputs": [
    {
     "data": {
      "text/html": [
       "<div>\n",
       "<style scoped>\n",
       "    .dataframe tbody tr th:only-of-type {\n",
       "        vertical-align: middle;\n",
       "    }\n",
       "\n",
       "    .dataframe tbody tr th {\n",
       "        vertical-align: top;\n",
       "    }\n",
       "\n",
       "    .dataframe thead th {\n",
       "        text-align: right;\n",
       "    }\n",
       "</style>\n",
       "<table border=\"1\" class=\"dataframe\">\n",
       "  <thead>\n",
       "    <tr style=\"text-align: right;\">\n",
       "      <th></th>\n",
       "      <th>total_images</th>\n",
       "      <th>last_price</th>\n",
       "      <th>total_area</th>\n",
       "      <th>first_day_exposition</th>\n",
       "      <th>rooms</th>\n",
       "      <th>ceiling_height</th>\n",
       "      <th>floors_total</th>\n",
       "      <th>living_area</th>\n",
       "      <th>floor</th>\n",
       "      <th>is_apartment</th>\n",
       "      <th>...</th>\n",
       "      <th>kitchen_area</th>\n",
       "      <th>balcony</th>\n",
       "      <th>locality_name</th>\n",
       "      <th>airports_nearest</th>\n",
       "      <th>cityCenters_nearest</th>\n",
       "      <th>parks_around3000</th>\n",
       "      <th>parks_nearest</th>\n",
       "      <th>ponds_around3000</th>\n",
       "      <th>ponds_nearest</th>\n",
       "      <th>days_exposition</th>\n",
       "    </tr>\n",
       "  </thead>\n",
       "  <tbody>\n",
       "    <tr>\n",
       "      <td>0</td>\n",
       "      <td>20</td>\n",
       "      <td>13000000.0</td>\n",
       "      <td>108.00</td>\n",
       "      <td>2019-03-07T00:00:00</td>\n",
       "      <td>3</td>\n",
       "      <td>2.70</td>\n",
       "      <td>16.0</td>\n",
       "      <td>51.00</td>\n",
       "      <td>8</td>\n",
       "      <td>NaN</td>\n",
       "      <td>...</td>\n",
       "      <td>25.00</td>\n",
       "      <td>NaN</td>\n",
       "      <td>Санкт-Петербург</td>\n",
       "      <td>18863.0</td>\n",
       "      <td>16028.0</td>\n",
       "      <td>1.0</td>\n",
       "      <td>482.0</td>\n",
       "      <td>2.0</td>\n",
       "      <td>755.0</td>\n",
       "      <td>NaN</td>\n",
       "    </tr>\n",
       "    <tr>\n",
       "      <td>1</td>\n",
       "      <td>7</td>\n",
       "      <td>3350000.0</td>\n",
       "      <td>40.40</td>\n",
       "      <td>2018-12-04T00:00:00</td>\n",
       "      <td>1</td>\n",
       "      <td>NaN</td>\n",
       "      <td>11.0</td>\n",
       "      <td>18.60</td>\n",
       "      <td>1</td>\n",
       "      <td>NaN</td>\n",
       "      <td>...</td>\n",
       "      <td>11.00</td>\n",
       "      <td>2.0</td>\n",
       "      <td>посёлок Шушары</td>\n",
       "      <td>12817.0</td>\n",
       "      <td>18603.0</td>\n",
       "      <td>0.0</td>\n",
       "      <td>NaN</td>\n",
       "      <td>0.0</td>\n",
       "      <td>NaN</td>\n",
       "      <td>81.0</td>\n",
       "    </tr>\n",
       "    <tr>\n",
       "      <td>2</td>\n",
       "      <td>10</td>\n",
       "      <td>5196000.0</td>\n",
       "      <td>56.00</td>\n",
       "      <td>2015-08-20T00:00:00</td>\n",
       "      <td>2</td>\n",
       "      <td>NaN</td>\n",
       "      <td>5.0</td>\n",
       "      <td>34.30</td>\n",
       "      <td>4</td>\n",
       "      <td>NaN</td>\n",
       "      <td>...</td>\n",
       "      <td>8.30</td>\n",
       "      <td>0.0</td>\n",
       "      <td>Санкт-Петербург</td>\n",
       "      <td>21741.0</td>\n",
       "      <td>13933.0</td>\n",
       "      <td>1.0</td>\n",
       "      <td>90.0</td>\n",
       "      <td>2.0</td>\n",
       "      <td>574.0</td>\n",
       "      <td>558.0</td>\n",
       "    </tr>\n",
       "    <tr>\n",
       "      <td>3</td>\n",
       "      <td>0</td>\n",
       "      <td>64900000.0</td>\n",
       "      <td>159.00</td>\n",
       "      <td>2015-07-24T00:00:00</td>\n",
       "      <td>3</td>\n",
       "      <td>NaN</td>\n",
       "      <td>14.0</td>\n",
       "      <td>NaN</td>\n",
       "      <td>9</td>\n",
       "      <td>NaN</td>\n",
       "      <td>...</td>\n",
       "      <td>NaN</td>\n",
       "      <td>0.0</td>\n",
       "      <td>Санкт-Петербург</td>\n",
       "      <td>28098.0</td>\n",
       "      <td>6800.0</td>\n",
       "      <td>2.0</td>\n",
       "      <td>84.0</td>\n",
       "      <td>3.0</td>\n",
       "      <td>234.0</td>\n",
       "      <td>424.0</td>\n",
       "    </tr>\n",
       "    <tr>\n",
       "      <td>4</td>\n",
       "      <td>2</td>\n",
       "      <td>10000000.0</td>\n",
       "      <td>100.00</td>\n",
       "      <td>2018-06-19T00:00:00</td>\n",
       "      <td>2</td>\n",
       "      <td>3.03</td>\n",
       "      <td>14.0</td>\n",
       "      <td>32.00</td>\n",
       "      <td>13</td>\n",
       "      <td>NaN</td>\n",
       "      <td>...</td>\n",
       "      <td>41.00</td>\n",
       "      <td>NaN</td>\n",
       "      <td>Санкт-Петербург</td>\n",
       "      <td>31856.0</td>\n",
       "      <td>8098.0</td>\n",
       "      <td>2.0</td>\n",
       "      <td>112.0</td>\n",
       "      <td>1.0</td>\n",
       "      <td>48.0</td>\n",
       "      <td>121.0</td>\n",
       "    </tr>\n",
       "    <tr>\n",
       "      <td>5</td>\n",
       "      <td>10</td>\n",
       "      <td>2890000.0</td>\n",
       "      <td>30.40</td>\n",
       "      <td>2018-09-10T00:00:00</td>\n",
       "      <td>1</td>\n",
       "      <td>NaN</td>\n",
       "      <td>12.0</td>\n",
       "      <td>14.40</td>\n",
       "      <td>5</td>\n",
       "      <td>NaN</td>\n",
       "      <td>...</td>\n",
       "      <td>9.10</td>\n",
       "      <td>NaN</td>\n",
       "      <td>городской посёлок Янино-1</td>\n",
       "      <td>NaN</td>\n",
       "      <td>NaN</td>\n",
       "      <td>NaN</td>\n",
       "      <td>NaN</td>\n",
       "      <td>NaN</td>\n",
       "      <td>NaN</td>\n",
       "      <td>55.0</td>\n",
       "    </tr>\n",
       "    <tr>\n",
       "      <td>6</td>\n",
       "      <td>6</td>\n",
       "      <td>3700000.0</td>\n",
       "      <td>37.30</td>\n",
       "      <td>2017-11-02T00:00:00</td>\n",
       "      <td>1</td>\n",
       "      <td>NaN</td>\n",
       "      <td>26.0</td>\n",
       "      <td>10.60</td>\n",
       "      <td>6</td>\n",
       "      <td>NaN</td>\n",
       "      <td>...</td>\n",
       "      <td>14.40</td>\n",
       "      <td>1.0</td>\n",
       "      <td>посёлок Парголово</td>\n",
       "      <td>52996.0</td>\n",
       "      <td>19143.0</td>\n",
       "      <td>0.0</td>\n",
       "      <td>NaN</td>\n",
       "      <td>0.0</td>\n",
       "      <td>NaN</td>\n",
       "      <td>155.0</td>\n",
       "    </tr>\n",
       "    <tr>\n",
       "      <td>7</td>\n",
       "      <td>5</td>\n",
       "      <td>7915000.0</td>\n",
       "      <td>71.60</td>\n",
       "      <td>2019-04-18T00:00:00</td>\n",
       "      <td>2</td>\n",
       "      <td>NaN</td>\n",
       "      <td>24.0</td>\n",
       "      <td>NaN</td>\n",
       "      <td>22</td>\n",
       "      <td>NaN</td>\n",
       "      <td>...</td>\n",
       "      <td>18.90</td>\n",
       "      <td>2.0</td>\n",
       "      <td>Санкт-Петербург</td>\n",
       "      <td>23982.0</td>\n",
       "      <td>11634.0</td>\n",
       "      <td>0.0</td>\n",
       "      <td>NaN</td>\n",
       "      <td>0.0</td>\n",
       "      <td>NaN</td>\n",
       "      <td>NaN</td>\n",
       "    </tr>\n",
       "    <tr>\n",
       "      <td>8</td>\n",
       "      <td>20</td>\n",
       "      <td>2900000.0</td>\n",
       "      <td>33.16</td>\n",
       "      <td>2018-05-23T00:00:00</td>\n",
       "      <td>1</td>\n",
       "      <td>NaN</td>\n",
       "      <td>27.0</td>\n",
       "      <td>15.43</td>\n",
       "      <td>26</td>\n",
       "      <td>NaN</td>\n",
       "      <td>...</td>\n",
       "      <td>8.81</td>\n",
       "      <td>NaN</td>\n",
       "      <td>посёлок Мурино</td>\n",
       "      <td>NaN</td>\n",
       "      <td>NaN</td>\n",
       "      <td>NaN</td>\n",
       "      <td>NaN</td>\n",
       "      <td>NaN</td>\n",
       "      <td>NaN</td>\n",
       "      <td>189.0</td>\n",
       "    </tr>\n",
       "    <tr>\n",
       "      <td>9</td>\n",
       "      <td>18</td>\n",
       "      <td>5400000.0</td>\n",
       "      <td>61.00</td>\n",
       "      <td>2017-02-26T00:00:00</td>\n",
       "      <td>3</td>\n",
       "      <td>2.50</td>\n",
       "      <td>9.0</td>\n",
       "      <td>43.60</td>\n",
       "      <td>7</td>\n",
       "      <td>NaN</td>\n",
       "      <td>...</td>\n",
       "      <td>6.50</td>\n",
       "      <td>2.0</td>\n",
       "      <td>Санкт-Петербург</td>\n",
       "      <td>50898.0</td>\n",
       "      <td>15008.0</td>\n",
       "      <td>0.0</td>\n",
       "      <td>NaN</td>\n",
       "      <td>0.0</td>\n",
       "      <td>NaN</td>\n",
       "      <td>289.0</td>\n",
       "    </tr>\n",
       "  </tbody>\n",
       "</table>\n",
       "<p>10 rows × 22 columns</p>\n",
       "</div>"
      ],
      "text/plain": [
       "   total_images  last_price  total_area first_day_exposition  rooms  \\\n",
       "0            20  13000000.0      108.00  2019-03-07T00:00:00      3   \n",
       "1             7   3350000.0       40.40  2018-12-04T00:00:00      1   \n",
       "2            10   5196000.0       56.00  2015-08-20T00:00:00      2   \n",
       "3             0  64900000.0      159.00  2015-07-24T00:00:00      3   \n",
       "4             2  10000000.0      100.00  2018-06-19T00:00:00      2   \n",
       "5            10   2890000.0       30.40  2018-09-10T00:00:00      1   \n",
       "6             6   3700000.0       37.30  2017-11-02T00:00:00      1   \n",
       "7             5   7915000.0       71.60  2019-04-18T00:00:00      2   \n",
       "8            20   2900000.0       33.16  2018-05-23T00:00:00      1   \n",
       "9            18   5400000.0       61.00  2017-02-26T00:00:00      3   \n",
       "\n",
       "   ceiling_height  floors_total  living_area  floor is_apartment  ...  \\\n",
       "0            2.70          16.0        51.00      8          NaN  ...   \n",
       "1             NaN          11.0        18.60      1          NaN  ...   \n",
       "2             NaN           5.0        34.30      4          NaN  ...   \n",
       "3             NaN          14.0          NaN      9          NaN  ...   \n",
       "4            3.03          14.0        32.00     13          NaN  ...   \n",
       "5             NaN          12.0        14.40      5          NaN  ...   \n",
       "6             NaN          26.0        10.60      6          NaN  ...   \n",
       "7             NaN          24.0          NaN     22          NaN  ...   \n",
       "8             NaN          27.0        15.43     26          NaN  ...   \n",
       "9            2.50           9.0        43.60      7          NaN  ...   \n",
       "\n",
       "   kitchen_area  balcony              locality_name  airports_nearest  \\\n",
       "0         25.00      NaN            Санкт-Петербург           18863.0   \n",
       "1         11.00      2.0             посёлок Шушары           12817.0   \n",
       "2          8.30      0.0            Санкт-Петербург           21741.0   \n",
       "3           NaN      0.0            Санкт-Петербург           28098.0   \n",
       "4         41.00      NaN            Санкт-Петербург           31856.0   \n",
       "5          9.10      NaN  городской посёлок Янино-1               NaN   \n",
       "6         14.40      1.0          посёлок Парголово           52996.0   \n",
       "7         18.90      2.0            Санкт-Петербург           23982.0   \n",
       "8          8.81      NaN             посёлок Мурино               NaN   \n",
       "9          6.50      2.0            Санкт-Петербург           50898.0   \n",
       "\n",
       "  cityCenters_nearest  parks_around3000  parks_nearest  ponds_around3000  \\\n",
       "0             16028.0               1.0          482.0               2.0   \n",
       "1             18603.0               0.0            NaN               0.0   \n",
       "2             13933.0               1.0           90.0               2.0   \n",
       "3              6800.0               2.0           84.0               3.0   \n",
       "4              8098.0               2.0          112.0               1.0   \n",
       "5                 NaN               NaN            NaN               NaN   \n",
       "6             19143.0               0.0            NaN               0.0   \n",
       "7             11634.0               0.0            NaN               0.0   \n",
       "8                 NaN               NaN            NaN               NaN   \n",
       "9             15008.0               0.0            NaN               0.0   \n",
       "\n",
       "   ponds_nearest  days_exposition  \n",
       "0          755.0              NaN  \n",
       "1            NaN             81.0  \n",
       "2          574.0            558.0  \n",
       "3          234.0            424.0  \n",
       "4           48.0            121.0  \n",
       "5            NaN             55.0  \n",
       "6            NaN            155.0  \n",
       "7            NaN              NaN  \n",
       "8            NaN            189.0  \n",
       "9            NaN            289.0  \n",
       "\n",
       "[10 rows x 22 columns]"
      ]
     },
     "execution_count": 4,
     "metadata": {},
     "output_type": "execute_result"
    }
   ],
   "source": [
    "#посмотрим на первые 10 строк\n",
    "df.head(10)"
   ]
  },
  {
   "cell_type": "code",
   "execution_count": 5,
   "metadata": {},
   "outputs": [
    {
     "data": {
      "text/html": [
       "<div>\n",
       "<style scoped>\n",
       "    .dataframe tbody tr th:only-of-type {\n",
       "        vertical-align: middle;\n",
       "    }\n",
       "\n",
       "    .dataframe tbody tr th {\n",
       "        vertical-align: top;\n",
       "    }\n",
       "\n",
       "    .dataframe thead th {\n",
       "        text-align: right;\n",
       "    }\n",
       "</style>\n",
       "<table border=\"1\" class=\"dataframe\">\n",
       "  <thead>\n",
       "    <tr style=\"text-align: right;\">\n",
       "      <th></th>\n",
       "      <th>total_images</th>\n",
       "      <th>last_price</th>\n",
       "      <th>total_area</th>\n",
       "      <th>rooms</th>\n",
       "      <th>ceiling_height</th>\n",
       "      <th>floors_total</th>\n",
       "      <th>living_area</th>\n",
       "      <th>floor</th>\n",
       "      <th>kitchen_area</th>\n",
       "      <th>balcony</th>\n",
       "      <th>airports_nearest</th>\n",
       "      <th>cityCenters_nearest</th>\n",
       "      <th>parks_around3000</th>\n",
       "      <th>parks_nearest</th>\n",
       "      <th>ponds_around3000</th>\n",
       "      <th>ponds_nearest</th>\n",
       "      <th>days_exposition</th>\n",
       "    </tr>\n",
       "  </thead>\n",
       "  <tbody>\n",
       "    <tr>\n",
       "      <td>count</td>\n",
       "      <td>23699.000000</td>\n",
       "      <td>2.369900e+04</td>\n",
       "      <td>23699.000000</td>\n",
       "      <td>23699.000000</td>\n",
       "      <td>14504.000000</td>\n",
       "      <td>23613.000000</td>\n",
       "      <td>21796.000000</td>\n",
       "      <td>23699.000000</td>\n",
       "      <td>21421.000000</td>\n",
       "      <td>12180.000000</td>\n",
       "      <td>18157.000000</td>\n",
       "      <td>18180.000000</td>\n",
       "      <td>18181.000000</td>\n",
       "      <td>8079.000000</td>\n",
       "      <td>18181.000000</td>\n",
       "      <td>9110.000000</td>\n",
       "      <td>20518.000000</td>\n",
       "    </tr>\n",
       "    <tr>\n",
       "      <td>mean</td>\n",
       "      <td>9.858475</td>\n",
       "      <td>6.541549e+06</td>\n",
       "      <td>60.348651</td>\n",
       "      <td>2.070636</td>\n",
       "      <td>2.771499</td>\n",
       "      <td>10.673824</td>\n",
       "      <td>34.457852</td>\n",
       "      <td>5.892358</td>\n",
       "      <td>10.569807</td>\n",
       "      <td>1.150082</td>\n",
       "      <td>28793.672193</td>\n",
       "      <td>14191.277833</td>\n",
       "      <td>0.611408</td>\n",
       "      <td>490.804555</td>\n",
       "      <td>0.770255</td>\n",
       "      <td>517.980900</td>\n",
       "      <td>180.888634</td>\n",
       "    </tr>\n",
       "    <tr>\n",
       "      <td>std</td>\n",
       "      <td>5.682529</td>\n",
       "      <td>1.088701e+07</td>\n",
       "      <td>35.654083</td>\n",
       "      <td>1.078405</td>\n",
       "      <td>1.261056</td>\n",
       "      <td>6.597173</td>\n",
       "      <td>22.030445</td>\n",
       "      <td>4.885249</td>\n",
       "      <td>5.905438</td>\n",
       "      <td>1.071300</td>\n",
       "      <td>12630.880622</td>\n",
       "      <td>8608.386210</td>\n",
       "      <td>0.802074</td>\n",
       "      <td>342.317995</td>\n",
       "      <td>0.938346</td>\n",
       "      <td>277.720643</td>\n",
       "      <td>219.727988</td>\n",
       "    </tr>\n",
       "    <tr>\n",
       "      <td>min</td>\n",
       "      <td>0.000000</td>\n",
       "      <td>1.219000e+04</td>\n",
       "      <td>12.000000</td>\n",
       "      <td>0.000000</td>\n",
       "      <td>1.000000</td>\n",
       "      <td>1.000000</td>\n",
       "      <td>2.000000</td>\n",
       "      <td>1.000000</td>\n",
       "      <td>1.300000</td>\n",
       "      <td>0.000000</td>\n",
       "      <td>0.000000</td>\n",
       "      <td>181.000000</td>\n",
       "      <td>0.000000</td>\n",
       "      <td>1.000000</td>\n",
       "      <td>0.000000</td>\n",
       "      <td>13.000000</td>\n",
       "      <td>1.000000</td>\n",
       "    </tr>\n",
       "    <tr>\n",
       "      <td>25%</td>\n",
       "      <td>6.000000</td>\n",
       "      <td>3.400000e+06</td>\n",
       "      <td>40.000000</td>\n",
       "      <td>1.000000</td>\n",
       "      <td>2.520000</td>\n",
       "      <td>5.000000</td>\n",
       "      <td>18.600000</td>\n",
       "      <td>2.000000</td>\n",
       "      <td>7.000000</td>\n",
       "      <td>0.000000</td>\n",
       "      <td>18585.000000</td>\n",
       "      <td>9238.000000</td>\n",
       "      <td>0.000000</td>\n",
       "      <td>288.000000</td>\n",
       "      <td>0.000000</td>\n",
       "      <td>294.000000</td>\n",
       "      <td>45.000000</td>\n",
       "    </tr>\n",
       "    <tr>\n",
       "      <td>50%</td>\n",
       "      <td>9.000000</td>\n",
       "      <td>4.650000e+06</td>\n",
       "      <td>52.000000</td>\n",
       "      <td>2.000000</td>\n",
       "      <td>2.650000</td>\n",
       "      <td>9.000000</td>\n",
       "      <td>30.000000</td>\n",
       "      <td>4.000000</td>\n",
       "      <td>9.100000</td>\n",
       "      <td>1.000000</td>\n",
       "      <td>26726.000000</td>\n",
       "      <td>13098.500000</td>\n",
       "      <td>0.000000</td>\n",
       "      <td>455.000000</td>\n",
       "      <td>1.000000</td>\n",
       "      <td>502.000000</td>\n",
       "      <td>95.000000</td>\n",
       "    </tr>\n",
       "    <tr>\n",
       "      <td>75%</td>\n",
       "      <td>14.000000</td>\n",
       "      <td>6.800000e+06</td>\n",
       "      <td>69.900000</td>\n",
       "      <td>3.000000</td>\n",
       "      <td>2.800000</td>\n",
       "      <td>16.000000</td>\n",
       "      <td>42.300000</td>\n",
       "      <td>8.000000</td>\n",
       "      <td>12.000000</td>\n",
       "      <td>2.000000</td>\n",
       "      <td>37273.000000</td>\n",
       "      <td>16293.000000</td>\n",
       "      <td>1.000000</td>\n",
       "      <td>612.000000</td>\n",
       "      <td>1.000000</td>\n",
       "      <td>729.000000</td>\n",
       "      <td>232.000000</td>\n",
       "    </tr>\n",
       "    <tr>\n",
       "      <td>max</td>\n",
       "      <td>50.000000</td>\n",
       "      <td>7.630000e+08</td>\n",
       "      <td>900.000000</td>\n",
       "      <td>19.000000</td>\n",
       "      <td>100.000000</td>\n",
       "      <td>60.000000</td>\n",
       "      <td>409.700000</td>\n",
       "      <td>33.000000</td>\n",
       "      <td>112.000000</td>\n",
       "      <td>5.000000</td>\n",
       "      <td>84869.000000</td>\n",
       "      <td>65968.000000</td>\n",
       "      <td>3.000000</td>\n",
       "      <td>3190.000000</td>\n",
       "      <td>3.000000</td>\n",
       "      <td>1344.000000</td>\n",
       "      <td>1580.000000</td>\n",
       "    </tr>\n",
       "  </tbody>\n",
       "</table>\n",
       "</div>"
      ],
      "text/plain": [
       "       total_images    last_price    total_area         rooms  ceiling_height  \\\n",
       "count  23699.000000  2.369900e+04  23699.000000  23699.000000    14504.000000   \n",
       "mean       9.858475  6.541549e+06     60.348651      2.070636        2.771499   \n",
       "std        5.682529  1.088701e+07     35.654083      1.078405        1.261056   \n",
       "min        0.000000  1.219000e+04     12.000000      0.000000        1.000000   \n",
       "25%        6.000000  3.400000e+06     40.000000      1.000000        2.520000   \n",
       "50%        9.000000  4.650000e+06     52.000000      2.000000        2.650000   \n",
       "75%       14.000000  6.800000e+06     69.900000      3.000000        2.800000   \n",
       "max       50.000000  7.630000e+08    900.000000     19.000000      100.000000   \n",
       "\n",
       "       floors_total   living_area         floor  kitchen_area       balcony  \\\n",
       "count  23613.000000  21796.000000  23699.000000  21421.000000  12180.000000   \n",
       "mean      10.673824     34.457852      5.892358     10.569807      1.150082   \n",
       "std        6.597173     22.030445      4.885249      5.905438      1.071300   \n",
       "min        1.000000      2.000000      1.000000      1.300000      0.000000   \n",
       "25%        5.000000     18.600000      2.000000      7.000000      0.000000   \n",
       "50%        9.000000     30.000000      4.000000      9.100000      1.000000   \n",
       "75%       16.000000     42.300000      8.000000     12.000000      2.000000   \n",
       "max       60.000000    409.700000     33.000000    112.000000      5.000000   \n",
       "\n",
       "       airports_nearest  cityCenters_nearest  parks_around3000  parks_nearest  \\\n",
       "count      18157.000000         18180.000000      18181.000000    8079.000000   \n",
       "mean       28793.672193         14191.277833          0.611408     490.804555   \n",
       "std        12630.880622          8608.386210          0.802074     342.317995   \n",
       "min            0.000000           181.000000          0.000000       1.000000   \n",
       "25%        18585.000000          9238.000000          0.000000     288.000000   \n",
       "50%        26726.000000         13098.500000          0.000000     455.000000   \n",
       "75%        37273.000000         16293.000000          1.000000     612.000000   \n",
       "max        84869.000000         65968.000000          3.000000    3190.000000   \n",
       "\n",
       "       ponds_around3000  ponds_nearest  days_exposition  \n",
       "count      18181.000000    9110.000000     20518.000000  \n",
       "mean           0.770255     517.980900       180.888634  \n",
       "std            0.938346     277.720643       219.727988  \n",
       "min            0.000000      13.000000         1.000000  \n",
       "25%            0.000000     294.000000        45.000000  \n",
       "50%            1.000000     502.000000        95.000000  \n",
       "75%            1.000000     729.000000       232.000000  \n",
       "max            3.000000    1344.000000      1580.000000  "
      ]
     },
     "execution_count": 5,
     "metadata": {},
     "output_type": "execute_result"
    }
   ],
   "source": [
    "#посмотриим на статистические характеристики датасета\n",
    "df.describe()"
   ]
  },
  {
   "cell_type": "code",
   "execution_count": 6,
   "metadata": {},
   "outputs": [
    {
     "data": {
      "text/plain": [
       "total_images                0\n",
       "last_price                  0\n",
       "total_area                  0\n",
       "first_day_exposition        0\n",
       "rooms                       0\n",
       "ceiling_height           9195\n",
       "floors_total               86\n",
       "living_area              1903\n",
       "floor                       0\n",
       "is_apartment            20924\n",
       "studio                      0\n",
       "open_plan                   0\n",
       "kitchen_area             2278\n",
       "balcony                 11519\n",
       "locality_name              49\n",
       "airports_nearest         5542\n",
       "cityCenters_nearest      5519\n",
       "parks_around3000         5518\n",
       "parks_nearest           15620\n",
       "ponds_around3000         5518\n",
       "ponds_nearest           14589\n",
       "days_exposition          3181\n",
       "dtype: int64"
      ]
     },
     "execution_count": 6,
     "metadata": {},
     "output_type": "execute_result"
    }
   ],
   "source": [
    "#посмотрим на пропуски\n",
    "df.isna().sum()"
   ]
  },
  {
   "cell_type": "code",
   "execution_count": 7,
   "metadata": {},
   "outputs": [
    {
     "data": {
      "text/plain": [
       "0"
      ]
     },
     "execution_count": 7,
     "metadata": {},
     "output_type": "execute_result"
    }
   ],
   "source": [
    "df.duplicated().sum()"
   ]
  },
  {
   "cell_type": "markdown",
   "metadata": {},
   "source": [
    "### Вывод"
   ]
  },
  {
   "cell_type": "markdown",
   "metadata": {},
   "source": [
    "Исходя из полученных данных можно судить, что в нашем датасете 23699 строки  и 22 столбца c данными и имеются пропуски.  Работы предстоит много... В 14 столбцах имеются пропуски - это просто ужас! Хорошо что нет дубликатов. Для выполнения нашего задания необходимо предобработать данные для столбцов: `ceiling_height`,`floors_total`,`living_area`, `floor`, `kitchen_area`, `balcony`, `locality_name`, `cityCenters_nearest`, `days_exposition`."
   ]
  },
  {
   "cell_type": "markdown",
   "metadata": {},
   "source": [
    "## Предобработка данных"
   ]
  },
  {
   "cell_type": "markdown",
   "metadata": {},
   "source": [
    "Переименуем столбец, согласно \"змеиного стиля\""
   ]
  },
  {
   "cell_type": "code",
   "execution_count": 8,
   "metadata": {},
   "outputs": [],
   "source": [
    "df = df.rename(columns = {'cityCenters_nearest' :'city_centers_nearest'})"
   ]
  },
  {
   "cell_type": "markdown",
   "metadata": {},
   "source": [
    "Удалим строки, где отсутствуют данные о локации квартир, т.к. их всего 49 и их доля состовляет 0,2% от всего датасета"
   ]
  },
  {
   "cell_type": "code",
   "execution_count": 9,
   "metadata": {},
   "outputs": [],
   "source": [
    "df.dropna(subset=['locality_name'], inplace=True)"
   ]
  },
  {
   "cell_type": "markdown",
   "metadata": {},
   "source": [
    "Поменяем формат даты размещения объявления о продаже квартиры и выведем на экран 5 строк столбца для проверки"
   ]
  },
  {
   "cell_type": "code",
   "execution_count": 10,
   "metadata": {},
   "outputs": [
    {
     "data": {
      "text/plain": [
       "0   2019-03-07\n",
       "1   2018-12-04\n",
       "2   2015-08-20\n",
       "3   2015-07-24\n",
       "4   2018-06-19\n",
       "Name: first_day_exposition, dtype: datetime64[ns]"
      ]
     },
     "execution_count": 10,
     "metadata": {},
     "output_type": "execute_result"
    }
   ],
   "source": [
    "df['first_day_exposition'] = pd.to_datetime(df['first_day_exposition'], format = '%Y-%m-%d')\n",
    "df['first_day_exposition'].head()"
   ]
  },
  {
   "cell_type": "markdown",
   "metadata": {},
   "source": [
    "Пропуски в столбце `balcony` имеются скорее всего из-за отсутствия балкона в квартире, поэтому заполним пропуски \"0\", переведем в целочисленный тип и проверим замену"
   ]
  },
  {
   "cell_type": "code",
   "execution_count": 11,
   "metadata": {},
   "outputs": [
    {
     "data": {
      "text/plain": [
       "0    0\n",
       "1    2\n",
       "2    0\n",
       "3    0\n",
       "4    0\n",
       "Name: balcony, dtype: int64"
      ]
     },
     "execution_count": 11,
     "metadata": {},
     "output_type": "execute_result"
    }
   ],
   "source": [
    "df['balcony'] = df['balcony'].fillna(0).astype('int')\n",
    "df['balcony'].head()"
   ]
  },
  {
   "cell_type": "markdown",
   "metadata": {},
   "source": [
    "Проверим столбец 'balcony' на наличие пропусков"
   ]
  },
  {
   "cell_type": "code",
   "execution_count": 12,
   "metadata": {
    "scrolled": true
   },
   "outputs": [
    {
     "data": {
      "text/plain": [
       "0"
      ]
     },
     "execution_count": 12,
     "metadata": {},
     "output_type": "execute_result"
    }
   ],
   "source": [
    "df['balcony'].isna().sum()"
   ]
  },
  {
   "cell_type": "markdown",
   "metadata": {},
   "source": [
    "Пропуски в столбцах `airports_nearest`, `parks_around3000`, `parks_nearest`,   `ponds_around3000`, `ponds_nearest` скорее всего появились из-за сбоя автоматического определения месторасположения квартиры. Данные пропуски заполнять не будем, т.к. для выполнения задания они не нужны."
   ]
  },
  {
   "cell_type": "markdown",
   "metadata": {},
   "source": [
    "Пропуски в столбцах `living_area`, `kitchen_area` `ceiling_height`, `floors_total` вероятнее всего связаны с размещением объявления не собственником квартиры, отсутствием документов, либо вообще такие объявления являются мошеническими."
   ]
  },
  {
   "cell_type": "markdown",
   "metadata": {},
   "source": [
    "Заполним пропуски в столбцах `living_area`, `kitchen_area`."
   ]
  },
  {
   "cell_type": "code",
   "execution_count": 13,
   "metadata": {
    "scrolled": true
   },
   "outputs": [],
   "source": [
    "df['living_area'] = df['living_area'].fillna(df['living_area'].mean()/df['total_area'].mean()*df['total_area'])\n",
    "df['kitchen_area'] = df['kitchen_area'].fillna(df['kitchen_area'].mean()/df['total_area'].mean()*df['total_area'])"
   ]
  },
  {
   "cell_type": "markdown",
   "metadata": {},
   "source": [
    "Проверим заполнение пропусков"
   ]
  },
  {
   "cell_type": "code",
   "execution_count": 14,
   "metadata": {},
   "outputs": [
    {
     "data": {
      "text/plain": [
       "0"
      ]
     },
     "execution_count": 14,
     "metadata": {},
     "output_type": "execute_result"
    }
   ],
   "source": [
    "df['living_area'].isna().sum()"
   ]
  },
  {
   "cell_type": "code",
   "execution_count": 15,
   "metadata": {},
   "outputs": [
    {
     "data": {
      "text/plain": [
       "0"
      ]
     },
     "execution_count": 15,
     "metadata": {},
     "output_type": "execute_result"
    }
   ],
   "source": [
    "df['kitchen_area'].isna().sum()"
   ]
  },
  {
   "cell_type": "markdown",
   "metadata": {},
   "source": [
    "Заполним пропуски в столбце ceiling_height в зависимости от стоимости квартиры, ее расположения и проверим пропуски"
   ]
  },
  {
   "cell_type": "code",
   "execution_count": 16,
   "metadata": {},
   "outputs": [],
   "source": [
    "df['ceiling_height'] = df['ceiling_height'].fillna(df.groupby(['last_price', 'locality_name'])\n",
    "                                                   ['ceiling_height'].transform('median'))"
   ]
  },
  {
   "cell_type": "code",
   "execution_count": 17,
   "metadata": {},
   "outputs": [
    {
     "data": {
      "text/plain": [
       "2893"
      ]
     },
     "execution_count": 17,
     "metadata": {},
     "output_type": "execute_result"
    }
   ],
   "source": [
    "df['ceiling_height'].isna().sum()"
   ]
  },
  {
   "cell_type": "markdown",
   "metadata": {},
   "source": [
    "Заполним оставшиеся пропуски медианным значением высоты потолков"
   ]
  },
  {
   "cell_type": "code",
   "execution_count": 18,
   "metadata": {},
   "outputs": [],
   "source": [
    "df['ceiling_height'] = df['ceiling_height'].fillna(df['ceiling_height'].median())"
   ]
  },
  {
   "cell_type": "code",
   "execution_count": 19,
   "metadata": {},
   "outputs": [
    {
     "data": {
      "text/plain": [
       "0"
      ]
     },
     "execution_count": 19,
     "metadata": {},
     "output_type": "execute_result"
    }
   ],
   "source": [
    "df['ceiling_height'].isna().sum()"
   ]
  },
  {
   "cell_type": "markdown",
   "metadata": {},
   "source": [
    "Заполним пропуски нулем (т.к. их всего 86 = 0,4% всего датасета)."
   ]
  },
  {
   "cell_type": "code",
   "execution_count": 20,
   "metadata": {},
   "outputs": [],
   "source": [
    "df['floors_total'] = df['floors_total'].fillna(0)"
   ]
  },
  {
   "cell_type": "code",
   "execution_count": 21,
   "metadata": {},
   "outputs": [
    {
     "data": {
      "text/plain": [
       "0"
      ]
     },
     "execution_count": 21,
     "metadata": {},
     "output_type": "execute_result"
    }
   ],
   "source": [
    "df['floors_total'].isna().sum()"
   ]
  },
  {
   "cell_type": "markdown",
   "metadata": {},
   "source": [
    "Проверим оставшиеся пропуски в датасете"
   ]
  },
  {
   "cell_type": "code",
   "execution_count": 22,
   "metadata": {},
   "outputs": [
    {
     "data": {
      "text/plain": [
       "total_images                0\n",
       "last_price                  0\n",
       "total_area                  0\n",
       "first_day_exposition        0\n",
       "rooms                       0\n",
       "ceiling_height              0\n",
       "floors_total                0\n",
       "living_area                 0\n",
       "floor                       0\n",
       "is_apartment            20890\n",
       "studio                      0\n",
       "open_plan                   0\n",
       "kitchen_area                0\n",
       "balcony                     0\n",
       "locality_name               0\n",
       "airports_nearest         5534\n",
       "city_centers_nearest     5511\n",
       "parks_around3000         5510\n",
       "parks_nearest           15586\n",
       "ponds_around3000         5510\n",
       "ponds_nearest           14565\n",
       "days_exposition          3180\n",
       "dtype: int64"
      ]
     },
     "execution_count": 22,
     "metadata": {},
     "output_type": "execute_result"
    }
   ],
   "source": [
    "df.isna().sum()"
   ]
  },
  {
   "cell_type": "markdown",
   "metadata": {},
   "source": [
    "Значения в столбце `floors_total` переведем в целочисленный тип "
   ]
  },
  {
   "cell_type": "code",
   "execution_count": 23,
   "metadata": {
    "scrolled": true
   },
   "outputs": [
    {
     "data": {
      "text/plain": [
       "dtype('int64')"
      ]
     },
     "execution_count": 23,
     "metadata": {},
     "output_type": "execute_result"
    }
   ],
   "source": [
    "df['floors_total'] = round(df['floors_total']).astype('int')\n",
    "df['floors_total'].dtype"
   ]
  },
  {
   "cell_type": "markdown",
   "metadata": {},
   "source": [
    "Построим сводную таблицу по количеству комнат, высоте потолка, высоты дома и площадям."
   ]
  },
  {
   "cell_type": "code",
   "execution_count": 24,
   "metadata": {},
   "outputs": [
    {
     "data": {
      "text/html": [
       "<div>\n",
       "<style scoped>\n",
       "    .dataframe tbody tr th:only-of-type {\n",
       "        vertical-align: middle;\n",
       "    }\n",
       "\n",
       "    .dataframe tbody tr th {\n",
       "        vertical-align: top;\n",
       "    }\n",
       "\n",
       "    .dataframe thead th {\n",
       "        text-align: right;\n",
       "    }\n",
       "</style>\n",
       "<table border=\"1\" class=\"dataframe\">\n",
       "  <thead>\n",
       "    <tr style=\"text-align: right;\">\n",
       "      <th></th>\n",
       "      <th>ceiling_height</th>\n",
       "      <th>floors_total</th>\n",
       "      <th>kitchen_area</th>\n",
       "      <th>living_area</th>\n",
       "      <th>total_area</th>\n",
       "    </tr>\n",
       "    <tr>\n",
       "      <th>rooms</th>\n",
       "      <th></th>\n",
       "      <th></th>\n",
       "      <th></th>\n",
       "      <th></th>\n",
       "      <th></th>\n",
       "    </tr>\n",
       "  </thead>\n",
       "  <tbody>\n",
       "    <tr>\n",
       "      <td>0</td>\n",
       "      <td>2.816472</td>\n",
       "      <td>16.639594</td>\n",
       "      <td>5.128234</td>\n",
       "      <td>19.581065</td>\n",
       "      <td>29.279746</td>\n",
       "    </tr>\n",
       "    <tr>\n",
       "      <td>1</td>\n",
       "      <td>2.672657</td>\n",
       "      <td>12.588477</td>\n",
       "      <td>9.213331</td>\n",
       "      <td>18.265330</td>\n",
       "      <td>37.627459</td>\n",
       "    </tr>\n",
       "    <tr>\n",
       "      <td>2</td>\n",
       "      <td>2.718299</td>\n",
       "      <td>9.883645</td>\n",
       "      <td>9.961028</td>\n",
       "      <td>31.799086</td>\n",
       "      <td>55.842278</td>\n",
       "    </tr>\n",
       "    <tr>\n",
       "      <td>3</td>\n",
       "      <td>2.755186</td>\n",
       "      <td>9.667414</td>\n",
       "      <td>11.488410</td>\n",
       "      <td>47.325676</td>\n",
       "      <td>77.748020</td>\n",
       "    </tr>\n",
       "    <tr>\n",
       "      <td>4</td>\n",
       "      <td>2.875055</td>\n",
       "      <td>7.938723</td>\n",
       "      <td>14.167191</td>\n",
       "      <td>67.104327</td>\n",
       "      <td>107.681787</td>\n",
       "    </tr>\n",
       "    <tr>\n",
       "      <td>5</td>\n",
       "      <td>3.094417</td>\n",
       "      <td>7.058282</td>\n",
       "      <td>19.674751</td>\n",
       "      <td>99.924896</td>\n",
       "      <td>161.474816</td>\n",
       "    </tr>\n",
       "    <tr>\n",
       "      <td>6</td>\n",
       "      <td>3.148714</td>\n",
       "      <td>5.990476</td>\n",
       "      <td>21.697093</td>\n",
       "      <td>130.815368</td>\n",
       "      <td>201.537619</td>\n",
       "    </tr>\n",
       "    <tr>\n",
       "      <td>7</td>\n",
       "      <td>3.299492</td>\n",
       "      <td>5.711864</td>\n",
       "      <td>25.565154</td>\n",
       "      <td>166.894482</td>\n",
       "      <td>265.325424</td>\n",
       "    </tr>\n",
       "    <tr>\n",
       "      <td>8</td>\n",
       "      <td>3.219167</td>\n",
       "      <td>5.666667</td>\n",
       "      <td>30.199428</td>\n",
       "      <td>168.683333</td>\n",
       "      <td>259.233333</td>\n",
       "    </tr>\n",
       "    <tr>\n",
       "      <td>9</td>\n",
       "      <td>3.094375</td>\n",
       "      <td>4.500000</td>\n",
       "      <td>27.082418</td>\n",
       "      <td>183.248348</td>\n",
       "      <td>305.975000</td>\n",
       "    </tr>\n",
       "    <tr>\n",
       "      <td>10</td>\n",
       "      <td>3.263333</td>\n",
       "      <td>6.000000</td>\n",
       "      <td>22.866667</td>\n",
       "      <td>165.566667</td>\n",
       "      <td>259.566667</td>\n",
       "    </tr>\n",
       "    <tr>\n",
       "      <td>11</td>\n",
       "      <td>3.415000</td>\n",
       "      <td>6.000000</td>\n",
       "      <td>12.600000</td>\n",
       "      <td>133.900000</td>\n",
       "      <td>188.900000</td>\n",
       "    </tr>\n",
       "    <tr>\n",
       "      <td>12</td>\n",
       "      <td>2.800000</td>\n",
       "      <td>25.000000</td>\n",
       "      <td>112.000000</td>\n",
       "      <td>409.700000</td>\n",
       "      <td>900.000000</td>\n",
       "    </tr>\n",
       "    <tr>\n",
       "      <td>14</td>\n",
       "      <td>2.900000</td>\n",
       "      <td>4.500000</td>\n",
       "      <td>21.250000</td>\n",
       "      <td>195.150000</td>\n",
       "      <td>304.200000</td>\n",
       "    </tr>\n",
       "    <tr>\n",
       "      <td>15</td>\n",
       "      <td>3.500000</td>\n",
       "      <td>6.000000</td>\n",
       "      <td>100.000000</td>\n",
       "      <td>409.000000</td>\n",
       "      <td>590.000000</td>\n",
       "    </tr>\n",
       "    <tr>\n",
       "      <td>16</td>\n",
       "      <td>3.000000</td>\n",
       "      <td>4.000000</td>\n",
       "      <td>13.000000</td>\n",
       "      <td>180.000000</td>\n",
       "      <td>270.000000</td>\n",
       "    </tr>\n",
       "    <tr>\n",
       "      <td>19</td>\n",
       "      <td>2.640000</td>\n",
       "      <td>5.000000</td>\n",
       "      <td>27.600000</td>\n",
       "      <td>264.500000</td>\n",
       "      <td>374.600000</td>\n",
       "    </tr>\n",
       "  </tbody>\n",
       "</table>\n",
       "</div>"
      ],
      "text/plain": [
       "       ceiling_height  floors_total  kitchen_area  living_area  total_area\n",
       "rooms                                                                     \n",
       "0            2.816472     16.639594      5.128234    19.581065   29.279746\n",
       "1            2.672657     12.588477      9.213331    18.265330   37.627459\n",
       "2            2.718299      9.883645      9.961028    31.799086   55.842278\n",
       "3            2.755186      9.667414     11.488410    47.325676   77.748020\n",
       "4            2.875055      7.938723     14.167191    67.104327  107.681787\n",
       "5            3.094417      7.058282     19.674751    99.924896  161.474816\n",
       "6            3.148714      5.990476     21.697093   130.815368  201.537619\n",
       "7            3.299492      5.711864     25.565154   166.894482  265.325424\n",
       "8            3.219167      5.666667     30.199428   168.683333  259.233333\n",
       "9            3.094375      4.500000     27.082418   183.248348  305.975000\n",
       "10           3.263333      6.000000     22.866667   165.566667  259.566667\n",
       "11           3.415000      6.000000     12.600000   133.900000  188.900000\n",
       "12           2.800000     25.000000    112.000000   409.700000  900.000000\n",
       "14           2.900000      4.500000     21.250000   195.150000  304.200000\n",
       "15           3.500000      6.000000    100.000000   409.000000  590.000000\n",
       "16           3.000000      4.000000     13.000000   180.000000  270.000000\n",
       "19           2.640000      5.000000     27.600000   264.500000  374.600000"
      ]
     },
     "execution_count": 24,
     "metadata": {},
     "output_type": "execute_result"
    }
   ],
   "source": [
    "df_area= df.pivot_table(index = 'rooms', values = ('total_area','living_area', 'kitchen_area','ceiling_height',\n",
    "                                                   'floors_total'))\n",
    "df_area.head(20)"
   ]
  },
  {
   "cell_type": "markdown",
   "metadata": {},
   "source": [
    "Можно увидеть, что в датасете присутствуют данные о продаже от студий до 19-комнатной квартиры."
   ]
  },
  {
   "cell_type": "markdown",
   "metadata": {},
   "source": [
    "Значения в столбце `last_price` переведем в целочисленный тип "
   ]
  },
  {
   "cell_type": "code",
   "execution_count": 25,
   "metadata": {},
   "outputs": [
    {
     "data": {
      "text/plain": [
       "dtype('int64')"
      ]
     },
     "execution_count": 25,
     "metadata": {},
     "output_type": "execute_result"
    }
   ],
   "source": [
    "df['last_price'] = df['last_price'].astype('int')\n",
    "df['last_price'].dtype"
   ]
  },
  {
   "cell_type": "markdown",
   "metadata": {},
   "source": [
    "Приведем к единобразию \"посёлок\" в \"поселок\""
   ]
  },
  {
   "cell_type": "code",
   "execution_count": 26,
   "metadata": {},
   "outputs": [],
   "source": [
    "df['locality_name'] = df['locality_name'].str.replace('ё', 'е')"
   ]
  },
  {
   "cell_type": "markdown",
   "metadata": {},
   "source": [
    "Подсчитаем количество локаций о продаже квартир"
   ]
  },
  {
   "cell_type": "code",
   "execution_count": 27,
   "metadata": {},
   "outputs": [
    {
     "data": {
      "text/plain": [
       "Санкт-Петербург                     15721\n",
       "поселок Мурино                        556\n",
       "поселок Шушары                        440\n",
       "Всеволожск                            398\n",
       "Пушкин                                369\n",
       "                                    ...  \n",
       "коттеджный поселок Лесное               1\n",
       "городской поселок Свирьстрой            1\n",
       "садовое товарищество Новая Ропша        1\n",
       "деревня Хязельки                        1\n",
       "поселок Дзержинского                    1\n",
       "Name: locality_name, Length: 330, dtype: int64"
      ]
     },
     "execution_count": 27,
     "metadata": {},
     "output_type": "execute_result"
    }
   ],
   "source": [
    "df['locality_name'].value_counts()"
   ]
  },
  {
   "cell_type": "markdown",
   "metadata": {},
   "source": [
    "### Вывод"
   ]
  },
  {
   "cell_type": "markdown",
   "metadata": {},
   "source": [
    "На данном шаге были заполнены пропуски в интересующих нас столбцах и преобразованны типы данных. Пропуски в столбце `days_exposition` заполнять не будем, т.к. их заполнение может исказить реальные данные."
   ]
  },
  {
   "cell_type": "markdown",
   "metadata": {},
   "source": [
    "## Расчёты и добавление результатов в таблицу"
   ]
  },
  {
   "cell_type": "markdown",
   "metadata": {},
   "source": [
    "Добавим столбец со стоимостью квадратного метра"
   ]
  },
  {
   "cell_type": "code",
   "execution_count": 28,
   "metadata": {},
   "outputs": [],
   "source": [
    "df['price_sq_m'] = df['last_price']/df['total_area']"
   ]
  },
  {
   "cell_type": "markdown",
   "metadata": {},
   "source": [
    "Добавим столбец с обозначением дня недели размещения объявления о продаже квартиры"
   ]
  },
  {
   "cell_type": "code",
   "execution_count": 29,
   "metadata": {},
   "outputs": [
    {
     "data": {
      "text/plain": [
       "3    4286\n",
       "1    4175\n",
       "4    3992\n",
       "2    3966\n",
       "0    3606\n",
       "5    1933\n",
       "6    1692\n",
       "Name: weekday, dtype: int64"
      ]
     },
     "execution_count": 29,
     "metadata": {},
     "output_type": "execute_result"
    }
   ],
   "source": [
    "df['weekday'] = df['first_day_exposition'].dt.weekday\n",
    "df['weekday'].value_counts()"
   ]
  },
  {
   "cell_type": "markdown",
   "metadata": {},
   "source": [
    "Добавим столбец с обозначением месяца размещения объявления о продаже квартиры"
   ]
  },
  {
   "cell_type": "code",
   "execution_count": 30,
   "metadata": {},
   "outputs": [
    {
     "data": {
      "text/plain": [
       "2     2639\n",
       "3     2582\n",
       "4     2373\n",
       "11    2367\n",
       "10    2124\n",
       "9     1979\n",
       "6     1755\n",
       "8     1742\n",
       "7     1690\n",
       "12    1638\n",
       "1     1491\n",
       "5     1270\n",
       "Name: month, dtype: int64"
      ]
     },
     "execution_count": 30,
     "metadata": {},
     "output_type": "execute_result"
    }
   ],
   "source": [
    "df['month'] = df['first_day_exposition'].dt.month\n",
    "df['month'].value_counts()"
   ]
  },
  {
   "cell_type": "markdown",
   "metadata": {},
   "source": [
    "Добавим столбец с обозначением года размещения объявления о продаже квартиры"
   ]
  },
  {
   "cell_type": "code",
   "execution_count": 31,
   "metadata": {},
   "outputs": [
    {
     "data": {
      "text/plain": [
       "2018    8512\n",
       "2017    8185\n",
       "2019    2879\n",
       "2016    2765\n",
       "2015    1173\n",
       "2014     136\n",
       "Name: year, dtype: int64"
      ]
     },
     "execution_count": 31,
     "metadata": {},
     "output_type": "execute_result"
    }
   ],
   "source": [
    "df['year'] = df['first_day_exposition'].dt.year\n",
    "df['year'].value_counts()"
   ]
  },
  {
   "cell_type": "markdown",
   "metadata": {},
   "source": [
    "В датасете имеются данные о продаже квартир за 2014-2019 годы."
   ]
  },
  {
   "cell_type": "markdown",
   "metadata": {},
   "source": [
    "Напишем функцию для создания категорий этажей "
   ]
  },
  {
   "cell_type": "code",
   "execution_count": 32,
   "metadata": {},
   "outputs": [],
   "source": [
    "def floor_cat(row):\n",
    "     if row['floor'] == 1:\n",
    "        return 'первый'\n",
    "     elif row ['floor'] == row['floors_total']:\n",
    "        return 'последний'\n",
    "     return 'другой'"
   ]
  },
  {
   "cell_type": "markdown",
   "metadata": {},
   "source": [
    "Создадим столбец с категориями этажей, используя нашу функцию"
   ]
  },
  {
   "cell_type": "code",
   "execution_count": 33,
   "metadata": {},
   "outputs": [],
   "source": [
    "df['floor_type'] = df.apply(floor_cat, axis=1)"
   ]
  },
  {
   "cell_type": "markdown",
   "metadata": {},
   "source": [
    "Подсчитаем уникальные значения категорий этажей"
   ]
  },
  {
   "cell_type": "code",
   "execution_count": 34,
   "metadata": {},
   "outputs": [
    {
     "data": {
      "text/plain": [
       "другой       17408\n",
       "последний     3330\n",
       "первый        2912\n",
       "Name: floor_type, dtype: int64"
      ]
     },
     "execution_count": 34,
     "metadata": {},
     "output_type": "execute_result"
    }
   ],
   "source": [
    "df['floor_type'].value_counts()"
   ]
  },
  {
   "cell_type": "markdown",
   "metadata": {},
   "source": [
    "Добавим столбцы соотношений жилой и общей площади и площади кухни к общей"
   ]
  },
  {
   "cell_type": "code",
   "execution_count": 35,
   "metadata": {},
   "outputs": [],
   "source": [
    "df['ratio_living_total'] = df['living_area']/df['total_area']\n",
    "df['ratio_kitchen_total'] = df['kitchen_area']/df['total_area']"
   ]
  },
  {
   "cell_type": "markdown",
   "metadata": {},
   "source": [
    "Посмотрим на получившуюся таблицу и статистические характеристики"
   ]
  },
  {
   "cell_type": "code",
   "execution_count": 36,
   "metadata": {},
   "outputs": [
    {
     "data": {
      "text/html": [
       "<div>\n",
       "<style scoped>\n",
       "    .dataframe tbody tr th:only-of-type {\n",
       "        vertical-align: middle;\n",
       "    }\n",
       "\n",
       "    .dataframe tbody tr th {\n",
       "        vertical-align: top;\n",
       "    }\n",
       "\n",
       "    .dataframe thead th {\n",
       "        text-align: right;\n",
       "    }\n",
       "</style>\n",
       "<table border=\"1\" class=\"dataframe\">\n",
       "  <thead>\n",
       "    <tr style=\"text-align: right;\">\n",
       "      <th></th>\n",
       "      <th>total_images</th>\n",
       "      <th>last_price</th>\n",
       "      <th>total_area</th>\n",
       "      <th>first_day_exposition</th>\n",
       "      <th>rooms</th>\n",
       "      <th>ceiling_height</th>\n",
       "      <th>floors_total</th>\n",
       "      <th>living_area</th>\n",
       "      <th>floor</th>\n",
       "      <th>is_apartment</th>\n",
       "      <th>...</th>\n",
       "      <th>ponds_around3000</th>\n",
       "      <th>ponds_nearest</th>\n",
       "      <th>days_exposition</th>\n",
       "      <th>price_sq_m</th>\n",
       "      <th>weekday</th>\n",
       "      <th>month</th>\n",
       "      <th>year</th>\n",
       "      <th>floor_type</th>\n",
       "      <th>ratio_living_total</th>\n",
       "      <th>ratio_kitchen_total</th>\n",
       "    </tr>\n",
       "  </thead>\n",
       "  <tbody>\n",
       "    <tr>\n",
       "      <td>0</td>\n",
       "      <td>20</td>\n",
       "      <td>13000000</td>\n",
       "      <td>108.0</td>\n",
       "      <td>2019-03-07</td>\n",
       "      <td>3</td>\n",
       "      <td>2.700</td>\n",
       "      <td>16</td>\n",
       "      <td>51.000000</td>\n",
       "      <td>8</td>\n",
       "      <td>NaN</td>\n",
       "      <td>...</td>\n",
       "      <td>2.0</td>\n",
       "      <td>755.0</td>\n",
       "      <td>NaN</td>\n",
       "      <td>120370.370370</td>\n",
       "      <td>3</td>\n",
       "      <td>3</td>\n",
       "      <td>2019</td>\n",
       "      <td>другой</td>\n",
       "      <td>0.472222</td>\n",
       "      <td>0.231481</td>\n",
       "    </tr>\n",
       "    <tr>\n",
       "      <td>1</td>\n",
       "      <td>7</td>\n",
       "      <td>3350000</td>\n",
       "      <td>40.4</td>\n",
       "      <td>2018-12-04</td>\n",
       "      <td>1</td>\n",
       "      <td>2.625</td>\n",
       "      <td>11</td>\n",
       "      <td>18.600000</td>\n",
       "      <td>1</td>\n",
       "      <td>NaN</td>\n",
       "      <td>...</td>\n",
       "      <td>0.0</td>\n",
       "      <td>NaN</td>\n",
       "      <td>81.0</td>\n",
       "      <td>82920.792079</td>\n",
       "      <td>1</td>\n",
       "      <td>12</td>\n",
       "      <td>2018</td>\n",
       "      <td>первый</td>\n",
       "      <td>0.460396</td>\n",
       "      <td>0.272277</td>\n",
       "    </tr>\n",
       "    <tr>\n",
       "      <td>2</td>\n",
       "      <td>10</td>\n",
       "      <td>5196000</td>\n",
       "      <td>56.0</td>\n",
       "      <td>2015-08-20</td>\n",
       "      <td>2</td>\n",
       "      <td>2.640</td>\n",
       "      <td>5</td>\n",
       "      <td>34.300000</td>\n",
       "      <td>4</td>\n",
       "      <td>NaN</td>\n",
       "      <td>...</td>\n",
       "      <td>2.0</td>\n",
       "      <td>574.0</td>\n",
       "      <td>558.0</td>\n",
       "      <td>92785.714286</td>\n",
       "      <td>3</td>\n",
       "      <td>8</td>\n",
       "      <td>2015</td>\n",
       "      <td>другой</td>\n",
       "      <td>0.612500</td>\n",
       "      <td>0.148214</td>\n",
       "    </tr>\n",
       "    <tr>\n",
       "      <td>3</td>\n",
       "      <td>0</td>\n",
       "      <td>64900000</td>\n",
       "      <td>159.0</td>\n",
       "      <td>2015-07-24</td>\n",
       "      <td>3</td>\n",
       "      <td>2.640</td>\n",
       "      <td>14</td>\n",
       "      <td>90.790205</td>\n",
       "      <td>9</td>\n",
       "      <td>NaN</td>\n",
       "      <td>...</td>\n",
       "      <td>3.0</td>\n",
       "      <td>234.0</td>\n",
       "      <td>424.0</td>\n",
       "      <td>408176.100629</td>\n",
       "      <td>4</td>\n",
       "      <td>7</td>\n",
       "      <td>2015</td>\n",
       "      <td>другой</td>\n",
       "      <td>0.571008</td>\n",
       "      <td>0.175146</td>\n",
       "    </tr>\n",
       "    <tr>\n",
       "      <td>4</td>\n",
       "      <td>2</td>\n",
       "      <td>10000000</td>\n",
       "      <td>100.0</td>\n",
       "      <td>2018-06-19</td>\n",
       "      <td>2</td>\n",
       "      <td>3.030</td>\n",
       "      <td>14</td>\n",
       "      <td>32.000000</td>\n",
       "      <td>13</td>\n",
       "      <td>NaN</td>\n",
       "      <td>...</td>\n",
       "      <td>1.0</td>\n",
       "      <td>48.0</td>\n",
       "      <td>121.0</td>\n",
       "      <td>100000.000000</td>\n",
       "      <td>1</td>\n",
       "      <td>6</td>\n",
       "      <td>2018</td>\n",
       "      <td>другой</td>\n",
       "      <td>0.320000</td>\n",
       "      <td>0.410000</td>\n",
       "    </tr>\n",
       "  </tbody>\n",
       "</table>\n",
       "<p>5 rows × 29 columns</p>\n",
       "</div>"
      ],
      "text/plain": [
       "   total_images  last_price  total_area first_day_exposition  rooms  \\\n",
       "0            20    13000000       108.0           2019-03-07      3   \n",
       "1             7     3350000        40.4           2018-12-04      1   \n",
       "2            10     5196000        56.0           2015-08-20      2   \n",
       "3             0    64900000       159.0           2015-07-24      3   \n",
       "4             2    10000000       100.0           2018-06-19      2   \n",
       "\n",
       "   ceiling_height  floors_total  living_area  floor is_apartment  ...  \\\n",
       "0           2.700            16    51.000000      8          NaN  ...   \n",
       "1           2.625            11    18.600000      1          NaN  ...   \n",
       "2           2.640             5    34.300000      4          NaN  ...   \n",
       "3           2.640            14    90.790205      9          NaN  ...   \n",
       "4           3.030            14    32.000000     13          NaN  ...   \n",
       "\n",
       "   ponds_around3000  ponds_nearest  days_exposition     price_sq_m weekday  \\\n",
       "0               2.0          755.0              NaN  120370.370370       3   \n",
       "1               0.0            NaN             81.0   82920.792079       1   \n",
       "2               2.0          574.0            558.0   92785.714286       3   \n",
       "3               3.0          234.0            424.0  408176.100629       4   \n",
       "4               1.0           48.0            121.0  100000.000000       1   \n",
       "\n",
       "   month  year  floor_type  ratio_living_total  ratio_kitchen_total  \n",
       "0      3  2019      другой            0.472222             0.231481  \n",
       "1     12  2018      первый            0.460396             0.272277  \n",
       "2      8  2015      другой            0.612500             0.148214  \n",
       "3      7  2015      другой            0.571008             0.175146  \n",
       "4      6  2018      другой            0.320000             0.410000  \n",
       "\n",
       "[5 rows x 29 columns]"
      ]
     },
     "execution_count": 36,
     "metadata": {},
     "output_type": "execute_result"
    }
   ],
   "source": [
    "df.head()"
   ]
  },
  {
   "cell_type": "code",
   "execution_count": 37,
   "metadata": {},
   "outputs": [
    {
     "data": {
      "text/html": [
       "<div>\n",
       "<style scoped>\n",
       "    .dataframe tbody tr th:only-of-type {\n",
       "        vertical-align: middle;\n",
       "    }\n",
       "\n",
       "    .dataframe tbody tr th {\n",
       "        vertical-align: top;\n",
       "    }\n",
       "\n",
       "    .dataframe thead th {\n",
       "        text-align: right;\n",
       "    }\n",
       "</style>\n",
       "<table border=\"1\" class=\"dataframe\">\n",
       "  <thead>\n",
       "    <tr style=\"text-align: right;\">\n",
       "      <th></th>\n",
       "      <th>total_images</th>\n",
       "      <th>last_price</th>\n",
       "      <th>total_area</th>\n",
       "      <th>rooms</th>\n",
       "      <th>ceiling_height</th>\n",
       "      <th>floors_total</th>\n",
       "      <th>living_area</th>\n",
       "      <th>floor</th>\n",
       "      <th>kitchen_area</th>\n",
       "      <th>balcony</th>\n",
       "      <th>...</th>\n",
       "      <th>parks_nearest</th>\n",
       "      <th>ponds_around3000</th>\n",
       "      <th>ponds_nearest</th>\n",
       "      <th>days_exposition</th>\n",
       "      <th>price_sq_m</th>\n",
       "      <th>weekday</th>\n",
       "      <th>month</th>\n",
       "      <th>year</th>\n",
       "      <th>ratio_living_total</th>\n",
       "      <th>ratio_kitchen_total</th>\n",
       "    </tr>\n",
       "  </thead>\n",
       "  <tbody>\n",
       "    <tr>\n",
       "      <td>count</td>\n",
       "      <td>23650.000000</td>\n",
       "      <td>2.365000e+04</td>\n",
       "      <td>23650.000000</td>\n",
       "      <td>23650.000000</td>\n",
       "      <td>23650.000000</td>\n",
       "      <td>23650.000000</td>\n",
       "      <td>23650.00000</td>\n",
       "      <td>23650.000000</td>\n",
       "      <td>23650.000000</td>\n",
       "      <td>23650.000000</td>\n",
       "      <td>...</td>\n",
       "      <td>8064.000000</td>\n",
       "      <td>18140.000000</td>\n",
       "      <td>9085.000000</td>\n",
       "      <td>20470.000000</td>\n",
       "      <td>2.365000e+04</td>\n",
       "      <td>23650.000000</td>\n",
       "      <td>23650.000000</td>\n",
       "      <td>23650.000000</td>\n",
       "      <td>23650.000000</td>\n",
       "      <td>23650.000000</td>\n",
       "    </tr>\n",
       "    <tr>\n",
       "      <td>mean</td>\n",
       "      <td>9.862326</td>\n",
       "      <td>6.541127e+06</td>\n",
       "      <td>60.329069</td>\n",
       "      <td>2.070106</td>\n",
       "      <td>2.729553</td>\n",
       "      <td>10.637505</td>\n",
       "      <td>34.58242</td>\n",
       "      <td>5.893277</td>\n",
       "      <td>10.502875</td>\n",
       "      <td>0.591712</td>\n",
       "      <td>...</td>\n",
       "      <td>490.830729</td>\n",
       "      <td>0.769680</td>\n",
       "      <td>518.059879</td>\n",
       "      <td>180.753200</td>\n",
       "      <td>9.943225e+04</td>\n",
       "      <td>2.568710</td>\n",
       "      <td>6.401564</td>\n",
       "      <td>2017.370021</td>\n",
       "      <td>0.565252</td>\n",
       "      <td>0.186199</td>\n",
       "    </tr>\n",
       "    <tr>\n",
       "      <td>std</td>\n",
       "      <td>5.682278</td>\n",
       "      <td>1.089640e+07</td>\n",
       "      <td>35.661808</td>\n",
       "      <td>1.078620</td>\n",
       "      <td>0.993767</td>\n",
       "      <td>6.613891</td>\n",
       "      <td>22.35971</td>\n",
       "      <td>4.883317</td>\n",
       "      <td>6.037440</td>\n",
       "      <td>0.959662</td>\n",
       "      <td>...</td>\n",
       "      <td>342.554386</td>\n",
       "      <td>0.937948</td>\n",
       "      <td>277.841733</td>\n",
       "      <td>219.777916</td>\n",
       "      <td>5.033794e+04</td>\n",
       "      <td>1.788808</td>\n",
       "      <td>3.491418</td>\n",
       "      <td>1.037806</td>\n",
       "      <td>0.101082</td>\n",
       "      <td>0.069477</td>\n",
       "    </tr>\n",
       "    <tr>\n",
       "      <td>min</td>\n",
       "      <td>0.000000</td>\n",
       "      <td>1.219000e+04</td>\n",
       "      <td>12.000000</td>\n",
       "      <td>0.000000</td>\n",
       "      <td>1.000000</td>\n",
       "      <td>0.000000</td>\n",
       "      <td>2.00000</td>\n",
       "      <td>1.000000</td>\n",
       "      <td>1.300000</td>\n",
       "      <td>0.000000</td>\n",
       "      <td>...</td>\n",
       "      <td>1.000000</td>\n",
       "      <td>0.000000</td>\n",
       "      <td>13.000000</td>\n",
       "      <td>1.000000</td>\n",
       "      <td>1.118349e+02</td>\n",
       "      <td>0.000000</td>\n",
       "      <td>1.000000</td>\n",
       "      <td>2014.000000</td>\n",
       "      <td>0.021583</td>\n",
       "      <td>0.025381</td>\n",
       "    </tr>\n",
       "    <tr>\n",
       "      <td>25%</td>\n",
       "      <td>6.000000</td>\n",
       "      <td>3.400000e+06</td>\n",
       "      <td>40.000000</td>\n",
       "      <td>1.000000</td>\n",
       "      <td>2.550000</td>\n",
       "      <td>5.000000</td>\n",
       "      <td>19.00000</td>\n",
       "      <td>2.000000</td>\n",
       "      <td>7.000000</td>\n",
       "      <td>0.000000</td>\n",
       "      <td>...</td>\n",
       "      <td>288.000000</td>\n",
       "      <td>0.000000</td>\n",
       "      <td>293.000000</td>\n",
       "      <td>45.000000</td>\n",
       "      <td>7.661497e+04</td>\n",
       "      <td>1.000000</td>\n",
       "      <td>3.000000</td>\n",
       "      <td>2017.000000</td>\n",
       "      <td>0.500000</td>\n",
       "      <td>0.136931</td>\n",
       "    </tr>\n",
       "    <tr>\n",
       "      <td>50%</td>\n",
       "      <td>9.000000</td>\n",
       "      <td>4.650000e+06</td>\n",
       "      <td>52.000000</td>\n",
       "      <td>2.000000</td>\n",
       "      <td>2.640000</td>\n",
       "      <td>9.000000</td>\n",
       "      <td>30.00000</td>\n",
       "      <td>4.000000</td>\n",
       "      <td>9.000000</td>\n",
       "      <td>0.000000</td>\n",
       "      <td>...</td>\n",
       "      <td>454.500000</td>\n",
       "      <td>1.000000</td>\n",
       "      <td>502.000000</td>\n",
       "      <td>95.000000</td>\n",
       "      <td>9.500000e+04</td>\n",
       "      <td>3.000000</td>\n",
       "      <td>6.000000</td>\n",
       "      <td>2017.000000</td>\n",
       "      <td>0.571008</td>\n",
       "      <td>0.175146</td>\n",
       "    </tr>\n",
       "    <tr>\n",
       "      <td>75%</td>\n",
       "      <td>14.000000</td>\n",
       "      <td>6.799000e+06</td>\n",
       "      <td>69.700000</td>\n",
       "      <td>3.000000</td>\n",
       "      <td>2.750000</td>\n",
       "      <td>16.000000</td>\n",
       "      <td>42.10000</td>\n",
       "      <td>8.000000</td>\n",
       "      <td>12.000000</td>\n",
       "      <td>1.000000</td>\n",
       "      <td>...</td>\n",
       "      <td>612.000000</td>\n",
       "      <td>1.000000</td>\n",
       "      <td>730.000000</td>\n",
       "      <td>231.000000</td>\n",
       "      <td>1.142742e+05</td>\n",
       "      <td>4.000000</td>\n",
       "      <td>10.000000</td>\n",
       "      <td>2018.000000</td>\n",
       "      <td>0.631579</td>\n",
       "      <td>0.223773</td>\n",
       "    </tr>\n",
       "    <tr>\n",
       "      <td>max</td>\n",
       "      <td>50.000000</td>\n",
       "      <td>7.630000e+08</td>\n",
       "      <td>900.000000</td>\n",
       "      <td>19.000000</td>\n",
       "      <td>100.000000</td>\n",
       "      <td>60.000000</td>\n",
       "      <td>409.70000</td>\n",
       "      <td>33.000000</td>\n",
       "      <td>112.000000</td>\n",
       "      <td>5.000000</td>\n",
       "      <td>...</td>\n",
       "      <td>3190.000000</td>\n",
       "      <td>3.000000</td>\n",
       "      <td>1344.000000</td>\n",
       "      <td>1580.000000</td>\n",
       "      <td>1.907500e+06</td>\n",
       "      <td>6.000000</td>\n",
       "      <td>12.000000</td>\n",
       "      <td>2019.000000</td>\n",
       "      <td>1.000000</td>\n",
       "      <td>0.787879</td>\n",
       "    </tr>\n",
       "  </tbody>\n",
       "</table>\n",
       "<p>8 rows × 23 columns</p>\n",
       "</div>"
      ],
      "text/plain": [
       "       total_images    last_price    total_area         rooms  ceiling_height  \\\n",
       "count  23650.000000  2.365000e+04  23650.000000  23650.000000    23650.000000   \n",
       "mean       9.862326  6.541127e+06     60.329069      2.070106        2.729553   \n",
       "std        5.682278  1.089640e+07     35.661808      1.078620        0.993767   \n",
       "min        0.000000  1.219000e+04     12.000000      0.000000        1.000000   \n",
       "25%        6.000000  3.400000e+06     40.000000      1.000000        2.550000   \n",
       "50%        9.000000  4.650000e+06     52.000000      2.000000        2.640000   \n",
       "75%       14.000000  6.799000e+06     69.700000      3.000000        2.750000   \n",
       "max       50.000000  7.630000e+08    900.000000     19.000000      100.000000   \n",
       "\n",
       "       floors_total  living_area         floor  kitchen_area       balcony  \\\n",
       "count  23650.000000  23650.00000  23650.000000  23650.000000  23650.000000   \n",
       "mean      10.637505     34.58242      5.893277     10.502875      0.591712   \n",
       "std        6.613891     22.35971      4.883317      6.037440      0.959662   \n",
       "min        0.000000      2.00000      1.000000      1.300000      0.000000   \n",
       "25%        5.000000     19.00000      2.000000      7.000000      0.000000   \n",
       "50%        9.000000     30.00000      4.000000      9.000000      0.000000   \n",
       "75%       16.000000     42.10000      8.000000     12.000000      1.000000   \n",
       "max       60.000000    409.70000     33.000000    112.000000      5.000000   \n",
       "\n",
       "       ...  parks_nearest  ponds_around3000  ponds_nearest  days_exposition  \\\n",
       "count  ...    8064.000000      18140.000000    9085.000000     20470.000000   \n",
       "mean   ...     490.830729          0.769680     518.059879       180.753200   \n",
       "std    ...     342.554386          0.937948     277.841733       219.777916   \n",
       "min    ...       1.000000          0.000000      13.000000         1.000000   \n",
       "25%    ...     288.000000          0.000000     293.000000        45.000000   \n",
       "50%    ...     454.500000          1.000000     502.000000        95.000000   \n",
       "75%    ...     612.000000          1.000000     730.000000       231.000000   \n",
       "max    ...    3190.000000          3.000000    1344.000000      1580.000000   \n",
       "\n",
       "         price_sq_m       weekday         month          year  \\\n",
       "count  2.365000e+04  23650.000000  23650.000000  23650.000000   \n",
       "mean   9.943225e+04      2.568710      6.401564   2017.370021   \n",
       "std    5.033794e+04      1.788808      3.491418      1.037806   \n",
       "min    1.118349e+02      0.000000      1.000000   2014.000000   \n",
       "25%    7.661497e+04      1.000000      3.000000   2017.000000   \n",
       "50%    9.500000e+04      3.000000      6.000000   2017.000000   \n",
       "75%    1.142742e+05      4.000000     10.000000   2018.000000   \n",
       "max    1.907500e+06      6.000000     12.000000   2019.000000   \n",
       "\n",
       "       ratio_living_total  ratio_kitchen_total  \n",
       "count        23650.000000         23650.000000  \n",
       "mean             0.565252             0.186199  \n",
       "std              0.101082             0.069477  \n",
       "min              0.021583             0.025381  \n",
       "25%              0.500000             0.136931  \n",
       "50%              0.571008             0.175146  \n",
       "75%              0.631579             0.223773  \n",
       "max              1.000000             0.787879  \n",
       "\n",
       "[8 rows x 23 columns]"
      ]
     },
     "execution_count": 37,
     "metadata": {},
     "output_type": "execute_result"
    }
   ],
   "source": [
    "df.describe()"
   ]
  },
  {
   "cell_type": "markdown",
   "metadata": {},
   "source": [
    "### Вывод"
   ]
  },
  {
   "cell_type": "markdown",
   "metadata": {},
   "source": [
    "На данном шаге были рассчитаны и добавлены в таблицу: цена квадратного метра, день недели, год и месяц публикации объявления, категоризированые этажи квартир, соотношение жилой и общей площади, а также отношение площади кухни к общей. "
   ]
  },
  {
   "cell_type": "markdown",
   "metadata": {},
   "source": [
    "## Исследовательский анализ данных"
   ]
  },
  {
   "cell_type": "markdown",
   "metadata": {},
   "source": [
    "### Построение гистограмм"
   ]
  },
  {
   "cell_type": "markdown",
   "metadata": {},
   "source": [
    "Построим гистограмму столбца `total_area`. Сделаем срез данных для квартир по площади от 20 до 80 кв.м."
   ]
  },
  {
   "cell_type": "code",
   "execution_count": 38,
   "metadata": {},
   "outputs": [
    {
     "data": {
      "text/plain": [
       "Text(0, 0.5, 'количество квартир')"
      ]
     },
     "execution_count": 38,
     "metadata": {},
     "output_type": "execute_result"
    },
    {
     "data": {
      "image/png": "[encoded data removed]",
      "text/plain": [
       "<Figure size 432x288 with 1 Axes>"
      ]
     },
     "metadata": {
      "needs_background": "light"
     },
     "output_type": "display_data"
    }
   ],
   "source": [
    "df['total_area'].hist(bins=50, range = (20,80))\n",
    "plt.title('total_area')\n",
    "plt.xlabel('площадь квартиры')\n",
    "plt.ylabel('количество квартир')"
   ]
  },
  {
   "cell_type": "markdown",
   "metadata": {},
   "source": [
    "По данной гистограмме можно сказать, что имеются несколько пиков (в диапазонах: 31-36 кв.м., 41-45 кв.м., 57-61 кв.м.). Вероятнее всего эти пики соответствуют площадям для  1-комнатных, затем  для 2-комнатных и после этого для 3-комнатных квартир."
   ]
  },
  {
   "cell_type": "markdown",
   "metadata": {},
   "source": [
    "Построим гистограмму столбца `last_price` для квартир стоимостью до 20 млн. руб."
   ]
  },
  {
   "cell_type": "code",
   "execution_count": 39,
   "metadata": {},
   "outputs": [
    {
     "data": {
      "text/plain": [
       "Text(0, 0.5, 'количество квартир')"
      ]
     },
     "execution_count": 39,
     "metadata": {},
     "output_type": "execute_result"
    },
    {
     "data": {
      "image/png": "[encoded data removed]",
      "text/plain": [
       "<Figure size 432x288 with 1 Axes>"
      ]
     },
     "metadata": {
      "needs_background": "light"
     },
     "output_type": "display_data"
    }
   ],
   "source": [
    "df['last_price'].hist(bins=100, range = (0,20000000))\n",
    "plt.title('last_price')\n",
    "plt.xlabel('стоимость квартиры')\n",
    "plt.ylabel('количество квартир')"
   ]
  },
  {
   "cell_type": "markdown",
   "metadata": {},
   "source": [
    "Гистограмма стоимости квартир похожа на распределение Пуассона."
   ]
  },
  {
   "cell_type": "markdown",
   "metadata": {},
   "source": [
    "Построим гистограмму для столбца `rooms`"
   ]
  },
  {
   "cell_type": "code",
   "execution_count": 40,
   "metadata": {},
   "outputs": [
    {
     "data": {
      "text/plain": [
       "Text(0, 0.5, 'количество квартир')"
      ]
     },
     "execution_count": 40,
     "metadata": {},
     "output_type": "execute_result"
    },
    {
     "data": {
      "image/png": "[encoded data removed]",
      "text/plain": [
       "<Figure size 432x288 with 1 Axes>"
      ]
     },
     "metadata": {
      "needs_background": "light"
     },
     "output_type": "display_data"
    }
   ],
   "source": [
    "df['rooms'].hist(bins = 20)\n",
    "plt.title('rooms')\n",
    "plt.xlabel('количество комнат в квартире')\n",
    "plt.ylabel('количество квартир')"
   ]
  },
  {
   "cell_type": "markdown",
   "metadata": {},
   "source": [
    "По данной гистограмме видно, что больше всего данных предоставлено о 1, 2 и 3-х комнатных квартирах, как было замечено в выводе к гистограмме столбца `total_area`"
   ]
  },
  {
   "cell_type": "markdown",
   "metadata": {},
   "source": [
    "Построим гистограмму по столбцу `ceiling_height`"
   ]
  },
  {
   "cell_type": "code",
   "execution_count": 41,
   "metadata": {},
   "outputs": [
    {
     "data": {
      "text/plain": [
       "Text(0, 0.5, 'количество квартир')"
      ]
     },
     "execution_count": 41,
     "metadata": {},
     "output_type": "execute_result"
    },
    {
     "data": {
      "image/png": "[encoded data removed]",
      "text/plain": [
       "<Figure size 432x288 with 1 Axes>"
      ]
     },
     "metadata": {
      "needs_background": "light"
     },
     "output_type": "display_data"
    }
   ],
   "source": [
    "df['ceiling_height'].hist(bins=50, range = (2,4))\n",
    "plt.title('ceiling_height')\n",
    "plt.xlabel('высота потолка')\n",
    "plt.ylabel('количество квартир')"
   ]
  },
  {
   "cell_type": "markdown",
   "metadata": {},
   "source": [
    "Данная гистограмма далека от нормального распределения, требуется очистка данных от редких и выбивающихся значений."
   ]
  },
  {
   "cell_type": "markdown",
   "metadata": {},
   "source": [
    "### Изучение времени продажи квартиры "
   ]
  },
  {
   "cell_type": "code",
   "execution_count": 42,
   "metadata": {
    "scrolled": true
   },
   "outputs": [
    {
     "data": {
      "text/plain": [
       "count    20470.000000\n",
       "mean       180.753200\n",
       "std        219.777916\n",
       "min          1.000000\n",
       "25%         45.000000\n",
       "50%         95.000000\n",
       "75%        231.000000\n",
       "max       1580.000000\n",
       "Name: days_exposition, dtype: float64"
      ]
     },
     "execution_count": 42,
     "metadata": {},
     "output_type": "execute_result"
    }
   ],
   "source": [
    "#Посмотрим имеющиеся данные \n",
    "df['days_exposition'].describe() "
   ]
  },
  {
   "cell_type": "markdown",
   "metadata": {},
   "source": [
    "Подсчитывать среднее и медианное время продажи квартиры нецелесообразно, т.к. эти данные видно при вызове метода describe: среднее время продажи квартиры = 181 день, а медианное = 95 дней."
   ]
  },
  {
   "cell_type": "markdown",
   "metadata": {},
   "source": [
    "Построение гистограммы"
   ]
  },
  {
   "cell_type": "code",
   "execution_count": 43,
   "metadata": {},
   "outputs": [
    {
     "data": {
      "text/plain": [
       "Text(0, 0.5, 'количество квартир')"
      ]
     },
     "execution_count": 43,
     "metadata": {},
     "output_type": "execute_result"
    },
    {
     "data": {
      "image/png": "[encoded data removed]",
      "text/plain": [
       "<Figure size 432x288 with 1 Axes>"
      ]
     },
     "metadata": {
      "needs_background": "light"
     },
     "output_type": "display_data"
    }
   ],
   "source": [
    "df['days_exposition'].hist(bins=50, range=(0,231))#Возьмем срез до 3 квартиля\n",
    "plt.title('days_exposition')\n",
    "plt.xlabel('дни')\n",
    "plt.ylabel('количество квартир')"
   ]
  },
  {
   "cell_type": "markdown",
   "metadata": {},
   "source": [
    "Заполним пропуски выбивающимся маркером и преобразуем тип данных"
   ]
  },
  {
   "cell_type": "code",
   "execution_count": 44,
   "metadata": {},
   "outputs": [],
   "source": [
    "df['days_exposition'] = df['days_exposition'].fillna(9000).astype('int')"
   ]
  },
  {
   "cell_type": "markdown",
   "metadata": {},
   "source": [
    "#### Вывод"
   ]
  },
  {
   "cell_type": "markdown",
   "metadata": {},
   "source": [
    "Среднее время продажи составляет 181 день, а медианное время продажи составляет 95 дней. Обычно продажа квартиры занимает менее 100 дней. Очень быстрой продажей квартиры можно считать срок менее 45 дней, а необычно долгой свыше 231 дня."
   ]
  },
  {
   "cell_type": "markdown",
   "metadata": {},
   "source": [
    "### Удаление редких и выбивающихся значений"
   ]
  },
  {
   "cell_type": "markdown",
   "metadata": {},
   "source": [
    "Построим диаграммы размаха для столбцов датасета."
   ]
  },
  {
   "cell_type": "markdown",
   "metadata": {},
   "source": [
    "Посмотрим \"ящики с усами\" для столбцов `total_area`, `kitchen_area`, `living_area`"
   ]
  },
  {
   "cell_type": "code",
   "execution_count": 45,
   "metadata": {},
   "outputs": [
    {
     "data": {
      "image/png": "[encoded data removed]",
      "text/plain": [
       "<Figure size 360x360 with 1 Axes>"
      ]
     },
     "metadata": {
      "needs_background": "light"
     },
     "output_type": "display_data"
    }
   ],
   "source": [
    "df.boxplot('total_area', figsize =(5, 5))\n",
    "plt.show()"
   ]
  },
  {
   "cell_type": "code",
   "execution_count": 46,
   "metadata": {},
   "outputs": [
    {
     "data": {
      "image/png": "[encoded data removed]",
      "text/plain": [
       "<Figure size 360x360 with 1 Axes>"
      ]
     },
     "metadata": {
      "needs_background": "light"
     },
     "output_type": "display_data"
    }
   ],
   "source": [
    "df.boxplot('kitchen_area', figsize =(5, 5))\n",
    "plt.show()"
   ]
  },
  {
   "cell_type": "code",
   "execution_count": 47,
   "metadata": {},
   "outputs": [
    {
     "data": {
      "image/png": "[encoded data removed]",
      "text/plain": [
       "<Figure size 360x360 with 1 Axes>"
      ]
     },
     "metadata": {
      "needs_background": "light"
     },
     "output_type": "display_data"
    }
   ],
   "source": [
    "df.boxplot('living_area', figsize =(5, 5))\n",
    "plt.show()"
   ]
  },
  {
   "cell_type": "markdown",
   "metadata": {},
   "source": [
    "Посмотрим на \"ящик с усами\" для столбца `last_price`"
   ]
  },
  {
   "cell_type": "code",
   "execution_count": 48,
   "metadata": {},
   "outputs": [
    {
     "data": {
      "text/plain": [
       "(0, 20000000)"
      ]
     },
     "execution_count": 48,
     "metadata": {},
     "output_type": "execute_result"
    },
    {
     "data": {
      "image/png": "[encoded data removed]",
      "text/plain": [
       "<Figure size 432x288 with 1 Axes>"
      ]
     },
     "metadata": {
      "needs_background": "light"
     },
     "output_type": "display_data"
    }
   ],
   "source": [
    "df.boxplot('last_price')\n",
    "plt.ylim(0,20000000)"
   ]
  },
  {
   "cell_type": "markdown",
   "metadata": {},
   "source": [
    "Посмотрим на \"ящик с усами\" для столбца `rooms`"
   ]
  },
  {
   "cell_type": "code",
   "execution_count": 49,
   "metadata": {},
   "outputs": [
    {
     "data": {
      "text/plain": [
       "(0, 19)"
      ]
     },
     "execution_count": 49,
     "metadata": {},
     "output_type": "execute_result"
    },
    {
     "data": {
      "image/png": "[encoded data removed]",
      "text/plain": [
       "<Figure size 432x288 with 1 Axes>"
      ]
     },
     "metadata": {
      "needs_background": "light"
     },
     "output_type": "display_data"
    }
   ],
   "source": [
    "df.boxplot('rooms')\n",
    "plt.ylim(0,19)"
   ]
  },
  {
   "cell_type": "markdown",
   "metadata": {},
   "source": [
    "Посмотрим на \"ящик с усами\" для столбца `ceiling_height`"
   ]
  },
  {
   "cell_type": "code",
   "execution_count": 50,
   "metadata": {},
   "outputs": [
    {
     "data": {
      "text/plain": [
       "(0, 7)"
      ]
     },
     "execution_count": 50,
     "metadata": {},
     "output_type": "execute_result"
    },
    {
     "data": {
      "image/png": "[encoded data removed]",
      "text/plain": [
       "<Figure size 432x288 with 1 Axes>"
      ]
     },
     "metadata": {
      "needs_background": "light"
     },
     "output_type": "display_data"
    }
   ],
   "source": [
    "df.boxplot('ceiling_height')\n",
    "plt.ylim(0,7)"
   ]
  },
  {
   "cell_type": "markdown",
   "metadata": {},
   "source": [
    "Во всех рассмотренных столбцах имеются редкие и выбивающиеся значения. Применим стандартную функцию для очистки данных в 1,5 межквартильного размаха в каждую сторону."
   ]
  },
  {
   "cell_type": "markdown",
   "metadata": {},
   "source": [
    "Стандартная функция очищения исходного датафрейма от выбросов и возврата очищенных данных в датасет"
   ]
  },
  {
   "cell_type": "code",
   "execution_count": 51,
   "metadata": {},
   "outputs": [],
   "source": [
    "def remove_outlier(df, col_name):\n",
    "    q1 = df[col_name].quantile(0.25)\n",
    "    q3 = df[col_name].quantile(0.75)\n",
    "    iqr = q3-q1 \n",
    "    fence_low  = q1-1.5*iqr\n",
    "    fence_high = q3+1.5*iqr\n",
    "    df_out = df.loc[(df[col_name] > fence_low) & (df[col_name] < fence_high),col_name]\n",
    "    return df_out"
   ]
  },
  {
   "cell_type": "markdown",
   "metadata": {},
   "source": [
    "Создадим список столбцов, в которых необходимо очистить данные и применим к ним функцию"
   ]
  },
  {
   "cell_type": "code",
   "execution_count": 52,
   "metadata": {},
   "outputs": [],
   "source": [
    "list = ['last_price', 'total_area', 'kitchen_area', 'living_area', 'days_exposition', \n",
    "                 'ceiling_height', 'rooms']\n",
    "for col in list:\n",
    "    df[col] = remove_outlier(df, col)"
   ]
  },
  {
   "cell_type": "markdown",
   "metadata": {},
   "source": [
    "Посмотрим на очищенные данные"
   ]
  },
  {
   "cell_type": "code",
   "execution_count": 53,
   "metadata": {},
   "outputs": [
    {
     "data": {
      "text/html": [
       "<div>\n",
       "<style scoped>\n",
       "    .dataframe tbody tr th:only-of-type {\n",
       "        vertical-align: middle;\n",
       "    }\n",
       "\n",
       "    .dataframe tbody tr th {\n",
       "        vertical-align: top;\n",
       "    }\n",
       "\n",
       "    .dataframe thead th {\n",
       "        text-align: right;\n",
       "    }\n",
       "</style>\n",
       "<table border=\"1\" class=\"dataframe\">\n",
       "  <thead>\n",
       "    <tr style=\"text-align: right;\">\n",
       "      <th></th>\n",
       "      <th>total_images</th>\n",
       "      <th>last_price</th>\n",
       "      <th>total_area</th>\n",
       "      <th>rooms</th>\n",
       "      <th>ceiling_height</th>\n",
       "      <th>floors_total</th>\n",
       "      <th>living_area</th>\n",
       "      <th>floor</th>\n",
       "      <th>kitchen_area</th>\n",
       "      <th>balcony</th>\n",
       "      <th>...</th>\n",
       "      <th>parks_nearest</th>\n",
       "      <th>ponds_around3000</th>\n",
       "      <th>ponds_nearest</th>\n",
       "      <th>days_exposition</th>\n",
       "      <th>price_sq_m</th>\n",
       "      <th>weekday</th>\n",
       "      <th>month</th>\n",
       "      <th>year</th>\n",
       "      <th>ratio_living_total</th>\n",
       "      <th>ratio_kitchen_total</th>\n",
       "    </tr>\n",
       "  </thead>\n",
       "  <tbody>\n",
       "    <tr>\n",
       "      <td>count</td>\n",
       "      <td>23650.000000</td>\n",
       "      <td>2.159500e+04</td>\n",
       "      <td>22406.000000</td>\n",
       "      <td>23455.000000</td>\n",
       "      <td>21972.000000</td>\n",
       "      <td>23650.000000</td>\n",
       "      <td>22764.000000</td>\n",
       "      <td>23650.000000</td>\n",
       "      <td>22329.000000</td>\n",
       "      <td>23650.000000</td>\n",
       "      <td>...</td>\n",
       "      <td>8064.000000</td>\n",
       "      <td>18140.000000</td>\n",
       "      <td>9085.000000</td>\n",
       "      <td>20070.000000</td>\n",
       "      <td>2.365000e+04</td>\n",
       "      <td>23650.000000</td>\n",
       "      <td>23650.000000</td>\n",
       "      <td>23650.000000</td>\n",
       "      <td>23650.000000</td>\n",
       "      <td>23650.000000</td>\n",
       "    </tr>\n",
       "    <tr>\n",
       "      <td>mean</td>\n",
       "      <td>9.862326</td>\n",
       "      <td>4.838942e+06</td>\n",
       "      <td>54.325685</td>\n",
       "      <td>2.029631</td>\n",
       "      <td>2.653425</td>\n",
       "      <td>10.637505</td>\n",
       "      <td>31.520641</td>\n",
       "      <td>5.893277</td>\n",
       "      <td>9.420630</td>\n",
       "      <td>0.591712</td>\n",
       "      <td>...</td>\n",
       "      <td>490.830729</td>\n",
       "      <td>0.769680</td>\n",
       "      <td>518.059879</td>\n",
       "      <td>162.392427</td>\n",
       "      <td>9.943225e+04</td>\n",
       "      <td>2.568710</td>\n",
       "      <td>6.401564</td>\n",
       "      <td>2017.370021</td>\n",
       "      <td>0.565252</td>\n",
       "      <td>0.186199</td>\n",
       "    </tr>\n",
       "    <tr>\n",
       "      <td>std</td>\n",
       "      <td>5.682278</td>\n",
       "      <td>2.217282e+06</td>\n",
       "      <td>19.349559</td>\n",
       "      <td>0.973653</td>\n",
       "      <td>0.138129</td>\n",
       "      <td>6.613891</td>\n",
       "      <td>13.755649</td>\n",
       "      <td>4.883317</td>\n",
       "      <td>3.181018</td>\n",
       "      <td>0.959662</td>\n",
       "      <td>...</td>\n",
       "      <td>342.554386</td>\n",
       "      <td>0.937948</td>\n",
       "      <td>277.841733</td>\n",
       "      <td>177.658640</td>\n",
       "      <td>5.033794e+04</td>\n",
       "      <td>1.788808</td>\n",
       "      <td>3.491418</td>\n",
       "      <td>1.037806</td>\n",
       "      <td>0.101082</td>\n",
       "      <td>0.069477</td>\n",
       "    </tr>\n",
       "    <tr>\n",
       "      <td>min</td>\n",
       "      <td>0.000000</td>\n",
       "      <td>1.219000e+04</td>\n",
       "      <td>12.000000</td>\n",
       "      <td>0.000000</td>\n",
       "      <td>2.250000</td>\n",
       "      <td>0.000000</td>\n",
       "      <td>2.000000</td>\n",
       "      <td>1.000000</td>\n",
       "      <td>1.300000</td>\n",
       "      <td>0.000000</td>\n",
       "      <td>...</td>\n",
       "      <td>1.000000</td>\n",
       "      <td>0.000000</td>\n",
       "      <td>13.000000</td>\n",
       "      <td>1.000000</td>\n",
       "      <td>1.118349e+02</td>\n",
       "      <td>0.000000</td>\n",
       "      <td>1.000000</td>\n",
       "      <td>2014.000000</td>\n",
       "      <td>0.021583</td>\n",
       "      <td>0.025381</td>\n",
       "    </tr>\n",
       "    <tr>\n",
       "      <td>25%</td>\n",
       "      <td>6.000000</td>\n",
       "      <td>3.300000e+06</td>\n",
       "      <td>39.400000</td>\n",
       "      <td>1.000000</td>\n",
       "      <td>2.550000</td>\n",
       "      <td>5.000000</td>\n",
       "      <td>18.700000</td>\n",
       "      <td>2.000000</td>\n",
       "      <td>7.000000</td>\n",
       "      <td>0.000000</td>\n",
       "      <td>...</td>\n",
       "      <td>288.000000</td>\n",
       "      <td>0.000000</td>\n",
       "      <td>293.000000</td>\n",
       "      <td>44.000000</td>\n",
       "      <td>7.661497e+04</td>\n",
       "      <td>1.000000</td>\n",
       "      <td>3.000000</td>\n",
       "      <td>2017.000000</td>\n",
       "      <td>0.500000</td>\n",
       "      <td>0.136931</td>\n",
       "    </tr>\n",
       "    <tr>\n",
       "      <td>50%</td>\n",
       "      <td>9.000000</td>\n",
       "      <td>4.400000e+06</td>\n",
       "      <td>50.100000</td>\n",
       "      <td>2.000000</td>\n",
       "      <td>2.640000</td>\n",
       "      <td>9.000000</td>\n",
       "      <td>30.000000</td>\n",
       "      <td>4.000000</td>\n",
       "      <td>9.000000</td>\n",
       "      <td>0.000000</td>\n",
       "      <td>...</td>\n",
       "      <td>454.500000</td>\n",
       "      <td>1.000000</td>\n",
       "      <td>502.000000</td>\n",
       "      <td>92.000000</td>\n",
       "      <td>9.500000e+04</td>\n",
       "      <td>3.000000</td>\n",
       "      <td>6.000000</td>\n",
       "      <td>2017.000000</td>\n",
       "      <td>0.571008</td>\n",
       "      <td>0.175146</td>\n",
       "    </tr>\n",
       "    <tr>\n",
       "      <td>75%</td>\n",
       "      <td>14.000000</td>\n",
       "      <td>6.000000e+06</td>\n",
       "      <td>65.500000</td>\n",
       "      <td>3.000000</td>\n",
       "      <td>2.700000</td>\n",
       "      <td>16.000000</td>\n",
       "      <td>40.592160</td>\n",
       "      <td>8.000000</td>\n",
       "      <td>11.000000</td>\n",
       "      <td>1.000000</td>\n",
       "      <td>...</td>\n",
       "      <td>612.000000</td>\n",
       "      <td>1.000000</td>\n",
       "      <td>730.000000</td>\n",
       "      <td>217.000000</td>\n",
       "      <td>1.142742e+05</td>\n",
       "      <td>4.000000</td>\n",
       "      <td>10.000000</td>\n",
       "      <td>2018.000000</td>\n",
       "      <td>0.631579</td>\n",
       "      <td>0.223773</td>\n",
       "    </tr>\n",
       "    <tr>\n",
       "      <td>max</td>\n",
       "      <td>50.000000</td>\n",
       "      <td>1.189440e+07</td>\n",
       "      <td>114.200000</td>\n",
       "      <td>5.000000</td>\n",
       "      <td>3.050000</td>\n",
       "      <td>60.000000</td>\n",
       "      <td>76.700000</td>\n",
       "      <td>33.000000</td>\n",
       "      <td>19.450000</td>\n",
       "      <td>5.000000</td>\n",
       "      <td>...</td>\n",
       "      <td>3190.000000</td>\n",
       "      <td>3.000000</td>\n",
       "      <td>1344.000000</td>\n",
       "      <td>907.000000</td>\n",
       "      <td>1.907500e+06</td>\n",
       "      <td>6.000000</td>\n",
       "      <td>12.000000</td>\n",
       "      <td>2019.000000</td>\n",
       "      <td>1.000000</td>\n",
       "      <td>0.787879</td>\n",
       "    </tr>\n",
       "  </tbody>\n",
       "</table>\n",
       "<p>8 rows × 23 columns</p>\n",
       "</div>"
      ],
      "text/plain": [
       "       total_images    last_price    total_area         rooms  ceiling_height  \\\n",
       "count  23650.000000  2.159500e+04  22406.000000  23455.000000    21972.000000   \n",
       "mean       9.862326  4.838942e+06     54.325685      2.029631        2.653425   \n",
       "std        5.682278  2.217282e+06     19.349559      0.973653        0.138129   \n",
       "min        0.000000  1.219000e+04     12.000000      0.000000        2.250000   \n",
       "25%        6.000000  3.300000e+06     39.400000      1.000000        2.550000   \n",
       "50%        9.000000  4.400000e+06     50.100000      2.000000        2.640000   \n",
       "75%       14.000000  6.000000e+06     65.500000      3.000000        2.700000   \n",
       "max       50.000000  1.189440e+07    114.200000      5.000000        3.050000   \n",
       "\n",
       "       floors_total   living_area         floor  kitchen_area       balcony  \\\n",
       "count  23650.000000  22764.000000  23650.000000  22329.000000  23650.000000   \n",
       "mean      10.637505     31.520641      5.893277      9.420630      0.591712   \n",
       "std        6.613891     13.755649      4.883317      3.181018      0.959662   \n",
       "min        0.000000      2.000000      1.000000      1.300000      0.000000   \n",
       "25%        5.000000     18.700000      2.000000      7.000000      0.000000   \n",
       "50%        9.000000     30.000000      4.000000      9.000000      0.000000   \n",
       "75%       16.000000     40.592160      8.000000     11.000000      1.000000   \n",
       "max       60.000000     76.700000     33.000000     19.450000      5.000000   \n",
       "\n",
       "       ...  parks_nearest  ponds_around3000  ponds_nearest  days_exposition  \\\n",
       "count  ...    8064.000000      18140.000000    9085.000000     20070.000000   \n",
       "mean   ...     490.830729          0.769680     518.059879       162.392427   \n",
       "std    ...     342.554386          0.937948     277.841733       177.658640   \n",
       "min    ...       1.000000          0.000000      13.000000         1.000000   \n",
       "25%    ...     288.000000          0.000000     293.000000        44.000000   \n",
       "50%    ...     454.500000          1.000000     502.000000        92.000000   \n",
       "75%    ...     612.000000          1.000000     730.000000       217.000000   \n",
       "max    ...    3190.000000          3.000000    1344.000000       907.000000   \n",
       "\n",
       "         price_sq_m       weekday         month          year  \\\n",
       "count  2.365000e+04  23650.000000  23650.000000  23650.000000   \n",
       "mean   9.943225e+04      2.568710      6.401564   2017.370021   \n",
       "std    5.033794e+04      1.788808      3.491418      1.037806   \n",
       "min    1.118349e+02      0.000000      1.000000   2014.000000   \n",
       "25%    7.661497e+04      1.000000      3.000000   2017.000000   \n",
       "50%    9.500000e+04      3.000000      6.000000   2017.000000   \n",
       "75%    1.142742e+05      4.000000     10.000000   2018.000000   \n",
       "max    1.907500e+06      6.000000     12.000000   2019.000000   \n",
       "\n",
       "       ratio_living_total  ratio_kitchen_total  \n",
       "count        23650.000000         23650.000000  \n",
       "mean             0.565252             0.186199  \n",
       "std              0.101082             0.069477  \n",
       "min              0.021583             0.025381  \n",
       "25%              0.500000             0.136931  \n",
       "50%              0.571008             0.175146  \n",
       "75%              0.631579             0.223773  \n",
       "max              1.000000             0.787879  \n",
       "\n",
       "[8 rows x 23 columns]"
      ]
     },
     "execution_count": 53,
     "metadata": {},
     "output_type": "execute_result"
    }
   ],
   "source": [
    "df.describe()"
   ]
  },
  {
   "cell_type": "markdown",
   "metadata": {},
   "source": [
    "#### Вывод"
   ]
  },
  {
   "cell_type": "markdown",
   "metadata": {},
   "source": [
    "Из датасета исключены выбивающиеся значения. Потери составили не более 5 % от исходного датасета."
   ]
  },
  {
   "cell_type": "markdown",
   "metadata": {},
   "source": [
    "### Факторы, влияющие на стоимость квартиры"
   ]
  },
  {
   "cell_type": "markdown",
   "metadata": {},
   "source": [
    "Построим матрицу корреляции для интересующих нас столбцов"
   ]
  },
  {
   "cell_type": "code",
   "execution_count": 54,
   "metadata": {},
   "outputs": [
    {
     "data": {
      "text/html": [
       "<div>\n",
       "<style scoped>\n",
       "    .dataframe tbody tr th:only-of-type {\n",
       "        vertical-align: middle;\n",
       "    }\n",
       "\n",
       "    .dataframe tbody tr th {\n",
       "        vertical-align: top;\n",
       "    }\n",
       "\n",
       "    .dataframe thead th {\n",
       "        text-align: right;\n",
       "    }\n",
       "</style>\n",
       "<table border=\"1\" class=\"dataframe\">\n",
       "  <thead>\n",
       "    <tr style=\"text-align: right;\">\n",
       "      <th></th>\n",
       "      <th>price_sq_m</th>\n",
       "      <th>rooms</th>\n",
       "      <th>last_price</th>\n",
       "      <th>city_centers_nearest</th>\n",
       "      <th>total_area</th>\n",
       "    </tr>\n",
       "  </thead>\n",
       "  <tbody>\n",
       "    <tr>\n",
       "      <td>price_sq_m</td>\n",
       "      <td>1.000000</td>\n",
       "      <td>0.022592</td>\n",
       "      <td>0.608575</td>\n",
       "      <td>-0.318099</td>\n",
       "      <td>0.117411</td>\n",
       "    </tr>\n",
       "    <tr>\n",
       "      <td>rooms</td>\n",
       "      <td>0.022592</td>\n",
       "      <td>1.000000</td>\n",
       "      <td>0.448927</td>\n",
       "      <td>-0.160918</td>\n",
       "      <td>0.788941</td>\n",
       "    </tr>\n",
       "    <tr>\n",
       "      <td>last_price</td>\n",
       "      <td>0.608575</td>\n",
       "      <td>0.448927</td>\n",
       "      <td>1.000000</td>\n",
       "      <td>-0.345444</td>\n",
       "      <td>0.693900</td>\n",
       "    </tr>\n",
       "    <tr>\n",
       "      <td>city_centers_nearest</td>\n",
       "      <td>-0.318099</td>\n",
       "      <td>-0.160918</td>\n",
       "      <td>-0.345444</td>\n",
       "      <td>1.000000</td>\n",
       "      <td>-0.182557</td>\n",
       "    </tr>\n",
       "    <tr>\n",
       "      <td>total_area</td>\n",
       "      <td>0.117411</td>\n",
       "      <td>0.788941</td>\n",
       "      <td>0.693900</td>\n",
       "      <td>-0.182557</td>\n",
       "      <td>1.000000</td>\n",
       "    </tr>\n",
       "  </tbody>\n",
       "</table>\n",
       "</div>"
      ],
      "text/plain": [
       "                      price_sq_m     rooms  last_price  city_centers_nearest  \\\n",
       "price_sq_m              1.000000  0.022592    0.608575             -0.318099   \n",
       "rooms                   0.022592  1.000000    0.448927             -0.160918   \n",
       "last_price              0.608575  0.448927    1.000000             -0.345444   \n",
       "city_centers_nearest   -0.318099 -0.160918   -0.345444              1.000000   \n",
       "total_area              0.117411  0.788941    0.693900             -0.182557   \n",
       "\n",
       "                      total_area  \n",
       "price_sq_m              0.117411  \n",
       "rooms                   0.788941  \n",
       "last_price              0.693900  \n",
       "city_centers_nearest   -0.182557  \n",
       "total_area              1.000000  "
      ]
     },
     "execution_count": 54,
     "metadata": {},
     "output_type": "execute_result"
    }
   ],
   "source": [
    "df[['price_sq_m', 'rooms', 'last_price','city_centers_nearest', 'total_area']].corr()"
   ]
  },
  {
   "cell_type": "markdown",
   "metadata": {},
   "source": [
    "Из матрицы видно, что есть сильная зависимость между ценой квартиры и общей площадью, и стоимостью квадратного метра. \n",
    "Средняя стоимость квартиры растет пропорционально количеству комнат. Зависимость цены квартиры относительно расположения от центра города имеет отрицательный коэффициент корреляции, значит чем дальше от центра, тем дешевле квартира с аналогичными параметрами. "
   ]
  },
  {
   "cell_type": "markdown",
   "metadata": {},
   "source": [
    "Построим график зависимости средней стоимости квартиры от категории этажа"
   ]
  },
  {
   "cell_type": "code",
   "execution_count": 55,
   "metadata": {
    "scrolled": true
   },
   "outputs": [
    {
     "data": {
      "text/plain": [
       "Text(0, 0.5, 'средняя стоимость квартиры')"
      ]
     },
     "execution_count": 55,
     "metadata": {},
     "output_type": "execute_result"
    },
    {
     "data": {
      "image/png": "[encoded data removed]",
      "text/plain": [
       "<Figure size 432x288 with 1 Axes>"
      ]
     },
     "metadata": {
      "needs_background": "light"
     },
     "output_type": "display_data"
    }
   ],
   "source": [
    "df.pivot_table(index = 'floor_type', values = 'last_price').plot(grid = True, style = 'o-')\n",
    "plt.title('floor_type')\n",
    "plt.xlabel('категория этажа')\n",
    "plt.ylabel('средняя стоимость квартиры')"
   ]
  },
  {
   "cell_type": "markdown",
   "metadata": {},
   "source": [
    "Квартиры на первом этаже самые дешевые. Средняя стоимость квартир на последнем этаже дороже, чем на первом, но дешевле остальных этажей."
   ]
  },
  {
   "cell_type": "markdown",
   "metadata": {},
   "source": [
    "Построим матрицу корреляции для \"временных\" столбцов"
   ]
  },
  {
   "cell_type": "code",
   "execution_count": 56,
   "metadata": {},
   "outputs": [
    {
     "data": {
      "text/html": [
       "<div>\n",
       "<style scoped>\n",
       "    .dataframe tbody tr th:only-of-type {\n",
       "        vertical-align: middle;\n",
       "    }\n",
       "\n",
       "    .dataframe tbody tr th {\n",
       "        vertical-align: top;\n",
       "    }\n",
       "\n",
       "    .dataframe thead th {\n",
       "        text-align: right;\n",
       "    }\n",
       "</style>\n",
       "<table border=\"1\" class=\"dataframe\">\n",
       "  <thead>\n",
       "    <tr style=\"text-align: right;\">\n",
       "      <th></th>\n",
       "      <th>weekday</th>\n",
       "      <th>month</th>\n",
       "      <th>last_price</th>\n",
       "      <th>year</th>\n",
       "    </tr>\n",
       "  </thead>\n",
       "  <tbody>\n",
       "    <tr>\n",
       "      <td>weekday</td>\n",
       "      <td>1.000000</td>\n",
       "      <td>0.011354</td>\n",
       "      <td>-0.014317</td>\n",
       "      <td>-0.003844</td>\n",
       "    </tr>\n",
       "    <tr>\n",
       "      <td>month</td>\n",
       "      <td>0.011354</td>\n",
       "      <td>1.000000</td>\n",
       "      <td>0.005493</td>\n",
       "      <td>-0.271176</td>\n",
       "    </tr>\n",
       "    <tr>\n",
       "      <td>last_price</td>\n",
       "      <td>-0.014317</td>\n",
       "      <td>0.005493</td>\n",
       "      <td>1.000000</td>\n",
       "      <td>-0.001975</td>\n",
       "    </tr>\n",
       "    <tr>\n",
       "      <td>year</td>\n",
       "      <td>-0.003844</td>\n",
       "      <td>-0.271176</td>\n",
       "      <td>-0.001975</td>\n",
       "      <td>1.000000</td>\n",
       "    </tr>\n",
       "  </tbody>\n",
       "</table>\n",
       "</div>"
      ],
      "text/plain": [
       "             weekday     month  last_price      year\n",
       "weekday     1.000000  0.011354   -0.014317 -0.003844\n",
       "month       0.011354  1.000000    0.005493 -0.271176\n",
       "last_price -0.014317  0.005493    1.000000 -0.001975\n",
       "year       -0.003844 -0.271176   -0.001975  1.000000"
      ]
     },
     "execution_count": 56,
     "metadata": {},
     "output_type": "execute_result"
    }
   ],
   "source": [
    "df[['weekday', 'month', 'last_price','year']].corr()"
   ]
  },
  {
   "cell_type": "markdown",
   "metadata": {},
   "source": [
    "Явной зависимости не видно, построим отдельные графики для каждого столбца: `weekday`, `month`,`year`"
   ]
  },
  {
   "cell_type": "code",
   "execution_count": 57,
   "metadata": {},
   "outputs": [
    {
     "data": {
      "text/plain": [
       "Text(0, 0.5, 'средняя стоимость квартиры')"
      ]
     },
     "execution_count": 57,
     "metadata": {},
     "output_type": "execute_result"
    },
    {
     "data": {
      "image/png": "[encoded data removed]",
      "text/plain": [
       "<Figure size 432x288 with 1 Axes>"
      ]
     },
     "metadata": {
      "needs_background": "light"
     },
     "output_type": "display_data"
    }
   ],
   "source": [
    "df.pivot_table(index = 'weekday', values = 'last_price').plot(grid = True, style = 'o-')\n",
    "plt.title('weekday')\n",
    "plt.xlabel('день недели')\n",
    "plt.ylabel('средняя стоимость квартиры')"
   ]
  },
  {
   "cell_type": "markdown",
   "metadata": {},
   "source": [
    "На графике видно, что по самые дорогие квартиры выставлены на продажу во вторник, а самые дешевые - в субботу."
   ]
  },
  {
   "cell_type": "code",
   "execution_count": 58,
   "metadata": {},
   "outputs": [
    {
     "data": {
      "text/plain": [
       "Text(0, 0.5, 'средняя стоимость квартиры')"
      ]
     },
     "execution_count": 58,
     "metadata": {},
     "output_type": "execute_result"
    },
    {
     "data": {
      "image/png": "[encoded data removed]",
      "text/plain": [
       "<Figure size 432x288 with 1 Axes>"
      ]
     },
     "metadata": {
      "needs_background": "light"
     },
     "output_type": "display_data"
    }
   ],
   "source": [
    "df.pivot_table(index = 'month', values = 'last_price').plot(grid = True, style = 'o-')\n",
    "plt.title('month')\n",
    "plt.xlabel('месяц продажи')\n",
    "plt.ylabel('средняя стоимость квартиры')"
   ]
  },
  {
   "cell_type": "markdown",
   "metadata": {},
   "source": [
    "Самая высокая средняя цена на квартиры выставляется в апреле и сентябре, а в июне продавцы вынуждены скидывать цены для продажи квартиры."
   ]
  },
  {
   "cell_type": "code",
   "execution_count": 59,
   "metadata": {
    "scrolled": true
   },
   "outputs": [
    {
     "data": {
      "text/plain": [
       "Text(0, 0.5, 'средняя стоимость квартиры')"
      ]
     },
     "execution_count": 59,
     "metadata": {},
     "output_type": "execute_result"
    },
    {
     "data": {
      "image/png": "[encoded data removed]",
      "text/plain": [
       "<Figure size 432x288 with 1 Axes>"
      ]
     },
     "metadata": {
      "needs_background": "light"
     },
     "output_type": "display_data"
    }
   ],
   "source": [
    "df.pivot_table(index = 'year', values = 'last_price').plot(grid = True, style = 'o-')\n",
    "plt.title('year')\n",
    "plt.xlabel('год продажи')\n",
    "plt.ylabel('средняя стоимость квартиры')"
   ]
  },
  {
   "cell_type": "markdown",
   "metadata": {},
   "source": [
    "Средняя стоимость квартир в 2014 году была на пике, а далее последовал резкий спад. В 2016-2018 годах цены стабилизировались на низком уровне, а с 2018 года цена начала повышаться."
   ]
  },
  {
   "cell_type": "markdown",
   "metadata": {},
   "source": [
    "Найдем топ-10 населенных пунктов с наибольшим числом объявлений"
   ]
  },
  {
   "cell_type": "code",
   "execution_count": 60,
   "metadata": {},
   "outputs": [
    {
     "data": {
      "text/plain": [
       "Санкт-Петербург      15721\n",
       "поселок Мурино         556\n",
       "поселок Шушары         440\n",
       "Всеволожск             398\n",
       "Пушкин                 369\n",
       "Колпино                338\n",
       "поселок Парголово      327\n",
       "Гатчина                307\n",
       "деревня Кудрово        299\n",
       "Выборг                 237\n",
       "Name: locality_name, dtype: int64"
      ]
     },
     "execution_count": 60,
     "metadata": {},
     "output_type": "execute_result"
    }
   ],
   "source": [
    "top_locality = df['locality_name'].value_counts().head(10)\n",
    "top_locality"
   ]
  },
  {
   "cell_type": "markdown",
   "metadata": {},
   "source": [
    "Самое большое число квартир в продаже находится в Санкт-Петербурге."
   ]
  },
  {
   "cell_type": "markdown",
   "metadata": {},
   "source": [
    "Подстичаем стоимость квадратного метра в топ-10 населенных пунктов"
   ]
  },
  {
   "cell_type": "code",
   "execution_count": 61,
   "metadata": {},
   "outputs": [],
   "source": [
    "top_locality_price = (df.query('locality_name in (@top_locality.index)')\n",
    "                      .pivot_table(values='price_sq_m', index='locality_name'))"
   ]
  },
  {
   "cell_type": "markdown",
   "metadata": {},
   "source": [
    "Переведем данные в целочисленный вид"
   ]
  },
  {
   "cell_type": "code",
   "execution_count": 62,
   "metadata": {},
   "outputs": [],
   "source": [
    "top_locality_price = top_locality_price.astype(int)"
   ]
  },
  {
   "cell_type": "markdown",
   "metadata": {},
   "source": [
    "Отсортируем топ-10 населенных пунктов по убыванию стоимости квадратного метра"
   ]
  },
  {
   "cell_type": "code",
   "execution_count": 63,
   "metadata": {},
   "outputs": [
    {
     "data": {
      "text/html": [
       "<div>\n",
       "<style scoped>\n",
       "    .dataframe tbody tr th:only-of-type {\n",
       "        vertical-align: middle;\n",
       "    }\n",
       "\n",
       "    .dataframe tbody tr th {\n",
       "        vertical-align: top;\n",
       "    }\n",
       "\n",
       "    .dataframe thead th {\n",
       "        text-align: right;\n",
       "    }\n",
       "</style>\n",
       "<table border=\"1\" class=\"dataframe\">\n",
       "  <thead>\n",
       "    <tr style=\"text-align: right;\">\n",
       "      <th></th>\n",
       "      <th>price_sq_m</th>\n",
       "    </tr>\n",
       "    <tr>\n",
       "      <th>locality_name</th>\n",
       "      <th></th>\n",
       "    </tr>\n",
       "  </thead>\n",
       "  <tbody>\n",
       "    <tr>\n",
       "      <td>Санкт-Петербург</td>\n",
       "      <td>114849</td>\n",
       "    </tr>\n",
       "    <tr>\n",
       "      <td>Пушкин</td>\n",
       "      <td>103125</td>\n",
       "    </tr>\n",
       "    <tr>\n",
       "      <td>деревня Кудрово</td>\n",
       "      <td>92473</td>\n",
       "    </tr>\n",
       "    <tr>\n",
       "      <td>поселок Парголово</td>\n",
       "      <td>90175</td>\n",
       "    </tr>\n",
       "    <tr>\n",
       "      <td>поселок Мурино</td>\n",
       "      <td>85681</td>\n",
       "    </tr>\n",
       "    <tr>\n",
       "      <td>поселок Шушары</td>\n",
       "      <td>78677</td>\n",
       "    </tr>\n",
       "    <tr>\n",
       "      <td>Колпино</td>\n",
       "      <td>75424</td>\n",
       "    </tr>\n",
       "    <tr>\n",
       "      <td>Гатчина</td>\n",
       "      <td>68746</td>\n",
       "    </tr>\n",
       "    <tr>\n",
       "      <td>Всеволожск</td>\n",
       "      <td>68654</td>\n",
       "    </tr>\n",
       "    <tr>\n",
       "      <td>Выборг</td>\n",
       "      <td>58141</td>\n",
       "    </tr>\n",
       "  </tbody>\n",
       "</table>\n",
       "</div>"
      ],
      "text/plain": [
       "                   price_sq_m\n",
       "locality_name                \n",
       "Санкт-Петербург        114849\n",
       "Пушкин                 103125\n",
       "деревня Кудрово         92473\n",
       "поселок Парголово       90175\n",
       "поселок Мурино          85681\n",
       "поселок Шушары          78677\n",
       "Колпино                 75424\n",
       "Гатчина                 68746\n",
       "Всеволожск              68654\n",
       "Выборг                  58141"
      ]
     },
     "execution_count": 63,
     "metadata": {},
     "output_type": "execute_result"
    }
   ],
   "source": [
    "top_locality_price.sort_values('price_sq_m', ascending=False)"
   ]
  },
  {
   "cell_type": "markdown",
   "metadata": {},
   "source": [
    "#### Вывод"
   ]
  },
  {
   "cell_type": "markdown",
   "metadata": {},
   "source": [
    "Средняя стоимость квартиры зависит от многих факторов:от площади квартиры, количества комнат, этажа, удаленности от  центра города. Самый дорогой квадратный метр конечно же находится в Санкт-Петербурге. Самая низкая стоимость жилья в топ-10 находится в Выборге - небольшом городе, далеком от Санкт-Петербурга."
   ]
  },
  {
   "cell_type": "markdown",
   "metadata": {},
   "source": [
    "### Изучение предложения квартир"
   ]
  },
  {
   "cell_type": "markdown",
   "metadata": {},
   "source": [
    "Создадим столбец с расстоянием до центра в километрах"
   ]
  },
  {
   "cell_type": "code",
   "execution_count": 64,
   "metadata": {},
   "outputs": [
    {
     "data": {
      "text/plain": [
       "0    16\n",
       "1    18\n",
       "2    13\n",
       "3     6\n",
       "4     8\n",
       "Name: city_centers_km, dtype: int64"
      ]
     },
     "execution_count": 64,
     "metadata": {},
     "output_type": "execute_result"
    }
   ],
   "source": [
    "df['city_centers_km'] = df['city_centers_nearest']/1000\n",
    "df['city_centers_km'] = df['city_centers_km'].fillna(value = 0).astype(int)\n",
    "df['city_centers_km'].head()"
   ]
  },
  {
   "cell_type": "markdown",
   "metadata": {},
   "source": [
    "Построим график изменения цены квартиры от удаленности от центра города в километрах"
   ]
  },
  {
   "cell_type": "code",
   "execution_count": 65,
   "metadata": {},
   "outputs": [
    {
     "data": {
      "text/plain": [
       "Text(0, 0.5, 'стоимость квартиры')"
      ]
     },
     "execution_count": 65,
     "metadata": {},
     "output_type": "execute_result"
    },
    {
     "data": {
      "image/png": "[encoded data removed]",
      "text/plain": [
       "<Figure size 720x360 with 1 Axes>"
      ]
     },
     "metadata": {
      "needs_background": "light"
     },
     "output_type": "display_data"
    }
   ],
   "source": [
    "(df.query('locality_name ==\"Санкт-Петербург\"')\n",
    " .pivot_table(index = 'city_centers_km', values = 'last_price')\n",
    " .plot(grid = True, kind = 'bar',figsize = (10, 5)))\n",
    "plt.title('Зависимость цены квартиры от расположения')\n",
    "plt.xlabel('расстояние до центра в км')\n",
    "plt.ylabel('стоимость квартиры')"
   ]
  },
  {
   "cell_type": "markdown",
   "metadata": {},
   "source": [
    "На графике видна резкая граница изменения цены квартиры от удаленности от центра - 8 км. Будем считать это значение условной границей центра Санкт-Петербурга."
   ]
  },
  {
   "cell_type": "markdown",
   "metadata": {},
   "source": [
    "#### Вывод"
   ]
  },
  {
   "cell_type": "markdown",
   "metadata": {},
   "source": [
    "На данном этапе была определена центральная зона Санкт-Петербурга составляющая 8 км."
   ]
  },
  {
   "cell_type": "markdown",
   "metadata": {},
   "source": [
    "### Анализ сегмента квартир в центре Санкт-Петербурга"
   ]
  },
  {
   "cell_type": "markdown",
   "metadata": {},
   "source": [
    "Создадим датасет со строками, соответствующими центральной зоне Санкт-Петербурга"
   ]
  },
  {
   "cell_type": "code",
   "execution_count": 66,
   "metadata": {},
   "outputs": [],
   "source": [
    "spb_center = df.query('(locality_name == \"Санкт-Петербург\") & (city_centers_km <= 8)')"
   ]
  },
  {
   "cell_type": "markdown",
   "metadata": {},
   "source": [
    "Посмотрим на информацию о числовых столбцах нового датасета"
   ]
  },
  {
   "cell_type": "code",
   "execution_count": 67,
   "metadata": {},
   "outputs": [
    {
     "data": {
      "text/html": [
       "<div>\n",
       "<style scoped>\n",
       "    .dataframe tbody tr th:only-of-type {\n",
       "        vertical-align: middle;\n",
       "    }\n",
       "\n",
       "    .dataframe tbody tr th {\n",
       "        vertical-align: top;\n",
       "    }\n",
       "\n",
       "    .dataframe thead th {\n",
       "        text-align: right;\n",
       "    }\n",
       "</style>\n",
       "<table border=\"1\" class=\"dataframe\">\n",
       "  <thead>\n",
       "    <tr style=\"text-align: right;\">\n",
       "      <th></th>\n",
       "      <th>last_price</th>\n",
       "      <th>price_sq_m</th>\n",
       "      <th>total_area</th>\n",
       "      <th>rooms</th>\n",
       "      <th>ceiling_height</th>\n",
       "      <th>floor</th>\n",
       "      <th>city_centers_km</th>\n",
       "      <th>days_exposition</th>\n",
       "    </tr>\n",
       "  </thead>\n",
       "  <tbody>\n",
       "    <tr>\n",
       "      <td>count</td>\n",
       "      <td>3.031000e+03</td>\n",
       "      <td>4.443000e+03</td>\n",
       "      <td>3557.000000</td>\n",
       "      <td>4276.000000</td>\n",
       "      <td>3123.000000</td>\n",
       "      <td>4443.000000</td>\n",
       "      <td>4443.000000</td>\n",
       "      <td>3556.000000</td>\n",
       "    </tr>\n",
       "    <tr>\n",
       "      <td>mean</td>\n",
       "      <td>7.173743e+06</td>\n",
       "      <td>1.409740e+05</td>\n",
       "      <td>67.288100</td>\n",
       "      <td>2.549813</td>\n",
       "      <td>2.772555</td>\n",
       "      <td>4.503038</td>\n",
       "      <td>4.711681</td>\n",
       "      <td>201.730877</td>\n",
       "    </tr>\n",
       "    <tr>\n",
       "      <td>std</td>\n",
       "      <td>2.254286e+06</td>\n",
       "      <td>8.616514e+04</td>\n",
       "      <td>22.575894</td>\n",
       "      <td>1.099111</td>\n",
       "      <td>0.170903</td>\n",
       "      <td>3.307269</td>\n",
       "      <td>2.176771</td>\n",
       "      <td>205.741008</td>\n",
       "    </tr>\n",
       "    <tr>\n",
       "      <td>min</td>\n",
       "      <td>1.600000e+06</td>\n",
       "      <td>1.534527e+04</td>\n",
       "      <td>12.000000</td>\n",
       "      <td>0.000000</td>\n",
       "      <td>2.400000</td>\n",
       "      <td>1.000000</td>\n",
       "      <td>0.000000</td>\n",
       "      <td>3.000000</td>\n",
       "    </tr>\n",
       "    <tr>\n",
       "      <td>25%</td>\n",
       "      <td>5.492500e+06</td>\n",
       "      <td>9.961179e+04</td>\n",
       "      <td>48.000000</td>\n",
       "      <td>2.000000</td>\n",
       "      <td>2.640000</td>\n",
       "      <td>2.000000</td>\n",
       "      <td>3.000000</td>\n",
       "      <td>54.000000</td>\n",
       "    </tr>\n",
       "    <tr>\n",
       "      <td>50%</td>\n",
       "      <td>7.000000e+06</td>\n",
       "      <td>1.222494e+05</td>\n",
       "      <td>66.000000</td>\n",
       "      <td>3.000000</td>\n",
       "      <td>2.750000</td>\n",
       "      <td>4.000000</td>\n",
       "      <td>5.000000</td>\n",
       "      <td>119.000000</td>\n",
       "    </tr>\n",
       "    <tr>\n",
       "      <td>75%</td>\n",
       "      <td>8.900000e+06</td>\n",
       "      <td>1.523947e+05</td>\n",
       "      <td>84.600000</td>\n",
       "      <td>3.000000</td>\n",
       "      <td>3.000000</td>\n",
       "      <td>5.000000</td>\n",
       "      <td>6.000000</td>\n",
       "      <td>292.000000</td>\n",
       "    </tr>\n",
       "    <tr>\n",
       "      <td>max</td>\n",
       "      <td>1.189440e+07</td>\n",
       "      <td>1.907500e+06</td>\n",
       "      <td>114.200000</td>\n",
       "      <td>5.000000</td>\n",
       "      <td>3.050000</td>\n",
       "      <td>25.000000</td>\n",
       "      <td>8.000000</td>\n",
       "      <td>907.000000</td>\n",
       "    </tr>\n",
       "  </tbody>\n",
       "</table>\n",
       "</div>"
      ],
      "text/plain": [
       "         last_price    price_sq_m   total_area        rooms  ceiling_height  \\\n",
       "count  3.031000e+03  4.443000e+03  3557.000000  4276.000000     3123.000000   \n",
       "mean   7.173743e+06  1.409740e+05    67.288100     2.549813        2.772555   \n",
       "std    2.254286e+06  8.616514e+04    22.575894     1.099111        0.170903   \n",
       "min    1.600000e+06  1.534527e+04    12.000000     0.000000        2.400000   \n",
       "25%    5.492500e+06  9.961179e+04    48.000000     2.000000        2.640000   \n",
       "50%    7.000000e+06  1.222494e+05    66.000000     3.000000        2.750000   \n",
       "75%    8.900000e+06  1.523947e+05    84.600000     3.000000        3.000000   \n",
       "max    1.189440e+07  1.907500e+06   114.200000     5.000000        3.050000   \n",
       "\n",
       "             floor  city_centers_km  days_exposition  \n",
       "count  4443.000000      4443.000000      3556.000000  \n",
       "mean      4.503038         4.711681       201.730877  \n",
       "std       3.307269         2.176771       205.741008  \n",
       "min       1.000000         0.000000         3.000000  \n",
       "25%       2.000000         3.000000        54.000000  \n",
       "50%       4.000000         5.000000       119.000000  \n",
       "75%       5.000000         6.000000       292.000000  \n",
       "max      25.000000         8.000000       907.000000  "
      ]
     },
     "execution_count": 67,
     "metadata": {},
     "output_type": "execute_result"
    }
   ],
   "source": [
    "spb_center[['last_price', 'price_sq_m', 'total_area', 'rooms', 'ceiling_height', 'floor',\n",
    "            'city_centers_km', 'days_exposition']].describe()"
   ]
  },
  {
   "cell_type": "markdown",
   "metadata": {},
   "source": [
    "Построим гистограммы для интересующих нас параметров центральной зоны Санкт-Петербурга"
   ]
  },
  {
   "cell_type": "code",
   "execution_count": 68,
   "metadata": {},
   "outputs": [
    {
     "data": {
      "text/plain": [
       "Text(0, 0.5, 'количество квартир')"
      ]
     },
     "execution_count": 68,
     "metadata": {},
     "output_type": "execute_result"
    },
    {
     "data": {
      "image/png": "[encoded data removed]",
      "text/plain": [
       "<Figure size 432x288 with 1 Axes>"
      ]
     },
     "metadata": {
      "needs_background": "light"
     },
     "output_type": "display_data"
    }
   ],
   "source": [
    "spb_center['last_price'].hist(bins=100, range = (0,12000000))\n",
    "plt.title('last_price')\n",
    "plt.xlabel('стоимость квартиры')\n",
    "plt.ylabel('количество квартир')"
   ]
  },
  {
   "cell_type": "code",
   "execution_count": 69,
   "metadata": {},
   "outputs": [
    {
     "data": {
      "text/plain": [
       "Text(0, 0.5, 'количество квартир')"
      ]
     },
     "execution_count": 69,
     "metadata": {},
     "output_type": "execute_result"
    },
    {
     "data": {
      "image/png": "[encoded data removed]",
      "text/plain": [
       "<Figure size 432x288 with 1 Axes>"
      ]
     },
     "metadata": {
      "needs_background": "light"
     },
     "output_type": "display_data"
    }
   ],
   "source": [
    "spb_center['price_sq_m'].hist(bins=20, range = (0,300000))\n",
    "plt.title('price_sq_m')\n",
    "plt.xlabel('стоимость кв.м.')\n",
    "plt.ylabel('количество квартир')"
   ]
  },
  {
   "cell_type": "code",
   "execution_count": 70,
   "metadata": {},
   "outputs": [
    {
     "data": {
      "text/plain": [
       "Text(0, 0.5, 'количество квартир')"
      ]
     },
     "execution_count": 70,
     "metadata": {},
     "output_type": "execute_result"
    },
    {
     "data": {
      "image/png": "[encoded data removed]",
      "text/plain": [
       "<Figure size 432x288 with 1 Axes>"
      ]
     },
     "metadata": {
      "needs_background": "light"
     },
     "output_type": "display_data"
    }
   ],
   "source": [
    "spb_center['total_area'].hist(bins=100, range = (10,110))\n",
    "plt.title('total_area')\n",
    "plt.xlabel('площадь квартиры')\n",
    "plt.ylabel('количество квартир')"
   ]
  },
  {
   "cell_type": "code",
   "execution_count": 71,
   "metadata": {},
   "outputs": [
    {
     "data": {
      "text/plain": [
       "Text(0, 0.5, 'количество квартир')"
      ]
     },
     "execution_count": 71,
     "metadata": {},
     "output_type": "execute_result"
    },
    {
     "data": {
      "image/png": "[encoded data removed]",
      "text/plain": [
       "<Figure size 432x288 with 1 Axes>"
      ]
     },
     "metadata": {
      "needs_background": "light"
     },
     "output_type": "display_data"
    }
   ],
   "source": [
    "spb_center['rooms'].hist(range = (0,6))\n",
    "plt.title('rooms')\n",
    "plt.xlabel('количество комнат')\n",
    "plt.ylabel('количество квартир')"
   ]
  },
  {
   "cell_type": "code",
   "execution_count": 72,
   "metadata": {},
   "outputs": [
    {
     "data": {
      "text/plain": [
       "Text(0, 0.5, 'количество квартир')"
      ]
     },
     "execution_count": 72,
     "metadata": {},
     "output_type": "execute_result"
    },
    {
     "data": {
      "image/png": "[encoded data removed]",
      "text/plain": [
       "<Figure size 432x288 with 1 Axes>"
      ]
     },
     "metadata": {
      "needs_background": "light"
     },
     "output_type": "display_data"
    }
   ],
   "source": [
    "spb_center['ceiling_height'].hist(bins = 20, range = (2.2, 3.4))\n",
    "plt.title('ceiling_height')\n",
    "plt.xlabel('высота потолка')\n",
    "plt.ylabel('количество квартир')"
   ]
  },
  {
   "cell_type": "code",
   "execution_count": 73,
   "metadata": {},
   "outputs": [
    {
     "data": {
      "text/plain": [
       "Text(0, 0.5, 'количество квартир')"
      ]
     },
     "execution_count": 73,
     "metadata": {},
     "output_type": "execute_result"
    },
    {
     "data": {
      "image/png": "[encoded data removed]",
      "text/plain": [
       "<Figure size 432x288 with 1 Axes>"
      ]
     },
     "metadata": {
      "needs_background": "light"
     },
     "output_type": "display_data"
    }
   ],
   "source": [
    "spb_center['floor'].hist(bins=20, range = (1,20))\n",
    "plt.title('floor')\n",
    "plt.xlabel('этаж')\n",
    "plt.ylabel('количество квартир')"
   ]
  },
  {
   "cell_type": "code",
   "execution_count": 74,
   "metadata": {},
   "outputs": [
    {
     "data": {
      "text/plain": [
       "Text(0, 0.5, 'количество квартир')"
      ]
     },
     "execution_count": 74,
     "metadata": {},
     "output_type": "execute_result"
    },
    {
     "data": {
      "image/png": "[encoded data removed]",
      "text/plain": [
       "<Figure size 432x288 with 1 Axes>"
      ]
     },
     "metadata": {
      "needs_background": "light"
     },
     "output_type": "display_data"
    }
   ],
   "source": [
    "spb_center['city_centers_km'].hist(bins = 20, range = (0,8))\n",
    "plt.title('city_centers_km')\n",
    "plt.xlabel('расстояние от центра')\n",
    "plt.ylabel('количество квартир')"
   ]
  },
  {
   "cell_type": "code",
   "execution_count": 75,
   "metadata": {},
   "outputs": [
    {
     "data": {
      "text/plain": [
       "Text(0, 0.5, 'количество квартир')"
      ]
     },
     "execution_count": 75,
     "metadata": {},
     "output_type": "execute_result"
    },
    {
     "data": {
      "image/png": "[encoded data removed]",
      "text/plain": [
       "<Figure size 432x288 with 1 Axes>"
      ]
     },
     "metadata": {
      "needs_background": "light"
     },
     "output_type": "display_data"
    }
   ],
   "source": [
    "spb_center['days_exposition'].hist(bins=50, range = (0,200))\n",
    "plt.title('days_exposition')\n",
    "plt.xlabel('дни продажи')\n",
    "plt.ylabel('количество квартир')"
   ]
  },
  {
   "cell_type": "code",
   "execution_count": 76,
   "metadata": {},
   "outputs": [
    {
     "data": {
      "text/plain": [
       "Text(0, 0.5, 'стоимость кв.м.')"
      ]
     },
     "execution_count": 76,
     "metadata": {},
     "output_type": "execute_result"
    },
    {
     "data": {
      "image/png": "[encoded data removed]",
      "text/plain": [
       "<Figure size 432x288 with 1 Axes>"
      ]
     },
     "metadata": {
      "needs_background": "light"
     },
     "output_type": "display_data"
    }
   ],
   "source": [
    "spb_center.pivot_table(index = 'rooms', values = 'price_sq_m').plot(grid = True, style = 'o-')\n",
    "plt.title('Зависимость стоимости кв.м. от количества комнат')\n",
    "plt.xlabel('количество комнат')\n",
    "plt.ylabel('стоимость кв.м.')"
   ]
  },
  {
   "cell_type": "code",
   "execution_count": 77,
   "metadata": {},
   "outputs": [
    {
     "data": {
      "text/plain": [
       "Text(0, 0.5, 'стоимость кв.м.')"
      ]
     },
     "execution_count": 77,
     "metadata": {},
     "output_type": "execute_result"
    },
    {
     "data": {
      "image/png": "[encoded data removed]",
      "text/plain": [
       "<Figure size 432x288 with 1 Axes>"
      ]
     },
     "metadata": {
      "needs_background": "light"
     },
     "output_type": "display_data"
    }
   ],
   "source": [
    "spb_center.pivot_table(index = 'floor_type', values = 'price_sq_m').plot(grid = True, style = 'o-')\n",
    "plt.title('Зависимость стоимости кв.м. от категории этажа')\n",
    "plt.xlabel('категория этажа')\n",
    "plt.ylabel('стоимость кв.м.')"
   ]
  },
  {
   "cell_type": "code",
   "execution_count": 78,
   "metadata": {},
   "outputs": [
    {
     "data": {
      "text/plain": [
       "Text(0, 0.5, 'стоимость кв.м.')"
      ]
     },
     "execution_count": 78,
     "metadata": {},
     "output_type": "execute_result"
    },
    {
     "data": {
      "image/png": "[encoded data removed]",
      "text/plain": [
       "<Figure size 432x288 with 1 Axes>"
      ]
     },
     "metadata": {
      "needs_background": "light"
     },
     "output_type": "display_data"
    }
   ],
   "source": [
    "spb_center.pivot_table(index = 'weekday', values = 'price_sq_m').plot(grid = True, style = 'o-')\n",
    "plt.title('Зависимость стоимости кв.м. от дня недели размещения объявления')\n",
    "plt.xlabel('день недели')\n",
    "plt.ylabel('стоимость кв.м.')"
   ]
  },
  {
   "cell_type": "code",
   "execution_count": 79,
   "metadata": {},
   "outputs": [
    {
     "data": {
      "text/plain": [
       "Text(0, 0.5, 'стоимость кв.м.')"
      ]
     },
     "execution_count": 79,
     "metadata": {},
     "output_type": "execute_result"
    },
    {
     "data": {
      "image/png": "[encoded data removed]",
      "text/plain": [
       "<Figure size 432x288 with 1 Axes>"
      ]
     },
     "metadata": {
      "needs_background": "light"
     },
     "output_type": "display_data"
    }
   ],
   "source": [
    "spb_center.pivot_table(index = 'month', values = 'price_sq_m').plot(grid = True, style = 'o-')\n",
    "plt.title('Зависимость стоимости кв.м. от месяца размещения объявления')\n",
    "plt.xlabel('месяц продажи')\n",
    "plt.ylabel('стоимость кв.м.')"
   ]
  },
  {
   "cell_type": "code",
   "execution_count": 80,
   "metadata": {},
   "outputs": [
    {
     "data": {
      "text/plain": [
       "Text(0, 0.5, 'стоимость кв.м.')"
      ]
     },
     "execution_count": 80,
     "metadata": {},
     "output_type": "execute_result"
    },
    {
     "data": {
      "image/png": "[encoded data removed]",
      "text/plain": [
       "<Figure size 432x288 with 1 Axes>"
      ]
     },
     "metadata": {
      "needs_background": "light"
     },
     "output_type": "display_data"
    }
   ],
   "source": [
    "spb_center.pivot_table(index = 'year', values = 'price_sq_m').plot(grid = True, style = 'o-')\n",
    "plt.title('Зависимость стоимости кв.м. от года размещения объявления')\n",
    "plt.xlabel('год продажи')\n",
    "plt.ylabel('стоимость кв.м.')"
   ]
  },
  {
   "cell_type": "markdown",
   "metadata": {},
   "source": [
    "Опишем наши наблюдения:<br>1. Средняя и медианная площади квартир почти совпадают и составляют 67 и 66 кв.м соответственно. Минимальная площадь - 12 кв.м. Максимальная площадь - 114 кв.м.<br> 2. Средняя и медианная стоимости квартир почти совпадают. Медианная стоимость - 7 млн. руб. Средняя стоимость - 7,17 млн. руб. Минимальная стоимость - 1,6 млн. руб. Максимальная стоимость - 11,9 млн. руб.<br> 3. Медианное количество комнат - 3. Максимально количество комнат - 5. В центре города преобладают двух и трех комнатные квартиры и их количество примерно одинаково.<br> 4. Средняя и медианная высота потолков почти совпадают и составляют 2,77 и 2,75 метра соответственно. Большое количество квартир в центре имеют высоту потолков 3 метра. Но в центре также существуют квартиры с высотой потолков 2,4 м.<br> 5. В центре преобладает малоэтажная историческая застройка (медианное значение - 4 этажа), но в центр начал пробиваться новострой с 25 этажами (максимум).<br> 6. Средняя удаленность от центра города составляет 4,7 км. Большинство квартир находится на расстоянии 4-5 км от центра.<br> 7. Минимальный срок продажи квартиры составляет - 3 дня. Медианное значение - 119 дней, среднее - 201 день, максимальное - 907 дней (больше 2 лет).<br> 8.Медианное значение стоимости квадратного метра - 122 тыс.руб, среднее - 141тыс.руб.  <br>  9. Самые дорогие квартиры (по стоимости кв.м.)выставляются на продажу в субботу. Максимальная стоимость кв.м. в апреле, а в мае и октябре имеются провалы. Снижение стоимости кв.м. наблюдается  с 2014 по 2018 года, резкий спад произошел в 2014 году во время кризиса на 27% (со 180 до 142 тыс. руб/кв.м.), а с 2018 года начался рост.<br> 10. Стоимость кв.м. для студий и 3, 4-х комнатных квартир примерно одинакова, для 1-х комнатных квартир - самая высокая стоимость кв.м., а в 5-комнатных квартирах чуть ниже, чем в 1-комнатных."
   ]
  },
  {
   "cell_type": "markdown",
   "metadata": {},
   "source": [
    "Для проведения сравнения создадим датасет для всего Санкт-Петербурга"
   ]
  },
  {
   "cell_type": "code",
   "execution_count": 81,
   "metadata": {},
   "outputs": [
    {
     "data": {
      "text/html": [
       "<div>\n",
       "<style scoped>\n",
       "    .dataframe tbody tr th:only-of-type {\n",
       "        vertical-align: middle;\n",
       "    }\n",
       "\n",
       "    .dataframe tbody tr th {\n",
       "        vertical-align: top;\n",
       "    }\n",
       "\n",
       "    .dataframe thead th {\n",
       "        text-align: right;\n",
       "    }\n",
       "</style>\n",
       "<table border=\"1\" class=\"dataframe\">\n",
       "  <thead>\n",
       "    <tr style=\"text-align: right;\">\n",
       "      <th></th>\n",
       "      <th>last_price</th>\n",
       "      <th>price_sq_m</th>\n",
       "      <th>total_area</th>\n",
       "      <th>rooms</th>\n",
       "      <th>ceiling_height</th>\n",
       "      <th>floor</th>\n",
       "      <th>city_centers_km</th>\n",
       "      <th>days_exposition</th>\n",
       "    </tr>\n",
       "  </thead>\n",
       "  <tbody>\n",
       "    <tr>\n",
       "      <td>count</td>\n",
       "      <td>1.373700e+04</td>\n",
       "      <td>1.572100e+04</td>\n",
       "      <td>14574.000000</td>\n",
       "      <td>15535.000000</td>\n",
       "      <td>14201.000000</td>\n",
       "      <td>15721.000000</td>\n",
       "      <td>15721.00000</td>\n",
       "      <td>13345.000000</td>\n",
       "    </tr>\n",
       "    <tr>\n",
       "      <td>mean</td>\n",
       "      <td>5.663713e+06</td>\n",
       "      <td>1.148490e+05</td>\n",
       "      <td>56.499167</td>\n",
       "      <td>2.114258</td>\n",
       "      <td>2.668275</td>\n",
       "      <td>6.242033</td>\n",
       "      <td>11.06081</td>\n",
       "      <td>162.540877</td>\n",
       "    </tr>\n",
       "    <tr>\n",
       "      <td>std</td>\n",
       "      <td>2.094665e+06</td>\n",
       "      <td>5.258452e+04</td>\n",
       "      <td>20.349577</td>\n",
       "      <td>1.008149</td>\n",
       "      <td>0.149202</td>\n",
       "      <td>4.900486</td>\n",
       "      <td>4.88160</td>\n",
       "      <td>178.971312</td>\n",
       "    </tr>\n",
       "    <tr>\n",
       "      <td>min</td>\n",
       "      <td>1.219000e+04</td>\n",
       "      <td>1.118349e+02</td>\n",
       "      <td>12.000000</td>\n",
       "      <td>0.000000</td>\n",
       "      <td>2.300000</td>\n",
       "      <td>1.000000</td>\n",
       "      <td>0.00000</td>\n",
       "      <td>1.000000</td>\n",
       "    </tr>\n",
       "    <tr>\n",
       "      <td>25%</td>\n",
       "      <td>4.075000e+06</td>\n",
       "      <td>9.090909e+04</td>\n",
       "      <td>41.000000</td>\n",
       "      <td>1.000000</td>\n",
       "      <td>2.550000</td>\n",
       "      <td>3.000000</td>\n",
       "      <td>8.00000</td>\n",
       "      <td>41.000000</td>\n",
       "    </tr>\n",
       "    <tr>\n",
       "      <td>50%</td>\n",
       "      <td>5.150000e+06</td>\n",
       "      <td>1.047619e+05</td>\n",
       "      <td>52.000000</td>\n",
       "      <td>2.000000</td>\n",
       "      <td>2.640000</td>\n",
       "      <td>5.000000</td>\n",
       "      <td>12.00000</td>\n",
       "      <td>92.000000</td>\n",
       "    </tr>\n",
       "    <tr>\n",
       "      <td>75%</td>\n",
       "      <td>6.850000e+06</td>\n",
       "      <td>1.244389e+05</td>\n",
       "      <td>69.000000</td>\n",
       "      <td>3.000000</td>\n",
       "      <td>2.750000</td>\n",
       "      <td>8.000000</td>\n",
       "      <td>14.00000</td>\n",
       "      <td>216.000000</td>\n",
       "    </tr>\n",
       "    <tr>\n",
       "      <td>max</td>\n",
       "      <td>1.189440e+07</td>\n",
       "      <td>1.907500e+06</td>\n",
       "      <td>114.200000</td>\n",
       "      <td>5.000000</td>\n",
       "      <td>3.050000</td>\n",
       "      <td>33.000000</td>\n",
       "      <td>29.00000</td>\n",
       "      <td>907.000000</td>\n",
       "    </tr>\n",
       "  </tbody>\n",
       "</table>\n",
       "</div>"
      ],
      "text/plain": [
       "         last_price    price_sq_m    total_area         rooms  ceiling_height  \\\n",
       "count  1.373700e+04  1.572100e+04  14574.000000  15535.000000    14201.000000   \n",
       "mean   5.663713e+06  1.148490e+05     56.499167      2.114258        2.668275   \n",
       "std    2.094665e+06  5.258452e+04     20.349577      1.008149        0.149202   \n",
       "min    1.219000e+04  1.118349e+02     12.000000      0.000000        2.300000   \n",
       "25%    4.075000e+06  9.090909e+04     41.000000      1.000000        2.550000   \n",
       "50%    5.150000e+06  1.047619e+05     52.000000      2.000000        2.640000   \n",
       "75%    6.850000e+06  1.244389e+05     69.000000      3.000000        2.750000   \n",
       "max    1.189440e+07  1.907500e+06    114.200000      5.000000        3.050000   \n",
       "\n",
       "              floor  city_centers_km  days_exposition  \n",
       "count  15721.000000      15721.00000     13345.000000  \n",
       "mean       6.242033         11.06081       162.540877  \n",
       "std        4.900486          4.88160       178.971312  \n",
       "min        1.000000          0.00000         1.000000  \n",
       "25%        3.000000          8.00000        41.000000  \n",
       "50%        5.000000         12.00000        92.000000  \n",
       "75%        8.000000         14.00000       216.000000  \n",
       "max       33.000000         29.00000       907.000000  "
      ]
     },
     "execution_count": 81,
     "metadata": {},
     "output_type": "execute_result"
    }
   ],
   "source": [
    "spb = df.query('(locality_name == \"Санкт-Петербург\")')\n",
    "spb[['last_price', 'price_sq_m', 'total_area', 'rooms', \n",
    "     'ceiling_height', 'floor','city_centers_km', 'days_exposition']].describe()"
   ]
  },
  {
   "cell_type": "markdown",
   "metadata": {},
   "source": [
    "Построим гистограмму по столбцу `last_price` для всего города Санкт-Петербург методом наложения на гистограмму центральной зоны."
   ]
  },
  {
   "cell_type": "code",
   "execution_count": 82,
   "metadata": {},
   "outputs": [
    {
     "data": {
      "text/plain": [
       "<matplotlib.axes._subplots.AxesSubplot at 0x7f8780c5d950>"
      ]
     },
     "execution_count": 82,
     "metadata": {},
     "output_type": "execute_result"
    },
    {
     "data": {
      "image/png": "[encoded data removed]",
      "text/plain": [
       "<Figure size 432x288 with 1 Axes>"
      ]
     },
     "metadata": {
      "needs_background": "light"
     },
     "output_type": "display_data"
    }
   ],
   "source": [
    "ax = spb_center.plot(\n",
    "    kind='hist',\n",
    "    y='last_price',\n",
    "    histtype='step',\n",
    "    range=(0, 12000000),\n",
    "    bins=50,\n",
    "    linewidth=5,\n",
    "    alpha=0.7,\n",
    "    label='spb_center',\n",
    ")\n",
    "spb.plot(\n",
    "    kind='hist',\n",
    "    y='last_price',\n",
    "    histtype='step',\n",
    "    range=(0, 12000000),\n",
    "    bins=50,\n",
    "    linewidth=5,\n",
    "    alpha=0.7,\n",
    "    label='spb',\n",
    "    ax=ax,\n",
    "    grid=True,\n",
    "    legend=True,\n",
    ") \n"
   ]
  },
  {
   "cell_type": "markdown",
   "metadata": {},
   "source": [
    "Построим гистограмму по столбцу `price_sq_m` для всего города Санкт-Петербург методом наложения на гистограмму центральной зоны."
   ]
  },
  {
   "cell_type": "code",
   "execution_count": 83,
   "metadata": {},
   "outputs": [
    {
     "data": {
      "text/plain": [
       "<matplotlib.axes._subplots.AxesSubplot at 0x7f8780be5fd0>"
      ]
     },
     "execution_count": 83,
     "metadata": {},
     "output_type": "execute_result"
    },
    {
     "data": {
      "image/png": "[encoded data removed]",
      "text/plain": [
       "<Figure size 432x288 with 1 Axes>"
      ]
     },
     "metadata": {
      "needs_background": "light"
     },
     "output_type": "display_data"
    }
   ],
   "source": [
    "ax = spb_center.plot(\n",
    "    kind='hist',\n",
    "    y='price_sq_m',\n",
    "    histtype='step',\n",
    "    range=(0, 300000),\n",
    "    bins=50,\n",
    "    linewidth=5,\n",
    "    alpha=0.7,\n",
    "    label='spb_center',\n",
    ")\n",
    "spb.plot(\n",
    "    kind='hist',\n",
    "    y='price_sq_m',\n",
    "    histtype='step',\n",
    "    range=(0, 300000),\n",
    "    bins=50,\n",
    "    linewidth=5,\n",
    "    alpha=0.7,\n",
    "    label='spb',\n",
    "    ax=ax,\n",
    "    grid=True,\n",
    "    legend=True,\n",
    ") "
   ]
  },
  {
   "cell_type": "markdown",
   "metadata": {},
   "source": [
    "Построим гистограмму по столбцу `total_area` для всего города Санкт-Петербург методом наложения на гистограмму центральной зоны."
   ]
  },
  {
   "cell_type": "code",
   "execution_count": 84,
   "metadata": {},
   "outputs": [
    {
     "data": {
      "text/plain": [
       "<matplotlib.axes._subplots.AxesSubplot at 0x7f8780c82a10>"
      ]
     },
     "execution_count": 84,
     "metadata": {},
     "output_type": "execute_result"
    },
    {
     "data": {
      "image/png": "[encoded data removed]",
      "text/plain": [
       "<Figure size 432x288 with 1 Axes>"
      ]
     },
     "metadata": {
      "needs_background": "light"
     },
     "output_type": "display_data"
    }
   ],
   "source": [
    "ax = spb_center.plot(\n",
    "    kind='hist',\n",
    "    y='total_area',\n",
    "    histtype='step',\n",
    "    range=(0, 125),\n",
    "    bins=50,\n",
    "    linewidth=5,\n",
    "    alpha=0.7,\n",
    "    label='spb_center',\n",
    ")\n",
    "spb.plot(\n",
    "    kind='hist',\n",
    "    y='total_area',\n",
    "    histtype='step',\n",
    "    range=(0, 125),\n",
    "    bins=50,\n",
    "    linewidth=5,\n",
    "    alpha=0.7,\n",
    "    label='spb',\n",
    "    ax=ax,\n",
    "    grid=True,\n",
    "    legend=True,\n",
    ") "
   ]
  },
  {
   "cell_type": "markdown",
   "metadata": {},
   "source": [
    "Построим гистограмму по столбцу `ceiling_height` для всего города Санкт-Петербург методом наложения на гистограмму центральной зоны."
   ]
  },
  {
   "cell_type": "code",
   "execution_count": 85,
   "metadata": {},
   "outputs": [
    {
     "data": {
      "text/plain": [
       "<matplotlib.axes._subplots.AxesSubplot at 0x7f8780ae5f90>"
      ]
     },
     "execution_count": 85,
     "metadata": {},
     "output_type": "execute_result"
    },
    {
     "data": {
      "image/png": "[encoded data removed]",
      "text/plain": [
       "<Figure size 432x288 with 1 Axes>"
      ]
     },
     "metadata": {
      "needs_background": "light"
     },
     "output_type": "display_data"
    }
   ],
   "source": [
    "ax = spb_center.plot(\n",
    "    kind='hist',\n",
    "    y='ceiling_height',\n",
    "    histtype='step',\n",
    "    range=(2, 4),\n",
    "    bins=20,\n",
    "    linewidth=5,\n",
    "    alpha=0.7,\n",
    "    label='spb_center',\n",
    ")\n",
    "spb.plot(\n",
    "    kind='hist',\n",
    "    y='ceiling_height',\n",
    "    histtype='step',\n",
    "    range=(2, 4),\n",
    "    bins=20,\n",
    "    linewidth=5,\n",
    "    alpha=0.7,\n",
    "    label='spb',\n",
    "    ax=ax,\n",
    "    grid=True,\n",
    "    legend=True,\n",
    ") "
   ]
  },
  {
   "cell_type": "markdown",
   "metadata": {},
   "source": [
    "Построим гистограмму по столбцу `floor` для всего города Санкт-Петербург методом наложения на гистограмму центральной зоны."
   ]
  },
  {
   "cell_type": "code",
   "execution_count": 86,
   "metadata": {},
   "outputs": [
    {
     "data": {
      "text/plain": [
       "<matplotlib.axes._subplots.AxesSubplot at 0x7f87f041aed0>"
      ]
     },
     "execution_count": 86,
     "metadata": {},
     "output_type": "execute_result"
    },
    {
     "data": {
      "image/png": "[encoded data removed]",
      "text/plain": [
       "<Figure size 432x288 with 1 Axes>"
      ]
     },
     "metadata": {
      "needs_background": "light"
     },
     "output_type": "display_data"
    }
   ],
   "source": [
    "ax = spb_center.plot(\n",
    "    kind='hist',\n",
    "    y='floor',\n",
    "    histtype='step',\n",
    "    range=(1, 30),\n",
    "    bins=20,\n",
    "    linewidth=5,\n",
    "    alpha=0.7,\n",
    "    label='spb_center',\n",
    ")\n",
    "spb.plot(\n",
    "    kind='hist',\n",
    "    y='floor',\n",
    "    histtype='step',\n",
    "    range=(1, 30),\n",
    "    bins=20,\n",
    "    linewidth=5,\n",
    "    alpha=0.7,\n",
    "    label='spb',\n",
    "    ax=ax,\n",
    "    grid=True,\n",
    "    legend=True,\n",
    ") "
   ]
  },
  {
   "cell_type": "markdown",
   "metadata": {},
   "source": [
    "Построим гистограмму по столбцу `days_exposition` для всего города Санкт-Петербург методом наложения на гистограмму центральной зоны."
   ]
  },
  {
   "cell_type": "code",
   "execution_count": 87,
   "metadata": {},
   "outputs": [
    {
     "data": {
      "text/plain": [
       "<matplotlib.axes._subplots.AxesSubplot at 0x7f87809ed310>"
      ]
     },
     "execution_count": 87,
     "metadata": {},
     "output_type": "execute_result"
    },
    {
     "data": {
      "image/png": "[encoded data removed]",
      "text/plain": [
       "<Figure size 432x288 with 1 Axes>"
      ]
     },
     "metadata": {
      "needs_background": "light"
     },
     "output_type": "display_data"
    }
   ],
   "source": [
    "ax = spb_center.plot(\n",
    "    kind='hist',\n",
    "    y='days_exposition',\n",
    "    histtype='step',\n",
    "    range=(0, 365),\n",
    "    bins=20,\n",
    "    linewidth=5,\n",
    "    alpha=0.7,\n",
    "    label='spb_center',\n",
    ")\n",
    "spb.plot(\n",
    "    kind='hist',\n",
    "    y='days_exposition',\n",
    "    histtype='step',\n",
    "    range=(0, 365),\n",
    "    bins=20,\n",
    "    linewidth=5,\n",
    "    alpha=0.7,\n",
    "    label='spb',\n",
    "    ax=ax,\n",
    "    grid=True,\n",
    "    legend=True,\n",
    ") "
   ]
  },
  {
   "cell_type": "markdown",
   "metadata": {},
   "source": [
    "Построим графики"
   ]
  },
  {
   "cell_type": "code",
   "execution_count": 88,
   "metadata": {},
   "outputs": [
    {
     "data": {
      "text/plain": [
       "Text(0, 0.5, 'стоимость кв.м.')"
      ]
     },
     "execution_count": 88,
     "metadata": {},
     "output_type": "execute_result"
    },
    {
     "data": {
      "image/png": "[encoded data removed]",
      "text/plain": [
       "<Figure size 432x288 with 1 Axes>"
      ]
     },
     "metadata": {
      "needs_background": "light"
     },
     "output_type": "display_data"
    }
   ],
   "source": [
    "spb.pivot_table(index = 'rooms', values = 'price_sq_m').plot(grid = True, style = 'o-')\n",
    "plt.title('Зависимость стоимости кв.м. от количества комнат')\n",
    "plt.xlabel('количество комнат')\n",
    "plt.ylabel('стоимость кв.м.')"
   ]
  },
  {
   "cell_type": "code",
   "execution_count": 89,
   "metadata": {},
   "outputs": [
    {
     "data": {
      "text/plain": [
       "Text(0, 0.5, 'стоимость кв.м.')"
      ]
     },
     "execution_count": 89,
     "metadata": {},
     "output_type": "execute_result"
    },
    {
     "data": {
      "image/png": "[encoded data removed]",
      "text/plain": [
       "<Figure size 432x288 with 1 Axes>"
      ]
     },
     "metadata": {
      "needs_background": "light"
     },
     "output_type": "display_data"
    }
   ],
   "source": [
    "spb.pivot_table(index = 'rooms', values = 'price_sq_m').plot(grid = True, style = 'o-')\n",
    "plt.title('Зависимость стоимости кв.м. от количества комнат')\n",
    "plt.xlabel('количество комнат')\n",
    "plt.ylabel('стоимость кв.м.')"
   ]
  },
  {
   "cell_type": "code",
   "execution_count": 90,
   "metadata": {},
   "outputs": [
    {
     "data": {
      "text/plain": [
       "Text(0, 0.5, 'стоимость кв.м.')"
      ]
     },
     "execution_count": 90,
     "metadata": {},
     "output_type": "execute_result"
    },
    {
     "data": {
      "image/png": "[encoded data removed]",
      "text/plain": [
       "<Figure size 432x288 with 1 Axes>"
      ]
     },
     "metadata": {
      "needs_background": "light"
     },
     "output_type": "display_data"
    }
   ],
   "source": [
    "spb.pivot_table(index = 'weekday', values = 'price_sq_m').plot(grid = True, style = 'o-')\n",
    "plt.title('Зависимость стоимости кв.м. от дня недели размещения объявления')\n",
    "plt.xlabel('день недели')\n",
    "plt.ylabel('стоимость кв.м.')"
   ]
  },
  {
   "cell_type": "code",
   "execution_count": 91,
   "metadata": {},
   "outputs": [
    {
     "data": {
      "text/plain": [
       "Text(0, 0.5, 'стоимость кв.м.')"
      ]
     },
     "execution_count": 91,
     "metadata": {},
     "output_type": "execute_result"
    },
    {
     "data": {
      "image/png": "[encoded data removed]",
      "text/plain": [
       "<Figure size 432x288 with 1 Axes>"
      ]
     },
     "metadata": {
      "needs_background": "light"
     },
     "output_type": "display_data"
    }
   ],
   "source": [
    "spb.pivot_table(index = 'month', values = 'price_sq_m').plot(grid = True, style = 'o-')\n",
    "plt.title('Зависимость стоимости кв.м. от месяца размещения объявления')\n",
    "plt.xlabel('месяц продажи')\n",
    "plt.ylabel('стоимость кв.м.')"
   ]
  },
  {
   "cell_type": "code",
   "execution_count": 92,
   "metadata": {},
   "outputs": [
    {
     "data": {
      "text/plain": [
       "Text(0, 0.5, 'стоимость кв.м.')"
      ]
     },
     "execution_count": 92,
     "metadata": {},
     "output_type": "execute_result"
    },
    {
     "data": {
      "image/png": "[encoded data removed]",
      "text/plain": [
       "<Figure size 432x288 with 1 Axes>"
      ]
     },
     "metadata": {
      "needs_background": "light"
     },
     "output_type": "display_data"
    }
   ],
   "source": [
    "spb.pivot_table(index = 'year', values = 'price_sq_m').plot(grid = True, style = 'o-')\n",
    "plt.title('Зависимость стоимости кв.м. от года размещения объявления')\n",
    "plt.xlabel('год продажи')\n",
    "plt.ylabel('стоимость кв.м.')"
   ]
  },
  {
   "cell_type": "markdown",
   "metadata": {},
   "source": [
    "Сравним параметры: <br> 1. Средняя и медианная площади квартир составляют 56.5 и 52 кв.м. соответственно, что на 10-15 кв.м. меньше, чем в центре города.<br> 2.Медианная стоимость квартиры - 5.15 млн. руб. Средняя стоимость - 5.66 млн. руб., что на 1,5-2 млн. руб. дешевле, чем в центре.<br> 3. Медианное количество комнат - 2, что на одну комнату меньше, чем в центре. <br> 4. Средняя и медианная высота потолков почти совпадают и составляют 2,66 и 2,64 метра соответственно. В среднем потолки ниже на 10 см, чем в центре. Но подавляющее большинство квартир с высотой потолков 2,5 метра.<br> 5. Медианное высота домов - 5 этажей. Максимальная высота домов - 33 этажа. С удаленностью от центра и возрастает этажность застройки.<br> 6. Средняя удаленность от центра города составляет 11,1 км.<br> 7. Минимальный срок продажи квартиры составляет - 1 день. Медианное значение - 92 дня, среднее - 163 дня. Квартиры в центре Санкт-Петербурга продаются дольше.<br> 8.Медианное значение стоимости квадратного метра - 105 тыс.руб, среднее - 115 тыс.руб., что на 17 - 26 тыс.руб/кв.м. меньше, чем в центре.<br>  9. Самые дорогие квартиры (по стоимости кв.м.)выставляются на продажу в субботу и в четверг. Максимальная стоимость кв.м. в январе, апреле, декабре, а в мае и октябре имеются провалы. Снижение стоимости кв.м. наблюдается  с 2014 по 2017 года, резкий спад произошел в 2014 году во время кризиса на 23% (с 145 до 118 тыс. руб/кв.м.), а с 2017 года начался рост.<br> 10. Имеется снижение стоимости кв.м. от студий до 3-х комнатных квартир, а с 4-х комнатных квартир идет рост стоимости  кв.м."
   ]
  },
  {
   "cell_type": "markdown",
   "metadata": {},
   "source": [
    "## Общий вывод"
   ]
  },
  {
   "cell_type": "markdown",
   "metadata": {},
   "source": [
    "В процессе выполнения данного проекта была проделана большая работа:<br>1. Проанализированы, удалены, заполнены пропуски данных, изменены типы данных, добавлены необходимые столбцы и изучены основные параметры недвижимости.<br> 2. С помощью функции исключены редкие и выбивающиеся значения. <br> 3. Изучены факторы, влияющие на стоимость квартиры и их взаимозависимости.<br> 4. Выделена центральная зона Санкт-Петербурга и проведен анализ стоимости квартиры в зависимости от удаленности от центра города.<br> 5. Проведено сравнение основных факторов для недвижимости в центральной зоне относительно всего Санкт-Петербурга.<br>\n",
    "**Срок продажи квартиры**<br>\n",
    "•\tЧаще всего квартиру продают за 95 дней. Если меньше 45 дней, то это быстро, если дольше 230 дней - это долго. <br>\n",
    "•\tЕсть большое число квартир, проданных всего за несколько дней после публикации.<br>\n",
    "•\tТакже есть варианты, которые продавались несколько десятков месяцев.<br>\n",
    "**Факторы, влияющие на стоимость**<br>\n",
    "•\tНа стоимость больше влияет площадь квартиры, нежели число комнат. Т.е. могут быть дорогие квартиры с малым числом комнат, но где комнаты просторные.<br>\n",
    "•\tПервый этаж значительно дешевле остальных вариантов. Также стоимость квартиры на последнем этаже ниже, чем на остальных, кроме первого.<br>\n",
    "**Стоимость квадратного метра в топ-10 населённых пунктов**<br>\n",
    "•\tДороже всего квадратный метр в Санкт-Петербурге<br>\n",
    "•\tДешевле всего квадратный метр в Выборге<br>\n",
    "**Факторы, влияющие на стоимость в центре Санкт-Петербурга**<br>\n",
    "•\tВ центре города практически нет разницы, насколько квартира удалена от условного центра города.<br>\n",
    "•\tЭкономическая ситуация в стране мало влияет на элитную недвижимость в центре, но во время кризиса произошел резкий спад стоимости квадратного метра.<br>\n",
    "•\tВ центре города последний этаж практически не влияет на стоимость квартиры, в отличие от остального города.<br>\n",
    "•\tВ центре есть очень дорогие однокомнатные квартиры (по стоимости кв.м.).\n"
   ]
  }
 ],
 "metadata": {
  "ExecuteTimeLog": [
   {
    "duration": 1856,
    "start_time": "2022-01-25T15:35:10.194Z"
   },
   {
    "duration": 3,
    "start_time": "2022-01-25T15:36:49.589Z"
   },
   {
    "duration": 88,
    "start_time": "2022-01-25T15:36:51.635Z"
   },
   {
    "duration": 18,
    "start_time": "2022-01-25T15:37:34.215Z"
   },
   {
    "duration": 17,
    "start_time": "2022-01-25T16:08:29.046Z"
   },
   {
    "duration": 116,
    "start_time": "2022-01-25T16:09:51.241Z"
   },
   {
    "duration": 43,
    "start_time": "2022-01-25T16:11:21.955Z"
   },
   {
    "duration": 104,
    "start_time": "2022-01-25T16:12:54.604Z"
   },
   {
    "duration": 12,
    "start_time": "2022-01-25T16:14:29.611Z"
   },
   {
    "duration": 14,
    "start_time": "2022-01-25T16:21:56.252Z"
   },
   {
    "duration": 14,
    "start_time": "2022-01-25T16:23:13.476Z"
   },
   {
    "duration": 11,
    "start_time": "2022-01-25T16:24:32.190Z"
   },
   {
    "duration": 13,
    "start_time": "2022-01-25T16:31:12.638Z"
   },
   {
    "duration": 18,
    "start_time": "2022-01-25T16:31:16.182Z"
   },
   {
    "duration": 13,
    "start_time": "2022-01-25T16:31:20.249Z"
   },
   {
    "duration": 6,
    "start_time": "2022-01-25T16:31:28.639Z"
   },
   {
    "duration": 34,
    "start_time": "2022-01-25T16:31:32.915Z"
   },
   {
    "duration": 39,
    "start_time": "2022-01-25T16:34:33.214Z"
   },
   {
    "duration": 4,
    "start_time": "2022-01-25T16:35:32.418Z"
   },
   {
    "duration": 90,
    "start_time": "2022-01-25T16:35:32.424Z"
   },
   {
    "duration": 16,
    "start_time": "2022-01-25T16:35:32.517Z"
   },
   {
    "duration": 61,
    "start_time": "2022-01-25T16:35:32.535Z"
   },
   {
    "duration": 130,
    "start_time": "2022-01-25T16:35:32.598Z"
   },
   {
    "duration": 11,
    "start_time": "2022-01-25T16:35:32.730Z"
   },
   {
    "duration": 23,
    "start_time": "2022-01-25T16:35:32.743Z"
   },
   {
    "duration": 12,
    "start_time": "2022-01-25T16:35:32.768Z"
   },
   {
    "duration": 11,
    "start_time": "2022-01-25T16:35:32.785Z"
   },
   {
    "duration": 31,
    "start_time": "2022-01-25T16:35:32.798Z"
   },
   {
    "duration": 43,
    "start_time": "2022-01-25T16:35:32.831Z"
   },
   {
    "duration": 12,
    "start_time": "2022-01-25T16:35:32.876Z"
   },
   {
    "duration": 6,
    "start_time": "2022-01-25T16:35:32.890Z"
   },
   {
    "duration": 67,
    "start_time": "2022-01-25T16:35:32.898Z"
   },
   {
    "duration": 14,
    "start_time": "2022-01-25T16:38:41.313Z"
   },
   {
    "duration": 9,
    "start_time": "2022-01-25T16:41:49.477Z"
   },
   {
    "duration": 10,
    "start_time": "2022-01-25T16:42:39.756Z"
   },
   {
    "duration": 36,
    "start_time": "2022-01-25T16:44:20.620Z"
   },
   {
    "duration": 11,
    "start_time": "2022-01-25T16:45:51.928Z"
   },
   {
    "duration": 4,
    "start_time": "2022-01-25T16:46:50.968Z"
   },
   {
    "duration": 90,
    "start_time": "2022-01-25T16:46:50.975Z"
   },
   {
    "duration": 17,
    "start_time": "2022-01-25T16:46:51.069Z"
   },
   {
    "duration": 41,
    "start_time": "2022-01-25T16:46:51.089Z"
   },
   {
    "duration": 150,
    "start_time": "2022-01-25T16:46:51.133Z"
   },
   {
    "duration": 12,
    "start_time": "2022-01-25T16:46:51.286Z"
   },
   {
    "duration": 8,
    "start_time": "2022-01-25T16:46:51.301Z"
   },
   {
    "duration": 12,
    "start_time": "2022-01-25T16:46:51.312Z"
   },
   {
    "duration": 44,
    "start_time": "2022-01-25T16:46:51.327Z"
   },
   {
    "duration": 11,
    "start_time": "2022-01-25T16:46:51.374Z"
   },
   {
    "duration": 14,
    "start_time": "2022-01-25T16:46:51.388Z"
   },
   {
    "duration": 59,
    "start_time": "2022-01-25T16:46:51.404Z"
   },
   {
    "duration": 12,
    "start_time": "2022-01-25T16:46:51.465Z"
   },
   {
    "duration": 41,
    "start_time": "2022-01-25T16:49:04.183Z"
   },
   {
    "duration": 36,
    "start_time": "2022-01-25T16:49:24.423Z"
   },
   {
    "duration": 12,
    "start_time": "2022-01-25T17:00:54.550Z"
   },
   {
    "duration": 15,
    "start_time": "2022-01-25T17:00:58.337Z"
   },
   {
    "duration": 9,
    "start_time": "2022-01-25T17:01:00.695Z"
   },
   {
    "duration": 37,
    "start_time": "2022-01-25T17:03:18.610Z"
   },
   {
    "duration": 51,
    "start_time": "2022-01-25T17:14:59.519Z"
   },
   {
    "duration": 54,
    "start_time": "2022-01-25T17:16:21.518Z"
   },
   {
    "duration": 53,
    "start_time": "2022-01-25T17:17:36.452Z"
   },
   {
    "duration": 51,
    "start_time": "2022-01-25T17:18:39.659Z"
   },
   {
    "duration": 10,
    "start_time": "2022-01-25T17:21:50.836Z"
   },
   {
    "duration": 15,
    "start_time": "2022-01-25T17:22:27.592Z"
   },
   {
    "duration": 55,
    "start_time": "2022-01-25T17:22:37.491Z"
   },
   {
    "duration": 16,
    "start_time": "2022-01-25T17:22:41.416Z"
   },
   {
    "duration": 31,
    "start_time": "2022-01-25T17:24:47.680Z"
   },
   {
    "duration": 12,
    "start_time": "2022-01-25T17:25:12.281Z"
   },
   {
    "duration": 10,
    "start_time": "2022-01-25T17:32:04.508Z"
   },
   {
    "duration": 36,
    "start_time": "2022-01-25T17:32:18.607Z"
   },
   {
    "duration": 12,
    "start_time": "2022-01-25T17:32:52.501Z"
   },
   {
    "duration": 13,
    "start_time": "2022-01-25T17:32:55.630Z"
   },
   {
    "duration": 12,
    "start_time": "2022-01-25T17:33:35.014Z"
   },
   {
    "duration": 12,
    "start_time": "2022-01-25T17:33:37.870Z"
   },
   {
    "duration": 26,
    "start_time": "2022-01-25T17:34:05.292Z"
   },
   {
    "duration": 25,
    "start_time": "2022-01-25T17:34:30.324Z"
   },
   {
    "duration": 7,
    "start_time": "2022-01-25T17:40:43.594Z"
   },
   {
    "duration": 29,
    "start_time": "2022-01-25T17:41:01.370Z"
   },
   {
    "duration": 7,
    "start_time": "2022-01-25T17:41:44.248Z"
   },
   {
    "duration": 28,
    "start_time": "2022-01-25T17:41:47.621Z"
   },
   {
    "duration": 8,
    "start_time": "2022-01-25T17:42:22.956Z"
   },
   {
    "duration": 126,
    "start_time": "2022-01-25T17:42:56.364Z"
   },
   {
    "duration": 12,
    "start_time": "2022-01-25T17:49:05.682Z"
   },
   {
    "duration": 13,
    "start_time": "2022-01-25T17:49:09.222Z"
   },
   {
    "duration": 12,
    "start_time": "2022-01-25T17:49:12.340Z"
   },
   {
    "duration": 40,
    "start_time": "2022-01-25T17:49:15.288Z"
   },
   {
    "duration": 5,
    "start_time": "2022-01-25T17:51:33.406Z"
   },
   {
    "duration": 13,
    "start_time": "2022-01-25T17:51:37.131Z"
   },
   {
    "duration": 16,
    "start_time": "2022-01-25T17:51:40.032Z"
   },
   {
    "duration": 13,
    "start_time": "2022-01-25T17:51:42.779Z"
   },
   {
    "duration": 4,
    "start_time": "2022-01-25T17:54:52.883Z"
   },
   {
    "duration": 984,
    "start_time": "2022-01-25T17:55:43.894Z"
   },
   {
    "duration": 10,
    "start_time": "2022-01-25T17:55:47.986Z"
   },
   {
    "duration": 11,
    "start_time": "2022-01-25T17:57:34.298Z"
   },
   {
    "duration": 1186,
    "start_time": "2022-01-25T17:57:37.315Z"
   },
   {
    "duration": 11,
    "start_time": "2022-01-25T17:57:40.505Z"
   },
   {
    "duration": 7,
    "start_time": "2022-01-25T18:00:02.350Z"
   },
   {
    "duration": 36,
    "start_time": "2022-01-25T18:00:25.820Z"
   },
   {
    "duration": 266,
    "start_time": "2022-01-25T18:02:14.478Z"
   },
   {
    "duration": 130,
    "start_time": "2022-01-25T18:03:17.891Z"
   },
   {
    "duration": 3,
    "start_time": "2022-01-25T18:04:05.168Z"
   },
   {
    "duration": 89,
    "start_time": "2022-01-25T18:04:05.174Z"
   },
   {
    "duration": 15,
    "start_time": "2022-01-25T18:04:05.266Z"
   },
   {
    "duration": 38,
    "start_time": "2022-01-25T18:04:05.284Z"
   },
   {
    "duration": 154,
    "start_time": "2022-01-25T18:04:05.324Z"
   },
   {
    "duration": 14,
    "start_time": "2022-01-25T18:04:05.481Z"
   },
   {
    "duration": 70,
    "start_time": "2022-01-25T18:04:05.498Z"
   },
   {
    "duration": 8,
    "start_time": "2022-01-25T18:04:05.573Z"
   },
   {
    "duration": 13,
    "start_time": "2022-01-25T18:04:05.585Z"
   },
   {
    "duration": 16,
    "start_time": "2022-01-25T18:04:05.600Z"
   },
   {
    "duration": 45,
    "start_time": "2022-01-25T18:04:05.618Z"
   },
   {
    "duration": 28,
    "start_time": "2022-01-25T18:04:05.665Z"
   },
   {
    "duration": 10,
    "start_time": "2022-01-25T18:04:05.695Z"
   },
   {
    "duration": 11,
    "start_time": "2022-01-25T18:04:05.707Z"
   },
   {
    "duration": 47,
    "start_time": "2022-01-25T18:04:05.721Z"
   },
   {
    "duration": 9,
    "start_time": "2022-01-25T18:04:05.771Z"
   },
   {
    "duration": 29,
    "start_time": "2022-01-25T18:04:05.782Z"
   },
   {
    "duration": 46,
    "start_time": "2022-01-25T18:04:05.813Z"
   },
   {
    "duration": 5,
    "start_time": "2022-01-25T18:04:05.861Z"
   },
   {
    "duration": 17,
    "start_time": "2022-01-25T18:04:05.868Z"
   },
   {
    "duration": 12,
    "start_time": "2022-01-25T18:04:05.887Z"
   },
   {
    "duration": 16,
    "start_time": "2022-01-25T18:04:05.901Z"
   },
   {
    "duration": 38,
    "start_time": "2022-01-25T18:04:05.921Z"
   },
   {
    "duration": 952,
    "start_time": "2022-01-25T18:04:05.962Z"
   },
   {
    "duration": 10,
    "start_time": "2022-01-25T18:04:06.917Z"
   },
   {
    "duration": 10,
    "start_time": "2022-01-25T18:04:06.930Z"
   },
   {
    "duration": 52,
    "start_time": "2022-01-25T18:04:06.942Z"
   },
   {
    "duration": 155,
    "start_time": "2022-01-25T18:04:06.996Z"
   },
   {
    "duration": 281,
    "start_time": "2022-01-25T18:04:07.153Z"
   },
   {
    "duration": 262,
    "start_time": "2022-01-25T18:06:56.735Z"
   },
   {
    "duration": 276,
    "start_time": "2022-01-25T18:07:09.557Z"
   },
   {
    "duration": 296,
    "start_time": "2022-01-25T18:07:26.379Z"
   },
   {
    "duration": 451,
    "start_time": "2022-01-25T18:08:30.948Z"
   },
   {
    "duration": 539,
    "start_time": "2022-01-25T18:08:41.831Z"
   },
   {
    "duration": 398,
    "start_time": "2022-01-25T18:08:56.266Z"
   },
   {
    "duration": 521,
    "start_time": "2022-01-25T18:09:11.647Z"
   },
   {
    "duration": 686,
    "start_time": "2022-01-25T18:10:47.895Z"
   },
   {
    "duration": 564,
    "start_time": "2022-01-25T18:10:58.650Z"
   },
   {
    "duration": 415,
    "start_time": "2022-01-25T18:15:47.582Z"
   },
   {
    "duration": 684,
    "start_time": "2022-01-25T18:15:58.613Z"
   },
   {
    "duration": 884,
    "start_time": "2022-01-25T18:18:22.015Z"
   },
   {
    "duration": 552,
    "start_time": "2022-01-25T18:19:10.278Z"
   },
   {
    "duration": 544,
    "start_time": "2022-01-25T18:19:43.451Z"
   },
   {
    "duration": 732,
    "start_time": "2022-01-25T18:21:20.782Z"
   },
   {
    "duration": 528,
    "start_time": "2022-01-25T18:22:39.298Z"
   },
   {
    "duration": 503,
    "start_time": "2022-01-25T18:22:50.626Z"
   },
   {
    "duration": 322,
    "start_time": "2022-01-25T18:23:02.786Z"
   },
   {
    "duration": 316,
    "start_time": "2022-01-25T18:23:14.896Z"
   },
   {
    "duration": 133,
    "start_time": "2022-01-25T18:25:08.321Z"
   },
   {
    "duration": 657,
    "start_time": "2022-01-25T18:25:48.549Z"
   },
   {
    "duration": 322,
    "start_time": "2022-01-25T18:30:37.852Z"
   },
   {
    "duration": 381,
    "start_time": "2022-01-25T18:30:57.355Z"
   },
   {
    "duration": 378,
    "start_time": "2022-01-25T18:31:13.835Z"
   },
   {
    "duration": 340,
    "start_time": "2022-01-25T18:31:22.365Z"
   },
   {
    "duration": 539,
    "start_time": "2022-01-25T18:31:49.587Z"
   },
   {
    "duration": 592,
    "start_time": "2022-01-25T18:33:18.820Z"
   },
   {
    "duration": 717,
    "start_time": "2022-01-25T18:33:30.745Z"
   },
   {
    "duration": 340,
    "start_time": "2022-01-25T18:33:43.983Z"
   },
   {
    "duration": 369,
    "start_time": "2022-01-25T18:33:57.413Z"
   },
   {
    "duration": 277,
    "start_time": "2022-01-25T18:37:37.002Z"
   },
   {
    "duration": 537,
    "start_time": "2022-01-25T18:39:12.980Z"
   },
   {
    "duration": 596,
    "start_time": "2022-01-25T18:39:48.138Z"
   },
   {
    "duration": 307,
    "start_time": "2022-01-25T18:40:14.072Z"
   },
   {
    "duration": 594,
    "start_time": "2022-01-25T18:40:35.283Z"
   },
   {
    "duration": 322,
    "start_time": "2022-01-25T18:41:13.072Z"
   },
   {
    "duration": 361,
    "start_time": "2022-01-25T18:41:51.923Z"
   },
   {
    "duration": 314,
    "start_time": "2022-01-25T18:42:57.003Z"
   },
   {
    "duration": 402,
    "start_time": "2022-01-25T18:44:15.797Z"
   },
   {
    "duration": 371,
    "start_time": "2022-01-25T18:44:20.791Z"
   },
   {
    "duration": 461,
    "start_time": "2022-01-25T18:44:47.208Z"
   },
   {
    "duration": 508,
    "start_time": "2022-01-25T18:45:08.058Z"
   },
   {
    "duration": 285,
    "start_time": "2022-01-25T18:45:17.215Z"
   },
   {
    "duration": 576,
    "start_time": "2022-01-25T18:53:40.903Z"
   },
   {
    "duration": 429,
    "start_time": "2022-01-25T18:53:51.433Z"
   },
   {
    "duration": 280,
    "start_time": "2022-01-25T18:57:56.483Z"
   },
   {
    "duration": 226,
    "start_time": "2022-01-25T18:58:43.473Z"
   },
   {
    "duration": 16,
    "start_time": "2022-01-25T18:59:57.116Z"
   },
   {
    "duration": 12,
    "start_time": "2022-01-25T19:06:01.376Z"
   },
   {
    "duration": 421,
    "start_time": "2022-01-25T19:06:21.464Z"
   },
   {
    "duration": 480,
    "start_time": "2022-01-25T19:06:48.941Z"
   },
   {
    "duration": 429,
    "start_time": "2022-01-25T19:07:11.608Z"
   },
   {
    "duration": 8,
    "start_time": "2022-01-25T19:07:56.700Z"
   },
   {
    "duration": 432,
    "start_time": "2022-01-25T19:13:00.119Z"
   },
   {
    "duration": 5,
    "start_time": "2022-01-25T19:14:07.347Z"
   },
   {
    "duration": 5,
    "start_time": "2022-01-25T19:26:47.929Z"
   },
   {
    "duration": 57,
    "start_time": "2022-01-25T19:26:51.226Z"
   },
   {
    "duration": 136,
    "start_time": "2022-01-25T19:27:01.638Z"
   },
   {
    "duration": 19,
    "start_time": "2022-01-25T19:27:05.955Z"
   },
   {
    "duration": 11,
    "start_time": "2022-01-25T19:27:10.240Z"
   },
   {
    "duration": 15,
    "start_time": "2022-01-25T19:27:13.519Z"
   },
   {
    "duration": 13,
    "start_time": "2022-01-25T19:27:17.172Z"
   },
   {
    "duration": 400,
    "start_time": "2022-01-25T19:28:09.322Z"
   },
   {
    "duration": 361,
    "start_time": "2022-01-25T19:28:50.203Z"
   },
   {
    "duration": 341,
    "start_time": "2022-01-25T19:29:07.570Z"
   },
   {
    "duration": 734,
    "start_time": "2022-01-25T19:33:40.474Z"
   },
   {
    "duration": 9229,
    "start_time": "2022-01-25T19:34:01.735Z"
   },
   {
    "duration": 411,
    "start_time": "2022-01-25T19:36:02.960Z"
   },
   {
    "duration": 362,
    "start_time": "2022-01-25T19:37:14.979Z"
   },
   {
    "duration": 602,
    "start_time": "2022-01-25T19:38:06.871Z"
   },
   {
    "duration": 365,
    "start_time": "2022-01-25T19:38:21.939Z"
   },
   {
    "duration": 419,
    "start_time": "2022-01-25T19:38:37.127Z"
   },
   {
    "duration": 429,
    "start_time": "2022-01-25T19:39:05.806Z"
   },
   {
    "duration": 233,
    "start_time": "2022-01-25T19:39:20.179Z"
   },
   {
    "duration": 253,
    "start_time": "2022-01-25T19:39:30.446Z"
   },
   {
    "duration": 230,
    "start_time": "2022-01-25T19:39:41.969Z"
   },
   {
    "duration": 238,
    "start_time": "2022-01-25T19:40:02.575Z"
   },
   {
    "duration": 240,
    "start_time": "2022-01-25T19:40:22.840Z"
   },
   {
    "duration": 222,
    "start_time": "2022-01-25T19:40:34.267Z"
   },
   {
    "duration": 239,
    "start_time": "2022-01-25T19:40:57.399Z"
   },
   {
    "duration": 230,
    "start_time": "2022-01-25T19:41:21.342Z"
   },
   {
    "duration": 4,
    "start_time": "2022-01-25T19:41:38.315Z"
   },
   {
    "duration": 96,
    "start_time": "2022-01-25T19:41:38.322Z"
   },
   {
    "duration": 39,
    "start_time": "2022-01-25T19:41:38.421Z"
   },
   {
    "duration": 44,
    "start_time": "2022-01-25T19:41:38.463Z"
   },
   {
    "duration": 159,
    "start_time": "2022-01-25T19:41:38.510Z"
   },
   {
    "duration": 11,
    "start_time": "2022-01-25T19:41:38.672Z"
   },
   {
    "duration": 36,
    "start_time": "2022-01-25T19:41:38.686Z"
   },
   {
    "duration": 37,
    "start_time": "2022-01-25T19:41:38.725Z"
   },
   {
    "duration": 12,
    "start_time": "2022-01-25T19:41:38.765Z"
   },
   {
    "duration": 15,
    "start_time": "2022-01-25T19:41:38.780Z"
   },
   {
    "duration": 9,
    "start_time": "2022-01-25T19:41:38.797Z"
   },
   {
    "duration": 65,
    "start_time": "2022-01-25T19:41:38.808Z"
   },
   {
    "duration": 11,
    "start_time": "2022-01-25T19:41:38.876Z"
   },
   {
    "duration": 12,
    "start_time": "2022-01-25T19:41:38.889Z"
   },
   {
    "duration": 11,
    "start_time": "2022-01-25T19:41:38.903Z"
   },
   {
    "duration": 48,
    "start_time": "2022-01-25T19:41:38.916Z"
   },
   {
    "duration": 28,
    "start_time": "2022-01-25T19:41:38.966Z"
   },
   {
    "duration": 7,
    "start_time": "2022-01-25T19:41:38.996Z"
   },
   {
    "duration": 6,
    "start_time": "2022-01-25T19:41:39.005Z"
   },
   {
    "duration": 52,
    "start_time": "2022-01-25T19:41:39.013Z"
   },
   {
    "duration": 12,
    "start_time": "2022-01-25T19:41:39.067Z"
   },
   {
    "duration": 11,
    "start_time": "2022-01-25T19:41:39.082Z"
   },
   {
    "duration": 4,
    "start_time": "2022-01-25T19:41:39.099Z"
   },
   {
    "duration": 984,
    "start_time": "2022-01-25T19:41:39.106Z"
   },
   {
    "duration": 14,
    "start_time": "2022-01-25T19:41:40.092Z"
   },
   {
    "duration": 11,
    "start_time": "2022-01-25T19:41:40.109Z"
   },
   {
    "duration": 59,
    "start_time": "2022-01-25T19:41:40.123Z"
   },
   {
    "duration": 144,
    "start_time": "2022-01-25T19:41:40.185Z"
   },
   {
    "duration": 545,
    "start_time": "2022-01-25T19:41:40.331Z"
   },
   {
    "duration": 584,
    "start_time": "2022-01-25T19:41:40.878Z"
   },
   {
    "duration": 321,
    "start_time": "2022-01-25T19:41:41.465Z"
   },
   {
    "duration": 599,
    "start_time": "2022-01-25T19:41:41.789Z"
   },
   {
    "duration": 346,
    "start_time": "2022-01-25T19:41:42.390Z"
   },
   {
    "duration": 351,
    "start_time": "2022-01-25T19:41:42.739Z"
   },
   {
    "duration": 298,
    "start_time": "2022-01-25T19:41:43.092Z"
   },
   {
    "duration": 666,
    "start_time": "2022-01-25T19:41:43.393Z"
   },
   {
    "duration": 12,
    "start_time": "2022-01-25T19:41:44.062Z"
   },
   {
    "duration": 431,
    "start_time": "2022-01-25T19:41:44.076Z"
   },
   {
    "duration": 7,
    "start_time": "2022-01-25T19:41:44.509Z"
   },
   {
    "duration": 265,
    "start_time": "2022-01-25T19:41:44.519Z"
   },
   {
    "duration": 257,
    "start_time": "2022-01-25T19:41:44.787Z"
   },
   {
    "duration": 344,
    "start_time": "2022-01-25T19:41:45.047Z"
   },
   {
    "duration": 5,
    "start_time": "2022-01-25T19:41:45.393Z"
   },
   {
    "duration": 65,
    "start_time": "2022-01-25T19:41:45.400Z"
   },
   {
    "duration": 141,
    "start_time": "2022-01-25T19:41:45.468Z"
   },
   {
    "duration": 17,
    "start_time": "2022-01-25T19:41:45.612Z"
   },
   {
    "duration": 34,
    "start_time": "2022-01-25T19:41:45.632Z"
   },
   {
    "duration": 21,
    "start_time": "2022-01-25T19:41:45.669Z"
   },
   {
    "duration": 17,
    "start_time": "2022-01-25T19:41:45.693Z"
   },
   {
    "duration": 2325,
    "start_time": "2022-01-25T19:41:45.713Z"
   },
   {
    "duration": 277,
    "start_time": "2022-01-25T19:41:48.040Z"
   },
   {
    "duration": 42,
    "start_time": "2022-01-25T19:41:48.320Z"
   },
   {
    "duration": 333,
    "start_time": "2022-01-25T19:41:48.364Z"
   },
   {
    "duration": 313,
    "start_time": "2022-01-25T19:41:48.699Z"
   },
   {
    "duration": 332,
    "start_time": "2022-01-25T19:41:49.014Z"
   },
   {
    "duration": 16,
    "start_time": "2022-01-25T19:41:49.349Z"
   },
   {
    "duration": 160,
    "start_time": "2022-01-25T19:41:49.367Z"
   },
   {
    "duration": 422,
    "start_time": "2022-01-25T19:41:49.108Z"
   },
   {
    "duration": 417,
    "start_time": "2022-01-25T19:41:49.115Z"
   },
   {
    "duration": 415,
    "start_time": "2022-01-25T19:41:49.119Z"
   },
   {
    "duration": 415,
    "start_time": "2022-01-25T19:41:49.122Z"
   },
   {
    "duration": 354,
    "start_time": "2022-01-25T19:41:49.185Z"
   },
   {
    "duration": 352,
    "start_time": "2022-01-25T19:41:49.189Z"
   },
   {
    "duration": 350,
    "start_time": "2022-01-25T19:41:49.194Z"
   },
   {
    "duration": 229,
    "start_time": "2022-01-25T19:42:20.351Z"
   },
   {
    "duration": 233,
    "start_time": "2022-01-25T19:42:30.614Z"
   },
   {
    "duration": 231,
    "start_time": "2022-01-25T19:42:53.291Z"
   },
   {
    "duration": 4,
    "start_time": "2022-01-25T19:43:02.787Z"
   },
   {
    "duration": 113,
    "start_time": "2022-01-25T19:43:02.794Z"
   },
   {
    "duration": 25,
    "start_time": "2022-01-25T19:43:02.910Z"
   },
   {
    "duration": 66,
    "start_time": "2022-01-25T19:43:02.938Z"
   },
   {
    "duration": 153,
    "start_time": "2022-01-25T19:43:03.006Z"
   },
   {
    "duration": 19,
    "start_time": "2022-01-25T19:43:03.163Z"
   },
   {
    "duration": 40,
    "start_time": "2022-01-25T19:43:03.185Z"
   },
   {
    "duration": 31,
    "start_time": "2022-01-25T19:43:03.229Z"
   },
   {
    "duration": 24,
    "start_time": "2022-01-25T19:43:03.264Z"
   },
   {
    "duration": 19,
    "start_time": "2022-01-25T19:43:03.291Z"
   },
   {
    "duration": 10,
    "start_time": "2022-01-25T19:43:03.312Z"
   },
   {
    "duration": 66,
    "start_time": "2022-01-25T19:43:03.324Z"
   },
   {
    "duration": 11,
    "start_time": "2022-01-25T19:43:03.393Z"
   },
   {
    "duration": 12,
    "start_time": "2022-01-25T19:43:03.407Z"
   },
   {
    "duration": 47,
    "start_time": "2022-01-25T19:43:03.421Z"
   },
   {
    "duration": 9,
    "start_time": "2022-01-25T19:43:03.471Z"
   },
   {
    "duration": 34,
    "start_time": "2022-01-25T19:43:03.483Z"
   },
   {
    "duration": 7,
    "start_time": "2022-01-25T19:43:03.519Z"
   },
   {
    "duration": 7,
    "start_time": "2022-01-25T19:43:03.560Z"
   },
   {
    "duration": 36,
    "start_time": "2022-01-25T19:43:03.570Z"
   },
   {
    "duration": 15,
    "start_time": "2022-01-25T19:43:03.609Z"
   },
   {
    "duration": 42,
    "start_time": "2022-01-25T19:43:03.626Z"
   },
   {
    "duration": 6,
    "start_time": "2022-01-25T19:43:03.681Z"
   },
   {
    "duration": 1083,
    "start_time": "2022-01-25T19:43:03.691Z"
   },
   {
    "duration": 10,
    "start_time": "2022-01-25T19:43:04.778Z"
   },
   {
    "duration": 9,
    "start_time": "2022-01-25T19:43:04.792Z"
   },
   {
    "duration": 86,
    "start_time": "2022-01-25T19:43:04.804Z"
   },
   {
    "duration": 158,
    "start_time": "2022-01-25T19:43:04.893Z"
   },
   {
    "duration": 889,
    "start_time": "2022-01-25T19:43:05.054Z"
   },
   {
    "duration": 748,
    "start_time": "2022-01-25T19:43:05.945Z"
   },
   {
    "duration": 349,
    "start_time": "2022-01-25T19:43:06.696Z"
   },
   {
    "duration": 669,
    "start_time": "2022-01-25T19:43:07.047Z"
   },
   {
    "duration": 383,
    "start_time": "2022-01-25T19:43:07.718Z"
   },
   {
    "duration": 373,
    "start_time": "2022-01-25T19:43:08.104Z"
   },
   {
    "duration": 332,
    "start_time": "2022-01-25T19:43:08.480Z"
   },
   {
    "duration": 496,
    "start_time": "2022-01-25T19:43:08.814Z"
   },
   {
    "duration": 12,
    "start_time": "2022-01-25T19:43:09.312Z"
   },
   {
    "duration": 498,
    "start_time": "2022-01-25T19:43:09.327Z"
   },
   {
    "duration": 6,
    "start_time": "2022-01-25T19:43:09.828Z"
   },
   {
    "duration": 300,
    "start_time": "2022-01-25T19:43:09.836Z"
   },
   {
    "duration": 278,
    "start_time": "2022-01-25T19:43:10.138Z"
   },
   {
    "duration": 283,
    "start_time": "2022-01-25T19:43:10.418Z"
   },
   {
    "duration": 272,
    "start_time": "2022-01-25T19:43:10.704Z"
   },
   {
    "duration": 6,
    "start_time": "2022-01-25T19:43:10.978Z"
   },
   {
    "duration": 77,
    "start_time": "2022-01-25T19:43:10.988Z"
   },
   {
    "duration": 194,
    "start_time": "2022-01-25T19:43:11.069Z"
   },
   {
    "duration": 32,
    "start_time": "2022-01-25T19:43:11.266Z"
   },
   {
    "duration": 12,
    "start_time": "2022-01-25T19:43:11.300Z"
   },
   {
    "duration": 16,
    "start_time": "2022-01-25T19:43:11.314Z"
   },
   {
    "duration": 43,
    "start_time": "2022-01-25T19:43:11.333Z"
   },
   {
    "duration": 2863,
    "start_time": "2022-01-25T19:43:11.379Z"
   },
   {
    "duration": 297,
    "start_time": "2022-01-25T19:43:14.244Z"
   },
   {
    "duration": 40,
    "start_time": "2022-01-25T19:43:14.543Z"
   },
   {
    "duration": 383,
    "start_time": "2022-01-25T19:43:14.587Z"
   },
   {
    "duration": 353,
    "start_time": "2022-01-25T19:43:14.975Z"
   },
   {
    "duration": 362,
    "start_time": "2022-01-25T19:43:15.331Z"
   },
   {
    "duration": 7,
    "start_time": "2022-01-25T19:43:15.695Z"
   },
   {
    "duration": 133,
    "start_time": "2022-01-25T19:43:15.704Z"
   },
   {
    "duration": 740,
    "start_time": "2022-01-25T19:43:15.099Z"
   },
   {
    "duration": 734,
    "start_time": "2022-01-25T19:43:15.107Z"
   },
   {
    "duration": 732,
    "start_time": "2022-01-25T19:43:15.110Z"
   },
   {
    "duration": 725,
    "start_time": "2022-01-25T19:43:15.118Z"
   },
   {
    "duration": 719,
    "start_time": "2022-01-25T19:43:15.126Z"
   },
   {
    "duration": 717,
    "start_time": "2022-01-25T19:43:15.129Z"
   },
   {
    "duration": 694,
    "start_time": "2022-01-25T19:43:15.154Z"
   },
   {
    "duration": 126,
    "start_time": "2022-01-25T19:45:08.175Z"
   },
   {
    "duration": 25,
    "start_time": "2022-01-25T19:45:27.858Z"
   },
   {
    "duration": 4,
    "start_time": "2022-01-25T19:45:32.550Z"
   },
   {
    "duration": 10,
    "start_time": "2022-01-25T19:45:35.353Z"
   },
   {
    "duration": 12,
    "start_time": "2022-01-25T19:45:38.336Z"
   },
   {
    "duration": 570,
    "start_time": "2022-01-25T19:45:40.423Z"
   },
   {
    "duration": 12,
    "start_time": "2022-01-25T19:45:44.986Z"
   },
   {
    "duration": 344,
    "start_time": "2022-01-25T19:45:46.717Z"
   },
   {
    "duration": 56,
    "start_time": "2022-01-25T19:45:47.257Z"
   },
   {
    "duration": 842,
    "start_time": "2022-01-26T15:45:24.962Z"
   },
   {
    "duration": 70,
    "start_time": "2022-01-26T15:45:25.806Z"
   },
   {
    "duration": 19,
    "start_time": "2022-01-26T15:45:25.879Z"
   },
   {
    "duration": 30,
    "start_time": "2022-01-26T15:45:25.900Z"
   },
   {
    "duration": 94,
    "start_time": "2022-01-26T15:45:25.932Z"
   },
   {
    "duration": 10,
    "start_time": "2022-01-26T15:45:26.029Z"
   },
   {
    "duration": 27,
    "start_time": "2022-01-26T15:45:26.041Z"
   },
   {
    "duration": 26,
    "start_time": "2022-01-26T15:45:26.071Z"
   },
   {
    "duration": 10,
    "start_time": "2022-01-26T15:45:26.101Z"
   },
   {
    "duration": 13,
    "start_time": "2022-01-26T15:45:26.113Z"
   },
   {
    "duration": 7,
    "start_time": "2022-01-26T15:45:26.128Z"
   },
   {
    "duration": 62,
    "start_time": "2022-01-26T15:45:26.138Z"
   },
   {
    "duration": 10,
    "start_time": "2022-01-26T15:45:26.202Z"
   },
   {
    "duration": 10,
    "start_time": "2022-01-26T15:45:26.214Z"
   },
   {
    "duration": 7,
    "start_time": "2022-01-26T15:45:26.226Z"
   },
   {
    "duration": 7,
    "start_time": "2022-01-26T15:45:26.235Z"
   },
   {
    "duration": 59,
    "start_time": "2022-01-26T15:45:26.244Z"
   },
   {
    "duration": 6,
    "start_time": "2022-01-26T15:45:26.304Z"
   },
   {
    "duration": 9,
    "start_time": "2022-01-26T15:45:26.312Z"
   },
   {
    "duration": 37,
    "start_time": "2022-01-26T15:45:26.323Z"
   },
   {
    "duration": 9,
    "start_time": "2022-01-26T15:45:26.362Z"
   },
   {
    "duration": 10,
    "start_time": "2022-01-26T15:45:26.373Z"
   },
   {
    "duration": 12,
    "start_time": "2022-01-26T15:45:26.385Z"
   },
   {
    "duration": 572,
    "start_time": "2022-01-26T15:45:26.399Z"
   },
   {
    "duration": 8,
    "start_time": "2022-01-26T15:45:26.973Z"
   },
   {
    "duration": 14,
    "start_time": "2022-01-26T15:45:26.983Z"
   },
   {
    "duration": 23,
    "start_time": "2022-01-26T15:45:27.001Z"
   },
   {
    "duration": 106,
    "start_time": "2022-01-26T15:45:27.026Z"
   },
   {
    "duration": 401,
    "start_time": "2022-01-26T15:45:27.134Z"
   },
   {
    "duration": 380,
    "start_time": "2022-01-26T15:45:27.537Z"
   },
   {
    "duration": 203,
    "start_time": "2022-01-26T15:45:27.918Z"
   },
   {
    "duration": 380,
    "start_time": "2022-01-26T15:45:28.123Z"
   },
   {
    "duration": 225,
    "start_time": "2022-01-26T15:45:28.505Z"
   },
   {
    "duration": 223,
    "start_time": "2022-01-26T15:45:28.731Z"
   },
   {
    "duration": 190,
    "start_time": "2022-01-26T15:45:28.956Z"
   },
   {
    "duration": 294,
    "start_time": "2022-01-26T15:45:29.147Z"
   },
   {
    "duration": 9,
    "start_time": "2022-01-26T15:45:29.443Z"
   },
   {
    "duration": 282,
    "start_time": "2022-01-26T15:45:29.454Z"
   },
   {
    "duration": 6,
    "start_time": "2022-01-26T15:45:29.738Z"
   },
   {
    "duration": 296,
    "start_time": "2022-01-26T15:45:29.746Z"
   },
   {
    "duration": 167,
    "start_time": "2022-01-26T15:45:30.044Z"
   },
   {
    "duration": 156,
    "start_time": "2022-01-26T15:45:30.213Z"
   },
   {
    "duration": 159,
    "start_time": "2022-01-26T15:45:30.371Z"
   },
   {
    "duration": 4,
    "start_time": "2022-01-26T15:45:30.533Z"
   },
   {
    "duration": 48,
    "start_time": "2022-01-26T15:45:30.539Z"
   },
   {
    "duration": 98,
    "start_time": "2022-01-26T15:45:30.589Z"
   },
   {
    "duration": 11,
    "start_time": "2022-01-26T15:45:30.698Z"
   },
   {
    "duration": 17,
    "start_time": "2022-01-26T15:45:30.711Z"
   },
   {
    "duration": 15,
    "start_time": "2022-01-26T15:45:30.730Z"
   },
   {
    "duration": 15,
    "start_time": "2022-01-26T15:45:30.747Z"
   },
   {
    "duration": 1629,
    "start_time": "2022-01-26T15:45:30.763Z"
   },
   {
    "duration": 184,
    "start_time": "2022-01-26T15:45:32.397Z"
   },
   {
    "duration": 25,
    "start_time": "2022-01-26T15:45:32.583Z"
   },
   {
    "duration": 334,
    "start_time": "2022-01-26T15:45:32.610Z"
   },
   {
    "duration": 209,
    "start_time": "2022-01-26T15:45:32.946Z"
   },
   {
    "duration": 209,
    "start_time": "2022-01-26T15:45:33.157Z"
   },
   {
    "duration": 6,
    "start_time": "2022-01-26T15:45:33.368Z"
   },
   {
    "duration": 29,
    "start_time": "2022-01-26T15:45:33.376Z"
   },
   {
    "duration": 3,
    "start_time": "2022-01-26T15:45:33.407Z"
   },
   {
    "duration": 11,
    "start_time": "2022-01-26T15:45:33.412Z"
   },
   {
    "duration": 12,
    "start_time": "2022-01-26T15:45:33.424Z"
   },
   {
    "duration": 384,
    "start_time": "2022-01-26T15:45:33.438Z"
   },
   {
    "duration": 9,
    "start_time": "2022-01-26T15:45:33.824Z"
   },
   {
    "duration": 34,
    "start_time": "2022-01-26T15:45:33.835Z"
   },
   {
    "duration": 57,
    "start_time": "2022-01-26T15:45:33.871Z"
   },
   {
    "duration": 199,
    "start_time": "2022-01-26T15:46:04.021Z"
   },
   {
    "duration": 193,
    "start_time": "2022-01-26T15:46:14.757Z"
   },
   {
    "duration": 210,
    "start_time": "2022-01-26T15:46:29.919Z"
   },
   {
    "duration": 188,
    "start_time": "2022-01-26T15:48:37.923Z"
   },
   {
    "duration": 172,
    "start_time": "2022-01-26T15:48:45.544Z"
   },
   {
    "duration": 151,
    "start_time": "2022-01-26T15:49:33.581Z"
   },
   {
    "duration": 3,
    "start_time": "2022-01-26T15:49:53.950Z"
   },
   {
    "duration": 83,
    "start_time": "2022-01-26T15:49:53.955Z"
   },
   {
    "duration": 10,
    "start_time": "2022-01-26T15:49:54.041Z"
   },
   {
    "duration": 44,
    "start_time": "2022-01-26T15:49:54.053Z"
   },
   {
    "duration": 74,
    "start_time": "2022-01-26T15:49:54.099Z"
   },
   {
    "duration": 26,
    "start_time": "2022-01-26T15:49:54.174Z"
   },
   {
    "duration": 25,
    "start_time": "2022-01-26T15:49:54.201Z"
   },
   {
    "duration": 5,
    "start_time": "2022-01-26T15:49:54.228Z"
   },
   {
    "duration": 11,
    "start_time": "2022-01-26T15:49:54.235Z"
   },
   {
    "duration": 10,
    "start_time": "2022-01-26T15:49:54.248Z"
   },
   {
    "duration": 39,
    "start_time": "2022-01-26T15:49:54.260Z"
   },
   {
    "duration": 20,
    "start_time": "2022-01-26T15:49:54.301Z"
   },
   {
    "duration": 8,
    "start_time": "2022-01-26T15:49:54.323Z"
   },
   {
    "duration": 11,
    "start_time": "2022-01-26T15:49:54.332Z"
   },
   {
    "duration": 7,
    "start_time": "2022-01-26T15:49:54.345Z"
   },
   {
    "duration": 7,
    "start_time": "2022-01-26T15:49:54.354Z"
   },
   {
    "duration": 21,
    "start_time": "2022-01-26T15:49:54.398Z"
   },
   {
    "duration": 6,
    "start_time": "2022-01-26T15:49:54.421Z"
   },
   {
    "duration": 7,
    "start_time": "2022-01-26T15:49:54.429Z"
   },
   {
    "duration": 15,
    "start_time": "2022-01-26T15:49:54.437Z"
   },
   {
    "duration": 10,
    "start_time": "2022-01-26T15:49:54.454Z"
   },
   {
    "duration": 8,
    "start_time": "2022-01-26T15:49:54.498Z"
   },
   {
    "duration": 8,
    "start_time": "2022-01-26T15:49:54.508Z"
   },
   {
    "duration": 679,
    "start_time": "2022-01-26T15:49:54.518Z"
   },
   {
    "duration": 7,
    "start_time": "2022-01-26T15:49:55.199Z"
   },
   {
    "duration": 6,
    "start_time": "2022-01-26T15:49:55.208Z"
   },
   {
    "duration": 24,
    "start_time": "2022-01-26T15:49:55.218Z"
   },
   {
    "duration": 110,
    "start_time": "2022-01-26T15:49:55.244Z"
   },
   {
    "duration": 365,
    "start_time": "2022-01-26T15:49:55.356Z"
   },
   {
    "duration": 396,
    "start_time": "2022-01-26T15:49:55.722Z"
   },
   {
    "duration": 226,
    "start_time": "2022-01-26T15:49:56.120Z"
   },
   {
    "duration": 404,
    "start_time": "2022-01-26T15:49:56.348Z"
   },
   {
    "duration": 227,
    "start_time": "2022-01-26T15:49:56.754Z"
   },
   {
    "duration": 230,
    "start_time": "2022-01-26T15:49:56.983Z"
   },
   {
    "duration": 191,
    "start_time": "2022-01-26T15:49:57.215Z"
   },
   {
    "duration": 292,
    "start_time": "2022-01-26T15:49:57.408Z"
   },
   {
    "duration": 8,
    "start_time": "2022-01-26T15:49:57.702Z"
   },
   {
    "duration": 404,
    "start_time": "2022-01-26T15:49:57.712Z"
   },
   {
    "duration": 5,
    "start_time": "2022-01-26T15:49:58.118Z"
   },
   {
    "duration": 234,
    "start_time": "2022-01-26T15:49:58.125Z"
   },
   {
    "duration": 159,
    "start_time": "2022-01-26T15:49:58.361Z"
   },
   {
    "duration": 159,
    "start_time": "2022-01-26T15:49:58.521Z"
   },
   {
    "duration": 155,
    "start_time": "2022-01-26T15:49:58.682Z"
   },
   {
    "duration": 4,
    "start_time": "2022-01-26T15:49:58.839Z"
   },
   {
    "duration": 39,
    "start_time": "2022-01-26T15:49:58.844Z"
   },
   {
    "duration": 113,
    "start_time": "2022-01-26T15:49:58.885Z"
   },
   {
    "duration": 11,
    "start_time": "2022-01-26T15:49:59.000Z"
   },
   {
    "duration": 11,
    "start_time": "2022-01-26T15:49:59.013Z"
   },
   {
    "duration": 12,
    "start_time": "2022-01-26T15:49:59.026Z"
   },
   {
    "duration": 9,
    "start_time": "2022-01-26T15:49:59.039Z"
   },
   {
    "duration": 1635,
    "start_time": "2022-01-26T15:49:59.049Z"
   },
   {
    "duration": 204,
    "start_time": "2022-01-26T15:50:00.686Z"
   },
   {
    "duration": 20,
    "start_time": "2022-01-26T15:50:00.892Z"
   },
   {
    "duration": 238,
    "start_time": "2022-01-26T15:50:00.914Z"
   },
   {
    "duration": 218,
    "start_time": "2022-01-26T15:50:01.154Z"
   },
   {
    "duration": 389,
    "start_time": "2022-01-26T15:50:01.374Z"
   },
   {
    "duration": 8,
    "start_time": "2022-01-26T15:50:01.764Z"
   },
   {
    "duration": 42,
    "start_time": "2022-01-26T15:50:01.773Z"
   },
   {
    "duration": 8,
    "start_time": "2022-01-26T15:50:01.817Z"
   },
   {
    "duration": 25,
    "start_time": "2022-01-26T15:50:01.827Z"
   },
   {
    "duration": 30,
    "start_time": "2022-01-26T15:50:01.854Z"
   },
   {
    "duration": 425,
    "start_time": "2022-01-26T15:50:01.886Z"
   },
   {
    "duration": 10,
    "start_time": "2022-01-26T15:50:02.312Z"
   },
   {
    "duration": 34,
    "start_time": "2022-01-26T15:50:02.324Z"
   },
   {
    "duration": 55,
    "start_time": "2022-01-26T15:50:02.360Z"
   },
   {
    "duration": 12,
    "start_time": "2022-01-26T16:05:14.673Z"
   },
   {
    "duration": 9,
    "start_time": "2022-01-26T16:06:57.273Z"
   },
   {
    "duration": 3,
    "start_time": "2022-01-26T16:10:32.248Z"
   },
   {
    "duration": 81,
    "start_time": "2022-01-26T16:10:32.253Z"
   },
   {
    "duration": 10,
    "start_time": "2022-01-26T16:10:32.336Z"
   },
   {
    "duration": 25,
    "start_time": "2022-01-26T16:10:32.348Z"
   },
   {
    "duration": 92,
    "start_time": "2022-01-26T16:10:32.375Z"
   },
   {
    "duration": 33,
    "start_time": "2022-01-26T16:10:32.469Z"
   },
   {
    "duration": 25,
    "start_time": "2022-01-26T16:10:32.503Z"
   },
   {
    "duration": 5,
    "start_time": "2022-01-26T16:10:32.530Z"
   },
   {
    "duration": 10,
    "start_time": "2022-01-26T16:10:32.538Z"
   },
   {
    "duration": 14,
    "start_time": "2022-01-26T16:10:32.550Z"
   },
   {
    "duration": 50,
    "start_time": "2022-01-26T16:10:32.565Z"
   },
   {
    "duration": 20,
    "start_time": "2022-01-26T16:10:32.617Z"
   },
   {
    "duration": 9,
    "start_time": "2022-01-26T16:10:32.639Z"
   },
   {
    "duration": 10,
    "start_time": "2022-01-26T16:10:32.649Z"
   },
   {
    "duration": 8,
    "start_time": "2022-01-26T16:10:32.661Z"
   },
   {
    "duration": 27,
    "start_time": "2022-01-26T16:10:32.671Z"
   },
   {
    "duration": 22,
    "start_time": "2022-01-26T16:10:32.700Z"
   },
   {
    "duration": 6,
    "start_time": "2022-01-26T16:10:32.723Z"
   },
   {
    "duration": 13,
    "start_time": "2022-01-26T16:10:32.730Z"
   },
   {
    "duration": 16,
    "start_time": "2022-01-26T16:10:32.745Z"
   },
   {
    "duration": 5,
    "start_time": "2022-01-26T16:10:32.763Z"
   },
   {
    "duration": 36,
    "start_time": "2022-01-26T16:10:32.770Z"
   },
   {
    "duration": 9,
    "start_time": "2022-01-26T16:10:32.807Z"
   },
   {
    "duration": 13,
    "start_time": "2022-01-26T16:10:32.818Z"
   },
   {
    "duration": 3,
    "start_time": "2022-01-26T16:10:32.833Z"
   },
   {
    "duration": 605,
    "start_time": "2022-01-26T16:10:32.837Z"
   },
   {
    "duration": 7,
    "start_time": "2022-01-26T16:10:33.446Z"
   },
   {
    "duration": 7,
    "start_time": "2022-01-26T16:10:33.456Z"
   },
   {
    "duration": 46,
    "start_time": "2022-01-26T16:10:33.464Z"
   },
   {
    "duration": 103,
    "start_time": "2022-01-26T16:10:33.512Z"
   },
   {
    "duration": 374,
    "start_time": "2022-01-26T16:10:33.617Z"
   },
   {
    "duration": 377,
    "start_time": "2022-01-26T16:10:33.997Z"
   },
   {
    "duration": 212,
    "start_time": "2022-01-26T16:10:34.375Z"
   },
   {
    "duration": 383,
    "start_time": "2022-01-26T16:10:34.589Z"
   },
   {
    "duration": 237,
    "start_time": "2022-01-26T16:10:34.974Z"
   },
   {
    "duration": 403,
    "start_time": "2022-01-26T16:10:35.213Z"
   },
   {
    "duration": 208,
    "start_time": "2022-01-26T16:10:35.618Z"
   },
   {
    "duration": 295,
    "start_time": "2022-01-26T16:10:35.828Z"
   },
   {
    "duration": 10,
    "start_time": "2022-01-26T16:10:36.124Z"
   },
   {
    "duration": 298,
    "start_time": "2022-01-26T16:10:36.135Z"
   },
   {
    "duration": 5,
    "start_time": "2022-01-26T16:10:36.435Z"
   },
   {
    "duration": 219,
    "start_time": "2022-01-26T16:10:36.441Z"
   },
   {
    "duration": 177,
    "start_time": "2022-01-26T16:10:36.662Z"
   },
   {
    "duration": 155,
    "start_time": "2022-01-26T16:10:36.841Z"
   },
   {
    "duration": 150,
    "start_time": "2022-01-26T16:10:36.998Z"
   },
   {
    "duration": 3,
    "start_time": "2022-01-26T16:10:37.150Z"
   },
   {
    "duration": 49,
    "start_time": "2022-01-26T16:10:37.154Z"
   },
   {
    "duration": 100,
    "start_time": "2022-01-26T16:10:37.204Z"
   },
   {
    "duration": 10,
    "start_time": "2022-01-26T16:10:37.306Z"
   },
   {
    "duration": 14,
    "start_time": "2022-01-26T16:10:37.318Z"
   },
   {
    "duration": 1636,
    "start_time": "2022-01-26T16:10:37.333Z"
   },
   {
    "duration": 185,
    "start_time": "2022-01-26T16:10:38.970Z"
   },
   {
    "duration": 20,
    "start_time": "2022-01-26T16:10:39.157Z"
   },
   {
    "duration": 228,
    "start_time": "2022-01-26T16:10:39.178Z"
   },
   {
    "duration": 211,
    "start_time": "2022-01-26T16:10:39.408Z"
   },
   {
    "duration": 214,
    "start_time": "2022-01-26T16:10:39.621Z"
   },
   {
    "duration": 7,
    "start_time": "2022-01-26T16:10:39.836Z"
   },
   {
    "duration": 24,
    "start_time": "2022-01-26T16:10:39.845Z"
   },
   {
    "duration": 3,
    "start_time": "2022-01-26T16:10:39.871Z"
   },
   {
    "duration": 23,
    "start_time": "2022-01-26T16:10:39.875Z"
   },
   {
    "duration": 7,
    "start_time": "2022-01-26T16:10:39.900Z"
   },
   {
    "duration": 414,
    "start_time": "2022-01-26T16:10:39.909Z"
   },
   {
    "duration": 11,
    "start_time": "2022-01-26T16:10:40.326Z"
   },
   {
    "duration": 251,
    "start_time": "2022-01-26T16:10:40.339Z"
   },
   {
    "duration": 42,
    "start_time": "2022-01-26T16:10:40.592Z"
   },
   {
    "duration": 19,
    "start_time": "2022-01-26T16:14:10.083Z"
   },
   {
    "duration": 22,
    "start_time": "2022-01-26T16:33:56.845Z"
   },
   {
    "duration": 243,
    "start_time": "2022-01-26T16:37:15.458Z"
   },
   {
    "duration": 216,
    "start_time": "2022-01-26T16:37:51.462Z"
   },
   {
    "duration": 217,
    "start_time": "2022-01-26T16:38:12.589Z"
   },
   {
    "duration": 205,
    "start_time": "2022-01-26T16:47:25.022Z"
   },
   {
    "duration": 6,
    "start_time": "2022-01-26T16:51:06.590Z"
   },
   {
    "duration": 17,
    "start_time": "2022-01-26T16:51:14.082Z"
   },
   {
    "duration": 3,
    "start_time": "2022-01-26T16:51:17.361Z"
   },
   {
    "duration": 8,
    "start_time": "2022-01-26T16:51:20.651Z"
   },
   {
    "duration": 8,
    "start_time": "2022-01-26T16:51:47.591Z"
   },
   {
    "duration": 16,
    "start_time": "2022-01-26T16:55:16.145Z"
   },
   {
    "duration": 3,
    "start_time": "2022-01-26T16:55:18.908Z"
   },
   {
    "duration": 9,
    "start_time": "2022-01-26T16:55:19.799Z"
   },
   {
    "duration": 7,
    "start_time": "2022-01-26T16:58:27.871Z"
   },
   {
    "duration": 3,
    "start_time": "2022-01-26T16:58:31.397Z"
   },
   {
    "duration": 8,
    "start_time": "2022-01-26T16:58:34.209Z"
   },
   {
    "duration": 7,
    "start_time": "2022-01-26T16:58:48.473Z"
   },
   {
    "duration": 19,
    "start_time": "2022-01-26T17:06:52.615Z"
   },
   {
    "duration": 17,
    "start_time": "2022-01-26T17:08:55.599Z"
   },
   {
    "duration": 18,
    "start_time": "2022-01-26T17:09:24.610Z"
   },
   {
    "duration": 104,
    "start_time": "2022-01-26T17:11:10.629Z"
   },
   {
    "duration": 13,
    "start_time": "2022-01-26T17:12:20.099Z"
   },
   {
    "duration": 4467,
    "start_time": "2022-01-26T17:13:20.707Z"
   },
   {
    "duration": 228,
    "start_time": "2022-01-26T17:13:40.786Z"
   },
   {
    "duration": 14,
    "start_time": "2022-01-26T17:13:53.426Z"
   },
   {
    "duration": 12,
    "start_time": "2022-01-26T17:29:23.072Z"
   },
   {
    "duration": 419,
    "start_time": "2022-01-26T17:47:34.229Z"
   },
   {
    "duration": 32,
    "start_time": "2022-01-26T17:48:09.745Z"
   },
   {
    "duration": 30,
    "start_time": "2022-01-26T17:48:21.177Z"
   },
   {
    "duration": 40,
    "start_time": "2022-01-26T17:58:07.727Z"
   },
   {
    "duration": 3,
    "start_time": "2022-01-26T18:51:49.603Z"
   },
   {
    "duration": 83,
    "start_time": "2022-01-26T18:51:49.608Z"
   },
   {
    "duration": 12,
    "start_time": "2022-01-26T18:51:49.693Z"
   },
   {
    "duration": 40,
    "start_time": "2022-01-26T18:51:49.707Z"
   },
   {
    "duration": 89,
    "start_time": "2022-01-26T18:51:49.749Z"
   },
   {
    "duration": 8,
    "start_time": "2022-01-26T18:51:49.839Z"
   },
   {
    "duration": 28,
    "start_time": "2022-01-26T18:51:49.849Z"
   },
   {
    "duration": 6,
    "start_time": "2022-01-26T18:51:49.897Z"
   },
   {
    "duration": 19,
    "start_time": "2022-01-26T18:51:49.906Z"
   },
   {
    "duration": 13,
    "start_time": "2022-01-26T18:51:49.927Z"
   },
   {
    "duration": 26,
    "start_time": "2022-01-26T18:51:49.942Z"
   },
   {
    "duration": 21,
    "start_time": "2022-01-26T18:51:49.969Z"
   },
   {
    "duration": 8,
    "start_time": "2022-01-26T18:51:49.996Z"
   },
   {
    "duration": 14,
    "start_time": "2022-01-26T18:51:50.007Z"
   },
   {
    "duration": 15,
    "start_time": "2022-01-26T18:51:50.023Z"
   },
   {
    "duration": 8,
    "start_time": "2022-01-26T18:51:50.043Z"
   },
   {
    "duration": 59,
    "start_time": "2022-01-26T18:51:50.054Z"
   },
   {
    "duration": 7,
    "start_time": "2022-01-26T18:51:50.116Z"
   },
   {
    "duration": 33,
    "start_time": "2022-01-26T18:51:50.125Z"
   },
   {
    "duration": 15,
    "start_time": "2022-01-26T18:51:50.160Z"
   },
   {
    "duration": 23,
    "start_time": "2022-01-26T18:51:50.177Z"
   },
   {
    "duration": 29,
    "start_time": "2022-01-26T18:51:50.202Z"
   },
   {
    "duration": 20,
    "start_time": "2022-01-26T18:51:50.233Z"
   },
   {
    "duration": 22,
    "start_time": "2022-01-26T18:51:50.255Z"
   },
   {
    "duration": 15,
    "start_time": "2022-01-26T18:51:50.278Z"
   },
   {
    "duration": 617,
    "start_time": "2022-01-26T18:51:50.295Z"
   },
   {
    "duration": 8,
    "start_time": "2022-01-26T18:51:50.914Z"
   },
   {
    "duration": 12,
    "start_time": "2022-01-26T18:51:50.924Z"
   },
   {
    "duration": 36,
    "start_time": "2022-01-26T18:51:50.937Z"
   },
   {
    "duration": 112,
    "start_time": "2022-01-26T18:51:50.975Z"
   },
   {
    "duration": 364,
    "start_time": "2022-01-26T18:51:51.089Z"
   },
   {
    "duration": 412,
    "start_time": "2022-01-26T18:51:51.455Z"
   },
   {
    "duration": 228,
    "start_time": "2022-01-26T18:51:51.869Z"
   },
   {
    "duration": 404,
    "start_time": "2022-01-26T18:51:52.098Z"
   },
   {
    "duration": 261,
    "start_time": "2022-01-26T18:51:52.504Z"
   },
   {
    "duration": 217,
    "start_time": "2022-01-26T18:51:52.767Z"
   },
   {
    "duration": 227,
    "start_time": "2022-01-26T18:51:52.986Z"
   },
   {
    "duration": 298,
    "start_time": "2022-01-26T18:51:53.215Z"
   },
   {
    "duration": 9,
    "start_time": "2022-01-26T18:51:53.514Z"
   },
   {
    "duration": 287,
    "start_time": "2022-01-26T18:51:53.527Z"
   },
   {
    "duration": 6,
    "start_time": "2022-01-26T18:51:53.816Z"
   },
   {
    "duration": 461,
    "start_time": "2022-01-26T18:51:53.824Z"
   },
   {
    "duration": 168,
    "start_time": "2022-01-26T18:51:54.287Z"
   },
   {
    "duration": 160,
    "start_time": "2022-01-26T18:51:54.457Z"
   },
   {
    "duration": 163,
    "start_time": "2022-01-26T18:51:54.618Z"
   },
   {
    "duration": 4,
    "start_time": "2022-01-26T18:51:54.783Z"
   },
   {
    "duration": 36,
    "start_time": "2022-01-26T18:51:54.796Z"
   },
   {
    "duration": 107,
    "start_time": "2022-01-26T18:51:54.834Z"
   },
   {
    "duration": 14,
    "start_time": "2022-01-26T18:51:54.943Z"
   },
   {
    "duration": 194,
    "start_time": "2022-01-26T18:51:54.958Z"
   },
   {
    "duration": 13,
    "start_time": "2022-01-26T18:51:55.155Z"
   },
   {
    "duration": 246,
    "start_time": "2022-01-26T18:51:55.169Z"
   },
   {
    "duration": 217,
    "start_time": "2022-01-26T18:51:55.417Z"
   },
   {
    "duration": 218,
    "start_time": "2022-01-26T18:51:55.636Z"
   },
   {
    "duration": 10,
    "start_time": "2022-01-26T18:51:55.856Z"
   },
   {
    "duration": 39,
    "start_time": "2022-01-26T18:51:55.868Z"
   },
   {
    "duration": 4,
    "start_time": "2022-01-26T18:51:55.908Z"
   },
   {
    "duration": 9,
    "start_time": "2022-01-26T18:51:55.914Z"
   },
   {
    "duration": 11,
    "start_time": "2022-01-26T18:51:55.925Z"
   },
   {
    "duration": 418,
    "start_time": "2022-01-26T18:51:55.938Z"
   },
   {
    "duration": 10,
    "start_time": "2022-01-26T18:51:56.359Z"
   },
   {
    "duration": 49,
    "start_time": "2022-01-26T18:51:56.371Z"
   },
   {
    "duration": 38,
    "start_time": "2022-01-26T18:51:56.421Z"
   },
   {
    "duration": 643,
    "start_time": "2022-01-26T18:52:29.525Z"
   },
   {
    "duration": 73,
    "start_time": "2022-01-26T18:52:30.170Z"
   },
   {
    "duration": 11,
    "start_time": "2022-01-26T18:52:30.245Z"
   },
   {
    "duration": 40,
    "start_time": "2022-01-26T18:52:30.258Z"
   },
   {
    "duration": 75,
    "start_time": "2022-01-26T18:52:30.300Z"
   },
   {
    "duration": 26,
    "start_time": "2022-01-26T18:52:30.376Z"
   },
   {
    "duration": 30,
    "start_time": "2022-01-26T18:52:30.404Z"
   },
   {
    "duration": 7,
    "start_time": "2022-01-26T18:52:30.436Z"
   },
   {
    "duration": 11,
    "start_time": "2022-01-26T18:52:30.445Z"
   },
   {
    "duration": 11,
    "start_time": "2022-01-26T18:52:30.459Z"
   },
   {
    "duration": 8,
    "start_time": "2022-01-26T18:52:30.499Z"
   },
   {
    "duration": 26,
    "start_time": "2022-01-26T18:52:30.509Z"
   },
   {
    "duration": 8,
    "start_time": "2022-01-26T18:52:30.537Z"
   },
   {
    "duration": 13,
    "start_time": "2022-01-26T18:52:30.547Z"
   },
   {
    "duration": 10,
    "start_time": "2022-01-26T18:52:30.562Z"
   },
   {
    "duration": 15,
    "start_time": "2022-01-26T18:52:30.597Z"
   },
   {
    "duration": 61,
    "start_time": "2022-01-26T18:52:30.614Z"
   },
   {
    "duration": 6,
    "start_time": "2022-01-26T18:52:30.676Z"
   },
   {
    "duration": 19,
    "start_time": "2022-01-26T18:52:30.683Z"
   },
   {
    "duration": 15,
    "start_time": "2022-01-26T18:52:30.704Z"
   },
   {
    "duration": 9,
    "start_time": "2022-01-26T18:52:30.721Z"
   },
   {
    "duration": 12,
    "start_time": "2022-01-26T18:52:30.732Z"
   },
   {
    "duration": 12,
    "start_time": "2022-01-26T18:52:30.746Z"
   },
   {
    "duration": 11,
    "start_time": "2022-01-26T18:52:30.760Z"
   },
   {
    "duration": 24,
    "start_time": "2022-01-26T18:52:30.773Z"
   },
   {
    "duration": 583,
    "start_time": "2022-01-26T18:52:30.799Z"
   },
   {
    "duration": 12,
    "start_time": "2022-01-26T18:52:31.386Z"
   },
   {
    "duration": 8,
    "start_time": "2022-01-26T18:52:31.400Z"
   },
   {
    "duration": 32,
    "start_time": "2022-01-26T18:52:31.409Z"
   },
   {
    "duration": 104,
    "start_time": "2022-01-26T18:52:31.442Z"
   },
   {
    "duration": 420,
    "start_time": "2022-01-26T18:52:31.548Z"
   },
   {
    "duration": 396,
    "start_time": "2022-01-26T18:52:31.970Z"
   },
   {
    "duration": 218,
    "start_time": "2022-01-26T18:52:32.368Z"
   },
   {
    "duration": 383,
    "start_time": "2022-01-26T18:52:32.587Z"
   },
   {
    "duration": 245,
    "start_time": "2022-01-26T18:52:32.972Z"
   },
   {
    "duration": 238,
    "start_time": "2022-01-26T18:52:33.219Z"
   },
   {
    "duration": 202,
    "start_time": "2022-01-26T18:52:33.459Z"
   },
   {
    "duration": 320,
    "start_time": "2022-01-26T18:52:33.664Z"
   },
   {
    "duration": 22,
    "start_time": "2022-01-26T18:52:33.987Z"
   },
   {
    "duration": 302,
    "start_time": "2022-01-26T18:52:34.011Z"
   },
   {
    "duration": 8,
    "start_time": "2022-01-26T18:52:34.315Z"
   },
   {
    "duration": 306,
    "start_time": "2022-01-26T18:52:34.326Z"
   },
   {
    "duration": 177,
    "start_time": "2022-01-26T18:52:34.634Z"
   },
   {
    "duration": 170,
    "start_time": "2022-01-26T18:52:34.813Z"
   },
   {
    "duration": 170,
    "start_time": "2022-01-26T18:52:34.985Z"
   },
   {
    "duration": 5,
    "start_time": "2022-01-26T18:52:35.157Z"
   },
   {
    "duration": 51,
    "start_time": "2022-01-26T18:52:35.164Z"
   },
   {
    "duration": 104,
    "start_time": "2022-01-26T18:52:35.217Z"
   },
   {
    "duration": 14,
    "start_time": "2022-01-26T18:52:35.323Z"
   },
   {
    "duration": 200,
    "start_time": "2022-01-26T18:52:35.339Z"
   },
   {
    "duration": 13,
    "start_time": "2022-01-26T18:52:35.542Z"
   },
   {
    "duration": 255,
    "start_time": "2022-01-26T18:52:35.557Z"
   },
   {
    "duration": 234,
    "start_time": "2022-01-26T18:52:35.814Z"
   },
   {
    "duration": 236,
    "start_time": "2022-01-26T18:52:36.050Z"
   },
   {
    "duration": 10,
    "start_time": "2022-01-26T18:52:36.296Z"
   },
   {
    "duration": 32,
    "start_time": "2022-01-26T18:52:36.308Z"
   },
   {
    "duration": 7,
    "start_time": "2022-01-26T18:52:36.342Z"
   },
   {
    "duration": 14,
    "start_time": "2022-01-26T18:52:36.351Z"
   },
   {
    "duration": 11,
    "start_time": "2022-01-26T18:52:36.367Z"
   },
   {
    "duration": 403,
    "start_time": "2022-01-26T18:52:36.380Z"
   },
   {
    "duration": 20,
    "start_time": "2022-01-26T18:52:36.786Z"
   },
   {
    "duration": 33,
    "start_time": "2022-01-26T18:52:36.808Z"
   },
   {
    "duration": 60,
    "start_time": "2022-01-26T18:52:36.843Z"
   },
   {
    "duration": 1238,
    "start_time": "2022-01-27T15:36:21.645Z"
   },
   {
    "duration": 89,
    "start_time": "2022-01-27T15:36:22.886Z"
   },
   {
    "duration": 17,
    "start_time": "2022-01-27T15:36:22.977Z"
   },
   {
    "duration": 67,
    "start_time": "2022-01-27T15:36:22.998Z"
   },
   {
    "duration": 115,
    "start_time": "2022-01-27T15:36:23.068Z"
   },
   {
    "duration": 12,
    "start_time": "2022-01-27T15:36:23.185Z"
   },
   {
    "duration": 59,
    "start_time": "2022-01-27T15:36:23.200Z"
   },
   {
    "duration": 9,
    "start_time": "2022-01-27T15:36:23.263Z"
   },
   {
    "duration": 12,
    "start_time": "2022-01-27T15:36:23.275Z"
   },
   {
    "duration": 15,
    "start_time": "2022-01-27T15:36:23.289Z"
   },
   {
    "duration": 10,
    "start_time": "2022-01-27T15:36:23.306Z"
   },
   {
    "duration": 29,
    "start_time": "2022-01-27T15:36:23.360Z"
   },
   {
    "duration": 10,
    "start_time": "2022-01-27T15:36:23.391Z"
   },
   {
    "duration": 11,
    "start_time": "2022-01-27T15:36:23.403Z"
   },
   {
    "duration": 50,
    "start_time": "2022-01-27T15:36:23.417Z"
   },
   {
    "duration": 9,
    "start_time": "2022-01-27T15:36:23.469Z"
   },
   {
    "duration": 29,
    "start_time": "2022-01-27T15:36:23.480Z"
   },
   {
    "duration": 7,
    "start_time": "2022-01-27T15:36:23.512Z"
   },
   {
    "duration": 22,
    "start_time": "2022-01-27T15:36:23.560Z"
   },
   {
    "duration": 14,
    "start_time": "2022-01-27T15:36:23.585Z"
   },
   {
    "duration": 6,
    "start_time": "2022-01-27T15:36:23.602Z"
   },
   {
    "duration": 51,
    "start_time": "2022-01-27T15:36:23.610Z"
   },
   {
    "duration": 12,
    "start_time": "2022-01-27T15:36:23.668Z"
   },
   {
    "duration": 14,
    "start_time": "2022-01-27T15:36:23.684Z"
   },
   {
    "duration": 5,
    "start_time": "2022-01-27T15:36:23.701Z"
   },
   {
    "duration": 1017,
    "start_time": "2022-01-27T15:36:23.709Z"
   },
   {
    "duration": 12,
    "start_time": "2022-01-27T15:36:24.729Z"
   },
   {
    "duration": 23,
    "start_time": "2022-01-27T15:36:24.744Z"
   },
   {
    "duration": 35,
    "start_time": "2022-01-27T15:36:24.770Z"
   },
   {
    "duration": 160,
    "start_time": "2022-01-27T15:36:24.807Z"
   },
   {
    "duration": 682,
    "start_time": "2022-01-27T15:36:24.969Z"
   },
   {
    "duration": 579,
    "start_time": "2022-01-27T15:36:25.658Z"
   },
   {
    "duration": 329,
    "start_time": "2022-01-27T15:36:26.240Z"
   },
   {
    "duration": 581,
    "start_time": "2022-01-27T15:36:26.572Z"
   },
   {
    "duration": 353,
    "start_time": "2022-01-27T15:36:27.159Z"
   },
   {
    "duration": 351,
    "start_time": "2022-01-27T15:36:27.515Z"
   },
   {
    "duration": 320,
    "start_time": "2022-01-27T15:36:27.869Z"
   },
   {
    "duration": 427,
    "start_time": "2022-01-27T15:36:28.192Z"
   },
   {
    "duration": 11,
    "start_time": "2022-01-27T15:36:28.621Z"
   },
   {
    "duration": 435,
    "start_time": "2022-01-27T15:36:28.634Z"
   },
   {
    "duration": 8,
    "start_time": "2022-01-27T15:36:29.071Z"
   },
   {
    "duration": 394,
    "start_time": "2022-01-27T15:36:29.081Z"
   },
   {
    "duration": 259,
    "start_time": "2022-01-27T15:36:29.477Z"
   },
   {
    "duration": 241,
    "start_time": "2022-01-27T15:36:29.739Z"
   },
   {
    "duration": 241,
    "start_time": "2022-01-27T15:36:29.982Z"
   },
   {
    "duration": 7,
    "start_time": "2022-01-27T15:36:30.226Z"
   },
   {
    "duration": 76,
    "start_time": "2022-01-27T15:36:30.236Z"
   },
   {
    "duration": 154,
    "start_time": "2022-01-27T15:36:30.314Z"
   },
   {
    "duration": 20,
    "start_time": "2022-01-27T15:36:30.471Z"
   },
   {
    "duration": 302,
    "start_time": "2022-01-27T15:36:30.494Z"
   },
   {
    "duration": 18,
    "start_time": "2022-01-27T15:36:30.799Z"
   },
   {
    "duration": 375,
    "start_time": "2022-01-27T15:36:30.820Z"
   },
   {
    "duration": 342,
    "start_time": "2022-01-27T15:36:31.198Z"
   },
   {
    "duration": 324,
    "start_time": "2022-01-27T15:36:31.543Z"
   },
   {
    "duration": 12,
    "start_time": "2022-01-27T15:36:31.870Z"
   },
   {
    "duration": 25,
    "start_time": "2022-01-27T15:36:31.885Z"
   },
   {
    "duration": 4,
    "start_time": "2022-01-27T15:36:31.912Z"
   },
   {
    "duration": 43,
    "start_time": "2022-01-27T15:36:31.918Z"
   },
   {
    "duration": 11,
    "start_time": "2022-01-27T15:36:31.964Z"
   },
   {
    "duration": 615,
    "start_time": "2022-01-27T15:36:31.977Z"
   },
   {
    "duration": 13,
    "start_time": "2022-01-27T15:36:32.595Z"
   },
   {
    "duration": 61,
    "start_time": "2022-01-27T15:36:32.610Z"
   },
   {
    "duration": 55,
    "start_time": "2022-01-27T15:36:32.673Z"
   },
   {
    "duration": 821,
    "start_time": "2022-01-27T17:42:51.783Z"
   },
   {
    "duration": 84,
    "start_time": "2022-01-27T17:42:52.606Z"
   },
   {
    "duration": 10,
    "start_time": "2022-01-27T17:42:52.692Z"
   },
   {
    "duration": 41,
    "start_time": "2022-01-27T17:42:52.704Z"
   },
   {
    "duration": 66,
    "start_time": "2022-01-27T17:42:52.747Z"
   },
   {
    "duration": 22,
    "start_time": "2022-01-27T17:42:52.815Z"
   },
   {
    "duration": 26,
    "start_time": "2022-01-27T17:42:52.839Z"
   },
   {
    "duration": 7,
    "start_time": "2022-01-27T17:42:52.868Z"
   },
   {
    "duration": 11,
    "start_time": "2022-01-27T17:42:52.877Z"
   },
   {
    "duration": 41,
    "start_time": "2022-01-27T17:42:52.890Z"
   },
   {
    "duration": 12,
    "start_time": "2022-01-27T17:42:52.933Z"
   },
   {
    "duration": 21,
    "start_time": "2022-01-27T17:42:52.946Z"
   },
   {
    "duration": 8,
    "start_time": "2022-01-27T17:42:52.969Z"
   },
   {
    "duration": 11,
    "start_time": "2022-01-27T17:42:52.978Z"
   },
   {
    "duration": 7,
    "start_time": "2022-01-27T17:42:52.991Z"
   },
   {
    "duration": 32,
    "start_time": "2022-01-27T17:42:53.000Z"
   },
   {
    "duration": 18,
    "start_time": "2022-01-27T17:42:53.034Z"
   },
   {
    "duration": 5,
    "start_time": "2022-01-27T17:42:53.054Z"
   },
   {
    "duration": 13,
    "start_time": "2022-01-27T17:42:53.061Z"
   },
   {
    "duration": 14,
    "start_time": "2022-01-27T17:42:53.075Z"
   },
   {
    "duration": 12,
    "start_time": "2022-01-27T17:42:53.091Z"
   },
   {
    "duration": 11,
    "start_time": "2022-01-27T17:42:53.127Z"
   },
   {
    "duration": 11,
    "start_time": "2022-01-27T17:42:53.144Z"
   },
   {
    "duration": 11,
    "start_time": "2022-01-27T17:42:53.158Z"
   },
   {
    "duration": 3,
    "start_time": "2022-01-27T17:42:53.171Z"
   },
   {
    "duration": 829,
    "start_time": "2022-01-27T17:42:53.176Z"
   },
   {
    "duration": 22,
    "start_time": "2022-01-27T17:42:54.007Z"
   },
   {
    "duration": 5,
    "start_time": "2022-01-27T17:42:54.031Z"
   },
   {
    "duration": 22,
    "start_time": "2022-01-27T17:42:54.037Z"
   },
   {
    "duration": 107,
    "start_time": "2022-01-27T17:42:54.061Z"
   },
   {
    "duration": 385,
    "start_time": "2022-01-27T17:42:54.170Z"
   },
   {
    "duration": 361,
    "start_time": "2022-01-27T17:42:54.557Z"
   },
   {
    "duration": 209,
    "start_time": "2022-01-27T17:42:54.920Z"
   },
   {
    "duration": 374,
    "start_time": "2022-01-27T17:42:55.131Z"
   },
   {
    "duration": 193,
    "start_time": "2022-01-27T17:42:55.506Z"
   },
   {
    "duration": 190,
    "start_time": "2022-01-27T17:42:55.701Z"
   },
   {
    "duration": 173,
    "start_time": "2022-01-27T17:42:55.893Z"
   },
   {
    "duration": 241,
    "start_time": "2022-01-27T17:42:56.067Z"
   },
   {
    "duration": 17,
    "start_time": "2022-01-27T17:42:56.310Z"
   },
   {
    "duration": 230,
    "start_time": "2022-01-27T17:42:56.329Z"
   },
   {
    "duration": 5,
    "start_time": "2022-01-27T17:42:56.561Z"
   },
   {
    "duration": 247,
    "start_time": "2022-01-27T17:42:56.568Z"
   },
   {
    "duration": 156,
    "start_time": "2022-01-27T17:42:56.817Z"
   },
   {
    "duration": 137,
    "start_time": "2022-01-27T17:42:56.975Z"
   },
   {
    "duration": 139,
    "start_time": "2022-01-27T17:42:57.114Z"
   },
   {
    "duration": 4,
    "start_time": "2022-01-27T17:42:57.255Z"
   },
   {
    "duration": 35,
    "start_time": "2022-01-27T17:42:57.261Z"
   },
   {
    "duration": 99,
    "start_time": "2022-01-27T17:42:57.298Z"
   },
   {
    "duration": 11,
    "start_time": "2022-01-27T17:42:57.399Z"
   },
   {
    "duration": 160,
    "start_time": "2022-01-27T17:42:57.411Z"
   },
   {
    "duration": 10,
    "start_time": "2022-01-27T17:42:57.572Z"
   },
   {
    "duration": 196,
    "start_time": "2022-01-27T17:42:57.583Z"
   },
   {
    "duration": 184,
    "start_time": "2022-01-27T17:42:57.781Z"
   },
   {
    "duration": 181,
    "start_time": "2022-01-27T17:42:57.966Z"
   },
   {
    "duration": 8,
    "start_time": "2022-01-27T17:42:58.148Z"
   },
   {
    "duration": 17,
    "start_time": "2022-01-27T17:42:58.157Z"
   },
   {
    "duration": 2,
    "start_time": "2022-01-27T17:42:58.176Z"
   },
   {
    "duration": 11,
    "start_time": "2022-01-27T17:42:58.179Z"
   },
   {
    "duration": 10,
    "start_time": "2022-01-27T17:42:58.191Z"
   },
   {
    "duration": 341,
    "start_time": "2022-01-27T17:42:58.203Z"
   },
   {
    "duration": 8,
    "start_time": "2022-01-27T17:42:58.546Z"
   },
   {
    "duration": 27,
    "start_time": "2022-01-27T17:42:58.555Z"
   },
   {
    "duration": 60,
    "start_time": "2022-01-27T17:42:58.583Z"
   },
   {
    "duration": 302,
    "start_time": "2022-01-28T15:44:49.383Z"
   },
   {
    "duration": 267,
    "start_time": "2022-01-28T15:45:31.003Z"
   },
   {
    "duration": 888,
    "start_time": "2022-01-28T15:45:45.571Z"
   },
   {
    "duration": 86,
    "start_time": "2022-01-28T15:45:46.461Z"
   },
   {
    "duration": 27,
    "start_time": "2022-01-28T15:45:46.550Z"
   },
   {
    "duration": 61,
    "start_time": "2022-01-28T15:45:46.580Z"
   },
   {
    "duration": 169,
    "start_time": "2022-01-28T15:45:46.644Z"
   },
   {
    "duration": 15,
    "start_time": "2022-01-28T15:45:46.817Z"
   },
   {
    "duration": 70,
    "start_time": "2022-01-28T15:45:46.835Z"
   },
   {
    "duration": 8,
    "start_time": "2022-01-28T15:45:46.907Z"
   },
   {
    "duration": 12,
    "start_time": "2022-01-28T15:45:46.919Z"
   },
   {
    "duration": 45,
    "start_time": "2022-01-28T15:45:46.934Z"
   },
   {
    "duration": 9,
    "start_time": "2022-01-28T15:45:46.981Z"
   },
   {
    "duration": 5,
    "start_time": "2022-01-28T15:45:46.993Z"
   },
   {
    "duration": 31,
    "start_time": "2022-01-28T15:45:47.001Z"
   },
   {
    "duration": 45,
    "start_time": "2022-01-28T15:45:47.035Z"
   },
   {
    "duration": 11,
    "start_time": "2022-01-28T15:45:47.083Z"
   },
   {
    "duration": 11,
    "start_time": "2022-01-28T15:45:47.096Z"
   },
   {
    "duration": 7,
    "start_time": "2022-01-28T15:45:47.109Z"
   },
   {
    "duration": 73,
    "start_time": "2022-01-28T15:45:47.119Z"
   },
   {
    "duration": 7,
    "start_time": "2022-01-28T15:45:47.195Z"
   },
   {
    "duration": 27,
    "start_time": "2022-01-28T15:45:47.205Z"
   },
   {
    "duration": 39,
    "start_time": "2022-01-28T15:45:47.236Z"
   },
   {
    "duration": 10,
    "start_time": "2022-01-28T15:45:47.278Z"
   },
   {
    "duration": 12,
    "start_time": "2022-01-28T15:45:47.290Z"
   },
   {
    "duration": 12,
    "start_time": "2022-01-28T15:45:47.304Z"
   },
   {
    "duration": 52,
    "start_time": "2022-01-28T15:45:47.318Z"
   },
   {
    "duration": 5,
    "start_time": "2022-01-28T15:45:47.372Z"
   },
   {
    "duration": 970,
    "start_time": "2022-01-28T15:45:47.383Z"
   },
   {
    "duration": 14,
    "start_time": "2022-01-28T15:45:48.356Z"
   },
   {
    "duration": 7,
    "start_time": "2022-01-28T15:45:48.372Z"
   },
   {
    "duration": 36,
    "start_time": "2022-01-28T15:45:48.382Z"
   },
   {
    "duration": 217,
    "start_time": "2022-01-28T15:45:48.421Z"
   },
   {
    "duration": 654,
    "start_time": "2022-01-28T15:45:48.641Z"
   },
   {
    "duration": 596,
    "start_time": "2022-01-28T15:45:49.297Z"
   },
   {
    "duration": 329,
    "start_time": "2022-01-28T15:45:49.896Z"
   },
   {
    "duration": 599,
    "start_time": "2022-01-28T15:45:50.227Z"
   },
   {
    "duration": 350,
    "start_time": "2022-01-28T15:45:50.829Z"
   },
   {
    "duration": 351,
    "start_time": "2022-01-28T15:45:51.181Z"
   },
   {
    "duration": 298,
    "start_time": "2022-01-28T15:45:51.535Z"
   },
   {
    "duration": 460,
    "start_time": "2022-01-28T15:45:51.835Z"
   },
   {
    "duration": 14,
    "start_time": "2022-01-28T15:45:52.298Z"
   },
   {
    "duration": 450,
    "start_time": "2022-01-28T15:45:52.315Z"
   },
   {
    "duration": 8,
    "start_time": "2022-01-28T15:45:52.770Z"
   },
   {
    "duration": 407,
    "start_time": "2022-01-28T15:45:52.781Z"
   },
   {
    "duration": 253,
    "start_time": "2022-01-28T15:45:53.191Z"
   },
   {
    "duration": 241,
    "start_time": "2022-01-28T15:45:53.446Z"
   },
   {
    "duration": 239,
    "start_time": "2022-01-28T15:45:53.691Z"
   },
   {
    "duration": 5,
    "start_time": "2022-01-28T15:45:53.933Z"
   },
   {
    "duration": 75,
    "start_time": "2022-01-28T15:45:53.941Z"
   },
   {
    "duration": 141,
    "start_time": "2022-01-28T15:45:54.019Z"
   },
   {
    "duration": 17,
    "start_time": "2022-01-28T15:45:54.169Z"
   },
   {
    "duration": 296,
    "start_time": "2022-01-28T15:45:54.188Z"
   },
   {
    "duration": 16,
    "start_time": "2022-01-28T15:45:54.486Z"
   },
   {
    "duration": 364,
    "start_time": "2022-01-28T15:45:54.505Z"
   },
   {
    "duration": 330,
    "start_time": "2022-01-28T15:45:54.871Z"
   },
   {
    "duration": 336,
    "start_time": "2022-01-28T15:45:55.203Z"
   },
   {
    "duration": 27,
    "start_time": "2022-01-28T15:45:55.541Z"
   },
   {
    "duration": 26,
    "start_time": "2022-01-28T15:45:55.570Z"
   },
   {
    "duration": 4,
    "start_time": "2022-01-28T15:45:55.598Z"
   },
   {
    "duration": 13,
    "start_time": "2022-01-28T15:45:55.605Z"
   },
   {
    "duration": 12,
    "start_time": "2022-01-28T15:45:55.621Z"
   },
   {
    "duration": 628,
    "start_time": "2022-01-28T15:45:55.670Z"
   },
   {
    "duration": 14,
    "start_time": "2022-01-28T15:45:56.301Z"
   },
   {
    "duration": 75,
    "start_time": "2022-01-28T15:45:56.318Z"
   },
   {
    "duration": 56,
    "start_time": "2022-01-28T15:45:56.396Z"
   },
   {
    "duration": 6,
    "start_time": "2022-01-28T15:46:53.309Z"
   },
   {
    "duration": 7,
    "start_time": "2022-01-28T15:48:29.207Z"
   },
   {
    "duration": 644,
    "start_time": "2022-01-28T16:03:10.145Z"
   },
   {
    "duration": 314,
    "start_time": "2022-01-28T16:05:59.633Z"
   },
   {
    "duration": 338,
    "start_time": "2022-01-28T16:10:46.176Z"
   },
   {
    "duration": 353,
    "start_time": "2022-01-28T16:12:15.856Z"
   },
   {
    "duration": 10,
    "start_time": "2022-01-28T16:21:32.876Z"
   },
   {
    "duration": 407,
    "start_time": "2022-01-28T16:29:45.546Z"
   },
   {
    "duration": 11,
    "start_time": "2022-01-28T16:30:33.658Z"
   },
   {
    "duration": 9,
    "start_time": "2022-01-28T16:30:54.994Z"
   },
   {
    "duration": 310,
    "start_time": "2022-01-28T16:31:11.491Z"
   },
   {
    "duration": 16,
    "start_time": "2022-01-28T16:34:04.452Z"
   },
   {
    "duration": 93,
    "start_time": "2022-01-28T16:34:36.737Z"
   },
   {
    "duration": 82,
    "start_time": "2022-01-28T16:35:14.030Z"
   },
   {
    "duration": 81,
    "start_time": "2022-01-28T16:35:43.153Z"
   },
   {
    "duration": 79,
    "start_time": "2022-01-28T16:36:01.281Z"
   },
   {
    "duration": 16,
    "start_time": "2022-01-28T16:36:14.925Z"
   },
   {
    "duration": 331,
    "start_time": "2022-01-28T16:36:26.357Z"
   },
   {
    "duration": 20,
    "start_time": "2022-01-28T16:37:28.417Z"
   },
   {
    "duration": 325,
    "start_time": "2022-01-28T16:37:30.434Z"
   },
   {
    "duration": 14,
    "start_time": "2022-01-28T16:37:58.157Z"
   },
   {
    "duration": 16,
    "start_time": "2022-01-28T16:38:16.332Z"
   },
   {
    "duration": 315,
    "start_time": "2022-01-28T16:38:18.629Z"
   },
   {
    "duration": 15,
    "start_time": "2022-01-28T16:38:22.185Z"
   },
   {
    "duration": 10,
    "start_time": "2022-01-28T16:38:48.317Z"
   },
   {
    "duration": 16,
    "start_time": "2022-01-28T16:38:52.281Z"
   },
   {
    "duration": 365,
    "start_time": "2022-01-28T16:38:55.001Z"
   },
   {
    "duration": 15,
    "start_time": "2022-01-28T16:38:59.713Z"
   },
   {
    "duration": 4,
    "start_time": "2022-01-28T16:39:46.263Z"
   },
   {
    "duration": 103,
    "start_time": "2022-01-28T16:39:46.269Z"
   },
   {
    "duration": 15,
    "start_time": "2022-01-28T16:39:46.375Z"
   },
   {
    "duration": 77,
    "start_time": "2022-01-28T16:39:46.393Z"
   },
   {
    "duration": 130,
    "start_time": "2022-01-28T16:39:46.472Z"
   },
   {
    "duration": 11,
    "start_time": "2022-01-28T16:39:46.604Z"
   },
   {
    "duration": 57,
    "start_time": "2022-01-28T16:39:46.619Z"
   },
   {
    "duration": 6,
    "start_time": "2022-01-28T16:39:46.679Z"
   },
   {
    "duration": 12,
    "start_time": "2022-01-28T16:39:46.688Z"
   },
   {
    "duration": 15,
    "start_time": "2022-01-28T16:39:46.703Z"
   },
   {
    "duration": 10,
    "start_time": "2022-01-28T16:39:46.721Z"
   },
   {
    "duration": 41,
    "start_time": "2022-01-28T16:39:46.733Z"
   },
   {
    "duration": 9,
    "start_time": "2022-01-28T16:39:46.777Z"
   },
   {
    "duration": 17,
    "start_time": "2022-01-28T16:39:46.789Z"
   },
   {
    "duration": 344,
    "start_time": "2022-01-28T16:39:46.809Z"
   },
   {
    "duration": 15,
    "start_time": "2022-01-28T16:39:47.155Z"
   },
   {
    "duration": 13,
    "start_time": "2022-01-28T16:39:47.172Z"
   },
   {
    "duration": 11,
    "start_time": "2022-01-28T16:39:47.187Z"
   },
   {
    "duration": 8,
    "start_time": "2022-01-28T16:39:47.203Z"
   },
   {
    "duration": 74,
    "start_time": "2022-01-28T16:39:47.214Z"
   },
   {
    "duration": 8,
    "start_time": "2022-01-28T16:39:47.290Z"
   },
   {
    "duration": 21,
    "start_time": "2022-01-28T16:39:47.300Z"
   },
   {
    "duration": 12,
    "start_time": "2022-01-28T16:39:47.323Z"
   },
   {
    "duration": 32,
    "start_time": "2022-01-28T16:39:47.337Z"
   },
   {
    "duration": 16,
    "start_time": "2022-01-28T16:39:47.371Z"
   },
   {
    "duration": 11,
    "start_time": "2022-01-28T16:39:47.389Z"
   },
   {
    "duration": 12,
    "start_time": "2022-01-28T16:39:47.402Z"
   },
   {
    "duration": 4,
    "start_time": "2022-01-28T16:39:47.416Z"
   },
   {
    "duration": 1093,
    "start_time": "2022-01-28T16:39:47.422Z"
   },
   {
    "duration": 10,
    "start_time": "2022-01-28T16:39:48.518Z"
   },
   {
    "duration": 8,
    "start_time": "2022-01-28T16:39:48.531Z"
   },
   {
    "duration": 55,
    "start_time": "2022-01-28T16:39:48.541Z"
   },
   {
    "duration": 157,
    "start_time": "2022-01-28T16:39:48.598Z"
   },
   {
    "duration": 588,
    "start_time": "2022-01-28T16:39:48.758Z"
   },
   {
    "duration": 595,
    "start_time": "2022-01-28T16:39:49.349Z"
   },
   {
    "duration": 352,
    "start_time": "2022-01-28T16:39:49.947Z"
   },
   {
    "duration": 622,
    "start_time": "2022-01-28T16:39:50.303Z"
   },
   {
    "duration": 402,
    "start_time": "2022-01-28T16:39:50.928Z"
   },
   {
    "duration": 340,
    "start_time": "2022-01-28T16:39:51.332Z"
   },
   {
    "duration": 455,
    "start_time": "2022-01-28T16:39:51.674Z"
   },
   {
    "duration": 487,
    "start_time": "2022-01-28T16:39:52.131Z"
   },
   {
    "duration": 12,
    "start_time": "2022-01-28T16:39:52.621Z"
   },
   {
    "duration": 445,
    "start_time": "2022-01-28T16:39:52.636Z"
   },
   {
    "duration": 8,
    "start_time": "2022-01-28T16:39:53.083Z"
   },
   {
    "duration": 346,
    "start_time": "2022-01-28T16:39:53.093Z"
   },
   {
    "duration": 312,
    "start_time": "2022-01-28T16:39:53.442Z"
   },
   {
    "duration": 321,
    "start_time": "2022-01-28T16:39:53.758Z"
   },
   {
    "duration": 238,
    "start_time": "2022-01-28T16:39:54.081Z"
   },
   {
    "duration": 5,
    "start_time": "2022-01-28T16:39:54.322Z"
   },
   {
    "duration": 73,
    "start_time": "2022-01-28T16:39:54.330Z"
   },
   {
    "duration": 148,
    "start_time": "2022-01-28T16:39:54.405Z"
   },
   {
    "duration": 22,
    "start_time": "2022-01-28T16:39:54.555Z"
   },
   {
    "duration": 288,
    "start_time": "2022-01-28T16:39:54.579Z"
   },
   {
    "duration": 15,
    "start_time": "2022-01-28T16:39:54.870Z"
   },
   {
    "duration": 374,
    "start_time": "2022-01-28T16:39:54.891Z"
   },
   {
    "duration": 355,
    "start_time": "2022-01-28T16:39:55.271Z"
   },
   {
    "duration": 327,
    "start_time": "2022-01-28T16:39:55.628Z"
   },
   {
    "duration": 20,
    "start_time": "2022-01-28T16:39:55.958Z"
   },
   {
    "duration": 27,
    "start_time": "2022-01-28T16:39:55.981Z"
   },
   {
    "duration": 6,
    "start_time": "2022-01-28T16:39:56.010Z"
   },
   {
    "duration": 53,
    "start_time": "2022-01-28T16:39:56.018Z"
   },
   {
    "duration": 10,
    "start_time": "2022-01-28T16:39:56.074Z"
   },
   {
    "duration": 611,
    "start_time": "2022-01-28T16:39:56.087Z"
   },
   {
    "duration": 12,
    "start_time": "2022-01-28T16:39:56.700Z"
   },
   {
    "duration": 66,
    "start_time": "2022-01-28T16:39:56.715Z"
   },
   {
    "duration": 54,
    "start_time": "2022-01-28T16:39:56.784Z"
   },
   {
    "duration": 7,
    "start_time": "2022-01-28T16:40:41.268Z"
   },
   {
    "duration": 268,
    "start_time": "2022-01-28T16:41:39.906Z"
   },
   {
    "duration": 13,
    "start_time": "2022-01-28T16:41:52.003Z"
   },
   {
    "duration": 7,
    "start_time": "2022-01-28T16:41:56.046Z"
   },
   {
    "duration": 7,
    "start_time": "2022-01-28T16:43:02.994Z"
   },
   {
    "duration": 7,
    "start_time": "2022-01-28T16:43:18.335Z"
   },
   {
    "duration": 15,
    "start_time": "2022-01-28T16:44:06.054Z"
   },
   {
    "duration": 7,
    "start_time": "2022-01-28T16:44:08.762Z"
   },
   {
    "duration": 7,
    "start_time": "2022-01-28T16:46:04.691Z"
   },
   {
    "duration": 7,
    "start_time": "2022-01-28T16:46:41.131Z"
   },
   {
    "duration": 7,
    "start_time": "2022-01-28T16:47:09.395Z"
   },
   {
    "duration": 7,
    "start_time": "2022-01-28T16:47:16.899Z"
   },
   {
    "duration": 7,
    "start_time": "2022-01-28T16:48:15.087Z"
   },
   {
    "duration": 895,
    "start_time": "2022-01-28T16:48:32.081Z"
   },
   {
    "duration": 91,
    "start_time": "2022-01-28T16:48:32.978Z"
   },
   {
    "duration": 17,
    "start_time": "2022-01-28T16:48:33.075Z"
   },
   {
    "duration": 43,
    "start_time": "2022-01-28T16:48:33.094Z"
   },
   {
    "duration": 163,
    "start_time": "2022-01-28T16:48:33.139Z"
   },
   {
    "duration": 18,
    "start_time": "2022-01-28T16:48:33.305Z"
   },
   {
    "duration": 59,
    "start_time": "2022-01-28T16:48:33.327Z"
   },
   {
    "duration": 8,
    "start_time": "2022-01-28T16:48:33.390Z"
   },
   {
    "duration": 15,
    "start_time": "2022-01-28T16:48:33.401Z"
   },
   {
    "duration": 51,
    "start_time": "2022-01-28T16:48:33.419Z"
   },
   {
    "duration": 10,
    "start_time": "2022-01-28T16:48:33.473Z"
   },
   {
    "duration": 6,
    "start_time": "2022-01-28T16:48:33.486Z"
   },
   {
    "duration": 8,
    "start_time": "2022-01-28T16:48:33.495Z"
   },
   {
    "duration": 6,
    "start_time": "2022-01-28T16:48:33.506Z"
   },
   {
    "duration": 58,
    "start_time": "2022-01-28T16:48:33.515Z"
   },
   {
    "duration": 6,
    "start_time": "2022-01-28T16:48:33.575Z"
   },
   {
    "duration": 17,
    "start_time": "2022-01-28T16:48:33.584Z"
   },
   {
    "duration": 347,
    "start_time": "2022-01-28T16:48:33.604Z"
   },
   {
    "duration": 20,
    "start_time": "2022-01-28T16:48:33.953Z"
   },
   {
    "duration": 11,
    "start_time": "2022-01-28T16:48:33.975Z"
   },
   {
    "duration": 10,
    "start_time": "2022-01-28T16:48:33.989Z"
   },
   {
    "duration": 10,
    "start_time": "2022-01-28T16:48:34.005Z"
   },
   {
    "duration": 72,
    "start_time": "2022-01-28T16:48:34.020Z"
   },
   {
    "duration": 10,
    "start_time": "2022-01-28T16:48:34.095Z"
   },
   {
    "duration": 16,
    "start_time": "2022-01-28T16:48:34.108Z"
   },
   {
    "duration": 51,
    "start_time": "2022-01-28T16:48:34.126Z"
   },
   {
    "duration": 6,
    "start_time": "2022-01-28T16:48:34.180Z"
   },
   {
    "duration": 19,
    "start_time": "2022-01-28T16:48:34.188Z"
   },
   {
    "duration": 12,
    "start_time": "2022-01-28T16:48:34.210Z"
   },
   {
    "duration": 46,
    "start_time": "2022-01-28T16:48:34.224Z"
   },
   {
    "duration": 6,
    "start_time": "2022-01-28T16:48:34.272Z"
   },
   {
    "duration": 1166,
    "start_time": "2022-01-28T16:48:34.281Z"
   },
   {
    "duration": 20,
    "start_time": "2022-01-28T16:48:35.449Z"
   },
   {
    "duration": 9,
    "start_time": "2022-01-28T16:48:35.472Z"
   },
   {
    "duration": 36,
    "start_time": "2022-01-28T16:48:35.483Z"
   },
   {
    "duration": 169,
    "start_time": "2022-01-28T16:48:35.522Z"
   },
   {
    "duration": 567,
    "start_time": "2022-01-28T16:48:35.693Z"
   },
   {
    "duration": 597,
    "start_time": "2022-01-28T16:48:36.262Z"
   },
   {
    "duration": 342,
    "start_time": "2022-01-28T16:48:36.861Z"
   },
   {
    "duration": 599,
    "start_time": "2022-01-28T16:48:37.207Z"
   },
   {
    "duration": 380,
    "start_time": "2022-01-28T16:48:37.809Z"
   },
   {
    "duration": 348,
    "start_time": "2022-01-28T16:48:38.192Z"
   },
   {
    "duration": 321,
    "start_time": "2022-01-28T16:48:38.543Z"
   },
   {
    "duration": 548,
    "start_time": "2022-01-28T16:48:38.869Z"
   },
   {
    "duration": 12,
    "start_time": "2022-01-28T16:48:39.420Z"
   },
   {
    "duration": 449,
    "start_time": "2022-01-28T16:48:39.434Z"
   },
   {
    "duration": 7,
    "start_time": "2022-01-28T16:48:39.885Z"
   },
   {
    "duration": 339,
    "start_time": "2022-01-28T16:48:39.894Z"
   },
   {
    "duration": 267,
    "start_time": "2022-01-28T16:48:40.236Z"
   },
   {
    "duration": 243,
    "start_time": "2022-01-28T16:48:40.505Z"
   },
   {
    "duration": 254,
    "start_time": "2022-01-28T16:48:40.751Z"
   },
   {
    "duration": 5,
    "start_time": "2022-01-28T16:48:41.008Z"
   },
   {
    "duration": 73,
    "start_time": "2022-01-28T16:48:41.016Z"
   },
   {
    "duration": 145,
    "start_time": "2022-01-28T16:48:41.091Z"
   },
   {
    "duration": 17,
    "start_time": "2022-01-28T16:48:41.238Z"
   },
   {
    "duration": 270,
    "start_time": "2022-01-28T16:48:41.270Z"
   },
   {
    "duration": 27,
    "start_time": "2022-01-28T16:48:41.543Z"
   },
   {
    "duration": 344,
    "start_time": "2022-01-28T16:48:41.573Z"
   },
   {
    "duration": 321,
    "start_time": "2022-01-28T16:48:41.920Z"
   },
   {
    "duration": 328,
    "start_time": "2022-01-28T16:48:42.244Z"
   },
   {
    "duration": 11,
    "start_time": "2022-01-28T16:48:42.574Z"
   },
   {
    "duration": 24,
    "start_time": "2022-01-28T16:48:42.588Z"
   },
   {
    "duration": 4,
    "start_time": "2022-01-28T16:48:42.615Z"
   },
   {
    "duration": 13,
    "start_time": "2022-01-28T16:48:42.621Z"
   },
   {
    "duration": 11,
    "start_time": "2022-01-28T16:48:42.669Z"
   },
   {
    "duration": 723,
    "start_time": "2022-01-28T16:48:42.682Z"
   },
   {
    "duration": 12,
    "start_time": "2022-01-28T16:48:43.413Z"
   },
   {
    "duration": 68,
    "start_time": "2022-01-28T16:48:43.428Z"
   },
   {
    "duration": 57,
    "start_time": "2022-01-28T16:48:43.498Z"
   },
   {
    "duration": 6,
    "start_time": "2022-01-28T16:49:41.731Z"
   },
   {
    "duration": 7,
    "start_time": "2022-01-28T16:50:24.721Z"
   },
   {
    "duration": 4,
    "start_time": "2022-01-28T16:50:30.895Z"
   },
   {
    "duration": 115,
    "start_time": "2022-01-28T16:50:30.902Z"
   },
   {
    "duration": 61,
    "start_time": "2022-01-28T16:50:31.021Z"
   },
   {
    "duration": 45,
    "start_time": "2022-01-28T16:50:31.086Z"
   },
   {
    "duration": 116,
    "start_time": "2022-01-28T16:50:31.169Z"
   },
   {
    "duration": 12,
    "start_time": "2022-01-28T16:50:31.287Z"
   },
   {
    "duration": 36,
    "start_time": "2022-01-28T16:50:31.301Z"
   },
   {
    "duration": 7,
    "start_time": "2022-01-28T16:50:31.369Z"
   },
   {
    "duration": 13,
    "start_time": "2022-01-28T16:50:31.379Z"
   },
   {
    "duration": 19,
    "start_time": "2022-01-28T16:50:31.395Z"
   },
   {
    "duration": 9,
    "start_time": "2022-01-28T16:50:31.417Z"
   },
   {
    "duration": 41,
    "start_time": "2022-01-28T16:50:31.429Z"
   },
   {
    "duration": 6,
    "start_time": "2022-01-28T16:50:31.473Z"
   },
   {
    "duration": 6,
    "start_time": "2022-01-28T16:50:31.481Z"
   },
   {
    "duration": 9,
    "start_time": "2022-01-28T16:50:31.489Z"
   },
   {
    "duration": 5,
    "start_time": "2022-01-28T16:50:31.501Z"
   },
   {
    "duration": 7,
    "start_time": "2022-01-28T16:50:31.508Z"
   },
   {
    "duration": 65,
    "start_time": "2022-01-28T16:50:31.517Z"
   },
   {
    "duration": 326,
    "start_time": "2022-01-28T16:50:31.585Z"
   },
   {
    "duration": 12,
    "start_time": "2022-01-28T16:50:31.913Z"
   },
   {
    "duration": 11,
    "start_time": "2022-01-28T16:50:31.928Z"
   },
   {
    "duration": 32,
    "start_time": "2022-01-28T16:50:31.942Z"
   },
   {
    "duration": 9,
    "start_time": "2022-01-28T16:50:31.980Z"
   },
   {
    "duration": 28,
    "start_time": "2022-01-28T16:50:31.993Z"
   },
   {
    "duration": 45,
    "start_time": "2022-01-28T16:50:32.024Z"
   },
   {
    "duration": 18,
    "start_time": "2022-01-28T16:50:32.072Z"
   },
   {
    "duration": 14,
    "start_time": "2022-01-28T16:50:32.093Z"
   },
   {
    "duration": 5,
    "start_time": "2022-01-28T16:50:32.110Z"
   },
   {
    "duration": 14,
    "start_time": "2022-01-28T16:50:32.118Z"
   },
   {
    "duration": 45,
    "start_time": "2022-01-28T16:50:32.134Z"
   },
   {
    "duration": 12,
    "start_time": "2022-01-28T16:50:32.181Z"
   },
   {
    "duration": 4,
    "start_time": "2022-01-28T16:50:32.196Z"
   },
   {
    "duration": 993,
    "start_time": "2022-01-28T16:50:32.203Z"
   },
   {
    "duration": 12,
    "start_time": "2022-01-28T16:50:33.199Z"
   },
   {
    "duration": 9,
    "start_time": "2022-01-28T16:50:33.214Z"
   },
   {
    "duration": 71,
    "start_time": "2022-01-28T16:50:33.225Z"
   },
   {
    "duration": 151,
    "start_time": "2022-01-28T16:50:33.299Z"
   },
   {
    "duration": 567,
    "start_time": "2022-01-28T16:50:33.454Z"
   },
   {
    "duration": 601,
    "start_time": "2022-01-28T16:50:34.025Z"
   },
   {
    "duration": 345,
    "start_time": "2022-01-28T16:50:34.630Z"
   },
   {
    "duration": 716,
    "start_time": "2022-01-28T16:50:34.977Z"
   },
   {
    "duration": 376,
    "start_time": "2022-01-28T16:50:35.695Z"
   },
   {
    "duration": 336,
    "start_time": "2022-01-28T16:50:36.074Z"
   },
   {
    "duration": 307,
    "start_time": "2022-01-28T16:50:36.413Z"
   },
   {
    "duration": 490,
    "start_time": "2022-01-28T16:50:36.723Z"
   },
   {
    "duration": 13,
    "start_time": "2022-01-28T16:50:37.216Z"
   },
   {
    "duration": 459,
    "start_time": "2022-01-28T16:50:37.232Z"
   },
   {
    "duration": 7,
    "start_time": "2022-01-28T16:50:37.694Z"
   },
   {
    "duration": 340,
    "start_time": "2022-01-28T16:50:37.704Z"
   },
   {
    "duration": 256,
    "start_time": "2022-01-28T16:50:38.047Z"
   },
   {
    "duration": 235,
    "start_time": "2022-01-28T16:50:38.305Z"
   },
   {
    "duration": 242,
    "start_time": "2022-01-28T16:50:38.543Z"
   },
   {
    "duration": 6,
    "start_time": "2022-01-28T16:50:38.788Z"
   },
   {
    "duration": 73,
    "start_time": "2022-01-28T16:50:38.796Z"
   },
   {
    "duration": 150,
    "start_time": "2022-01-28T16:50:38.871Z"
   },
   {
    "duration": 20,
    "start_time": "2022-01-28T16:50:39.024Z"
   },
   {
    "duration": 294,
    "start_time": "2022-01-28T16:50:39.047Z"
   },
   {
    "duration": 27,
    "start_time": "2022-01-28T16:50:39.344Z"
   },
   {
    "duration": 449,
    "start_time": "2022-01-28T16:50:39.373Z"
   },
   {
    "duration": 335,
    "start_time": "2022-01-28T16:50:39.824Z"
   },
   {
    "duration": 316,
    "start_time": "2022-01-28T16:50:40.169Z"
   },
   {
    "duration": 10,
    "start_time": "2022-01-28T16:50:40.488Z"
   },
   {
    "duration": 23,
    "start_time": "2022-01-28T16:50:40.500Z"
   },
   {
    "duration": 3,
    "start_time": "2022-01-28T16:50:40.526Z"
   },
   {
    "duration": 41,
    "start_time": "2022-01-28T16:50:40.532Z"
   },
   {
    "duration": 145,
    "start_time": "2022-01-28T16:50:40.575Z"
   },
   {
    "duration": 627,
    "start_time": "2022-01-28T16:50:40.722Z"
   },
   {
    "duration": 22,
    "start_time": "2022-01-28T16:50:41.356Z"
   },
   {
    "duration": 44,
    "start_time": "2022-01-28T16:50:41.381Z"
   },
   {
    "duration": 79,
    "start_time": "2022-01-28T16:50:41.427Z"
   },
   {
    "duration": 6,
    "start_time": "2022-01-28T16:52:33.004Z"
   },
   {
    "duration": 5,
    "start_time": "2022-01-28T16:52:38.027Z"
   },
   {
    "duration": 137,
    "start_time": "2022-01-28T16:52:38.035Z"
   },
   {
    "duration": 17,
    "start_time": "2022-01-28T16:52:38.175Z"
   },
   {
    "duration": 76,
    "start_time": "2022-01-28T16:52:38.195Z"
   },
   {
    "duration": 124,
    "start_time": "2022-01-28T16:52:38.274Z"
   },
   {
    "duration": 12,
    "start_time": "2022-01-28T16:52:38.400Z"
   },
   {
    "duration": 57,
    "start_time": "2022-01-28T16:52:38.415Z"
   },
   {
    "duration": 8,
    "start_time": "2022-01-28T16:52:38.476Z"
   },
   {
    "duration": 12,
    "start_time": "2022-01-28T16:52:38.487Z"
   },
   {
    "duration": 17,
    "start_time": "2022-01-28T16:52:38.503Z"
   },
   {
    "duration": 51,
    "start_time": "2022-01-28T16:52:38.523Z"
   },
   {
    "duration": 7,
    "start_time": "2022-01-28T16:52:38.577Z"
   },
   {
    "duration": 12,
    "start_time": "2022-01-28T16:52:38.587Z"
   },
   {
    "duration": 7,
    "start_time": "2022-01-28T16:52:38.602Z"
   },
   {
    "duration": 59,
    "start_time": "2022-01-28T16:52:38.612Z"
   },
   {
    "duration": 19,
    "start_time": "2022-01-28T16:52:38.674Z"
   },
   {
    "duration": 7,
    "start_time": "2022-01-28T16:52:38.696Z"
   },
   {
    "duration": 338,
    "start_time": "2022-01-28T16:52:38.706Z"
   },
   {
    "duration": 23,
    "start_time": "2022-01-28T16:52:39.046Z"
   },
   {
    "duration": 12,
    "start_time": "2022-01-28T16:52:39.071Z"
   },
   {
    "duration": 11,
    "start_time": "2022-01-28T16:52:39.085Z"
   },
   {
    "duration": 8,
    "start_time": "2022-01-28T16:52:39.098Z"
   },
   {
    "duration": 66,
    "start_time": "2022-01-28T16:52:39.112Z"
   },
   {
    "duration": 7,
    "start_time": "2022-01-28T16:52:39.182Z"
   },
   {
    "duration": 17,
    "start_time": "2022-01-28T16:52:39.191Z"
   },
   {
    "duration": 13,
    "start_time": "2022-01-28T16:52:39.211Z"
   },
   {
    "duration": 43,
    "start_time": "2022-01-28T16:52:39.227Z"
   },
   {
    "duration": 15,
    "start_time": "2022-01-28T16:52:39.273Z"
   },
   {
    "duration": 14,
    "start_time": "2022-01-28T16:52:39.291Z"
   },
   {
    "duration": 13,
    "start_time": "2022-01-28T16:52:39.307Z"
   },
   {
    "duration": 4,
    "start_time": "2022-01-28T16:52:39.322Z"
   },
   {
    "duration": 1026,
    "start_time": "2022-01-28T16:52:39.329Z"
   },
   {
    "duration": 16,
    "start_time": "2022-01-28T16:52:40.358Z"
   },
   {
    "duration": 13,
    "start_time": "2022-01-28T16:52:40.376Z"
   },
   {
    "duration": 36,
    "start_time": "2022-01-28T16:52:40.391Z"
   },
   {
    "duration": 164,
    "start_time": "2022-01-28T16:52:40.430Z"
   },
   {
    "duration": 585,
    "start_time": "2022-01-28T16:52:40.597Z"
   },
   {
    "duration": 602,
    "start_time": "2022-01-28T16:52:41.185Z"
   },
   {
    "duration": 332,
    "start_time": "2022-01-28T16:52:41.789Z"
   },
   {
    "duration": 748,
    "start_time": "2022-01-28T16:52:42.123Z"
   },
   {
    "duration": 379,
    "start_time": "2022-01-28T16:52:42.874Z"
   },
   {
    "duration": 342,
    "start_time": "2022-01-28T16:52:43.255Z"
   },
   {
    "duration": 315,
    "start_time": "2022-01-28T16:52:43.600Z"
   },
   {
    "duration": 479,
    "start_time": "2022-01-28T16:52:43.918Z"
   },
   {
    "duration": 13,
    "start_time": "2022-01-28T16:52:44.400Z"
   },
   {
    "duration": 457,
    "start_time": "2022-01-28T16:52:44.416Z"
   },
   {
    "duration": 6,
    "start_time": "2022-01-28T16:52:44.876Z"
   },
   {
    "duration": 334,
    "start_time": "2022-01-28T16:52:44.885Z"
   },
   {
    "duration": 262,
    "start_time": "2022-01-28T16:52:45.222Z"
   },
   {
    "duration": 242,
    "start_time": "2022-01-28T16:52:45.488Z"
   },
   {
    "duration": 244,
    "start_time": "2022-01-28T16:52:45.733Z"
   },
   {
    "duration": 6,
    "start_time": "2022-01-28T16:52:45.980Z"
   },
   {
    "duration": 92,
    "start_time": "2022-01-28T16:52:45.989Z"
   },
   {
    "duration": 146,
    "start_time": "2022-01-28T16:52:46.084Z"
   },
   {
    "duration": 19,
    "start_time": "2022-01-28T16:52:46.232Z"
   },
   {
    "duration": 294,
    "start_time": "2022-01-28T16:52:46.254Z"
   },
   {
    "duration": 28,
    "start_time": "2022-01-28T16:52:46.551Z"
   },
   {
    "duration": 352,
    "start_time": "2022-01-28T16:52:46.582Z"
   },
   {
    "duration": 350,
    "start_time": "2022-01-28T16:52:46.936Z"
   },
   {
    "duration": 328,
    "start_time": "2022-01-28T16:52:47.289Z"
   },
   {
    "duration": 11,
    "start_time": "2022-01-28T16:52:47.620Z"
   },
   {
    "duration": 43,
    "start_time": "2022-01-28T16:52:47.633Z"
   },
   {
    "duration": 4,
    "start_time": "2022-01-28T16:52:47.679Z"
   },
   {
    "duration": 11,
    "start_time": "2022-01-28T16:52:47.685Z"
   },
   {
    "duration": 10,
    "start_time": "2022-01-28T16:52:47.698Z"
   },
   {
    "duration": 616,
    "start_time": "2022-01-28T16:52:47.710Z"
   },
   {
    "duration": 13,
    "start_time": "2022-01-28T16:52:48.328Z"
   },
   {
    "duration": 63,
    "start_time": "2022-01-28T16:52:48.349Z"
   },
   {
    "duration": 78,
    "start_time": "2022-01-28T16:52:48.415Z"
   },
   {
    "duration": 353,
    "start_time": "2022-01-28T16:56:23.366Z"
   },
   {
    "duration": 7,
    "start_time": "2022-01-28T16:57:11.606Z"
   },
   {
    "duration": 5,
    "start_time": "2022-01-28T16:57:14.105Z"
   },
   {
    "duration": 5,
    "start_time": "2022-01-28T17:03:53.868Z"
   },
   {
    "duration": 6,
    "start_time": "2022-01-28T17:04:06.839Z"
   },
   {
    "duration": 13,
    "start_time": "2022-01-28T17:05:05.675Z"
   },
   {
    "duration": 4,
    "start_time": "2022-01-28T17:05:14.210Z"
   },
   {
    "duration": 96,
    "start_time": "2022-01-28T17:05:14.217Z"
   },
   {
    "duration": 20,
    "start_time": "2022-01-28T17:05:14.317Z"
   },
   {
    "duration": 79,
    "start_time": "2022-01-28T17:05:14.341Z"
   },
   {
    "duration": 208,
    "start_time": "2022-01-28T17:05:14.423Z"
   },
   {
    "duration": 12,
    "start_time": "2022-01-28T17:05:14.633Z"
   },
   {
    "duration": 59,
    "start_time": "2022-01-28T17:05:14.647Z"
   },
   {
    "duration": 9,
    "start_time": "2022-01-28T17:05:14.710Z"
   },
   {
    "duration": 15,
    "start_time": "2022-01-28T17:05:14.722Z"
   },
   {
    "duration": 16,
    "start_time": "2022-01-28T17:05:14.770Z"
   },
   {
    "duration": 9,
    "start_time": "2022-01-28T17:05:14.789Z"
   },
   {
    "duration": 11,
    "start_time": "2022-01-28T17:05:14.801Z"
   },
   {
    "duration": 12,
    "start_time": "2022-01-28T17:05:14.814Z"
   },
   {
    "duration": 5,
    "start_time": "2022-01-28T17:05:14.829Z"
   },
   {
    "duration": 7,
    "start_time": "2022-01-28T17:05:14.869Z"
   },
   {
    "duration": 17,
    "start_time": "2022-01-28T17:05:14.879Z"
   },
   {
    "duration": 6,
    "start_time": "2022-01-28T17:05:14.898Z"
   },
   {
    "duration": 6,
    "start_time": "2022-01-28T17:05:14.906Z"
   },
   {
    "duration": 9,
    "start_time": "2022-01-28T17:05:14.914Z"
   },
   {
    "duration": 5,
    "start_time": "2022-01-28T17:05:14.970Z"
   },
   {
    "duration": 9,
    "start_time": "2022-01-28T17:05:14.978Z"
   },
   {
    "duration": 12,
    "start_time": "2022-01-28T17:05:14.990Z"
   },
   {
    "duration": 12,
    "start_time": "2022-01-28T17:05:15.009Z"
   },
   {
    "duration": 49,
    "start_time": "2022-01-28T17:05:15.026Z"
   },
   {
    "duration": 50,
    "start_time": "2022-01-28T17:05:15.078Z"
   },
   {
    "duration": 7,
    "start_time": "2022-01-28T17:05:15.130Z"
   },
   {
    "duration": 34,
    "start_time": "2022-01-28T17:05:15.139Z"
   },
   {
    "duration": 14,
    "start_time": "2022-01-28T17:05:15.175Z"
   },
   {
    "duration": 6,
    "start_time": "2022-01-28T17:05:15.191Z"
   },
   {
    "duration": 21,
    "start_time": "2022-01-28T17:05:15.200Z"
   },
   {
    "duration": 13,
    "start_time": "2022-01-28T17:05:15.223Z"
   },
   {
    "duration": 43,
    "start_time": "2022-01-28T17:05:15.238Z"
   },
   {
    "duration": 4,
    "start_time": "2022-01-28T17:05:15.284Z"
   },
   {
    "duration": 1267,
    "start_time": "2022-01-28T17:05:15.290Z"
   },
   {
    "duration": 13,
    "start_time": "2022-01-28T17:05:16.559Z"
   },
   {
    "duration": 7,
    "start_time": "2022-01-28T17:05:16.575Z"
   },
   {
    "duration": 37,
    "start_time": "2022-01-28T17:05:16.585Z"
   },
   {
    "duration": 175,
    "start_time": "2022-01-28T17:05:16.624Z"
   },
   {
    "duration": 605,
    "start_time": "2022-01-28T17:05:16.801Z"
   },
   {
    "duration": 592,
    "start_time": "2022-01-28T17:05:17.408Z"
   },
   {
    "duration": 333,
    "start_time": "2022-01-28T17:05:18.002Z"
   },
   {
    "duration": 602,
    "start_time": "2022-01-28T17:05:18.337Z"
   },
   {
    "duration": 378,
    "start_time": "2022-01-28T17:05:18.941Z"
   },
   {
    "duration": 341,
    "start_time": "2022-01-28T17:05:19.322Z"
   },
   {
    "duration": 320,
    "start_time": "2022-01-28T17:05:19.669Z"
   },
   {
    "duration": 527,
    "start_time": "2022-01-28T17:05:19.992Z"
   },
   {
    "duration": 12,
    "start_time": "2022-01-28T17:05:20.521Z"
   },
   {
    "duration": 453,
    "start_time": "2022-01-28T17:05:20.536Z"
   },
   {
    "duration": 8,
    "start_time": "2022-01-28T17:05:20.992Z"
   },
   {
    "duration": 350,
    "start_time": "2022-01-28T17:05:21.003Z"
   },
   {
    "duration": 265,
    "start_time": "2022-01-28T17:05:21.356Z"
   },
   {
    "duration": 238,
    "start_time": "2022-01-28T17:05:21.624Z"
   },
   {
    "duration": 244,
    "start_time": "2022-01-28T17:05:21.869Z"
   },
   {
    "duration": 6,
    "start_time": "2022-01-28T17:05:22.116Z"
   },
   {
    "duration": 73,
    "start_time": "2022-01-28T17:05:22.125Z"
   },
   {
    "duration": 362,
    "start_time": "2022-01-28T17:05:22.200Z"
   },
   {
    "duration": 18,
    "start_time": "2022-01-28T17:05:22.564Z"
   },
   {
    "duration": 290,
    "start_time": "2022-01-28T17:05:22.584Z"
   },
   {
    "duration": 16,
    "start_time": "2022-01-28T17:05:22.876Z"
   },
   {
    "duration": 368,
    "start_time": "2022-01-28T17:05:22.895Z"
   },
   {
    "duration": 338,
    "start_time": "2022-01-28T17:05:23.270Z"
   },
   {
    "duration": 321,
    "start_time": "2022-01-28T17:05:23.611Z"
   },
   {
    "duration": 12,
    "start_time": "2022-01-28T17:05:23.935Z"
   },
   {
    "duration": 41,
    "start_time": "2022-01-28T17:05:23.949Z"
   },
   {
    "duration": 4,
    "start_time": "2022-01-28T17:05:23.992Z"
   },
   {
    "duration": 11,
    "start_time": "2022-01-28T17:05:23.998Z"
   },
   {
    "duration": 10,
    "start_time": "2022-01-28T17:05:24.011Z"
   },
   {
    "duration": 644,
    "start_time": "2022-01-28T17:05:24.029Z"
   },
   {
    "duration": 13,
    "start_time": "2022-01-28T17:05:24.676Z"
   },
   {
    "duration": 48,
    "start_time": "2022-01-28T17:05:24.691Z"
   },
   {
    "duration": 83,
    "start_time": "2022-01-28T17:05:24.742Z"
   },
   {
    "duration": 5,
    "start_time": "2022-01-28T17:11:19.771Z"
   },
   {
    "duration": 109,
    "start_time": "2022-01-28T17:11:19.778Z"
   },
   {
    "duration": 16,
    "start_time": "2022-01-28T17:11:19.890Z"
   },
   {
    "duration": 76,
    "start_time": "2022-01-28T17:11:19.909Z"
   },
   {
    "duration": 133,
    "start_time": "2022-01-28T17:11:19.987Z"
   },
   {
    "duration": 11,
    "start_time": "2022-01-28T17:11:20.122Z"
   },
   {
    "duration": 59,
    "start_time": "2022-01-28T17:11:20.136Z"
   },
   {
    "duration": 7,
    "start_time": "2022-01-28T17:11:20.198Z"
   },
   {
    "duration": 12,
    "start_time": "2022-01-28T17:11:20.208Z"
   },
   {
    "duration": 14,
    "start_time": "2022-01-28T17:11:20.223Z"
   },
   {
    "duration": 38,
    "start_time": "2022-01-28T17:11:20.239Z"
   },
   {
    "duration": 7,
    "start_time": "2022-01-28T17:11:20.279Z"
   },
   {
    "duration": 10,
    "start_time": "2022-01-28T17:11:20.288Z"
   },
   {
    "duration": 10,
    "start_time": "2022-01-28T17:11:20.301Z"
   },
   {
    "duration": 9,
    "start_time": "2022-01-28T17:11:20.314Z"
   },
   {
    "duration": 60,
    "start_time": "2022-01-28T17:11:20.325Z"
   },
   {
    "duration": 6,
    "start_time": "2022-01-28T17:11:20.387Z"
   },
   {
    "duration": 7,
    "start_time": "2022-01-28T17:11:20.395Z"
   },
   {
    "duration": 8,
    "start_time": "2022-01-28T17:11:20.404Z"
   },
   {
    "duration": 6,
    "start_time": "2022-01-28T17:11:20.414Z"
   },
   {
    "duration": 49,
    "start_time": "2022-01-28T17:11:20.423Z"
   },
   {
    "duration": 12,
    "start_time": "2022-01-28T17:11:20.475Z"
   },
   {
    "duration": 7,
    "start_time": "2022-01-28T17:11:20.494Z"
   },
   {
    "duration": 64,
    "start_time": "2022-01-28T17:11:20.505Z"
   },
   {
    "duration": 8,
    "start_time": "2022-01-28T17:11:20.572Z"
   },
   {
    "duration": 18,
    "start_time": "2022-01-28T17:11:20.582Z"
   },
   {
    "duration": 14,
    "start_time": "2022-01-28T17:11:20.602Z"
   },
   {
    "duration": 6,
    "start_time": "2022-01-28T17:11:20.618Z"
   },
   {
    "duration": 55,
    "start_time": "2022-01-28T17:11:20.626Z"
   },
   {
    "duration": 13,
    "start_time": "2022-01-28T17:11:20.683Z"
   },
   {
    "duration": 13,
    "start_time": "2022-01-28T17:11:20.699Z"
   },
   {
    "duration": 5,
    "start_time": "2022-01-28T17:11:20.714Z"
   },
   {
    "duration": 1005,
    "start_time": "2022-01-28T17:11:20.721Z"
   },
   {
    "duration": 9,
    "start_time": "2022-01-28T17:11:21.729Z"
   },
   {
    "duration": 7,
    "start_time": "2022-01-28T17:11:21.741Z"
   },
   {
    "duration": 50,
    "start_time": "2022-01-28T17:11:21.770Z"
   },
   {
    "duration": 154,
    "start_time": "2022-01-28T17:11:21.822Z"
   },
   {
    "duration": 564,
    "start_time": "2022-01-28T17:11:21.979Z"
   },
   {
    "duration": 603,
    "start_time": "2022-01-28T17:11:22.545Z"
   },
   {
    "duration": 341,
    "start_time": "2022-01-28T17:11:23.151Z"
   },
   {
    "duration": 600,
    "start_time": "2022-01-28T17:11:23.494Z"
   },
   {
    "duration": 373,
    "start_time": "2022-01-28T17:11:24.097Z"
   },
   {
    "duration": 343,
    "start_time": "2022-01-28T17:11:24.472Z"
   },
   {
    "duration": 327,
    "start_time": "2022-01-28T17:11:24.818Z"
   },
   {
    "duration": 720,
    "start_time": "2022-01-28T17:11:25.148Z"
   },
   {
    "duration": 12,
    "start_time": "2022-01-28T17:11:25.871Z"
   },
   {
    "duration": 450,
    "start_time": "2022-01-28T17:11:25.886Z"
   },
   {
    "duration": 6,
    "start_time": "2022-01-28T17:11:26.339Z"
   },
   {
    "duration": 342,
    "start_time": "2022-01-28T17:11:26.347Z"
   },
   {
    "duration": 256,
    "start_time": "2022-01-28T17:11:26.691Z"
   },
   {
    "duration": 247,
    "start_time": "2022-01-28T17:11:26.949Z"
   },
   {
    "duration": 244,
    "start_time": "2022-01-28T17:11:27.199Z"
   },
   {
    "duration": 6,
    "start_time": "2022-01-28T17:11:27.445Z"
   },
   {
    "duration": 66,
    "start_time": "2022-01-28T17:11:27.453Z"
   },
   {
    "duration": 161,
    "start_time": "2022-01-28T17:11:27.522Z"
   },
   {
    "duration": 18,
    "start_time": "2022-01-28T17:11:27.686Z"
   },
   {
    "duration": 292,
    "start_time": "2022-01-28T17:11:27.706Z"
   },
   {
    "duration": 16,
    "start_time": "2022-01-28T17:11:28.000Z"
   },
   {
    "duration": 369,
    "start_time": "2022-01-28T17:11:28.019Z"
   },
   {
    "duration": 338,
    "start_time": "2022-01-28T17:11:28.391Z"
   },
   {
    "duration": 341,
    "start_time": "2022-01-28T17:11:28.732Z"
   },
   {
    "duration": 11,
    "start_time": "2022-01-28T17:11:29.076Z"
   },
   {
    "duration": 26,
    "start_time": "2022-01-28T17:11:29.090Z"
   },
   {
    "duration": 4,
    "start_time": "2022-01-28T17:11:29.119Z"
   },
   {
    "duration": 45,
    "start_time": "2022-01-28T17:11:29.126Z"
   },
   {
    "duration": 12,
    "start_time": "2022-01-28T17:11:29.174Z"
   },
   {
    "duration": 642,
    "start_time": "2022-01-28T17:11:29.189Z"
   },
   {
    "duration": 13,
    "start_time": "2022-01-28T17:11:29.838Z"
   },
   {
    "duration": 49,
    "start_time": "2022-01-28T17:11:29.870Z"
   },
   {
    "duration": 79,
    "start_time": "2022-01-28T17:11:29.921Z"
   },
   {
    "duration": 6,
    "start_time": "2022-01-28T17:13:12.839Z"
   },
   {
    "duration": 15,
    "start_time": "2022-01-28T17:14:22.774Z"
   },
   {
    "duration": 13,
    "start_time": "2022-01-28T17:14:44.118Z"
   },
   {
    "duration": 10,
    "start_time": "2022-01-28T17:15:03.842Z"
   },
   {
    "duration": 10,
    "start_time": "2022-01-28T17:19:35.015Z"
   },
   {
    "duration": 6,
    "start_time": "2022-01-28T17:19:37.946Z"
   },
   {
    "duration": 4,
    "start_time": "2022-01-28T17:19:43.155Z"
   },
   {
    "duration": 82,
    "start_time": "2022-01-28T17:19:43.162Z"
   },
   {
    "duration": 22,
    "start_time": "2022-01-28T17:19:43.247Z"
   },
   {
    "duration": 41,
    "start_time": "2022-01-28T17:19:43.272Z"
   },
   {
    "duration": 174,
    "start_time": "2022-01-28T17:19:43.316Z"
   },
   {
    "duration": 12,
    "start_time": "2022-01-28T17:19:43.492Z"
   },
   {
    "duration": 35,
    "start_time": "2022-01-28T17:19:43.508Z"
   },
   {
    "duration": 7,
    "start_time": "2022-01-28T17:19:43.571Z"
   },
   {
    "duration": 16,
    "start_time": "2022-01-28T17:19:43.580Z"
   },
   {
    "duration": 17,
    "start_time": "2022-01-28T17:19:43.599Z"
   },
   {
    "duration": 9,
    "start_time": "2022-01-28T17:19:43.618Z"
   },
   {
    "duration": 42,
    "start_time": "2022-01-28T17:19:43.630Z"
   },
   {
    "duration": 10,
    "start_time": "2022-01-28T17:19:43.674Z"
   },
   {
    "duration": 6,
    "start_time": "2022-01-28T17:19:43.687Z"
   },
   {
    "duration": 9,
    "start_time": "2022-01-28T17:19:43.695Z"
   },
   {
    "duration": 17,
    "start_time": "2022-01-28T17:19:43.707Z"
   },
   {
    "duration": 49,
    "start_time": "2022-01-28T17:19:43.727Z"
   },
   {
    "duration": 8,
    "start_time": "2022-01-28T17:19:43.779Z"
   },
   {
    "duration": 6,
    "start_time": "2022-01-28T17:19:43.794Z"
   },
   {
    "duration": 5,
    "start_time": "2022-01-28T17:19:43.805Z"
   },
   {
    "duration": 58,
    "start_time": "2022-01-28T17:19:43.813Z"
   },
   {
    "duration": 14,
    "start_time": "2022-01-28T17:19:43.874Z"
   },
   {
    "duration": 10,
    "start_time": "2022-01-28T17:19:43.891Z"
   },
   {
    "duration": 75,
    "start_time": "2022-01-28T17:19:43.904Z"
   },
   {
    "duration": 9,
    "start_time": "2022-01-28T17:19:43.982Z"
   },
   {
    "duration": 19,
    "start_time": "2022-01-28T17:19:43.994Z"
   },
   {
    "duration": 12,
    "start_time": "2022-01-28T17:19:44.016Z"
   },
   {
    "duration": 6,
    "start_time": "2022-01-28T17:19:44.070Z"
   },
   {
    "duration": 19,
    "start_time": "2022-01-28T17:19:44.078Z"
   },
   {
    "duration": 11,
    "start_time": "2022-01-28T17:19:44.100Z"
   },
   {
    "duration": 11,
    "start_time": "2022-01-28T17:19:44.114Z"
   },
   {
    "duration": 4,
    "start_time": "2022-01-28T17:19:44.128Z"
   },
   {
    "duration": 1006,
    "start_time": "2022-01-28T17:19:44.170Z"
   },
   {
    "duration": 10,
    "start_time": "2022-01-28T17:19:45.179Z"
   },
   {
    "duration": 7,
    "start_time": "2022-01-28T17:19:45.191Z"
   },
   {
    "duration": 37,
    "start_time": "2022-01-28T17:19:45.200Z"
   },
   {
    "duration": 144,
    "start_time": "2022-01-28T17:19:45.269Z"
   },
   {
    "duration": 573,
    "start_time": "2022-01-28T17:19:45.415Z"
   },
   {
    "duration": 601,
    "start_time": "2022-01-28T17:19:45.991Z"
   },
   {
    "duration": 340,
    "start_time": "2022-01-28T17:19:46.595Z"
   },
   {
    "duration": 597,
    "start_time": "2022-01-28T17:19:46.937Z"
   },
   {
    "duration": 367,
    "start_time": "2022-01-28T17:19:47.537Z"
   },
   {
    "duration": 607,
    "start_time": "2022-01-28T17:19:47.907Z"
   },
   {
    "duration": 312,
    "start_time": "2022-01-28T17:19:48.516Z"
   },
   {
    "duration": 592,
    "start_time": "2022-01-28T17:19:48.830Z"
   },
   {
    "duration": 14,
    "start_time": "2022-01-28T17:19:49.425Z"
   },
   {
    "duration": 472,
    "start_time": "2022-01-28T17:19:49.442Z"
   },
   {
    "duration": 7,
    "start_time": "2022-01-28T17:19:49.917Z"
   },
   {
    "duration": 342,
    "start_time": "2022-01-28T17:19:49.927Z"
   },
   {
    "duration": 356,
    "start_time": "2022-01-28T17:19:50.272Z"
   },
   {
    "duration": 317,
    "start_time": "2022-01-28T17:19:50.631Z"
   },
   {
    "duration": 280,
    "start_time": "2022-01-28T17:19:50.951Z"
   },
   {
    "duration": 5,
    "start_time": "2022-01-28T17:19:51.234Z"
   },
   {
    "duration": 76,
    "start_time": "2022-01-28T17:19:51.242Z"
   },
   {
    "duration": 149,
    "start_time": "2022-01-28T17:19:51.325Z"
   },
   {
    "duration": 18,
    "start_time": "2022-01-28T17:19:51.477Z"
   },
   {
    "duration": 295,
    "start_time": "2022-01-28T17:19:51.497Z"
   },
   {
    "duration": 16,
    "start_time": "2022-01-28T17:19:51.794Z"
   },
   {
    "duration": 366,
    "start_time": "2022-01-28T17:19:51.812Z"
   },
   {
    "duration": 330,
    "start_time": "2022-01-28T17:19:52.181Z"
   },
   {
    "duration": 439,
    "start_time": "2022-01-28T17:19:52.513Z"
   },
   {
    "duration": 17,
    "start_time": "2022-01-28T17:19:52.954Z"
   },
   {
    "duration": 29,
    "start_time": "2022-01-28T17:19:52.973Z"
   },
   {
    "duration": 4,
    "start_time": "2022-01-28T17:19:53.004Z"
   },
   {
    "duration": 18,
    "start_time": "2022-01-28T17:19:53.010Z"
   },
   {
    "duration": 13,
    "start_time": "2022-01-28T17:19:53.030Z"
   },
   {
    "duration": 616,
    "start_time": "2022-01-28T17:19:53.070Z"
   },
   {
    "duration": 13,
    "start_time": "2022-01-28T17:19:53.688Z"
   },
   {
    "duration": 66,
    "start_time": "2022-01-28T17:19:53.703Z"
   },
   {
    "duration": 56,
    "start_time": "2022-01-28T17:19:53.771Z"
   },
   {
    "duration": 7,
    "start_time": "2022-01-28T17:28:55.614Z"
   },
   {
    "duration": 18,
    "start_time": "2022-01-28T17:32:54.426Z"
   },
   {
    "duration": 5,
    "start_time": "2022-01-28T18:13:48.712Z"
   },
   {
    "duration": 13,
    "start_time": "2022-01-28T18:14:20.995Z"
   },
   {
    "duration": 12,
    "start_time": "2022-01-28T18:14:42.247Z"
   },
   {
    "duration": 85,
    "start_time": "2022-01-28T18:14:58.856Z"
   },
   {
    "duration": 12,
    "start_time": "2022-01-28T18:15:06.079Z"
   },
   {
    "duration": 87,
    "start_time": "2022-01-28T18:15:12.074Z"
   },
   {
    "duration": 12,
    "start_time": "2022-01-28T18:15:13.626Z"
   },
   {
    "duration": 4,
    "start_time": "2022-01-28T18:15:14.938Z"
   },
   {
    "duration": 263,
    "start_time": "2022-01-28T18:28:43.885Z"
   },
   {
    "duration": 4,
    "start_time": "2022-01-28T18:28:51.260Z"
   },
   {
    "duration": 91,
    "start_time": "2022-01-28T18:28:51.267Z"
   },
   {
    "duration": 21,
    "start_time": "2022-01-28T18:28:51.361Z"
   },
   {
    "duration": 40,
    "start_time": "2022-01-28T18:28:51.385Z"
   },
   {
    "duration": 156,
    "start_time": "2022-01-28T18:28:51.428Z"
   },
   {
    "duration": 13,
    "start_time": "2022-01-28T18:28:51.586Z"
   },
   {
    "duration": 77,
    "start_time": "2022-01-28T18:28:51.601Z"
   },
   {
    "duration": 8,
    "start_time": "2022-01-28T18:28:51.682Z"
   },
   {
    "duration": 12,
    "start_time": "2022-01-28T18:28:51.693Z"
   },
   {
    "duration": 17,
    "start_time": "2022-01-28T18:28:51.708Z"
   },
   {
    "duration": 47,
    "start_time": "2022-01-28T18:28:51.729Z"
   },
   {
    "duration": 7,
    "start_time": "2022-01-28T18:28:51.779Z"
   },
   {
    "duration": 11,
    "start_time": "2022-01-28T18:28:51.789Z"
   },
   {
    "duration": 7,
    "start_time": "2022-01-28T18:28:51.803Z"
   },
   {
    "duration": 60,
    "start_time": "2022-01-28T18:28:51.812Z"
   },
   {
    "duration": 18,
    "start_time": "2022-01-28T18:28:51.875Z"
   },
   {
    "duration": 6,
    "start_time": "2022-01-28T18:28:51.896Z"
   },
   {
    "duration": 10,
    "start_time": "2022-01-28T18:28:51.904Z"
   },
   {
    "duration": 6,
    "start_time": "2022-01-28T18:28:51.916Z"
   },
   {
    "duration": 291,
    "start_time": "2022-01-28T18:28:51.924Z"
   },
   {
    "duration": -288,
    "start_time": "2022-01-28T18:28:52.508Z"
   },
   {
    "duration": -293,
    "start_time": "2022-01-28T18:28:52.514Z"
   },
   {
    "duration": -294,
    "start_time": "2022-01-28T18:28:52.517Z"
   },
   {
    "duration": -299,
    "start_time": "2022-01-28T18:28:52.523Z"
   },
   {
    "duration": -304,
    "start_time": "2022-01-28T18:28:52.529Z"
   },
   {
    "duration": -307,
    "start_time": "2022-01-28T18:28:52.533Z"
   },
   {
    "duration": -310,
    "start_time": "2022-01-28T18:28:52.538Z"
   },
   {
    "duration": -316,
    "start_time": "2022-01-28T18:28:52.545Z"
   },
   {
    "duration": -319,
    "start_time": "2022-01-28T18:28:52.549Z"
   },
   {
    "duration": -323,
    "start_time": "2022-01-28T18:28:52.554Z"
   },
   {
    "duration": -327,
    "start_time": "2022-01-28T18:28:52.560Z"
   },
   {
    "duration": -330,
    "start_time": "2022-01-28T18:28:52.564Z"
   },
   {
    "duration": -333,
    "start_time": "2022-01-28T18:28:52.568Z"
   },
   {
    "duration": -340,
    "start_time": "2022-01-28T18:28:52.576Z"
   },
   {
    "duration": -342,
    "start_time": "2022-01-28T18:28:52.580Z"
   },
   {
    "duration": -345,
    "start_time": "2022-01-28T18:28:52.584Z"
   },
   {
    "duration": -350,
    "start_time": "2022-01-28T18:28:52.590Z"
   },
   {
    "duration": -354,
    "start_time": "2022-01-28T18:28:52.596Z"
   },
   {
    "duration": -356,
    "start_time": "2022-01-28T18:28:52.599Z"
   },
   {
    "duration": -381,
    "start_time": "2022-01-28T18:28:52.626Z"
   },
   {
    "duration": -383,
    "start_time": "2022-01-28T18:28:52.629Z"
   },
   {
    "duration": -386,
    "start_time": "2022-01-28T18:28:52.633Z"
   },
   {
    "duration": -390,
    "start_time": "2022-01-28T18:28:52.639Z"
   },
   {
    "duration": -396,
    "start_time": "2022-01-28T18:28:52.646Z"
   },
   {
    "duration": -399,
    "start_time": "2022-01-28T18:28:52.650Z"
   },
   {
    "duration": -420,
    "start_time": "2022-01-28T18:28:52.673Z"
   },
   {
    "duration": -426,
    "start_time": "2022-01-28T18:28:52.680Z"
   },
   {
    "duration": -428,
    "start_time": "2022-01-28T18:28:52.683Z"
   },
   {
    "duration": -421,
    "start_time": "2022-01-28T18:28:52.690Z"
   },
   {
    "duration": -427,
    "start_time": "2022-01-28T18:28:52.697Z"
   },
   {
    "duration": -429,
    "start_time": "2022-01-28T18:28:52.701Z"
   },
   {
    "duration": -449,
    "start_time": "2022-01-28T18:28:52.722Z"
   },
   {
    "duration": -456,
    "start_time": "2022-01-28T18:28:52.730Z"
   },
   {
    "duration": -458,
    "start_time": "2022-01-28T18:28:52.734Z"
   },
   {
    "duration": -462,
    "start_time": "2022-01-28T18:28:52.739Z"
   },
   {
    "duration": -469,
    "start_time": "2022-01-28T18:28:52.747Z"
   },
   {
    "duration": -470,
    "start_time": "2022-01-28T18:28:52.750Z"
   },
   {
    "duration": -476,
    "start_time": "2022-01-28T18:28:52.757Z"
   },
   {
    "duration": -481,
    "start_time": "2022-01-28T18:28:52.763Z"
   },
   {
    "duration": -483,
    "start_time": "2022-01-28T18:28:52.767Z"
   },
   {
    "duration": -487,
    "start_time": "2022-01-28T18:28:52.772Z"
   },
   {
    "duration": -492,
    "start_time": "2022-01-28T18:28:52.779Z"
   },
   {
    "duration": -502,
    "start_time": "2022-01-28T18:28:52.790Z"
   },
   {
    "duration": -508,
    "start_time": "2022-01-28T18:28:52.797Z"
   },
   {
    "duration": -510,
    "start_time": "2022-01-28T18:28:52.801Z"
   },
   {
    "duration": -514,
    "start_time": "2022-01-28T18:28:52.806Z"
   },
   {
    "duration": -520,
    "start_time": "2022-01-28T18:28:52.814Z"
   },
   {
    "duration": -522,
    "start_time": "2022-01-28T18:28:52.817Z"
   },
   {
    "duration": -526,
    "start_time": "2022-01-28T18:28:52.823Z"
   },
   {
    "duration": -532,
    "start_time": "2022-01-28T18:28:52.830Z"
   },
   {
    "duration": 298,
    "start_time": "2022-01-28T18:30:11.190Z"
   },
   {
    "duration": 305,
    "start_time": "2022-01-28T18:33:06.424Z"
   },
   {
    "duration": 11,
    "start_time": "2022-01-28T18:33:34.942Z"
   },
   {
    "duration": 17,
    "start_time": "2022-01-28T18:33:42.628Z"
   },
   {
    "duration": 8,
    "start_time": "2022-01-28T18:33:52.740Z"
   },
   {
    "duration": 4,
    "start_time": "2022-01-28T18:35:06.900Z"
   },
   {
    "duration": 6,
    "start_time": "2022-01-28T18:35:09.445Z"
   },
   {
    "duration": 12,
    "start_time": "2022-01-28T18:36:21.759Z"
   },
   {
    "duration": 7,
    "start_time": "2022-01-28T18:36:26.988Z"
   },
   {
    "duration": 31,
    "start_time": "2022-01-28T18:36:29.640Z"
   },
   {
    "duration": 9,
    "start_time": "2022-01-28T18:36:34.076Z"
   },
   {
    "duration": 17,
    "start_time": "2022-01-28T18:36:38.016Z"
   },
   {
    "duration": 12,
    "start_time": "2022-01-28T18:36:41.548Z"
   },
   {
    "duration": 6,
    "start_time": "2022-01-28T18:40:05.025Z"
   },
   {
    "duration": 13,
    "start_time": "2022-01-28T18:40:07.144Z"
   },
   {
    "duration": 13,
    "start_time": "2022-01-28T18:40:10.179Z"
   },
   {
    "duration": 13,
    "start_time": "2022-01-28T18:40:14.627Z"
   },
   {
    "duration": 5,
    "start_time": "2022-01-28T18:40:17.783Z"
   },
   {
    "duration": 973,
    "start_time": "2022-01-28T18:40:46.776Z"
   },
   {
    "duration": 10,
    "start_time": "2022-01-28T18:41:12.463Z"
   },
   {
    "duration": 7,
    "start_time": "2022-01-28T18:41:49.880Z"
   },
   {
    "duration": 90,
    "start_time": "2022-01-28T18:43:09.204Z"
   },
   {
    "duration": 34,
    "start_time": "2022-01-28T18:43:19.655Z"
   },
   {
    "duration": 133,
    "start_time": "2022-01-28T18:43:30.079Z"
   },
   {
    "duration": 587,
    "start_time": "2022-01-28T18:44:51.262Z"
   },
   {
    "duration": 604,
    "start_time": "2022-01-28T18:45:06.435Z"
   },
   {
    "duration": 415,
    "start_time": "2022-01-28T18:45:28.296Z"
   },
   {
    "duration": 603,
    "start_time": "2022-01-28T18:46:44.044Z"
   },
   {
    "duration": 453,
    "start_time": "2022-01-28T18:47:06.923Z"
   },
   {
    "duration": 786,
    "start_time": "2022-01-28T18:47:20.048Z"
   },
   {
    "duration": 460,
    "start_time": "2022-01-28T18:48:53.603Z"
   },
   {
    "duration": 352,
    "start_time": "2022-01-28T18:49:06.317Z"
   },
   {
    "duration": 599,
    "start_time": "2022-01-28T18:49:14.911Z"
   },
   {
    "duration": 598,
    "start_time": "2022-01-28T18:49:48.388Z"
   },
   {
    "duration": 513,
    "start_time": "2022-01-28T18:50:05.227Z"
   },
   {
    "duration": 497,
    "start_time": "2022-01-28T18:51:58.976Z"
   },
   {
    "duration": 448,
    "start_time": "2022-01-28T18:52:09.748Z"
   },
   {
    "duration": 428,
    "start_time": "2022-01-28T18:52:26.244Z"
   },
   {
    "duration": 457,
    "start_time": "2022-01-28T18:56:51.243Z"
   },
   {
    "duration": 318,
    "start_time": "2022-01-28T19:02:00.134Z"
   },
   {
    "duration": 611,
    "start_time": "2022-01-28T19:02:41.851Z"
   },
   {
    "duration": 583,
    "start_time": "2022-01-28T19:04:09.132Z"
   },
   {
    "duration": 353,
    "start_time": "2022-01-28T19:04:16.229Z"
   },
   {
    "duration": 329,
    "start_time": "2022-01-28T19:04:17.361Z"
   },
   {
    "duration": 348,
    "start_time": "2022-01-28T19:05:01.801Z"
   },
   {
    "duration": 341,
    "start_time": "2022-01-28T19:05:25.761Z"
   },
   {
    "duration": 363,
    "start_time": "2022-01-28T19:06:19.886Z"
   },
   {
    "duration": 309,
    "start_time": "2022-01-28T19:06:59.381Z"
   },
   {
    "duration": 554,
    "start_time": "2022-01-28T19:07:07.984Z"
   },
   {
    "duration": 457,
    "start_time": "2022-01-28T19:07:49.393Z"
   },
   {
    "duration": 460,
    "start_time": "2022-01-28T19:08:38.429Z"
   },
   {
    "duration": 12,
    "start_time": "2022-01-28T19:09:45.098Z"
   },
   {
    "duration": 794,
    "start_time": "2022-01-28T19:09:49.772Z"
   },
   {
    "duration": 8,
    "start_time": "2022-01-28T19:09:55.104Z"
   },
   {
    "duration": 323,
    "start_time": "2022-01-28T19:10:00.955Z"
   },
   {
    "duration": 259,
    "start_time": "2022-01-28T19:11:24.945Z"
   },
   {
    "duration": 285,
    "start_time": "2022-01-28T19:11:57.063Z"
   },
   {
    "duration": 214,
    "start_time": "2022-01-28T19:12:04.511Z"
   },
   {
    "duration": 204,
    "start_time": "2022-01-28T19:12:12.624Z"
   },
   {
    "duration": 228,
    "start_time": "2022-01-28T19:12:28.444Z"
   },
   {
    "duration": 245,
    "start_time": "2022-01-28T19:13:14.052Z"
   },
   {
    "duration": 235,
    "start_time": "2022-01-28T19:13:18.081Z"
   },
   {
    "duration": 225,
    "start_time": "2022-01-28T19:13:20.784Z"
   },
   {
    "duration": 235,
    "start_time": "2022-01-28T19:13:53.595Z"
   },
   {
    "duration": 255,
    "start_time": "2022-01-28T19:14:14.267Z"
   },
   {
    "duration": 232,
    "start_time": "2022-01-28T19:14:35.580Z"
   },
   {
    "duration": 5,
    "start_time": "2022-01-28T19:15:27.120Z"
   },
   {
    "duration": 54,
    "start_time": "2022-01-28T19:15:46.912Z"
   },
   {
    "duration": 137,
    "start_time": "2022-01-28T19:15:53.437Z"
   },
   {
    "duration": 136,
    "start_time": "2022-01-28T19:16:14.953Z"
   },
   {
    "duration": 18,
    "start_time": "2022-01-28T19:18:17.944Z"
   },
   {
    "duration": 263,
    "start_time": "2022-01-28T19:18:46.136Z"
   },
   {
    "duration": 18,
    "start_time": "2022-01-28T19:19:20.288Z"
   },
   {
    "duration": 344,
    "start_time": "2022-01-28T19:19:24.380Z"
   },
   {
    "duration": 289,
    "start_time": "2022-01-28T19:20:39.904Z"
   },
   {
    "duration": 18,
    "start_time": "2022-01-28T19:21:06.624Z"
   },
   {
    "duration": 366,
    "start_time": "2022-01-28T19:21:08.821Z"
   },
   {
    "duration": 311,
    "start_time": "2022-01-28T19:21:21.212Z"
   },
   {
    "duration": 318,
    "start_time": "2022-01-28T19:21:27.604Z"
   },
   {
    "duration": 11,
    "start_time": "2022-01-28T19:25:16.736Z"
   },
   {
    "duration": 33,
    "start_time": "2022-01-28T19:25:54.312Z"
   },
   {
    "duration": 4,
    "start_time": "2022-01-28T19:26:28.408Z"
   },
   {
    "duration": 9,
    "start_time": "2022-01-28T19:26:51.275Z"
   },
   {
    "duration": 11,
    "start_time": "2022-01-28T19:27:48.759Z"
   },
   {
    "duration": 601,
    "start_time": "2022-01-28T19:28:16.229Z"
   },
   {
    "duration": 15,
    "start_time": "2022-01-28T19:29:16.194Z"
   },
   {
    "duration": 47,
    "start_time": "2022-01-28T19:29:29.980Z"
   },
   {
    "duration": 56,
    "start_time": "2022-01-28T19:29:53.555Z"
   },
   {
    "duration": 325,
    "start_time": "2022-01-28T19:36:10.483Z"
   },
   {
    "duration": 876,
    "start_time": "2022-01-28T19:38:36.184Z"
   },
   {
    "duration": 568,
    "start_time": "2022-01-28T19:39:03.727Z"
   },
   {
    "duration": 606,
    "start_time": "2022-01-28T19:40:00.641Z"
   },
   {
    "duration": 583,
    "start_time": "2022-01-28T19:40:27.284Z"
   },
   {
    "duration": 578,
    "start_time": "2022-01-28T19:40:42.739Z"
   },
   {
    "duration": 588,
    "start_time": "2022-01-28T19:41:13.570Z"
   },
   {
    "duration": 572,
    "start_time": "2022-01-28T19:42:08.102Z"
   },
   {
    "duration": 573,
    "start_time": "2022-01-28T19:42:21.811Z"
   },
   {
    "duration": 347,
    "start_time": "2022-01-28T19:42:32.983Z"
   },
   {
    "duration": 293,
    "start_time": "2022-01-28T19:42:41.283Z"
   },
   {
    "duration": 319,
    "start_time": "2022-01-28T19:42:47.563Z"
   },
   {
    "duration": 327,
    "start_time": "2022-01-28T19:43:00.085Z"
   },
   {
    "duration": 789,
    "start_time": "2022-01-28T19:43:08.683Z"
   },
   {
    "duration": 315,
    "start_time": "2022-01-28T19:43:22.748Z"
   },
   {
    "duration": 590,
    "start_time": "2022-01-28T19:44:29.635Z"
   },
   {
    "duration": 590,
    "start_time": "2022-01-28T19:44:39.267Z"
   },
   {
    "duration": 368,
    "start_time": "2022-01-28T19:44:47.607Z"
   },
   {
    "duration": 701,
    "start_time": "2022-01-28T19:45:06.368Z"
   },
   {
    "duration": 370,
    "start_time": "2022-01-28T19:45:14.859Z"
   },
   {
    "duration": 357,
    "start_time": "2022-01-28T19:45:25.351Z"
   },
   {
    "duration": 348,
    "start_time": "2022-01-28T19:45:32.599Z"
   },
   {
    "duration": 589,
    "start_time": "2022-01-28T19:46:16.675Z"
   },
   {
    "duration": 579,
    "start_time": "2022-01-28T19:46:25.029Z"
   },
   {
    "duration": 571,
    "start_time": "2022-01-28T19:46:34.667Z"
   },
   {
    "duration": 445,
    "start_time": "2022-01-28T19:46:45.172Z"
   },
   {
    "duration": 369,
    "start_time": "2022-01-28T19:46:56.375Z"
   },
   {
    "duration": 422,
    "start_time": "2022-01-28T19:47:04.951Z"
   },
   {
    "duration": 954,
    "start_time": "2022-01-28T19:48:06.215Z"
   },
   {
    "duration": 552,
    "start_time": "2022-01-28T19:48:25.611Z"
   },
   {
    "duration": 504,
    "start_time": "2022-01-28T19:48:32.933Z"
   },
   {
    "duration": 356,
    "start_time": "2022-01-28T19:48:41.752Z"
   },
   {
    "duration": 339,
    "start_time": "2022-01-28T19:48:53.847Z"
   },
   {
    "duration": 368,
    "start_time": "2022-01-28T19:49:15.847Z"
   },
   {
    "duration": 356,
    "start_time": "2022-01-28T19:49:51.438Z"
   },
   {
    "duration": 590,
    "start_time": "2022-01-28T19:51:02.165Z"
   },
   {
    "duration": 584,
    "start_time": "2022-01-28T19:51:21.396Z"
   },
   {
    "duration": 454,
    "start_time": "2022-01-28T19:51:30.019Z"
   },
   {
    "duration": 339,
    "start_time": "2022-01-28T19:55:55.430Z"
   },
   {
    "duration": 443,
    "start_time": "2022-01-28T19:56:37.086Z"
   },
   {
    "duration": 327,
    "start_time": "2022-01-28T19:57:15.342Z"
   },
   {
    "duration": 525,
    "start_time": "2022-01-28T20:20:32.435Z"
   },
   {
    "duration": 536,
    "start_time": "2022-01-28T20:25:15.365Z"
   },
   {
    "duration": 332,
    "start_time": "2022-01-28T20:26:53.631Z"
   },
   {
    "duration": 353,
    "start_time": "2022-01-28T20:27:24.379Z"
   },
   {
    "duration": 361,
    "start_time": "2022-01-28T20:27:46.317Z"
   },
   {
    "duration": 326,
    "start_time": "2022-01-28T20:28:03.443Z"
   },
   {
    "duration": 334,
    "start_time": "2022-01-28T20:29:08.978Z"
   },
   {
    "duration": 319,
    "start_time": "2022-01-28T20:29:18.531Z"
   },
   {
    "duration": 318,
    "start_time": "2022-01-28T20:30:07.740Z"
   },
   {
    "duration": 864,
    "start_time": "2022-01-28T20:30:25.635Z"
   },
   {
    "duration": 402,
    "start_time": "2022-01-28T20:30:40.567Z"
   },
   {
    "duration": 441,
    "start_time": "2022-01-28T20:31:09.639Z"
   },
   {
    "duration": 341,
    "start_time": "2022-01-28T20:32:05.428Z"
   },
   {
    "duration": 339,
    "start_time": "2022-01-28T20:32:14.944Z"
   },
   {
    "duration": 329,
    "start_time": "2022-01-28T20:32:50.600Z"
   },
   {
    "duration": 306,
    "start_time": "2022-01-28T20:33:50.060Z"
   },
   {
    "duration": 374,
    "start_time": "2022-01-28T20:35:05.420Z"
   },
   {
    "duration": 315,
    "start_time": "2022-01-28T20:36:36.243Z"
   },
   {
    "duration": 321,
    "start_time": "2022-01-28T20:37:15.724Z"
   },
   {
    "duration": 526,
    "start_time": "2022-01-28T20:37:45.151Z"
   },
   {
    "duration": 52,
    "start_time": "2022-01-28T20:40:20.615Z"
   },
   {
    "duration": 333,
    "start_time": "2022-01-28T20:54:36.901Z"
   },
   {
    "duration": 324,
    "start_time": "2022-01-28T20:54:41.824Z"
   },
   {
    "duration": 328,
    "start_time": "2022-01-28T20:54:47.308Z"
   },
   {
    "duration": 353,
    "start_time": "2022-01-28T20:54:51.887Z"
   },
   {
    "duration": 319,
    "start_time": "2022-01-28T20:54:55.777Z"
   },
   {
    "duration": 352,
    "start_time": "2022-01-28T20:54:59.378Z"
   },
   {
    "duration": 325,
    "start_time": "2022-01-28T20:55:00.435Z"
   },
   {
    "duration": 299,
    "start_time": "2022-01-28T20:56:37.728Z"
   },
   {
    "duration": 310,
    "start_time": "2022-01-28T20:57:26.352Z"
   },
   {
    "duration": 307,
    "start_time": "2022-01-28T20:58:13.484Z"
   },
   {
    "duration": 451,
    "start_time": "2022-01-28T20:58:46.924Z"
   },
   {
    "duration": 283,
    "start_time": "2022-01-28T20:59:47.352Z"
   },
   {
    "duration": 323,
    "start_time": "2022-01-28T21:01:31.836Z"
   },
   {
    "duration": 310,
    "start_time": "2022-01-28T21:01:56.360Z"
   },
   {
    "duration": 313,
    "start_time": "2022-01-28T21:04:02.956Z"
   },
   {
    "duration": 325,
    "start_time": "2022-01-28T21:04:37.871Z"
   },
   {
    "duration": 351,
    "start_time": "2022-01-28T21:05:24.661Z"
   },
   {
    "duration": 97,
    "start_time": "2022-01-28T21:13:17.500Z"
   },
   {
    "duration": 317,
    "start_time": "2022-01-28T21:13:34.793Z"
   },
   {
    "duration": 910,
    "start_time": "2022-01-28T21:17:07.174Z"
   },
   {
    "duration": 87,
    "start_time": "2022-01-28T21:17:08.087Z"
   },
   {
    "duration": 16,
    "start_time": "2022-01-28T21:17:08.176Z"
   },
   {
    "duration": 43,
    "start_time": "2022-01-28T21:17:08.194Z"
   },
   {
    "duration": 143,
    "start_time": "2022-01-28T21:17:08.239Z"
   },
   {
    "duration": 14,
    "start_time": "2022-01-28T21:17:08.385Z"
   },
   {
    "duration": 67,
    "start_time": "2022-01-28T21:17:08.402Z"
   },
   {
    "duration": 10,
    "start_time": "2022-01-28T21:17:08.474Z"
   },
   {
    "duration": 14,
    "start_time": "2022-01-28T21:17:08.488Z"
   },
   {
    "duration": 16,
    "start_time": "2022-01-28T21:17:08.505Z"
   },
   {
    "duration": 52,
    "start_time": "2022-01-28T21:17:08.524Z"
   },
   {
    "duration": 8,
    "start_time": "2022-01-28T21:17:08.579Z"
   },
   {
    "duration": 16,
    "start_time": "2022-01-28T21:17:08.590Z"
   },
   {
    "duration": 7,
    "start_time": "2022-01-28T21:17:08.609Z"
   },
   {
    "duration": 54,
    "start_time": "2022-01-28T21:17:08.618Z"
   },
   {
    "duration": 19,
    "start_time": "2022-01-28T21:17:08.675Z"
   },
   {
    "duration": 7,
    "start_time": "2022-01-28T21:17:08.696Z"
   },
   {
    "duration": 6,
    "start_time": "2022-01-28T21:17:08.705Z"
   },
   {
    "duration": 8,
    "start_time": "2022-01-28T21:17:08.713Z"
   },
   {
    "duration": 49,
    "start_time": "2022-01-28T21:17:08.723Z"
   },
   {
    "duration": 8,
    "start_time": "2022-01-28T21:17:08.774Z"
   },
   {
    "duration": 11,
    "start_time": "2022-01-28T21:17:08.784Z"
   },
   {
    "duration": 9,
    "start_time": "2022-01-28T21:17:08.801Z"
   },
   {
    "duration": 70,
    "start_time": "2022-01-28T21:17:08.815Z"
   },
   {
    "duration": 8,
    "start_time": "2022-01-28T21:17:08.888Z"
   },
   {
    "duration": 19,
    "start_time": "2022-01-28T21:17:08.899Z"
   },
   {
    "duration": 51,
    "start_time": "2022-01-28T21:17:08.921Z"
   },
   {
    "duration": 5,
    "start_time": "2022-01-28T21:17:08.975Z"
   },
   {
    "duration": 16,
    "start_time": "2022-01-28T21:17:08.982Z"
   },
   {
    "duration": 12,
    "start_time": "2022-01-28T21:17:09.000Z"
   },
   {
    "duration": 12,
    "start_time": "2022-01-28T21:17:09.014Z"
   },
   {
    "duration": 41,
    "start_time": "2022-01-28T21:17:09.029Z"
   },
   {
    "duration": 997,
    "start_time": "2022-01-28T21:17:09.072Z"
   },
   {
    "duration": 10,
    "start_time": "2022-01-28T21:17:10.072Z"
   },
   {
    "duration": 7,
    "start_time": "2022-01-28T21:17:10.084Z"
   },
   {
    "duration": 35,
    "start_time": "2022-01-28T21:17:10.093Z"
   },
   {
    "duration": 175,
    "start_time": "2022-01-28T21:17:10.130Z"
   },
   {
    "duration": 553,
    "start_time": "2022-01-28T21:17:10.308Z"
   },
   {
    "duration": 651,
    "start_time": "2022-01-28T21:17:10.864Z"
   },
   {
    "duration": 365,
    "start_time": "2022-01-28T21:17:11.518Z"
   },
   {
    "duration": 927,
    "start_time": "2022-01-28T21:17:11.886Z"
   },
   {
    "duration": 11,
    "start_time": "2022-01-28T21:17:12.815Z"
   },
   {
    "duration": 441,
    "start_time": "2022-01-28T21:17:12.828Z"
   },
   {
    "duration": 8,
    "start_time": "2022-01-28T21:17:13.271Z"
   },
   {
    "duration": 220,
    "start_time": "2022-01-28T21:17:13.281Z"
   },
   {
    "duration": 225,
    "start_time": "2022-01-28T21:17:13.504Z"
   },
   {
    "duration": 250,
    "start_time": "2022-01-28T21:17:13.731Z"
   },
   {
    "duration": 249,
    "start_time": "2022-01-28T21:17:13.983Z"
   },
   {
    "duration": 314,
    "start_time": "2022-01-28T21:17:14.234Z"
   },
   {
    "duration": 255,
    "start_time": "2022-01-28T21:17:14.550Z"
   },
   {
    "duration": 5,
    "start_time": "2022-01-28T21:17:14.807Z"
   },
   {
    "duration": 73,
    "start_time": "2022-01-28T21:17:14.815Z"
   },
   {
    "duration": 150,
    "start_time": "2022-01-28T21:17:14.890Z"
   },
   {
    "duration": 31,
    "start_time": "2022-01-28T21:17:15.042Z"
   },
   {
    "duration": 294,
    "start_time": "2022-01-28T21:17:15.076Z"
   },
   {
    "duration": 15,
    "start_time": "2022-01-28T21:17:15.373Z"
   },
   {
    "duration": 354,
    "start_time": "2022-01-28T21:17:15.390Z"
   },
   {
    "duration": 327,
    "start_time": "2022-01-28T21:17:15.747Z"
   },
   {
    "duration": 318,
    "start_time": "2022-01-28T21:17:16.077Z"
   },
   {
    "duration": 11,
    "start_time": "2022-01-28T21:17:16.398Z"
   },
   {
    "duration": 25,
    "start_time": "2022-01-28T21:17:16.411Z"
   },
   {
    "duration": 4,
    "start_time": "2022-01-28T21:17:16.438Z"
   },
   {
    "duration": 10,
    "start_time": "2022-01-28T21:17:16.469Z"
   },
   {
    "duration": 10,
    "start_time": "2022-01-28T21:17:16.481Z"
   },
   {
    "duration": 598,
    "start_time": "2022-01-28T21:17:16.493Z"
   },
   {
    "duration": 13,
    "start_time": "2022-01-28T21:17:17.093Z"
   },
   {
    "duration": 69,
    "start_time": "2022-01-28T21:17:17.108Z"
   },
   {
    "duration": 554,
    "start_time": "2022-01-28T21:17:17.185Z"
   },
   {
    "duration": 656,
    "start_time": "2022-01-28T21:17:17.743Z"
   },
   {
    "duration": 331,
    "start_time": "2022-01-28T21:17:18.402Z"
   },
   {
    "duration": 362,
    "start_time": "2022-01-28T21:17:18.735Z"
   },
   {
    "duration": 384,
    "start_time": "2022-01-28T21:17:19.099Z"
   },
   {
    "duration": 351,
    "start_time": "2022-01-28T21:17:19.485Z"
   },
   {
    "duration": 469,
    "start_time": "2022-01-28T21:17:19.838Z"
   },
   {
    "duration": 337,
    "start_time": "2022-01-28T21:17:20.310Z"
   },
   {
    "duration": 312,
    "start_time": "2022-01-28T21:17:20.650Z"
   },
   {
    "duration": 360,
    "start_time": "2022-01-28T21:17:20.964Z"
   },
   {
    "duration": 364,
    "start_time": "2022-01-28T21:17:21.326Z"
   },
   {
    "duration": 348,
    "start_time": "2022-01-28T21:17:21.693Z"
   },
   {
    "duration": 69,
    "start_time": "2022-01-28T21:17:22.044Z"
   },
   {
    "duration": 621,
    "start_time": "2022-01-28T21:17:22.116Z"
   },
   {
    "duration": 339,
    "start_time": "2022-01-28T21:17:22.739Z"
   },
   {
    "duration": 340,
    "start_time": "2022-01-28T21:17:23.081Z"
   },
   {
    "duration": 347,
    "start_time": "2022-01-28T21:17:23.424Z"
   },
   {
    "duration": 350,
    "start_time": "2022-01-28T21:17:23.774Z"
   },
   {
    "duration": 323,
    "start_time": "2022-01-28T21:17:24.127Z"
   },
   {
    "duration": 330,
    "start_time": "2022-01-28T21:17:24.453Z"
   },
   {
    "duration": 334,
    "start_time": "2022-01-28T21:17:24.786Z"
   },
   {
    "duration": 343,
    "start_time": "2022-01-28T21:17:25.122Z"
   },
   {
    "duration": 313,
    "start_time": "2022-01-29T08:18:29.891Z"
   },
   {
    "duration": 686,
    "start_time": "2022-01-29T08:18:35.515Z"
   },
   {
    "duration": 71,
    "start_time": "2022-01-29T08:18:36.203Z"
   },
   {
    "duration": 12,
    "start_time": "2022-01-29T08:18:36.276Z"
   },
   {
    "duration": 36,
    "start_time": "2022-01-29T08:18:36.290Z"
   },
   {
    "duration": 91,
    "start_time": "2022-01-29T08:18:36.327Z"
   },
   {
    "duration": 9,
    "start_time": "2022-01-29T08:18:36.419Z"
   },
   {
    "duration": 26,
    "start_time": "2022-01-29T08:18:36.430Z"
   },
   {
    "duration": 7,
    "start_time": "2022-01-29T08:18:36.458Z"
   },
   {
    "duration": 36,
    "start_time": "2022-01-29T08:18:36.467Z"
   },
   {
    "duration": 11,
    "start_time": "2022-01-29T08:18:36.505Z"
   },
   {
    "duration": 7,
    "start_time": "2022-01-29T08:18:36.518Z"
   },
   {
    "duration": 4,
    "start_time": "2022-01-29T08:18:36.526Z"
   },
   {
    "duration": 9,
    "start_time": "2022-01-29T08:18:36.532Z"
   },
   {
    "duration": 4,
    "start_time": "2022-01-29T08:18:36.543Z"
   },
   {
    "duration": 8,
    "start_time": "2022-01-29T08:18:36.548Z"
   },
   {
    "duration": 49,
    "start_time": "2022-01-29T08:18:36.557Z"
   },
   {
    "duration": 5,
    "start_time": "2022-01-29T08:18:36.607Z"
   },
   {
    "duration": 5,
    "start_time": "2022-01-29T08:18:36.614Z"
   },
   {
    "duration": 9,
    "start_time": "2022-01-29T08:18:36.621Z"
   },
   {
    "duration": 6,
    "start_time": "2022-01-29T08:18:36.632Z"
   },
   {
    "duration": 6,
    "start_time": "2022-01-29T08:18:36.640Z"
   },
   {
    "duration": 9,
    "start_time": "2022-01-29T08:18:36.648Z"
   },
   {
    "duration": 46,
    "start_time": "2022-01-29T08:18:36.659Z"
   },
   {
    "duration": 21,
    "start_time": "2022-01-29T08:18:36.707Z"
   },
   {
    "duration": 6,
    "start_time": "2022-01-29T08:18:36.730Z"
   },
   {
    "duration": 12,
    "start_time": "2022-01-29T08:18:36.738Z"
   },
   {
    "duration": 46,
    "start_time": "2022-01-29T08:18:36.754Z"
   },
   {
    "duration": 4,
    "start_time": "2022-01-29T08:18:36.802Z"
   },
   {
    "duration": 13,
    "start_time": "2022-01-29T08:18:36.807Z"
   },
   {
    "duration": 8,
    "start_time": "2022-01-29T08:18:36.822Z"
   },
   {
    "duration": 9,
    "start_time": "2022-01-29T08:18:36.831Z"
   },
   {
    "duration": 3,
    "start_time": "2022-01-29T08:18:36.842Z"
   },
   {
    "duration": 618,
    "start_time": "2022-01-29T08:18:36.846Z"
   },
   {
    "duration": 7,
    "start_time": "2022-01-29T08:18:37.466Z"
   },
   {
    "duration": 7,
    "start_time": "2022-01-29T08:18:37.474Z"
   },
   {
    "duration": 34,
    "start_time": "2022-01-29T08:18:37.482Z"
   },
   {
    "duration": 101,
    "start_time": "2022-01-29T08:18:37.518Z"
   },
   {
    "duration": 346,
    "start_time": "2022-01-29T08:18:37.621Z"
   },
   {
    "duration": 410,
    "start_time": "2022-01-29T08:18:37.969Z"
   },
   {
    "duration": 261,
    "start_time": "2022-01-29T08:18:38.381Z"
   },
   {
    "duration": 322,
    "start_time": "2022-01-29T08:18:38.644Z"
   },
   {
    "duration": 8,
    "start_time": "2022-01-29T08:18:38.968Z"
   },
   {
    "duration": 304,
    "start_time": "2022-01-29T08:18:38.978Z"
   },
   {
    "duration": 15,
    "start_time": "2022-01-29T08:18:39.283Z"
   },
   {
    "duration": 149,
    "start_time": "2022-01-29T08:18:39.300Z"
   },
   {
    "duration": 163,
    "start_time": "2022-01-29T08:18:39.451Z"
   },
   {
    "duration": 164,
    "start_time": "2022-01-29T08:18:39.615Z"
   },
   {
    "duration": 177,
    "start_time": "2022-01-29T08:18:39.781Z"
   },
   {
    "duration": 230,
    "start_time": "2022-01-29T08:18:39.960Z"
   },
   {
    "duration": 175,
    "start_time": "2022-01-29T08:18:40.192Z"
   },
   {
    "duration": 4,
    "start_time": "2022-01-29T08:18:40.370Z"
   },
   {
    "duration": 50,
    "start_time": "2022-01-29T08:18:40.376Z"
   },
   {
    "duration": 104,
    "start_time": "2022-01-29T08:18:40.428Z"
   },
   {
    "duration": 13,
    "start_time": "2022-01-29T08:18:40.535Z"
   },
   {
    "duration": 216,
    "start_time": "2022-01-29T08:18:40.550Z"
   },
   {
    "duration": 12,
    "start_time": "2022-01-29T08:18:40.768Z"
   },
   {
    "duration": 256,
    "start_time": "2022-01-29T08:18:40.781Z"
   },
   {
    "duration": 226,
    "start_time": "2022-01-29T08:18:41.039Z"
   },
   {
    "duration": 235,
    "start_time": "2022-01-29T08:18:41.267Z"
   },
   {
    "duration": 9,
    "start_time": "2022-01-29T08:18:41.503Z"
   },
   {
    "duration": 17,
    "start_time": "2022-01-29T08:18:41.513Z"
   },
   {
    "duration": 3,
    "start_time": "2022-01-29T08:18:41.532Z"
   },
   {
    "duration": 9,
    "start_time": "2022-01-29T08:18:41.537Z"
   },
   {
    "duration": 8,
    "start_time": "2022-01-29T08:18:41.548Z"
   },
   {
    "duration": 428,
    "start_time": "2022-01-29T08:18:41.557Z"
   },
   {
    "duration": 14,
    "start_time": "2022-01-29T08:18:41.987Z"
   },
   {
    "duration": 30,
    "start_time": "2022-01-29T08:18:42.003Z"
   },
   {
    "duration": 415,
    "start_time": "2022-01-29T08:18:42.035Z"
   },
   {
    "duration": 475,
    "start_time": "2022-01-29T08:18:42.452Z"
   },
   {
    "duration": 232,
    "start_time": "2022-01-29T08:18:42.929Z"
   },
   {
    "duration": 253,
    "start_time": "2022-01-29T08:18:43.163Z"
   },
   {
    "duration": 262,
    "start_time": "2022-01-29T08:18:43.418Z"
   },
   {
    "duration": 247,
    "start_time": "2022-01-29T08:18:43.682Z"
   },
   {
    "duration": 324,
    "start_time": "2022-01-29T08:18:43.930Z"
   },
   {
    "duration": 234,
    "start_time": "2022-01-29T08:18:44.256Z"
   },
   {
    "duration": 228,
    "start_time": "2022-01-29T08:18:44.491Z"
   },
   {
    "duration": 239,
    "start_time": "2022-01-29T08:18:44.721Z"
   },
   {
    "duration": 245,
    "start_time": "2022-01-29T08:18:44.962Z"
   },
   {
    "duration": 253,
    "start_time": "2022-01-29T08:18:45.208Z"
   },
   {
    "duration": 53,
    "start_time": "2022-01-29T08:18:45.463Z"
   },
   {
    "duration": 329,
    "start_time": "2022-01-29T08:18:45.523Z"
   },
   {
    "duration": 229,
    "start_time": "2022-01-29T08:18:45.854Z"
   },
   {
    "duration": 253,
    "start_time": "2022-01-29T08:18:46.085Z"
   },
   {
    "duration": 232,
    "start_time": "2022-01-29T08:18:46.340Z"
   },
   {
    "duration": 250,
    "start_time": "2022-01-29T08:18:46.574Z"
   },
   {
    "duration": 234,
    "start_time": "2022-01-29T08:18:46.826Z"
   },
   {
    "duration": 229,
    "start_time": "2022-01-29T08:18:47.061Z"
   },
   {
    "duration": 232,
    "start_time": "2022-01-29T08:18:47.291Z"
   },
   {
    "duration": 227,
    "start_time": "2022-01-29T08:18:47.525Z"
   },
   {
    "duration": 36,
    "start_time": "2022-01-29T08:24:22.914Z"
   },
   {
    "duration": 45,
    "start_time": "2022-01-29T08:24:56.618Z"
   },
   {
    "duration": 436,
    "start_time": "2022-01-29T08:26:30.593Z"
   },
   {
    "duration": 255,
    "start_time": "2022-01-29T08:26:53.597Z"
   },
   {
    "duration": 258,
    "start_time": "2022-01-29T08:26:59.345Z"
   },
   {
    "duration": 499,
    "start_time": "2022-01-29T08:27:39.953Z"
   },
   {
    "duration": 251,
    "start_time": "2022-01-29T08:27:41.625Z"
   },
   {
    "duration": 248,
    "start_time": "2022-01-29T08:30:16.600Z"
   },
   {
    "duration": 231,
    "start_time": "2022-01-29T08:30:45.612Z"
   },
   {
    "duration": 253,
    "start_time": "2022-01-29T08:31:51.204Z"
   },
   {
    "duration": 231,
    "start_time": "2022-01-29T08:32:30.728Z"
   },
   {
    "duration": 217,
    "start_time": "2022-01-29T08:32:38.694Z"
   },
   {
    "duration": 223,
    "start_time": "2022-01-29T08:32:41.847Z"
   },
   {
    "duration": 246,
    "start_time": "2022-01-29T08:32:45.489Z"
   },
   {
    "duration": 231,
    "start_time": "2022-01-29T08:32:55.702Z"
   },
   {
    "duration": 231,
    "start_time": "2022-01-29T08:33:17.673Z"
   },
   {
    "duration": 228,
    "start_time": "2022-01-29T08:33:32.735Z"
   },
   {
    "duration": 236,
    "start_time": "2022-01-29T08:33:38.972Z"
   },
   {
    "duration": 224,
    "start_time": "2022-01-29T08:33:45.777Z"
   },
   {
    "duration": 206,
    "start_time": "2022-01-29T08:34:35.217Z"
   },
   {
    "duration": 230,
    "start_time": "2022-01-29T08:35:50.909Z"
   },
   {
    "duration": 232,
    "start_time": "2022-01-29T08:36:27.973Z"
   },
   {
    "duration": 229,
    "start_time": "2022-01-29T08:36:57.992Z"
   },
   {
    "duration": 3,
    "start_time": "2022-01-29T08:39:14.789Z"
   },
   {
    "duration": 79,
    "start_time": "2022-01-29T08:39:14.795Z"
   },
   {
    "duration": 11,
    "start_time": "2022-01-29T08:39:14.876Z"
   },
   {
    "duration": 32,
    "start_time": "2022-01-29T08:39:14.889Z"
   },
   {
    "duration": 88,
    "start_time": "2022-01-29T08:39:14.923Z"
   },
   {
    "duration": 10,
    "start_time": "2022-01-29T08:39:15.013Z"
   },
   {
    "duration": 29,
    "start_time": "2022-01-29T08:39:15.025Z"
   },
   {
    "duration": 6,
    "start_time": "2022-01-29T08:39:15.056Z"
   },
   {
    "duration": 40,
    "start_time": "2022-01-29T08:39:15.065Z"
   },
   {
    "duration": 13,
    "start_time": "2022-01-29T08:39:15.108Z"
   },
   {
    "duration": 18,
    "start_time": "2022-01-29T08:39:15.122Z"
   },
   {
    "duration": 7,
    "start_time": "2022-01-29T08:39:15.142Z"
   },
   {
    "duration": 11,
    "start_time": "2022-01-29T08:39:15.151Z"
   },
   {
    "duration": 6,
    "start_time": "2022-01-29T08:39:15.164Z"
   },
   {
    "duration": 6,
    "start_time": "2022-01-29T08:39:15.199Z"
   },
   {
    "duration": 16,
    "start_time": "2022-01-29T08:39:15.207Z"
   },
   {
    "duration": 5,
    "start_time": "2022-01-29T08:39:15.225Z"
   },
   {
    "duration": 6,
    "start_time": "2022-01-29T08:39:15.232Z"
   },
   {
    "duration": 6,
    "start_time": "2022-01-29T08:39:15.240Z"
   },
   {
    "duration": 5,
    "start_time": "2022-01-29T08:39:15.248Z"
   },
   {
    "duration": 47,
    "start_time": "2022-01-29T08:39:15.255Z"
   },
   {
    "duration": 9,
    "start_time": "2022-01-29T08:39:15.304Z"
   },
   {
    "duration": 8,
    "start_time": "2022-01-29T08:39:15.315Z"
   },
   {
    "duration": 21,
    "start_time": "2022-01-29T08:39:15.325Z"
   },
   {
    "duration": 7,
    "start_time": "2022-01-29T08:39:15.348Z"
   },
   {
    "duration": 14,
    "start_time": "2022-01-29T08:39:15.399Z"
   },
   {
    "duration": 12,
    "start_time": "2022-01-29T08:39:15.418Z"
   },
   {
    "duration": 7,
    "start_time": "2022-01-29T08:39:15.434Z"
   },
   {
    "duration": 14,
    "start_time": "2022-01-29T08:39:15.443Z"
   },
   {
    "duration": 9,
    "start_time": "2022-01-29T08:39:15.459Z"
   },
   {
    "duration": 10,
    "start_time": "2022-01-29T08:39:15.499Z"
   },
   {
    "duration": 3,
    "start_time": "2022-01-29T08:39:15.511Z"
   },
   {
    "duration": 764,
    "start_time": "2022-01-29T08:39:15.516Z"
   },
   {
    "duration": 17,
    "start_time": "2022-01-29T08:39:16.282Z"
   },
   {
    "duration": 12,
    "start_time": "2022-01-29T08:39:16.302Z"
   },
   {
    "duration": 40,
    "start_time": "2022-01-29T08:39:16.316Z"
   },
   {
    "duration": 116,
    "start_time": "2022-01-29T08:39:16.359Z"
   },
   {
    "duration": 321,
    "start_time": "2022-01-29T08:39:16.477Z"
   },
   {
    "duration": 433,
    "start_time": "2022-01-29T08:39:16.800Z"
   },
   {
    "duration": 270,
    "start_time": "2022-01-29T08:39:17.235Z"
   },
   {
    "duration": 347,
    "start_time": "2022-01-29T08:39:17.507Z"
   },
   {
    "duration": 9,
    "start_time": "2022-01-29T08:39:17.855Z"
   },
   {
    "duration": 308,
    "start_time": "2022-01-29T08:39:17.866Z"
   },
   {
    "duration": 4,
    "start_time": "2022-01-29T08:39:18.176Z"
   },
   {
    "duration": 157,
    "start_time": "2022-01-29T08:39:18.182Z"
   },
   {
    "duration": 160,
    "start_time": "2022-01-29T08:39:18.341Z"
   },
   {
    "duration": 171,
    "start_time": "2022-01-29T08:39:18.503Z"
   },
   {
    "duration": 183,
    "start_time": "2022-01-29T08:39:18.676Z"
   },
   {
    "duration": 177,
    "start_time": "2022-01-29T08:39:18.861Z"
   },
   {
    "duration": 172,
    "start_time": "2022-01-29T08:39:19.040Z"
   },
   {
    "duration": 4,
    "start_time": "2022-01-29T08:39:19.214Z"
   },
   {
    "duration": 39,
    "start_time": "2022-01-29T08:39:19.219Z"
   },
   {
    "duration": 112,
    "start_time": "2022-01-29T08:39:19.260Z"
   },
   {
    "duration": 25,
    "start_time": "2022-01-29T08:39:19.374Z"
   },
   {
    "duration": 211,
    "start_time": "2022-01-29T08:39:19.402Z"
   },
   {
    "duration": 11,
    "start_time": "2022-01-29T08:39:19.615Z"
   },
   {
    "duration": 259,
    "start_time": "2022-01-29T08:39:19.628Z"
   },
   {
    "duration": 240,
    "start_time": "2022-01-29T08:39:19.889Z"
   },
   {
    "duration": 238,
    "start_time": "2022-01-29T08:39:20.132Z"
   },
   {
    "duration": 9,
    "start_time": "2022-01-29T08:39:20.373Z"
   },
   {
    "duration": 29,
    "start_time": "2022-01-29T08:39:20.384Z"
   },
   {
    "duration": 4,
    "start_time": "2022-01-29T08:39:20.415Z"
   },
   {
    "duration": 13,
    "start_time": "2022-01-29T08:39:20.420Z"
   },
   {
    "duration": 10,
    "start_time": "2022-01-29T08:39:20.435Z"
   },
   {
    "duration": 453,
    "start_time": "2022-01-29T08:39:20.447Z"
   },
   {
    "duration": 11,
    "start_time": "2022-01-29T08:39:20.902Z"
   },
   {
    "duration": 216,
    "start_time": "2022-01-29T08:39:20.914Z"
   },
   {
    "duration": 416,
    "start_time": "2022-01-29T08:39:21.131Z"
   },
   {
    "duration": 268,
    "start_time": "2022-01-29T08:39:21.549Z"
   },
   {
    "duration": 429,
    "start_time": "2022-01-29T08:39:21.819Z"
   },
   {
    "duration": 238,
    "start_time": "2022-01-29T08:39:22.250Z"
   },
   {
    "duration": 279,
    "start_time": "2022-01-29T08:39:22.490Z"
   },
   {
    "duration": 269,
    "start_time": "2022-01-29T08:39:22.771Z"
   },
   {
    "duration": 258,
    "start_time": "2022-01-29T08:39:23.042Z"
   },
   {
    "duration": 336,
    "start_time": "2022-01-29T08:39:23.302Z"
   },
   {
    "duration": 227,
    "start_time": "2022-01-29T08:39:23.640Z"
   },
   {
    "duration": 215,
    "start_time": "2022-01-29T08:39:23.868Z"
   },
   {
    "duration": 261,
    "start_time": "2022-01-29T08:39:24.085Z"
   },
   {
    "duration": 266,
    "start_time": "2022-01-29T08:39:24.348Z"
   },
   {
    "duration": 244,
    "start_time": "2022-01-29T08:39:24.616Z"
   },
   {
    "duration": 57,
    "start_time": "2022-01-29T08:39:24.866Z"
   },
   {
    "duration": 239,
    "start_time": "2022-01-29T08:39:24.925Z"
   },
   {
    "duration": 257,
    "start_time": "2022-01-29T08:39:25.166Z"
   },
   {
    "duration": 240,
    "start_time": "2022-01-29T08:39:25.425Z"
   },
   {
    "duration": 240,
    "start_time": "2022-01-29T08:39:25.667Z"
   },
   {
    "duration": 255,
    "start_time": "2022-01-29T08:39:25.909Z"
   },
   {
    "duration": 257,
    "start_time": "2022-01-29T08:39:26.166Z"
   },
   {
    "duration": 245,
    "start_time": "2022-01-29T08:39:26.426Z"
   },
   {
    "duration": 426,
    "start_time": "2022-01-29T08:39:26.674Z"
   },
   {
    "duration": 258,
    "start_time": "2022-01-29T08:39:27.103Z"
   },
   {
    "duration": 260,
    "start_time": "2022-01-29T08:39:27.363Z"
   },
   {
    "duration": 37,
    "start_time": "2022-01-29T08:40:29.431Z"
   },
   {
    "duration": 47,
    "start_time": "2022-01-29T08:49:08.173Z"
   },
   {
    "duration": 49,
    "start_time": "2022-01-29T08:49:34.189Z"
   },
   {
    "duration": 236,
    "start_time": "2022-01-29T09:00:29.295Z"
   },
   {
    "duration": 90,
    "start_time": "2022-01-29T09:23:01.733Z"
   },
   {
    "duration": 102,
    "start_time": "2022-01-29T09:23:05.464Z"
   },
   {
    "duration": 89,
    "start_time": "2022-01-29T09:23:17.594Z"
   },
   {
    "duration": 3,
    "start_time": "2022-01-29T09:25:36.759Z"
   },
   {
    "duration": 77,
    "start_time": "2022-01-29T09:25:36.764Z"
   },
   {
    "duration": 10,
    "start_time": "2022-01-29T09:25:36.843Z"
   },
   {
    "duration": 57,
    "start_time": "2022-01-29T09:25:36.856Z"
   },
   {
    "duration": 109,
    "start_time": "2022-01-29T09:25:36.915Z"
   },
   {
    "duration": 10,
    "start_time": "2022-01-29T09:25:37.026Z"
   },
   {
    "duration": 29,
    "start_time": "2022-01-29T09:25:37.038Z"
   },
   {
    "duration": 5,
    "start_time": "2022-01-29T09:25:37.069Z"
   },
   {
    "duration": 11,
    "start_time": "2022-01-29T09:25:37.076Z"
   },
   {
    "duration": 16,
    "start_time": "2022-01-29T09:25:37.089Z"
   },
   {
    "duration": 7,
    "start_time": "2022-01-29T09:25:38.532Z"
   },
   {
    "duration": 6,
    "start_time": "2022-01-29T09:25:38.541Z"
   },
   {
    "duration": 8,
    "start_time": "2022-01-29T09:25:38.549Z"
   },
   {
    "duration": 5,
    "start_time": "2022-01-29T09:25:38.559Z"
   },
   {
    "duration": 34,
    "start_time": "2022-01-29T09:25:38.566Z"
   },
   {
    "duration": 14,
    "start_time": "2022-01-29T09:25:38.602Z"
   },
   {
    "duration": 4,
    "start_time": "2022-01-29T09:25:38.618Z"
   },
   {
    "duration": 5,
    "start_time": "2022-01-29T09:25:38.625Z"
   },
   {
    "duration": 4,
    "start_time": "2022-01-29T09:25:38.632Z"
   },
   {
    "duration": 4,
    "start_time": "2022-01-29T09:25:38.638Z"
   },
   {
    "duration": 7,
    "start_time": "2022-01-29T09:25:38.644Z"
   },
   {
    "duration": 10,
    "start_time": "2022-01-29T09:25:38.653Z"
   },
   {
    "duration": 6,
    "start_time": "2022-01-29T09:25:38.664Z"
   },
   {
    "duration": 27,
    "start_time": "2022-01-29T09:25:38.672Z"
   },
   {
    "duration": 6,
    "start_time": "2022-01-29T09:25:38.701Z"
   },
   {
    "duration": 15,
    "start_time": "2022-01-29T09:25:38.709Z"
   },
   {
    "duration": 14,
    "start_time": "2022-01-29T09:25:38.726Z"
   },
   {
    "duration": 7,
    "start_time": "2022-01-29T09:25:38.742Z"
   },
   {
    "duration": 16,
    "start_time": "2022-01-29T09:25:38.751Z"
   },
   {
    "duration": 8,
    "start_time": "2022-01-29T09:25:38.769Z"
   },
   {
    "duration": 9,
    "start_time": "2022-01-29T09:25:38.779Z"
   },
   {
    "duration": 6,
    "start_time": "2022-01-29T09:25:38.789Z"
   },
   {
    "duration": 706,
    "start_time": "2022-01-29T09:25:38.799Z"
   },
   {
    "duration": 8,
    "start_time": "2022-01-29T09:25:39.507Z"
   },
   {
    "duration": 7,
    "start_time": "2022-01-29T09:25:39.517Z"
   },
   {
    "duration": 23,
    "start_time": "2022-01-29T09:25:39.526Z"
   },
   {
    "duration": 126,
    "start_time": "2022-01-29T09:25:39.551Z"
   },
   {
    "duration": 329,
    "start_time": "2022-01-29T09:25:39.678Z"
   },
   {
    "duration": 436,
    "start_time": "2022-01-29T09:25:40.009Z"
   },
   {
    "duration": 276,
    "start_time": "2022-01-29T09:25:40.447Z"
   },
   {
    "duration": 335,
    "start_time": "2022-01-29T09:25:40.725Z"
   },
   {
    "duration": 9,
    "start_time": "2022-01-29T09:25:41.062Z"
   },
   {
    "duration": 322,
    "start_time": "2022-01-29T09:25:41.073Z"
   },
   {
    "duration": 4,
    "start_time": "2022-01-29T09:25:41.398Z"
   },
   {
    "duration": 159,
    "start_time": "2022-01-29T09:25:41.404Z"
   },
   {
    "duration": 164,
    "start_time": "2022-01-29T09:25:41.564Z"
   },
   {
    "duration": 174,
    "start_time": "2022-01-29T09:25:41.730Z"
   },
   {
    "duration": 178,
    "start_time": "2022-01-29T09:25:41.906Z"
   },
   {
    "duration": 174,
    "start_time": "2022-01-29T09:25:42.086Z"
   },
   {
    "duration": 175,
    "start_time": "2022-01-29T09:25:42.262Z"
   },
   {
    "duration": 4,
    "start_time": "2022-01-29T09:25:42.438Z"
   },
   {
    "duration": 42,
    "start_time": "2022-01-29T09:25:42.444Z"
   },
   {
    "duration": 120,
    "start_time": "2022-01-29T09:25:42.488Z"
   },
   {
    "duration": 13,
    "start_time": "2022-01-29T09:25:42.610Z"
   },
   {
    "duration": 221,
    "start_time": "2022-01-29T09:25:42.625Z"
   },
   {
    "duration": 11,
    "start_time": "2022-01-29T09:25:42.848Z"
   },
   {
    "duration": 267,
    "start_time": "2022-01-29T09:25:42.861Z"
   },
   {
    "duration": 241,
    "start_time": "2022-01-29T09:25:43.130Z"
   },
   {
    "duration": 238,
    "start_time": "2022-01-29T09:25:43.373Z"
   },
   {
    "duration": 8,
    "start_time": "2022-01-29T09:25:43.613Z"
   },
   {
    "duration": 19,
    "start_time": "2022-01-29T09:25:43.623Z"
   },
   {
    "duration": 4,
    "start_time": "2022-01-29T09:25:43.643Z"
   },
   {
    "duration": 9,
    "start_time": "2022-01-29T09:25:43.649Z"
   },
   {
    "duration": 40,
    "start_time": "2022-01-29T09:25:43.659Z"
   },
   {
    "duration": 425,
    "start_time": "2022-01-29T09:25:43.701Z"
   },
   {
    "duration": 10,
    "start_time": "2022-01-29T09:25:44.129Z"
   },
   {
    "duration": 274,
    "start_time": "2022-01-29T09:25:44.141Z"
   },
   {
    "duration": 417,
    "start_time": "2022-01-29T09:25:44.417Z"
   },
   {
    "duration": 284,
    "start_time": "2022-01-29T09:25:44.836Z"
   },
   {
    "duration": 413,
    "start_time": "2022-01-29T09:25:45.122Z"
   },
   {
    "duration": 241,
    "start_time": "2022-01-29T09:25:45.537Z"
   },
   {
    "duration": 265,
    "start_time": "2022-01-29T09:25:45.780Z"
   },
   {
    "duration": 279,
    "start_time": "2022-01-29T09:25:46.047Z"
   },
   {
    "duration": 270,
    "start_time": "2022-01-29T09:25:46.328Z"
   },
   {
    "duration": 322,
    "start_time": "2022-01-29T09:25:46.600Z"
   },
   {
    "duration": 231,
    "start_time": "2022-01-29T09:25:46.924Z"
   },
   {
    "duration": 216,
    "start_time": "2022-01-29T09:25:47.157Z"
   },
   {
    "duration": 265,
    "start_time": "2022-01-29T09:25:47.382Z"
   },
   {
    "duration": 246,
    "start_time": "2022-01-29T09:25:47.649Z"
   },
   {
    "duration": 238,
    "start_time": "2022-01-29T09:25:47.898Z"
   },
   {
    "duration": 44,
    "start_time": "2022-01-29T09:25:48.137Z"
   },
   {
    "duration": 255,
    "start_time": "2022-01-29T09:25:48.183Z"
   },
   {
    "duration": 245,
    "start_time": "2022-01-29T09:25:48.440Z"
   },
   {
    "duration": 234,
    "start_time": "2022-01-29T09:25:48.687Z"
   },
   {
    "duration": 247,
    "start_time": "2022-01-29T09:25:48.923Z"
   },
   {
    "duration": 241,
    "start_time": "2022-01-29T09:25:49.172Z"
   },
   {
    "duration": 259,
    "start_time": "2022-01-29T09:25:49.415Z"
   },
   {
    "duration": 229,
    "start_time": "2022-01-29T09:25:49.676Z"
   },
   {
    "duration": 236,
    "start_time": "2022-01-29T09:25:49.907Z"
   },
   {
    "duration": 251,
    "start_time": "2022-01-29T09:25:50.144Z"
   },
   {
    "duration": 248,
    "start_time": "2022-01-29T09:25:50.396Z"
   },
   {
    "duration": 242,
    "start_time": "2022-01-29T09:25:50.646Z"
   },
   {
    "duration": 795,
    "start_time": "2022-01-29T09:27:23.876Z"
   },
   {
    "duration": 77,
    "start_time": "2022-01-29T09:27:24.674Z"
   },
   {
    "duration": 14,
    "start_time": "2022-01-29T09:27:24.753Z"
   },
   {
    "duration": 46,
    "start_time": "2022-01-29T09:27:24.770Z"
   },
   {
    "duration": 93,
    "start_time": "2022-01-29T09:27:24.818Z"
   },
   {
    "duration": 11,
    "start_time": "2022-01-29T09:27:24.913Z"
   },
   {
    "duration": 29,
    "start_time": "2022-01-29T09:27:24.926Z"
   },
   {
    "duration": 40,
    "start_time": "2022-01-29T09:27:24.958Z"
   },
   {
    "duration": 11,
    "start_time": "2022-01-29T09:27:25.002Z"
   },
   {
    "duration": 18,
    "start_time": "2022-01-29T09:27:25.016Z"
   },
   {
    "duration": 15,
    "start_time": "2022-01-29T09:27:25.036Z"
   },
   {
    "duration": 11,
    "start_time": "2022-01-29T09:27:25.053Z"
   },
   {
    "duration": 18,
    "start_time": "2022-01-29T09:27:25.066Z"
   },
   {
    "duration": 15,
    "start_time": "2022-01-29T09:27:25.086Z"
   },
   {
    "duration": 16,
    "start_time": "2022-01-29T09:27:25.103Z"
   },
   {
    "duration": 30,
    "start_time": "2022-01-29T09:27:25.121Z"
   },
   {
    "duration": 8,
    "start_time": "2022-01-29T09:27:25.153Z"
   },
   {
    "duration": 12,
    "start_time": "2022-01-29T09:27:25.163Z"
   },
   {
    "duration": 7,
    "start_time": "2022-01-29T09:27:25.177Z"
   },
   {
    "duration": 6,
    "start_time": "2022-01-29T09:27:25.185Z"
   },
   {
    "duration": 12,
    "start_time": "2022-01-29T09:27:25.192Z"
   },
   {
    "duration": 13,
    "start_time": "2022-01-29T09:27:25.206Z"
   },
   {
    "duration": 7,
    "start_time": "2022-01-29T09:27:25.220Z"
   },
   {
    "duration": 21,
    "start_time": "2022-01-29T09:27:25.229Z"
   },
   {
    "duration": 7,
    "start_time": "2022-01-29T09:27:25.251Z"
   },
   {
    "duration": 51,
    "start_time": "2022-01-29T09:27:25.260Z"
   },
   {
    "duration": 12,
    "start_time": "2022-01-29T09:27:25.318Z"
   },
   {
    "duration": 9,
    "start_time": "2022-01-29T09:27:25.333Z"
   },
   {
    "duration": 13,
    "start_time": "2022-01-29T09:27:25.344Z"
   },
   {
    "duration": 9,
    "start_time": "2022-01-29T09:27:25.358Z"
   },
   {
    "duration": 34,
    "start_time": "2022-01-29T09:27:25.369Z"
   },
   {
    "duration": 4,
    "start_time": "2022-01-29T09:27:25.404Z"
   },
   {
    "duration": 624,
    "start_time": "2022-01-29T09:27:25.410Z"
   },
   {
    "duration": 8,
    "start_time": "2022-01-29T09:27:26.036Z"
   },
   {
    "duration": 11,
    "start_time": "2022-01-29T09:27:26.045Z"
   },
   {
    "duration": 27,
    "start_time": "2022-01-29T09:27:26.057Z"
   },
   {
    "duration": 116,
    "start_time": "2022-01-29T09:27:26.086Z"
   },
   {
    "duration": 367,
    "start_time": "2022-01-29T09:27:26.204Z"
   },
   {
    "duration": 430,
    "start_time": "2022-01-29T09:27:26.574Z"
   },
   {
    "duration": 290,
    "start_time": "2022-01-29T09:27:27.006Z"
   },
   {
    "duration": 345,
    "start_time": "2022-01-29T09:27:27.299Z"
   },
   {
    "duration": 9,
    "start_time": "2022-01-29T09:27:27.646Z"
   },
   {
    "duration": 312,
    "start_time": "2022-01-29T09:27:27.657Z"
   },
   {
    "duration": 4,
    "start_time": "2022-01-29T09:27:27.971Z"
   },
   {
    "duration": 158,
    "start_time": "2022-01-29T09:27:27.977Z"
   },
   {
    "duration": 172,
    "start_time": "2022-01-29T09:27:28.137Z"
   },
   {
    "duration": 184,
    "start_time": "2022-01-29T09:27:28.311Z"
   },
   {
    "duration": 186,
    "start_time": "2022-01-29T09:27:28.496Z"
   },
   {
    "duration": 245,
    "start_time": "2022-01-29T09:27:28.683Z"
   },
   {
    "duration": 162,
    "start_time": "2022-01-29T09:27:28.930Z"
   },
   {
    "duration": 5,
    "start_time": "2022-01-29T09:27:29.094Z"
   },
   {
    "duration": 50,
    "start_time": "2022-01-29T09:27:29.100Z"
   },
   {
    "duration": 103,
    "start_time": "2022-01-29T09:27:29.152Z"
   },
   {
    "duration": 13,
    "start_time": "2022-01-29T09:27:29.257Z"
   },
   {
    "duration": 220,
    "start_time": "2022-01-29T09:27:29.272Z"
   },
   {
    "duration": 13,
    "start_time": "2022-01-29T09:27:29.494Z"
   },
   {
    "duration": 265,
    "start_time": "2022-01-29T09:27:29.509Z"
   },
   {
    "duration": 237,
    "start_time": "2022-01-29T09:27:29.776Z"
   },
   {
    "duration": 234,
    "start_time": "2022-01-29T09:27:30.014Z"
   },
   {
    "duration": 10,
    "start_time": "2022-01-29T09:27:30.250Z"
   },
   {
    "duration": 21,
    "start_time": "2022-01-29T09:27:30.262Z"
   },
   {
    "duration": 15,
    "start_time": "2022-01-29T09:27:30.285Z"
   },
   {
    "duration": 17,
    "start_time": "2022-01-29T09:27:30.302Z"
   },
   {
    "duration": 18,
    "start_time": "2022-01-29T09:27:30.320Z"
   },
   {
    "duration": 442,
    "start_time": "2022-01-29T09:27:30.340Z"
   },
   {
    "duration": 16,
    "start_time": "2022-01-29T09:27:30.783Z"
   },
   {
    "duration": 52,
    "start_time": "2022-01-29T09:27:30.802Z"
   },
   {
    "duration": 410,
    "start_time": "2022-01-29T09:27:30.855Z"
   },
   {
    "duration": 287,
    "start_time": "2022-01-29T09:27:31.268Z"
   },
   {
    "duration": 498,
    "start_time": "2022-01-29T09:27:31.557Z"
   },
   {
    "duration": 236,
    "start_time": "2022-01-29T09:27:32.056Z"
   },
   {
    "duration": 268,
    "start_time": "2022-01-29T09:27:32.298Z"
   },
   {
    "duration": 276,
    "start_time": "2022-01-29T09:27:32.568Z"
   },
   {
    "duration": 270,
    "start_time": "2022-01-29T09:27:32.846Z"
   },
   {
    "duration": 337,
    "start_time": "2022-01-29T09:27:33.118Z"
   },
   {
    "duration": 242,
    "start_time": "2022-01-29T09:27:33.457Z"
   },
   {
    "duration": 228,
    "start_time": "2022-01-29T09:27:33.701Z"
   },
   {
    "duration": 272,
    "start_time": "2022-01-29T09:27:33.931Z"
   },
   {
    "duration": 347,
    "start_time": "2022-01-29T09:27:34.205Z"
   },
   {
    "duration": 244,
    "start_time": "2022-01-29T09:27:34.554Z"
   },
   {
    "duration": 47,
    "start_time": "2022-01-29T09:27:34.805Z"
   },
   {
    "duration": 260,
    "start_time": "2022-01-29T09:27:34.855Z"
   },
   {
    "duration": 255,
    "start_time": "2022-01-29T09:27:35.117Z"
   },
   {
    "duration": 244,
    "start_time": "2022-01-29T09:27:35.374Z"
   },
   {
    "duration": 255,
    "start_time": "2022-01-29T09:27:35.620Z"
   },
   {
    "duration": 254,
    "start_time": "2022-01-29T09:27:35.877Z"
   },
   {
    "duration": 257,
    "start_time": "2022-01-29T09:27:36.134Z"
   },
   {
    "duration": 230,
    "start_time": "2022-01-29T09:27:36.398Z"
   },
   {
    "duration": 230,
    "start_time": "2022-01-29T09:27:36.630Z"
   },
   {
    "duration": 248,
    "start_time": "2022-01-29T09:27:36.862Z"
   },
   {
    "duration": 252,
    "start_time": "2022-01-29T09:27:37.112Z"
   },
   {
    "duration": 250,
    "start_time": "2022-01-29T09:27:37.366Z"
   },
   {
    "duration": 640,
    "start_time": "2022-01-29T09:53:46.958Z"
   },
   {
    "duration": 69,
    "start_time": "2022-01-29T09:53:47.600Z"
   },
   {
    "duration": 13,
    "start_time": "2022-01-29T09:53:47.671Z"
   },
   {
    "duration": 37,
    "start_time": "2022-01-29T09:53:47.686Z"
   },
   {
    "duration": 88,
    "start_time": "2022-01-29T09:53:47.725Z"
   },
   {
    "duration": 9,
    "start_time": "2022-01-29T09:53:47.814Z"
   },
   {
    "duration": 28,
    "start_time": "2022-01-29T09:53:47.825Z"
   },
   {
    "duration": 6,
    "start_time": "2022-01-29T09:53:47.855Z"
   },
   {
    "duration": 34,
    "start_time": "2022-01-29T09:53:47.864Z"
   },
   {
    "duration": 13,
    "start_time": "2022-01-29T09:53:47.900Z"
   },
   {
    "duration": 11,
    "start_time": "2022-01-29T09:53:47.915Z"
   },
   {
    "duration": 5,
    "start_time": "2022-01-29T09:53:47.929Z"
   },
   {
    "duration": 13,
    "start_time": "2022-01-29T09:53:47.935Z"
   },
   {
    "duration": 5,
    "start_time": "2022-01-29T09:53:47.950Z"
   },
   {
    "duration": 8,
    "start_time": "2022-01-29T09:53:47.956Z"
   },
   {
    "duration": 46,
    "start_time": "2022-01-29T09:53:47.966Z"
   },
   {
    "duration": 5,
    "start_time": "2022-01-29T09:53:48.014Z"
   },
   {
    "duration": 9,
    "start_time": "2022-01-29T09:53:48.022Z"
   },
   {
    "duration": 6,
    "start_time": "2022-01-29T09:53:48.033Z"
   },
   {
    "duration": 5,
    "start_time": "2022-01-29T09:53:48.041Z"
   },
   {
    "duration": 8,
    "start_time": "2022-01-29T09:53:48.048Z"
   },
   {
    "duration": 42,
    "start_time": "2022-01-29T09:53:48.057Z"
   },
   {
    "duration": 6,
    "start_time": "2022-01-29T09:53:48.104Z"
   },
   {
    "duration": 22,
    "start_time": "2022-01-29T09:53:48.112Z"
   },
   {
    "duration": 5,
    "start_time": "2022-01-29T09:53:48.136Z"
   },
   {
    "duration": 14,
    "start_time": "2022-01-29T09:53:48.142Z"
   },
   {
    "duration": 45,
    "start_time": "2022-01-29T09:53:48.157Z"
   },
   {
    "duration": 4,
    "start_time": "2022-01-29T09:53:48.204Z"
   },
   {
    "duration": 14,
    "start_time": "2022-01-29T09:53:48.210Z"
   },
   {
    "duration": 8,
    "start_time": "2022-01-29T09:53:48.226Z"
   },
   {
    "duration": 8,
    "start_time": "2022-01-29T09:53:48.235Z"
   },
   {
    "duration": 3,
    "start_time": "2022-01-29T09:53:48.245Z"
   },
   {
    "duration": 655,
    "start_time": "2022-01-29T09:53:48.250Z"
   },
   {
    "duration": 7,
    "start_time": "2022-01-29T09:53:48.907Z"
   },
   {
    "duration": 7,
    "start_time": "2022-01-29T09:53:48.916Z"
   },
   {
    "duration": 27,
    "start_time": "2022-01-29T09:53:48.924Z"
   },
   {
    "duration": 121,
    "start_time": "2022-01-29T09:53:48.953Z"
   },
   {
    "duration": 351,
    "start_time": "2022-01-29T09:53:49.075Z"
   },
   {
    "duration": 433,
    "start_time": "2022-01-29T09:53:49.428Z"
   },
   {
    "duration": 277,
    "start_time": "2022-01-29T09:53:49.863Z"
   },
   {
    "duration": 332,
    "start_time": "2022-01-29T09:53:50.142Z"
   },
   {
    "duration": 9,
    "start_time": "2022-01-29T09:53:50.476Z"
   },
   {
    "duration": 296,
    "start_time": "2022-01-29T09:53:50.499Z"
   },
   {
    "duration": 4,
    "start_time": "2022-01-29T09:53:50.797Z"
   },
   {
    "duration": 171,
    "start_time": "2022-01-29T09:53:50.803Z"
   },
   {
    "duration": 191,
    "start_time": "2022-01-29T09:53:50.976Z"
   },
   {
    "duration": 217,
    "start_time": "2022-01-29T09:53:51.169Z"
   },
   {
    "duration": 199,
    "start_time": "2022-01-29T09:53:51.388Z"
   },
   {
    "duration": 335,
    "start_time": "2022-01-29T09:53:51.590Z"
   },
   {
    "duration": 220,
    "start_time": "2022-01-29T09:53:51.927Z"
   },
   {
    "duration": 3,
    "start_time": "2022-01-29T09:53:52.150Z"
   },
   {
    "duration": 54,
    "start_time": "2022-01-29T09:53:52.155Z"
   },
   {
    "duration": 135,
    "start_time": "2022-01-29T09:53:52.212Z"
   },
   {
    "duration": 20,
    "start_time": "2022-01-29T09:53:52.349Z"
   },
   {
    "duration": 260,
    "start_time": "2022-01-29T09:53:52.371Z"
   },
   {
    "duration": 14,
    "start_time": "2022-01-29T09:53:52.634Z"
   },
   {
    "duration": 317,
    "start_time": "2022-01-29T09:53:52.651Z"
   },
   {
    "duration": 281,
    "start_time": "2022-01-29T09:53:52.970Z"
   },
   {
    "duration": 275,
    "start_time": "2022-01-29T09:53:53.256Z"
   },
   {
    "duration": 8,
    "start_time": "2022-01-29T09:53:53.533Z"
   },
   {
    "duration": 18,
    "start_time": "2022-01-29T09:53:53.543Z"
   },
   {
    "duration": 3,
    "start_time": "2022-01-29T09:53:53.563Z"
   },
   {
    "duration": 31,
    "start_time": "2022-01-29T09:53:53.568Z"
   },
   {
    "duration": 9,
    "start_time": "2022-01-29T09:53:53.602Z"
   },
   {
    "duration": 454,
    "start_time": "2022-01-29T09:53:53.613Z"
   },
   {
    "duration": 13,
    "start_time": "2022-01-29T09:53:54.069Z"
   },
   {
    "duration": 47,
    "start_time": "2022-01-29T09:53:54.084Z"
   },
   {
    "duration": 420,
    "start_time": "2022-01-29T09:53:54.137Z"
   },
   {
    "duration": 282,
    "start_time": "2022-01-29T09:53:54.559Z"
   },
   {
    "duration": 479,
    "start_time": "2022-01-29T09:53:54.843Z"
   },
   {
    "duration": 236,
    "start_time": "2022-01-29T09:53:55.324Z"
   },
   {
    "duration": 263,
    "start_time": "2022-01-29T09:53:55.562Z"
   },
   {
    "duration": 276,
    "start_time": "2022-01-29T09:53:55.827Z"
   },
   {
    "duration": 255,
    "start_time": "2022-01-29T09:53:56.105Z"
   },
   {
    "duration": 339,
    "start_time": "2022-01-29T09:53:56.362Z"
   },
   {
    "duration": 235,
    "start_time": "2022-01-29T09:53:56.703Z"
   },
   {
    "duration": 219,
    "start_time": "2022-01-29T09:53:56.939Z"
   },
   {
    "duration": 239,
    "start_time": "2022-01-29T09:53:57.160Z"
   },
   {
    "duration": 334,
    "start_time": "2022-01-29T09:53:57.401Z"
   },
   {
    "duration": 238,
    "start_time": "2022-01-29T09:53:57.738Z"
   },
   {
    "duration": 57,
    "start_time": "2022-01-29T09:53:57.977Z"
   },
   {
    "duration": 247,
    "start_time": "2022-01-29T09:53:58.036Z"
   },
   {
    "duration": 260,
    "start_time": "2022-01-29T09:53:58.284Z"
   },
   {
    "duration": 237,
    "start_time": "2022-01-29T09:53:58.546Z"
   },
   {
    "duration": 252,
    "start_time": "2022-01-29T09:53:58.785Z"
   },
   {
    "duration": 263,
    "start_time": "2022-01-29T09:53:59.039Z"
   },
   {
    "duration": 250,
    "start_time": "2022-01-29T09:53:59.304Z"
   },
   {
    "duration": 228,
    "start_time": "2022-01-29T09:53:59.556Z"
   },
   {
    "duration": 234,
    "start_time": "2022-01-29T09:53:59.786Z"
   },
   {
    "duration": 255,
    "start_time": "2022-01-29T09:54:00.022Z"
   },
   {
    "duration": 255,
    "start_time": "2022-01-29T09:54:00.279Z"
   },
   {
    "duration": 264,
    "start_time": "2022-01-29T09:54:00.536Z"
   }
  ],
  "kernelspec": {
   "display_name": "Python 3 (ipykernel)",
   "language": "python",
   "name": "python3"
  },
  "language_info": {
   "codemirror_mode": {
    "name": "ipython",
    "version": 3
   },
   "file_extension": ".py",
   "mimetype": "text/x-python",
   "name": "python",
   "nbconvert_exporter": "python",
   "pygments_lexer": "ipython3",
   "version": "3.9.7"
  },
  "latex_envs": {
   "LaTeX_envs_menu_present": true,
   "autoclose": false,
   "autocomplete": true,
   "bibliofile": "biblio.bib",
   "cite_by": "apalike",
   "current_citInitial": 1,
   "eqLabelWithNumbers": true,
   "eqNumInitial": 1,
   "hotkeys": {
    "equation": "Ctrl-E",
    "itemize": "Ctrl-I"
   },
   "labels_anchors": false,
   "latex_user_defs": false,
   "report_style_numbering": false,
   "user_envs_cfg": false
  },
  "toc": {
   "base_numbering": 1,
   "nav_menu": {},
   "number_sections": true,
   "sideBar": true,
   "skip_h1_title": true,
   "title_cell": "Содержание",
   "title_sidebar": "Contents",
   "toc_cell": true,
   "toc_position": {
    "height": "596.45px",
    "left": "234px",
    "top": "110.783px",
    "width": "203px"
   },
   "toc_section_display": true,
   "toc_window_display": true
  }
 },
 "nbformat": 4,
 "nbformat_minor": 2
}
