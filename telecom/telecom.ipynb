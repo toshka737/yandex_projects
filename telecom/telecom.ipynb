{
 "cells": [
  {
   "cell_type": "markdown",
   "id": "115a9ba5",
   "metadata": {},
   "source": [
    "# Определение перспективного тарифа для телеком-компании"
   ]
  },
  {
   "cell_type": "markdown",
   "id": "1725287a",
   "metadata": {},
   "source": [
    "Клиентам предлагают два тарифных плана: «Смарт» и «Ультра». \n",
    "Предстоит сделать предварительный анализ тарифов на небольшой выборке клиентов. В нашем распоряжении данные 500 пользователей «Мегалайна»: кто они, откуда, каким тарифом пользуются, сколько звонков и сообщений каждый отправил за 2018 год. Нужно проанализировать поведение клиентов и сделать вывод — какой тариф лучше."
   ]
  },
  {
   "cell_type": "markdown",
   "id": "e0f77d03",
   "metadata": {},
   "source": [
    "**Цель исследования** - проверить две гипотезы:<br>  \n",
    "•\tсредняя выручка пользователей тарифов «Ультра» и «Смарт» различаются;<br>\n",
    "•\tсредняя выручка пользователи из Москвы отличается от выручки пользователей из других регионов.<br> \n",
    "<br> \n",
    "**Описание тарифов**<br>\n",
    "<br>\n",
    "**Тариф «Смарт»**<br>\n",
    "1.\tЕжемесячная плата: 550 рублей<br>\n",
    "2.\tВключено 500 минут разговора, 50 сообщений и 15 Гб интернет-трафика<br>\n",
    "3.\tСтоимость услуг сверх тарифного пакета: 1. минута разговора: 3 рубля («Мегалайн» всегда округляет вверх значения минут и мегабайтов. Если пользователь проговорил всего 1 секунду, в тарифе засчитывается целая минута); 2. сообщение: 3 рубля; 3. 1 Гб интернет-трафика: 200 рублей.<br>\n",
    "**Тариф «Ультра»**\n",
    "1.\tЕжемесячная плата: 1950 рублей<br>\n",
    "2.\tВключено 3000 минут разговора, 1000 сообщений и 30 Гб интернет-трафика<br>\n",
    "3.\tСтоимость услуг сверх тарифного пакета: 1. минута разговора: 1 рубль; 2. сообщение: 1 рубль; 3. 1 Гб интернет-трафика: 150 рублей.<br>\n",
    "**Примечание:** <br>\n",
    "«Мегалайн» всегда округляет секунды до минут, а мегабайты — до гигабайт. Каждый звонок округляется отдельно: даже если он длился всего 1 секунду, будет засчитан как 1 минута.<br>\n",
    "Для веб-трафика отдельные сессии не считаются. Вместо этого общая сумма за месяц округляется в бо́льшую сторону. Если абонент использует 1025 мегабайт в этом месяце, с него возьмут плату за 2 гигабайта.\n"
   ]
  },
  {
   "cell_type": "markdown",
   "id": "8cc2e4e2",
   "metadata": {},
   "source": [
    "**Описание данных**"
   ]
  },
  {
   "cell_type": "markdown",
   "id": "8fd5d076",
   "metadata": {},
   "source": [
    "**Таблица calls** (информация о звонках):<br>\n",
    "<br>\n",
    "•\t`id` — уникальный номер звонка<br>\n",
    "•\t`call_date` — дата звонка<br>\n",
    "•\t`duration` — длительность звонка в минутах<br>\n",
    "•\t`user_id` — идентификатор пользователя, сделавшего звонок<br>\n",
    "<br>\n",
    "**Таблица internet** (информация об интернет-сессиях):<br>\n",
    "<br>\n",
    "•\t`id` — уникальный номер сессии<br>\n",
    "•\t`mb_used` — объём потраченного за сессию интернет-трафика (в мегабайтах)<br>\n",
    "•\t`session_date` — дата интернет-сессии<br>\n",
    "•\t`user_id` — идентификатор пользователя<br>\n",
    "<br>\n",
    "**Таблица messages** (информация о сообщениях):<br>\n",
    "<br>\n",
    "•\t`id` — уникальный номер сообщения<br>\n",
    "•\t`message_date` — дата сообщения<br>\n",
    "•\t`user_id` — идентификатор пользователя, отправившего сообщение<br>\n",
    "<br>\n",
    "**Таблица tariffs**(информация о тарифах):<br>\n",
    "<br>\n",
    "•\t`tariff_name` — название тарифа<br>\n",
    "•\t`rub_monthly_fee` — ежемесячная абонентская плата в рублях<br>\n",
    "•\t`minutes_included` — количество минут разговора в месяц, включённых в абонентскую плату<br>\n",
    "•\t`messages_included` — количество сообщений в месяц, включённых в абонентскую плату<br>\n",
    "•\t`mb_per_month_included` — объём интернет-трафика, включённого в абонентскую плату (в мегабайтах)<br>\n",
    "•\t`rub_per_minute` — стоимость минуты разговора сверх тарифного пакета (например, если в тарифе 100 минут разговора в месяц, то со 101 минуты будет взиматься плата)<br>\n",
    "•\t`rub_per_message` — стоимость отправки сообщения сверх тарифного пакета<br>\n",
    "•\t`rub_per_gb` — стоимость дополнительного гигабайта интернет-трафика сверх тарифного пакета (1 гигабайт = 1024 мегабайта) <br> \n",
    "<br> \n",
    "**Таблица users**(информация о пользователях):<br>\n",
    "<br>\n",
    "•\t`user_id` — уникальный идентификатор пользователя<br>\n",
    "•\t`first_name` — имя пользователя<br>\n",
    "•\t`last_name` — фамилия пользователя<br>\n",
    "•\t`age` — возраст пользователя (годы)<br>\n",
    "•\t`reg_date` — дата подключения тарифа (день, месяц, год)<br>\n",
    "•\t`churn_date` — дата прекращения пользования тарифом (если значение пропущено, то тариф ещё действовал на момент выгрузки данных)<br>\n",
    "•\t`city` — город проживания пользователя<br>\n",
    "•\t`tarif` — название тарифного плана<br>"
   ]
  },
  {
   "cell_type": "markdown",
   "id": "b1a15e11",
   "metadata": {
    "toc": true
   },
   "source": [
    "<h1>Содержание<span class=\"tocSkip\"></span></h1>\n",
    "<div class=\"toc\"><ul class=\"toc-item\"><li><span><a href=\"#1.-Изучение-данных-из-файла\" data-toc-modified-id=\"1.-Изучение-данных-из-файла-1\">1. Изучение данных из файла</a></span><ul class=\"toc-item\"><li><span><a href=\"#1.1-Вывод\" data-toc-modified-id=\"1.1-Вывод-1.1\">1.1 Вывод</a></span></li></ul></li><li><span><a href=\"#2.-Предобработка-данных\" data-toc-modified-id=\"2.-Предобработка-данных-2\">2. Предобработка данных</a></span><ul class=\"toc-item\"><li><span><a href=\"#2.1-Изменение-типов-данных-в-столбцах-с-датой-на-тип--to_datetime\" data-toc-modified-id=\"2.1-Изменение-типов-данных-в-столбцах-с-датой-на-тип--to_datetime-2.1\">2.1 Изменение типов данных в столбцах с датой на тип  <code>to_datetime</code></a></span></li><li><span><a href=\"#2.2-Округление-значений\" data-toc-modified-id=\"2.2-Округление-значений-2.2\">2.2 Округление значений</a></span></li><li><span><a href=\"#2.3-Объединение-таблиц\" data-toc-modified-id=\"2.3-Объединение-таблиц-2.3\">2.3 Объединение таблиц</a></span></li><li><span><a href=\"#2.4-Расчёты-и-добавление-результатов-в-таблицу\" data-toc-modified-id=\"2.4-Расчёты-и-добавление-результатов-в-таблицу-2.4\">2.4 Расчёты и добавление результатов в таблицу</a></span></li><li><span><a href=\"#2.4.1-Подсчет-количества-сделанных-звонков-и-израсходованных-минут-разговора-по-месяцам\" data-toc-modified-id=\"2.4.1-Подсчет-количества-сделанных-звонков-и-израсходованных-минут-разговора-по-месяцам-2.5\">2.4.1 Подсчет количества сделанных звонков и израсходованных минут разговора по месяцам</a></span></li><li><span><a href=\"#2.4.2-Подсчет-количества-отправленных-сообщений-по-месяцам\" data-toc-modified-id=\"2.4.2-Подсчет-количества-отправленных-сообщений-по-месяцам-2.6\">2.4.2 Подсчет количества отправленных сообщений по месяцам</a></span></li><li><span><a href=\"#2.4.3-Подсчет-объема-израсходованного-интернет-трафика-по-месяцам\" data-toc-modified-id=\"2.4.3-Подсчет-объема-израсходованного-интернет-трафика-по-месяцам-2.7\">2.4.3 Подсчет объема израсходованного интернет-трафика по месяцам</a></span></li><li><span><a href=\"#2.4.4-Посчитаем-для-каждого-пользователя-помесячную-выручку-с-каждого-пользователя\" data-toc-modified-id=\"2.4.4-Посчитаем-для-каждого-пользователя-помесячную-выручку-с-каждого-пользователя-2.8\">2.4.4 Посчитаем для каждого пользователя помесячную выручку с каждого пользователя</a></span></li><li><span><a href=\"#2.5-Вывод\" data-toc-modified-id=\"2.5-Вывод-2.9\">2.5 Вывод</a></span></li></ul></li><li><span><a href=\"#3.-Анализ-данных\" data-toc-modified-id=\"3.-Анализ-данных-3\">3. Анализ данных</a></span><ul class=\"toc-item\"><li><span><a href=\"#3.1-Расчет-среднего-количества,-дисперсии-и-стандартного-отклонения\" data-toc-modified-id=\"3.1-Расчет-среднего-количества,-дисперсии-и-стандартного-отклонения-3.1\">3.1 Расчет среднего количества, дисперсии и стандартного отклонения</a></span></li><li><span><a href=\"#3.2-Вывод\" data-toc-modified-id=\"3.2-Вывод-3.2\">3.2 Вывод</a></span></li></ul></li><li><span><a href=\"#4.-Проверка-гипотез\" data-toc-modified-id=\"4.-Проверка-гипотез-4\">4. Проверка гипотез</a></span><ul class=\"toc-item\"><li><span><a href=\"#4.1-Гипотеза-№1:-Средняя-выручка-от-пользователей-тарифов-&quot;Ультра&quot;-и-&quot;Смарт&quot;-различается.\" data-toc-modified-id=\"4.1-Гипотеза-№1:-Средняя-выручка-от-пользователей-тарифов-&quot;Ультра&quot;-и-&quot;Смарт&quot;-различается.-4.1\">4.1 Гипотеза №1: Средняя выручка от пользователей тарифов \"Ультра\" и \"Смарт\" различается.</a></span></li><li><span><a href=\"#4.2-Гипотеза-№2:-Средняя-выручка-от-пользователей-из-Москвы-отличается-от-выручки-пользователей-из-других-регионов.\" data-toc-modified-id=\"4.2-Гипотеза-№2:-Средняя-выручка-от-пользователей-из-Москвы-отличается-от-выручки-пользователей-из-других-регионов.-4.2\">4.2 Гипотеза №2: Средняя выручка от пользователей из Москвы отличается от выручки пользователей из других регионов.</a></span></li><li><span><a href=\"#4.3-Вывод\" data-toc-modified-id=\"4.3-Вывод-4.3\">4.3 Вывод</a></span></li></ul></li><li><span><a href=\"#Общий-вывод\" data-toc-modified-id=\"Общий-вывод-5\">Общий вывод</a></span></li></ul></div>"
   ]
  },
  {
   "cell_type": "markdown",
   "id": "1c5efcb8",
   "metadata": {},
   "source": [
    "## 1. Изучение данных из файла"
   ]
  },
  {
   "cell_type": "markdown",
   "id": "cdc09fce",
   "metadata": {},
   "source": [
    "Импортируем библиотеки"
   ]
  },
  {
   "cell_type": "code",
   "execution_count": 1,
   "id": "14533a83",
   "metadata": {},
   "outputs": [],
   "source": [
    "import pandas as pd\n",
    "import numpy as np \n",
    "from scipy import stats as st\n",
    "import math\n",
    "import matplotlib.pyplot as plt\n",
    "import warnings\n",
    "warnings.filterwarnings(\"ignore\")"
   ]
  },
  {
   "cell_type": "markdown",
   "id": "589c3f72",
   "metadata": {},
   "source": [
    "Прочитаем файлы с данными"
   ]
  },
  {
   "cell_type": "code",
   "execution_count": 2,
   "id": "f1ff854e",
   "metadata": {},
   "outputs": [],
   "source": [
    "calls = pd.read_csv('./datasets/calls.csv', sep = ',')\n",
    "internet = pd.read_csv('./datasets/internet.csv', sep = ',')\n",
    "messages = pd.read_csv('./datasets/messages.csv', sep = ',')\n",
    "tariffs = pd.read_csv('./datasets/tariffs.csv', sep = ',')\n",
    "users = pd.read_csv('./datasets/users.csv', sep = ',')"
   ]
  },
  {
   "cell_type": "markdown",
   "id": "2beb0319",
   "metadata": {},
   "source": [
    "Посмотрим общую информацию о каждом датасете, проверим их на пропуски и дубликаты. "
   ]
  },
  {
   "cell_type": "code",
   "execution_count": 3,
   "id": "7354e4bf",
   "metadata": {},
   "outputs": [
    {
     "name": "stdout",
     "output_type": "stream",
     "text": [
      "<class 'pandas.core.frame.DataFrame'>\n",
      "RangeIndex: 202607 entries, 0 to 202606\n",
      "Data columns (total 4 columns):\n",
      " #   Column     Non-Null Count   Dtype  \n",
      "---  ------     --------------   -----  \n",
      " 0   id         202607 non-null  object \n",
      " 1   call_date  202607 non-null  object \n",
      " 2   duration   202607 non-null  float64\n",
      " 3   user_id    202607 non-null  int64  \n",
      "dtypes: float64(1), int64(1), object(2)\n",
      "memory usage: 6.2+ MB\n"
     ]
    }
   ],
   "source": [
    "calls.info()"
   ]
  },
  {
   "cell_type": "code",
   "execution_count": 4,
   "id": "916561b7",
   "metadata": {},
   "outputs": [
    {
     "data": {
      "text/html": [
       "<div>\n",
       "<style scoped>\n",
       "    .dataframe tbody tr th:only-of-type {\n",
       "        vertical-align: middle;\n",
       "    }\n",
       "\n",
       "    .dataframe tbody tr th {\n",
       "        vertical-align: top;\n",
       "    }\n",
       "\n",
       "    .dataframe thead th {\n",
       "        text-align: right;\n",
       "    }\n",
       "</style>\n",
       "<table border=\"1\" class=\"dataframe\">\n",
       "  <thead>\n",
       "    <tr style=\"text-align: right;\">\n",
       "      <th></th>\n",
       "      <th>id</th>\n",
       "      <th>call_date</th>\n",
       "      <th>duration</th>\n",
       "      <th>user_id</th>\n",
       "    </tr>\n",
       "  </thead>\n",
       "  <tbody>\n",
       "    <tr>\n",
       "      <th>0</th>\n",
       "      <td>1000_0</td>\n",
       "      <td>2018-07-25</td>\n",
       "      <td>0.00</td>\n",
       "      <td>1000</td>\n",
       "    </tr>\n",
       "    <tr>\n",
       "      <th>1</th>\n",
       "      <td>1000_1</td>\n",
       "      <td>2018-08-17</td>\n",
       "      <td>0.00</td>\n",
       "      <td>1000</td>\n",
       "    </tr>\n",
       "    <tr>\n",
       "      <th>2</th>\n",
       "      <td>1000_2</td>\n",
       "      <td>2018-06-11</td>\n",
       "      <td>2.85</td>\n",
       "      <td>1000</td>\n",
       "    </tr>\n",
       "    <tr>\n",
       "      <th>3</th>\n",
       "      <td>1000_3</td>\n",
       "      <td>2018-09-21</td>\n",
       "      <td>13.80</td>\n",
       "      <td>1000</td>\n",
       "    </tr>\n",
       "    <tr>\n",
       "      <th>4</th>\n",
       "      <td>1000_4</td>\n",
       "      <td>2018-12-15</td>\n",
       "      <td>5.18</td>\n",
       "      <td>1000</td>\n",
       "    </tr>\n",
       "  </tbody>\n",
       "</table>\n",
       "</div>"
      ],
      "text/plain": [
       "       id   call_date  duration  user_id\n",
       "0  1000_0  2018-07-25      0.00     1000\n",
       "1  1000_1  2018-08-17      0.00     1000\n",
       "2  1000_2  2018-06-11      2.85     1000\n",
       "3  1000_3  2018-09-21     13.80     1000\n",
       "4  1000_4  2018-12-15      5.18     1000"
      ]
     },
     "execution_count": 4,
     "metadata": {},
     "output_type": "execute_result"
    }
   ],
   "source": [
    "calls.head()"
   ]
  },
  {
   "cell_type": "code",
   "execution_count": 5,
   "id": "05a70a13",
   "metadata": {},
   "outputs": [
    {
     "data": {
      "text/plain": [
       "id           0\n",
       "call_date    0\n",
       "duration     0\n",
       "user_id      0\n",
       "dtype: int64"
      ]
     },
     "execution_count": 5,
     "metadata": {},
     "output_type": "execute_result"
    }
   ],
   "source": [
    "calls.isna().sum()"
   ]
  },
  {
   "cell_type": "code",
   "execution_count": 6,
   "id": "76ed5d7d",
   "metadata": {},
   "outputs": [
    {
     "data": {
      "text/plain": [
       "0"
      ]
     },
     "execution_count": 6,
     "metadata": {},
     "output_type": "execute_result"
    }
   ],
   "source": [
    "calls.duplicated().sum()"
   ]
  },
  {
   "cell_type": "code",
   "execution_count": 7,
   "id": "3b6ebb9b",
   "metadata": {},
   "outputs": [
    {
     "name": "stdout",
     "output_type": "stream",
     "text": [
      "<class 'pandas.core.frame.DataFrame'>\n",
      "RangeIndex: 149396 entries, 0 to 149395\n",
      "Data columns (total 5 columns):\n",
      " #   Column        Non-Null Count   Dtype  \n",
      "---  ------        --------------   -----  \n",
      " 0   Unnamed: 0    149396 non-null  int64  \n",
      " 1   id            149396 non-null  object \n",
      " 2   mb_used       149396 non-null  float64\n",
      " 3   session_date  149396 non-null  object \n",
      " 4   user_id       149396 non-null  int64  \n",
      "dtypes: float64(1), int64(2), object(2)\n",
      "memory usage: 5.7+ MB\n"
     ]
    }
   ],
   "source": [
    "internet.info()"
   ]
  },
  {
   "cell_type": "code",
   "execution_count": 8,
   "id": "0ab5c1e1",
   "metadata": {},
   "outputs": [
    {
     "data": {
      "text/html": [
       "<div>\n",
       "<style scoped>\n",
       "    .dataframe tbody tr th:only-of-type {\n",
       "        vertical-align: middle;\n",
       "    }\n",
       "\n",
       "    .dataframe tbody tr th {\n",
       "        vertical-align: top;\n",
       "    }\n",
       "\n",
       "    .dataframe thead th {\n",
       "        text-align: right;\n",
       "    }\n",
       "</style>\n",
       "<table border=\"1\" class=\"dataframe\">\n",
       "  <thead>\n",
       "    <tr style=\"text-align: right;\">\n",
       "      <th></th>\n",
       "      <th>Unnamed: 0</th>\n",
       "      <th>id</th>\n",
       "      <th>mb_used</th>\n",
       "      <th>session_date</th>\n",
       "      <th>user_id</th>\n",
       "    </tr>\n",
       "  </thead>\n",
       "  <tbody>\n",
       "    <tr>\n",
       "      <th>0</th>\n",
       "      <td>0</td>\n",
       "      <td>1000_0</td>\n",
       "      <td>112.95</td>\n",
       "      <td>2018-11-25</td>\n",
       "      <td>1000</td>\n",
       "    </tr>\n",
       "    <tr>\n",
       "      <th>1</th>\n",
       "      <td>1</td>\n",
       "      <td>1000_1</td>\n",
       "      <td>1052.81</td>\n",
       "      <td>2018-09-07</td>\n",
       "      <td>1000</td>\n",
       "    </tr>\n",
       "    <tr>\n",
       "      <th>2</th>\n",
       "      <td>2</td>\n",
       "      <td>1000_2</td>\n",
       "      <td>1197.26</td>\n",
       "      <td>2018-06-25</td>\n",
       "      <td>1000</td>\n",
       "    </tr>\n",
       "    <tr>\n",
       "      <th>3</th>\n",
       "      <td>3</td>\n",
       "      <td>1000_3</td>\n",
       "      <td>550.27</td>\n",
       "      <td>2018-08-22</td>\n",
       "      <td>1000</td>\n",
       "    </tr>\n",
       "    <tr>\n",
       "      <th>4</th>\n",
       "      <td>4</td>\n",
       "      <td>1000_4</td>\n",
       "      <td>302.56</td>\n",
       "      <td>2018-09-24</td>\n",
       "      <td>1000</td>\n",
       "    </tr>\n",
       "    <tr>\n",
       "      <th>...</th>\n",
       "      <td>...</td>\n",
       "      <td>...</td>\n",
       "      <td>...</td>\n",
       "      <td>...</td>\n",
       "      <td>...</td>\n",
       "    </tr>\n",
       "    <tr>\n",
       "      <th>149391</th>\n",
       "      <td>149391</td>\n",
       "      <td>1499_152</td>\n",
       "      <td>318.90</td>\n",
       "      <td>2018-10-03</td>\n",
       "      <td>1499</td>\n",
       "    </tr>\n",
       "    <tr>\n",
       "      <th>149392</th>\n",
       "      <td>149392</td>\n",
       "      <td>1499_153</td>\n",
       "      <td>490.13</td>\n",
       "      <td>2018-12-14</td>\n",
       "      <td>1499</td>\n",
       "    </tr>\n",
       "    <tr>\n",
       "      <th>149393</th>\n",
       "      <td>149393</td>\n",
       "      <td>1499_154</td>\n",
       "      <td>0.00</td>\n",
       "      <td>2018-10-27</td>\n",
       "      <td>1499</td>\n",
       "    </tr>\n",
       "    <tr>\n",
       "      <th>149394</th>\n",
       "      <td>149394</td>\n",
       "      <td>1499_155</td>\n",
       "      <td>1246.32</td>\n",
       "      <td>2018-11-26</td>\n",
       "      <td>1499</td>\n",
       "    </tr>\n",
       "    <tr>\n",
       "      <th>149395</th>\n",
       "      <td>149395</td>\n",
       "      <td>1499_156</td>\n",
       "      <td>544.37</td>\n",
       "      <td>2018-10-26</td>\n",
       "      <td>1499</td>\n",
       "    </tr>\n",
       "  </tbody>\n",
       "</table>\n",
       "<p>149396 rows × 5 columns</p>\n",
       "</div>"
      ],
      "text/plain": [
       "        Unnamed: 0        id  mb_used session_date  user_id\n",
       "0                0    1000_0   112.95   2018-11-25     1000\n",
       "1                1    1000_1  1052.81   2018-09-07     1000\n",
       "2                2    1000_2  1197.26   2018-06-25     1000\n",
       "3                3    1000_3   550.27   2018-08-22     1000\n",
       "4                4    1000_4   302.56   2018-09-24     1000\n",
       "...            ...       ...      ...          ...      ...\n",
       "149391      149391  1499_152   318.90   2018-10-03     1499\n",
       "149392      149392  1499_153   490.13   2018-12-14     1499\n",
       "149393      149393  1499_154     0.00   2018-10-27     1499\n",
       "149394      149394  1499_155  1246.32   2018-11-26     1499\n",
       "149395      149395  1499_156   544.37   2018-10-26     1499\n",
       "\n",
       "[149396 rows x 5 columns]"
      ]
     },
     "execution_count": 8,
     "metadata": {},
     "output_type": "execute_result"
    }
   ],
   "source": [
    "internet"
   ]
  },
  {
   "cell_type": "markdown",
   "id": "13c88c48",
   "metadata": {},
   "source": [
    "Удалим столбец `Unnamed: 0`"
   ]
  },
  {
   "cell_type": "code",
   "execution_count": 9,
   "id": "507e190e",
   "metadata": {},
   "outputs": [],
   "source": [
    "internet.drop(columns = 'Unnamed: 0', inplace = True)"
   ]
  },
  {
   "cell_type": "code",
   "execution_count": 10,
   "id": "b11e911c",
   "metadata": {},
   "outputs": [
    {
     "data": {
      "text/plain": [
       "id              0\n",
       "mb_used         0\n",
       "session_date    0\n",
       "user_id         0\n",
       "dtype: int64"
      ]
     },
     "execution_count": 10,
     "metadata": {},
     "output_type": "execute_result"
    }
   ],
   "source": [
    "internet.isna().sum()"
   ]
  },
  {
   "cell_type": "code",
   "execution_count": 11,
   "id": "e4045697",
   "metadata": {},
   "outputs": [
    {
     "data": {
      "text/plain": [
       "0"
      ]
     },
     "execution_count": 11,
     "metadata": {},
     "output_type": "execute_result"
    }
   ],
   "source": [
    "internet.duplicated().sum()"
   ]
  },
  {
   "cell_type": "code",
   "execution_count": 12,
   "id": "48964df2",
   "metadata": {},
   "outputs": [
    {
     "name": "stdout",
     "output_type": "stream",
     "text": [
      "<class 'pandas.core.frame.DataFrame'>\n",
      "RangeIndex: 123036 entries, 0 to 123035\n",
      "Data columns (total 3 columns):\n",
      " #   Column        Non-Null Count   Dtype \n",
      "---  ------        --------------   ----- \n",
      " 0   id            123036 non-null  object\n",
      " 1   message_date  123036 non-null  object\n",
      " 2   user_id       123036 non-null  int64 \n",
      "dtypes: int64(1), object(2)\n",
      "memory usage: 2.8+ MB\n"
     ]
    }
   ],
   "source": [
    "messages.info()"
   ]
  },
  {
   "cell_type": "code",
   "execution_count": 13,
   "id": "5b41fd9d",
   "metadata": {},
   "outputs": [
    {
     "data": {
      "text/html": [
       "<div>\n",
       "<style scoped>\n",
       "    .dataframe tbody tr th:only-of-type {\n",
       "        vertical-align: middle;\n",
       "    }\n",
       "\n",
       "    .dataframe tbody tr th {\n",
       "        vertical-align: top;\n",
       "    }\n",
       "\n",
       "    .dataframe thead th {\n",
       "        text-align: right;\n",
       "    }\n",
       "</style>\n",
       "<table border=\"1\" class=\"dataframe\">\n",
       "  <thead>\n",
       "    <tr style=\"text-align: right;\">\n",
       "      <th></th>\n",
       "      <th>id</th>\n",
       "      <th>message_date</th>\n",
       "      <th>user_id</th>\n",
       "    </tr>\n",
       "  </thead>\n",
       "  <tbody>\n",
       "    <tr>\n",
       "      <th>0</th>\n",
       "      <td>1000_0</td>\n",
       "      <td>2018-06-27</td>\n",
       "      <td>1000</td>\n",
       "    </tr>\n",
       "    <tr>\n",
       "      <th>1</th>\n",
       "      <td>1000_1</td>\n",
       "      <td>2018-10-08</td>\n",
       "      <td>1000</td>\n",
       "    </tr>\n",
       "    <tr>\n",
       "      <th>2</th>\n",
       "      <td>1000_2</td>\n",
       "      <td>2018-08-04</td>\n",
       "      <td>1000</td>\n",
       "    </tr>\n",
       "    <tr>\n",
       "      <th>3</th>\n",
       "      <td>1000_3</td>\n",
       "      <td>2018-06-16</td>\n",
       "      <td>1000</td>\n",
       "    </tr>\n",
       "    <tr>\n",
       "      <th>4</th>\n",
       "      <td>1000_4</td>\n",
       "      <td>2018-12-05</td>\n",
       "      <td>1000</td>\n",
       "    </tr>\n",
       "    <tr>\n",
       "      <th>...</th>\n",
       "      <td>...</td>\n",
       "      <td>...</td>\n",
       "      <td>...</td>\n",
       "    </tr>\n",
       "    <tr>\n",
       "      <th>123031</th>\n",
       "      <td>1499_179</td>\n",
       "      <td>2018-12-12</td>\n",
       "      <td>1499</td>\n",
       "    </tr>\n",
       "    <tr>\n",
       "      <th>123032</th>\n",
       "      <td>1499_180</td>\n",
       "      <td>2018-09-28</td>\n",
       "      <td>1499</td>\n",
       "    </tr>\n",
       "    <tr>\n",
       "      <th>123033</th>\n",
       "      <td>1499_181</td>\n",
       "      <td>2018-09-27</td>\n",
       "      <td>1499</td>\n",
       "    </tr>\n",
       "    <tr>\n",
       "      <th>123034</th>\n",
       "      <td>1499_182</td>\n",
       "      <td>2018-11-15</td>\n",
       "      <td>1499</td>\n",
       "    </tr>\n",
       "    <tr>\n",
       "      <th>123035</th>\n",
       "      <td>1499_183</td>\n",
       "      <td>2018-11-16</td>\n",
       "      <td>1499</td>\n",
       "    </tr>\n",
       "  </tbody>\n",
       "</table>\n",
       "<p>123036 rows × 3 columns</p>\n",
       "</div>"
      ],
      "text/plain": [
       "              id message_date  user_id\n",
       "0         1000_0   2018-06-27     1000\n",
       "1         1000_1   2018-10-08     1000\n",
       "2         1000_2   2018-08-04     1000\n",
       "3         1000_3   2018-06-16     1000\n",
       "4         1000_4   2018-12-05     1000\n",
       "...          ...          ...      ...\n",
       "123031  1499_179   2018-12-12     1499\n",
       "123032  1499_180   2018-09-28     1499\n",
       "123033  1499_181   2018-09-27     1499\n",
       "123034  1499_182   2018-11-15     1499\n",
       "123035  1499_183   2018-11-16     1499\n",
       "\n",
       "[123036 rows x 3 columns]"
      ]
     },
     "execution_count": 13,
     "metadata": {},
     "output_type": "execute_result"
    }
   ],
   "source": [
    "messages"
   ]
  },
  {
   "cell_type": "code",
   "execution_count": 14,
   "id": "071c4b27",
   "metadata": {},
   "outputs": [
    {
     "data": {
      "text/plain": [
       "id              0\n",
       "message_date    0\n",
       "user_id         0\n",
       "dtype: int64"
      ]
     },
     "execution_count": 14,
     "metadata": {},
     "output_type": "execute_result"
    }
   ],
   "source": [
    "messages.isna().sum()"
   ]
  },
  {
   "cell_type": "code",
   "execution_count": 15,
   "id": "db046dd0",
   "metadata": {},
   "outputs": [
    {
     "data": {
      "text/plain": [
       "0"
      ]
     },
     "execution_count": 15,
     "metadata": {},
     "output_type": "execute_result"
    }
   ],
   "source": [
    "messages.duplicated().sum()"
   ]
  },
  {
   "cell_type": "code",
   "execution_count": 16,
   "id": "462b6c10",
   "metadata": {},
   "outputs": [
    {
     "name": "stdout",
     "output_type": "stream",
     "text": [
      "<class 'pandas.core.frame.DataFrame'>\n",
      "RangeIndex: 2 entries, 0 to 1\n",
      "Data columns (total 8 columns):\n",
      " #   Column                 Non-Null Count  Dtype \n",
      "---  ------                 --------------  ----- \n",
      " 0   messages_included      2 non-null      int64 \n",
      " 1   mb_per_month_included  2 non-null      int64 \n",
      " 2   minutes_included       2 non-null      int64 \n",
      " 3   rub_monthly_fee        2 non-null      int64 \n",
      " 4   rub_per_gb             2 non-null      int64 \n",
      " 5   rub_per_message        2 non-null      int64 \n",
      " 6   rub_per_minute         2 non-null      int64 \n",
      " 7   tariff_name            2 non-null      object\n",
      "dtypes: int64(7), object(1)\n",
      "memory usage: 256.0+ bytes\n"
     ]
    }
   ],
   "source": [
    "tariffs.info()"
   ]
  },
  {
   "cell_type": "code",
   "execution_count": 17,
   "id": "026e241b",
   "metadata": {},
   "outputs": [
    {
     "data": {
      "text/html": [
       "<div>\n",
       "<style scoped>\n",
       "    .dataframe tbody tr th:only-of-type {\n",
       "        vertical-align: middle;\n",
       "    }\n",
       "\n",
       "    .dataframe tbody tr th {\n",
       "        vertical-align: top;\n",
       "    }\n",
       "\n",
       "    .dataframe thead th {\n",
       "        text-align: right;\n",
       "    }\n",
       "</style>\n",
       "<table border=\"1\" class=\"dataframe\">\n",
       "  <thead>\n",
       "    <tr style=\"text-align: right;\">\n",
       "      <th></th>\n",
       "      <th>messages_included</th>\n",
       "      <th>mb_per_month_included</th>\n",
       "      <th>minutes_included</th>\n",
       "      <th>rub_monthly_fee</th>\n",
       "      <th>rub_per_gb</th>\n",
       "      <th>rub_per_message</th>\n",
       "      <th>rub_per_minute</th>\n",
       "      <th>tariff_name</th>\n",
       "    </tr>\n",
       "  </thead>\n",
       "  <tbody>\n",
       "    <tr>\n",
       "      <th>0</th>\n",
       "      <td>50</td>\n",
       "      <td>15360</td>\n",
       "      <td>500</td>\n",
       "      <td>550</td>\n",
       "      <td>200</td>\n",
       "      <td>3</td>\n",
       "      <td>3</td>\n",
       "      <td>smart</td>\n",
       "    </tr>\n",
       "    <tr>\n",
       "      <th>1</th>\n",
       "      <td>1000</td>\n",
       "      <td>30720</td>\n",
       "      <td>3000</td>\n",
       "      <td>1950</td>\n",
       "      <td>150</td>\n",
       "      <td>1</td>\n",
       "      <td>1</td>\n",
       "      <td>ultra</td>\n",
       "    </tr>\n",
       "  </tbody>\n",
       "</table>\n",
       "</div>"
      ],
      "text/plain": [
       "   messages_included  mb_per_month_included  minutes_included  \\\n",
       "0                 50                  15360               500   \n",
       "1               1000                  30720              3000   \n",
       "\n",
       "   rub_monthly_fee  rub_per_gb  rub_per_message  rub_per_minute tariff_name  \n",
       "0              550         200                3               3       smart  \n",
       "1             1950         150                1               1       ultra  "
      ]
     },
     "execution_count": 17,
     "metadata": {},
     "output_type": "execute_result"
    }
   ],
   "source": [
    "tariffs"
   ]
  },
  {
   "cell_type": "code",
   "execution_count": 18,
   "id": "8aa94ef0",
   "metadata": {},
   "outputs": [
    {
     "name": "stdout",
     "output_type": "stream",
     "text": [
      "<class 'pandas.core.frame.DataFrame'>\n",
      "RangeIndex: 500 entries, 0 to 499\n",
      "Data columns (total 8 columns):\n",
      " #   Column      Non-Null Count  Dtype \n",
      "---  ------      --------------  ----- \n",
      " 0   user_id     500 non-null    int64 \n",
      " 1   age         500 non-null    int64 \n",
      " 2   churn_date  38 non-null     object\n",
      " 3   city        500 non-null    object\n",
      " 4   first_name  500 non-null    object\n",
      " 5   last_name   500 non-null    object\n",
      " 6   reg_date    500 non-null    object\n",
      " 7   tariff      500 non-null    object\n",
      "dtypes: int64(2), object(6)\n",
      "memory usage: 31.4+ KB\n"
     ]
    }
   ],
   "source": [
    "users.info()"
   ]
  },
  {
   "cell_type": "code",
   "execution_count": 19,
   "id": "33690c3b",
   "metadata": {},
   "outputs": [
    {
     "data": {
      "text/html": [
       "<div>\n",
       "<style scoped>\n",
       "    .dataframe tbody tr th:only-of-type {\n",
       "        vertical-align: middle;\n",
       "    }\n",
       "\n",
       "    .dataframe tbody tr th {\n",
       "        vertical-align: top;\n",
       "    }\n",
       "\n",
       "    .dataframe thead th {\n",
       "        text-align: right;\n",
       "    }\n",
       "</style>\n",
       "<table border=\"1\" class=\"dataframe\">\n",
       "  <thead>\n",
       "    <tr style=\"text-align: right;\">\n",
       "      <th></th>\n",
       "      <th>user_id</th>\n",
       "      <th>age</th>\n",
       "      <th>churn_date</th>\n",
       "      <th>city</th>\n",
       "      <th>first_name</th>\n",
       "      <th>last_name</th>\n",
       "      <th>reg_date</th>\n",
       "      <th>tariff</th>\n",
       "    </tr>\n",
       "  </thead>\n",
       "  <tbody>\n",
       "    <tr>\n",
       "      <th>0</th>\n",
       "      <td>1000</td>\n",
       "      <td>52</td>\n",
       "      <td>NaN</td>\n",
       "      <td>Краснодар</td>\n",
       "      <td>Рафаил</td>\n",
       "      <td>Верещагин</td>\n",
       "      <td>2018-05-25</td>\n",
       "      <td>ultra</td>\n",
       "    </tr>\n",
       "    <tr>\n",
       "      <th>1</th>\n",
       "      <td>1001</td>\n",
       "      <td>41</td>\n",
       "      <td>NaN</td>\n",
       "      <td>Москва</td>\n",
       "      <td>Иван</td>\n",
       "      <td>Ежов</td>\n",
       "      <td>2018-11-01</td>\n",
       "      <td>smart</td>\n",
       "    </tr>\n",
       "    <tr>\n",
       "      <th>2</th>\n",
       "      <td>1002</td>\n",
       "      <td>59</td>\n",
       "      <td>NaN</td>\n",
       "      <td>Стерлитамак</td>\n",
       "      <td>Евгений</td>\n",
       "      <td>Абрамович</td>\n",
       "      <td>2018-06-17</td>\n",
       "      <td>smart</td>\n",
       "    </tr>\n",
       "    <tr>\n",
       "      <th>3</th>\n",
       "      <td>1003</td>\n",
       "      <td>23</td>\n",
       "      <td>NaN</td>\n",
       "      <td>Москва</td>\n",
       "      <td>Белла</td>\n",
       "      <td>Белякова</td>\n",
       "      <td>2018-08-17</td>\n",
       "      <td>ultra</td>\n",
       "    </tr>\n",
       "    <tr>\n",
       "      <th>4</th>\n",
       "      <td>1004</td>\n",
       "      <td>68</td>\n",
       "      <td>NaN</td>\n",
       "      <td>Новокузнецк</td>\n",
       "      <td>Татьяна</td>\n",
       "      <td>Авдеенко</td>\n",
       "      <td>2018-05-14</td>\n",
       "      <td>ultra</td>\n",
       "    </tr>\n",
       "    <tr>\n",
       "      <th>...</th>\n",
       "      <td>...</td>\n",
       "      <td>...</td>\n",
       "      <td>...</td>\n",
       "      <td>...</td>\n",
       "      <td>...</td>\n",
       "      <td>...</td>\n",
       "      <td>...</td>\n",
       "      <td>...</td>\n",
       "    </tr>\n",
       "    <tr>\n",
       "      <th>495</th>\n",
       "      <td>1495</td>\n",
       "      <td>65</td>\n",
       "      <td>NaN</td>\n",
       "      <td>Иркутск</td>\n",
       "      <td>Авксентий</td>\n",
       "      <td>Фокин</td>\n",
       "      <td>2018-08-28</td>\n",
       "      <td>ultra</td>\n",
       "    </tr>\n",
       "    <tr>\n",
       "      <th>496</th>\n",
       "      <td>1496</td>\n",
       "      <td>36</td>\n",
       "      <td>NaN</td>\n",
       "      <td>Вологда</td>\n",
       "      <td>Трифон</td>\n",
       "      <td>Блохин</td>\n",
       "      <td>2018-01-27</td>\n",
       "      <td>smart</td>\n",
       "    </tr>\n",
       "    <tr>\n",
       "      <th>497</th>\n",
       "      <td>1497</td>\n",
       "      <td>32</td>\n",
       "      <td>NaN</td>\n",
       "      <td>Челябинск</td>\n",
       "      <td>Каролина</td>\n",
       "      <td>Агеева</td>\n",
       "      <td>2018-10-09</td>\n",
       "      <td>smart</td>\n",
       "    </tr>\n",
       "    <tr>\n",
       "      <th>498</th>\n",
       "      <td>1498</td>\n",
       "      <td>68</td>\n",
       "      <td>2018-10-25</td>\n",
       "      <td>Владикавказ</td>\n",
       "      <td>Всеволод</td>\n",
       "      <td>Акимчин</td>\n",
       "      <td>2018-07-19</td>\n",
       "      <td>smart</td>\n",
       "    </tr>\n",
       "    <tr>\n",
       "      <th>499</th>\n",
       "      <td>1499</td>\n",
       "      <td>35</td>\n",
       "      <td>NaN</td>\n",
       "      <td>Пермь</td>\n",
       "      <td>Гектор</td>\n",
       "      <td>Корнилов</td>\n",
       "      <td>2018-09-27</td>\n",
       "      <td>smart</td>\n",
       "    </tr>\n",
       "  </tbody>\n",
       "</table>\n",
       "<p>500 rows × 8 columns</p>\n",
       "</div>"
      ],
      "text/plain": [
       "     user_id  age  churn_date         city first_name  last_name    reg_date  \\\n",
       "0       1000   52         NaN    Краснодар     Рафаил  Верещагин  2018-05-25   \n",
       "1       1001   41         NaN       Москва       Иван       Ежов  2018-11-01   \n",
       "2       1002   59         NaN  Стерлитамак    Евгений  Абрамович  2018-06-17   \n",
       "3       1003   23         NaN       Москва      Белла   Белякова  2018-08-17   \n",
       "4       1004   68         NaN  Новокузнецк    Татьяна   Авдеенко  2018-05-14   \n",
       "..       ...  ...         ...          ...        ...        ...         ...   \n",
       "495     1495   65         NaN      Иркутск  Авксентий      Фокин  2018-08-28   \n",
       "496     1496   36         NaN      Вологда     Трифон     Блохин  2018-01-27   \n",
       "497     1497   32         NaN    Челябинск   Каролина     Агеева  2018-10-09   \n",
       "498     1498   68  2018-10-25  Владикавказ   Всеволод    Акимчин  2018-07-19   \n",
       "499     1499   35         NaN        Пермь     Гектор   Корнилов  2018-09-27   \n",
       "\n",
       "    tariff  \n",
       "0    ultra  \n",
       "1    smart  \n",
       "2    smart  \n",
       "3    ultra  \n",
       "4    ultra  \n",
       "..     ...  \n",
       "495  ultra  \n",
       "496  smart  \n",
       "497  smart  \n",
       "498  smart  \n",
       "499  smart  \n",
       "\n",
       "[500 rows x 8 columns]"
      ]
     },
     "execution_count": 19,
     "metadata": {},
     "output_type": "execute_result"
    }
   ],
   "source": [
    "users"
   ]
  },
  {
   "cell_type": "code",
   "execution_count": 20,
   "id": "089ab503",
   "metadata": {},
   "outputs": [
    {
     "data": {
      "text/plain": [
       "user_id         0\n",
       "age             0\n",
       "churn_date    462\n",
       "city            0\n",
       "first_name      0\n",
       "last_name       0\n",
       "reg_date        0\n",
       "tariff          0\n",
       "dtype: int64"
      ]
     },
     "execution_count": 20,
     "metadata": {},
     "output_type": "execute_result"
    }
   ],
   "source": [
    "users.isna().sum()"
   ]
  },
  {
   "cell_type": "code",
   "execution_count": 21,
   "id": "930c2ffb",
   "metadata": {},
   "outputs": [
    {
     "data": {
      "text/plain": [
       "0"
      ]
     },
     "execution_count": 21,
     "metadata": {},
     "output_type": "execute_result"
    }
   ],
   "source": [
    "users.duplicated().sum()"
   ]
  },
  {
   "cell_type": "markdown",
   "id": "910b7efd",
   "metadata": {},
   "source": [
    "### 1.1 Вывод"
   ]
  },
  {
   "cell_type": "markdown",
   "id": "e79114f0",
   "metadata": {},
   "source": [
    "При изучении данных найдены  пропуски  только в датасете `users` по столбцу `churn_date`, но они присутствуют потому что данный пользователь до сих пор является клиентом. Дубликаты  в датасетах отсутствуют.  Необходимо преобразование типов данных в формат `Datetime`. Удалили столбец `Unnamed: 0` в датасете `internet`."
   ]
  },
  {
   "cell_type": "markdown",
   "id": "e3310c4c",
   "metadata": {},
   "source": [
    "## 2. Предобработка данных"
   ]
  },
  {
   "cell_type": "markdown",
   "id": "786392fe",
   "metadata": {},
   "source": [
    "### 2.1 Изменение типов данных в столбцах с датой на тип  `to_datetime`"
   ]
  },
  {
   "cell_type": "code",
   "execution_count": 22,
   "id": "7e347f70",
   "metadata": {},
   "outputs": [],
   "source": [
    "calls['call_date'] = pd.to_datetime(calls['call_date'], format = '%Y-%m-%d')"
   ]
  },
  {
   "cell_type": "code",
   "execution_count": 23,
   "id": "03b25d21",
   "metadata": {},
   "outputs": [],
   "source": [
    "internet['session_date'] = pd.to_datetime(internet['session_date'], format = '%Y-%m-%d')"
   ]
  },
  {
   "cell_type": "code",
   "execution_count": 24,
   "id": "1de7f3e6",
   "metadata": {},
   "outputs": [],
   "source": [
    "messages['message_date'] = pd.to_datetime(messages['message_date'], format = '%Y-%m-%d')"
   ]
  },
  {
   "cell_type": "code",
   "execution_count": 25,
   "id": "647f1880",
   "metadata": {},
   "outputs": [],
   "source": [
    "users['churn_date'].fillna('2018-12-31', inplace=True)\n",
    "users['churn_date'] = pd.to_datetime(users['churn_date'], format = '%Y-%m-%d')\n",
    "users['reg_date'] = pd.to_datetime(users['reg_date'], format = '%Y-%m-%d')"
   ]
  },
  {
   "cell_type": "markdown",
   "id": "01fd7358",
   "metadata": {},
   "source": [
    "Проверка изменений"
   ]
  },
  {
   "cell_type": "code",
   "execution_count": 26,
   "id": "0e2f6f5c",
   "metadata": {},
   "outputs": [
    {
     "name": "stdout",
     "output_type": "stream",
     "text": [
      "<class 'pandas.core.frame.DataFrame'>\n",
      "RangeIndex: 202607 entries, 0 to 202606\n",
      "Data columns (total 4 columns):\n",
      " #   Column     Non-Null Count   Dtype         \n",
      "---  ------     --------------   -----         \n",
      " 0   id         202607 non-null  object        \n",
      " 1   call_date  202607 non-null  datetime64[ns]\n",
      " 2   duration   202607 non-null  float64       \n",
      " 3   user_id    202607 non-null  int64         \n",
      "dtypes: datetime64[ns](1), float64(1), int64(1), object(1)\n",
      "memory usage: 6.2+ MB\n"
     ]
    }
   ],
   "source": [
    "calls.info()"
   ]
  },
  {
   "cell_type": "code",
   "execution_count": 27,
   "id": "4acbbcb0",
   "metadata": {},
   "outputs": [
    {
     "name": "stdout",
     "output_type": "stream",
     "text": [
      "<class 'pandas.core.frame.DataFrame'>\n",
      "RangeIndex: 500 entries, 0 to 499\n",
      "Data columns (total 8 columns):\n",
      " #   Column      Non-Null Count  Dtype         \n",
      "---  ------      --------------  -----         \n",
      " 0   user_id     500 non-null    int64         \n",
      " 1   age         500 non-null    int64         \n",
      " 2   churn_date  500 non-null    datetime64[ns]\n",
      " 3   city        500 non-null    object        \n",
      " 4   first_name  500 non-null    object        \n",
      " 5   last_name   500 non-null    object        \n",
      " 6   reg_date    500 non-null    datetime64[ns]\n",
      " 7   tariff      500 non-null    object        \n",
      "dtypes: datetime64[ns](2), int64(2), object(4)\n",
      "memory usage: 31.4+ KB\n"
     ]
    }
   ],
   "source": [
    "users.info()"
   ]
  },
  {
   "cell_type": "markdown",
   "id": "1b18fc56",
   "metadata": {},
   "source": [
    "### 2.2 Округление значений"
   ]
  },
  {
   "cell_type": "markdown",
   "id": "0eec49d0",
   "metadata": {},
   "source": [
    "Округление значений длительности звонка до  целочисленного значения в сторону увеличения"
   ]
  },
  {
   "cell_type": "code",
   "execution_count": 28,
   "id": "fc9a6839",
   "metadata": {},
   "outputs": [
    {
     "data": {
      "text/plain": [
       "0     0\n",
       "1     0\n",
       "2     3\n",
       "3    14\n",
       "4     6\n",
       "Name: duration, dtype: int64"
      ]
     },
     "execution_count": 28,
     "metadata": {},
     "output_type": "execute_result"
    }
   ],
   "source": [
    "calls['duration'] = calls['duration'].apply(math.ceil)\n",
    "calls['duration'].head()"
   ]
  },
  {
   "cell_type": "markdown",
   "id": "212217a5",
   "metadata": {},
   "source": [
    "Добавим столбец с израсходованными Gb"
   ]
  },
  {
   "cell_type": "code",
   "execution_count": 29,
   "id": "519207b7",
   "metadata": {},
   "outputs": [
    {
     "data": {
      "text/html": [
       "<div>\n",
       "<style scoped>\n",
       "    .dataframe tbody tr th:only-of-type {\n",
       "        vertical-align: middle;\n",
       "    }\n",
       "\n",
       "    .dataframe tbody tr th {\n",
       "        vertical-align: top;\n",
       "    }\n",
       "\n",
       "    .dataframe thead th {\n",
       "        text-align: right;\n",
       "    }\n",
       "</style>\n",
       "<table border=\"1\" class=\"dataframe\">\n",
       "  <thead>\n",
       "    <tr style=\"text-align: right;\">\n",
       "      <th></th>\n",
       "      <th>messages_included</th>\n",
       "      <th>mb_per_month_included</th>\n",
       "      <th>minutes_included</th>\n",
       "      <th>rub_monthly_fee</th>\n",
       "      <th>rub_per_gb</th>\n",
       "      <th>rub_per_message</th>\n",
       "      <th>rub_per_minute</th>\n",
       "      <th>tariff_name</th>\n",
       "      <th>gb_per_month_included</th>\n",
       "    </tr>\n",
       "  </thead>\n",
       "  <tbody>\n",
       "    <tr>\n",
       "      <th>0</th>\n",
       "      <td>50</td>\n",
       "      <td>15360</td>\n",
       "      <td>500</td>\n",
       "      <td>550</td>\n",
       "      <td>200</td>\n",
       "      <td>3</td>\n",
       "      <td>3</td>\n",
       "      <td>smart</td>\n",
       "      <td>15</td>\n",
       "    </tr>\n",
       "    <tr>\n",
       "      <th>1</th>\n",
       "      <td>1000</td>\n",
       "      <td>30720</td>\n",
       "      <td>3000</td>\n",
       "      <td>1950</td>\n",
       "      <td>150</td>\n",
       "      <td>1</td>\n",
       "      <td>1</td>\n",
       "      <td>ultra</td>\n",
       "      <td>30</td>\n",
       "    </tr>\n",
       "  </tbody>\n",
       "</table>\n",
       "</div>"
      ],
      "text/plain": [
       "   messages_included  mb_per_month_included  minutes_included  \\\n",
       "0                 50                  15360               500   \n",
       "1               1000                  30720              3000   \n",
       "\n",
       "   rub_monthly_fee  rub_per_gb  rub_per_message  rub_per_minute tariff_name  \\\n",
       "0              550         200                3               3       smart   \n",
       "1             1950         150                1               1       ultra   \n",
       "\n",
       "   gb_per_month_included  \n",
       "0                     15  \n",
       "1                     30  "
      ]
     },
     "execution_count": 29,
     "metadata": {},
     "output_type": "execute_result"
    }
   ],
   "source": [
    "tariffs ['gb_per_month_included'] = (tariffs['mb_per_month_included']/1024).astype('int')\n",
    "tariffs.head()"
   ]
  },
  {
   "cell_type": "markdown",
   "id": "9f1fb069",
   "metadata": {},
   "source": [
    "### 2.3 Объединение таблиц"
   ]
  },
  {
   "cell_type": "markdown",
   "id": "d6197a6e",
   "metadata": {},
   "source": [
    "Переименуем столбец `tariff_name` в `tariff_name`"
   ]
  },
  {
   "cell_type": "code",
   "execution_count": 30,
   "id": "2817d6e4",
   "metadata": {},
   "outputs": [
    {
     "data": {
      "text/html": [
       "<div>\n",
       "<style scoped>\n",
       "    .dataframe tbody tr th:only-of-type {\n",
       "        vertical-align: middle;\n",
       "    }\n",
       "\n",
       "    .dataframe tbody tr th {\n",
       "        vertical-align: top;\n",
       "    }\n",
       "\n",
       "    .dataframe thead th {\n",
       "        text-align: right;\n",
       "    }\n",
       "</style>\n",
       "<table border=\"1\" class=\"dataframe\">\n",
       "  <thead>\n",
       "    <tr style=\"text-align: right;\">\n",
       "      <th></th>\n",
       "      <th>messages_included</th>\n",
       "      <th>mb_per_month_included</th>\n",
       "      <th>minutes_included</th>\n",
       "      <th>rub_monthly_fee</th>\n",
       "      <th>rub_per_gb</th>\n",
       "      <th>rub_per_message</th>\n",
       "      <th>rub_per_minute</th>\n",
       "      <th>tariff</th>\n",
       "      <th>gb_per_month_included</th>\n",
       "    </tr>\n",
       "  </thead>\n",
       "  <tbody>\n",
       "    <tr>\n",
       "      <th>0</th>\n",
       "      <td>50</td>\n",
       "      <td>15360</td>\n",
       "      <td>500</td>\n",
       "      <td>550</td>\n",
       "      <td>200</td>\n",
       "      <td>3</td>\n",
       "      <td>3</td>\n",
       "      <td>smart</td>\n",
       "      <td>15</td>\n",
       "    </tr>\n",
       "    <tr>\n",
       "      <th>1</th>\n",
       "      <td>1000</td>\n",
       "      <td>30720</td>\n",
       "      <td>3000</td>\n",
       "      <td>1950</td>\n",
       "      <td>150</td>\n",
       "      <td>1</td>\n",
       "      <td>1</td>\n",
       "      <td>ultra</td>\n",
       "      <td>30</td>\n",
       "    </tr>\n",
       "  </tbody>\n",
       "</table>\n",
       "</div>"
      ],
      "text/plain": [
       "   messages_included  mb_per_month_included  minutes_included  \\\n",
       "0                 50                  15360               500   \n",
       "1               1000                  30720              3000   \n",
       "\n",
       "   rub_monthly_fee  rub_per_gb  rub_per_message  rub_per_minute tariff  \\\n",
       "0              550         200                3               3  smart   \n",
       "1             1950         150                1               1  ultra   \n",
       "\n",
       "   gb_per_month_included  \n",
       "0                     15  \n",
       "1                     30  "
      ]
     },
     "execution_count": 30,
     "metadata": {},
     "output_type": "execute_result"
    }
   ],
   "source": [
    "tariffs = tariffs.rename(columns = {'tariff_name':'tariff'})\n",
    "tariffs.head(2)"
   ]
  },
  {
   "cell_type": "markdown",
   "id": "63d1053b",
   "metadata": {},
   "source": [
    "Объединим датасеты `users` и `tariffs` и посмотрим на него"
   ]
  },
  {
   "cell_type": "code",
   "execution_count": 31,
   "id": "c6f84f9e",
   "metadata": {},
   "outputs": [],
   "source": [
    "users_tariff = users.merge(tariffs, on = 'tariff', how = 'outer')"
   ]
  },
  {
   "cell_type": "code",
   "execution_count": 32,
   "id": "a212ed1d",
   "metadata": {},
   "outputs": [
    {
     "data": {
      "text/html": [
       "<div>\n",
       "<style scoped>\n",
       "    .dataframe tbody tr th:only-of-type {\n",
       "        vertical-align: middle;\n",
       "    }\n",
       "\n",
       "    .dataframe tbody tr th {\n",
       "        vertical-align: top;\n",
       "    }\n",
       "\n",
       "    .dataframe thead th {\n",
       "        text-align: right;\n",
       "    }\n",
       "</style>\n",
       "<table border=\"1\" class=\"dataframe\">\n",
       "  <thead>\n",
       "    <tr style=\"text-align: right;\">\n",
       "      <th></th>\n",
       "      <th>user_id</th>\n",
       "      <th>age</th>\n",
       "      <th>churn_date</th>\n",
       "      <th>city</th>\n",
       "      <th>first_name</th>\n",
       "      <th>last_name</th>\n",
       "      <th>reg_date</th>\n",
       "      <th>tariff</th>\n",
       "      <th>messages_included</th>\n",
       "      <th>mb_per_month_included</th>\n",
       "      <th>minutes_included</th>\n",
       "      <th>rub_monthly_fee</th>\n",
       "      <th>rub_per_gb</th>\n",
       "      <th>rub_per_message</th>\n",
       "      <th>rub_per_minute</th>\n",
       "      <th>gb_per_month_included</th>\n",
       "    </tr>\n",
       "  </thead>\n",
       "  <tbody>\n",
       "    <tr>\n",
       "      <th>0</th>\n",
       "      <td>1000</td>\n",
       "      <td>52</td>\n",
       "      <td>2018-12-31</td>\n",
       "      <td>Краснодар</td>\n",
       "      <td>Рафаил</td>\n",
       "      <td>Верещагин</td>\n",
       "      <td>2018-05-25</td>\n",
       "      <td>ultra</td>\n",
       "      <td>1000</td>\n",
       "      <td>30720</td>\n",
       "      <td>3000</td>\n",
       "      <td>1950</td>\n",
       "      <td>150</td>\n",
       "      <td>1</td>\n",
       "      <td>1</td>\n",
       "      <td>30</td>\n",
       "    </tr>\n",
       "    <tr>\n",
       "      <th>1</th>\n",
       "      <td>1003</td>\n",
       "      <td>23</td>\n",
       "      <td>2018-12-31</td>\n",
       "      <td>Москва</td>\n",
       "      <td>Белла</td>\n",
       "      <td>Белякова</td>\n",
       "      <td>2018-08-17</td>\n",
       "      <td>ultra</td>\n",
       "      <td>1000</td>\n",
       "      <td>30720</td>\n",
       "      <td>3000</td>\n",
       "      <td>1950</td>\n",
       "      <td>150</td>\n",
       "      <td>1</td>\n",
       "      <td>1</td>\n",
       "      <td>30</td>\n",
       "    </tr>\n",
       "    <tr>\n",
       "      <th>2</th>\n",
       "      <td>1004</td>\n",
       "      <td>68</td>\n",
       "      <td>2018-12-31</td>\n",
       "      <td>Новокузнецк</td>\n",
       "      <td>Татьяна</td>\n",
       "      <td>Авдеенко</td>\n",
       "      <td>2018-05-14</td>\n",
       "      <td>ultra</td>\n",
       "      <td>1000</td>\n",
       "      <td>30720</td>\n",
       "      <td>3000</td>\n",
       "      <td>1950</td>\n",
       "      <td>150</td>\n",
       "      <td>1</td>\n",
       "      <td>1</td>\n",
       "      <td>30</td>\n",
       "    </tr>\n",
       "    <tr>\n",
       "      <th>3</th>\n",
       "      <td>1013</td>\n",
       "      <td>36</td>\n",
       "      <td>2018-12-31</td>\n",
       "      <td>Иваново</td>\n",
       "      <td>Борис</td>\n",
       "      <td>Андреенко</td>\n",
       "      <td>2018-11-14</td>\n",
       "      <td>ultra</td>\n",
       "      <td>1000</td>\n",
       "      <td>30720</td>\n",
       "      <td>3000</td>\n",
       "      <td>1950</td>\n",
       "      <td>150</td>\n",
       "      <td>1</td>\n",
       "      <td>1</td>\n",
       "      <td>30</td>\n",
       "    </tr>\n",
       "    <tr>\n",
       "      <th>4</th>\n",
       "      <td>1016</td>\n",
       "      <td>58</td>\n",
       "      <td>2018-12-31</td>\n",
       "      <td>Омск</td>\n",
       "      <td>Марица</td>\n",
       "      <td>Сазонова</td>\n",
       "      <td>2018-11-21</td>\n",
       "      <td>ultra</td>\n",
       "      <td>1000</td>\n",
       "      <td>30720</td>\n",
       "      <td>3000</td>\n",
       "      <td>1950</td>\n",
       "      <td>150</td>\n",
       "      <td>1</td>\n",
       "      <td>1</td>\n",
       "      <td>30</td>\n",
       "    </tr>\n",
       "    <tr>\n",
       "      <th>...</th>\n",
       "      <td>...</td>\n",
       "      <td>...</td>\n",
       "      <td>...</td>\n",
       "      <td>...</td>\n",
       "      <td>...</td>\n",
       "      <td>...</td>\n",
       "      <td>...</td>\n",
       "      <td>...</td>\n",
       "      <td>...</td>\n",
       "      <td>...</td>\n",
       "      <td>...</td>\n",
       "      <td>...</td>\n",
       "      <td>...</td>\n",
       "      <td>...</td>\n",
       "      <td>...</td>\n",
       "      <td>...</td>\n",
       "    </tr>\n",
       "    <tr>\n",
       "      <th>495</th>\n",
       "      <td>1494</td>\n",
       "      <td>62</td>\n",
       "      <td>2018-12-31</td>\n",
       "      <td>Омск</td>\n",
       "      <td>Ренат</td>\n",
       "      <td>Андропов</td>\n",
       "      <td>2018-08-17</td>\n",
       "      <td>smart</td>\n",
       "      <td>50</td>\n",
       "      <td>15360</td>\n",
       "      <td>500</td>\n",
       "      <td>550</td>\n",
       "      <td>200</td>\n",
       "      <td>3</td>\n",
       "      <td>3</td>\n",
       "      <td>15</td>\n",
       "    </tr>\n",
       "    <tr>\n",
       "      <th>496</th>\n",
       "      <td>1496</td>\n",
       "      <td>36</td>\n",
       "      <td>2018-12-31</td>\n",
       "      <td>Вологда</td>\n",
       "      <td>Трифон</td>\n",
       "      <td>Блохин</td>\n",
       "      <td>2018-01-27</td>\n",
       "      <td>smart</td>\n",
       "      <td>50</td>\n",
       "      <td>15360</td>\n",
       "      <td>500</td>\n",
       "      <td>550</td>\n",
       "      <td>200</td>\n",
       "      <td>3</td>\n",
       "      <td>3</td>\n",
       "      <td>15</td>\n",
       "    </tr>\n",
       "    <tr>\n",
       "      <th>497</th>\n",
       "      <td>1497</td>\n",
       "      <td>32</td>\n",
       "      <td>2018-12-31</td>\n",
       "      <td>Челябинск</td>\n",
       "      <td>Каролина</td>\n",
       "      <td>Агеева</td>\n",
       "      <td>2018-10-09</td>\n",
       "      <td>smart</td>\n",
       "      <td>50</td>\n",
       "      <td>15360</td>\n",
       "      <td>500</td>\n",
       "      <td>550</td>\n",
       "      <td>200</td>\n",
       "      <td>3</td>\n",
       "      <td>3</td>\n",
       "      <td>15</td>\n",
       "    </tr>\n",
       "    <tr>\n",
       "      <th>498</th>\n",
       "      <td>1498</td>\n",
       "      <td>68</td>\n",
       "      <td>2018-10-25</td>\n",
       "      <td>Владикавказ</td>\n",
       "      <td>Всеволод</td>\n",
       "      <td>Акимчин</td>\n",
       "      <td>2018-07-19</td>\n",
       "      <td>smart</td>\n",
       "      <td>50</td>\n",
       "      <td>15360</td>\n",
       "      <td>500</td>\n",
       "      <td>550</td>\n",
       "      <td>200</td>\n",
       "      <td>3</td>\n",
       "      <td>3</td>\n",
       "      <td>15</td>\n",
       "    </tr>\n",
       "    <tr>\n",
       "      <th>499</th>\n",
       "      <td>1499</td>\n",
       "      <td>35</td>\n",
       "      <td>2018-12-31</td>\n",
       "      <td>Пермь</td>\n",
       "      <td>Гектор</td>\n",
       "      <td>Корнилов</td>\n",
       "      <td>2018-09-27</td>\n",
       "      <td>smart</td>\n",
       "      <td>50</td>\n",
       "      <td>15360</td>\n",
       "      <td>500</td>\n",
       "      <td>550</td>\n",
       "      <td>200</td>\n",
       "      <td>3</td>\n",
       "      <td>3</td>\n",
       "      <td>15</td>\n",
       "    </tr>\n",
       "  </tbody>\n",
       "</table>\n",
       "<p>500 rows × 16 columns</p>\n",
       "</div>"
      ],
      "text/plain": [
       "     user_id  age churn_date         city first_name  last_name   reg_date  \\\n",
       "0       1000   52 2018-12-31    Краснодар     Рафаил  Верещагин 2018-05-25   \n",
       "1       1003   23 2018-12-31       Москва      Белла   Белякова 2018-08-17   \n",
       "2       1004   68 2018-12-31  Новокузнецк    Татьяна   Авдеенко 2018-05-14   \n",
       "3       1013   36 2018-12-31      Иваново      Борис  Андреенко 2018-11-14   \n",
       "4       1016   58 2018-12-31         Омск     Марица   Сазонова 2018-11-21   \n",
       "..       ...  ...        ...          ...        ...        ...        ...   \n",
       "495     1494   62 2018-12-31         Омск      Ренат   Андропов 2018-08-17   \n",
       "496     1496   36 2018-12-31      Вологда     Трифон     Блохин 2018-01-27   \n",
       "497     1497   32 2018-12-31    Челябинск   Каролина     Агеева 2018-10-09   \n",
       "498     1498   68 2018-10-25  Владикавказ   Всеволод    Акимчин 2018-07-19   \n",
       "499     1499   35 2018-12-31        Пермь     Гектор   Корнилов 2018-09-27   \n",
       "\n",
       "    tariff  messages_included  mb_per_month_included  minutes_included  \\\n",
       "0    ultra               1000                  30720              3000   \n",
       "1    ultra               1000                  30720              3000   \n",
       "2    ultra               1000                  30720              3000   \n",
       "3    ultra               1000                  30720              3000   \n",
       "4    ultra               1000                  30720              3000   \n",
       "..     ...                ...                    ...               ...   \n",
       "495  smart                 50                  15360               500   \n",
       "496  smart                 50                  15360               500   \n",
       "497  smart                 50                  15360               500   \n",
       "498  smart                 50                  15360               500   \n",
       "499  smart                 50                  15360               500   \n",
       "\n",
       "     rub_monthly_fee  rub_per_gb  rub_per_message  rub_per_minute  \\\n",
       "0               1950         150                1               1   \n",
       "1               1950         150                1               1   \n",
       "2               1950         150                1               1   \n",
       "3               1950         150                1               1   \n",
       "4               1950         150                1               1   \n",
       "..               ...         ...              ...             ...   \n",
       "495              550         200                3               3   \n",
       "496              550         200                3               3   \n",
       "497              550         200                3               3   \n",
       "498              550         200                3               3   \n",
       "499              550         200                3               3   \n",
       "\n",
       "     gb_per_month_included  \n",
       "0                       30  \n",
       "1                       30  \n",
       "2                       30  \n",
       "3                       30  \n",
       "4                       30  \n",
       "..                     ...  \n",
       "495                     15  \n",
       "496                     15  \n",
       "497                     15  \n",
       "498                     15  \n",
       "499                     15  \n",
       "\n",
       "[500 rows x 16 columns]"
      ]
     },
     "execution_count": 32,
     "metadata": {},
     "output_type": "execute_result"
    }
   ],
   "source": [
    "users_tariff"
   ]
  },
  {
   "cell_type": "markdown",
   "id": "f65ef06d",
   "metadata": {},
   "source": [
    "Объединим датасеты `calls` и `users_tariff`  и посмотрим на него"
   ]
  },
  {
   "cell_type": "code",
   "execution_count": 33,
   "id": "4f98c40b",
   "metadata": {},
   "outputs": [],
   "source": [
    "users_calls = users_tariff.merge(calls, on ='user_id', how = 'inner')"
   ]
  },
  {
   "cell_type": "code",
   "execution_count": 34,
   "id": "12310bf6",
   "metadata": {},
   "outputs": [
    {
     "data": {
      "text/html": [
       "<div>\n",
       "<style scoped>\n",
       "    .dataframe tbody tr th:only-of-type {\n",
       "        vertical-align: middle;\n",
       "    }\n",
       "\n",
       "    .dataframe tbody tr th {\n",
       "        vertical-align: top;\n",
       "    }\n",
       "\n",
       "    .dataframe thead th {\n",
       "        text-align: right;\n",
       "    }\n",
       "</style>\n",
       "<table border=\"1\" class=\"dataframe\">\n",
       "  <thead>\n",
       "    <tr style=\"text-align: right;\">\n",
       "      <th></th>\n",
       "      <th>user_id</th>\n",
       "      <th>age</th>\n",
       "      <th>churn_date</th>\n",
       "      <th>city</th>\n",
       "      <th>first_name</th>\n",
       "      <th>last_name</th>\n",
       "      <th>reg_date</th>\n",
       "      <th>tariff</th>\n",
       "      <th>messages_included</th>\n",
       "      <th>mb_per_month_included</th>\n",
       "      <th>minutes_included</th>\n",
       "      <th>rub_monthly_fee</th>\n",
       "      <th>rub_per_gb</th>\n",
       "      <th>rub_per_message</th>\n",
       "      <th>rub_per_minute</th>\n",
       "      <th>gb_per_month_included</th>\n",
       "      <th>id</th>\n",
       "      <th>call_date</th>\n",
       "      <th>duration</th>\n",
       "    </tr>\n",
       "  </thead>\n",
       "  <tbody>\n",
       "    <tr>\n",
       "      <th>0</th>\n",
       "      <td>1000</td>\n",
       "      <td>52</td>\n",
       "      <td>2018-12-31</td>\n",
       "      <td>Краснодар</td>\n",
       "      <td>Рафаил</td>\n",
       "      <td>Верещагин</td>\n",
       "      <td>2018-05-25</td>\n",
       "      <td>ultra</td>\n",
       "      <td>1000</td>\n",
       "      <td>30720</td>\n",
       "      <td>3000</td>\n",
       "      <td>1950</td>\n",
       "      <td>150</td>\n",
       "      <td>1</td>\n",
       "      <td>1</td>\n",
       "      <td>30</td>\n",
       "      <td>1000_0</td>\n",
       "      <td>2018-07-25</td>\n",
       "      <td>0</td>\n",
       "    </tr>\n",
       "    <tr>\n",
       "      <th>1</th>\n",
       "      <td>1000</td>\n",
       "      <td>52</td>\n",
       "      <td>2018-12-31</td>\n",
       "      <td>Краснодар</td>\n",
       "      <td>Рафаил</td>\n",
       "      <td>Верещагин</td>\n",
       "      <td>2018-05-25</td>\n",
       "      <td>ultra</td>\n",
       "      <td>1000</td>\n",
       "      <td>30720</td>\n",
       "      <td>3000</td>\n",
       "      <td>1950</td>\n",
       "      <td>150</td>\n",
       "      <td>1</td>\n",
       "      <td>1</td>\n",
       "      <td>30</td>\n",
       "      <td>1000_1</td>\n",
       "      <td>2018-08-17</td>\n",
       "      <td>0</td>\n",
       "    </tr>\n",
       "    <tr>\n",
       "      <th>2</th>\n",
       "      <td>1000</td>\n",
       "      <td>52</td>\n",
       "      <td>2018-12-31</td>\n",
       "      <td>Краснодар</td>\n",
       "      <td>Рафаил</td>\n",
       "      <td>Верещагин</td>\n",
       "      <td>2018-05-25</td>\n",
       "      <td>ultra</td>\n",
       "      <td>1000</td>\n",
       "      <td>30720</td>\n",
       "      <td>3000</td>\n",
       "      <td>1950</td>\n",
       "      <td>150</td>\n",
       "      <td>1</td>\n",
       "      <td>1</td>\n",
       "      <td>30</td>\n",
       "      <td>1000_2</td>\n",
       "      <td>2018-06-11</td>\n",
       "      <td>3</td>\n",
       "    </tr>\n",
       "    <tr>\n",
       "      <th>3</th>\n",
       "      <td>1000</td>\n",
       "      <td>52</td>\n",
       "      <td>2018-12-31</td>\n",
       "      <td>Краснодар</td>\n",
       "      <td>Рафаил</td>\n",
       "      <td>Верещагин</td>\n",
       "      <td>2018-05-25</td>\n",
       "      <td>ultra</td>\n",
       "      <td>1000</td>\n",
       "      <td>30720</td>\n",
       "      <td>3000</td>\n",
       "      <td>1950</td>\n",
       "      <td>150</td>\n",
       "      <td>1</td>\n",
       "      <td>1</td>\n",
       "      <td>30</td>\n",
       "      <td>1000_3</td>\n",
       "      <td>2018-09-21</td>\n",
       "      <td>14</td>\n",
       "    </tr>\n",
       "    <tr>\n",
       "      <th>4</th>\n",
       "      <td>1000</td>\n",
       "      <td>52</td>\n",
       "      <td>2018-12-31</td>\n",
       "      <td>Краснодар</td>\n",
       "      <td>Рафаил</td>\n",
       "      <td>Верещагин</td>\n",
       "      <td>2018-05-25</td>\n",
       "      <td>ultra</td>\n",
       "      <td>1000</td>\n",
       "      <td>30720</td>\n",
       "      <td>3000</td>\n",
       "      <td>1950</td>\n",
       "      <td>150</td>\n",
       "      <td>1</td>\n",
       "      <td>1</td>\n",
       "      <td>30</td>\n",
       "      <td>1000_4</td>\n",
       "      <td>2018-12-15</td>\n",
       "      <td>6</td>\n",
       "    </tr>\n",
       "  </tbody>\n",
       "</table>\n",
       "</div>"
      ],
      "text/plain": [
       "   user_id  age churn_date       city first_name  last_name   reg_date tariff  \\\n",
       "0     1000   52 2018-12-31  Краснодар     Рафаил  Верещагин 2018-05-25  ultra   \n",
       "1     1000   52 2018-12-31  Краснодар     Рафаил  Верещагин 2018-05-25  ultra   \n",
       "2     1000   52 2018-12-31  Краснодар     Рафаил  Верещагин 2018-05-25  ultra   \n",
       "3     1000   52 2018-12-31  Краснодар     Рафаил  Верещагин 2018-05-25  ultra   \n",
       "4     1000   52 2018-12-31  Краснодар     Рафаил  Верещагин 2018-05-25  ultra   \n",
       "\n",
       "   messages_included  mb_per_month_included  minutes_included  \\\n",
       "0               1000                  30720              3000   \n",
       "1               1000                  30720              3000   \n",
       "2               1000                  30720              3000   \n",
       "3               1000                  30720              3000   \n",
       "4               1000                  30720              3000   \n",
       "\n",
       "   rub_monthly_fee  rub_per_gb  rub_per_message  rub_per_minute  \\\n",
       "0             1950         150                1               1   \n",
       "1             1950         150                1               1   \n",
       "2             1950         150                1               1   \n",
       "3             1950         150                1               1   \n",
       "4             1950         150                1               1   \n",
       "\n",
       "   gb_per_month_included      id  call_date  duration  \n",
       "0                     30  1000_0 2018-07-25         0  \n",
       "1                     30  1000_1 2018-08-17         0  \n",
       "2                     30  1000_2 2018-06-11         3  \n",
       "3                     30  1000_3 2018-09-21        14  \n",
       "4                     30  1000_4 2018-12-15         6  "
      ]
     },
     "execution_count": 34,
     "metadata": {},
     "output_type": "execute_result"
    }
   ],
   "source": [
    "users_calls.head()"
   ]
  },
  {
   "cell_type": "code",
   "execution_count": 35,
   "id": "7e217a1a",
   "metadata": {},
   "outputs": [
    {
     "name": "stdout",
     "output_type": "stream",
     "text": [
      "<class 'pandas.core.frame.DataFrame'>\n",
      "Int64Index: 202607 entries, 0 to 202606\n",
      "Data columns (total 19 columns):\n",
      " #   Column                 Non-Null Count   Dtype         \n",
      "---  ------                 --------------   -----         \n",
      " 0   user_id                202607 non-null  int64         \n",
      " 1   age                    202607 non-null  int64         \n",
      " 2   churn_date             202607 non-null  datetime64[ns]\n",
      " 3   city                   202607 non-null  object        \n",
      " 4   first_name             202607 non-null  object        \n",
      " 5   last_name              202607 non-null  object        \n",
      " 6   reg_date               202607 non-null  datetime64[ns]\n",
      " 7   tariff                 202607 non-null  object        \n",
      " 8   messages_included      202607 non-null  int64         \n",
      " 9   mb_per_month_included  202607 non-null  int64         \n",
      " 10  minutes_included       202607 non-null  int64         \n",
      " 11  rub_monthly_fee        202607 non-null  int64         \n",
      " 12  rub_per_gb             202607 non-null  int64         \n",
      " 13  rub_per_message        202607 non-null  int64         \n",
      " 14  rub_per_minute         202607 non-null  int64         \n",
      " 15  gb_per_month_included  202607 non-null  int32         \n",
      " 16  id                     202607 non-null  object        \n",
      " 17  call_date              202607 non-null  datetime64[ns]\n",
      " 18  duration               202607 non-null  int64         \n",
      "dtypes: datetime64[ns](3), int32(1), int64(10), object(5)\n",
      "memory usage: 30.1+ MB\n"
     ]
    }
   ],
   "source": [
    "users_calls.info()"
   ]
  },
  {
   "cell_type": "markdown",
   "id": "be4a9e34",
   "metadata": {},
   "source": [
    "### 2.4 Расчёты и добавление результатов в таблицу"
   ]
  },
  {
   "cell_type": "markdown",
   "id": "02227ca3",
   "metadata": {},
   "source": [
    "### 2.4.1 Подсчет количества сделанных звонков и израсходованных минут разговора по месяцам"
   ]
  },
  {
   "cell_type": "markdown",
   "id": "6406c771",
   "metadata": {},
   "source": [
    "Добавим столцец `month` в датасет"
   ]
  },
  {
   "cell_type": "code",
   "execution_count": 36,
   "id": "62df8316",
   "metadata": {},
   "outputs": [],
   "source": [
    "users_calls['month'] = users_calls['call_date'].dt.month"
   ]
  },
  {
   "cell_type": "markdown",
   "id": "69ba1c3a",
   "metadata": {},
   "source": [
    "Посмотрим на сводную таблицу после объединения и добавления месяца"
   ]
  },
  {
   "cell_type": "code",
   "execution_count": 37,
   "id": "231a6141",
   "metadata": {},
   "outputs": [
    {
     "data": {
      "text/html": [
       "<div>\n",
       "<style scoped>\n",
       "    .dataframe tbody tr th:only-of-type {\n",
       "        vertical-align: middle;\n",
       "    }\n",
       "\n",
       "    .dataframe tbody tr th {\n",
       "        vertical-align: top;\n",
       "    }\n",
       "\n",
       "    .dataframe thead th {\n",
       "        text-align: right;\n",
       "    }\n",
       "</style>\n",
       "<table border=\"1\" class=\"dataframe\">\n",
       "  <thead>\n",
       "    <tr style=\"text-align: right;\">\n",
       "      <th></th>\n",
       "      <th>user_id</th>\n",
       "      <th>month</th>\n",
       "      <th>tariff</th>\n",
       "      <th>count_call</th>\n",
       "      <th>sum_call_duration</th>\n",
       "    </tr>\n",
       "  </thead>\n",
       "  <tbody>\n",
       "    <tr>\n",
       "      <th>0</th>\n",
       "      <td>1000</td>\n",
       "      <td>5</td>\n",
       "      <td>ultra</td>\n",
       "      <td>22</td>\n",
       "      <td>159</td>\n",
       "    </tr>\n",
       "    <tr>\n",
       "      <th>1</th>\n",
       "      <td>1000</td>\n",
       "      <td>6</td>\n",
       "      <td>ultra</td>\n",
       "      <td>43</td>\n",
       "      <td>172</td>\n",
       "    </tr>\n",
       "  </tbody>\n",
       "</table>\n",
       "</div>"
      ],
      "text/plain": [
       "   user_id  month tariff  count_call  sum_call_duration\n",
       "0     1000      5  ultra          22                159\n",
       "1     1000      6  ultra          43                172"
      ]
     },
     "execution_count": 37,
     "metadata": {},
     "output_type": "execute_result"
    }
   ],
   "source": [
    "users_calls_pivot = users_calls.pivot_table(index=['user_id', 'month','tariff'], \n",
    "                                            values='duration',aggfunc={'count', 'sum'})\n",
    "users_calls_pivot.columns = ['count_call', 'sum_call_duration']\n",
    "users_calls_pivot=users_calls_pivot.reset_index()\n",
    "users_calls_pivot.head(2)"
   ]
  },
  {
   "cell_type": "markdown",
   "id": "6e0368b4",
   "metadata": {},
   "source": [
    "### 2.4.2 Подсчет количества отправленных сообщений по месяцам"
   ]
  },
  {
   "cell_type": "markdown",
   "id": "0e1b4828",
   "metadata": {},
   "source": [
    "Объединим датасеты `messages` и `users_tariff`  и посмотрим на него"
   ]
  },
  {
   "cell_type": "code",
   "execution_count": 38,
   "id": "2ffd59bf",
   "metadata": {},
   "outputs": [
    {
     "data": {
      "text/html": [
       "<div>\n",
       "<style scoped>\n",
       "    .dataframe tbody tr th:only-of-type {\n",
       "        vertical-align: middle;\n",
       "    }\n",
       "\n",
       "    .dataframe tbody tr th {\n",
       "        vertical-align: top;\n",
       "    }\n",
       "\n",
       "    .dataframe thead th {\n",
       "        text-align: right;\n",
       "    }\n",
       "</style>\n",
       "<table border=\"1\" class=\"dataframe\">\n",
       "  <thead>\n",
       "    <tr style=\"text-align: right;\">\n",
       "      <th></th>\n",
       "      <th>user_id</th>\n",
       "      <th>age</th>\n",
       "      <th>churn_date</th>\n",
       "      <th>city</th>\n",
       "      <th>first_name</th>\n",
       "      <th>last_name</th>\n",
       "      <th>reg_date</th>\n",
       "      <th>tariff</th>\n",
       "      <th>messages_included</th>\n",
       "      <th>mb_per_month_included</th>\n",
       "      <th>minutes_included</th>\n",
       "      <th>rub_monthly_fee</th>\n",
       "      <th>rub_per_gb</th>\n",
       "      <th>rub_per_message</th>\n",
       "      <th>rub_per_minute</th>\n",
       "      <th>gb_per_month_included</th>\n",
       "      <th>id</th>\n",
       "      <th>message_date</th>\n",
       "    </tr>\n",
       "  </thead>\n",
       "  <tbody>\n",
       "    <tr>\n",
       "      <th>0</th>\n",
       "      <td>1000</td>\n",
       "      <td>52</td>\n",
       "      <td>2018-12-31</td>\n",
       "      <td>Краснодар</td>\n",
       "      <td>Рафаил</td>\n",
       "      <td>Верещагин</td>\n",
       "      <td>2018-05-25</td>\n",
       "      <td>ultra</td>\n",
       "      <td>1000</td>\n",
       "      <td>30720</td>\n",
       "      <td>3000</td>\n",
       "      <td>1950</td>\n",
       "      <td>150</td>\n",
       "      <td>1</td>\n",
       "      <td>1</td>\n",
       "      <td>30</td>\n",
       "      <td>1000_0</td>\n",
       "      <td>2018-06-27</td>\n",
       "    </tr>\n",
       "    <tr>\n",
       "      <th>1</th>\n",
       "      <td>1000</td>\n",
       "      <td>52</td>\n",
       "      <td>2018-12-31</td>\n",
       "      <td>Краснодар</td>\n",
       "      <td>Рафаил</td>\n",
       "      <td>Верещагин</td>\n",
       "      <td>2018-05-25</td>\n",
       "      <td>ultra</td>\n",
       "      <td>1000</td>\n",
       "      <td>30720</td>\n",
       "      <td>3000</td>\n",
       "      <td>1950</td>\n",
       "      <td>150</td>\n",
       "      <td>1</td>\n",
       "      <td>1</td>\n",
       "      <td>30</td>\n",
       "      <td>1000_1</td>\n",
       "      <td>2018-10-08</td>\n",
       "    </tr>\n",
       "  </tbody>\n",
       "</table>\n",
       "</div>"
      ],
      "text/plain": [
       "   user_id  age churn_date       city first_name  last_name   reg_date tariff  \\\n",
       "0     1000   52 2018-12-31  Краснодар     Рафаил  Верещагин 2018-05-25  ultra   \n",
       "1     1000   52 2018-12-31  Краснодар     Рафаил  Верещагин 2018-05-25  ultra   \n",
       "\n",
       "   messages_included  mb_per_month_included  minutes_included  \\\n",
       "0               1000                  30720              3000   \n",
       "1               1000                  30720              3000   \n",
       "\n",
       "   rub_monthly_fee  rub_per_gb  rub_per_message  rub_per_minute  \\\n",
       "0             1950         150                1               1   \n",
       "1             1950         150                1               1   \n",
       "\n",
       "   gb_per_month_included      id message_date  \n",
       "0                     30  1000_0   2018-06-27  \n",
       "1                     30  1000_1   2018-10-08  "
      ]
     },
     "execution_count": 38,
     "metadata": {},
     "output_type": "execute_result"
    }
   ],
   "source": [
    "users_messages =  users_tariff.merge(messages, on ='user_id', how = 'inner')\n",
    "users_messages.head(2)"
   ]
  },
  {
   "cell_type": "markdown",
   "id": "33a64b52",
   "metadata": {},
   "source": [
    "Добавим столцец `month` в датасет"
   ]
  },
  {
   "cell_type": "code",
   "execution_count": 39,
   "id": "7bf2c1d7",
   "metadata": {},
   "outputs": [],
   "source": [
    "users_messages['month'] = users_messages['message_date'].dt.month"
   ]
  },
  {
   "cell_type": "markdown",
   "id": "300e12f4",
   "metadata": {},
   "source": [
    "Посмотрим на сводную таблицу после объединения и добавления месяца"
   ]
  },
  {
   "cell_type": "code",
   "execution_count": 40,
   "id": "e4f97c81",
   "metadata": {},
   "outputs": [
    {
     "data": {
      "text/html": [
       "<div>\n",
       "<style scoped>\n",
       "    .dataframe tbody tr th:only-of-type {\n",
       "        vertical-align: middle;\n",
       "    }\n",
       "\n",
       "    .dataframe tbody tr th {\n",
       "        vertical-align: top;\n",
       "    }\n",
       "\n",
       "    .dataframe thead th {\n",
       "        text-align: right;\n",
       "    }\n",
       "</style>\n",
       "<table border=\"1\" class=\"dataframe\">\n",
       "  <thead>\n",
       "    <tr style=\"text-align: right;\">\n",
       "      <th></th>\n",
       "      <th>user_id</th>\n",
       "      <th>month</th>\n",
       "      <th>tariff</th>\n",
       "      <th>count_mesg</th>\n",
       "    </tr>\n",
       "  </thead>\n",
       "  <tbody>\n",
       "    <tr>\n",
       "      <th>0</th>\n",
       "      <td>1000</td>\n",
       "      <td>5</td>\n",
       "      <td>ultra</td>\n",
       "      <td>22</td>\n",
       "    </tr>\n",
       "    <tr>\n",
       "      <th>1</th>\n",
       "      <td>1000</td>\n",
       "      <td>6</td>\n",
       "      <td>ultra</td>\n",
       "      <td>60</td>\n",
       "    </tr>\n",
       "    <tr>\n",
       "      <th>2</th>\n",
       "      <td>1000</td>\n",
       "      <td>7</td>\n",
       "      <td>ultra</td>\n",
       "      <td>75</td>\n",
       "    </tr>\n",
       "    <tr>\n",
       "      <th>3</th>\n",
       "      <td>1000</td>\n",
       "      <td>8</td>\n",
       "      <td>ultra</td>\n",
       "      <td>81</td>\n",
       "    </tr>\n",
       "    <tr>\n",
       "      <th>4</th>\n",
       "      <td>1000</td>\n",
       "      <td>9</td>\n",
       "      <td>ultra</td>\n",
       "      <td>57</td>\n",
       "    </tr>\n",
       "    <tr>\n",
       "      <th>5</th>\n",
       "      <td>1000</td>\n",
       "      <td>10</td>\n",
       "      <td>ultra</td>\n",
       "      <td>73</td>\n",
       "    </tr>\n",
       "    <tr>\n",
       "      <th>6</th>\n",
       "      <td>1000</td>\n",
       "      <td>11</td>\n",
       "      <td>ultra</td>\n",
       "      <td>58</td>\n",
       "    </tr>\n",
       "    <tr>\n",
       "      <th>7</th>\n",
       "      <td>1000</td>\n",
       "      <td>12</td>\n",
       "      <td>ultra</td>\n",
       "      <td>70</td>\n",
       "    </tr>\n",
       "    <tr>\n",
       "      <th>8</th>\n",
       "      <td>1002</td>\n",
       "      <td>6</td>\n",
       "      <td>smart</td>\n",
       "      <td>4</td>\n",
       "    </tr>\n",
       "    <tr>\n",
       "      <th>9</th>\n",
       "      <td>1002</td>\n",
       "      <td>7</td>\n",
       "      <td>smart</td>\n",
       "      <td>11</td>\n",
       "    </tr>\n",
       "  </tbody>\n",
       "</table>\n",
       "</div>"
      ],
      "text/plain": [
       "   user_id  month tariff  count_mesg\n",
       "0     1000      5  ultra          22\n",
       "1     1000      6  ultra          60\n",
       "2     1000      7  ultra          75\n",
       "3     1000      8  ultra          81\n",
       "4     1000      9  ultra          57\n",
       "5     1000     10  ultra          73\n",
       "6     1000     11  ultra          58\n",
       "7     1000     12  ultra          70\n",
       "8     1002      6  smart           4\n",
       "9     1002      7  smart          11"
      ]
     },
     "execution_count": 40,
     "metadata": {},
     "output_type": "execute_result"
    }
   ],
   "source": [
    "users_messages_pivot = users_messages.pivot_table(index=['user_id', 'month','tariff'], values='id',\n",
    "                                                   aggfunc=['count'])\n",
    "users_messages_pivot.columns = ['count_mesg']\n",
    "users_messages_pivot=users_messages_pivot.reset_index()\n",
    "users_messages_pivot.head(10)"
   ]
  },
  {
   "cell_type": "markdown",
   "id": "90473bfe",
   "metadata": {},
   "source": [
    "### 2.4.3 Подсчет объема израсходованного интернет-трафика по месяцам"
   ]
  },
  {
   "cell_type": "markdown",
   "id": "9b1c741d",
   "metadata": {},
   "source": [
    "Объединим датасеты `internet` и `users_tariff`  и посмотрим на него"
   ]
  },
  {
   "cell_type": "code",
   "execution_count": 41,
   "id": "20e28b97",
   "metadata": {},
   "outputs": [
    {
     "data": {
      "text/html": [
       "<div>\n",
       "<style scoped>\n",
       "    .dataframe tbody tr th:only-of-type {\n",
       "        vertical-align: middle;\n",
       "    }\n",
       "\n",
       "    .dataframe tbody tr th {\n",
       "        vertical-align: top;\n",
       "    }\n",
       "\n",
       "    .dataframe thead th {\n",
       "        text-align: right;\n",
       "    }\n",
       "</style>\n",
       "<table border=\"1\" class=\"dataframe\">\n",
       "  <thead>\n",
       "    <tr style=\"text-align: right;\">\n",
       "      <th></th>\n",
       "      <th>user_id</th>\n",
       "      <th>age</th>\n",
       "      <th>churn_date</th>\n",
       "      <th>city</th>\n",
       "      <th>first_name</th>\n",
       "      <th>last_name</th>\n",
       "      <th>reg_date</th>\n",
       "      <th>tariff</th>\n",
       "      <th>messages_included</th>\n",
       "      <th>mb_per_month_included</th>\n",
       "      <th>minutes_included</th>\n",
       "      <th>rub_monthly_fee</th>\n",
       "      <th>rub_per_gb</th>\n",
       "      <th>rub_per_message</th>\n",
       "      <th>rub_per_minute</th>\n",
       "      <th>gb_per_month_included</th>\n",
       "      <th>id</th>\n",
       "      <th>mb_used</th>\n",
       "      <th>session_date</th>\n",
       "    </tr>\n",
       "  </thead>\n",
       "  <tbody>\n",
       "    <tr>\n",
       "      <th>0</th>\n",
       "      <td>1000</td>\n",
       "      <td>52</td>\n",
       "      <td>2018-12-31</td>\n",
       "      <td>Краснодар</td>\n",
       "      <td>Рафаил</td>\n",
       "      <td>Верещагин</td>\n",
       "      <td>2018-05-25</td>\n",
       "      <td>ultra</td>\n",
       "      <td>1000</td>\n",
       "      <td>30720</td>\n",
       "      <td>3000</td>\n",
       "      <td>1950</td>\n",
       "      <td>150</td>\n",
       "      <td>1</td>\n",
       "      <td>1</td>\n",
       "      <td>30</td>\n",
       "      <td>1000_0</td>\n",
       "      <td>112.95</td>\n",
       "      <td>2018-11-25</td>\n",
       "    </tr>\n",
       "    <tr>\n",
       "      <th>1</th>\n",
       "      <td>1000</td>\n",
       "      <td>52</td>\n",
       "      <td>2018-12-31</td>\n",
       "      <td>Краснодар</td>\n",
       "      <td>Рафаил</td>\n",
       "      <td>Верещагин</td>\n",
       "      <td>2018-05-25</td>\n",
       "      <td>ultra</td>\n",
       "      <td>1000</td>\n",
       "      <td>30720</td>\n",
       "      <td>3000</td>\n",
       "      <td>1950</td>\n",
       "      <td>150</td>\n",
       "      <td>1</td>\n",
       "      <td>1</td>\n",
       "      <td>30</td>\n",
       "      <td>1000_1</td>\n",
       "      <td>1052.81</td>\n",
       "      <td>2018-09-07</td>\n",
       "    </tr>\n",
       "  </tbody>\n",
       "</table>\n",
       "</div>"
      ],
      "text/plain": [
       "   user_id  age churn_date       city first_name  last_name   reg_date tariff  \\\n",
       "0     1000   52 2018-12-31  Краснодар     Рафаил  Верещагин 2018-05-25  ultra   \n",
       "1     1000   52 2018-12-31  Краснодар     Рафаил  Верещагин 2018-05-25  ultra   \n",
       "\n",
       "   messages_included  mb_per_month_included  minutes_included  \\\n",
       "0               1000                  30720              3000   \n",
       "1               1000                  30720              3000   \n",
       "\n",
       "   rub_monthly_fee  rub_per_gb  rub_per_message  rub_per_minute  \\\n",
       "0             1950         150                1               1   \n",
       "1             1950         150                1               1   \n",
       "\n",
       "   gb_per_month_included      id  mb_used session_date  \n",
       "0                     30  1000_0   112.95   2018-11-25  \n",
       "1                     30  1000_1  1052.81   2018-09-07  "
      ]
     },
     "execution_count": 41,
     "metadata": {},
     "output_type": "execute_result"
    }
   ],
   "source": [
    "users_internet =  users_tariff.merge(internet, on ='user_id', how = 'inner')\n",
    "users_internet.head(2)"
   ]
  },
  {
   "cell_type": "markdown",
   "id": "cb671bb3",
   "metadata": {},
   "source": [
    "Добавим столцец `month` в датасет"
   ]
  },
  {
   "cell_type": "code",
   "execution_count": 42,
   "id": "41a42465",
   "metadata": {},
   "outputs": [
    {
     "data": {
      "text/html": [
       "<div>\n",
       "<style scoped>\n",
       "    .dataframe tbody tr th:only-of-type {\n",
       "        vertical-align: middle;\n",
       "    }\n",
       "\n",
       "    .dataframe tbody tr th {\n",
       "        vertical-align: top;\n",
       "    }\n",
       "\n",
       "    .dataframe thead th {\n",
       "        text-align: right;\n",
       "    }\n",
       "</style>\n",
       "<table border=\"1\" class=\"dataframe\">\n",
       "  <thead>\n",
       "    <tr style=\"text-align: right;\">\n",
       "      <th></th>\n",
       "      <th>user_id</th>\n",
       "      <th>age</th>\n",
       "      <th>churn_date</th>\n",
       "      <th>city</th>\n",
       "      <th>first_name</th>\n",
       "      <th>last_name</th>\n",
       "      <th>reg_date</th>\n",
       "      <th>tariff</th>\n",
       "      <th>messages_included</th>\n",
       "      <th>mb_per_month_included</th>\n",
       "      <th>minutes_included</th>\n",
       "      <th>rub_monthly_fee</th>\n",
       "      <th>rub_per_gb</th>\n",
       "      <th>rub_per_message</th>\n",
       "      <th>rub_per_minute</th>\n",
       "      <th>gb_per_month_included</th>\n",
       "      <th>id</th>\n",
       "      <th>mb_used</th>\n",
       "      <th>session_date</th>\n",
       "      <th>month</th>\n",
       "    </tr>\n",
       "  </thead>\n",
       "  <tbody>\n",
       "    <tr>\n",
       "      <th>0</th>\n",
       "      <td>1000</td>\n",
       "      <td>52</td>\n",
       "      <td>2018-12-31</td>\n",
       "      <td>Краснодар</td>\n",
       "      <td>Рафаил</td>\n",
       "      <td>Верещагин</td>\n",
       "      <td>2018-05-25</td>\n",
       "      <td>ultra</td>\n",
       "      <td>1000</td>\n",
       "      <td>30720</td>\n",
       "      <td>3000</td>\n",
       "      <td>1950</td>\n",
       "      <td>150</td>\n",
       "      <td>1</td>\n",
       "      <td>1</td>\n",
       "      <td>30</td>\n",
       "      <td>1000_0</td>\n",
       "      <td>112.95</td>\n",
       "      <td>2018-11-25</td>\n",
       "      <td>11</td>\n",
       "    </tr>\n",
       "    <tr>\n",
       "      <th>1</th>\n",
       "      <td>1000</td>\n",
       "      <td>52</td>\n",
       "      <td>2018-12-31</td>\n",
       "      <td>Краснодар</td>\n",
       "      <td>Рафаил</td>\n",
       "      <td>Верещагин</td>\n",
       "      <td>2018-05-25</td>\n",
       "      <td>ultra</td>\n",
       "      <td>1000</td>\n",
       "      <td>30720</td>\n",
       "      <td>3000</td>\n",
       "      <td>1950</td>\n",
       "      <td>150</td>\n",
       "      <td>1</td>\n",
       "      <td>1</td>\n",
       "      <td>30</td>\n",
       "      <td>1000_1</td>\n",
       "      <td>1052.81</td>\n",
       "      <td>2018-09-07</td>\n",
       "      <td>9</td>\n",
       "    </tr>\n",
       "  </tbody>\n",
       "</table>\n",
       "</div>"
      ],
      "text/plain": [
       "   user_id  age churn_date       city first_name  last_name   reg_date tariff  \\\n",
       "0     1000   52 2018-12-31  Краснодар     Рафаил  Верещагин 2018-05-25  ultra   \n",
       "1     1000   52 2018-12-31  Краснодар     Рафаил  Верещагин 2018-05-25  ultra   \n",
       "\n",
       "   messages_included  mb_per_month_included  minutes_included  \\\n",
       "0               1000                  30720              3000   \n",
       "1               1000                  30720              3000   \n",
       "\n",
       "   rub_monthly_fee  rub_per_gb  rub_per_message  rub_per_minute  \\\n",
       "0             1950         150                1               1   \n",
       "1             1950         150                1               1   \n",
       "\n",
       "   gb_per_month_included      id  mb_used session_date  month  \n",
       "0                     30  1000_0   112.95   2018-11-25     11  \n",
       "1                     30  1000_1  1052.81   2018-09-07      9  "
      ]
     },
     "execution_count": 42,
     "metadata": {},
     "output_type": "execute_result"
    }
   ],
   "source": [
    "users_internet['month'] = users_internet['session_date'].dt.month\n",
    "users_internet.head(2)"
   ]
  },
  {
   "cell_type": "markdown",
   "id": "945e7a10",
   "metadata": {},
   "source": [
    "Посмотрим на сводную таблицу после объединения и добавления месяца"
   ]
  },
  {
   "cell_type": "code",
   "execution_count": 43,
   "id": "c78eb654",
   "metadata": {},
   "outputs": [
    {
     "data": {
      "text/html": [
       "<div>\n",
       "<style scoped>\n",
       "    .dataframe tbody tr th:only-of-type {\n",
       "        vertical-align: middle;\n",
       "    }\n",
       "\n",
       "    .dataframe tbody tr th {\n",
       "        vertical-align: top;\n",
       "    }\n",
       "\n",
       "    .dataframe thead th {\n",
       "        text-align: right;\n",
       "    }\n",
       "</style>\n",
       "<table border=\"1\" class=\"dataframe\">\n",
       "  <thead>\n",
       "    <tr style=\"text-align: right;\">\n",
       "      <th></th>\n",
       "      <th>user_id</th>\n",
       "      <th>month</th>\n",
       "      <th>tariff</th>\n",
       "      <th>sum_mb_used</th>\n",
       "    </tr>\n",
       "  </thead>\n",
       "  <tbody>\n",
       "    <tr>\n",
       "      <th>0</th>\n",
       "      <td>1000</td>\n",
       "      <td>5</td>\n",
       "      <td>ultra</td>\n",
       "      <td>2253.49</td>\n",
       "    </tr>\n",
       "    <tr>\n",
       "      <th>1</th>\n",
       "      <td>1000</td>\n",
       "      <td>6</td>\n",
       "      <td>ultra</td>\n",
       "      <td>23233.77</td>\n",
       "    </tr>\n",
       "  </tbody>\n",
       "</table>\n",
       "</div>"
      ],
      "text/plain": [
       "   user_id  month tariff  sum_mb_used\n",
       "0     1000      5  ultra      2253.49\n",
       "1     1000      6  ultra     23233.77"
      ]
     },
     "execution_count": 43,
     "metadata": {},
     "output_type": "execute_result"
    }
   ],
   "source": [
    "users_internet_pivot = users_internet.pivot_table(index=['user_id', 'month','tariff'], values='mb_used',\n",
    "                                                   aggfunc=['sum'])\n",
    "users_internet_pivot.columns = ['sum_mb_used']\n",
    "users_internet_pivot=users_internet_pivot.reset_index()\n",
    "users_internet_pivot.head(2)"
   ]
  },
  {
   "cell_type": "markdown",
   "id": "7b52b953",
   "metadata": {},
   "source": [
    "Создадим одну общую сводную таблицу для дальнейшего исследования данных"
   ]
  },
  {
   "cell_type": "code",
   "execution_count": 44,
   "id": "866769f9",
   "metadata": {},
   "outputs": [
    {
     "data": {
      "text/html": [
       "<div>\n",
       "<style scoped>\n",
       "    .dataframe tbody tr th:only-of-type {\n",
       "        vertical-align: middle;\n",
       "    }\n",
       "\n",
       "    .dataframe tbody tr th {\n",
       "        vertical-align: top;\n",
       "    }\n",
       "\n",
       "    .dataframe thead th {\n",
       "        text-align: right;\n",
       "    }\n",
       "</style>\n",
       "<table border=\"1\" class=\"dataframe\">\n",
       "  <thead>\n",
       "    <tr style=\"text-align: right;\">\n",
       "      <th></th>\n",
       "      <th>user_id</th>\n",
       "      <th>month</th>\n",
       "      <th>tariff</th>\n",
       "      <th>count_call</th>\n",
       "      <th>sum_call_duration</th>\n",
       "      <th>count_mesg</th>\n",
       "      <th>sum_mb_used</th>\n",
       "    </tr>\n",
       "  </thead>\n",
       "  <tbody>\n",
       "    <tr>\n",
       "      <th>0</th>\n",
       "      <td>1000</td>\n",
       "      <td>5</td>\n",
       "      <td>ultra</td>\n",
       "      <td>22.0</td>\n",
       "      <td>159.0</td>\n",
       "      <td>22.0</td>\n",
       "      <td>2253.49</td>\n",
       "    </tr>\n",
       "    <tr>\n",
       "      <th>1</th>\n",
       "      <td>1000</td>\n",
       "      <td>6</td>\n",
       "      <td>ultra</td>\n",
       "      <td>43.0</td>\n",
       "      <td>172.0</td>\n",
       "      <td>60.0</td>\n",
       "      <td>23233.77</td>\n",
       "    </tr>\n",
       "    <tr>\n",
       "      <th>2</th>\n",
       "      <td>1000</td>\n",
       "      <td>7</td>\n",
       "      <td>ultra</td>\n",
       "      <td>47.0</td>\n",
       "      <td>340.0</td>\n",
       "      <td>75.0</td>\n",
       "      <td>14003.64</td>\n",
       "    </tr>\n",
       "    <tr>\n",
       "      <th>3</th>\n",
       "      <td>1000</td>\n",
       "      <td>8</td>\n",
       "      <td>ultra</td>\n",
       "      <td>52.0</td>\n",
       "      <td>408.0</td>\n",
       "      <td>81.0</td>\n",
       "      <td>14055.93</td>\n",
       "    </tr>\n",
       "    <tr>\n",
       "      <th>4</th>\n",
       "      <td>1000</td>\n",
       "      <td>9</td>\n",
       "      <td>ultra</td>\n",
       "      <td>58.0</td>\n",
       "      <td>466.0</td>\n",
       "      <td>57.0</td>\n",
       "      <td>14568.91</td>\n",
       "    </tr>\n",
       "    <tr>\n",
       "      <th>5</th>\n",
       "      <td>1000</td>\n",
       "      <td>10</td>\n",
       "      <td>ultra</td>\n",
       "      <td>57.0</td>\n",
       "      <td>350.0</td>\n",
       "      <td>73.0</td>\n",
       "      <td>14702.49</td>\n",
       "    </tr>\n",
       "    <tr>\n",
       "      <th>6</th>\n",
       "      <td>1000</td>\n",
       "      <td>11</td>\n",
       "      <td>ultra</td>\n",
       "      <td>43.0</td>\n",
       "      <td>338.0</td>\n",
       "      <td>58.0</td>\n",
       "      <td>14756.47</td>\n",
       "    </tr>\n",
       "    <tr>\n",
       "      <th>7</th>\n",
       "      <td>1000</td>\n",
       "      <td>12</td>\n",
       "      <td>ultra</td>\n",
       "      <td>46.0</td>\n",
       "      <td>333.0</td>\n",
       "      <td>70.0</td>\n",
       "      <td>9817.61</td>\n",
       "    </tr>\n",
       "    <tr>\n",
       "      <th>8</th>\n",
       "      <td>1001</td>\n",
       "      <td>11</td>\n",
       "      <td>smart</td>\n",
       "      <td>59.0</td>\n",
       "      <td>430.0</td>\n",
       "      <td>NaN</td>\n",
       "      <td>18429.34</td>\n",
       "    </tr>\n",
       "    <tr>\n",
       "      <th>9</th>\n",
       "      <td>1001</td>\n",
       "      <td>12</td>\n",
       "      <td>smart</td>\n",
       "      <td>63.0</td>\n",
       "      <td>414.0</td>\n",
       "      <td>NaN</td>\n",
       "      <td>14036.66</td>\n",
       "    </tr>\n",
       "    <tr>\n",
       "      <th>10</th>\n",
       "      <td>1002</td>\n",
       "      <td>6</td>\n",
       "      <td>smart</td>\n",
       "      <td>15.0</td>\n",
       "      <td>117.0</td>\n",
       "      <td>4.0</td>\n",
       "      <td>10856.82</td>\n",
       "    </tr>\n",
       "    <tr>\n",
       "      <th>11</th>\n",
       "      <td>1002</td>\n",
       "      <td>7</td>\n",
       "      <td>smart</td>\n",
       "      <td>26.0</td>\n",
       "      <td>214.0</td>\n",
       "      <td>11.0</td>\n",
       "      <td>17580.10</td>\n",
       "    </tr>\n",
       "    <tr>\n",
       "      <th>12</th>\n",
       "      <td>1002</td>\n",
       "      <td>8</td>\n",
       "      <td>smart</td>\n",
       "      <td>42.0</td>\n",
       "      <td>289.0</td>\n",
       "      <td>13.0</td>\n",
       "      <td>20319.26</td>\n",
       "    </tr>\n",
       "    <tr>\n",
       "      <th>13</th>\n",
       "      <td>1002</td>\n",
       "      <td>9</td>\n",
       "      <td>smart</td>\n",
       "      <td>36.0</td>\n",
       "      <td>206.0</td>\n",
       "      <td>4.0</td>\n",
       "      <td>16691.08</td>\n",
       "    </tr>\n",
       "    <tr>\n",
       "      <th>14</th>\n",
       "      <td>1002</td>\n",
       "      <td>10</td>\n",
       "      <td>smart</td>\n",
       "      <td>33.0</td>\n",
       "      <td>212.0</td>\n",
       "      <td>10.0</td>\n",
       "      <td>13888.25</td>\n",
       "    </tr>\n",
       "    <tr>\n",
       "      <th>15</th>\n",
       "      <td>1002</td>\n",
       "      <td>11</td>\n",
       "      <td>smart</td>\n",
       "      <td>32.0</td>\n",
       "      <td>243.0</td>\n",
       "      <td>16.0</td>\n",
       "      <td>18587.28</td>\n",
       "    </tr>\n",
       "    <tr>\n",
       "      <th>16</th>\n",
       "      <td>1002</td>\n",
       "      <td>12</td>\n",
       "      <td>smart</td>\n",
       "      <td>33.0</td>\n",
       "      <td>236.0</td>\n",
       "      <td>12.0</td>\n",
       "      <td>18113.73</td>\n",
       "    </tr>\n",
       "  </tbody>\n",
       "</table>\n",
       "</div>"
      ],
      "text/plain": [
       "    user_id  month tariff  count_call  sum_call_duration  count_mesg  \\\n",
       "0      1000      5  ultra        22.0              159.0        22.0   \n",
       "1      1000      6  ultra        43.0              172.0        60.0   \n",
       "2      1000      7  ultra        47.0              340.0        75.0   \n",
       "3      1000      8  ultra        52.0              408.0        81.0   \n",
       "4      1000      9  ultra        58.0              466.0        57.0   \n",
       "5      1000     10  ultra        57.0              350.0        73.0   \n",
       "6      1000     11  ultra        43.0              338.0        58.0   \n",
       "7      1000     12  ultra        46.0              333.0        70.0   \n",
       "8      1001     11  smart        59.0              430.0         NaN   \n",
       "9      1001     12  smart        63.0              414.0         NaN   \n",
       "10     1002      6  smart        15.0              117.0         4.0   \n",
       "11     1002      7  smart        26.0              214.0        11.0   \n",
       "12     1002      8  smart        42.0              289.0        13.0   \n",
       "13     1002      9  smart        36.0              206.0         4.0   \n",
       "14     1002     10  smart        33.0              212.0        10.0   \n",
       "15     1002     11  smart        32.0              243.0        16.0   \n",
       "16     1002     12  smart        33.0              236.0        12.0   \n",
       "\n",
       "    sum_mb_used  \n",
       "0       2253.49  \n",
       "1      23233.77  \n",
       "2      14003.64  \n",
       "3      14055.93  \n",
       "4      14568.91  \n",
       "5      14702.49  \n",
       "6      14756.47  \n",
       "7       9817.61  \n",
       "8      18429.34  \n",
       "9      14036.66  \n",
       "10     10856.82  \n",
       "11     17580.10  \n",
       "12     20319.26  \n",
       "13     16691.08  \n",
       "14     13888.25  \n",
       "15     18587.28  \n",
       "16     18113.73  "
      ]
     },
     "execution_count": 44,
     "metadata": {},
     "output_type": "execute_result"
    }
   ],
   "source": [
    "df=users_calls_pivot.merge(users_messages_pivot, on=['user_id', 'month','tariff'], how='outer')\n",
    "df=df.merge(users_internet_pivot, on=['user_id', 'month','tariff'] ,how='outer')\n",
    "df.head(17)"
   ]
  },
  {
   "cell_type": "markdown",
   "id": "1a268dac",
   "metadata": {},
   "source": [
    "Проверим на пропуски"
   ]
  },
  {
   "cell_type": "code",
   "execution_count": 45,
   "id": "1bf4d39b",
   "metadata": {
    "scrolled": true
   },
   "outputs": [
    {
     "data": {
      "text/plain": [
       "user_id                0\n",
       "month                  0\n",
       "tariff                 0\n",
       "count_call            40\n",
       "sum_call_duration     40\n",
       "count_mesg           497\n",
       "sum_mb_used           11\n",
       "dtype: int64"
      ]
     },
     "execution_count": 45,
     "metadata": {},
     "output_type": "execute_result"
    }
   ],
   "source": [
    "df.isna().sum()"
   ]
  },
  {
   "cell_type": "markdown",
   "id": "617ed1df",
   "metadata": {},
   "source": [
    "Заполним пропуски нулями и переведем в целочисленьный тип"
   ]
  },
  {
   "cell_type": "code",
   "execution_count": 46,
   "id": "b109da50",
   "metadata": {},
   "outputs": [],
   "source": [
    "col_to_replace = ['count_call', 'sum_call_duration', 'count_mesg', 'sum_mb_used'] \n",
    "for col in col_to_replace:\n",
    "    df[col]=df[col].fillna(0).astype('int')"
   ]
  },
  {
   "cell_type": "code",
   "execution_count": 47,
   "id": "27af1639",
   "metadata": {
    "scrolled": true
   },
   "outputs": [
    {
     "data": {
      "text/plain": [
       "user_id              0\n",
       "month                0\n",
       "tariff               0\n",
       "count_call           0\n",
       "sum_call_duration    0\n",
       "count_mesg           0\n",
       "sum_mb_used          0\n",
       "dtype: int64"
      ]
     },
     "execution_count": 47,
     "metadata": {},
     "output_type": "execute_result"
    }
   ],
   "source": [
    "df.isna().sum()"
   ]
  },
  {
   "cell_type": "markdown",
   "id": "d0455544",
   "metadata": {},
   "source": [
    "Проверим на дубликаты"
   ]
  },
  {
   "cell_type": "code",
   "execution_count": 48,
   "id": "879d30e8",
   "metadata": {},
   "outputs": [
    {
     "data": {
      "text/plain": [
       "0"
      ]
     },
     "execution_count": 48,
     "metadata": {},
     "output_type": "execute_result"
    }
   ],
   "source": [
    "df.duplicated().sum()"
   ]
  },
  {
   "cell_type": "markdown",
   "id": "576c253d",
   "metadata": {},
   "source": [
    "Добавим столбец с суммарным израсходованным интернет-трафиком и округлим в большую сторону"
   ]
  },
  {
   "cell_type": "code",
   "execution_count": 49,
   "id": "d18393cb",
   "metadata": {
    "scrolled": false
   },
   "outputs": [
    {
     "data": {
      "text/html": [
       "<div>\n",
       "<style scoped>\n",
       "    .dataframe tbody tr th:only-of-type {\n",
       "        vertical-align: middle;\n",
       "    }\n",
       "\n",
       "    .dataframe tbody tr th {\n",
       "        vertical-align: top;\n",
       "    }\n",
       "\n",
       "    .dataframe thead th {\n",
       "        text-align: right;\n",
       "    }\n",
       "</style>\n",
       "<table border=\"1\" class=\"dataframe\">\n",
       "  <thead>\n",
       "    <tr style=\"text-align: right;\">\n",
       "      <th></th>\n",
       "      <th>user_id</th>\n",
       "      <th>month</th>\n",
       "      <th>tariff</th>\n",
       "      <th>count_call</th>\n",
       "      <th>sum_call_duration</th>\n",
       "      <th>count_mesg</th>\n",
       "      <th>sum_mb_used</th>\n",
       "      <th>sum_gb_used</th>\n",
       "    </tr>\n",
       "  </thead>\n",
       "  <tbody>\n",
       "    <tr>\n",
       "      <th>0</th>\n",
       "      <td>1000</td>\n",
       "      <td>5</td>\n",
       "      <td>ultra</td>\n",
       "      <td>22</td>\n",
       "      <td>159</td>\n",
       "      <td>22</td>\n",
       "      <td>2253</td>\n",
       "      <td>3</td>\n",
       "    </tr>\n",
       "    <tr>\n",
       "      <th>1</th>\n",
       "      <td>1000</td>\n",
       "      <td>6</td>\n",
       "      <td>ultra</td>\n",
       "      <td>43</td>\n",
       "      <td>172</td>\n",
       "      <td>60</td>\n",
       "      <td>23233</td>\n",
       "      <td>23</td>\n",
       "    </tr>\n",
       "    <tr>\n",
       "      <th>2</th>\n",
       "      <td>1000</td>\n",
       "      <td>7</td>\n",
       "      <td>ultra</td>\n",
       "      <td>47</td>\n",
       "      <td>340</td>\n",
       "      <td>75</td>\n",
       "      <td>14003</td>\n",
       "      <td>14</td>\n",
       "    </tr>\n",
       "    <tr>\n",
       "      <th>3</th>\n",
       "      <td>1000</td>\n",
       "      <td>8</td>\n",
       "      <td>ultra</td>\n",
       "      <td>52</td>\n",
       "      <td>408</td>\n",
       "      <td>81</td>\n",
       "      <td>14055</td>\n",
       "      <td>14</td>\n",
       "    </tr>\n",
       "    <tr>\n",
       "      <th>4</th>\n",
       "      <td>1000</td>\n",
       "      <td>9</td>\n",
       "      <td>ultra</td>\n",
       "      <td>58</td>\n",
       "      <td>466</td>\n",
       "      <td>57</td>\n",
       "      <td>14568</td>\n",
       "      <td>15</td>\n",
       "    </tr>\n",
       "    <tr>\n",
       "      <th>...</th>\n",
       "      <td>...</td>\n",
       "      <td>...</td>\n",
       "      <td>...</td>\n",
       "      <td>...</td>\n",
       "      <td>...</td>\n",
       "      <td>...</td>\n",
       "      <td>...</td>\n",
       "      <td>...</td>\n",
       "    </tr>\n",
       "    <tr>\n",
       "      <th>3209</th>\n",
       "      <td>1489</td>\n",
       "      <td>9</td>\n",
       "      <td>smart</td>\n",
       "      <td>0</td>\n",
       "      <td>0</td>\n",
       "      <td>32</td>\n",
       "      <td>17206</td>\n",
       "      <td>17</td>\n",
       "    </tr>\n",
       "    <tr>\n",
       "      <th>3210</th>\n",
       "      <td>1489</td>\n",
       "      <td>10</td>\n",
       "      <td>smart</td>\n",
       "      <td>0</td>\n",
       "      <td>0</td>\n",
       "      <td>21</td>\n",
       "      <td>19559</td>\n",
       "      <td>20</td>\n",
       "    </tr>\n",
       "    <tr>\n",
       "      <th>3211</th>\n",
       "      <td>1489</td>\n",
       "      <td>11</td>\n",
       "      <td>smart</td>\n",
       "      <td>0</td>\n",
       "      <td>0</td>\n",
       "      <td>20</td>\n",
       "      <td>17491</td>\n",
       "      <td>18</td>\n",
       "    </tr>\n",
       "    <tr>\n",
       "      <th>3212</th>\n",
       "      <td>1489</td>\n",
       "      <td>12</td>\n",
       "      <td>smart</td>\n",
       "      <td>0</td>\n",
       "      <td>0</td>\n",
       "      <td>35</td>\n",
       "      <td>17322</td>\n",
       "      <td>17</td>\n",
       "    </tr>\n",
       "    <tr>\n",
       "      <th>3213</th>\n",
       "      <td>1476</td>\n",
       "      <td>4</td>\n",
       "      <td>ultra</td>\n",
       "      <td>0</td>\n",
       "      <td>0</td>\n",
       "      <td>0</td>\n",
       "      <td>530</td>\n",
       "      <td>1</td>\n",
       "    </tr>\n",
       "  </tbody>\n",
       "</table>\n",
       "<p>3214 rows × 8 columns</p>\n",
       "</div>"
      ],
      "text/plain": [
       "      user_id  month tariff  count_call  sum_call_duration  count_mesg  \\\n",
       "0        1000      5  ultra          22                159          22   \n",
       "1        1000      6  ultra          43                172          60   \n",
       "2        1000      7  ultra          47                340          75   \n",
       "3        1000      8  ultra          52                408          81   \n",
       "4        1000      9  ultra          58                466          57   \n",
       "...       ...    ...    ...         ...                ...         ...   \n",
       "3209     1489      9  smart           0                  0          32   \n",
       "3210     1489     10  smart           0                  0          21   \n",
       "3211     1489     11  smart           0                  0          20   \n",
       "3212     1489     12  smart           0                  0          35   \n",
       "3213     1476      4  ultra           0                  0           0   \n",
       "\n",
       "      sum_mb_used  sum_gb_used  \n",
       "0            2253            3  \n",
       "1           23233           23  \n",
       "2           14003           14  \n",
       "3           14055           14  \n",
       "4           14568           15  \n",
       "...           ...          ...  \n",
       "3209        17206           17  \n",
       "3210        19559           20  \n",
       "3211        17491           18  \n",
       "3212        17322           17  \n",
       "3213          530            1  \n",
       "\n",
       "[3214 rows x 8 columns]"
      ]
     },
     "execution_count": 49,
     "metadata": {},
     "output_type": "execute_result"
    }
   ],
   "source": [
    "df['sum_gb_used']= df['sum_mb_used']/1024\n",
    "df['sum_gb_used']=df['sum_gb_used'].apply(math.ceil)\n",
    "df"
   ]
  },
  {
   "cell_type": "markdown",
   "id": "a3b5435d",
   "metadata": {},
   "source": [
    "Добавим столбец `city`  в итоговую таблицу"
   ]
  },
  {
   "cell_type": "code",
   "execution_count": 50,
   "id": "c19092ae",
   "metadata": {},
   "outputs": [
    {
     "data": {
      "text/html": [
       "<div>\n",
       "<style scoped>\n",
       "    .dataframe tbody tr th:only-of-type {\n",
       "        vertical-align: middle;\n",
       "    }\n",
       "\n",
       "    .dataframe tbody tr th {\n",
       "        vertical-align: top;\n",
       "    }\n",
       "\n",
       "    .dataframe thead th {\n",
       "        text-align: right;\n",
       "    }\n",
       "</style>\n",
       "<table border=\"1\" class=\"dataframe\">\n",
       "  <thead>\n",
       "    <tr style=\"text-align: right;\">\n",
       "      <th></th>\n",
       "      <th>user_id</th>\n",
       "      <th>month</th>\n",
       "      <th>tariff</th>\n",
       "      <th>count_call</th>\n",
       "      <th>sum_call_duration</th>\n",
       "      <th>count_mesg</th>\n",
       "      <th>sum_mb_used</th>\n",
       "      <th>sum_gb_used</th>\n",
       "      <th>city</th>\n",
       "    </tr>\n",
       "  </thead>\n",
       "  <tbody>\n",
       "    <tr>\n",
       "      <th>0</th>\n",
       "      <td>1000</td>\n",
       "      <td>5</td>\n",
       "      <td>ultra</td>\n",
       "      <td>22</td>\n",
       "      <td>159</td>\n",
       "      <td>22</td>\n",
       "      <td>2253</td>\n",
       "      <td>3</td>\n",
       "      <td>Краснодар</td>\n",
       "    </tr>\n",
       "    <tr>\n",
       "      <th>1</th>\n",
       "      <td>1000</td>\n",
       "      <td>6</td>\n",
       "      <td>ultra</td>\n",
       "      <td>43</td>\n",
       "      <td>172</td>\n",
       "      <td>60</td>\n",
       "      <td>23233</td>\n",
       "      <td>23</td>\n",
       "      <td>Краснодар</td>\n",
       "    </tr>\n",
       "    <tr>\n",
       "      <th>2</th>\n",
       "      <td>1000</td>\n",
       "      <td>7</td>\n",
       "      <td>ultra</td>\n",
       "      <td>47</td>\n",
       "      <td>340</td>\n",
       "      <td>75</td>\n",
       "      <td>14003</td>\n",
       "      <td>14</td>\n",
       "      <td>Краснодар</td>\n",
       "    </tr>\n",
       "    <tr>\n",
       "      <th>3</th>\n",
       "      <td>1000</td>\n",
       "      <td>8</td>\n",
       "      <td>ultra</td>\n",
       "      <td>52</td>\n",
       "      <td>408</td>\n",
       "      <td>81</td>\n",
       "      <td>14055</td>\n",
       "      <td>14</td>\n",
       "      <td>Краснодар</td>\n",
       "    </tr>\n",
       "    <tr>\n",
       "      <th>4</th>\n",
       "      <td>1000</td>\n",
       "      <td>9</td>\n",
       "      <td>ultra</td>\n",
       "      <td>58</td>\n",
       "      <td>466</td>\n",
       "      <td>57</td>\n",
       "      <td>14568</td>\n",
       "      <td>15</td>\n",
       "      <td>Краснодар</td>\n",
       "    </tr>\n",
       "    <tr>\n",
       "      <th>...</th>\n",
       "      <td>...</td>\n",
       "      <td>...</td>\n",
       "      <td>...</td>\n",
       "      <td>...</td>\n",
       "      <td>...</td>\n",
       "      <td>...</td>\n",
       "      <td>...</td>\n",
       "      <td>...</td>\n",
       "      <td>...</td>\n",
       "    </tr>\n",
       "    <tr>\n",
       "      <th>3209</th>\n",
       "      <td>1489</td>\n",
       "      <td>8</td>\n",
       "      <td>smart</td>\n",
       "      <td>0</td>\n",
       "      <td>0</td>\n",
       "      <td>17</td>\n",
       "      <td>11050</td>\n",
       "      <td>11</td>\n",
       "      <td>Санкт-Петербург</td>\n",
       "    </tr>\n",
       "    <tr>\n",
       "      <th>3210</th>\n",
       "      <td>1489</td>\n",
       "      <td>9</td>\n",
       "      <td>smart</td>\n",
       "      <td>0</td>\n",
       "      <td>0</td>\n",
       "      <td>32</td>\n",
       "      <td>17206</td>\n",
       "      <td>17</td>\n",
       "      <td>Санкт-Петербург</td>\n",
       "    </tr>\n",
       "    <tr>\n",
       "      <th>3211</th>\n",
       "      <td>1489</td>\n",
       "      <td>10</td>\n",
       "      <td>smart</td>\n",
       "      <td>0</td>\n",
       "      <td>0</td>\n",
       "      <td>21</td>\n",
       "      <td>19559</td>\n",
       "      <td>20</td>\n",
       "      <td>Санкт-Петербург</td>\n",
       "    </tr>\n",
       "    <tr>\n",
       "      <th>3212</th>\n",
       "      <td>1489</td>\n",
       "      <td>11</td>\n",
       "      <td>smart</td>\n",
       "      <td>0</td>\n",
       "      <td>0</td>\n",
       "      <td>20</td>\n",
       "      <td>17491</td>\n",
       "      <td>18</td>\n",
       "      <td>Санкт-Петербург</td>\n",
       "    </tr>\n",
       "    <tr>\n",
       "      <th>3213</th>\n",
       "      <td>1489</td>\n",
       "      <td>12</td>\n",
       "      <td>smart</td>\n",
       "      <td>0</td>\n",
       "      <td>0</td>\n",
       "      <td>35</td>\n",
       "      <td>17322</td>\n",
       "      <td>17</td>\n",
       "      <td>Санкт-Петербург</td>\n",
       "    </tr>\n",
       "  </tbody>\n",
       "</table>\n",
       "<p>3214 rows × 9 columns</p>\n",
       "</div>"
      ],
      "text/plain": [
       "      user_id  month tariff  count_call  sum_call_duration  count_mesg  \\\n",
       "0        1000      5  ultra          22                159          22   \n",
       "1        1000      6  ultra          43                172          60   \n",
       "2        1000      7  ultra          47                340          75   \n",
       "3        1000      8  ultra          52                408          81   \n",
       "4        1000      9  ultra          58                466          57   \n",
       "...       ...    ...    ...         ...                ...         ...   \n",
       "3209     1489      8  smart           0                  0          17   \n",
       "3210     1489      9  smart           0                  0          32   \n",
       "3211     1489     10  smart           0                  0          21   \n",
       "3212     1489     11  smart           0                  0          20   \n",
       "3213     1489     12  smart           0                  0          35   \n",
       "\n",
       "      sum_mb_used  sum_gb_used             city  \n",
       "0            2253            3        Краснодар  \n",
       "1           23233           23        Краснодар  \n",
       "2           14003           14        Краснодар  \n",
       "3           14055           14        Краснодар  \n",
       "4           14568           15        Краснодар  \n",
       "...           ...          ...              ...  \n",
       "3209        11050           11  Санкт-Петербург  \n",
       "3210        17206           17  Санкт-Петербург  \n",
       "3211        19559           20  Санкт-Петербург  \n",
       "3212        17491           18  Санкт-Петербург  \n",
       "3213        17322           17  Санкт-Петербург  \n",
       "\n",
       "[3214 rows x 9 columns]"
      ]
     },
     "execution_count": 50,
     "metadata": {},
     "output_type": "execute_result"
    }
   ],
   "source": [
    "df = df.merge(users[['user_id','city']], on = 'user_id')\n",
    "df"
   ]
  },
  {
   "cell_type": "markdown",
   "id": "3d4acb9a",
   "metadata": {},
   "source": [
    "### 2.4.4 Посчитаем для каждого пользователя помесячную выручку с каждого пользователя "
   ]
  },
  {
   "cell_type": "markdown",
   "id": "831889d0",
   "metadata": {},
   "source": [
    "Напишем функцию для расчета помесячной выручки с каждого пользователя (вычитает бесплатный лимит из суммарного количества звонков, сообщений и интернет-трафика; остаток умножает на значение из тарифного плана; прибавляет абонентскую плату, соответствующую тарифному плану)."
   ]
  },
  {
   "cell_type": "code",
   "execution_count": 51,
   "id": "a5155510",
   "metadata": {},
   "outputs": [
    {
     "data": {
      "text/html": [
       "<div>\n",
       "<style scoped>\n",
       "    .dataframe tbody tr th:only-of-type {\n",
       "        vertical-align: middle;\n",
       "    }\n",
       "\n",
       "    .dataframe tbody tr th {\n",
       "        vertical-align: top;\n",
       "    }\n",
       "\n",
       "    .dataframe thead th {\n",
       "        text-align: right;\n",
       "    }\n",
       "</style>\n",
       "<table border=\"1\" class=\"dataframe\">\n",
       "  <thead>\n",
       "    <tr style=\"text-align: right;\">\n",
       "      <th></th>\n",
       "      <th>user_id</th>\n",
       "      <th>month</th>\n",
       "      <th>tariff</th>\n",
       "      <th>count_call</th>\n",
       "      <th>sum_call_duration</th>\n",
       "      <th>count_mesg</th>\n",
       "      <th>sum_mb_used</th>\n",
       "      <th>sum_gb_used</th>\n",
       "      <th>city</th>\n",
       "      <th>revenue</th>\n",
       "    </tr>\n",
       "  </thead>\n",
       "  <tbody>\n",
       "    <tr>\n",
       "      <th>0</th>\n",
       "      <td>1000</td>\n",
       "      <td>5</td>\n",
       "      <td>ultra</td>\n",
       "      <td>22</td>\n",
       "      <td>159</td>\n",
       "      <td>22</td>\n",
       "      <td>2253</td>\n",
       "      <td>3</td>\n",
       "      <td>Краснодар</td>\n",
       "      <td>1950</td>\n",
       "    </tr>\n",
       "    <tr>\n",
       "      <th>1</th>\n",
       "      <td>1000</td>\n",
       "      <td>6</td>\n",
       "      <td>ultra</td>\n",
       "      <td>43</td>\n",
       "      <td>172</td>\n",
       "      <td>60</td>\n",
       "      <td>23233</td>\n",
       "      <td>23</td>\n",
       "      <td>Краснодар</td>\n",
       "      <td>1950</td>\n",
       "    </tr>\n",
       "    <tr>\n",
       "      <th>2</th>\n",
       "      <td>1000</td>\n",
       "      <td>7</td>\n",
       "      <td>ultra</td>\n",
       "      <td>47</td>\n",
       "      <td>340</td>\n",
       "      <td>75</td>\n",
       "      <td>14003</td>\n",
       "      <td>14</td>\n",
       "      <td>Краснодар</td>\n",
       "      <td>1950</td>\n",
       "    </tr>\n",
       "    <tr>\n",
       "      <th>3</th>\n",
       "      <td>1000</td>\n",
       "      <td>8</td>\n",
       "      <td>ultra</td>\n",
       "      <td>52</td>\n",
       "      <td>408</td>\n",
       "      <td>81</td>\n",
       "      <td>14055</td>\n",
       "      <td>14</td>\n",
       "      <td>Краснодар</td>\n",
       "      <td>1950</td>\n",
       "    </tr>\n",
       "    <tr>\n",
       "      <th>4</th>\n",
       "      <td>1000</td>\n",
       "      <td>9</td>\n",
       "      <td>ultra</td>\n",
       "      <td>58</td>\n",
       "      <td>466</td>\n",
       "      <td>57</td>\n",
       "      <td>14568</td>\n",
       "      <td>15</td>\n",
       "      <td>Краснодар</td>\n",
       "      <td>1950</td>\n",
       "    </tr>\n",
       "    <tr>\n",
       "      <th>5</th>\n",
       "      <td>1000</td>\n",
       "      <td>10</td>\n",
       "      <td>ultra</td>\n",
       "      <td>57</td>\n",
       "      <td>350</td>\n",
       "      <td>73</td>\n",
       "      <td>14702</td>\n",
       "      <td>15</td>\n",
       "      <td>Краснодар</td>\n",
       "      <td>1950</td>\n",
       "    </tr>\n",
       "    <tr>\n",
       "      <th>6</th>\n",
       "      <td>1000</td>\n",
       "      <td>11</td>\n",
       "      <td>ultra</td>\n",
       "      <td>43</td>\n",
       "      <td>338</td>\n",
       "      <td>58</td>\n",
       "      <td>14756</td>\n",
       "      <td>15</td>\n",
       "      <td>Краснодар</td>\n",
       "      <td>1950</td>\n",
       "    </tr>\n",
       "    <tr>\n",
       "      <th>7</th>\n",
       "      <td>1000</td>\n",
       "      <td>12</td>\n",
       "      <td>ultra</td>\n",
       "      <td>46</td>\n",
       "      <td>333</td>\n",
       "      <td>70</td>\n",
       "      <td>9817</td>\n",
       "      <td>10</td>\n",
       "      <td>Краснодар</td>\n",
       "      <td>1950</td>\n",
       "    </tr>\n",
       "    <tr>\n",
       "      <th>8</th>\n",
       "      <td>1001</td>\n",
       "      <td>11</td>\n",
       "      <td>smart</td>\n",
       "      <td>59</td>\n",
       "      <td>430</td>\n",
       "      <td>0</td>\n",
       "      <td>18429</td>\n",
       "      <td>18</td>\n",
       "      <td>Москва</td>\n",
       "      <td>1150</td>\n",
       "    </tr>\n",
       "    <tr>\n",
       "      <th>9</th>\n",
       "      <td>1001</td>\n",
       "      <td>12</td>\n",
       "      <td>smart</td>\n",
       "      <td>63</td>\n",
       "      <td>414</td>\n",
       "      <td>0</td>\n",
       "      <td>14036</td>\n",
       "      <td>14</td>\n",
       "      <td>Москва</td>\n",
       "      <td>550</td>\n",
       "    </tr>\n",
       "    <tr>\n",
       "      <th>10</th>\n",
       "      <td>1002</td>\n",
       "      <td>6</td>\n",
       "      <td>smart</td>\n",
       "      <td>15</td>\n",
       "      <td>117</td>\n",
       "      <td>4</td>\n",
       "      <td>10856</td>\n",
       "      <td>11</td>\n",
       "      <td>Стерлитамак</td>\n",
       "      <td>550</td>\n",
       "    </tr>\n",
       "    <tr>\n",
       "      <th>11</th>\n",
       "      <td>1002</td>\n",
       "      <td>7</td>\n",
       "      <td>smart</td>\n",
       "      <td>26</td>\n",
       "      <td>214</td>\n",
       "      <td>11</td>\n",
       "      <td>17580</td>\n",
       "      <td>18</td>\n",
       "      <td>Стерлитамак</td>\n",
       "      <td>1150</td>\n",
       "    </tr>\n",
       "    <tr>\n",
       "      <th>12</th>\n",
       "      <td>1002</td>\n",
       "      <td>8</td>\n",
       "      <td>smart</td>\n",
       "      <td>42</td>\n",
       "      <td>289</td>\n",
       "      <td>13</td>\n",
       "      <td>20319</td>\n",
       "      <td>20</td>\n",
       "      <td>Стерлитамак</td>\n",
       "      <td>1550</td>\n",
       "    </tr>\n",
       "    <tr>\n",
       "      <th>13</th>\n",
       "      <td>1002</td>\n",
       "      <td>9</td>\n",
       "      <td>smart</td>\n",
       "      <td>36</td>\n",
       "      <td>206</td>\n",
       "      <td>4</td>\n",
       "      <td>16691</td>\n",
       "      <td>17</td>\n",
       "      <td>Стерлитамак</td>\n",
       "      <td>950</td>\n",
       "    </tr>\n",
       "    <tr>\n",
       "      <th>14</th>\n",
       "      <td>1002</td>\n",
       "      <td>10</td>\n",
       "      <td>smart</td>\n",
       "      <td>33</td>\n",
       "      <td>212</td>\n",
       "      <td>10</td>\n",
       "      <td>13888</td>\n",
       "      <td>14</td>\n",
       "      <td>Стерлитамак</td>\n",
       "      <td>550</td>\n",
       "    </tr>\n",
       "    <tr>\n",
       "      <th>15</th>\n",
       "      <td>1002</td>\n",
       "      <td>11</td>\n",
       "      <td>smart</td>\n",
       "      <td>32</td>\n",
       "      <td>243</td>\n",
       "      <td>16</td>\n",
       "      <td>18587</td>\n",
       "      <td>19</td>\n",
       "      <td>Стерлитамак</td>\n",
       "      <td>1350</td>\n",
       "    </tr>\n",
       "    <tr>\n",
       "      <th>16</th>\n",
       "      <td>1002</td>\n",
       "      <td>12</td>\n",
       "      <td>smart</td>\n",
       "      <td>33</td>\n",
       "      <td>236</td>\n",
       "      <td>12</td>\n",
       "      <td>18113</td>\n",
       "      <td>18</td>\n",
       "      <td>Стерлитамак</td>\n",
       "      <td>1150</td>\n",
       "    </tr>\n",
       "  </tbody>\n",
       "</table>\n",
       "</div>"
      ],
      "text/plain": [
       "    user_id  month tariff  count_call  sum_call_duration  count_mesg  \\\n",
       "0      1000      5  ultra          22                159          22   \n",
       "1      1000      6  ultra          43                172          60   \n",
       "2      1000      7  ultra          47                340          75   \n",
       "3      1000      8  ultra          52                408          81   \n",
       "4      1000      9  ultra          58                466          57   \n",
       "5      1000     10  ultra          57                350          73   \n",
       "6      1000     11  ultra          43                338          58   \n",
       "7      1000     12  ultra          46                333          70   \n",
       "8      1001     11  smart          59                430           0   \n",
       "9      1001     12  smart          63                414           0   \n",
       "10     1002      6  smart          15                117           4   \n",
       "11     1002      7  smart          26                214          11   \n",
       "12     1002      8  smart          42                289          13   \n",
       "13     1002      9  smart          36                206           4   \n",
       "14     1002     10  smart          33                212          10   \n",
       "15     1002     11  smart          32                243          16   \n",
       "16     1002     12  smart          33                236          12   \n",
       "\n",
       "    sum_mb_used  sum_gb_used         city  revenue  \n",
       "0          2253            3    Краснодар     1950  \n",
       "1         23233           23    Краснодар     1950  \n",
       "2         14003           14    Краснодар     1950  \n",
       "3         14055           14    Краснодар     1950  \n",
       "4         14568           15    Краснодар     1950  \n",
       "5         14702           15    Краснодар     1950  \n",
       "6         14756           15    Краснодар     1950  \n",
       "7          9817           10    Краснодар     1950  \n",
       "8         18429           18       Москва     1150  \n",
       "9         14036           14       Москва      550  \n",
       "10        10856           11  Стерлитамак      550  \n",
       "11        17580           18  Стерлитамак     1150  \n",
       "12        20319           20  Стерлитамак     1550  \n",
       "13        16691           17  Стерлитамак      950  \n",
       "14        13888           14  Стерлитамак      550  \n",
       "15        18587           19  Стерлитамак     1350  \n",
       "16        18113           18  Стерлитамак     1150  "
      ]
     },
     "execution_count": 51,
     "metadata": {},
     "output_type": "execute_result"
    }
   ],
   "source": [
    "def revenue(row):\n",
    "    messages = row['count_mesg']\n",
    "    gb_used = row['sum_gb_used']\n",
    "    tariff = row['tariff']\n",
    "    duration = row['sum_call_duration']\n",
    "    calls = row['count_call']\n",
    "    \n",
    "    if tariff == 'smart':\n",
    "        extra_duration = duration - 500\n",
    "        extra_gb = gb_used - 15\n",
    "        extra_messages = messages -50\n",
    "        \n",
    "        if extra_duration < 0: extra_duration = 0\n",
    "        if extra_gb < 0: extra_gb = 0\n",
    "        if extra_messages < 0: extra_messages = 0\n",
    "        \n",
    "        return (3 * extra_messages + 200 * extra_gb + 3 * extra_duration + 550) \n",
    "    else:\n",
    "        extra_duration = duration - 3000\n",
    "        extra_gb = gb_used - 30\n",
    "        extra_messages = messages - 1000\n",
    "\n",
    "        if extra_duration < 0: extra_duration = 0\n",
    "        if extra_gb < 0: extra_gb = 0\n",
    "        if extra_messages < 0: extra_messages = 0\n",
    "        \n",
    "        return (1 * extra_messages + 150 * extra_gb +  1 * extra_duration + 1950)\n",
    "\n",
    "df['revenue'] = df.apply(revenue, axis=1)\n",
    "df.head(17)"
   ]
  },
  {
   "cell_type": "markdown",
   "id": "3d35725d",
   "metadata": {},
   "source": [
    "### 2.5 Вывод"
   ]
  },
  {
   "cell_type": "markdown",
   "id": "4e9c8715",
   "metadata": {},
   "source": [
    "На данном шаге были преобразованны типы данных,добавлены столцы `month`, исходные датасеты объединены в  один общий датасет с необходимыми данными и заполнены пропуски нулями в общем датасете."
   ]
  },
  {
   "cell_type": "markdown",
   "id": "d075649b",
   "metadata": {},
   "source": [
    "## 3. Анализ данных"
   ]
  },
  {
   "cell_type": "markdown",
   "id": "015dbf93",
   "metadata": {},
   "source": [
    "Опишем поведение клиентов оператора, исходя из выборки. Сколько минут разговора, сколько сообщений и какой объём интернет-трафика требуется пользователям каждого тарифа в месяц. Посчитайте среднее количество, дисперсию и стандартное отклонение. Постройте гистограммы. Опишите распределения."
   ]
  },
  {
   "cell_type": "markdown",
   "id": "b70862a8",
   "metadata": {},
   "source": [
    "Посмотрим общую информацию о пользователях тарифа `smart`"
   ]
  },
  {
   "cell_type": "code",
   "execution_count": 52,
   "id": "df157c93",
   "metadata": {},
   "outputs": [
    {
     "data": {
      "text/html": [
       "<div>\n",
       "<style scoped>\n",
       "    .dataframe tbody tr th:only-of-type {\n",
       "        vertical-align: middle;\n",
       "    }\n",
       "\n",
       "    .dataframe tbody tr th {\n",
       "        vertical-align: top;\n",
       "    }\n",
       "\n",
       "    .dataframe thead th {\n",
       "        text-align: right;\n",
       "    }\n",
       "</style>\n",
       "<table border=\"1\" class=\"dataframe\">\n",
       "  <thead>\n",
       "    <tr style=\"text-align: right;\">\n",
       "      <th></th>\n",
       "      <th>count</th>\n",
       "      <th>mean</th>\n",
       "      <th>std</th>\n",
       "      <th>min</th>\n",
       "      <th>25%</th>\n",
       "      <th>50%</th>\n",
       "      <th>75%</th>\n",
       "      <th>max</th>\n",
       "    </tr>\n",
       "  </thead>\n",
       "  <tbody>\n",
       "    <tr>\n",
       "      <th>user_id</th>\n",
       "      <td>2229.0</td>\n",
       "      <td>1246.506505</td>\n",
       "      <td>146.119496</td>\n",
       "      <td>1001.0</td>\n",
       "      <td>1121.0</td>\n",
       "      <td>1239.0</td>\n",
       "      <td>1376.0</td>\n",
       "      <td>1499.0</td>\n",
       "    </tr>\n",
       "    <tr>\n",
       "      <th>month</th>\n",
       "      <td>2229.0</td>\n",
       "      <td>8.346792</td>\n",
       "      <td>2.920316</td>\n",
       "      <td>1.0</td>\n",
       "      <td>6.0</td>\n",
       "      <td>9.0</td>\n",
       "      <td>11.0</td>\n",
       "      <td>12.0</td>\n",
       "    </tr>\n",
       "    <tr>\n",
       "      <th>count_call</th>\n",
       "      <td>2229.0</td>\n",
       "      <td>58.463437</td>\n",
       "      <td>25.939858</td>\n",
       "      <td>0.0</td>\n",
       "      <td>40.0</td>\n",
       "      <td>60.0</td>\n",
       "      <td>76.0</td>\n",
       "      <td>198.0</td>\n",
       "    </tr>\n",
       "    <tr>\n",
       "      <th>sum_call_duration</th>\n",
       "      <td>2229.0</td>\n",
       "      <td>417.934948</td>\n",
       "      <td>190.313730</td>\n",
       "      <td>0.0</td>\n",
       "      <td>282.0</td>\n",
       "      <td>422.0</td>\n",
       "      <td>545.0</td>\n",
       "      <td>1435.0</td>\n",
       "    </tr>\n",
       "    <tr>\n",
       "      <th>count_mesg</th>\n",
       "      <td>2229.0</td>\n",
       "      <td>33.384029</td>\n",
       "      <td>28.227876</td>\n",
       "      <td>0.0</td>\n",
       "      <td>10.0</td>\n",
       "      <td>28.0</td>\n",
       "      <td>51.0</td>\n",
       "      <td>143.0</td>\n",
       "    </tr>\n",
       "    <tr>\n",
       "      <th>sum_mb_used</th>\n",
       "      <td>2229.0</td>\n",
       "      <td>16207.881113</td>\n",
       "      <td>5870.480340</td>\n",
       "      <td>0.0</td>\n",
       "      <td>12643.0</td>\n",
       "      <td>16506.0</td>\n",
       "      <td>20042.0</td>\n",
       "      <td>38552.0</td>\n",
       "    </tr>\n",
       "    <tr>\n",
       "      <th>sum_gb_used</th>\n",
       "      <td>2229.0</td>\n",
       "      <td>16.328847</td>\n",
       "      <td>5.747061</td>\n",
       "      <td>0.0</td>\n",
       "      <td>13.0</td>\n",
       "      <td>17.0</td>\n",
       "      <td>20.0</td>\n",
       "      <td>38.0</td>\n",
       "    </tr>\n",
       "    <tr>\n",
       "      <th>revenue</th>\n",
       "      <td>2229.0</td>\n",
       "      <td>1289.973531</td>\n",
       "      <td>818.404367</td>\n",
       "      <td>550.0</td>\n",
       "      <td>550.0</td>\n",
       "      <td>1023.0</td>\n",
       "      <td>1750.0</td>\n",
       "      <td>6770.0</td>\n",
       "    </tr>\n",
       "  </tbody>\n",
       "</table>\n",
       "</div>"
      ],
      "text/plain": [
       "                    count          mean          std     min      25%  \\\n",
       "user_id            2229.0   1246.506505   146.119496  1001.0   1121.0   \n",
       "month              2229.0      8.346792     2.920316     1.0      6.0   \n",
       "count_call         2229.0     58.463437    25.939858     0.0     40.0   \n",
       "sum_call_duration  2229.0    417.934948   190.313730     0.0    282.0   \n",
       "count_mesg         2229.0     33.384029    28.227876     0.0     10.0   \n",
       "sum_mb_used        2229.0  16207.881113  5870.480340     0.0  12643.0   \n",
       "sum_gb_used        2229.0     16.328847     5.747061     0.0     13.0   \n",
       "revenue            2229.0   1289.973531   818.404367   550.0    550.0   \n",
       "\n",
       "                       50%      75%      max  \n",
       "user_id             1239.0   1376.0   1499.0  \n",
       "month                  9.0     11.0     12.0  \n",
       "count_call            60.0     76.0    198.0  \n",
       "sum_call_duration    422.0    545.0   1435.0  \n",
       "count_mesg            28.0     51.0    143.0  \n",
       "sum_mb_used        16506.0  20042.0  38552.0  \n",
       "sum_gb_used           17.0     20.0     38.0  \n",
       "revenue             1023.0   1750.0   6770.0  "
      ]
     },
     "execution_count": 52,
     "metadata": {},
     "output_type": "execute_result"
    }
   ],
   "source": [
    "smart=df[df['tariff']=='smart']\n",
    "smart.describe().T"
   ]
  },
  {
   "cell_type": "markdown",
   "id": "ab55b7d6",
   "metadata": {},
   "source": [
    "Посмотрим общую информацию о пользователях тарифа `ultra`"
   ]
  },
  {
   "cell_type": "code",
   "execution_count": 53,
   "id": "99289477",
   "metadata": {},
   "outputs": [
    {
     "data": {
      "text/html": [
       "<div>\n",
       "<style scoped>\n",
       "    .dataframe tbody tr th:only-of-type {\n",
       "        vertical-align: middle;\n",
       "    }\n",
       "\n",
       "    .dataframe tbody tr th {\n",
       "        vertical-align: top;\n",
       "    }\n",
       "\n",
       "    .dataframe thead th {\n",
       "        text-align: right;\n",
       "    }\n",
       "</style>\n",
       "<table border=\"1\" class=\"dataframe\">\n",
       "  <thead>\n",
       "    <tr style=\"text-align: right;\">\n",
       "      <th></th>\n",
       "      <th>count</th>\n",
       "      <th>mean</th>\n",
       "      <th>std</th>\n",
       "      <th>min</th>\n",
       "      <th>25%</th>\n",
       "      <th>50%</th>\n",
       "      <th>75%</th>\n",
       "      <th>max</th>\n",
       "    </tr>\n",
       "  </thead>\n",
       "  <tbody>\n",
       "    <tr>\n",
       "      <th>user_id</th>\n",
       "      <td>985.0</td>\n",
       "      <td>1263.094416</td>\n",
       "      <td>140.694908</td>\n",
       "      <td>1000.0</td>\n",
       "      <td>1143.0</td>\n",
       "      <td>1277.0</td>\n",
       "      <td>1381.0</td>\n",
       "      <td>1495.0</td>\n",
       "    </tr>\n",
       "    <tr>\n",
       "      <th>month</th>\n",
       "      <td>985.0</td>\n",
       "      <td>8.250761</td>\n",
       "      <td>2.871762</td>\n",
       "      <td>1.0</td>\n",
       "      <td>6.0</td>\n",
       "      <td>9.0</td>\n",
       "      <td>11.0</td>\n",
       "      <td>12.0</td>\n",
       "    </tr>\n",
       "    <tr>\n",
       "      <th>count_call</th>\n",
       "      <td>985.0</td>\n",
       "      <td>73.392893</td>\n",
       "      <td>43.916853</td>\n",
       "      <td>0.0</td>\n",
       "      <td>41.0</td>\n",
       "      <td>74.0</td>\n",
       "      <td>104.0</td>\n",
       "      <td>244.0</td>\n",
       "    </tr>\n",
       "    <tr>\n",
       "      <th>sum_call_duration</th>\n",
       "      <td>985.0</td>\n",
       "      <td>526.623350</td>\n",
       "      <td>317.606098</td>\n",
       "      <td>0.0</td>\n",
       "      <td>284.0</td>\n",
       "      <td>518.0</td>\n",
       "      <td>752.0</td>\n",
       "      <td>1673.0</td>\n",
       "    </tr>\n",
       "    <tr>\n",
       "      <th>count_mesg</th>\n",
       "      <td>985.0</td>\n",
       "      <td>49.363452</td>\n",
       "      <td>47.804457</td>\n",
       "      <td>0.0</td>\n",
       "      <td>6.0</td>\n",
       "      <td>38.0</td>\n",
       "      <td>79.0</td>\n",
       "      <td>224.0</td>\n",
       "    </tr>\n",
       "    <tr>\n",
       "      <th>sum_mb_used</th>\n",
       "      <td>985.0</td>\n",
       "      <td>19468.326904</td>\n",
       "      <td>10087.174727</td>\n",
       "      <td>0.0</td>\n",
       "      <td>11770.0</td>\n",
       "      <td>19308.0</td>\n",
       "      <td>26837.0</td>\n",
       "      <td>49745.0</td>\n",
       "    </tr>\n",
       "    <tr>\n",
       "      <th>sum_gb_used</th>\n",
       "      <td>985.0</td>\n",
       "      <td>19.494416</td>\n",
       "      <td>9.853511</td>\n",
       "      <td>0.0</td>\n",
       "      <td>12.0</td>\n",
       "      <td>19.0</td>\n",
       "      <td>27.0</td>\n",
       "      <td>49.0</td>\n",
       "    </tr>\n",
       "    <tr>\n",
       "      <th>revenue</th>\n",
       "      <td>985.0</td>\n",
       "      <td>2070.152284</td>\n",
       "      <td>376.187114</td>\n",
       "      <td>1950.0</td>\n",
       "      <td>1950.0</td>\n",
       "      <td>1950.0</td>\n",
       "      <td>1950.0</td>\n",
       "      <td>4800.0</td>\n",
       "    </tr>\n",
       "  </tbody>\n",
       "</table>\n",
       "</div>"
      ],
      "text/plain": [
       "                   count          mean           std     min      25%  \\\n",
       "user_id            985.0   1263.094416    140.694908  1000.0   1143.0   \n",
       "month              985.0      8.250761      2.871762     1.0      6.0   \n",
       "count_call         985.0     73.392893     43.916853     0.0     41.0   \n",
       "sum_call_duration  985.0    526.623350    317.606098     0.0    284.0   \n",
       "count_mesg         985.0     49.363452     47.804457     0.0      6.0   \n",
       "sum_mb_used        985.0  19468.326904  10087.174727     0.0  11770.0   \n",
       "sum_gb_used        985.0     19.494416      9.853511     0.0     12.0   \n",
       "revenue            985.0   2070.152284    376.187114  1950.0   1950.0   \n",
       "\n",
       "                       50%      75%      max  \n",
       "user_id             1277.0   1381.0   1495.0  \n",
       "month                  9.0     11.0     12.0  \n",
       "count_call            74.0    104.0    244.0  \n",
       "sum_call_duration    518.0    752.0   1673.0  \n",
       "count_mesg            38.0     79.0    224.0  \n",
       "sum_mb_used        19308.0  26837.0  49745.0  \n",
       "sum_gb_used           19.0     27.0     49.0  \n",
       "revenue             1950.0   1950.0   4800.0  "
      ]
     },
     "execution_count": 53,
     "metadata": {},
     "output_type": "execute_result"
    }
   ],
   "source": [
    "ultra=df[df['tariff']=='ultra']\n",
    "ultra.describe().T"
   ]
  },
  {
   "cell_type": "markdown",
   "id": "7555e38c",
   "metadata": {},
   "source": [
    "Построим \"ящики с усами\" для интересующих нас параметров"
   ]
  },
  {
   "cell_type": "code",
   "execution_count": 54,
   "id": "9f4fb6bc",
   "metadata": {
    "scrolled": true
   },
   "outputs": [
    {
     "data": {
      "image/png": "[encoded data removed]",
      "text/plain": [
       "<Figure size 432x288 with 1 Axes>"
      ]
     },
     "metadata": {
      "needs_background": "light"
     },
     "output_type": "display_data"
    }
   ],
   "source": [
    "df.boxplot(column='revenue', by='tariff')\n",
    "plt.show()"
   ]
  },
  {
   "cell_type": "markdown",
   "id": "886759da",
   "metadata": {},
   "source": [
    "Исходя из таблиц и \"ящика с усами\" можно сказать что, медианное значение выручки от пользователей тарифа `ultra` почти в 2 раза превышает выручку от пользователей тарифа `smart`. Пользователи тарифа `ultra` чаще укладываются в лимиты тарифа, а пользователям тарифа `smart` приходится доплачивать за перерасход."
   ]
  },
  {
   "cell_type": "code",
   "execution_count": 55,
   "id": "80248f7c",
   "metadata": {
    "scrolled": true
   },
   "outputs": [
    {
     "data": {
      "image/png": "[encoded data removed]",
      "text/plain": [
       "<Figure size 432x288 with 1 Axes>"
      ]
     },
     "metadata": {
      "needs_background": "light"
     },
     "output_type": "display_data"
    }
   ],
   "source": [
    "df.boxplot(column='sum_call_duration', by='tariff');"
   ]
  },
  {
   "cell_type": "markdown",
   "id": "b1d8536b",
   "metadata": {},
   "source": [
    "Исходя из таблиц и \"ящика с усами\" можно сказать что, медианное значение суммы звонков пользователей тарифа `ultra` почти в 6 раз ниже лимита по тарифу.  Почти 40% пользователей тарифа `smart` приходится доплачивать за перерасход по минутам. Пользователи тарифа `ultra` всегда укладываются в лимит тарифа."
   ]
  },
  {
   "cell_type": "code",
   "execution_count": 56,
   "id": "75ebe812",
   "metadata": {},
   "outputs": [
    {
     "data": {
      "image/png": "[encoded data removed]",
      "text/plain": [
       "<Figure size 432x288 with 1 Axes>"
      ]
     },
     "metadata": {
      "needs_background": "light"
     },
     "output_type": "display_data"
    }
   ],
   "source": [
    "df.boxplot(column='count_mesg', by='tariff');"
   ]
  },
  {
   "cell_type": "markdown",
   "id": "db6cece3",
   "metadata": {},
   "source": [
    "Исходя из таблиц и \"ящика с усами\" можно сказать что, пользователи обоих тарифов в среднем укладываются в лимиты по сообщениям. Пользователям тарифа `ultra` всегда укладываются в лимит тарифа. Почти 25% пользователей тарифа `smart` приходится доплачивать за перерасход по сообщениям."
   ]
  },
  {
   "cell_type": "code",
   "execution_count": 57,
   "id": "209231ed",
   "metadata": {},
   "outputs": [
    {
     "data": {
      "image/png": "[encoded data removed]",
      "text/plain": [
       "<Figure size 432x288 with 1 Axes>"
      ]
     },
     "metadata": {
      "needs_background": "light"
     },
     "output_type": "display_data"
    }
   ],
   "source": [
    "df.boxplot(column='sum_gb_used', by='tariff');"
   ]
  },
  {
   "cell_type": "markdown",
   "id": "230da091",
   "metadata": {},
   "source": [
    "Исходя из таблиц и \"ящика с усами\" можно сказать что, более 50% пользователей  тарифа `smart` не укладываются в лимиты по трафику. 75% пользователей тарифа `ultra` укладываются в лимит трафика."
   ]
  },
  {
   "cell_type": "markdown",
   "id": "52288ae5",
   "metadata": {},
   "source": [
    "### 3.1 Расчет среднего количества, дисперсии и стандартного отклонения"
   ]
  },
  {
   "cell_type": "code",
   "execution_count": 58,
   "id": "d281f838",
   "metadata": {},
   "outputs": [
    {
     "data": {
      "text/html": [
       "<div>\n",
       "<style scoped>\n",
       "    .dataframe tbody tr th:only-of-type {\n",
       "        vertical-align: middle;\n",
       "    }\n",
       "\n",
       "    .dataframe tbody tr th {\n",
       "        vertical-align: top;\n",
       "    }\n",
       "\n",
       "    .dataframe thead th {\n",
       "        text-align: right;\n",
       "    }\n",
       "</style>\n",
       "<table border=\"1\" class=\"dataframe\">\n",
       "  <thead>\n",
       "    <tr style=\"text-align: right;\">\n",
       "      <th></th>\n",
       "      <th>tariff</th>\n",
       "      <th>smart</th>\n",
       "      <th>ultra</th>\n",
       "    </tr>\n",
       "  </thead>\n",
       "  <tbody>\n",
       "    <tr>\n",
       "      <th rowspan=\"4\" valign=\"top\">mean</th>\n",
       "      <th>count_mesg</th>\n",
       "      <td>33.384029</td>\n",
       "      <td>49.363452</td>\n",
       "    </tr>\n",
       "    <tr>\n",
       "      <th>revenue</th>\n",
       "      <td>1289.973531</td>\n",
       "      <td>2070.152284</td>\n",
       "    </tr>\n",
       "    <tr>\n",
       "      <th>sum_call_duration</th>\n",
       "      <td>417.934948</td>\n",
       "      <td>526.623350</td>\n",
       "    </tr>\n",
       "    <tr>\n",
       "      <th>sum_gb_used</th>\n",
       "      <td>16.328847</td>\n",
       "      <td>19.494416</td>\n",
       "    </tr>\n",
       "    <tr>\n",
       "      <th rowspan=\"4\" valign=\"top\">std</th>\n",
       "      <th>count_mesg</th>\n",
       "      <td>28.227876</td>\n",
       "      <td>47.804457</td>\n",
       "    </tr>\n",
       "    <tr>\n",
       "      <th>revenue</th>\n",
       "      <td>818.404367</td>\n",
       "      <td>376.187114</td>\n",
       "    </tr>\n",
       "    <tr>\n",
       "      <th>sum_call_duration</th>\n",
       "      <td>190.313730</td>\n",
       "      <td>317.606098</td>\n",
       "    </tr>\n",
       "    <tr>\n",
       "      <th>sum_gb_used</th>\n",
       "      <td>5.747061</td>\n",
       "      <td>9.853511</td>\n",
       "    </tr>\n",
       "    <tr>\n",
       "      <th rowspan=\"4\" valign=\"top\">median</th>\n",
       "      <th>count_mesg</th>\n",
       "      <td>28.000000</td>\n",
       "      <td>38.000000</td>\n",
       "    </tr>\n",
       "    <tr>\n",
       "      <th>revenue</th>\n",
       "      <td>1023.000000</td>\n",
       "      <td>1950.000000</td>\n",
       "    </tr>\n",
       "    <tr>\n",
       "      <th>sum_call_duration</th>\n",
       "      <td>422.000000</td>\n",
       "      <td>518.000000</td>\n",
       "    </tr>\n",
       "    <tr>\n",
       "      <th>sum_gb_used</th>\n",
       "      <td>17.000000</td>\n",
       "      <td>19.000000</td>\n",
       "    </tr>\n",
       "    <tr>\n",
       "      <th rowspan=\"4\" valign=\"top\">var</th>\n",
       "      <th>count_mesg</th>\n",
       "      <td>796.812958</td>\n",
       "      <td>2285.266143</td>\n",
       "    </tr>\n",
       "    <tr>\n",
       "      <th>revenue</th>\n",
       "      <td>669785.708006</td>\n",
       "      <td>141516.745079</td>\n",
       "    </tr>\n",
       "    <tr>\n",
       "      <th>sum_call_duration</th>\n",
       "      <td>36219.315784</td>\n",
       "      <td>100873.633397</td>\n",
       "    </tr>\n",
       "    <tr>\n",
       "      <th>sum_gb_used</th>\n",
       "      <td>33.028705</td>\n",
       "      <td>97.091686</td>\n",
       "    </tr>\n",
       "  </tbody>\n",
       "</table>\n",
       "</div>"
      ],
      "text/plain": [
       "tariff                            smart          ultra\n",
       "mean   count_mesg             33.384029      49.363452\n",
       "       revenue              1289.973531    2070.152284\n",
       "       sum_call_duration     417.934948     526.623350\n",
       "       sum_gb_used            16.328847      19.494416\n",
       "std    count_mesg             28.227876      47.804457\n",
       "       revenue               818.404367     376.187114\n",
       "       sum_call_duration     190.313730     317.606098\n",
       "       sum_gb_used             5.747061       9.853511\n",
       "median count_mesg             28.000000      38.000000\n",
       "       revenue              1023.000000    1950.000000\n",
       "       sum_call_duration     422.000000     518.000000\n",
       "       sum_gb_used            17.000000      19.000000\n",
       "var    count_mesg            796.812958    2285.266143\n",
       "       revenue            669785.708006  141516.745079\n",
       "       sum_call_duration   36219.315784  100873.633397\n",
       "       sum_gb_used            33.028705      97.091686"
      ]
     },
     "execution_count": 58,
     "metadata": {},
     "output_type": "execute_result"
    }
   ],
   "source": [
    "df.pivot_table(index = 'tariff', values = ['sum_call_duration','count_mesg',\n",
    "                                        'sum_gb_used','revenue'], aggfunc = ['mean','std','median','var']).T"
   ]
  },
  {
   "cell_type": "markdown",
   "id": "a314732b",
   "metadata": {},
   "source": [
    "Построим сравнительные гистограммы"
   ]
  },
  {
   "cell_type": "code",
   "execution_count": 59,
   "id": "fbc83f21",
   "metadata": {
    "scrolled": true
   },
   "outputs": [
    {
     "data": {
      "image/png": "[encoded data removed]",
      "text/plain": [
       "<Figure size 720x360 with 1 Axes>"
      ]
     },
     "metadata": {
      "needs_background": "light"
     },
     "output_type": "display_data"
    }
   ],
   "source": [
    "ax=df[df['tariff']=='smart']['sum_call_duration'].plot(kind='hist',\n",
    "    y='sum_call_duration',\n",
    "    histtype='step',\n",
    "    bins=50,\n",
    "    linewidth=5,\n",
    "    alpha=0.7,\n",
    "    figsize = (10,5),                                                   \n",
    "    label='smart',\n",
    ")\n",
    "\n",
    "df[df['tariff']=='ultra']['sum_call_duration'].plot(kind='hist',\n",
    "    y='sum_call_duration',\n",
    "    histtype='step',\n",
    "    bins=50,\n",
    "    linewidth=5,\n",
    "    alpha=0.7,\n",
    "    figsize = (10,5),                                                \n",
    "    label='ultra',\n",
    "    ax=ax,\n",
    "    grid=True,\n",
    "    legend=True,\n",
    " )\n",
    "plt.title('calls_total_duration')\n",
    "plt.xlabel('количество минут разговора')\n",
    "plt.legend()\n",
    "plt.show()"
   ]
  },
  {
   "cell_type": "code",
   "execution_count": 60,
   "id": "51e2b4d3",
   "metadata": {},
   "outputs": [
    {
     "data": {
      "image/png": "[encoded data removed]",
      "text/plain": [
       "<Figure size 720x360 with 1 Axes>"
      ]
     },
     "metadata": {
      "needs_background": "light"
     },
     "output_type": "display_data"
    }
   ],
   "source": [
    "ax=df[df['tariff']=='smart']['count_mesg'].plot(kind='hist',\n",
    "    y='count_mesg',\n",
    "    histtype='step',\n",
    "    bins=50,\n",
    "    linewidth=5,\n",
    "    alpha=0.7,\n",
    "    figsize = (10,5),                                                   \n",
    "    label='smart',\n",
    ")\n",
    "\n",
    "df[df['tariff']=='ultra']['count_mesg'].plot(kind='hist',\n",
    "    y='count_mesg',\n",
    "    histtype='step',\n",
    "    bins=50,\n",
    "    linewidth=5,\n",
    "    alpha=0.7,\n",
    "    figsize = (10,5),                                                \n",
    "    label='ultra',\n",
    "    ax=ax,\n",
    "    grid=True,\n",
    "    legend=True,\n",
    " )\n",
    "plt.title('count_mesg')\n",
    "plt.xlabel('количество sms')\n",
    "plt.legend()\n",
    "plt.show()"
   ]
  },
  {
   "cell_type": "code",
   "execution_count": 61,
   "id": "fbf810af",
   "metadata": {},
   "outputs": [
    {
     "data": {
      "image/png": "[encoded data removed]",
      "text/plain": [
       "<Figure size 720x360 with 1 Axes>"
      ]
     },
     "metadata": {
      "needs_background": "light"
     },
     "output_type": "display_data"
    }
   ],
   "source": [
    "ax=df[df['tariff']=='smart']['sum_gb_used'].plot(kind='hist',\n",
    "    y='sum_gb_used',\n",
    "    histtype='step',\n",
    "    bins=50,\n",
    "    linewidth=5,\n",
    "    alpha=0.7,\n",
    "    figsize = (10,5),                                                   \n",
    "    label='smart',\n",
    ")\n",
    "\n",
    "df[df['tariff']=='ultra']['sum_gb_used'].plot(kind='hist',\n",
    "    y='sum_gb_used',\n",
    "    histtype='step',\n",
    "    bins=50,\n",
    "    linewidth=5,\n",
    "    alpha=0.7,\n",
    "    figsize = (10,5),                                                \n",
    "    label='ultra',\n",
    "    ax=ax,\n",
    "    grid=True,\n",
    "    legend=True,\n",
    " )\n",
    "plt.title('sum_gb_used')\n",
    "plt.xlabel('количество интернет-трафика, Гб')\n",
    "plt.legend()\n",
    "plt.show()"
   ]
  },
  {
   "cell_type": "code",
   "execution_count": 62,
   "id": "779b3a71",
   "metadata": {},
   "outputs": [
    {
     "data": {
      "image/png": "[encoded data removed]",
      "text/plain": [
       "<Figure size 720x360 with 1 Axes>"
      ]
     },
     "metadata": {
      "needs_background": "light"
     },
     "output_type": "display_data"
    }
   ],
   "source": [
    "ax=df[df['tariff']=='smart']['revenue'].plot(kind='hist',\n",
    "    y='revenue',\n",
    "    histtype='step',\n",
    "    bins=50,\n",
    "    linewidth=5,\n",
    "    alpha=0.7,\n",
    "    figsize = (10,5),                                                   \n",
    "    label='smart',\n",
    ")\n",
    "\n",
    "df[df['tariff']=='ultra']['revenue'].plot(kind='hist',\n",
    "    y='revenue',\n",
    "    histtype='step',\n",
    "    bins=50,\n",
    "    linewidth=5,\n",
    "    alpha=0.7,\n",
    "    figsize = (10,5),                                                \n",
    "    label='ultra',\n",
    "    ax=ax,\n",
    "    grid=True,\n",
    "    legend=True,\n",
    " )\n",
    "plt.title('revenue')\n",
    "plt.xlabel('Выручка оператора, руб')\n",
    "plt.legend()\n",
    "plt.show()"
   ]
  },
  {
   "cell_type": "markdown",
   "id": "8db0be74",
   "metadata": {},
   "source": [
    "### 3.2 Вывод"
   ]
  },
  {
   "cell_type": "markdown",
   "id": "5bfa656a",
   "metadata": {},
   "source": [
    "На гистограммах можно заметить, что для тарифа `ultra` гистограммы скошены вправо, а для тарифа `smart` гистограммы скошены влево. Это так же подтверждают данные медианы и среднего, приведенные в сводной таблице. Кроме этого можно заметить, что пользователи тарифа `ultra` не тратят весь базовый пакет минут и количества сообщений, в отличие от тарифа `smart`. <br> \n",
    "Пользователи тарифа `ultra` более свободны в выборе того, как именно использовать объемы тарифного пакета: возможно, использование тарифа `ultra` помогает им не думать о том, что в какой-то момент у них отключится интернет или закончится пакет по минутам разговора."
   ]
  },
  {
   "cell_type": "markdown",
   "id": "e32f5862",
   "metadata": {},
   "source": [
    "## 4. Проверка гипотез"
   ]
  },
  {
   "cell_type": "markdown",
   "id": "1332778c",
   "metadata": {},
   "source": [
    "### 4.1 Гипотеза №1: Средняя выручка от пользователей тарифов \"Ультра\" и \"Смарт\" различается."
   ]
  },
  {
   "cell_type": "markdown",
   "id": "000bba96",
   "metadata": {},
   "source": [
    "Сформулируем нулевую и альтернативную гипотезы так:"
   ]
  },
  {
   "cell_type": "markdown",
   "id": "02dbc22b",
   "metadata": {},
   "source": [
    "**H0: средняя выручка от пользователей тарифов «Ультра» и «Смарт» равна**\n",
    "\n",
    "**H1 : средняя выручка от пользователей тарифов «Ультра» и «Смарт» различается (не равна)**"
   ]
  },
  {
   "cell_type": "markdown",
   "id": "5b673ddd",
   "metadata": {},
   "source": [
    "Проверим размер выборок:"
   ]
  },
  {
   "cell_type": "code",
   "execution_count": 63,
   "id": "833115b1",
   "metadata": {},
   "outputs": [
    {
     "data": {
      "text/plain": [
       "tariff\n",
       "smart    2229\n",
       "ultra     985\n",
       "Name: revenue, dtype: int64"
      ]
     },
     "execution_count": 63,
     "metadata": {},
     "output_type": "execute_result"
    }
   ],
   "source": [
    "df.groupby('tariff')['revenue'].count()"
   ]
  },
  {
   "cell_type": "markdown",
   "id": "32131808",
   "metadata": {},
   "source": [
    "Размеры выборок отличаются в 2,26 раза и дисперсии сильно отличаются. Поэтому для проверки нулевой гипотезы используем дополнительный параметр `equal_var = False`."
   ]
  },
  {
   "cell_type": "markdown",
   "id": "949364ec",
   "metadata": {},
   "source": [
    "Проверим нулевую гипотезу:"
   ]
  },
  {
   "cell_type": "code",
   "execution_count": 64,
   "id": "83e08b5d",
   "metadata": {},
   "outputs": [
    {
     "name": "stdout",
     "output_type": "stream",
     "text": [
      "p-значение: 4.2606313931076085e-250\n",
      "Отвергаем нулевую гипотезу\n"
     ]
    }
   ],
   "source": [
    "ultra = df[df['tariff']=='ultra']['revenue']\n",
    "smart = df[df['tariff']=='smart']['revenue']\n",
    "alpha = .05\n",
    "results = st.ttest_ind(ultra, smart, equal_var=False)\n",
    "print('p-значение:', results.pvalue)\n",
    "if results.pvalue < alpha:\n",
    "    print(\"Отвергаем нулевую гипотезу\")\n",
    "else:\n",
    "    print(\"Не получилось отвергнуть нулевую гипотезу\")"
   ]
  },
  {
   "cell_type": "markdown",
   "id": "a4d26c63",
   "metadata": {},
   "source": [
    "Полученное значение p-value говорит о том, что вероятность получить такое или большее различие случайно близка к 0%. Можно с вероятностью 99% сделать вывод, что средняя выручка от пользователей тарифов `ultra` и `smart` различается. "
   ]
  },
  {
   "cell_type": "markdown",
   "id": "0495e10b",
   "metadata": {},
   "source": [
    "### 4.2 Гипотеза №2: Средняя выручка от пользователей из Москвы отличается от выручки пользователей из других регионов."
   ]
  },
  {
   "cell_type": "markdown",
   "id": "5c4f017d",
   "metadata": {},
   "source": [
    "Проверим размер выборок"
   ]
  },
  {
   "cell_type": "code",
   "execution_count": 65,
   "id": "a3bbf103",
   "metadata": {},
   "outputs": [
    {
     "data": {
      "text/plain": [
       "611"
      ]
     },
     "execution_count": 65,
     "metadata": {},
     "output_type": "execute_result"
    }
   ],
   "source": [
    "df[df['city']=='Москва']['revenue'].count()"
   ]
  },
  {
   "cell_type": "code",
   "execution_count": 66,
   "id": "c96eab3f",
   "metadata": {},
   "outputs": [
    {
     "data": {
      "text/plain": [
       "2603"
      ]
     },
     "execution_count": 66,
     "metadata": {},
     "output_type": "execute_result"
    }
   ],
   "source": [
    "df[df['city']!='Москва']['revenue'].count()"
   ]
  },
  {
   "cell_type": "markdown",
   "id": "5b2c3041",
   "metadata": {},
   "source": [
    "Размеры выборок отличаются в 4,26 раза и, как известно, потребление жителей Москвы сильно отличается от жителей других регионов - есть основания полагать, что разброс будет сильно отличаться. Поэтому для проверки нулевой гипотезы используем дополнительный параметр `equal_var = False`."
   ]
  },
  {
   "cell_type": "markdown",
   "id": "5a7b757a",
   "metadata": {},
   "source": [
    "Сформулируем нулевую и альтернативную гипотезы так:"
   ]
  },
  {
   "cell_type": "markdown",
   "id": "0681f3d0",
   "metadata": {},
   "source": [
    "**H0: средняя выручка от пользователей из Москвы и из регионов равна**\n",
    "\n",
    "**H1 : средняя выручка от пользователей из Москвы и из регионов различается (не равна)**"
   ]
  },
  {
   "cell_type": "markdown",
   "id": "c8eda433",
   "metadata": {},
   "source": [
    "Проверим нулевую гипотезу:"
   ]
  },
  {
   "cell_type": "code",
   "execution_count": 67,
   "id": "cca8e377",
   "metadata": {},
   "outputs": [
    {
     "name": "stdout",
     "output_type": "stream",
     "text": [
      "p-значение: 0.5257376663729298\n",
      "Не получилось отвергнуть нулевую гипотезу\n"
     ]
    }
   ],
   "source": [
    "moscow = df[df['city']=='Москва']['revenue']\n",
    "others = df[df['city']!='Москва']['revenue']\n",
    "alpha = .05\n",
    "results_2 = st.ttest_ind(moscow, others, equal_var=False)\n",
    "print('p-значение:', results_2.pvalue)\n",
    "if results_2.pvalue < alpha:\n",
    "    print(\"Отвергаем нулевую гипотезу\")\n",
    "else:\n",
    "    print(\"Не получилось отвергнуть нулевую гипотезу\")"
   ]
  },
  {
   "cell_type": "markdown",
   "id": "71dda5f1",
   "metadata": {},
   "source": [
    "Полученное значение p-value говорит о том, что вероятность получить такое или большее различие случайно почти 53%. Это явно слишком большая вероятность, чтобы делать вывод о значимом различии между выручками от пользователей из Москвы и из других регионов."
   ]
  },
  {
   "cell_type": "code",
   "execution_count": 68,
   "id": "59576007",
   "metadata": {},
   "outputs": [
    {
     "data": {
      "text/plain": [
       "1546.7135842880523"
      ]
     },
     "execution_count": 68,
     "metadata": {},
     "output_type": "execute_result"
    }
   ],
   "source": [
    "moscow.mean()"
   ]
  },
  {
   "cell_type": "code",
   "execution_count": 69,
   "id": "8f93972d",
   "metadata": {
    "scrolled": true
   },
   "outputs": [
    {
     "data": {
      "text/plain": [
       "1524.9362274298885"
      ]
     },
     "execution_count": 69,
     "metadata": {},
     "output_type": "execute_result"
    }
   ],
   "source": [
    "others.mean()"
   ]
  },
  {
   "cell_type": "markdown",
   "id": "dd69ec13",
   "metadata": {},
   "source": [
    "### 4.3 Вывод"
   ]
  },
  {
   "cell_type": "markdown",
   "id": "d7cbf8f2",
   "metadata": {},
   "source": [
    "Были проверены две гипотезы: 1. средняя выручка от пользователей тарифов ultra и smart различается; 2. средняя выручка от пользователей из Москвы  практически не отличается от выручки пользователей из других регионов."
   ]
  },
  {
   "cell_type": "markdown",
   "id": "6fd61007",
   "metadata": {},
   "source": [
    "## Общий вывод"
   ]
  },
  {
   "cell_type": "markdown",
   "id": "f0158487",
   "metadata": {},
   "source": [
    "**По результатам статистического анализа выручка от тарифа «Ультра» больше, чем от тарифа «Смарт»: в среднем «Мегалайн» от одного пользователя в месяц получает 2070 рублей и 1290 рублей соответственно**<br>\n",
    "Особенности использования тарифов заключаются в следующем:<br>\n",
    "1.  Пользователям тарифа «Смарт» не хватает услуг в рамках тарифного пакета: кроме абонентской платы пользователи в среднем доплачивают еще 740 рублей ежемесячно (+134%).<br>\n",
    "2.  Пользователи тарифа «Ультра», напротив, не используют тарифный пакет в полном объеме.<br>\n",
    "<br>\n",
    "Средние доходы от пользователей в Москве не отличаются от доходов в других населенных пунктах: разница статистически незначима (p-значение: 0,526) и составляет 22 руб.: 1547 руб. в Москве против 1525 руб в других населенных пунктах.<br> Пользователи дорогого тарифа более свободны в выборе того, как именно использовать объемы тарифного пакета: возможно, использование дорогого тарифа помогает им не думать о том, что в какой-то момент у них отключится интернет или закончится пакет по минутам разговора."
   ]
  }
 ],
 "metadata": {
  "ExecuteTimeLog": [
   {
    "duration": 1347,
    "start_time": "2022-02-12T18:55:53.375Z"
   },
   {
    "duration": 506,
    "start_time": "2022-02-12T18:55:54.725Z"
   },
   {
    "duration": 32,
    "start_time": "2022-02-12T18:55:55.235Z"
   },
   {
    "duration": 18,
    "start_time": "2022-02-12T18:55:55.270Z"
   },
   {
    "duration": 55,
    "start_time": "2022-02-12T18:55:55.290Z"
   },
   {
    "duration": 157,
    "start_time": "2022-02-12T18:55:55.348Z"
   },
   {
    "duration": 30,
    "start_time": "2022-02-12T18:55:55.508Z"
   },
   {
    "duration": 20,
    "start_time": "2022-02-12T18:55:55.542Z"
   },
   {
    "duration": 15,
    "start_time": "2022-02-12T18:55:55.564Z"
   },
   {
    "duration": 52,
    "start_time": "2022-02-12T18:55:55.582Z"
   },
   {
    "duration": 60,
    "start_time": "2022-02-12T18:55:55.637Z"
   },
   {
    "duration": 40,
    "start_time": "2022-02-12T18:55:55.699Z"
   },
   {
    "duration": 15,
    "start_time": "2022-02-12T18:55:55.741Z"
   },
   {
    "duration": 22,
    "start_time": "2022-02-12T18:55:55.758Z"
   },
   {
    "duration": 90,
    "start_time": "2022-02-12T18:55:55.783Z"
   },
   {
    "duration": 9,
    "start_time": "2022-02-12T18:55:55.876Z"
   },
   {
    "duration": 14,
    "start_time": "2022-02-12T18:55:55.888Z"
   },
   {
    "duration": 33,
    "start_time": "2022-02-12T18:55:55.904Z"
   },
   {
    "duration": 17,
    "start_time": "2022-02-12T18:55:55.940Z"
   },
   {
    "duration": 10,
    "start_time": "2022-02-12T18:55:55.960Z"
   },
   {
    "duration": 9,
    "start_time": "2022-02-12T18:55:55.973Z"
   },
   {
    "duration": 79,
    "start_time": "2022-02-12T18:55:55.984Z"
   },
   {
    "duration": 32,
    "start_time": "2022-02-12T18:55:56.069Z"
   },
   {
    "duration": 41,
    "start_time": "2022-02-12T18:55:56.105Z"
   },
   {
    "duration": 9,
    "start_time": "2022-02-12T18:55:56.149Z"
   },
   {
    "duration": 30,
    "start_time": "2022-02-12T18:55:56.160Z"
   },
   {
    "duration": 11,
    "start_time": "2022-02-12T18:55:56.192Z"
   },
   {
    "duration": 134,
    "start_time": "2022-02-12T18:55:56.205Z"
   },
   {
    "duration": 19,
    "start_time": "2022-02-12T18:55:56.342Z"
   },
   {
    "duration": 14,
    "start_time": "2022-02-12T18:55:56.363Z"
   },
   {
    "duration": 14,
    "start_time": "2022-02-12T18:55:56.379Z"
   },
   {
    "duration": 64,
    "start_time": "2022-02-12T18:55:56.395Z"
   },
   {
    "duration": 98,
    "start_time": "2022-02-12T18:55:56.461Z"
   },
   {
    "duration": 38,
    "start_time": "2022-02-12T18:55:56.562Z"
   },
   {
    "duration": 151,
    "start_time": "2022-02-12T18:55:56.603Z"
   },
   {
    "duration": 31,
    "start_time": "2022-02-12T18:55:56.757Z"
   },
   {
    "duration": 107,
    "start_time": "2022-02-12T18:55:56.790Z"
   },
   {
    "duration": 65,
    "start_time": "2022-02-12T18:55:56.899Z"
   },
   {
    "duration": 22,
    "start_time": "2022-02-12T18:55:56.966Z"
   },
   {
    "duration": 120,
    "start_time": "2022-02-12T18:55:56.991Z"
   },
   {
    "duration": 80,
    "start_time": "2022-02-12T18:55:57.113Z"
   },
   {
    "duration": 56,
    "start_time": "2022-02-12T18:55:57.195Z"
   },
   {
    "duration": 95,
    "start_time": "2022-02-12T18:55:57.253Z"
   },
   {
    "duration": 39,
    "start_time": "2022-02-12T18:55:57.350Z"
   },
   {
    "duration": 8,
    "start_time": "2022-02-12T18:55:57.391Z"
   },
   {
    "duration": 37,
    "start_time": "2022-02-12T18:55:57.401Z"
   },
   {
    "duration": 16,
    "start_time": "2022-02-12T18:55:57.441Z"
   },
   {
    "duration": 9,
    "start_time": "2022-02-12T18:55:57.460Z"
   },
   {
    "duration": 24,
    "start_time": "2022-02-12T18:55:57.472Z"
   },
   {
    "duration": 61,
    "start_time": "2022-02-12T18:55:57.498Z"
   },
   {
    "duration": 230,
    "start_time": "2022-02-12T18:55:57.561Z"
   },
   {
    "duration": 62,
    "start_time": "2022-02-12T18:55:57.793Z"
   },
   {
    "duration": 76,
    "start_time": "2022-02-12T18:55:57.857Z"
   },
   {
    "duration": 304,
    "start_time": "2022-02-12T18:55:57.935Z"
   },
   {
    "duration": 307,
    "start_time": "2022-02-12T18:55:58.242Z"
   },
   {
    "duration": 273,
    "start_time": "2022-02-12T18:55:58.552Z"
   },
   {
    "duration": 282,
    "start_time": "2022-02-12T18:55:58.832Z"
   },
   {
    "duration": 66,
    "start_time": "2022-02-12T18:55:59.116Z"
   },
   {
    "duration": 411,
    "start_time": "2022-02-12T18:55:59.185Z"
   },
   {
    "duration": 374,
    "start_time": "2022-02-12T18:55:59.599Z"
   },
   {
    "duration": 404,
    "start_time": "2022-02-12T18:55:59.976Z"
   },
   {
    "duration": 422,
    "start_time": "2022-02-12T18:56:00.382Z"
   },
   {
    "duration": 9,
    "start_time": "2022-02-12T18:56:00.806Z"
   },
   {
    "duration": 13,
    "start_time": "2022-02-12T18:56:00.833Z"
   },
   {
    "duration": 18,
    "start_time": "2022-02-12T18:56:00.849Z"
   },
   {
    "duration": 13,
    "start_time": "2022-02-12T18:56:00.870Z"
   },
   {
    "duration": 13,
    "start_time": "2022-02-12T18:56:00.886Z"
   },
   {
    "duration": 6,
    "start_time": "2022-02-12T18:56:00.937Z"
   },
   {
    "duration": 17,
    "start_time": "2022-02-12T18:56:00.945Z"
   },
   {
    "duration": 22,
    "start_time": "2022-02-12T18:59:38.875Z"
   },
   {
    "duration": 15,
    "start_time": "2022-02-12T19:00:23.922Z"
   },
   {
    "duration": 285,
    "start_time": "2022-02-12T19:11:28.170Z"
   },
   {
    "duration": 1185,
    "start_time": "2022-02-12T19:11:39.308Z"
   },
   {
    "duration": 397,
    "start_time": "2022-02-12T19:11:40.495Z"
   },
   {
    "duration": 23,
    "start_time": "2022-02-12T19:11:40.895Z"
   },
   {
    "duration": 13,
    "start_time": "2022-02-12T19:11:40.920Z"
   },
   {
    "duration": 41,
    "start_time": "2022-02-12T19:11:40.935Z"
   },
   {
    "duration": 111,
    "start_time": "2022-02-12T19:11:40.978Z"
   },
   {
    "duration": 27,
    "start_time": "2022-02-12T19:11:41.092Z"
   },
   {
    "duration": 17,
    "start_time": "2022-02-12T19:11:41.123Z"
   },
   {
    "duration": 19,
    "start_time": "2022-02-12T19:11:41.142Z"
   },
   {
    "duration": 22,
    "start_time": "2022-02-12T19:11:41.163Z"
   },
   {
    "duration": 56,
    "start_time": "2022-02-12T19:11:41.186Z"
   },
   {
    "duration": 16,
    "start_time": "2022-02-12T19:11:41.243Z"
   },
   {
    "duration": 11,
    "start_time": "2022-02-12T19:11:41.260Z"
   },
   {
    "duration": 35,
    "start_time": "2022-02-12T19:11:41.273Z"
   },
   {
    "duration": 43,
    "start_time": "2022-02-12T19:11:41.310Z"
   },
   {
    "duration": 6,
    "start_time": "2022-02-12T19:11:41.355Z"
   },
   {
    "duration": 10,
    "start_time": "2022-02-12T19:11:41.363Z"
   },
   {
    "duration": 7,
    "start_time": "2022-02-12T19:11:41.375Z"
   },
   {
    "duration": 14,
    "start_time": "2022-02-12T19:11:41.407Z"
   },
   {
    "duration": 8,
    "start_time": "2022-02-12T19:11:41.423Z"
   },
   {
    "duration": 10,
    "start_time": "2022-02-12T19:11:41.433Z"
   },
   {
    "duration": 31,
    "start_time": "2022-02-12T19:11:41.445Z"
   },
   {
    "duration": 45,
    "start_time": "2022-02-12T19:11:41.480Z"
   },
   {
    "duration": 21,
    "start_time": "2022-02-12T19:11:41.529Z"
   },
   {
    "duration": 8,
    "start_time": "2022-02-12T19:11:41.552Z"
   },
   {
    "duration": 19,
    "start_time": "2022-02-12T19:11:41.562Z"
   },
   {
    "duration": 7,
    "start_time": "2022-02-12T19:11:41.608Z"
   },
   {
    "duration": 91,
    "start_time": "2022-02-12T19:11:41.617Z"
   },
   {
    "duration": 15,
    "start_time": "2022-02-12T19:11:41.710Z"
   },
   {
    "duration": 11,
    "start_time": "2022-02-12T19:11:41.727Z"
   },
   {
    "duration": 14,
    "start_time": "2022-02-12T19:11:41.740Z"
   },
   {
    "duration": 26,
    "start_time": "2022-02-12T19:11:41.756Z"
   },
   {
    "duration": 78,
    "start_time": "2022-02-12T19:11:41.784Z"
   },
   {
    "duration": 16,
    "start_time": "2022-02-12T19:11:41.864Z"
   },
   {
    "duration": 130,
    "start_time": "2022-02-12T19:11:41.882Z"
   },
   {
    "duration": 25,
    "start_time": "2022-02-12T19:11:42.014Z"
   },
   {
    "duration": 67,
    "start_time": "2022-02-12T19:11:42.040Z"
   },
   {
    "duration": 37,
    "start_time": "2022-02-12T19:11:42.109Z"
   },
   {
    "duration": 16,
    "start_time": "2022-02-12T19:11:42.148Z"
   },
   {
    "duration": 66,
    "start_time": "2022-02-12T19:11:42.166Z"
   },
   {
    "duration": 55,
    "start_time": "2022-02-12T19:11:42.234Z"
   },
   {
    "duration": 37,
    "start_time": "2022-02-12T19:11:42.291Z"
   },
   {
    "duration": 54,
    "start_time": "2022-02-12T19:11:42.330Z"
   },
   {
    "duration": 40,
    "start_time": "2022-02-12T19:11:42.386Z"
   },
   {
    "duration": 6,
    "start_time": "2022-02-12T19:11:42.428Z"
   },
   {
    "duration": 8,
    "start_time": "2022-02-12T19:11:42.436Z"
   },
   {
    "duration": 10,
    "start_time": "2022-02-12T19:11:42.446Z"
   },
   {
    "duration": 13,
    "start_time": "2022-02-12T19:11:42.458Z"
   },
   {
    "duration": 17,
    "start_time": "2022-02-12T19:11:42.472Z"
   },
   {
    "duration": 19,
    "start_time": "2022-02-12T19:11:42.491Z"
   },
   {
    "duration": 149,
    "start_time": "2022-02-12T19:11:42.512Z"
   },
   {
    "duration": 32,
    "start_time": "2022-02-12T19:11:42.663Z"
   },
   {
    "duration": 35,
    "start_time": "2022-02-12T19:11:42.696Z"
   },
   {
    "duration": 254,
    "start_time": "2022-02-12T19:11:42.733Z"
   },
   {
    "duration": 328,
    "start_time": "2022-02-12T19:11:42.989Z"
   },
   {
    "duration": 172,
    "start_time": "2022-02-12T19:11:43.319Z"
   },
   {
    "duration": 183,
    "start_time": "2022-02-12T19:11:43.493Z"
   },
   {
    "duration": 53,
    "start_time": "2022-02-12T19:11:43.678Z"
   },
   {
    "duration": 266,
    "start_time": "2022-02-12T19:11:43.733Z"
   },
   {
    "duration": 240,
    "start_time": "2022-02-12T19:11:44.001Z"
   },
   {
    "duration": 254,
    "start_time": "2022-02-12T19:11:44.243Z"
   },
   {
    "duration": 254,
    "start_time": "2022-02-12T19:11:44.499Z"
   },
   {
    "duration": 7,
    "start_time": "2022-02-12T19:11:44.755Z"
   },
   {
    "duration": 10,
    "start_time": "2022-02-12T19:11:44.763Z"
   },
   {
    "duration": 6,
    "start_time": "2022-02-12T19:11:44.775Z"
   },
   {
    "duration": 28,
    "start_time": "2022-02-12T19:11:44.783Z"
   },
   {
    "duration": 9,
    "start_time": "2022-02-12T19:11:44.813Z"
   },
   {
    "duration": 4,
    "start_time": "2022-02-12T19:11:44.827Z"
   },
   {
    "duration": 6,
    "start_time": "2022-02-12T19:11:44.834Z"
   },
   {
    "duration": 293,
    "start_time": "2022-02-12T19:20:57.348Z"
   },
   {
    "duration": 166,
    "start_time": "2022-02-12T19:21:18.968Z"
   },
   {
    "duration": 4,
    "start_time": "2022-02-12T19:21:48.288Z"
   },
   {
    "duration": 1137,
    "start_time": "2022-02-12T19:21:54.647Z"
   },
   {
    "duration": 389,
    "start_time": "2022-02-12T19:21:55.786Z"
   },
   {
    "duration": 23,
    "start_time": "2022-02-12T19:21:56.178Z"
   },
   {
    "duration": 13,
    "start_time": "2022-02-12T19:21:56.203Z"
   },
   {
    "duration": 23,
    "start_time": "2022-02-12T19:21:56.218Z"
   },
   {
    "duration": 110,
    "start_time": "2022-02-12T19:21:56.242Z"
   },
   {
    "duration": 20,
    "start_time": "2022-02-12T19:21:56.354Z"
   },
   {
    "duration": 17,
    "start_time": "2022-02-12T19:21:56.376Z"
   },
   {
    "duration": 8,
    "start_time": "2022-02-12T19:21:56.409Z"
   },
   {
    "duration": 46,
    "start_time": "2022-02-12T19:21:56.420Z"
   },
   {
    "duration": 61,
    "start_time": "2022-02-12T19:21:56.468Z"
   },
   {
    "duration": 21,
    "start_time": "2022-02-12T19:21:56.531Z"
   },
   {
    "duration": 11,
    "start_time": "2022-02-12T19:21:56.554Z"
   },
   {
    "duration": 29,
    "start_time": "2022-02-12T19:21:56.568Z"
   },
   {
    "duration": 46,
    "start_time": "2022-02-12T19:21:56.608Z"
   },
   {
    "duration": 9,
    "start_time": "2022-02-12T19:21:56.656Z"
   },
   {
    "duration": 11,
    "start_time": "2022-02-12T19:21:56.667Z"
   },
   {
    "duration": 32,
    "start_time": "2022-02-12T19:21:56.680Z"
   },
   {
    "duration": 19,
    "start_time": "2022-02-12T19:21:56.714Z"
   },
   {
    "duration": 7,
    "start_time": "2022-02-12T19:21:56.735Z"
   },
   {
    "duration": 11,
    "start_time": "2022-02-12T19:21:56.744Z"
   },
   {
    "duration": 50,
    "start_time": "2022-02-12T19:21:56.757Z"
   },
   {
    "duration": 24,
    "start_time": "2022-02-12T19:21:56.810Z"
   },
   {
    "duration": 20,
    "start_time": "2022-02-12T19:21:56.836Z"
   },
   {
    "duration": 9,
    "start_time": "2022-02-12T19:21:56.858Z"
   },
   {
    "duration": 46,
    "start_time": "2022-02-12T19:21:56.869Z"
   },
   {
    "duration": 7,
    "start_time": "2022-02-12T19:21:56.920Z"
   },
   {
    "duration": 92,
    "start_time": "2022-02-12T19:21:56.930Z"
   },
   {
    "duration": 24,
    "start_time": "2022-02-12T19:21:57.025Z"
   },
   {
    "duration": 11,
    "start_time": "2022-02-12T19:21:57.050Z"
   },
   {
    "duration": 12,
    "start_time": "2022-02-12T19:21:57.062Z"
   },
   {
    "duration": 38,
    "start_time": "2022-02-12T19:21:57.076Z"
   },
   {
    "duration": 64,
    "start_time": "2022-02-12T19:21:57.116Z"
   },
   {
    "duration": 29,
    "start_time": "2022-02-12T19:21:57.181Z"
   },
   {
    "duration": 106,
    "start_time": "2022-02-12T19:21:57.212Z"
   },
   {
    "duration": 24,
    "start_time": "2022-02-12T19:21:57.320Z"
   },
   {
    "duration": 81,
    "start_time": "2022-02-12T19:21:57.346Z"
   },
   {
    "duration": 38,
    "start_time": "2022-02-12T19:21:57.429Z"
   },
   {
    "duration": 17,
    "start_time": "2022-02-12T19:21:57.468Z"
   },
   {
    "duration": 85,
    "start_time": "2022-02-12T19:21:57.487Z"
   },
   {
    "duration": 70,
    "start_time": "2022-02-12T19:21:57.574Z"
   },
   {
    "duration": 32,
    "start_time": "2022-02-12T19:21:57.646Z"
   },
   {
    "duration": 79,
    "start_time": "2022-02-12T19:21:57.680Z"
   },
   {
    "duration": 31,
    "start_time": "2022-02-12T19:21:57.761Z"
   },
   {
    "duration": 19,
    "start_time": "2022-02-12T19:21:57.794Z"
   },
   {
    "duration": 10,
    "start_time": "2022-02-12T19:21:57.815Z"
   },
   {
    "duration": 11,
    "start_time": "2022-02-12T19:21:57.828Z"
   },
   {
    "duration": 8,
    "start_time": "2022-02-12T19:21:57.841Z"
   },
   {
    "duration": 17,
    "start_time": "2022-02-12T19:21:57.851Z"
   },
   {
    "duration": 56,
    "start_time": "2022-02-12T19:21:57.870Z"
   },
   {
    "duration": 154,
    "start_time": "2022-02-12T19:21:57.928Z"
   },
   {
    "duration": 43,
    "start_time": "2022-02-12T19:21:58.084Z"
   },
   {
    "duration": 32,
    "start_time": "2022-02-12T19:21:58.129Z"
   },
   {
    "duration": 187,
    "start_time": "2022-02-12T19:21:58.163Z"
   },
   {
    "duration": 195,
    "start_time": "2022-02-12T19:21:58.352Z"
   },
   {
    "duration": 200,
    "start_time": "2022-02-12T19:21:58.549Z"
   },
   {
    "duration": 186,
    "start_time": "2022-02-12T19:21:58.751Z"
   },
   {
    "duration": 39,
    "start_time": "2022-02-12T19:21:58.939Z"
   },
   {
    "duration": 277,
    "start_time": "2022-02-12T19:21:58.980Z"
   },
   {
    "duration": 250,
    "start_time": "2022-02-12T19:21:59.259Z"
   },
   {
    "duration": 263,
    "start_time": "2022-02-12T19:21:59.512Z"
   },
   {
    "duration": 281,
    "start_time": "2022-02-12T19:21:59.777Z"
   },
   {
    "duration": 8,
    "start_time": "2022-02-12T19:22:00.061Z"
   },
   {
    "duration": 18,
    "start_time": "2022-02-12T19:22:00.071Z"
   },
   {
    "duration": 21,
    "start_time": "2022-02-12T19:22:00.091Z"
   },
   {
    "duration": 13,
    "start_time": "2022-02-12T19:22:00.114Z"
   },
   {
    "duration": 15,
    "start_time": "2022-02-12T19:22:00.129Z"
   },
   {
    "duration": 8,
    "start_time": "2022-02-12T19:22:00.146Z"
   },
   {
    "duration": 9,
    "start_time": "2022-02-12T19:22:00.156Z"
   },
   {
    "duration": 247,
    "start_time": "2022-02-12T19:26:48.446Z"
   },
   {
    "duration": 173,
    "start_time": "2022-02-12T19:27:03.085Z"
   },
   {
    "duration": 173,
    "start_time": "2022-02-12T19:27:09.085Z"
   },
   {
    "duration": 1196,
    "start_time": "2022-02-12T19:35:56.208Z"
   },
   {
    "duration": 409,
    "start_time": "2022-02-12T19:35:57.406Z"
   },
   {
    "duration": 24,
    "start_time": "2022-02-12T19:35:57.817Z"
   },
   {
    "duration": 16,
    "start_time": "2022-02-12T19:35:57.843Z"
   },
   {
    "duration": 28,
    "start_time": "2022-02-12T19:35:57.861Z"
   },
   {
    "duration": 117,
    "start_time": "2022-02-12T19:35:57.891Z"
   },
   {
    "duration": 18,
    "start_time": "2022-02-12T19:35:58.010Z"
   },
   {
    "duration": 16,
    "start_time": "2022-02-12T19:35:58.030Z"
   },
   {
    "duration": 12,
    "start_time": "2022-02-12T19:35:58.050Z"
   },
   {
    "duration": 48,
    "start_time": "2022-02-12T19:35:58.064Z"
   },
   {
    "duration": 47,
    "start_time": "2022-02-12T19:35:58.114Z"
   },
   {
    "duration": 15,
    "start_time": "2022-02-12T19:35:58.163Z"
   },
   {
    "duration": 34,
    "start_time": "2022-02-12T19:35:58.179Z"
   },
   {
    "duration": 19,
    "start_time": "2022-02-12T19:35:58.215Z"
   },
   {
    "duration": 44,
    "start_time": "2022-02-12T19:35:58.236Z"
   },
   {
    "duration": 27,
    "start_time": "2022-02-12T19:35:58.282Z"
   },
   {
    "duration": 15,
    "start_time": "2022-02-12T19:35:58.311Z"
   },
   {
    "duration": 11,
    "start_time": "2022-02-12T19:35:58.328Z"
   },
   {
    "duration": 17,
    "start_time": "2022-02-12T19:35:58.340Z"
   },
   {
    "duration": 5,
    "start_time": "2022-02-12T19:35:58.359Z"
   },
   {
    "duration": 12,
    "start_time": "2022-02-12T19:35:58.366Z"
   },
   {
    "duration": 50,
    "start_time": "2022-02-12T19:35:58.380Z"
   },
   {
    "duration": 24,
    "start_time": "2022-02-12T19:35:58.432Z"
   },
   {
    "duration": 21,
    "start_time": "2022-02-12T19:35:58.458Z"
   },
   {
    "duration": 26,
    "start_time": "2022-02-12T19:35:58.481Z"
   },
   {
    "duration": 17,
    "start_time": "2022-02-12T19:35:58.509Z"
   },
   {
    "duration": 7,
    "start_time": "2022-02-12T19:35:58.532Z"
   },
   {
    "duration": 102,
    "start_time": "2022-02-12T19:35:58.542Z"
   },
   {
    "duration": 15,
    "start_time": "2022-02-12T19:35:58.646Z"
   },
   {
    "duration": 11,
    "start_time": "2022-02-12T19:35:58.663Z"
   },
   {
    "duration": 32,
    "start_time": "2022-02-12T19:35:58.676Z"
   },
   {
    "duration": 28,
    "start_time": "2022-02-12T19:35:58.710Z"
   },
   {
    "duration": 82,
    "start_time": "2022-02-12T19:35:58.740Z"
   },
   {
    "duration": 26,
    "start_time": "2022-02-12T19:35:58.824Z"
   },
   {
    "duration": 115,
    "start_time": "2022-02-12T19:35:58.852Z"
   },
   {
    "duration": 23,
    "start_time": "2022-02-12T19:35:58.969Z"
   },
   {
    "duration": 72,
    "start_time": "2022-02-12T19:35:58.994Z"
   },
   {
    "duration": 48,
    "start_time": "2022-02-12T19:35:59.068Z"
   },
   {
    "duration": 17,
    "start_time": "2022-02-12T19:35:59.119Z"
   },
   {
    "duration": 74,
    "start_time": "2022-02-12T19:35:59.138Z"
   },
   {
    "duration": 47,
    "start_time": "2022-02-12T19:35:59.213Z"
   },
   {
    "duration": 46,
    "start_time": "2022-02-12T19:35:59.262Z"
   },
   {
    "duration": 61,
    "start_time": "2022-02-12T19:35:59.310Z"
   },
   {
    "duration": 44,
    "start_time": "2022-02-12T19:35:59.372Z"
   },
   {
    "duration": 7,
    "start_time": "2022-02-12T19:35:59.418Z"
   },
   {
    "duration": 12,
    "start_time": "2022-02-12T19:35:59.427Z"
   },
   {
    "duration": 8,
    "start_time": "2022-02-12T19:35:59.441Z"
   },
   {
    "duration": 8,
    "start_time": "2022-02-12T19:35:59.451Z"
   },
   {
    "duration": 47,
    "start_time": "2022-02-12T19:35:59.461Z"
   },
   {
    "duration": 21,
    "start_time": "2022-02-12T19:35:59.510Z"
   },
   {
    "duration": 144,
    "start_time": "2022-02-12T19:35:59.533Z"
   },
   {
    "duration": 41,
    "start_time": "2022-02-12T19:35:59.679Z"
   },
   {
    "duration": 35,
    "start_time": "2022-02-12T19:35:59.722Z"
   },
   {
    "duration": 195,
    "start_time": "2022-02-12T19:35:59.758Z"
   },
   {
    "duration": 196,
    "start_time": "2022-02-12T19:35:59.954Z"
   },
   {
    "duration": 177,
    "start_time": "2022-02-12T19:36:00.153Z"
   },
   {
    "duration": 185,
    "start_time": "2022-02-12T19:36:00.332Z"
   },
   {
    "duration": 41,
    "start_time": "2022-02-12T19:36:00.519Z"
   },
   {
    "duration": 277,
    "start_time": "2022-02-12T19:36:00.562Z"
   },
   {
    "duration": 255,
    "start_time": "2022-02-12T19:36:00.841Z"
   },
   {
    "duration": 273,
    "start_time": "2022-02-12T19:36:01.098Z"
   },
   {
    "duration": 284,
    "start_time": "2022-02-12T19:36:01.373Z"
   },
   {
    "duration": 7,
    "start_time": "2022-02-12T19:36:01.660Z"
   },
   {
    "duration": 25,
    "start_time": "2022-02-12T19:36:01.669Z"
   },
   {
    "duration": 40,
    "start_time": "2022-02-12T19:36:01.696Z"
   },
   {
    "duration": 22,
    "start_time": "2022-02-12T19:36:01.738Z"
   },
   {
    "duration": 20,
    "start_time": "2022-02-12T19:36:01.762Z"
   },
   {
    "duration": 22,
    "start_time": "2022-02-12T19:36:01.784Z"
   },
   {
    "duration": 104,
    "start_time": "2022-02-12T19:36:01.809Z"
   },
   {
    "duration": 307,
    "start_time": "2022-02-13T16:07:53.926Z"
   },
   {
    "duration": 1807,
    "start_time": "2022-02-13T16:39:58.345Z"
   },
   {
    "duration": 634,
    "start_time": "2022-02-13T16:40:00.156Z"
   },
   {
    "duration": 29,
    "start_time": "2022-02-13T16:40:00.793Z"
   },
   {
    "duration": 208,
    "start_time": "2022-02-13T16:40:00.825Z"
   },
   {
    "duration": 579,
    "start_time": "2022-02-13T16:40:01.035Z"
   },
   {
    "duration": 378,
    "start_time": "2022-02-13T16:40:01.617Z"
   },
   {
    "duration": 88,
    "start_time": "2022-02-13T16:40:01.997Z"
   },
   {
    "duration": 188,
    "start_time": "2022-02-13T16:40:02.088Z"
   },
   {
    "duration": 260,
    "start_time": "2022-02-13T16:40:02.282Z"
   },
   {
    "duration": 200,
    "start_time": "2022-02-13T16:40:02.546Z"
   },
   {
    "duration": 356,
    "start_time": "2022-02-13T16:40:02.749Z"
   },
   {
    "duration": 226,
    "start_time": "2022-02-13T16:40:03.108Z"
   },
   {
    "duration": 287,
    "start_time": "2022-02-13T16:40:03.337Z"
   },
   {
    "duration": 254,
    "start_time": "2022-02-13T16:40:03.627Z"
   },
   {
    "duration": 249,
    "start_time": "2022-02-13T16:40:03.884Z"
   },
   {
    "duration": 235,
    "start_time": "2022-02-13T16:40:04.136Z"
   },
   {
    "duration": 227,
    "start_time": "2022-02-13T16:40:04.374Z"
   },
   {
    "duration": 247,
    "start_time": "2022-02-13T16:40:04.604Z"
   },
   {
    "duration": 197,
    "start_time": "2022-02-13T16:40:04.854Z"
   },
   {
    "duration": 268,
    "start_time": "2022-02-13T16:40:05.055Z"
   },
   {
    "duration": 274,
    "start_time": "2022-02-13T16:40:05.326Z"
   },
   {
    "duration": 206,
    "start_time": "2022-02-13T16:40:05.602Z"
   },
   {
    "duration": 180,
    "start_time": "2022-02-13T16:40:05.811Z"
   },
   {
    "duration": 149,
    "start_time": "2022-02-13T16:40:05.994Z"
   },
   {
    "duration": 210,
    "start_time": "2022-02-13T16:40:06.146Z"
   },
   {
    "duration": 161,
    "start_time": "2022-02-13T16:40:06.358Z"
   },
   {
    "duration": 144,
    "start_time": "2022-02-13T16:40:06.526Z"
   },
   {
    "duration": 393,
    "start_time": "2022-02-13T16:40:06.674Z"
   },
   {
    "duration": 97,
    "start_time": "2022-02-13T16:40:07.070Z"
   },
   {
    "duration": 136,
    "start_time": "2022-02-13T16:40:07.169Z"
   },
   {
    "duration": 295,
    "start_time": "2022-02-13T16:40:07.307Z"
   },
   {
    "duration": 260,
    "start_time": "2022-02-13T16:40:07.605Z"
   },
   {
    "duration": 308,
    "start_time": "2022-02-13T16:40:07.869Z"
   },
   {
    "duration": 119,
    "start_time": "2022-02-13T16:40:08.180Z"
   },
   {
    "duration": 351,
    "start_time": "2022-02-13T16:40:08.302Z"
   },
   {
    "duration": 139,
    "start_time": "2022-02-13T16:40:08.656Z"
   },
   {
    "duration": 325,
    "start_time": "2022-02-13T16:40:08.798Z"
   },
   {
    "duration": 189,
    "start_time": "2022-02-13T16:40:09.125Z"
   },
   {
    "duration": 232,
    "start_time": "2022-02-13T16:40:09.316Z"
   },
   {
    "duration": 264,
    "start_time": "2022-02-13T16:40:09.551Z"
   },
   {
    "duration": 221,
    "start_time": "2022-02-13T16:40:09.817Z"
   },
   {
    "duration": 234,
    "start_time": "2022-02-13T16:40:10.040Z"
   },
   {
    "duration": 292,
    "start_time": "2022-02-13T16:40:10.277Z"
   },
   {
    "duration": 155,
    "start_time": "2022-02-13T16:40:10.572Z"
   },
   {
    "duration": 121,
    "start_time": "2022-02-13T16:40:10.730Z"
   },
   {
    "duration": 243,
    "start_time": "2022-02-13T16:40:10.854Z"
   },
   {
    "duration": 221,
    "start_time": "2022-02-13T16:40:11.100Z"
   },
   {
    "duration": 186,
    "start_time": "2022-02-13T16:40:11.323Z"
   },
   {
    "duration": 230,
    "start_time": "2022-02-13T16:40:11.512Z"
   },
   {
    "duration": 197,
    "start_time": "2022-02-13T16:40:11.745Z"
   },
   {
    "duration": 387,
    "start_time": "2022-02-13T16:40:11.944Z"
   },
   {
    "duration": 54,
    "start_time": "2022-02-13T16:40:12.333Z"
   },
   {
    "duration": 190,
    "start_time": "2022-02-13T16:40:12.389Z"
   },
   {
    "duration": 397,
    "start_time": "2022-02-13T16:40:12.581Z"
   },
   {
    "duration": 292,
    "start_time": "2022-02-13T16:40:12.980Z"
   },
   {
    "duration": 376,
    "start_time": "2022-02-13T16:40:13.275Z"
   },
   {
    "duration": 321,
    "start_time": "2022-02-13T16:40:13.654Z"
   },
   {
    "duration": 87,
    "start_time": "2022-02-13T16:40:13.978Z"
   },
   {
    "duration": 578,
    "start_time": "2022-02-13T16:40:14.068Z"
   },
   {
    "duration": 407,
    "start_time": "2022-02-13T16:40:14.651Z"
   },
   {
    "duration": 499,
    "start_time": "2022-02-13T16:40:15.060Z"
   },
   {
    "duration": 401,
    "start_time": "2022-02-13T16:40:15.561Z"
   },
   {
    "duration": 8,
    "start_time": "2022-02-13T16:40:15.965Z"
   },
   {
    "duration": 200,
    "start_time": "2022-02-13T16:40:15.975Z"
   },
   {
    "duration": 203,
    "start_time": "2022-02-13T16:40:16.179Z"
   },
   {
    "duration": 198,
    "start_time": "2022-02-13T16:40:16.385Z"
   },
   {
    "duration": 193,
    "start_time": "2022-02-13T16:40:16.586Z"
   },
   {
    "duration": 190,
    "start_time": "2022-02-13T16:40:16.782Z"
   },
   {
    "duration": 233,
    "start_time": "2022-02-13T16:40:16.975Z"
   }
  ],
  "kernelspec": {
   "display_name": "Python 3 (ipykernel)",
   "language": "python",
   "name": "python3"
  },
  "language_info": {
   "codemirror_mode": {
    "name": "ipython",
    "version": 3
   },
   "file_extension": ".py",
   "mimetype": "text/x-python",
   "name": "python",
   "nbconvert_exporter": "python",
   "pygments_lexer": "ipython3",
   "version": "3.9.7"
  },
  "latex_envs": {
   "LaTeX_envs_menu_present": true,
   "autoclose": false,
   "autocomplete": true,
   "bibliofile": "biblio.bib",
   "cite_by": "apalike",
   "current_citInitial": 1,
   "eqLabelWithNumbers": true,
   "eqNumInitial": 1,
   "hotkeys": {
    "equation": "Ctrl-E",
    "itemize": "Ctrl-I"
   },
   "labels_anchors": false,
   "latex_user_defs": false,
   "report_style_numbering": false,
   "user_envs_cfg": false
  },
  "toc": {
   "base_numbering": 1,
   "nav_menu": {},
   "number_sections": false,
   "sideBar": true,
   "skip_h1_title": true,
   "title_cell": "Содержание",
   "title_sidebar": "Contents",
   "toc_cell": true,
   "toc_position": {},
   "toc_section_display": true,
   "toc_window_display": true
  }
 },
 "nbformat": 4,
 "nbformat_minor": 5
}
