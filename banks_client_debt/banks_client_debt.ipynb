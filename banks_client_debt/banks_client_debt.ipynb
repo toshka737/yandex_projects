{
 "cells": [
  {
   "cell_type": "markdown",
   "metadata": {},
   "source": [
    "# Исследование надёжности заёмщиков\n",
    "\n",
    "Заказчик — кредитный отдел банка. Нужно разобраться, влияет ли семейное положение и количество детей клиента на факт погашения кредита в срок. Входные данные от банка — статистика о платёжеспособности клиентов.\n",
    "\n",
    "Результаты исследования будут учтены при построении модели **кредитного скоринга** — специальной системы, которая оценивает способность потенциального заёмщика вернуть кредит банку."
   ]
  },
  {
   "cell_type": "markdown",
   "metadata": {},
   "source": [
    "## Шаг 1. Откройте файл с данными и изучите общую информацию"
   ]
  },
  {
   "cell_type": "code",
   "execution_count": 1,
   "metadata": {},
   "outputs": [],
   "source": [
    "#импортируем необходимые библиотеки\n",
    "import pandas as pd\n",
    "from pymystem3 import Mystem\n",
    "m = Mystem()"
   ]
  },
  {
   "cell_type": "code",
   "execution_count": 2,
   "metadata": {},
   "outputs": [
    {
     "name": "stdout",
     "output_type": "stream",
     "text": [
      "<class 'pandas.core.frame.DataFrame'>\n",
      "RangeIndex: 21525 entries, 0 to 21524\n",
      "Data columns (total 12 columns):\n",
      "children            21525 non-null int64\n",
      "days_employed       19351 non-null float64\n",
      "dob_years           21525 non-null int64\n",
      "education           21525 non-null object\n",
      "education_id        21525 non-null int64\n",
      "family_status       21525 non-null object\n",
      "family_status_id    21525 non-null int64\n",
      "gender              21525 non-null object\n",
      "income_type         21525 non-null object\n",
      "debt                21525 non-null int64\n",
      "total_income        19351 non-null float64\n",
      "purpose             21525 non-null object\n",
      "dtypes: float64(2), int64(5), object(5)\n",
      "memory usage: 2.0+ MB\n"
     ]
    }
   ],
   "source": [
    "#прочитаем файл с данными\n",
    "data = pd.read_csv('/datasets/data.csv')\n",
    "#просмотр общей информации о данных\n",
    "data.info()"
   ]
  },
  {
   "cell_type": "code",
   "execution_count": 3,
   "metadata": {},
   "outputs": [
    {
     "data": {
      "text/plain": [
       "children               0\n",
       "days_employed       2174\n",
       "dob_years              0\n",
       "education              0\n",
       "education_id           0\n",
       "family_status          0\n",
       "family_status_id       0\n",
       "gender                 0\n",
       "income_type            0\n",
       "debt                   0\n",
       "total_income        2174\n",
       "purpose                0\n",
       "dtype: int64"
      ]
     },
     "execution_count": 3,
     "metadata": {},
     "output_type": "execute_result"
    }
   ],
   "source": [
    "#поиск пропущенных значений\n",
    "data.isna().sum()"
   ]
  },
  {
   "cell_type": "code",
   "execution_count": 4,
   "metadata": {},
   "outputs": [
    {
     "data": {
      "text/html": [
       "<div>\n",
       "<style scoped>\n",
       "    .dataframe tbody tr th:only-of-type {\n",
       "        vertical-align: middle;\n",
       "    }\n",
       "\n",
       "    .dataframe tbody tr th {\n",
       "        vertical-align: top;\n",
       "    }\n",
       "\n",
       "    .dataframe thead th {\n",
       "        text-align: right;\n",
       "    }\n",
       "</style>\n",
       "<table border=\"1\" class=\"dataframe\">\n",
       "  <thead>\n",
       "    <tr style=\"text-align: right;\">\n",
       "      <th></th>\n",
       "      <th>children</th>\n",
       "      <th>days_employed</th>\n",
       "      <th>dob_years</th>\n",
       "      <th>education</th>\n",
       "      <th>education_id</th>\n",
       "      <th>family_status</th>\n",
       "      <th>family_status_id</th>\n",
       "      <th>gender</th>\n",
       "      <th>income_type</th>\n",
       "      <th>debt</th>\n",
       "      <th>total_income</th>\n",
       "      <th>purpose</th>\n",
       "    </tr>\n",
       "  </thead>\n",
       "  <tbody>\n",
       "    <tr>\n",
       "      <td>0</td>\n",
       "      <td>1</td>\n",
       "      <td>-8437.673028</td>\n",
       "      <td>42</td>\n",
       "      <td>высшее</td>\n",
       "      <td>0</td>\n",
       "      <td>женат / замужем</td>\n",
       "      <td>0</td>\n",
       "      <td>F</td>\n",
       "      <td>сотрудник</td>\n",
       "      <td>0</td>\n",
       "      <td>253875.639453</td>\n",
       "      <td>покупка жилья</td>\n",
       "    </tr>\n",
       "    <tr>\n",
       "      <td>1</td>\n",
       "      <td>1</td>\n",
       "      <td>-4024.803754</td>\n",
       "      <td>36</td>\n",
       "      <td>среднее</td>\n",
       "      <td>1</td>\n",
       "      <td>женат / замужем</td>\n",
       "      <td>0</td>\n",
       "      <td>F</td>\n",
       "      <td>сотрудник</td>\n",
       "      <td>0</td>\n",
       "      <td>112080.014102</td>\n",
       "      <td>приобретение автомобиля</td>\n",
       "    </tr>\n",
       "    <tr>\n",
       "      <td>2</td>\n",
       "      <td>0</td>\n",
       "      <td>-5623.422610</td>\n",
       "      <td>33</td>\n",
       "      <td>Среднее</td>\n",
       "      <td>1</td>\n",
       "      <td>женат / замужем</td>\n",
       "      <td>0</td>\n",
       "      <td>M</td>\n",
       "      <td>сотрудник</td>\n",
       "      <td>0</td>\n",
       "      <td>145885.952297</td>\n",
       "      <td>покупка жилья</td>\n",
       "    </tr>\n",
       "    <tr>\n",
       "      <td>3</td>\n",
       "      <td>3</td>\n",
       "      <td>-4124.747207</td>\n",
       "      <td>32</td>\n",
       "      <td>среднее</td>\n",
       "      <td>1</td>\n",
       "      <td>женат / замужем</td>\n",
       "      <td>0</td>\n",
       "      <td>M</td>\n",
       "      <td>сотрудник</td>\n",
       "      <td>0</td>\n",
       "      <td>267628.550329</td>\n",
       "      <td>дополнительное образование</td>\n",
       "    </tr>\n",
       "    <tr>\n",
       "      <td>4</td>\n",
       "      <td>0</td>\n",
       "      <td>340266.072047</td>\n",
       "      <td>53</td>\n",
       "      <td>среднее</td>\n",
       "      <td>1</td>\n",
       "      <td>гражданский брак</td>\n",
       "      <td>1</td>\n",
       "      <td>F</td>\n",
       "      <td>пенсионер</td>\n",
       "      <td>0</td>\n",
       "      <td>158616.077870</td>\n",
       "      <td>сыграть свадьбу</td>\n",
       "    </tr>\n",
       "    <tr>\n",
       "      <td>5</td>\n",
       "      <td>0</td>\n",
       "      <td>-926.185831</td>\n",
       "      <td>27</td>\n",
       "      <td>высшее</td>\n",
       "      <td>0</td>\n",
       "      <td>гражданский брак</td>\n",
       "      <td>1</td>\n",
       "      <td>M</td>\n",
       "      <td>компаньон</td>\n",
       "      <td>0</td>\n",
       "      <td>255763.565419</td>\n",
       "      <td>покупка жилья</td>\n",
       "    </tr>\n",
       "    <tr>\n",
       "      <td>6</td>\n",
       "      <td>0</td>\n",
       "      <td>-2879.202052</td>\n",
       "      <td>43</td>\n",
       "      <td>высшее</td>\n",
       "      <td>0</td>\n",
       "      <td>женат / замужем</td>\n",
       "      <td>0</td>\n",
       "      <td>F</td>\n",
       "      <td>компаньон</td>\n",
       "      <td>0</td>\n",
       "      <td>240525.971920</td>\n",
       "      <td>операции с жильем</td>\n",
       "    </tr>\n",
       "    <tr>\n",
       "      <td>7</td>\n",
       "      <td>0</td>\n",
       "      <td>-152.779569</td>\n",
       "      <td>50</td>\n",
       "      <td>СРЕДНЕЕ</td>\n",
       "      <td>1</td>\n",
       "      <td>женат / замужем</td>\n",
       "      <td>0</td>\n",
       "      <td>M</td>\n",
       "      <td>сотрудник</td>\n",
       "      <td>0</td>\n",
       "      <td>135823.934197</td>\n",
       "      <td>образование</td>\n",
       "    </tr>\n",
       "    <tr>\n",
       "      <td>8</td>\n",
       "      <td>2</td>\n",
       "      <td>-6929.865299</td>\n",
       "      <td>35</td>\n",
       "      <td>ВЫСШЕЕ</td>\n",
       "      <td>0</td>\n",
       "      <td>гражданский брак</td>\n",
       "      <td>1</td>\n",
       "      <td>F</td>\n",
       "      <td>сотрудник</td>\n",
       "      <td>0</td>\n",
       "      <td>95856.832424</td>\n",
       "      <td>на проведение свадьбы</td>\n",
       "    </tr>\n",
       "    <tr>\n",
       "      <td>9</td>\n",
       "      <td>0</td>\n",
       "      <td>-2188.756445</td>\n",
       "      <td>41</td>\n",
       "      <td>среднее</td>\n",
       "      <td>1</td>\n",
       "      <td>женат / замужем</td>\n",
       "      <td>0</td>\n",
       "      <td>M</td>\n",
       "      <td>сотрудник</td>\n",
       "      <td>0</td>\n",
       "      <td>144425.938277</td>\n",
       "      <td>покупка жилья для семьи</td>\n",
       "    </tr>\n",
       "  </tbody>\n",
       "</table>\n",
       "</div>"
      ],
      "text/plain": [
       "   children  days_employed  dob_years education  education_id  \\\n",
       "0         1   -8437.673028         42    высшее             0   \n",
       "1         1   -4024.803754         36   среднее             1   \n",
       "2         0   -5623.422610         33   Среднее             1   \n",
       "3         3   -4124.747207         32   среднее             1   \n",
       "4         0  340266.072047         53   среднее             1   \n",
       "5         0    -926.185831         27    высшее             0   \n",
       "6         0   -2879.202052         43    высшее             0   \n",
       "7         0    -152.779569         50   СРЕДНЕЕ             1   \n",
       "8         2   -6929.865299         35    ВЫСШЕЕ             0   \n",
       "9         0   -2188.756445         41   среднее             1   \n",
       "\n",
       "      family_status  family_status_id gender income_type  debt   total_income  \\\n",
       "0   женат / замужем                 0      F   сотрудник     0  253875.639453   \n",
       "1   женат / замужем                 0      F   сотрудник     0  112080.014102   \n",
       "2   женат / замужем                 0      M   сотрудник     0  145885.952297   \n",
       "3   женат / замужем                 0      M   сотрудник     0  267628.550329   \n",
       "4  гражданский брак                 1      F   пенсионер     0  158616.077870   \n",
       "5  гражданский брак                 1      M   компаньон     0  255763.565419   \n",
       "6   женат / замужем                 0      F   компаньон     0  240525.971920   \n",
       "7   женат / замужем                 0      M   сотрудник     0  135823.934197   \n",
       "8  гражданский брак                 1      F   сотрудник     0   95856.832424   \n",
       "9   женат / замужем                 0      M   сотрудник     0  144425.938277   \n",
       "\n",
       "                      purpose  \n",
       "0               покупка жилья  \n",
       "1     приобретение автомобиля  \n",
       "2               покупка жилья  \n",
       "3  дополнительное образование  \n",
       "4             сыграть свадьбу  \n",
       "5               покупка жилья  \n",
       "6           операции с жильем  \n",
       "7                 образование  \n",
       "8       на проведение свадьбы  \n",
       "9     покупка жилья для семьи  "
      ]
     },
     "execution_count": 4,
     "metadata": {},
     "output_type": "execute_result"
    }
   ],
   "source": [
    "#ознакомимся с таблицей\n",
    "data.head(10)"
   ]
  },
  {
   "cell_type": "markdown",
   "metadata": {},
   "source": [
    "**Вывод**"
   ]
  },
  {
   "cell_type": "markdown",
   "metadata": {},
   "source": [
    "Переименование столбцов не требуется.<br>\n",
    "В столбцах `days_employed` и `total_income` имеются явные пропуски (по 2174 строк). Количество строк с пропусками составляет примерно 10%, процент слишком большой - строки удалить нельзя, необходимо заполнить пропуски.<br>\n",
    "Во многих столбцах тип данных `object` - необходим анализ данных этих столбцов и, при необходимости, перевод в \"целочисленный\" вид.<br> В связи с повторяющимися целями кредита в столбце `purpose` целесообразно провести лемматизацию и категоризацию. "
   ]
  },
  {
   "cell_type": "markdown",
   "metadata": {},
   "source": [
    "## Шаг 2. Предобработка данных"
   ]
  },
  {
   "cell_type": "markdown",
   "metadata": {},
   "source": [
    "### Обработка пропусков"
   ]
  },
  {
   "cell_type": "code",
   "execution_count": 5,
   "metadata": {
    "scrolled": true
   },
   "outputs": [
    {
     "data": {
      "text/html": [
       "<div>\n",
       "<style scoped>\n",
       "    .dataframe tbody tr th:only-of-type {\n",
       "        vertical-align: middle;\n",
       "    }\n",
       "\n",
       "    .dataframe tbody tr th {\n",
       "        vertical-align: top;\n",
       "    }\n",
       "\n",
       "    .dataframe thead th {\n",
       "        text-align: right;\n",
       "    }\n",
       "</style>\n",
       "<table border=\"1\" class=\"dataframe\">\n",
       "  <thead>\n",
       "    <tr style=\"text-align: right;\">\n",
       "      <th></th>\n",
       "      <th>children</th>\n",
       "      <th>days_employed</th>\n",
       "      <th>dob_years</th>\n",
       "      <th>education_id</th>\n",
       "      <th>family_status_id</th>\n",
       "      <th>debt</th>\n",
       "      <th>total_income</th>\n",
       "    </tr>\n",
       "  </thead>\n",
       "  <tbody>\n",
       "    <tr>\n",
       "      <td>count</td>\n",
       "      <td>21525.000000</td>\n",
       "      <td>19351.000000</td>\n",
       "      <td>21525.000000</td>\n",
       "      <td>21525.000000</td>\n",
       "      <td>21525.000000</td>\n",
       "      <td>21525.000000</td>\n",
       "      <td>1.935100e+04</td>\n",
       "    </tr>\n",
       "    <tr>\n",
       "      <td>mean</td>\n",
       "      <td>0.538908</td>\n",
       "      <td>63046.497661</td>\n",
       "      <td>43.293380</td>\n",
       "      <td>0.817236</td>\n",
       "      <td>0.972544</td>\n",
       "      <td>0.080883</td>\n",
       "      <td>1.674223e+05</td>\n",
       "    </tr>\n",
       "    <tr>\n",
       "      <td>std</td>\n",
       "      <td>1.381587</td>\n",
       "      <td>140827.311974</td>\n",
       "      <td>12.574584</td>\n",
       "      <td>0.548138</td>\n",
       "      <td>1.420324</td>\n",
       "      <td>0.272661</td>\n",
       "      <td>1.029716e+05</td>\n",
       "    </tr>\n",
       "    <tr>\n",
       "      <td>min</td>\n",
       "      <td>-1.000000</td>\n",
       "      <td>-18388.949901</td>\n",
       "      <td>0.000000</td>\n",
       "      <td>0.000000</td>\n",
       "      <td>0.000000</td>\n",
       "      <td>0.000000</td>\n",
       "      <td>2.066726e+04</td>\n",
       "    </tr>\n",
       "    <tr>\n",
       "      <td>25%</td>\n",
       "      <td>0.000000</td>\n",
       "      <td>-2747.423625</td>\n",
       "      <td>33.000000</td>\n",
       "      <td>1.000000</td>\n",
       "      <td>0.000000</td>\n",
       "      <td>0.000000</td>\n",
       "      <td>1.030532e+05</td>\n",
       "    </tr>\n",
       "    <tr>\n",
       "      <td>50%</td>\n",
       "      <td>0.000000</td>\n",
       "      <td>-1203.369529</td>\n",
       "      <td>42.000000</td>\n",
       "      <td>1.000000</td>\n",
       "      <td>0.000000</td>\n",
       "      <td>0.000000</td>\n",
       "      <td>1.450179e+05</td>\n",
       "    </tr>\n",
       "    <tr>\n",
       "      <td>75%</td>\n",
       "      <td>1.000000</td>\n",
       "      <td>-291.095954</td>\n",
       "      <td>53.000000</td>\n",
       "      <td>1.000000</td>\n",
       "      <td>1.000000</td>\n",
       "      <td>0.000000</td>\n",
       "      <td>2.034351e+05</td>\n",
       "    </tr>\n",
       "    <tr>\n",
       "      <td>max</td>\n",
       "      <td>20.000000</td>\n",
       "      <td>401755.400475</td>\n",
       "      <td>75.000000</td>\n",
       "      <td>4.000000</td>\n",
       "      <td>4.000000</td>\n",
       "      <td>1.000000</td>\n",
       "      <td>2.265604e+06</td>\n",
       "    </tr>\n",
       "  </tbody>\n",
       "</table>\n",
       "</div>"
      ],
      "text/plain": [
       "           children  days_employed     dob_years  education_id  \\\n",
       "count  21525.000000   19351.000000  21525.000000  21525.000000   \n",
       "mean       0.538908   63046.497661     43.293380      0.817236   \n",
       "std        1.381587  140827.311974     12.574584      0.548138   \n",
       "min       -1.000000  -18388.949901      0.000000      0.000000   \n",
       "25%        0.000000   -2747.423625     33.000000      1.000000   \n",
       "50%        0.000000   -1203.369529     42.000000      1.000000   \n",
       "75%        1.000000    -291.095954     53.000000      1.000000   \n",
       "max       20.000000  401755.400475     75.000000      4.000000   \n",
       "\n",
       "       family_status_id          debt  total_income  \n",
       "count      21525.000000  21525.000000  1.935100e+04  \n",
       "mean           0.972544      0.080883  1.674223e+05  \n",
       "std            1.420324      0.272661  1.029716e+05  \n",
       "min            0.000000      0.000000  2.066726e+04  \n",
       "25%            0.000000      0.000000  1.030532e+05  \n",
       "50%            0.000000      0.000000  1.450179e+05  \n",
       "75%            1.000000      0.000000  2.034351e+05  \n",
       "max            4.000000      1.000000  2.265604e+06  "
      ]
     },
     "execution_count": 5,
     "metadata": {},
     "output_type": "execute_result"
    }
   ],
   "source": [
    "#посмотрим общие данные числовых столбцов таблицы\n",
    "data.describe()"
   ]
  },
  {
   "cell_type": "markdown",
   "metadata": {},
   "source": [
    "1. Как видно, в столбце `days_employed` много отрицательных значений и есть очень большие значения, не соответствующие действительности - это явные ошибки. Отрицательные значения можно взять по модулю, а слишком большие значения  и пропуски заменить средним. Но в связи с тем, что данные этого столбца не нужны для выполнения заданий данного проекта, удалим столбец `days_employed`. \n",
    "2. В столбце `total_income` содержатся сведения о доходах, в этом случае пропуски лучше заполнять медианным значением, ведь в данных могут быть выдающиеся значения, которые сместят среднее. Причем заполним пропуски медианым значением для каждой группы столбца `income_type`.\n",
    "3. В столбце `dob_years` имеются нулевые значения, но они составляют менее 0,5%. Видимо нулями заполнены пропуски. Данные этого столбца не нужны для выполнения заданий нашего проекта, ошибки можно не исправлять."
   ]
  },
  {
   "cell_type": "code",
   "execution_count": 6,
   "metadata": {},
   "outputs": [
    {
     "data": {
      "text/plain": [
       "101"
      ]
     },
     "execution_count": 6,
     "metadata": {},
     "output_type": "execute_result"
    }
   ],
   "source": [
    "# подсчет нулевых значений в столбце 'dob_years'\n",
    "data[data['dob_years'] == 0]['dob_years'].count()"
   ]
  },
  {
   "cell_type": "code",
   "execution_count": 7,
   "metadata": {},
   "outputs": [
    {
     "data": {
      "text/plain": [
       "F      14236\n",
       "M       7288\n",
       "XNA        1\n",
       "Name: gender, dtype: int64"
      ]
     },
     "execution_count": 7,
     "metadata": {},
     "output_type": "execute_result"
    }
   ],
   "source": [
    "#подсчет уникальных значений столбца \"gender\"\n",
    "data['gender'].value_counts()"
   ]
  },
  {
   "cell_type": "code",
   "execution_count": 8,
   "metadata": {},
   "outputs": [],
   "source": [
    "#замена значения \"XNA\" на \"F\" столбца \"gender\", увеличение значения 'F' на единицу ничего не изменит.\n",
    "data['gender'] = data['gender'].replace('XNA', 'F')"
   ]
  },
  {
   "cell_type": "code",
   "execution_count": 9,
   "metadata": {},
   "outputs": [],
   "source": [
    "#удаление столбца \"days_employed\"\n",
    "data.drop(columns = 'days_employed', inplace = True)"
   ]
  },
  {
   "cell_type": "code",
   "execution_count": 10,
   "metadata": {},
   "outputs": [
    {
     "data": {
      "text/plain": [
       "сотрудник          11119\n",
       "компаньон           5085\n",
       "пенсионер           3856\n",
       "госслужащий         1459\n",
       "предприниматель        2\n",
       "безработный            2\n",
       "в декрете              1\n",
       "студент                1\n",
       "Name: income_type, dtype: int64"
      ]
     },
     "execution_count": 10,
     "metadata": {},
     "output_type": "execute_result"
    }
   ],
   "source": [
    "#подсчет уникальных значений столбца \"income_type\"\n",
    "data['income_type'].value_counts()"
   ]
  },
  {
   "cell_type": "markdown",
   "metadata": {},
   "source": [
    "Доля людей со статусами 'предприниматель', 'безработный', 'студент' и 'в декрете' очень мала. Если бы данные этого столбца были нам нужны в дальнейшем, то можно было бы присоединить эти строки к более многочисленным статусам или вовсе удалить. Оставим все как есть."
   ]
  },
  {
   "cell_type": "code",
   "execution_count": 11,
   "metadata": {},
   "outputs": [],
   "source": [
    "#заполним пропуски медианым значением для каждой группы столбца \"income_type\"\n",
    "data['total_income'] = data['total_income'].fillna(data.groupby('income_type')['total_income'].transform('median'))"
   ]
  },
  {
   "cell_type": "code",
   "execution_count": 12,
   "metadata": {
    "scrolled": true
   },
   "outputs": [
    {
     "name": "stdout",
     "output_type": "stream",
     "text": [
      "<class 'pandas.core.frame.DataFrame'>\n",
      "RangeIndex: 21525 entries, 0 to 21524\n",
      "Data columns (total 11 columns):\n",
      "children            21525 non-null int64\n",
      "dob_years           21525 non-null int64\n",
      "education           21525 non-null object\n",
      "education_id        21525 non-null int64\n",
      "family_status       21525 non-null object\n",
      "family_status_id    21525 non-null int64\n",
      "gender              21525 non-null object\n",
      "income_type         21525 non-null object\n",
      "debt                21525 non-null int64\n",
      "total_income        21525 non-null float64\n",
      "purpose             21525 non-null object\n",
      "dtypes: float64(1), int64(5), object(5)\n",
      "memory usage: 1.8+ MB\n"
     ]
    }
   ],
   "source": [
    "#посмотрим информацию о таблице еще раз\n",
    "data.info()"
   ]
  },
  {
   "cell_type": "code",
   "execution_count": 13,
   "metadata": {},
   "outputs": [
    {
     "data": {
      "text/html": [
       "<div>\n",
       "<style scoped>\n",
       "    .dataframe tbody tr th:only-of-type {\n",
       "        vertical-align: middle;\n",
       "    }\n",
       "\n",
       "    .dataframe tbody tr th {\n",
       "        vertical-align: top;\n",
       "    }\n",
       "\n",
       "    .dataframe thead th {\n",
       "        text-align: right;\n",
       "    }\n",
       "</style>\n",
       "<table border=\"1\" class=\"dataframe\">\n",
       "  <thead>\n",
       "    <tr style=\"text-align: right;\">\n",
       "      <th></th>\n",
       "      <th>children</th>\n",
       "      <th>dob_years</th>\n",
       "      <th>education_id</th>\n",
       "      <th>family_status_id</th>\n",
       "      <th>debt</th>\n",
       "      <th>total_income</th>\n",
       "    </tr>\n",
       "  </thead>\n",
       "  <tbody>\n",
       "    <tr>\n",
       "      <td>count</td>\n",
       "      <td>21525.000000</td>\n",
       "      <td>21525.000000</td>\n",
       "      <td>21525.000000</td>\n",
       "      <td>21525.000000</td>\n",
       "      <td>21525.000000</td>\n",
       "      <td>2.152500e+04</td>\n",
       "    </tr>\n",
       "    <tr>\n",
       "      <td>mean</td>\n",
       "      <td>0.538908</td>\n",
       "      <td>43.293380</td>\n",
       "      <td>0.817236</td>\n",
       "      <td>0.972544</td>\n",
       "      <td>0.080883</td>\n",
       "      <td>1.652253e+05</td>\n",
       "    </tr>\n",
       "    <tr>\n",
       "      <td>std</td>\n",
       "      <td>1.381587</td>\n",
       "      <td>12.574584</td>\n",
       "      <td>0.548138</td>\n",
       "      <td>1.420324</td>\n",
       "      <td>0.272661</td>\n",
       "      <td>9.804367e+04</td>\n",
       "    </tr>\n",
       "    <tr>\n",
       "      <td>min</td>\n",
       "      <td>-1.000000</td>\n",
       "      <td>0.000000</td>\n",
       "      <td>0.000000</td>\n",
       "      <td>0.000000</td>\n",
       "      <td>0.000000</td>\n",
       "      <td>2.066726e+04</td>\n",
       "    </tr>\n",
       "    <tr>\n",
       "      <td>25%</td>\n",
       "      <td>0.000000</td>\n",
       "      <td>33.000000</td>\n",
       "      <td>1.000000</td>\n",
       "      <td>0.000000</td>\n",
       "      <td>0.000000</td>\n",
       "      <td>1.077982e+05</td>\n",
       "    </tr>\n",
       "    <tr>\n",
       "      <td>50%</td>\n",
       "      <td>0.000000</td>\n",
       "      <td>42.000000</td>\n",
       "      <td>1.000000</td>\n",
       "      <td>0.000000</td>\n",
       "      <td>0.000000</td>\n",
       "      <td>1.425944e+05</td>\n",
       "    </tr>\n",
       "    <tr>\n",
       "      <td>75%</td>\n",
       "      <td>1.000000</td>\n",
       "      <td>53.000000</td>\n",
       "      <td>1.000000</td>\n",
       "      <td>1.000000</td>\n",
       "      <td>0.000000</td>\n",
       "      <td>1.955499e+05</td>\n",
       "    </tr>\n",
       "    <tr>\n",
       "      <td>max</td>\n",
       "      <td>20.000000</td>\n",
       "      <td>75.000000</td>\n",
       "      <td>4.000000</td>\n",
       "      <td>4.000000</td>\n",
       "      <td>1.000000</td>\n",
       "      <td>2.265604e+06</td>\n",
       "    </tr>\n",
       "  </tbody>\n",
       "</table>\n",
       "</div>"
      ],
      "text/plain": [
       "           children     dob_years  education_id  family_status_id  \\\n",
       "count  21525.000000  21525.000000  21525.000000      21525.000000   \n",
       "mean       0.538908     43.293380      0.817236          0.972544   \n",
       "std        1.381587     12.574584      0.548138          1.420324   \n",
       "min       -1.000000      0.000000      0.000000          0.000000   \n",
       "25%        0.000000     33.000000      1.000000          0.000000   \n",
       "50%        0.000000     42.000000      1.000000          0.000000   \n",
       "75%        1.000000     53.000000      1.000000          1.000000   \n",
       "max       20.000000     75.000000      4.000000          4.000000   \n",
       "\n",
       "               debt  total_income  \n",
       "count  21525.000000  2.152500e+04  \n",
       "mean       0.080883  1.652253e+05  \n",
       "std        0.272661  9.804367e+04  \n",
       "min        0.000000  2.066726e+04  \n",
       "25%        0.000000  1.077982e+05  \n",
       "50%        0.000000  1.425944e+05  \n",
       "75%        0.000000  1.955499e+05  \n",
       "max        1.000000  2.265604e+06  "
      ]
     },
     "execution_count": 13,
     "metadata": {},
     "output_type": "execute_result"
    }
   ],
   "source": [
    "#посмотрим данные после заполнения пропусков в столбце 'total_income'\n",
    "data.describe()"
   ]
  },
  {
   "cell_type": "markdown",
   "metadata": {},
   "source": [
    "**Вывод**"
   ]
  },
  {
   "cell_type": "markdown",
   "metadata": {},
   "source": [
    "Как видно, явные пропуски в таблице устранены. Данные столбца `total_income` нужно перевести из вещественного типа в целый."
   ]
  },
  {
   "cell_type": "markdown",
   "metadata": {},
   "source": [
    "### Замена типа данных"
   ]
  },
  {
   "cell_type": "code",
   "execution_count": 14,
   "metadata": {},
   "outputs": [
    {
     "data": {
      "text/plain": [
       "dtype('int64')"
      ]
     },
     "execution_count": 14,
     "metadata": {},
     "output_type": "execute_result"
    }
   ],
   "source": [
    "#перевод в целочисленное значение столбца 'total_income' после преобразования данных\n",
    "data['total_income'] = data['total_income'].astype('int')\n",
    "\n",
    "#проверка данных\n",
    "data['total_income'].dtype"
   ]
  },
  {
   "cell_type": "code",
   "execution_count": 15,
   "metadata": {},
   "outputs": [
    {
     "data": {
      "text/plain": [
       " 0     14149\n",
       " 1      4818\n",
       " 2      2055\n",
       " 3       330\n",
       " 20       76\n",
       "-1        47\n",
       " 4        41\n",
       " 5         9\n",
       "Name: children, dtype: int64"
      ]
     },
     "execution_count": 15,
     "metadata": {},
     "output_type": "execute_result"
    }
   ],
   "source": [
    "#вывод уникальных значений столбца 'children' и их количества\n",
    "data['children'].value_counts()"
   ]
  },
  {
   "cell_type": "markdown",
   "metadata": {},
   "source": [
    "В данных видны явные ошибки: \n",
    "- количество детей не может быть отрицательным; \n",
    "- слишком большое количество человек (76) имеет 20 детей. На сколько мне известно, в РФ есть всего одна семья с таким количеством родных детей.<br>Заменим значение \"-1\" на \"1\", \"20\" на \"2\".</br>"
   ]
  },
  {
   "cell_type": "code",
   "execution_count": 16,
   "metadata": {},
   "outputs": [],
   "source": [
    "#Заменим значение '-1' на '1', '20' на '2'.\n",
    "data.loc[data['children'] == -1,'children'] = '1'\n",
    "data.loc[data['children'] == 20,'children'] = '2'\n",
    "\n",
    "#перевод в целочисленное значение после преобразования данных\n",
    "data['children'] = pd.to_numeric(data['children'])"
   ]
  },
  {
   "cell_type": "code",
   "execution_count": 17,
   "metadata": {},
   "outputs": [
    {
     "data": {
      "text/plain": [
       "0    14149\n",
       "1     4865\n",
       "2     2131\n",
       "3      330\n",
       "4       41\n",
       "5        9\n",
       "Name: children, dtype: int64"
      ]
     },
     "execution_count": 17,
     "metadata": {},
     "output_type": "execute_result"
    }
   ],
   "source": [
    "#вывод уникальных значений столбца 'children' и их количества после преобразования данных\n",
    "data['children'].value_counts()"
   ]
  },
  {
   "cell_type": "markdown",
   "metadata": {},
   "source": [
    "**Вывод**"
   ]
  },
  {
   "cell_type": "markdown",
   "metadata": {},
   "source": [
    "1. Преобразовали тип данных столбца `total_income` в целочисленное значение.\n",
    "2. Перевод в целочисленное значение данных столбца `children` после исправления ошибок."
   ]
  },
  {
   "cell_type": "markdown",
   "metadata": {},
   "source": [
    "### Обработка дубликатов"
   ]
  },
  {
   "cell_type": "code",
   "execution_count": 18,
   "metadata": {},
   "outputs": [
    {
     "data": {
      "text/plain": [
       "array(['высшее', 'среднее', 'Среднее', 'СРЕДНЕЕ', 'ВЫСШЕЕ',\n",
       "       'неоконченное высшее', 'начальное', 'Высшее',\n",
       "       'НЕОКОНЧЕННОЕ ВЫСШЕЕ', 'Неоконченное высшее', 'НАЧАЛЬНОЕ',\n",
       "       'Начальное', 'Ученая степень', 'УЧЕНАЯ СТЕПЕНЬ', 'ученая степень'],\n",
       "      dtype=object)"
      ]
     },
     "execution_count": 18,
     "metadata": {},
     "output_type": "execute_result"
    }
   ],
   "source": [
    "#Посмотрим уникальные значения столбца 'education'\n",
    "unique_education = data['education'].unique()\n",
    "unique_education"
   ]
  },
  {
   "cell_type": "code",
   "execution_count": 19,
   "metadata": {},
   "outputs": [
    {
     "data": {
      "text/plain": [
       "среднее                15233\n",
       "высшее                  5260\n",
       "неоконченное высшее      744\n",
       "начальное                282\n",
       "ученая степень             6\n",
       "Name: education, dtype: int64"
      ]
     },
     "execution_count": 19,
     "metadata": {},
     "output_type": "execute_result"
    }
   ],
   "source": [
    "#В столбце очень много повторяющихся значений, написанных разным регистром. Приведем их к одному виду.\n",
    "data['education'] = data['education'].str.lower()\n",
    "#подсчитаем уникальные значения столбца 'education' и их количество\n",
    "data['education'].value_counts()"
   ]
  },
  {
   "cell_type": "code",
   "execution_count": 20,
   "metadata": {},
   "outputs": [
    {
     "data": {
      "text/plain": [
       "1    15233\n",
       "0     5260\n",
       "2      744\n",
       "3      282\n",
       "4        6\n",
       "Name: education_id, dtype: int64"
      ]
     },
     "execution_count": 20,
     "metadata": {},
     "output_type": "execute_result"
    }
   ],
   "source": [
    "# Посмотрим уникальные значения столбца 'education_id' и их количество\n",
    "data['education_id'].value_counts()"
   ]
  },
  {
   "cell_type": "markdown",
   "metadata": {},
   "source": [
    "Число строк(уникальных значений) совпадает, совпадает и количество в строках.<br> Значит:<br> \n",
    "0  - высшее;<br> \n",
    "1  - среднее;<br> \n",
    "2  - неоконченное высшее;<br>\n",
    "3  - начальное;<br>\n",
    "4  - ученая степень. <br>"
   ]
  },
  {
   "cell_type": "code",
   "execution_count": 21,
   "metadata": {},
   "outputs": [
    {
     "data": {
      "text/plain": [
       "женат / замужем          12380\n",
       "гражданский брак          4177\n",
       "Не женат / не замужем     2813\n",
       "в разводе                 1195\n",
       "вдовец / вдова             960\n",
       "Name: family_status, dtype: int64"
      ]
     },
     "execution_count": 21,
     "metadata": {},
     "output_type": "execute_result"
    }
   ],
   "source": [
    "#подсчитаем уникальные значения столбца 'family_status' и их количество\n",
    "data['family_status'].value_counts()"
   ]
  },
  {
   "cell_type": "code",
   "execution_count": 22,
   "metadata": {},
   "outputs": [
    {
     "data": {
      "text/plain": [
       "0    12380\n",
       "1     4177\n",
       "4     2813\n",
       "3     1195\n",
       "2      960\n",
       "Name: family_status_id, dtype: int64"
      ]
     },
     "execution_count": 22,
     "metadata": {},
     "output_type": "execute_result"
    }
   ],
   "source": [
    "#подсчитаем уникальные значения столбца 'family_status_id' и их количество\n",
    "data['family_status_id'].value_counts()"
   ]
  },
  {
   "cell_type": "markdown",
   "metadata": {},
   "source": [
    "число строк(уникальных значений)совпадает, совпадает и количество в строках.<br> Значит:<br> 0 - женат / замужем;<br> 1 - гражданский брак;<br> 2 - вдовец / вдова;<br> 3 - в разводе;<br> 4 - Не женат / не замужем.<br> "
   ]
  },
  {
   "cell_type": "code",
   "execution_count": 23,
   "metadata": {},
   "outputs": [
    {
     "data": {
      "text/plain": [
       "71"
      ]
     },
     "execution_count": 23,
     "metadata": {},
     "output_type": "execute_result"
    }
   ],
   "source": [
    "#найдем явные дубликаты и посчитаем их количество\n",
    "data.duplicated().sum()"
   ]
  },
  {
   "cell_type": "code",
   "execution_count": 24,
   "metadata": {},
   "outputs": [
    {
     "name": "stdout",
     "output_type": "stream",
     "text": [
      "<class 'pandas.core.frame.DataFrame'>\n",
      "RangeIndex: 21454 entries, 0 to 21453\n",
      "Data columns (total 11 columns):\n",
      "children            21454 non-null int64\n",
      "dob_years           21454 non-null int64\n",
      "education           21454 non-null object\n",
      "education_id        21454 non-null int64\n",
      "family_status       21454 non-null object\n",
      "family_status_id    21454 non-null int64\n",
      "gender              21454 non-null object\n",
      "income_type         21454 non-null object\n",
      "debt                21454 non-null int64\n",
      "total_income        21454 non-null int64\n",
      "purpose             21454 non-null object\n",
      "dtypes: int64(6), object(5)\n",
      "memory usage: 1.8+ MB\n"
     ]
    }
   ],
   "source": [
    "#удаление дубликатов со сбросом индекса строк\n",
    "data = data.drop_duplicates().reset_index(drop = True)\n",
    "\n",
    "#посмотрим информацию после удаления дубликатов\n",
    "data.info()"
   ]
  },
  {
   "cell_type": "markdown",
   "metadata": {},
   "source": [
    "**Вывод**"
   ]
  },
  {
   "cell_type": "markdown",
   "metadata": {},
   "source": [
    "Проведена обработка дубликатов:<br> 1. данные столбца `education` приведены к нижнему регистру, что позволило сократить количество уникальных значений с 15 до 5.<br> 2. При анализе данных столбцов `education` и `education_id` , `family_status` и `family_status_id` обнаружено, что они дублируют друг друга и при необходимости один из пары можно удалить(но для решения нашей задачи это не требуется).<br> 3. Удалены явные дубликаты строк(71 строка), что позволило уменьшить размер таблицы и объем используемой памяти. "
   ]
  },
  {
   "cell_type": "markdown",
   "metadata": {},
   "source": [
    "### Лемматизация"
   ]
  },
  {
   "cell_type": "code",
   "execution_count": 25,
   "metadata": {},
   "outputs": [
    {
     "data": {
      "text/plain": [
       "array(['покупка жилья', 'приобретение автомобиля',\n",
       "       'дополнительное образование', 'сыграть свадьбу',\n",
       "       'операции с жильем', 'образование', 'на проведение свадьбы',\n",
       "       'покупка жилья для семьи', 'покупка недвижимости',\n",
       "       'покупка коммерческой недвижимости', 'покупка жилой недвижимости',\n",
       "       'строительство собственной недвижимости', 'недвижимость',\n",
       "       'строительство недвижимости', 'на покупку подержанного автомобиля',\n",
       "       'на покупку своего автомобиля',\n",
       "       'операции с коммерческой недвижимостью',\n",
       "       'строительство жилой недвижимости', 'жилье',\n",
       "       'операции со своей недвижимостью', 'автомобили',\n",
       "       'заняться образованием', 'сделка с подержанным автомобилем',\n",
       "       'получение образования', 'автомобиль', 'свадьба',\n",
       "       'получение дополнительного образования', 'покупка своего жилья',\n",
       "       'операции с недвижимостью', 'получение высшего образования',\n",
       "       'свой автомобиль', 'сделка с автомобилем',\n",
       "       'профильное образование', 'высшее образование',\n",
       "       'покупка жилья для сдачи', 'на покупку автомобиля', 'ремонт жилью',\n",
       "       'заняться высшим образованием'], dtype=object)"
      ]
     },
     "execution_count": 25,
     "metadata": {},
     "output_type": "execute_result"
    }
   ],
   "source": [
    "#Посмотрим уникальные значения столбца 'purpose'\n",
    "unique_purpose = data['purpose'].unique()\n",
    "unique_purpose"
   ]
  },
  {
   "cell_type": "markdown",
   "metadata": {},
   "source": [
    "В столбце много однотипных целей, записанных по-разному. Проведем лемматизацию - напишем функцию, которая лемматизирует данные столбца `purpose` и разбивает цели кредита на категории (основные цели)."
   ]
  },
  {
   "cell_type": "code",
   "execution_count": 26,
   "metadata": {
    "scrolled": true
   },
   "outputs": [],
   "source": [
    "#напишем функцию для лемматизации цели получения кредита и разбивки цели на категории\n",
    "def purpose_cat(purpose):\n",
    "    lemmas_row = m.lemmatize(purpose)\n",
    "    for i in lemmas_row:\n",
    "        if 'авто' in i:\n",
    "            return 'автомобиль'\n",
    "        if 'недвижимость' in i:\n",
    "            return  'недвижимость'\n",
    "        if 'жилье' in i:\n",
    "            return  'жилье'\n",
    "        if 'свадьба' in i:\n",
    "            return  'свадьба'\n",
    "        if 'образование' in i:\n",
    "            return 'образование'\n",
    "    return 'Такая категория отсутствует' #проверка на ошибки\n",
    "\n",
    "#добавим столбец 'purpose_cat' в таблицу  \n",
    "data['purpose_cat']= data['purpose'].apply(purpose_cat)      "
   ]
  },
  {
   "cell_type": "code",
   "execution_count": 27,
   "metadata": {},
   "outputs": [
    {
     "name": "stdout",
     "output_type": "stream",
     "text": [
      "жилье\n"
     ]
    },
    {
     "data": {
      "text/plain": [
       "'Такая категория отсутствует'"
      ]
     },
     "execution_count": 27,
     "metadata": {},
     "output_type": "execute_result"
    }
   ],
   "source": [
    "#проверим работу функции\n",
    "print(purpose_cat('жилье'))\n",
    "purpose_cat('лечение')"
   ]
  },
  {
   "cell_type": "code",
   "execution_count": 28,
   "metadata": {},
   "outputs": [
    {
     "data": {
      "text/plain": [
       "0            жилье\n",
       "1       автомобиль\n",
       "2            жилье\n",
       "3      образование\n",
       "4          свадьба\n",
       "5            жилье\n",
       "6            жилье\n",
       "7      образование\n",
       "8          свадьба\n",
       "9            жилье\n",
       "10    недвижимость\n",
       "Name: purpose_cat, dtype: object"
      ]
     },
     "execution_count": 28,
     "metadata": {},
     "output_type": "execute_result"
    }
   ],
   "source": [
    "#проверка. Выведем первые 11 строк, чтобы встречались все категории\n",
    "data['purpose_cat'].head(11)"
   ]
  },
  {
   "cell_type": "code",
   "execution_count": 29,
   "metadata": {},
   "outputs": [
    {
     "data": {
      "text/plain": [
       "недвижимость    6351\n",
       "жилье           4460\n",
       "автомобиль      4306\n",
       "образование     4013\n",
       "свадьба         2324\n",
       "Name: purpose_cat, dtype: int64"
      ]
     },
     "execution_count": 29,
     "metadata": {},
     "output_type": "execute_result"
    }
   ],
   "source": [
    "#подсчитаем на какие цели сколько раз брали кредит\n",
    "data['purpose_cat'].value_counts()"
   ]
  },
  {
   "cell_type": "markdown",
   "metadata": {},
   "source": [
    "**Вывод**"
   ]
  },
  {
   "cell_type": "markdown",
   "metadata": {},
   "source": [
    "Проведена лемматизация целей кредита и разбивка на категории.<br> Исходя из полученных данных можно сказать, что 50% кредитов берут на жилье и недвижимость, по 20 % на автомобиль и образование и 10 % на свадьбу."
   ]
  },
  {
   "cell_type": "markdown",
   "metadata": {},
   "source": [
    "### Категоризация данных"
   ]
  },
  {
   "cell_type": "code",
   "execution_count": 30,
   "metadata": {},
   "outputs": [
    {
     "data": {
      "text/html": [
       "<div>\n",
       "<style scoped>\n",
       "    .dataframe tbody tr th:only-of-type {\n",
       "        vertical-align: middle;\n",
       "    }\n",
       "\n",
       "    .dataframe tbody tr th {\n",
       "        vertical-align: top;\n",
       "    }\n",
       "\n",
       "    .dataframe thead th {\n",
       "        text-align: right;\n",
       "    }\n",
       "</style>\n",
       "<table border=\"1\" class=\"dataframe\">\n",
       "  <thead>\n",
       "    <tr style=\"text-align: right;\">\n",
       "      <th></th>\n",
       "      <th>children</th>\n",
       "      <th>dob_years</th>\n",
       "      <th>education_id</th>\n",
       "      <th>family_status_id</th>\n",
       "      <th>debt</th>\n",
       "      <th>total_income</th>\n",
       "    </tr>\n",
       "  </thead>\n",
       "  <tbody>\n",
       "    <tr>\n",
       "      <td>count</td>\n",
       "      <td>21454.000000</td>\n",
       "      <td>21454.000000</td>\n",
       "      <td>21454.000000</td>\n",
       "      <td>21454.000000</td>\n",
       "      <td>21454.000000</td>\n",
       "      <td>2.145400e+04</td>\n",
       "    </tr>\n",
       "    <tr>\n",
       "      <td>mean</td>\n",
       "      <td>0.480563</td>\n",
       "      <td>43.271231</td>\n",
       "      <td>0.817097</td>\n",
       "      <td>0.973898</td>\n",
       "      <td>0.081150</td>\n",
       "      <td>1.653196e+05</td>\n",
       "    </tr>\n",
       "    <tr>\n",
       "      <td>std</td>\n",
       "      <td>0.756069</td>\n",
       "      <td>12.570822</td>\n",
       "      <td>0.548674</td>\n",
       "      <td>1.421567</td>\n",
       "      <td>0.273072</td>\n",
       "      <td>9.818730e+04</td>\n",
       "    </tr>\n",
       "    <tr>\n",
       "      <td>min</td>\n",
       "      <td>0.000000</td>\n",
       "      <td>0.000000</td>\n",
       "      <td>0.000000</td>\n",
       "      <td>0.000000</td>\n",
       "      <td>0.000000</td>\n",
       "      <td>2.066700e+04</td>\n",
       "    </tr>\n",
       "    <tr>\n",
       "      <td>25%</td>\n",
       "      <td>0.000000</td>\n",
       "      <td>33.000000</td>\n",
       "      <td>1.000000</td>\n",
       "      <td>0.000000</td>\n",
       "      <td>0.000000</td>\n",
       "      <td>1.076230e+05</td>\n",
       "    </tr>\n",
       "    <tr>\n",
       "      <td>50%</td>\n",
       "      <td>0.000000</td>\n",
       "      <td>42.000000</td>\n",
       "      <td>1.000000</td>\n",
       "      <td>0.000000</td>\n",
       "      <td>0.000000</td>\n",
       "      <td>1.425940e+05</td>\n",
       "    </tr>\n",
       "    <tr>\n",
       "      <td>75%</td>\n",
       "      <td>1.000000</td>\n",
       "      <td>53.000000</td>\n",
       "      <td>1.000000</td>\n",
       "      <td>1.000000</td>\n",
       "      <td>0.000000</td>\n",
       "      <td>1.958202e+05</td>\n",
       "    </tr>\n",
       "    <tr>\n",
       "      <td>max</td>\n",
       "      <td>5.000000</td>\n",
       "      <td>75.000000</td>\n",
       "      <td>4.000000</td>\n",
       "      <td>4.000000</td>\n",
       "      <td>1.000000</td>\n",
       "      <td>2.265604e+06</td>\n",
       "    </tr>\n",
       "  </tbody>\n",
       "</table>\n",
       "</div>"
      ],
      "text/plain": [
       "           children     dob_years  education_id  family_status_id  \\\n",
       "count  21454.000000  21454.000000  21454.000000      21454.000000   \n",
       "mean       0.480563     43.271231      0.817097          0.973898   \n",
       "std        0.756069     12.570822      0.548674          1.421567   \n",
       "min        0.000000      0.000000      0.000000          0.000000   \n",
       "25%        0.000000     33.000000      1.000000          0.000000   \n",
       "50%        0.000000     42.000000      1.000000          0.000000   \n",
       "75%        1.000000     53.000000      1.000000          1.000000   \n",
       "max        5.000000     75.000000      4.000000          4.000000   \n",
       "\n",
       "               debt  total_income  \n",
       "count  21454.000000  2.145400e+04  \n",
       "mean       0.081150  1.653196e+05  \n",
       "std        0.273072  9.818730e+04  \n",
       "min        0.000000  2.066700e+04  \n",
       "25%        0.000000  1.076230e+05  \n",
       "50%        0.000000  1.425940e+05  \n",
       "75%        0.000000  1.958202e+05  \n",
       "max        1.000000  2.265604e+06  "
      ]
     },
     "execution_count": 30,
     "metadata": {},
     "output_type": "execute_result"
    }
   ],
   "source": [
    "#посмотрим общие данные числовых столбцов таблицы после выполнения предыдущих пунктов\n",
    "data.describe()"
   ]
  },
  {
   "cell_type": "code",
   "execution_count": 31,
   "metadata": {},
   "outputs": [],
   "source": [
    "#напишем функцию для разбивки дохода по категориям. В качестве значений будем использовать значения квартилей \n",
    "#для столбца 'total_income'\n",
    "def salary(total_income):\n",
    "    if (total_income > 20667) & (total_income <=107623):\n",
    "        return 'доход меньше 107623 руб.'\n",
    "    if (total_income > 107623) & (total_income <=142594):\n",
    "        return '107623 руб. < доход <= 142594 руб.'\n",
    "    if (total_income > 142594) & (total_income <=195820):\n",
    "        return '142594 руб. < доход <= 195820 руб.'\n",
    "    return 'доход больше 195820 руб.'"
   ]
  },
  {
   "cell_type": "code",
   "execution_count": 32,
   "metadata": {},
   "outputs": [
    {
     "name": "stdout",
     "output_type": "stream",
     "text": [
      "доход меньше 107623 руб.\n",
      "107623 руб. < доход <= 142594 руб.\n",
      "142594 руб. < доход <= 195820 руб.\n"
     ]
    },
    {
     "data": {
      "text/plain": [
       "'доход больше 195820 руб.'"
      ]
     },
     "execution_count": 32,
     "metadata": {},
     "output_type": "execute_result"
    }
   ],
   "source": [
    "#проверка работы функции\n",
    "print(salary(55000))\n",
    "print(salary(108000))\n",
    "print(salary(194000))\n",
    "salary(240000)"
   ]
  },
  {
   "cell_type": "code",
   "execution_count": 33,
   "metadata": {},
   "outputs": [],
   "source": [
    "# создадим столбец с разбивкой дохода по категориям\n",
    "data['salary'] = data['total_income'].apply(salary)"
   ]
  },
  {
   "cell_type": "code",
   "execution_count": 34,
   "metadata": {},
   "outputs": [
    {
     "data": {
      "text/plain": [
       "107623 руб. < доход <= 142594 руб.    5479\n",
       "доход больше 195820 руб.              5365\n",
       "доход меньше 107623 руб.              5363\n",
       "142594 руб. < доход <= 195820 руб.    5247\n",
       "Name: salary, dtype: int64"
      ]
     },
     "execution_count": 34,
     "metadata": {},
     "output_type": "execute_result"
    }
   ],
   "source": [
    "#проверим, что все строки столбца 'salary' разбились на категории\n",
    "data['salary'].value_counts()"
   ]
  },
  {
   "cell_type": "markdown",
   "metadata": {},
   "source": [
    "**Вывод**"
   ]
  },
  {
   "cell_type": "markdown",
   "metadata": {},
   "source": [
    "С помощью категоризации разбили доход на группы для ответа на вопросы проекта."
   ]
  },
  {
   "cell_type": "markdown",
   "metadata": {},
   "source": [
    "## Шаг 3. Ответьте на вопросы"
   ]
  },
  {
   "cell_type": "markdown",
   "metadata": {},
   "source": [
    "- Есть ли зависимость между наличием детей и возвратом кредита в срок?"
   ]
  },
  {
   "cell_type": "code",
   "execution_count": 35,
   "metadata": {},
   "outputs": [
    {
     "data": {
      "text/html": [
       "<div>\n",
       "<style scoped>\n",
       "    .dataframe tbody tr th:only-of-type {\n",
       "        vertical-align: middle;\n",
       "    }\n",
       "\n",
       "    .dataframe tbody tr th {\n",
       "        vertical-align: top;\n",
       "    }\n",
       "\n",
       "    .dataframe thead tr th {\n",
       "        text-align: left;\n",
       "    }\n",
       "\n",
       "    .dataframe thead tr:last-of-type th {\n",
       "        text-align: right;\n",
       "    }\n",
       "</style>\n",
       "<table border=\"1\" class=\"dataframe\">\n",
       "  <thead>\n",
       "    <tr>\n",
       "      <th></th>\n",
       "      <th colspan=\"2\" halign=\"left\">debt</th>\n",
       "      <th>conversion</th>\n",
       "    </tr>\n",
       "    <tr>\n",
       "      <th></th>\n",
       "      <th>count</th>\n",
       "      <th>sum</th>\n",
       "      <th></th>\n",
       "    </tr>\n",
       "    <tr>\n",
       "      <th>children</th>\n",
       "      <th></th>\n",
       "      <th></th>\n",
       "      <th></th>\n",
       "    </tr>\n",
       "  </thead>\n",
       "  <tbody>\n",
       "    <tr>\n",
       "      <td>4</td>\n",
       "      <td>41</td>\n",
       "      <td>4</td>\n",
       "      <td>0.097561</td>\n",
       "    </tr>\n",
       "    <tr>\n",
       "      <td>2</td>\n",
       "      <td>2128</td>\n",
       "      <td>202</td>\n",
       "      <td>0.094925</td>\n",
       "    </tr>\n",
       "    <tr>\n",
       "      <td>1</td>\n",
       "      <td>4855</td>\n",
       "      <td>445</td>\n",
       "      <td>0.091658</td>\n",
       "    </tr>\n",
       "    <tr>\n",
       "      <td>3</td>\n",
       "      <td>330</td>\n",
       "      <td>27</td>\n",
       "      <td>0.081818</td>\n",
       "    </tr>\n",
       "    <tr>\n",
       "      <td>0</td>\n",
       "      <td>14091</td>\n",
       "      <td>1063</td>\n",
       "      <td>0.075438</td>\n",
       "    </tr>\n",
       "    <tr>\n",
       "      <td>5</td>\n",
       "      <td>9</td>\n",
       "      <td>0</td>\n",
       "      <td>0.000000</td>\n",
       "    </tr>\n",
       "  </tbody>\n",
       "</table>\n",
       "</div>"
      ],
      "text/plain": [
       "           debt       conversion\n",
       "          count   sum           \n",
       "children                        \n",
       "4            41     4   0.097561\n",
       "2          2128   202   0.094925\n",
       "1          4855   445   0.091658\n",
       "3           330    27   0.081818\n",
       "0         14091  1063   0.075438\n",
       "5             9     0   0.000000"
      ]
     },
     "execution_count": 35,
     "metadata": {},
     "output_type": "execute_result"
    }
   ],
   "source": [
    "#создадим таблицу для определения зависимости между наличием детей и возвратом кредита в срок\n",
    "data_grouped = data.groupby('children').agg({'debt':['count', 'sum']})\n",
    "\n",
    "#расчет конверсии\n",
    "data_grouped ['conversion'] = data_grouped['debt']['sum']/data_grouped['debt']['count']\n",
    "\n",
    "#сортировка по конверсии\n",
    "data_grouped.sort_values(by = 'conversion', ascending = False)"
   ]
  },
  {
   "cell_type": "markdown",
   "metadata": {},
   "source": [
    "**Вывод**"
   ]
  },
  {
   "cell_type": "markdown",
   "metadata": {},
   "source": [
    "Зависимости от наличия детей и возврата кредита в срок нет. Но из полученных данных можно сказать, что семьи с 5 детьми всегда рассчитываются с кредитом в срок (т.к. конверсия = 0). Процент просрочки кредита для семьи с 4-мя детьми составляет -  9,8%, с 2-мя детьми - 9,5%, с одним ребенком - 9,1%, с 3-мя детьми - 8,2 %, без детей - 7,5 %. Семьи с 5-ю детями и без детей расплачиваются с кредитом лучше, чем семьи с 1-м...4-мя детями. Семьи с 4-мя детями расплачиваются хуже всех."
   ]
  },
  {
   "cell_type": "markdown",
   "metadata": {},
   "source": [
    "- Есть ли зависимость между семейным положением и возвратом кредита в срок?"
   ]
  },
  {
   "cell_type": "code",
   "execution_count": 36,
   "metadata": {},
   "outputs": [
    {
     "data": {
      "text/html": [
       "<div>\n",
       "<style scoped>\n",
       "    .dataframe tbody tr th:only-of-type {\n",
       "        vertical-align: middle;\n",
       "    }\n",
       "\n",
       "    .dataframe tbody tr th {\n",
       "        vertical-align: top;\n",
       "    }\n",
       "\n",
       "    .dataframe thead tr th {\n",
       "        text-align: left;\n",
       "    }\n",
       "\n",
       "    .dataframe thead tr:last-of-type th {\n",
       "        text-align: right;\n",
       "    }\n",
       "</style>\n",
       "<table border=\"1\" class=\"dataframe\">\n",
       "  <thead>\n",
       "    <tr>\n",
       "      <th></th>\n",
       "      <th colspan=\"2\" halign=\"left\">debt</th>\n",
       "      <th>conversion</th>\n",
       "    </tr>\n",
       "    <tr>\n",
       "      <th></th>\n",
       "      <th>count</th>\n",
       "      <th>sum</th>\n",
       "      <th></th>\n",
       "    </tr>\n",
       "    <tr>\n",
       "      <th>family_status</th>\n",
       "      <th></th>\n",
       "      <th></th>\n",
       "      <th></th>\n",
       "    </tr>\n",
       "  </thead>\n",
       "  <tbody>\n",
       "    <tr>\n",
       "      <td>Не женат / не замужем</td>\n",
       "      <td>2810</td>\n",
       "      <td>274</td>\n",
       "      <td>0.097509</td>\n",
       "    </tr>\n",
       "    <tr>\n",
       "      <td>гражданский брак</td>\n",
       "      <td>4151</td>\n",
       "      <td>388</td>\n",
       "      <td>0.093471</td>\n",
       "    </tr>\n",
       "    <tr>\n",
       "      <td>женат / замужем</td>\n",
       "      <td>12339</td>\n",
       "      <td>931</td>\n",
       "      <td>0.075452</td>\n",
       "    </tr>\n",
       "    <tr>\n",
       "      <td>в разводе</td>\n",
       "      <td>1195</td>\n",
       "      <td>85</td>\n",
       "      <td>0.071130</td>\n",
       "    </tr>\n",
       "    <tr>\n",
       "      <td>вдовец / вдова</td>\n",
       "      <td>959</td>\n",
       "      <td>63</td>\n",
       "      <td>0.065693</td>\n",
       "    </tr>\n",
       "  </tbody>\n",
       "</table>\n",
       "</div>"
      ],
      "text/plain": [
       "                        debt      conversion\n",
       "                       count  sum           \n",
       "family_status                               \n",
       "Не женат / не замужем   2810  274   0.097509\n",
       "гражданский брак        4151  388   0.093471\n",
       "женат / замужем        12339  931   0.075452\n",
       "в разводе               1195   85   0.071130\n",
       "вдовец / вдова           959   63   0.065693"
      ]
     },
     "execution_count": 36,
     "metadata": {},
     "output_type": "execute_result"
    }
   ],
   "source": [
    "#создадим таблицу для определения зависимости между статусом семейного положения и возвратом кредита в срок\n",
    "data_grouped_f = data.groupby('family_status').agg({'debt':['count', 'sum']})\n",
    "\n",
    "#расчет конверсии\n",
    "data_grouped_f['conversion'] = data_grouped_f['debt']['sum']/data_grouped_f['debt']['count']\n",
    "\n",
    "#сортировка по конверсии\n",
    "data_grouped_f.sort_values(by = 'conversion', ascending = False)"
   ]
  },
  {
   "cell_type": "markdown",
   "metadata": {},
   "source": [
    "**Вывод**"
   ]
  },
  {
   "cell_type": "markdown",
   "metadata": {},
   "source": [
    "Зависимости от семейного положения и возвратом кредита не наблюдается, т.к. во всех статусах семейного положения имеются просроченные платежи и это составляет 6,5-9.7%. Люди с семейным статусом \"вдова/вдовец\" имеют наименьший процент просрочки кредита, а люди находящиеся в \"гражданском браке\" и \"холостые\" чаще всего просрачивают кредит."
   ]
  },
  {
   "cell_type": "markdown",
   "metadata": {},
   "source": [
    "- Есть ли зависимость между уровнем дохода и возвратом кредита в срок?"
   ]
  },
  {
   "cell_type": "code",
   "execution_count": 37,
   "metadata": {},
   "outputs": [
    {
     "data": {
      "text/html": [
       "<div>\n",
       "<style scoped>\n",
       "    .dataframe tbody tr th:only-of-type {\n",
       "        vertical-align: middle;\n",
       "    }\n",
       "\n",
       "    .dataframe tbody tr th {\n",
       "        vertical-align: top;\n",
       "    }\n",
       "\n",
       "    .dataframe thead tr th {\n",
       "        text-align: left;\n",
       "    }\n",
       "\n",
       "    .dataframe thead tr:last-of-type th {\n",
       "        text-align: right;\n",
       "    }\n",
       "</style>\n",
       "<table border=\"1\" class=\"dataframe\">\n",
       "  <thead>\n",
       "    <tr>\n",
       "      <th></th>\n",
       "      <th colspan=\"2\" halign=\"left\">debt</th>\n",
       "      <th>conversion</th>\n",
       "    </tr>\n",
       "    <tr>\n",
       "      <th></th>\n",
       "      <th>count</th>\n",
       "      <th>sum</th>\n",
       "      <th></th>\n",
       "    </tr>\n",
       "    <tr>\n",
       "      <th>salary</th>\n",
       "      <th></th>\n",
       "      <th></th>\n",
       "      <th></th>\n",
       "    </tr>\n",
       "  </thead>\n",
       "  <tbody>\n",
       "    <tr>\n",
       "      <td>107623 руб. &lt; доход &lt;= 142594 руб.</td>\n",
       "      <td>5479</td>\n",
       "      <td>483</td>\n",
       "      <td>0.088155</td>\n",
       "    </tr>\n",
       "    <tr>\n",
       "      <td>142594 руб. &lt; доход &lt;= 195820 руб.</td>\n",
       "      <td>5247</td>\n",
       "      <td>448</td>\n",
       "      <td>0.085382</td>\n",
       "    </tr>\n",
       "    <tr>\n",
       "      <td>доход меньше 107623 руб.</td>\n",
       "      <td>5363</td>\n",
       "      <td>426</td>\n",
       "      <td>0.079433</td>\n",
       "    </tr>\n",
       "    <tr>\n",
       "      <td>доход больше 195820 руб.</td>\n",
       "      <td>5365</td>\n",
       "      <td>384</td>\n",
       "      <td>0.071575</td>\n",
       "    </tr>\n",
       "  </tbody>\n",
       "</table>\n",
       "</div>"
      ],
      "text/plain": [
       "                                    debt      conversion\n",
       "                                   count  sum           \n",
       "salary                                                  \n",
       "107623 руб. < доход <= 142594 руб.  5479  483   0.088155\n",
       "142594 руб. < доход <= 195820 руб.  5247  448   0.085382\n",
       "доход меньше 107623 руб.            5363  426   0.079433\n",
       "доход больше 195820 руб.            5365  384   0.071575"
      ]
     },
     "execution_count": 37,
     "metadata": {},
     "output_type": "execute_result"
    }
   ],
   "source": [
    "#создадим таблицу для определения зависимости между уровнем дохода и возвратом кредита в срок\n",
    "data_grouped = data.groupby('salary').agg({'debt':['count', 'sum']})\n",
    "\n",
    "#расчет конверсии\n",
    "data_grouped['conversion'] = data_grouped['debt']['sum']/data_grouped['debt']['count']\n",
    "\n",
    "#сортировка по конверсии\n",
    "data_grouped.sort_values(by = 'conversion', ascending = False)"
   ]
  },
  {
   "cell_type": "markdown",
   "metadata": {},
   "source": [
    "**Вывод**"
   ]
  },
  {
   "cell_type": "markdown",
   "metadata": {},
   "source": [
    "Люди имеющие максимальный и минимальный доход возвращают кредит в срок чаще, чем люди со средним доходом."
   ]
  },
  {
   "cell_type": "markdown",
   "metadata": {},
   "source": [
    "- Как разные цели кредита влияют на его возврат в срок?"
   ]
  },
  {
   "cell_type": "code",
   "execution_count": 38,
   "metadata": {},
   "outputs": [
    {
     "data": {
      "text/html": [
       "<div>\n",
       "<style scoped>\n",
       "    .dataframe tbody tr th:only-of-type {\n",
       "        vertical-align: middle;\n",
       "    }\n",
       "\n",
       "    .dataframe tbody tr th {\n",
       "        vertical-align: top;\n",
       "    }\n",
       "\n",
       "    .dataframe thead tr th {\n",
       "        text-align: left;\n",
       "    }\n",
       "\n",
       "    .dataframe thead tr:last-of-type th {\n",
       "        text-align: right;\n",
       "    }\n",
       "</style>\n",
       "<table border=\"1\" class=\"dataframe\">\n",
       "  <thead>\n",
       "    <tr>\n",
       "      <th></th>\n",
       "      <th colspan=\"2\" halign=\"left\">debt</th>\n",
       "      <th>conversion</th>\n",
       "    </tr>\n",
       "    <tr>\n",
       "      <th></th>\n",
       "      <th>count</th>\n",
       "      <th>sum</th>\n",
       "      <th></th>\n",
       "    </tr>\n",
       "    <tr>\n",
       "      <th>purpose_cat</th>\n",
       "      <th></th>\n",
       "      <th></th>\n",
       "      <th></th>\n",
       "    </tr>\n",
       "  </thead>\n",
       "  <tbody>\n",
       "    <tr>\n",
       "      <td>автомобиль</td>\n",
       "      <td>4306</td>\n",
       "      <td>403</td>\n",
       "      <td>0.093590</td>\n",
       "    </tr>\n",
       "    <tr>\n",
       "      <td>образование</td>\n",
       "      <td>4013</td>\n",
       "      <td>370</td>\n",
       "      <td>0.092200</td>\n",
       "    </tr>\n",
       "    <tr>\n",
       "      <td>свадьба</td>\n",
       "      <td>2324</td>\n",
       "      <td>186</td>\n",
       "      <td>0.080034</td>\n",
       "    </tr>\n",
       "    <tr>\n",
       "      <td>недвижимость</td>\n",
       "      <td>6351</td>\n",
       "      <td>474</td>\n",
       "      <td>0.074634</td>\n",
       "    </tr>\n",
       "    <tr>\n",
       "      <td>жилье</td>\n",
       "      <td>4460</td>\n",
       "      <td>308</td>\n",
       "      <td>0.069058</td>\n",
       "    </tr>\n",
       "  </tbody>\n",
       "</table>\n",
       "</div>"
      ],
      "text/plain": [
       "              debt      conversion\n",
       "             count  sum           \n",
       "purpose_cat                       \n",
       "автомобиль    4306  403   0.093590\n",
       "образование   4013  370   0.092200\n",
       "свадьба       2324  186   0.080034\n",
       "недвижимость  6351  474   0.074634\n",
       "жилье         4460  308   0.069058"
      ]
     },
     "execution_count": 38,
     "metadata": {},
     "output_type": "execute_result"
    }
   ],
   "source": [
    "#создадим таблицу для определения зависимости между целями кредита и возвратом кредита в срок\n",
    "data_grouped = data.groupby('purpose_cat').agg({'debt':['count', 'sum']})\n",
    "\n",
    "#расчет конверсии\n",
    "data_grouped['conversion'] = data_grouped['debt']['sum']/data_grouped['debt']['count']\n",
    "\n",
    "#сортировка по конверсии\n",
    "data_grouped.sort_values(by = 'conversion', ascending = False)"
   ]
  },
  {
   "cell_type": "markdown",
   "metadata": {},
   "source": [
    "**Вывод**"
   ]
  },
  {
   "cell_type": "markdown",
   "metadata": {},
   "source": [
    "Исходя из данных можно сказать, что чаще всего возвращают в срок кредит за жилье и недвижимость, реже всего за автомобиль."
   ]
  },
  {
   "cell_type": "markdown",
   "metadata": {},
   "source": [
    "## Шаг 4. Общий вывод"
   ]
  },
  {
   "cell_type": "markdown",
   "metadata": {},
   "source": [
    "В данной работе выполнены следующие операции:<br>\n",
    "найдены и заполнены пропуски;<br>\n",
    "удален ненужный столбец `days_employed` с пропусками и некорретными данными;<br>\n",
    "заменен вещественный тип данных на целочисленный;<br>\n",
    "удалены дубликаты, переведены значения в строчный регистр;<br>\n",
    "проведена лемматизация столбца `purpose` и категоризация столбцов `purpose` и `total_income`.<br>\n",
    "\n",
    "Даны ответы на вопросы проекта:<br> \n",
    "`Есть ли зависимость между наличием детей и возвратом кредита в срок?` Семьи с 5-ми рассичтываются с кредитом в срок, а семьи с 4-мя детьми имеют самый большой процент просрочки кредита.<br>\n",
    "`Есть ли зависимость между семейным положением и возвратом кредита в срок?` Люди со статусом \"вдова/вдовец\" имеют наименьший процент просрочки кредита, чем холостые.<br>\n",
    "`Есть ли зависимость между уровнем дохода и возвратом кредита в срок?` Люди с максимальнным доходом имеют наименьший процент просрочки, чем люди со средним доходом.<br>\n",
    "`Как разные цели кредита влияют на его возврат в срок?` Наиболее возвращаемым кредитом конечно же является кредит за жилье и недвижимость, а реже всего - за автомобиль."
   ]
  }
 ],
 "metadata": {
  "ExecuteTimeLog": [
   {
    "duration": 729,
    "start_time": "2021-12-31T07:15:03.431Z"
   },
   {
    "duration": 69,
    "start_time": "2021-12-31T07:15:05.711Z"
   },
   {
    "duration": 28,
    "start_time": "2021-12-31T07:16:47.481Z"
   },
   {
    "duration": 44,
    "start_time": "2021-12-31T07:21:27.792Z"
   },
   {
    "duration": 6,
    "start_time": "2021-12-31T07:23:04.129Z"
   },
   {
    "duration": 431,
    "start_time": "2021-12-31T07:23:15.054Z"
   },
   {
    "duration": 3,
    "start_time": "2021-12-31T07:23:44.999Z"
   },
   {
    "duration": 88,
    "start_time": "2021-12-31T07:23:45.005Z"
   },
   {
    "duration": 16,
    "start_time": "2021-12-31T07:23:45.096Z"
   },
   {
    "duration": 44,
    "start_time": "2021-12-31T07:23:45.115Z"
   },
   {
    "duration": 6,
    "start_time": "2021-12-31T07:23:45.161Z"
   },
   {
    "duration": 361,
    "start_time": "2021-12-31T07:23:53.453Z"
   },
   {
    "duration": 10,
    "start_time": "2021-12-31T07:24:38.894Z"
   },
   {
    "duration": 9,
    "start_time": "2021-12-31T07:24:42.191Z"
   },
   {
    "duration": 286,
    "start_time": "2021-12-31T07:24:46.741Z"
   },
   {
    "duration": 3,
    "start_time": "2021-12-31T07:25:30.027Z"
   },
   {
    "duration": 80,
    "start_time": "2021-12-31T07:25:30.033Z"
   },
   {
    "duration": 17,
    "start_time": "2021-12-31T07:25:30.116Z"
   },
   {
    "duration": 53,
    "start_time": "2021-12-31T07:25:30.136Z"
   },
   {
    "duration": 7,
    "start_time": "2021-12-31T07:25:30.192Z"
   },
   {
    "duration": 27,
    "start_time": "2021-12-31T07:25:30.224Z"
   },
   {
    "duration": 11,
    "start_time": "2021-12-31T07:25:37.745Z"
   },
   {
    "duration": 15,
    "start_time": "2021-12-31T07:25:51.377Z"
   },
   {
    "duration": 9,
    "start_time": "2021-12-31T07:26:04.846Z"
   },
   {
    "duration": 16,
    "start_time": "2021-12-31T07:26:28.106Z"
   },
   {
    "duration": 330,
    "start_time": "2021-12-31T07:26:43.126Z"
   },
   {
    "duration": 3,
    "start_time": "2021-12-31T07:26:59.432Z"
   },
   {
    "duration": 73,
    "start_time": "2021-12-31T07:26:59.438Z"
   },
   {
    "duration": 21,
    "start_time": "2021-12-31T07:26:59.514Z"
   },
   {
    "duration": 49,
    "start_time": "2021-12-31T07:26:59.538Z"
   },
   {
    "duration": 5,
    "start_time": "2021-12-31T07:26:59.590Z"
   },
   {
    "duration": 12,
    "start_time": "2021-12-31T07:26:59.623Z"
   },
   {
    "duration": 16,
    "start_time": "2021-12-31T07:26:59.638Z"
   },
   {
    "duration": 102,
    "start_time": "2021-12-31T07:28:10.240Z"
   },
   {
    "duration": 110,
    "start_time": "2021-12-31T07:29:46.404Z"
   },
   {
    "duration": 8,
    "start_time": "2021-12-31T07:33:43.057Z"
   },
   {
    "duration": 18,
    "start_time": "2021-12-31T07:34:33.736Z"
   },
   {
    "duration": 14,
    "start_time": "2021-12-31T07:35:27.696Z"
   },
   {
    "duration": 8,
    "start_time": "2021-12-31T07:44:23.309Z"
   },
   {
    "duration": 24,
    "start_time": "2021-12-31T07:46:34.597Z"
   },
   {
    "duration": 8,
    "start_time": "2021-12-31T07:47:11.651Z"
   },
   {
    "duration": 17,
    "start_time": "2021-12-31T07:51:19.534Z"
   },
   {
    "duration": 8,
    "start_time": "2021-12-31T07:51:21.882Z"
   },
   {
    "duration": 13,
    "start_time": "2021-12-31T07:51:44.389Z"
   },
   {
    "duration": 6,
    "start_time": "2021-12-31T08:02:15.520Z"
   },
   {
    "duration": 23,
    "start_time": "2021-12-31T08:03:09.241Z"
   },
   {
    "duration": 9,
    "start_time": "2021-12-31T08:03:25.511Z"
   },
   {
    "duration": 10,
    "start_time": "2021-12-31T08:24:36.262Z"
   },
   {
    "duration": 8,
    "start_time": "2021-12-31T08:24:49.131Z"
   },
   {
    "duration": 79,
    "start_time": "2021-12-31T08:44:42.625Z"
   },
   {
    "duration": 29,
    "start_time": "2021-12-31T08:46:12.429Z"
   },
   {
    "duration": 25,
    "start_time": "2021-12-31T08:52:44.308Z"
   },
   {
    "duration": 8,
    "start_time": "2021-12-31T08:54:22.483Z"
   },
   {
    "duration": 286,
    "start_time": "2021-12-31T08:59:16.214Z"
   },
   {
    "duration": 10,
    "start_time": "2021-12-31T08:59:30.017Z"
   },
   {
    "duration": 69,
    "start_time": "2021-12-31T08:59:30.030Z"
   },
   {
    "duration": 21,
    "start_time": "2021-12-31T08:59:30.103Z"
   },
   {
    "duration": 65,
    "start_time": "2021-12-31T08:59:30.127Z"
   },
   {
    "duration": 7,
    "start_time": "2021-12-31T08:59:30.195Z"
   },
   {
    "duration": 12,
    "start_time": "2021-12-31T08:59:30.224Z"
   },
   {
    "duration": 19,
    "start_time": "2021-12-31T08:59:30.239Z"
   },
   {
    "duration": 9,
    "start_time": "2021-12-31T08:59:30.260Z"
   },
   {
    "duration": 12,
    "start_time": "2021-12-31T08:59:30.273Z"
   },
   {
    "duration": 34,
    "start_time": "2021-12-31T08:59:30.322Z"
   },
   {
    "duration": 9,
    "start_time": "2021-12-31T08:59:30.359Z"
   },
   {
    "duration": 12,
    "start_time": "2021-12-31T08:59:30.371Z"
   },
   {
    "duration": 64,
    "start_time": "2021-12-31T08:59:30.386Z"
   },
   {
    "duration": 9,
    "start_time": "2021-12-31T08:59:30.452Z"
   },
   {
    "duration": 27,
    "start_time": "2021-12-31T08:59:30.464Z"
   },
   {
    "duration": 40,
    "start_time": "2021-12-31T08:59:30.494Z"
   },
   {
    "duration": 29,
    "start_time": "2021-12-31T08:59:30.537Z"
   },
   {
    "duration": 341,
    "start_time": "2021-12-31T08:59:30.569Z"
   },
   {
    "duration": -115,
    "start_time": "2021-12-31T08:59:31.028Z"
   },
   {
    "duration": -122,
    "start_time": "2021-12-31T08:59:31.037Z"
   },
   {
    "duration": 298,
    "start_time": "2021-12-31T08:59:40.688Z"
   },
   {
    "duration": 359,
    "start_time": "2021-12-31T09:00:05.047Z"
   },
   {
    "duration": 515,
    "start_time": "2021-12-31T09:00:37.119Z"
   },
   {
    "duration": -196,
    "start_time": "2021-12-31T09:00:55.510Z"
   },
   {
    "duration": 4090,
    "start_time": "2021-12-31T09:00:57.808Z"
   },
   {
    "duration": 305,
    "start_time": "2021-12-31T09:02:48.783Z"
   },
   {
    "duration": 8,
    "start_time": "2021-12-31T10:23:07.448Z"
   },
   {
    "duration": 3,
    "start_time": "2021-12-31T10:23:16.050Z"
   },
   {
    "duration": 71,
    "start_time": "2021-12-31T10:23:16.056Z"
   },
   {
    "duration": 15,
    "start_time": "2021-12-31T10:23:16.130Z"
   },
   {
    "duration": 48,
    "start_time": "2021-12-31T10:23:16.149Z"
   },
   {
    "duration": 28,
    "start_time": "2021-12-31T10:23:16.199Z"
   },
   {
    "duration": 13,
    "start_time": "2021-12-31T10:23:16.231Z"
   },
   {
    "duration": 16,
    "start_time": "2021-12-31T10:23:16.246Z"
   },
   {
    "duration": 8,
    "start_time": "2021-12-31T10:23:16.265Z"
   },
   {
    "duration": 11,
    "start_time": "2021-12-31T10:23:16.327Z"
   },
   {
    "duration": 27,
    "start_time": "2021-12-31T10:23:16.341Z"
   },
   {
    "duration": 10,
    "start_time": "2021-12-31T10:23:16.371Z"
   },
   {
    "duration": 41,
    "start_time": "2021-12-31T10:23:16.384Z"
   },
   {
    "duration": 28,
    "start_time": "2021-12-31T10:23:16.429Z"
   },
   {
    "duration": 10,
    "start_time": "2021-12-31T10:23:16.460Z"
   },
   {
    "duration": 53,
    "start_time": "2021-12-31T10:23:16.473Z"
   },
   {
    "duration": 11,
    "start_time": "2021-12-31T10:23:16.529Z"
   },
   {
    "duration": 10,
    "start_time": "2021-12-31T10:23:16.543Z"
   },
   {
    "duration": 332,
    "start_time": "2021-12-31T10:23:16.555Z"
   },
   {
    "duration": -72,
    "start_time": "2021-12-31T10:23:16.961Z"
   },
   {
    "duration": -88,
    "start_time": "2021-12-31T10:23:16.978Z"
   },
   {
    "duration": 27,
    "start_time": "2021-12-31T10:57:19.571Z"
   },
   {
    "duration": 355,
    "start_time": "2021-12-31T10:57:25.891Z"
   },
   {
    "duration": 298,
    "start_time": "2021-12-31T10:57:46.216Z"
   },
   {
    "duration": 282,
    "start_time": "2021-12-31T10:58:06.887Z"
   },
   {
    "duration": 290,
    "start_time": "2021-12-31T10:59:07.474Z"
   },
   {
    "duration": 295,
    "start_time": "2021-12-31T11:06:00.813Z"
   },
   {
    "duration": 24,
    "start_time": "2021-12-31T11:06:50.837Z"
   },
   {
    "duration": 286,
    "start_time": "2021-12-31T11:07:07.476Z"
   },
   {
    "duration": 25,
    "start_time": "2021-12-31T11:07:47.717Z"
   },
   {
    "duration": 293,
    "start_time": "2021-12-31T11:07:56.406Z"
   },
   {
    "duration": 396,
    "start_time": "2021-12-31T11:46:07.462Z"
   },
   {
    "duration": 3,
    "start_time": "2021-12-31T11:46:51.537Z"
   },
   {
    "duration": 74,
    "start_time": "2021-12-31T11:46:51.543Z"
   },
   {
    "duration": 17,
    "start_time": "2021-12-31T11:46:51.620Z"
   },
   {
    "duration": 42,
    "start_time": "2021-12-31T11:46:51.640Z"
   },
   {
    "duration": 6,
    "start_time": "2021-12-31T11:46:51.684Z"
   },
   {
    "duration": 9,
    "start_time": "2021-12-31T11:46:51.724Z"
   },
   {
    "duration": 12,
    "start_time": "2021-12-31T11:46:51.735Z"
   },
   {
    "duration": 7,
    "start_time": "2021-12-31T11:46:51.751Z"
   },
   {
    "duration": 8,
    "start_time": "2021-12-31T11:46:51.761Z"
   },
   {
    "duration": 66,
    "start_time": "2021-12-31T11:46:51.771Z"
   },
   {
    "duration": 7,
    "start_time": "2021-12-31T11:46:51.839Z"
   },
   {
    "duration": 7,
    "start_time": "2021-12-31T11:46:51.848Z"
   },
   {
    "duration": 20,
    "start_time": "2021-12-31T11:46:51.857Z"
   },
   {
    "duration": 9,
    "start_time": "2021-12-31T11:46:51.879Z"
   },
   {
    "duration": 9,
    "start_time": "2021-12-31T11:46:51.923Z"
   },
   {
    "duration": 9,
    "start_time": "2021-12-31T11:46:51.934Z"
   },
   {
    "duration": 7,
    "start_time": "2021-12-31T11:46:51.946Z"
   },
   {
    "duration": 296,
    "start_time": "2021-12-31T11:46:51.955Z"
   },
   {
    "duration": -15,
    "start_time": "2021-12-31T11:46:52.268Z"
   },
   {
    "duration": -19,
    "start_time": "2021-12-31T11:46:52.274Z"
   },
   {
    "duration": -20,
    "start_time": "2021-12-31T11:46:52.276Z"
   },
   {
    "duration": 4,
    "start_time": "2021-12-31T11:47:19.988Z"
   },
   {
    "duration": 70,
    "start_time": "2021-12-31T11:47:19.994Z"
   },
   {
    "duration": 18,
    "start_time": "2021-12-31T11:47:20.067Z"
   },
   {
    "duration": 64,
    "start_time": "2021-12-31T11:47:20.088Z"
   },
   {
    "duration": 6,
    "start_time": "2021-12-31T11:47:20.154Z"
   },
   {
    "duration": 19,
    "start_time": "2021-12-31T11:47:20.162Z"
   },
   {
    "duration": 19,
    "start_time": "2021-12-31T11:47:20.183Z"
   },
   {
    "duration": 23,
    "start_time": "2021-12-31T11:47:20.205Z"
   },
   {
    "duration": 10,
    "start_time": "2021-12-31T11:47:20.232Z"
   },
   {
    "duration": 24,
    "start_time": "2021-12-31T11:47:20.245Z"
   },
   {
    "duration": 7,
    "start_time": "2021-12-31T11:47:20.272Z"
   },
   {
    "duration": 43,
    "start_time": "2021-12-31T11:47:20.281Z"
   },
   {
    "duration": 23,
    "start_time": "2021-12-31T11:47:20.326Z"
   },
   {
    "duration": 7,
    "start_time": "2021-12-31T11:47:20.351Z"
   },
   {
    "duration": 16,
    "start_time": "2021-12-31T11:47:20.360Z"
   },
   {
    "duration": 11,
    "start_time": "2021-12-31T11:47:20.379Z"
   },
   {
    "duration": 8,
    "start_time": "2021-12-31T11:47:20.424Z"
   },
   {
    "duration": 12,
    "start_time": "2021-12-31T11:47:20.434Z"
   },
   {
    "duration": 315,
    "start_time": "2021-12-31T11:47:20.449Z"
   },
   {
    "duration": 17,
    "start_time": "2021-12-31T11:47:20.749Z"
   },
   {
    "duration": 17,
    "start_time": "2021-12-31T11:47:20.751Z"
   },
   {
    "duration": 4,
    "start_time": "2021-12-31T11:49:40.721Z"
   },
   {
    "duration": 102,
    "start_time": "2021-12-31T11:49:40.729Z"
   },
   {
    "duration": 26,
    "start_time": "2021-12-31T11:49:40.835Z"
   },
   {
    "duration": 74,
    "start_time": "2021-12-31T11:49:40.864Z"
   },
   {
    "duration": 6,
    "start_time": "2021-12-31T11:49:40.941Z"
   },
   {
    "duration": 13,
    "start_time": "2021-12-31T11:49:40.950Z"
   },
   {
    "duration": 15,
    "start_time": "2021-12-31T11:49:40.966Z"
   },
   {
    "duration": 40,
    "start_time": "2021-12-31T11:49:40.983Z"
   },
   {
    "duration": 11,
    "start_time": "2021-12-31T11:49:41.027Z"
   },
   {
    "duration": 33,
    "start_time": "2021-12-31T11:49:41.041Z"
   },
   {
    "duration": 11,
    "start_time": "2021-12-31T11:49:41.076Z"
   },
   {
    "duration": 48,
    "start_time": "2021-12-31T11:49:41.089Z"
   },
   {
    "duration": 25,
    "start_time": "2021-12-31T11:49:41.140Z"
   },
   {
    "duration": 11,
    "start_time": "2021-12-31T11:49:41.168Z"
   },
   {
    "duration": 49,
    "start_time": "2021-12-31T11:49:41.182Z"
   },
   {
    "duration": 9,
    "start_time": "2021-12-31T11:49:41.234Z"
   },
   {
    "duration": 11,
    "start_time": "2021-12-31T11:49:41.246Z"
   },
   {
    "duration": 4,
    "start_time": "2021-12-31T11:49:41.259Z"
   },
   {
    "duration": 955,
    "start_time": "2021-12-31T11:49:41.267Z"
   },
   {
    "duration": 30,
    "start_time": "2021-12-31T11:49:42.225Z"
   },
   {
    "duration": 26,
    "start_time": "2021-12-31T11:49:42.257Z"
   },
   {
    "duration": 312,
    "start_time": "2021-12-31T11:50:59.956Z"
   },
   {
    "duration": 277,
    "start_time": "2021-12-31T11:52:14.651Z"
   },
   {
    "duration": 4,
    "start_time": "2021-12-31T11:52:26.171Z"
   },
   {
    "duration": 368,
    "start_time": "2021-12-31T11:52:26.178Z"
   },
   {
    "duration": 79,
    "start_time": "2021-12-31T11:52:26.550Z"
   },
   {
    "duration": 57,
    "start_time": "2021-12-31T11:52:26.632Z"
   },
   {
    "duration": 6,
    "start_time": "2021-12-31T11:52:26.691Z"
   },
   {
    "duration": 31,
    "start_time": "2021-12-31T11:52:26.700Z"
   },
   {
    "duration": 18,
    "start_time": "2021-12-31T11:52:26.733Z"
   },
   {
    "duration": 9,
    "start_time": "2021-12-31T11:52:26.755Z"
   },
   {
    "duration": 13,
    "start_time": "2021-12-31T11:52:26.767Z"
   },
   {
    "duration": 61,
    "start_time": "2021-12-31T11:52:26.782Z"
   },
   {
    "duration": 15,
    "start_time": "2021-12-31T11:52:26.846Z"
   },
   {
    "duration": 24,
    "start_time": "2021-12-31T11:52:26.863Z"
   },
   {
    "duration": 23,
    "start_time": "2021-12-31T11:52:26.890Z"
   },
   {
    "duration": 7,
    "start_time": "2021-12-31T11:52:26.923Z"
   },
   {
    "duration": 13,
    "start_time": "2021-12-31T11:52:26.932Z"
   },
   {
    "duration": 14,
    "start_time": "2021-12-31T11:52:26.947Z"
   },
   {
    "duration": 13,
    "start_time": "2021-12-31T11:52:26.964Z"
   },
   {
    "duration": 297,
    "start_time": "2021-12-31T11:52:26.980Z"
   },
   {
    "duration": 3,
    "start_time": "2021-12-31T11:52:27.277Z"
   },
   {
    "duration": 0,
    "start_time": "2021-12-31T11:52:27.281Z"
   },
   {
    "duration": -1,
    "start_time": "2021-12-31T11:52:27.284Z"
   },
   {
    "duration": 4,
    "start_time": "2021-12-31T11:53:37.793Z"
   },
   {
    "duration": 69,
    "start_time": "2021-12-31T11:53:37.800Z"
   },
   {
    "duration": 19,
    "start_time": "2021-12-31T11:53:37.873Z"
   },
   {
    "duration": 70,
    "start_time": "2021-12-31T11:53:37.895Z"
   },
   {
    "duration": 8,
    "start_time": "2021-12-31T11:53:37.968Z"
   },
   {
    "duration": 45,
    "start_time": "2021-12-31T11:53:37.978Z"
   },
   {
    "duration": 16,
    "start_time": "2021-12-31T11:53:38.025Z"
   },
   {
    "duration": 9,
    "start_time": "2021-12-31T11:53:38.044Z"
   },
   {
    "duration": 10,
    "start_time": "2021-12-31T11:53:38.056Z"
   },
   {
    "duration": 60,
    "start_time": "2021-12-31T11:53:38.069Z"
   },
   {
    "duration": 7,
    "start_time": "2021-12-31T11:53:38.132Z"
   },
   {
    "duration": 7,
    "start_time": "2021-12-31T11:53:38.142Z"
   },
   {
    "duration": 23,
    "start_time": "2021-12-31T11:53:38.152Z"
   },
   {
    "duration": 48,
    "start_time": "2021-12-31T11:53:38.177Z"
   },
   {
    "duration": 13,
    "start_time": "2021-12-31T11:53:38.227Z"
   },
   {
    "duration": 10,
    "start_time": "2021-12-31T11:53:38.243Z"
   },
   {
    "duration": 10,
    "start_time": "2021-12-31T11:53:38.256Z"
   },
   {
    "duration": 3,
    "start_time": "2021-12-31T11:53:38.269Z"
   },
   {
    "duration": 959,
    "start_time": "2021-12-31T11:53:38.274Z"
   },
   {
    "duration": 293,
    "start_time": "2021-12-31T11:53:39.236Z"
   },
   {
    "duration": 16,
    "start_time": "2021-12-31T11:53:39.516Z"
   },
   {
    "duration": 6,
    "start_time": "2021-12-31T11:53:39.527Z"
   },
   {
    "duration": 8,
    "start_time": "2021-12-31T11:54:45.494Z"
   },
   {
    "duration": 14,
    "start_time": "2021-12-31T11:54:58.107Z"
   },
   {
    "duration": 291,
    "start_time": "2021-12-31T11:55:50.174Z"
   },
   {
    "duration": 378,
    "start_time": "2021-12-31T11:56:13.698Z"
   },
   {
    "duration": 335,
    "start_time": "2021-12-31T11:57:00.407Z"
   },
   {
    "duration": 3,
    "start_time": "2021-12-31T11:58:49.886Z"
   },
   {
    "duration": 327,
    "start_time": "2021-12-31T11:59:07.931Z"
   },
   {
    "duration": 292,
    "start_time": "2021-12-31T11:59:32.211Z"
   },
   {
    "duration": 367,
    "start_time": "2021-12-31T12:01:34.599Z"
   },
   {
    "duration": 309,
    "start_time": "2021-12-31T12:01:59.727Z"
   },
   {
    "duration": 28,
    "start_time": "2021-12-31T12:02:03.059Z"
   },
   {
    "duration": 75,
    "start_time": "2021-12-31T12:02:03.090Z"
   },
   {
    "duration": 18,
    "start_time": "2021-12-31T12:02:03.168Z"
   },
   {
    "duration": 76,
    "start_time": "2021-12-31T12:02:03.189Z"
   },
   {
    "duration": 8,
    "start_time": "2021-12-31T12:02:03.268Z"
   },
   {
    "duration": 13,
    "start_time": "2021-12-31T12:02:03.278Z"
   },
   {
    "duration": 39,
    "start_time": "2021-12-31T12:02:03.294Z"
   },
   {
    "duration": 8,
    "start_time": "2021-12-31T12:02:03.337Z"
   },
   {
    "duration": 12,
    "start_time": "2021-12-31T12:02:03.348Z"
   },
   {
    "duration": 24,
    "start_time": "2021-12-31T12:02:03.363Z"
   },
   {
    "duration": 8,
    "start_time": "2021-12-31T12:02:03.423Z"
   },
   {
    "duration": 11,
    "start_time": "2021-12-31T12:02:03.433Z"
   },
   {
    "duration": 23,
    "start_time": "2021-12-31T12:02:03.446Z"
   },
   {
    "duration": 7,
    "start_time": "2021-12-31T12:02:03.472Z"
   },
   {
    "duration": 45,
    "start_time": "2021-12-31T12:02:03.481Z"
   },
   {
    "duration": 8,
    "start_time": "2021-12-31T12:02:03.529Z"
   },
   {
    "duration": 8,
    "start_time": "2021-12-31T12:02:03.539Z"
   },
   {
    "duration": 7,
    "start_time": "2021-12-31T12:02:03.550Z"
   },
   {
    "duration": 4,
    "start_time": "2021-12-31T12:02:03.560Z"
   },
   {
    "duration": 1229,
    "start_time": "2021-12-31T12:02:03.566Z"
   },
   {
    "duration": -6,
    "start_time": "2021-12-31T12:02:04.804Z"
   },
   {
    "duration": -14,
    "start_time": "2021-12-31T12:02:04.813Z"
   },
   {
    "duration": -24,
    "start_time": "2021-12-31T12:02:04.825Z"
   },
   {
    "duration": 169,
    "start_time": "2021-12-31T12:04:01.415Z"
   },
   {
    "duration": 300,
    "start_time": "2021-12-31T12:04:43.296Z"
   },
   {
    "duration": 619,
    "start_time": "2021-12-31T12:06:27.074Z"
   },
   {
    "duration": 692,
    "start_time": "2021-12-31T12:06:57.781Z"
   },
   {
    "duration": 3769,
    "start_time": "2021-12-31T12:09:53.197Z"
   },
   {
    "duration": 4208,
    "start_time": "2021-12-31T12:09:59.530Z"
   },
   {
    "duration": 3893,
    "start_time": "2021-12-31T12:12:06.881Z"
   },
   {
    "duration": 29,
    "start_time": "2021-12-31T12:12:24.493Z"
   },
   {
    "duration": 71,
    "start_time": "2021-12-31T12:12:24.524Z"
   },
   {
    "duration": 27,
    "start_time": "2021-12-31T12:12:24.598Z"
   },
   {
    "duration": 47,
    "start_time": "2021-12-31T12:12:24.628Z"
   },
   {
    "duration": 6,
    "start_time": "2021-12-31T12:12:24.677Z"
   },
   {
    "duration": 38,
    "start_time": "2021-12-31T12:12:24.685Z"
   },
   {
    "duration": 14,
    "start_time": "2021-12-31T12:12:24.725Z"
   },
   {
    "duration": 8,
    "start_time": "2021-12-31T12:12:24.743Z"
   },
   {
    "duration": 8,
    "start_time": "2021-12-31T12:12:24.754Z"
   },
   {
    "duration": 68,
    "start_time": "2021-12-31T12:12:24.764Z"
   },
   {
    "duration": 8,
    "start_time": "2021-12-31T12:12:24.834Z"
   },
   {
    "duration": 8,
    "start_time": "2021-12-31T12:12:24.844Z"
   },
   {
    "duration": 21,
    "start_time": "2021-12-31T12:12:24.855Z"
   },
   {
    "duration": 11,
    "start_time": "2021-12-31T12:12:24.879Z"
   },
   {
    "duration": 39,
    "start_time": "2021-12-31T12:12:24.892Z"
   },
   {
    "duration": 10,
    "start_time": "2021-12-31T12:12:24.933Z"
   },
   {
    "duration": 11,
    "start_time": "2021-12-31T12:12:24.945Z"
   },
   {
    "duration": 18,
    "start_time": "2021-12-31T12:12:24.958Z"
   },
   {
    "duration": 5028,
    "start_time": "2021-12-31T12:12:24.979Z"
   },
   {
    "duration": 32,
    "start_time": "2021-12-31T12:12:30.022Z"
   },
   {
    "duration": 25,
    "start_time": "2021-12-31T12:12:30.057Z"
   },
   {
    "duration": 3690,
    "start_time": "2021-12-31T12:14:15.367Z"
   },
   {
    "duration": 13,
    "start_time": "2021-12-31T12:15:44.888Z"
   },
   {
    "duration": 5,
    "start_time": "2021-12-31T12:23:29.492Z"
   },
   {
    "duration": 5,
    "start_time": "2021-12-31T12:25:26.843Z"
   },
   {
    "duration": 5,
    "start_time": "2021-12-31T12:25:29.059Z"
   },
   {
    "duration": 34,
    "start_time": "2021-12-31T12:25:43.856Z"
   },
   {
    "duration": 75,
    "start_time": "2021-12-31T12:25:43.893Z"
   },
   {
    "duration": 16,
    "start_time": "2021-12-31T12:25:43.971Z"
   },
   {
    "duration": 66,
    "start_time": "2021-12-31T12:25:43.989Z"
   },
   {
    "duration": 6,
    "start_time": "2021-12-31T12:25:44.058Z"
   },
   {
    "duration": 11,
    "start_time": "2021-12-31T12:25:44.067Z"
   },
   {
    "duration": 13,
    "start_time": "2021-12-31T12:25:44.080Z"
   },
   {
    "duration": 32,
    "start_time": "2021-12-31T12:25:44.097Z"
   },
   {
    "duration": 23,
    "start_time": "2021-12-31T12:25:44.132Z"
   },
   {
    "duration": 26,
    "start_time": "2021-12-31T12:25:44.158Z"
   },
   {
    "duration": 9,
    "start_time": "2021-12-31T12:25:44.186Z"
   },
   {
    "duration": 9,
    "start_time": "2021-12-31T12:25:44.222Z"
   },
   {
    "duration": 30,
    "start_time": "2021-12-31T12:25:44.234Z"
   },
   {
    "duration": 11,
    "start_time": "2021-12-31T12:25:44.266Z"
   },
   {
    "duration": 47,
    "start_time": "2021-12-31T12:25:44.279Z"
   },
   {
    "duration": 9,
    "start_time": "2021-12-31T12:25:44.328Z"
   },
   {
    "duration": 16,
    "start_time": "2021-12-31T12:25:44.340Z"
   },
   {
    "duration": 9,
    "start_time": "2021-12-31T12:25:44.359Z"
   },
   {
    "duration": 5188,
    "start_time": "2021-12-31T12:25:44.370Z"
   },
   {
    "duration": 10,
    "start_time": "2021-12-31T12:25:49.561Z"
   },
   {
    "duration": 5,
    "start_time": "2021-12-31T12:25:49.573Z"
   },
   {
    "duration": 8,
    "start_time": "2021-12-31T12:25:49.580Z"
   },
   {
    "duration": 61,
    "start_time": "2021-12-31T12:25:49.592Z"
   },
   {
    "duration": 26,
    "start_time": "2021-12-31T12:25:49.656Z"
   },
   {
    "duration": 7,
    "start_time": "2021-12-31T12:27:06.628Z"
   },
   {
    "duration": 37,
    "start_time": "2021-12-31T12:33:20.659Z"
   },
   {
    "duration": 5,
    "start_time": "2021-12-31T12:35:58.943Z"
   },
   {
    "duration": 5,
    "start_time": "2021-12-31T12:36:12.118Z"
   },
   {
    "duration": 6,
    "start_time": "2021-12-31T12:36:14.800Z"
   },
   {
    "duration": 39,
    "start_time": "2021-12-31T12:38:50.054Z"
   },
   {
    "duration": 45,
    "start_time": "2021-12-31T12:41:00.620Z"
   },
   {
    "duration": 28,
    "start_time": "2021-12-31T12:41:04.748Z"
   },
   {
    "duration": 73,
    "start_time": "2021-12-31T12:41:04.779Z"
   },
   {
    "duration": 19,
    "start_time": "2021-12-31T12:41:04.857Z"
   },
   {
    "duration": 65,
    "start_time": "2021-12-31T12:41:04.879Z"
   },
   {
    "duration": 47,
    "start_time": "2021-12-31T12:41:04.947Z"
   },
   {
    "duration": 27,
    "start_time": "2021-12-31T12:41:04.997Z"
   },
   {
    "duration": 18,
    "start_time": "2021-12-31T12:41:05.026Z"
   },
   {
    "duration": 19,
    "start_time": "2021-12-31T12:41:05.048Z"
   },
   {
    "duration": 7,
    "start_time": "2021-12-31T12:41:05.071Z"
   },
   {
    "duration": 45,
    "start_time": "2021-12-31T12:41:05.081Z"
   },
   {
    "duration": 30,
    "start_time": "2021-12-31T12:41:05.128Z"
   },
   {
    "duration": 8,
    "start_time": "2021-12-31T12:41:05.160Z"
   },
   {
    "duration": 9,
    "start_time": "2021-12-31T12:41:05.170Z"
   },
   {
    "duration": 55,
    "start_time": "2021-12-31T12:41:05.182Z"
   },
   {
    "duration": 9,
    "start_time": "2021-12-31T12:41:05.240Z"
   },
   {
    "duration": 11,
    "start_time": "2021-12-31T12:41:05.252Z"
   },
   {
    "duration": 12,
    "start_time": "2021-12-31T12:41:05.267Z"
   },
   {
    "duration": 44,
    "start_time": "2021-12-31T12:41:05.281Z"
   },
   {
    "duration": 7,
    "start_time": "2021-12-31T12:41:05.327Z"
   },
   {
    "duration": 4939,
    "start_time": "2021-12-31T12:41:05.336Z"
   },
   {
    "duration": 11,
    "start_time": "2021-12-31T12:41:10.278Z"
   },
   {
    "duration": 75,
    "start_time": "2021-12-31T12:41:10.291Z"
   },
   {
    "duration": 5,
    "start_time": "2021-12-31T12:41:10.370Z"
   },
   {
    "duration": 12,
    "start_time": "2021-12-31T12:41:10.377Z"
   },
   {
    "duration": 52,
    "start_time": "2021-12-31T12:41:10.391Z"
   },
   {
    "duration": 27,
    "start_time": "2021-12-31T12:41:10.445Z"
   },
   {
    "duration": 5,
    "start_time": "2021-12-31T12:42:21.135Z"
   },
   {
    "duration": 7,
    "start_time": "2021-12-31T12:42:24.088Z"
   },
   {
    "duration": 279,
    "start_time": "2021-12-31T12:43:10.129Z"
   },
   {
    "duration": 9,
    "start_time": "2021-12-31T12:43:39.151Z"
   },
   {
    "duration": 14,
    "start_time": "2021-12-31T12:44:20.373Z"
   },
   {
    "duration": 31,
    "start_time": "2021-12-31T12:45:08.570Z"
   },
   {
    "duration": 21,
    "start_time": "2021-12-31T12:51:51.036Z"
   },
   {
    "duration": 21,
    "start_time": "2021-12-31T12:51:54.968Z"
   },
   {
    "duration": 29,
    "start_time": "2021-12-31T12:52:01.810Z"
   },
   {
    "duration": 17,
    "start_time": "2021-12-31T12:53:00.443Z"
   },
   {
    "duration": 10,
    "start_time": "2021-12-31T12:53:32.983Z"
   },
   {
    "duration": 4338,
    "start_time": "2021-12-31T13:01:51.539Z"
   },
   {
    "duration": 3979,
    "start_time": "2021-12-31T13:01:59.594Z"
   },
   {
    "duration": 4486,
    "start_time": "2021-12-31T13:02:37.935Z"
   },
   {
    "duration": 4258,
    "start_time": "2021-12-31T13:03:19.142Z"
   },
   {
    "duration": 4073,
    "start_time": "2021-12-31T13:03:45.150Z"
   },
   {
    "duration": 4177,
    "start_time": "2021-12-31T13:03:58.875Z"
   },
   {
    "duration": 4425,
    "start_time": "2021-12-31T13:04:23.027Z"
   },
   {
    "duration": 26,
    "start_time": "2021-12-31T13:16:53.642Z"
   },
   {
    "duration": 31,
    "start_time": "2021-12-31T13:18:50.324Z"
   },
   {
    "duration": 97,
    "start_time": "2021-12-31T13:18:50.357Z"
   },
   {
    "duration": 17,
    "start_time": "2021-12-31T13:18:50.457Z"
   },
   {
    "duration": 93,
    "start_time": "2021-12-31T13:18:50.476Z"
   },
   {
    "duration": 57,
    "start_time": "2021-12-31T13:18:50.572Z"
   },
   {
    "duration": 5,
    "start_time": "2021-12-31T13:18:50.632Z"
   },
   {
    "duration": 11,
    "start_time": "2021-12-31T13:18:50.639Z"
   },
   {
    "duration": 14,
    "start_time": "2021-12-31T13:18:50.654Z"
   },
   {
    "duration": 6,
    "start_time": "2021-12-31T13:18:50.671Z"
   },
   {
    "duration": 45,
    "start_time": "2021-12-31T13:18:50.680Z"
   },
   {
    "duration": 25,
    "start_time": "2021-12-31T13:18:50.728Z"
   },
   {
    "duration": 8,
    "start_time": "2021-12-31T13:18:50.755Z"
   },
   {
    "duration": 9,
    "start_time": "2021-12-31T13:18:50.765Z"
   },
   {
    "duration": 55,
    "start_time": "2021-12-31T13:18:50.776Z"
   },
   {
    "duration": 7,
    "start_time": "2021-12-31T13:18:50.833Z"
   },
   {
    "duration": 10,
    "start_time": "2021-12-31T13:18:50.843Z"
   },
   {
    "duration": 12,
    "start_time": "2021-12-31T13:18:50.855Z"
   },
   {
    "duration": 20,
    "start_time": "2021-12-31T13:18:50.870Z"
   },
   {
    "duration": 4670,
    "start_time": "2021-12-31T13:18:50.892Z"
   },
   {
    "duration": 9,
    "start_time": "2021-12-31T13:18:55.565Z"
   },
   {
    "duration": 6,
    "start_time": "2021-12-31T13:18:55.577Z"
   },
   {
    "duration": 9,
    "start_time": "2021-12-31T13:18:55.585Z"
   },
   {
    "duration": 15,
    "start_time": "2021-12-31T13:18:55.626Z"
   },
   {
    "duration": 10,
    "start_time": "2021-12-31T13:18:55.643Z"
   },
   {
    "duration": 36,
    "start_time": "2021-12-31T13:18:55.655Z"
   },
   {
    "duration": 54,
    "start_time": "2021-12-31T13:18:55.693Z"
   },
   {
    "duration": 24,
    "start_time": "2021-12-31T13:18:55.750Z"
   },
   {
    "duration": 53,
    "start_time": "2021-12-31T13:18:55.776Z"
   },
   {
    "duration": 32,
    "start_time": "2021-12-31T13:49:48.861Z"
   },
   {
    "duration": 72,
    "start_time": "2021-12-31T13:49:48.895Z"
   },
   {
    "duration": 16,
    "start_time": "2021-12-31T13:49:48.970Z"
   },
   {
    "duration": 70,
    "start_time": "2021-12-31T13:49:48.989Z"
   },
   {
    "duration": 45,
    "start_time": "2021-12-31T13:49:49.062Z"
   },
   {
    "duration": 19,
    "start_time": "2021-12-31T13:49:49.109Z"
   },
   {
    "duration": 12,
    "start_time": "2021-12-31T13:49:49.131Z"
   },
   {
    "duration": 16,
    "start_time": "2021-12-31T13:49:49.147Z"
   },
   {
    "duration": 7,
    "start_time": "2021-12-31T13:49:49.166Z"
   },
   {
    "duration": 50,
    "start_time": "2021-12-31T13:49:49.175Z"
   },
   {
    "duration": 30,
    "start_time": "2021-12-31T13:49:49.228Z"
   },
   {
    "duration": 7,
    "start_time": "2021-12-31T13:49:49.261Z"
   },
   {
    "duration": 8,
    "start_time": "2021-12-31T13:49:49.271Z"
   },
   {
    "duration": 59,
    "start_time": "2021-12-31T13:49:49.281Z"
   },
   {
    "duration": 11,
    "start_time": "2021-12-31T13:49:49.343Z"
   },
   {
    "duration": 12,
    "start_time": "2021-12-31T13:49:49.357Z"
   },
   {
    "duration": 11,
    "start_time": "2021-12-31T13:49:49.372Z"
   },
   {
    "duration": 40,
    "start_time": "2021-12-31T13:49:49.386Z"
   },
   {
    "duration": 4945,
    "start_time": "2021-12-31T13:49:49.429Z"
   },
   {
    "duration": 10,
    "start_time": "2021-12-31T13:49:54.376Z"
   },
   {
    "duration": 7,
    "start_time": "2021-12-31T13:49:54.388Z"
   },
   {
    "duration": 32,
    "start_time": "2021-12-31T13:49:54.397Z"
   },
   {
    "duration": 25,
    "start_time": "2021-12-31T13:49:54.434Z"
   },
   {
    "duration": 10,
    "start_time": "2021-12-31T13:49:54.462Z"
   },
   {
    "duration": 65,
    "start_time": "2021-12-31T13:49:54.474Z"
   },
   {
    "duration": 26,
    "start_time": "2021-12-31T13:49:54.541Z"
   },
   {
    "duration": 25,
    "start_time": "2021-12-31T13:49:54.569Z"
   },
   {
    "duration": 52,
    "start_time": "2021-12-31T13:49:54.596Z"
   },
   {
    "duration": 353,
    "start_time": "2021-12-31T13:49:54.651Z"
   },
   {
    "duration": 4944,
    "start_time": "2021-12-31T13:50:43.829Z"
   },
   {
    "duration": 5522,
    "start_time": "2021-12-31T13:51:57.864Z"
   },
   {
    "duration": 5705,
    "start_time": "2021-12-31T13:52:46.740Z"
   },
   {
    "duration": 5193,
    "start_time": "2021-12-31T13:53:58.832Z"
   },
   {
    "duration": 608,
    "start_time": "2022-01-01T08:06:47.537Z"
   },
   {
    "duration": 56,
    "start_time": "2022-01-01T08:06:48.147Z"
   },
   {
    "duration": 15,
    "start_time": "2022-01-01T08:06:48.205Z"
   },
   {
    "duration": 30,
    "start_time": "2022-01-01T08:06:48.221Z"
   },
   {
    "duration": 26,
    "start_time": "2022-01-01T08:06:48.252Z"
   },
   {
    "duration": 4,
    "start_time": "2022-01-01T08:06:48.280Z"
   },
   {
    "duration": 8,
    "start_time": "2022-01-01T08:06:48.285Z"
   },
   {
    "duration": 12,
    "start_time": "2022-01-01T08:06:48.295Z"
   },
   {
    "duration": 21,
    "start_time": "2022-01-01T08:06:48.309Z"
   },
   {
    "duration": 6,
    "start_time": "2022-01-01T08:06:48.332Z"
   },
   {
    "duration": 16,
    "start_time": "2022-01-01T08:06:48.339Z"
   },
   {
    "duration": 5,
    "start_time": "2022-01-01T08:06:48.356Z"
   },
   {
    "duration": 5,
    "start_time": "2022-01-01T08:06:48.362Z"
   },
   {
    "duration": 18,
    "start_time": "2022-01-01T08:06:48.369Z"
   },
   {
    "duration": 4,
    "start_time": "2022-01-01T08:06:48.388Z"
   },
   {
    "duration": 36,
    "start_time": "2022-01-01T08:06:48.394Z"
   },
   {
    "duration": 6,
    "start_time": "2022-01-01T08:06:48.431Z"
   },
   {
    "duration": 5,
    "start_time": "2022-01-01T08:06:48.438Z"
   },
   {
    "duration": 3583,
    "start_time": "2022-01-01T08:06:48.445Z"
   },
   {
    "duration": 6,
    "start_time": "2022-01-01T08:06:52.029Z"
   },
   {
    "duration": 5,
    "start_time": "2022-01-01T08:06:52.037Z"
   },
   {
    "duration": 7,
    "start_time": "2022-01-01T08:06:52.044Z"
   },
   {
    "duration": 7,
    "start_time": "2022-01-01T08:06:52.053Z"
   },
   {
    "duration": 10,
    "start_time": "2022-01-01T08:06:52.062Z"
   },
   {
    "duration": 27,
    "start_time": "2022-01-01T08:06:52.073Z"
   },
   {
    "duration": 31,
    "start_time": "2022-01-01T08:06:52.101Z"
   },
   {
    "duration": 14,
    "start_time": "2022-01-01T08:06:52.134Z"
   },
   {
    "duration": 13,
    "start_time": "2022-01-01T08:06:52.149Z"
   },
   {
    "duration": 6,
    "start_time": "2022-01-01T08:16:43.528Z"
   },
   {
    "duration": 10,
    "start_time": "2022-01-01T08:29:10.011Z"
   },
   {
    "duration": 25,
    "start_time": "2022-01-01T08:29:19.883Z"
   },
   {
    "duration": 54,
    "start_time": "2022-01-01T08:29:19.910Z"
   },
   {
    "duration": 9,
    "start_time": "2022-01-01T08:29:19.967Z"
   },
   {
    "duration": 10,
    "start_time": "2022-01-01T08:29:19.978Z"
   },
   {
    "duration": 38,
    "start_time": "2022-01-01T08:29:19.990Z"
   },
   {
    "duration": 30,
    "start_time": "2022-01-01T08:29:20.030Z"
   },
   {
    "duration": 27,
    "start_time": "2022-01-01T08:29:20.062Z"
   },
   {
    "duration": 7,
    "start_time": "2022-01-01T08:29:20.090Z"
   },
   {
    "duration": 3,
    "start_time": "2022-01-01T08:29:20.100Z"
   },
   {
    "duration": 4,
    "start_time": "2022-01-01T08:29:20.127Z"
   },
   {
    "duration": 7,
    "start_time": "2022-01-01T08:29:20.133Z"
   },
   {
    "duration": 9,
    "start_time": "2022-01-01T08:29:20.142Z"
   },
   {
    "duration": 6,
    "start_time": "2022-01-01T08:29:20.153Z"
   },
   {
    "duration": 5,
    "start_time": "2022-01-01T08:29:20.160Z"
   },
   {
    "duration": 17,
    "start_time": "2022-01-01T08:29:20.167Z"
   },
   {
    "duration": 5,
    "start_time": "2022-01-01T08:29:20.185Z"
   },
   {
    "duration": 5,
    "start_time": "2022-01-01T08:29:20.227Z"
   },
   {
    "duration": 16,
    "start_time": "2022-01-01T08:29:20.234Z"
   },
   {
    "duration": 6,
    "start_time": "2022-01-01T08:29:20.251Z"
   },
   {
    "duration": 7,
    "start_time": "2022-01-01T08:29:20.258Z"
   },
   {
    "duration": 5,
    "start_time": "2022-01-01T08:29:20.267Z"
   },
   {
    "duration": 6,
    "start_time": "2022-01-01T08:29:20.274Z"
   },
   {
    "duration": 3292,
    "start_time": "2022-01-01T08:29:20.281Z"
   },
   {
    "duration": 6,
    "start_time": "2022-01-01T08:29:23.575Z"
   },
   {
    "duration": 18,
    "start_time": "2022-01-01T08:29:23.582Z"
   },
   {
    "duration": 13,
    "start_time": "2022-01-01T08:29:23.601Z"
   },
   {
    "duration": 31,
    "start_time": "2022-01-01T08:29:23.616Z"
   },
   {
    "duration": 17,
    "start_time": "2022-01-01T08:29:23.648Z"
   },
   {
    "duration": 39,
    "start_time": "2022-01-01T08:29:23.666Z"
   },
   {
    "duration": 16,
    "start_time": "2022-01-01T08:29:23.706Z"
   },
   {
    "duration": 22,
    "start_time": "2022-01-01T08:29:23.723Z"
   },
   {
    "duration": 18,
    "start_time": "2022-01-01T08:29:23.746Z"
   },
   {
    "duration": 383,
    "start_time": "2022-01-01T08:59:29.705Z"
   },
   {
    "duration": 3611,
    "start_time": "2022-01-01T08:59:51.065Z"
   },
   {
    "duration": 3106,
    "start_time": "2022-01-01T09:00:37.668Z"
   },
   {
    "duration": 25,
    "start_time": "2022-01-01T09:05:29.734Z"
   },
   {
    "duration": 59,
    "start_time": "2022-01-01T09:05:29.761Z"
   },
   {
    "duration": 14,
    "start_time": "2022-01-01T09:05:29.822Z"
   },
   {
    "duration": 11,
    "start_time": "2022-01-01T09:05:29.838Z"
   },
   {
    "duration": 29,
    "start_time": "2022-01-01T09:05:29.850Z"
   },
   {
    "duration": 55,
    "start_time": "2022-01-01T09:05:29.881Z"
   },
   {
    "duration": 7,
    "start_time": "2022-01-01T09:05:29.937Z"
   },
   {
    "duration": 6,
    "start_time": "2022-01-01T09:05:29.945Z"
   },
   {
    "duration": 5,
    "start_time": "2022-01-01T09:05:29.954Z"
   },
   {
    "duration": 6,
    "start_time": "2022-01-01T09:05:29.961Z"
   },
   {
    "duration": 9,
    "start_time": "2022-01-01T09:05:29.969Z"
   },
   {
    "duration": 5,
    "start_time": "2022-01-01T09:05:29.980Z"
   },
   {
    "duration": 43,
    "start_time": "2022-01-01T09:05:29.987Z"
   },
   {
    "duration": 15,
    "start_time": "2022-01-01T09:05:30.032Z"
   },
   {
    "duration": 5,
    "start_time": "2022-01-01T09:05:30.048Z"
   },
   {
    "duration": 10,
    "start_time": "2022-01-01T09:05:30.054Z"
   },
   {
    "duration": 22,
    "start_time": "2022-01-01T09:05:30.065Z"
   },
   {
    "duration": 11,
    "start_time": "2022-01-01T09:05:30.088Z"
   },
   {
    "duration": 9,
    "start_time": "2022-01-01T09:05:30.100Z"
   },
   {
    "duration": 18,
    "start_time": "2022-01-01T09:05:30.110Z"
   },
   {
    "duration": 16,
    "start_time": "2022-01-01T09:05:30.130Z"
   },
   {
    "duration": 3188,
    "start_time": "2022-01-01T09:05:30.148Z"
   },
   {
    "duration": 8,
    "start_time": "2022-01-01T09:05:33.337Z"
   },
   {
    "duration": 5,
    "start_time": "2022-01-01T09:05:33.346Z"
   },
   {
    "duration": 8,
    "start_time": "2022-01-01T09:05:33.352Z"
   },
   {
    "duration": 9,
    "start_time": "2022-01-01T09:05:33.361Z"
   },
   {
    "duration": 6,
    "start_time": "2022-01-01T09:05:33.373Z"
   },
   {
    "duration": 47,
    "start_time": "2022-01-01T09:05:33.381Z"
   },
   {
    "duration": 15,
    "start_time": "2022-01-01T09:05:33.429Z"
   },
   {
    "duration": 14,
    "start_time": "2022-01-01T09:05:33.445Z"
   },
   {
    "duration": 13,
    "start_time": "2022-01-01T09:05:33.460Z"
   },
   {
    "duration": 2672,
    "start_time": "2022-01-01T09:09:18.542Z"
   },
   {
    "duration": 7,
    "start_time": "2022-01-01T09:09:29.875Z"
   },
   {
    "duration": 3,
    "start_time": "2022-01-01T09:11:02.731Z"
   },
   {
    "duration": 24,
    "start_time": "2022-01-01T09:11:06.442Z"
   },
   {
    "duration": 52,
    "start_time": "2022-01-01T09:11:06.468Z"
   },
   {
    "duration": 8,
    "start_time": "2022-01-01T09:11:06.521Z"
   },
   {
    "duration": 12,
    "start_time": "2022-01-01T09:11:06.530Z"
   },
   {
    "duration": 30,
    "start_time": "2022-01-01T09:11:06.543Z"
   },
   {
    "duration": 25,
    "start_time": "2022-01-01T09:11:06.575Z"
   },
   {
    "duration": 5,
    "start_time": "2022-01-01T09:11:06.602Z"
   },
   {
    "duration": 19,
    "start_time": "2022-01-01T09:11:06.608Z"
   },
   {
    "duration": 9,
    "start_time": "2022-01-01T09:11:06.629Z"
   },
   {
    "duration": 9,
    "start_time": "2022-01-01T09:11:06.639Z"
   },
   {
    "duration": 13,
    "start_time": "2022-01-01T09:11:06.649Z"
   },
   {
    "duration": 8,
    "start_time": "2022-01-01T09:11:06.663Z"
   },
   {
    "duration": 9,
    "start_time": "2022-01-01T09:11:06.673Z"
   },
   {
    "duration": 16,
    "start_time": "2022-01-01T09:11:06.683Z"
   },
   {
    "duration": 4,
    "start_time": "2022-01-01T09:11:06.700Z"
   },
   {
    "duration": 22,
    "start_time": "2022-01-01T09:11:06.706Z"
   },
   {
    "duration": 14,
    "start_time": "2022-01-01T09:11:06.729Z"
   },
   {
    "duration": 8,
    "start_time": "2022-01-01T09:11:06.744Z"
   },
   {
    "duration": 12,
    "start_time": "2022-01-01T09:11:06.753Z"
   },
   {
    "duration": 6,
    "start_time": "2022-01-01T09:11:06.767Z"
   },
   {
    "duration": 12,
    "start_time": "2022-01-01T09:11:06.774Z"
   },
   {
    "duration": 3260,
    "start_time": "2022-01-01T09:11:06.787Z"
   },
   {
    "duration": 6,
    "start_time": "2022-01-01T09:11:10.049Z"
   },
   {
    "duration": 5,
    "start_time": "2022-01-01T09:11:10.056Z"
   },
   {
    "duration": 5,
    "start_time": "2022-01-01T09:11:10.064Z"
   },
   {
    "duration": 12,
    "start_time": "2022-01-01T09:11:10.071Z"
   },
   {
    "duration": 8,
    "start_time": "2022-01-01T09:11:10.085Z"
   },
   {
    "duration": 41,
    "start_time": "2022-01-01T09:11:10.094Z"
   },
   {
    "duration": 14,
    "start_time": "2022-01-01T09:11:10.136Z"
   },
   {
    "duration": 14,
    "start_time": "2022-01-01T09:11:10.152Z"
   },
   {
    "duration": 14,
    "start_time": "2022-01-01T09:11:10.167Z"
   },
   {
    "duration": 18,
    "start_time": "2022-01-01T09:12:49.990Z"
   },
   {
    "duration": 6,
    "start_time": "2022-01-01T09:13:39.386Z"
   },
   {
    "duration": 6,
    "start_time": "2022-01-01T09:17:13.201Z"
   },
   {
    "duration": 16,
    "start_time": "2022-01-01T09:19:28.541Z"
   },
   {
    "duration": 24,
    "start_time": "2022-01-01T09:19:35.692Z"
   },
   {
    "duration": 53,
    "start_time": "2022-01-01T09:19:35.718Z"
   },
   {
    "duration": 8,
    "start_time": "2022-01-01T09:19:35.772Z"
   },
   {
    "duration": 10,
    "start_time": "2022-01-01T09:19:35.782Z"
   },
   {
    "duration": 44,
    "start_time": "2022-01-01T09:19:35.793Z"
   },
   {
    "duration": 26,
    "start_time": "2022-01-01T09:19:35.838Z"
   },
   {
    "duration": 5,
    "start_time": "2022-01-01T09:19:35.865Z"
   },
   {
    "duration": 5,
    "start_time": "2022-01-01T09:19:35.872Z"
   },
   {
    "duration": 5,
    "start_time": "2022-01-01T09:19:35.879Z"
   },
   {
    "duration": 11,
    "start_time": "2022-01-01T09:19:35.885Z"
   },
   {
    "duration": 10,
    "start_time": "2022-01-01T09:19:35.898Z"
   },
   {
    "duration": 21,
    "start_time": "2022-01-01T09:19:35.910Z"
   },
   {
    "duration": 6,
    "start_time": "2022-01-01T09:19:35.932Z"
   },
   {
    "duration": 19,
    "start_time": "2022-01-01T09:19:35.939Z"
   },
   {
    "duration": 4,
    "start_time": "2022-01-01T09:19:35.959Z"
   },
   {
    "duration": 14,
    "start_time": "2022-01-01T09:19:35.964Z"
   },
   {
    "duration": 4,
    "start_time": "2022-01-01T09:19:35.979Z"
   },
   {
    "duration": 14,
    "start_time": "2022-01-01T09:19:35.984Z"
   },
   {
    "duration": 5,
    "start_time": "2022-01-01T09:19:36.027Z"
   },
   {
    "duration": 7,
    "start_time": "2022-01-01T09:19:36.033Z"
   },
   {
    "duration": 5,
    "start_time": "2022-01-01T09:19:36.042Z"
   },
   {
    "duration": 13,
    "start_time": "2022-01-01T09:19:36.048Z"
   },
   {
    "duration": 4,
    "start_time": "2022-01-01T09:19:36.063Z"
   },
   {
    "duration": 3124,
    "start_time": "2022-01-01T09:19:36.068Z"
   },
   {
    "duration": 7,
    "start_time": "2022-01-01T09:19:39.193Z"
   },
   {
    "duration": 4,
    "start_time": "2022-01-01T09:19:39.201Z"
   },
   {
    "duration": 23,
    "start_time": "2022-01-01T09:19:39.207Z"
   },
   {
    "duration": 8,
    "start_time": "2022-01-01T09:19:39.232Z"
   },
   {
    "duration": 10,
    "start_time": "2022-01-01T09:19:39.242Z"
   },
   {
    "duration": 24,
    "start_time": "2022-01-01T09:19:39.253Z"
   },
   {
    "duration": 15,
    "start_time": "2022-01-01T09:19:39.278Z"
   },
   {
    "duration": 34,
    "start_time": "2022-01-01T09:19:39.295Z"
   },
   {
    "duration": 14,
    "start_time": "2022-01-01T09:19:39.330Z"
   },
   {
    "duration": 26,
    "start_time": "2022-01-01T10:07:46.047Z"
   },
   {
    "duration": 5,
    "start_time": "2022-01-01T10:08:35.773Z"
   },
   {
    "duration": 5,
    "start_time": "2022-01-01T10:11:47.355Z"
   },
   {
    "duration": 16,
    "start_time": "2022-01-01T10:28:34.356Z"
   },
   {
    "duration": 29,
    "start_time": "2022-01-01T10:31:14.191Z"
   },
   {
    "duration": 25,
    "start_time": "2022-01-01T10:31:18.648Z"
   },
   {
    "duration": 52,
    "start_time": "2022-01-01T10:31:18.675Z"
   },
   {
    "duration": 8,
    "start_time": "2022-01-01T10:31:18.729Z"
   },
   {
    "duration": 16,
    "start_time": "2022-01-01T10:31:18.738Z"
   },
   {
    "duration": 29,
    "start_time": "2022-01-01T10:31:18.755Z"
   },
   {
    "duration": 5,
    "start_time": "2022-01-01T10:31:18.785Z"
   },
   {
    "duration": 7,
    "start_time": "2022-01-01T10:31:18.792Z"
   },
   {
    "duration": 28,
    "start_time": "2022-01-01T10:31:18.800Z"
   },
   {
    "duration": 9,
    "start_time": "2022-01-01T10:31:18.831Z"
   },
   {
    "duration": 7,
    "start_time": "2022-01-01T10:31:18.842Z"
   },
   {
    "duration": 13,
    "start_time": "2022-01-01T10:31:18.850Z"
   },
   {
    "duration": 25,
    "start_time": "2022-01-01T10:31:18.864Z"
   },
   {
    "duration": 6,
    "start_time": "2022-01-01T10:31:18.890Z"
   },
   {
    "duration": 15,
    "start_time": "2022-01-01T10:31:18.898Z"
   },
   {
    "duration": 14,
    "start_time": "2022-01-01T10:31:18.927Z"
   },
   {
    "duration": 4,
    "start_time": "2022-01-01T10:31:18.943Z"
   },
   {
    "duration": 5,
    "start_time": "2022-01-01T10:31:18.949Z"
   },
   {
    "duration": 15,
    "start_time": "2022-01-01T10:31:18.956Z"
   },
   {
    "duration": 9,
    "start_time": "2022-01-01T10:31:18.972Z"
   },
   {
    "duration": 6,
    "start_time": "2022-01-01T10:31:18.983Z"
   },
   {
    "duration": 5,
    "start_time": "2022-01-01T10:31:18.991Z"
   },
   {
    "duration": 41,
    "start_time": "2022-01-01T10:31:18.998Z"
   },
   {
    "duration": 21,
    "start_time": "2022-01-01T10:31:19.040Z"
   },
   {
    "duration": 5,
    "start_time": "2022-01-01T10:31:19.063Z"
   },
   {
    "duration": 3229,
    "start_time": "2022-01-01T10:31:19.069Z"
   },
   {
    "duration": 6,
    "start_time": "2022-01-01T10:31:22.300Z"
   },
   {
    "duration": 19,
    "start_time": "2022-01-01T10:31:22.309Z"
   },
   {
    "duration": 10,
    "start_time": "2022-01-01T10:31:22.329Z"
   },
   {
    "duration": 9,
    "start_time": "2022-01-01T10:31:22.341Z"
   },
   {
    "duration": 5,
    "start_time": "2022-01-01T10:31:22.351Z"
   },
   {
    "duration": 22,
    "start_time": "2022-01-01T10:31:22.358Z"
   },
   {
    "duration": 14,
    "start_time": "2022-01-01T10:31:22.381Z"
   },
   {
    "duration": 34,
    "start_time": "2022-01-01T10:31:22.396Z"
   },
   {
    "duration": 16,
    "start_time": "2022-01-01T10:31:22.431Z"
   },
   {
    "duration": 5,
    "start_time": "2022-01-01T10:49:30.953Z"
   },
   {
    "duration": 2743,
    "start_time": "2022-01-01T10:49:42.728Z"
   },
   {
    "duration": 354,
    "start_time": "2022-01-01T10:50:52.438Z"
   },
   {
    "duration": 314,
    "start_time": "2022-01-01T10:51:28.285Z"
   },
   {
    "duration": 4,
    "start_time": "2022-01-01T10:51:47.852Z"
   },
   {
    "duration": 3,
    "start_time": "2022-01-01T10:52:02.280Z"
   },
   {
    "duration": 2,
    "start_time": "2022-01-01T10:52:06.833Z"
   },
   {
    "duration": 3,
    "start_time": "2022-01-01T10:52:58.248Z"
   },
   {
    "duration": 2692,
    "start_time": "2022-01-01T10:53:03.764Z"
   },
   {
    "duration": 3,
    "start_time": "2022-01-01T10:53:06.458Z"
   },
   {
    "duration": 4,
    "start_time": "2022-01-01T10:53:33.784Z"
   },
   {
    "duration": 4,
    "start_time": "2022-01-01T10:54:17.976Z"
   },
   {
    "duration": 24,
    "start_time": "2022-01-01T10:56:55.499Z"
   },
   {
    "duration": 53,
    "start_time": "2022-01-01T10:56:55.525Z"
   },
   {
    "duration": 8,
    "start_time": "2022-01-01T10:56:55.579Z"
   },
   {
    "duration": 10,
    "start_time": "2022-01-01T10:56:55.588Z"
   },
   {
    "duration": 36,
    "start_time": "2022-01-01T10:56:55.599Z"
   },
   {
    "duration": 5,
    "start_time": "2022-01-01T10:56:55.636Z"
   },
   {
    "duration": 7,
    "start_time": "2022-01-01T10:56:55.642Z"
   },
   {
    "duration": 4,
    "start_time": "2022-01-01T10:56:55.650Z"
   },
   {
    "duration": 4,
    "start_time": "2022-01-01T10:56:55.657Z"
   },
   {
    "duration": 8,
    "start_time": "2022-01-01T10:56:55.663Z"
   },
   {
    "duration": 8,
    "start_time": "2022-01-01T10:56:55.673Z"
   },
   {
    "duration": 47,
    "start_time": "2022-01-01T10:56:55.683Z"
   },
   {
    "duration": 4,
    "start_time": "2022-01-01T10:56:55.731Z"
   },
   {
    "duration": 8,
    "start_time": "2022-01-01T10:56:55.736Z"
   },
   {
    "duration": 16,
    "start_time": "2022-01-01T10:56:55.745Z"
   },
   {
    "duration": 5,
    "start_time": "2022-01-01T10:56:55.762Z"
   },
   {
    "duration": 7,
    "start_time": "2022-01-01T10:56:55.768Z"
   },
   {
    "duration": 14,
    "start_time": "2022-01-01T10:56:55.777Z"
   },
   {
    "duration": 35,
    "start_time": "2022-01-01T10:56:55.792Z"
   },
   {
    "duration": 6,
    "start_time": "2022-01-01T10:56:55.828Z"
   },
   {
    "duration": 7,
    "start_time": "2022-01-01T10:56:55.835Z"
   },
   {
    "duration": 13,
    "start_time": "2022-01-01T10:56:55.843Z"
   },
   {
    "duration": 20,
    "start_time": "2022-01-01T10:56:55.858Z"
   },
   {
    "duration": 5,
    "start_time": "2022-01-01T10:56:55.879Z"
   },
   {
    "duration": 3389,
    "start_time": "2022-01-01T10:56:55.885Z"
   },
   {
    "duration": 5,
    "start_time": "2022-01-01T10:56:59.276Z"
   },
   {
    "duration": 9,
    "start_time": "2022-01-01T10:56:59.283Z"
   },
   {
    "duration": 7,
    "start_time": "2022-01-01T10:56:59.293Z"
   },
   {
    "duration": 3,
    "start_time": "2022-01-01T10:56:59.301Z"
   },
   {
    "duration": 23,
    "start_time": "2022-01-01T10:56:59.306Z"
   },
   {
    "duration": 10,
    "start_time": "2022-01-01T10:56:59.330Z"
   },
   {
    "duration": 6,
    "start_time": "2022-01-01T10:56:59.342Z"
   },
   {
    "duration": 19,
    "start_time": "2022-01-01T10:56:59.350Z"
   },
   {
    "duration": 14,
    "start_time": "2022-01-01T10:56:59.370Z"
   },
   {
    "duration": 14,
    "start_time": "2022-01-01T10:56:59.385Z"
   },
   {
    "duration": 39,
    "start_time": "2022-01-01T10:56:59.400Z"
   },
   {
    "duration": 25,
    "start_time": "2022-01-01T11:01:11.363Z"
   },
   {
    "duration": 4,
    "start_time": "2022-01-01T11:03:40.874Z"
   },
   {
    "duration": 4,
    "start_time": "2022-01-01T11:03:46.591Z"
   },
   {
    "duration": 7,
    "start_time": "2022-01-01T11:05:10.354Z"
   },
   {
    "duration": 7,
    "start_time": "2022-01-01T11:05:15.194Z"
   },
   {
    "duration": 23,
    "start_time": "2022-01-01T11:05:18.666Z"
   },
   {
    "duration": 53,
    "start_time": "2022-01-01T11:05:18.691Z"
   },
   {
    "duration": 7,
    "start_time": "2022-01-01T11:05:18.746Z"
   },
   {
    "duration": 10,
    "start_time": "2022-01-01T11:05:18.754Z"
   },
   {
    "duration": 30,
    "start_time": "2022-01-01T11:05:18.765Z"
   },
   {
    "duration": 4,
    "start_time": "2022-01-01T11:05:18.796Z"
   },
   {
    "duration": 29,
    "start_time": "2022-01-01T11:05:18.802Z"
   },
   {
    "duration": 4,
    "start_time": "2022-01-01T11:05:18.832Z"
   },
   {
    "duration": 3,
    "start_time": "2022-01-01T11:05:18.839Z"
   },
   {
    "duration": 9,
    "start_time": "2022-01-01T11:05:18.844Z"
   },
   {
    "duration": 9,
    "start_time": "2022-01-01T11:05:18.854Z"
   },
   {
    "duration": 26,
    "start_time": "2022-01-01T11:05:18.864Z"
   },
   {
    "duration": 4,
    "start_time": "2022-01-01T11:05:18.892Z"
   },
   {
    "duration": 30,
    "start_time": "2022-01-01T11:05:18.898Z"
   },
   {
    "duration": 14,
    "start_time": "2022-01-01T11:05:18.929Z"
   },
   {
    "duration": 11,
    "start_time": "2022-01-01T11:05:18.945Z"
   },
   {
    "duration": 14,
    "start_time": "2022-01-01T11:05:18.957Z"
   },
   {
    "duration": 18,
    "start_time": "2022-01-01T11:05:18.972Z"
   },
   {
    "duration": 15,
    "start_time": "2022-01-01T11:05:18.992Z"
   },
   {
    "duration": 9,
    "start_time": "2022-01-01T11:05:19.008Z"
   },
   {
    "duration": 15,
    "start_time": "2022-01-01T11:05:19.018Z"
   },
   {
    "duration": 25,
    "start_time": "2022-01-01T11:05:19.035Z"
   },
   {
    "duration": 20,
    "start_time": "2022-01-01T11:05:19.062Z"
   },
   {
    "duration": 5,
    "start_time": "2022-01-01T11:05:19.084Z"
   },
   {
    "duration": 3097,
    "start_time": "2022-01-01T11:05:19.091Z"
   },
   {
    "duration": 5,
    "start_time": "2022-01-01T11:05:22.189Z"
   },
   {
    "duration": 5,
    "start_time": "2022-01-01T11:05:22.197Z"
   },
   {
    "duration": 25,
    "start_time": "2022-01-01T11:05:22.203Z"
   },
   {
    "duration": 27,
    "start_time": "2022-01-01T11:05:22.229Z"
   },
   {
    "duration": 3,
    "start_time": "2022-01-01T11:05:22.257Z"
   },
   {
    "duration": 8,
    "start_time": "2022-01-01T11:05:22.261Z"
   },
   {
    "duration": 8,
    "start_time": "2022-01-01T11:05:22.271Z"
   },
   {
    "duration": 6,
    "start_time": "2022-01-01T11:05:22.281Z"
   },
   {
    "duration": 41,
    "start_time": "2022-01-01T11:05:22.289Z"
   },
   {
    "duration": 14,
    "start_time": "2022-01-01T11:05:22.331Z"
   },
   {
    "duration": 14,
    "start_time": "2022-01-01T11:05:22.347Z"
   },
   {
    "duration": 13,
    "start_time": "2022-01-01T11:05:22.362Z"
   },
   {
    "duration": 24,
    "start_time": "2022-01-01T11:23:15.650Z"
   },
   {
    "duration": 53,
    "start_time": "2022-01-01T11:23:15.675Z"
   },
   {
    "duration": 8,
    "start_time": "2022-01-01T11:23:15.730Z"
   },
   {
    "duration": 11,
    "start_time": "2022-01-01T11:23:15.739Z"
   },
   {
    "duration": 26,
    "start_time": "2022-01-01T11:23:15.751Z"
   },
   {
    "duration": 4,
    "start_time": "2022-01-01T11:23:15.779Z"
   },
   {
    "duration": 6,
    "start_time": "2022-01-01T11:23:15.785Z"
   },
   {
    "duration": 5,
    "start_time": "2022-01-01T11:23:16.087Z"
   },
   {
    "duration": 7,
    "start_time": "2022-01-01T11:23:16.093Z"
   },
   {
    "duration": 7,
    "start_time": "2022-01-01T11:23:16.101Z"
   },
   {
    "duration": 8,
    "start_time": "2022-01-01T11:23:16.109Z"
   },
   {
    "duration": 22,
    "start_time": "2022-01-01T11:23:16.119Z"
   },
   {
    "duration": 5,
    "start_time": "2022-01-01T11:23:16.142Z"
   },
   {
    "duration": 5,
    "start_time": "2022-01-01T11:23:16.148Z"
   },
   {
    "duration": 15,
    "start_time": "2022-01-01T11:23:16.154Z"
   },
   {
    "duration": 4,
    "start_time": "2022-01-01T11:23:16.171Z"
   },
   {
    "duration": 5,
    "start_time": "2022-01-01T11:23:16.177Z"
   },
   {
    "duration": 14,
    "start_time": "2022-01-01T11:23:16.183Z"
   },
   {
    "duration": 30,
    "start_time": "2022-01-01T11:23:16.198Z"
   },
   {
    "duration": 5,
    "start_time": "2022-01-01T11:23:16.230Z"
   },
   {
    "duration": 6,
    "start_time": "2022-01-01T11:23:16.237Z"
   },
   {
    "duration": 13,
    "start_time": "2022-01-01T11:23:16.244Z"
   },
   {
    "duration": 20,
    "start_time": "2022-01-01T11:23:16.259Z"
   },
   {
    "duration": 5,
    "start_time": "2022-01-01T11:23:16.280Z"
   },
   {
    "duration": 3278,
    "start_time": "2022-01-01T11:23:16.287Z"
   },
   {
    "duration": 4,
    "start_time": "2022-01-01T11:23:19.567Z"
   },
   {
    "duration": 8,
    "start_time": "2022-01-01T11:23:19.573Z"
   },
   {
    "duration": 8,
    "start_time": "2022-01-01T11:23:19.582Z"
   },
   {
    "duration": 43,
    "start_time": "2022-01-01T11:23:19.591Z"
   },
   {
    "duration": 2,
    "start_time": "2022-01-01T11:23:19.636Z"
   },
   {
    "duration": 8,
    "start_time": "2022-01-01T11:23:19.641Z"
   },
   {
    "duration": 9,
    "start_time": "2022-01-01T11:23:19.650Z"
   },
   {
    "duration": 8,
    "start_time": "2022-01-01T11:23:19.660Z"
   },
   {
    "duration": 19,
    "start_time": "2022-01-01T11:23:19.670Z"
   },
   {
    "duration": 46,
    "start_time": "2022-01-01T11:23:19.690Z"
   },
   {
    "duration": 14,
    "start_time": "2022-01-01T11:23:19.738Z"
   },
   {
    "duration": 14,
    "start_time": "2022-01-01T11:23:19.753Z"
   },
   {
    "duration": 341,
    "start_time": "2022-01-03T17:53:17.328Z"
   },
   {
    "duration": 732,
    "start_time": "2022-01-03T17:53:21.945Z"
   },
   {
    "duration": 82,
    "start_time": "2022-01-03T17:53:22.680Z"
   },
   {
    "duration": 22,
    "start_time": "2022-01-03T17:53:22.766Z"
   },
   {
    "duration": 38,
    "start_time": "2022-01-03T17:53:22.791Z"
   },
   {
    "duration": 46,
    "start_time": "2022-01-03T17:53:22.831Z"
   },
   {
    "duration": 7,
    "start_time": "2022-01-03T17:53:22.879Z"
   },
   {
    "duration": 36,
    "start_time": "2022-01-03T17:53:22.888Z"
   },
   {
    "duration": 5,
    "start_time": "2022-01-03T17:53:22.928Z"
   },
   {
    "duration": 7,
    "start_time": "2022-01-03T17:53:22.936Z"
   },
   {
    "duration": 11,
    "start_time": "2022-01-03T17:53:22.945Z"
   },
   {
    "duration": 14,
    "start_time": "2022-01-03T17:53:22.958Z"
   },
   {
    "duration": 77,
    "start_time": "2022-01-03T17:53:22.974Z"
   },
   {
    "duration": 7,
    "start_time": "2022-01-03T17:53:23.053Z"
   },
   {
    "duration": 10,
    "start_time": "2022-01-03T17:53:23.062Z"
   },
   {
    "duration": 59,
    "start_time": "2022-01-03T17:53:23.074Z"
   },
   {
    "duration": 7,
    "start_time": "2022-01-03T17:53:23.135Z"
   },
   {
    "duration": 8,
    "start_time": "2022-01-03T17:53:23.144Z"
   },
   {
    "duration": 24,
    "start_time": "2022-01-03T17:53:23.154Z"
   },
   {
    "duration": 38,
    "start_time": "2022-01-03T17:53:23.180Z"
   },
   {
    "duration": 9,
    "start_time": "2022-01-03T17:53:23.221Z"
   },
   {
    "duration": 8,
    "start_time": "2022-01-03T17:53:23.232Z"
   },
   {
    "duration": 21,
    "start_time": "2022-01-03T17:53:23.242Z"
   },
   {
    "duration": 75,
    "start_time": "2022-01-03T17:53:23.268Z"
   },
   {
    "duration": 8,
    "start_time": "2022-01-03T17:53:23.345Z"
   },
   {
    "duration": 4432,
    "start_time": "2022-01-03T17:53:23.355Z"
   },
   {
    "duration": 7,
    "start_time": "2022-01-03T17:53:27.790Z"
   },
   {
    "duration": 24,
    "start_time": "2022-01-03T17:53:27.799Z"
   },
   {
    "duration": 10,
    "start_time": "2022-01-03T17:53:27.826Z"
   },
   {
    "duration": 47,
    "start_time": "2022-01-03T17:53:27.839Z"
   },
   {
    "duration": 5,
    "start_time": "2022-01-03T17:53:27.918Z"
   },
   {
    "duration": 11,
    "start_time": "2022-01-03T17:53:27.925Z"
   },
   {
    "duration": 15,
    "start_time": "2022-01-03T17:53:27.939Z"
   },
   {
    "duration": 10,
    "start_time": "2022-01-03T17:53:27.956Z"
   },
   {
    "duration": 75,
    "start_time": "2022-01-03T17:53:27.969Z"
   },
   {
    "duration": 25,
    "start_time": "2022-01-03T17:53:28.047Z"
   },
   {
    "duration": 46,
    "start_time": "2022-01-03T17:53:28.075Z"
   },
   {
    "duration": 32,
    "start_time": "2022-01-03T17:53:28.123Z"
   },
   {
    "duration": 770,
    "start_time": "2022-01-04T06:48:32.093Z"
   },
   {
    "duration": 73,
    "start_time": "2022-01-04T06:48:32.865Z"
   },
   {
    "duration": 19,
    "start_time": "2022-01-04T06:48:32.941Z"
   },
   {
    "duration": 22,
    "start_time": "2022-01-04T06:48:32.963Z"
   },
   {
    "duration": 71,
    "start_time": "2022-01-04T06:48:32.988Z"
   },
   {
    "duration": 8,
    "start_time": "2022-01-04T06:48:33.061Z"
   },
   {
    "duration": 10,
    "start_time": "2022-01-04T06:48:33.071Z"
   },
   {
    "duration": 36,
    "start_time": "2022-01-04T06:48:33.083Z"
   },
   {
    "duration": 6,
    "start_time": "2022-01-04T06:48:33.123Z"
   },
   {
    "duration": 12,
    "start_time": "2022-01-04T06:48:33.132Z"
   },
   {
    "duration": 13,
    "start_time": "2022-01-04T06:48:33.147Z"
   },
   {
    "duration": 84,
    "start_time": "2022-01-04T06:48:33.163Z"
   },
   {
    "duration": 7,
    "start_time": "2022-01-04T06:48:33.250Z"
   },
   {
    "duration": 10,
    "start_time": "2022-01-04T06:48:33.259Z"
   },
   {
    "duration": 51,
    "start_time": "2022-01-04T06:48:33.271Z"
   },
   {
    "duration": 7,
    "start_time": "2022-01-04T06:48:33.324Z"
   },
   {
    "duration": 7,
    "start_time": "2022-01-04T06:48:33.334Z"
   },
   {
    "duration": 23,
    "start_time": "2022-01-04T06:48:33.343Z"
   },
   {
    "duration": 14,
    "start_time": "2022-01-04T06:48:33.367Z"
   },
   {
    "duration": 43,
    "start_time": "2022-01-04T06:48:33.383Z"
   },
   {
    "duration": 8,
    "start_time": "2022-01-04T06:48:33.429Z"
   },
   {
    "duration": 22,
    "start_time": "2022-01-04T06:48:33.439Z"
   },
   {
    "duration": 67,
    "start_time": "2022-01-04T06:48:33.463Z"
   },
   {
    "duration": 6,
    "start_time": "2022-01-04T06:48:33.532Z"
   },
   {
    "duration": 4349,
    "start_time": "2022-01-04T06:48:33.540Z"
   },
   {
    "duration": 26,
    "start_time": "2022-01-04T06:48:37.892Z"
   },
   {
    "duration": 7,
    "start_time": "2022-01-04T06:48:37.923Z"
   },
   {
    "duration": 12,
    "start_time": "2022-01-04T06:48:37.933Z"
   },
   {
    "duration": 80,
    "start_time": "2022-01-04T06:48:37.948Z"
   },
   {
    "duration": 5,
    "start_time": "2022-01-04T06:48:38.030Z"
   },
   {
    "duration": 16,
    "start_time": "2022-01-04T06:48:38.037Z"
   },
   {
    "duration": 14,
    "start_time": "2022-01-04T06:48:38.056Z"
   },
   {
    "duration": 10,
    "start_time": "2022-01-04T06:48:38.073Z"
   },
   {
    "duration": 37,
    "start_time": "2022-01-04T06:48:38.117Z"
   },
   {
    "duration": 26,
    "start_time": "2022-01-04T06:48:38.156Z"
   },
   {
    "duration": 50,
    "start_time": "2022-01-04T06:48:38.185Z"
   },
   {
    "duration": 26,
    "start_time": "2022-01-04T06:48:38.238Z"
   },
   {
    "duration": 27,
    "start_time": "2022-01-04T07:04:34.713Z"
   },
   {
    "duration": 92,
    "start_time": "2022-01-04T07:04:34.742Z"
   },
   {
    "duration": 12,
    "start_time": "2022-01-04T07:04:34.837Z"
   },
   {
    "duration": 19,
    "start_time": "2022-01-04T07:04:34.852Z"
   },
   {
    "duration": 76,
    "start_time": "2022-01-04T07:04:34.873Z"
   },
   {
    "duration": 7,
    "start_time": "2022-01-04T07:04:34.952Z"
   },
   {
    "duration": 10,
    "start_time": "2022-01-04T07:04:34.961Z"
   },
   {
    "duration": 10,
    "start_time": "2022-01-04T07:04:34.974Z"
   },
   {
    "duration": 35,
    "start_time": "2022-01-04T07:04:34.987Z"
   },
   {
    "duration": 13,
    "start_time": "2022-01-04T07:04:35.025Z"
   },
   {
    "duration": 15,
    "start_time": "2022-01-04T07:04:35.040Z"
   },
   {
    "duration": 68,
    "start_time": "2022-01-04T07:04:35.058Z"
   },
   {
    "duration": 7,
    "start_time": "2022-01-04T07:04:35.128Z"
   },
   {
    "duration": 7,
    "start_time": "2022-01-04T07:04:35.137Z"
   },
   {
    "duration": 27,
    "start_time": "2022-01-04T07:04:35.146Z"
   },
   {
    "duration": 42,
    "start_time": "2022-01-04T07:04:35.175Z"
   },
   {
    "duration": 7,
    "start_time": "2022-01-04T07:04:35.220Z"
   },
   {
    "duration": 24,
    "start_time": "2022-01-04T07:04:35.231Z"
   },
   {
    "duration": 10,
    "start_time": "2022-01-04T07:04:35.258Z"
   },
   {
    "duration": 55,
    "start_time": "2022-01-04T07:04:35.270Z"
   },
   {
    "duration": 11,
    "start_time": "2022-01-04T07:04:35.328Z"
   },
   {
    "duration": 25,
    "start_time": "2022-01-04T07:04:35.342Z"
   },
   {
    "duration": 74,
    "start_time": "2022-01-04T07:04:35.370Z"
   },
   {
    "duration": 12,
    "start_time": "2022-01-04T07:04:35.447Z"
   },
   {
    "duration": 4356,
    "start_time": "2022-01-04T07:04:35.461Z"
   },
   {
    "duration": 7,
    "start_time": "2022-01-04T07:04:39.820Z"
   },
   {
    "duration": 7,
    "start_time": "2022-01-04T07:04:39.832Z"
   },
   {
    "duration": 11,
    "start_time": "2022-01-04T07:04:39.842Z"
   },
   {
    "duration": 82,
    "start_time": "2022-01-04T07:04:39.856Z"
   },
   {
    "duration": 5,
    "start_time": "2022-01-04T07:04:39.941Z"
   },
   {
    "duration": 12,
    "start_time": "2022-01-04T07:04:39.949Z"
   },
   {
    "duration": 15,
    "start_time": "2022-01-04T07:04:39.963Z"
   },
   {
    "duration": 38,
    "start_time": "2022-01-04T07:04:39.980Z"
   },
   {
    "duration": 31,
    "start_time": "2022-01-04T07:04:40.021Z"
   },
   {
    "duration": 27,
    "start_time": "2022-01-04T07:04:40.054Z"
   },
   {
    "duration": 55,
    "start_time": "2022-01-04T07:04:40.083Z"
   },
   {
    "duration": 24,
    "start_time": "2022-01-04T07:04:40.141Z"
   },
   {
    "duration": 29,
    "start_time": "2022-01-04T07:05:21.824Z"
   },
   {
    "duration": 8,
    "start_time": "2022-01-04T07:11:21.724Z"
   },
   {
    "duration": 3,
    "start_time": "2022-01-04T07:25:51.886Z"
   },
   {
    "duration": 77,
    "start_time": "2022-01-04T07:25:51.892Z"
   },
   {
    "duration": 12,
    "start_time": "2022-01-04T07:25:51.972Z"
   },
   {
    "duration": 21,
    "start_time": "2022-01-04T07:25:51.987Z"
   },
   {
    "duration": 56,
    "start_time": "2022-01-04T07:25:52.010Z"
   },
   {
    "duration": 9,
    "start_time": "2022-01-04T07:25:52.068Z"
   },
   {
    "duration": 11,
    "start_time": "2022-01-04T07:25:52.079Z"
   },
   {
    "duration": 12,
    "start_time": "2022-01-04T07:25:52.092Z"
   },
   {
    "duration": 10,
    "start_time": "2022-01-04T07:25:52.108Z"
   },
   {
    "duration": 12,
    "start_time": "2022-01-04T07:25:52.121Z"
   },
   {
    "duration": 15,
    "start_time": "2022-01-04T07:25:52.135Z"
   },
   {
    "duration": 41,
    "start_time": "2022-01-04T07:25:52.152Z"
   },
   {
    "duration": 7,
    "start_time": "2022-01-04T07:25:52.195Z"
   },
   {
    "duration": 19,
    "start_time": "2022-01-04T07:25:52.204Z"
   },
   {
    "duration": 28,
    "start_time": "2022-01-04T07:25:52.226Z"
   },
   {
    "duration": 8,
    "start_time": "2022-01-04T07:25:52.256Z"
   },
   {
    "duration": 14,
    "start_time": "2022-01-04T07:25:52.266Z"
   },
   {
    "duration": 22,
    "start_time": "2022-01-04T07:25:52.282Z"
   },
   {
    "duration": 13,
    "start_time": "2022-01-04T07:25:52.306Z"
   },
   {
    "duration": 10,
    "start_time": "2022-01-04T07:25:52.321Z"
   },
   {
    "duration": 9,
    "start_time": "2022-01-04T07:25:52.333Z"
   },
   {
    "duration": 24,
    "start_time": "2022-01-04T07:25:52.344Z"
   },
   {
    "duration": 35,
    "start_time": "2022-01-04T07:25:52.371Z"
   },
   {
    "duration": 13,
    "start_time": "2022-01-04T07:25:52.408Z"
   },
   {
    "duration": 4712,
    "start_time": "2022-01-04T07:25:52.424Z"
   },
   {
    "duration": 7,
    "start_time": "2022-01-04T07:25:57.139Z"
   },
   {
    "duration": 19,
    "start_time": "2022-01-04T07:25:57.151Z"
   },
   {
    "duration": 25,
    "start_time": "2022-01-04T07:25:57.173Z"
   },
   {
    "duration": 59,
    "start_time": "2022-01-04T07:25:57.200Z"
   },
   {
    "duration": 5,
    "start_time": "2022-01-04T07:25:57.261Z"
   },
   {
    "duration": 45,
    "start_time": "2022-01-04T07:25:57.269Z"
   },
   {
    "duration": 17,
    "start_time": "2022-01-04T07:25:57.317Z"
   },
   {
    "duration": 12,
    "start_time": "2022-01-04T07:25:57.337Z"
   },
   {
    "duration": 33,
    "start_time": "2022-01-04T07:25:57.351Z"
   },
   {
    "duration": 53,
    "start_time": "2022-01-04T07:25:57.386Z"
   },
   {
    "duration": 27,
    "start_time": "2022-01-04T07:25:57.441Z"
   },
   {
    "duration": 51,
    "start_time": "2022-01-04T07:25:57.470Z"
   },
   {
    "duration": 11,
    "start_time": "2022-01-04T07:35:19.729Z"
   },
   {
    "duration": 16,
    "start_time": "2022-01-04T07:43:10.755Z"
   },
   {
    "duration": 403,
    "start_time": "2022-01-04T07:45:20.454Z"
   },
   {
    "duration": 7,
    "start_time": "2022-01-04T07:45:30.264Z"
   },
   {
    "duration": 7,
    "start_time": "2022-01-04T07:45:46.772Z"
   },
   {
    "duration": 3497,
    "start_time": "2022-01-04T07:53:41.184Z"
   },
   {
    "duration": 27,
    "start_time": "2022-01-04T08:08:24.788Z"
   },
   {
    "duration": 73,
    "start_time": "2022-01-04T08:08:24.818Z"
   },
   {
    "duration": 11,
    "start_time": "2022-01-04T08:08:24.894Z"
   },
   {
    "duration": 19,
    "start_time": "2022-01-04T08:08:24.917Z"
   },
   {
    "duration": 46,
    "start_time": "2022-01-04T08:08:25.055Z"
   },
   {
    "duration": 7,
    "start_time": "2022-01-04T08:08:25.104Z"
   },
   {
    "duration": 13,
    "start_time": "2022-01-04T08:08:25.114Z"
   },
   {
    "duration": 5,
    "start_time": "2022-01-04T08:08:25.130Z"
   },
   {
    "duration": 7,
    "start_time": "2022-01-04T08:08:25.137Z"
   },
   {
    "duration": 11,
    "start_time": "2022-01-04T08:08:25.147Z"
   },
   {
    "duration": 10,
    "start_time": "2022-01-04T08:08:25.160Z"
   },
   {
    "duration": 45,
    "start_time": "2022-01-04T08:08:25.172Z"
   },
   {
    "duration": 42,
    "start_time": "2022-01-04T08:08:25.221Z"
   },
   {
    "duration": 7,
    "start_time": "2022-01-04T08:08:25.266Z"
   },
   {
    "duration": 8,
    "start_time": "2022-01-04T08:08:25.275Z"
   },
   {
    "duration": 24,
    "start_time": "2022-01-04T08:08:25.318Z"
   },
   {
    "duration": 8,
    "start_time": "2022-01-04T08:08:25.344Z"
   },
   {
    "duration": 10,
    "start_time": "2022-01-04T08:08:25.354Z"
   },
   {
    "duration": 51,
    "start_time": "2022-01-04T08:08:25.366Z"
   },
   {
    "duration": 8,
    "start_time": "2022-01-04T08:08:25.420Z"
   },
   {
    "duration": 10,
    "start_time": "2022-01-04T08:08:25.431Z"
   },
   {
    "duration": 24,
    "start_time": "2022-01-04T08:08:25.443Z"
   },
   {
    "duration": 47,
    "start_time": "2022-01-04T08:08:25.469Z"
   },
   {
    "duration": 36,
    "start_time": "2022-01-04T08:08:25.519Z"
   },
   {
    "duration": 8,
    "start_time": "2022-01-04T08:08:25.558Z"
   },
   {
    "duration": 4534,
    "start_time": "2022-01-04T08:08:25.569Z"
   },
   {
    "duration": 15,
    "start_time": "2022-01-04T08:08:30.106Z"
   },
   {
    "duration": 7,
    "start_time": "2022-01-04T08:08:30.123Z"
   },
   {
    "duration": 12,
    "start_time": "2022-01-04T08:08:30.132Z"
   },
   {
    "duration": 81,
    "start_time": "2022-01-04T08:08:30.146Z"
   },
   {
    "duration": 5,
    "start_time": "2022-01-04T08:08:30.232Z"
   },
   {
    "duration": 13,
    "start_time": "2022-01-04T08:08:30.239Z"
   },
   {
    "duration": 24,
    "start_time": "2022-01-04T08:08:30.254Z"
   },
   {
    "duration": 14,
    "start_time": "2022-01-04T08:08:30.280Z"
   },
   {
    "duration": 31,
    "start_time": "2022-01-04T08:08:30.317Z"
   },
   {
    "duration": 26,
    "start_time": "2022-01-04T08:08:30.350Z"
   },
   {
    "duration": 55,
    "start_time": "2022-01-04T08:08:30.378Z"
   },
   {
    "duration": 28,
    "start_time": "2022-01-04T08:08:30.435Z"
   },
   {
    "duration": 34,
    "start_time": "2022-01-04T08:09:27.888Z"
   },
   {
    "duration": 72,
    "start_time": "2022-01-04T08:09:27.925Z"
   },
   {
    "duration": 13,
    "start_time": "2022-01-04T08:09:28.016Z"
   },
   {
    "duration": 19,
    "start_time": "2022-01-04T08:09:28.032Z"
   },
   {
    "duration": 89,
    "start_time": "2022-01-04T08:09:28.054Z"
   },
   {
    "duration": 9,
    "start_time": "2022-01-04T08:09:28.146Z"
   },
   {
    "duration": 12,
    "start_time": "2022-01-04T08:09:28.158Z"
   },
   {
    "duration": 5,
    "start_time": "2022-01-04T08:09:28.176Z"
   },
   {
    "duration": 7,
    "start_time": "2022-01-04T08:09:28.217Z"
   },
   {
    "duration": 10,
    "start_time": "2022-01-04T08:09:28.226Z"
   },
   {
    "duration": 10,
    "start_time": "2022-01-04T08:09:28.238Z"
   },
   {
    "duration": 13,
    "start_time": "2022-01-04T08:09:28.250Z"
   },
   {
    "duration": 80,
    "start_time": "2022-01-04T08:09:28.266Z"
   },
   {
    "duration": 8,
    "start_time": "2022-01-04T08:09:28.349Z"
   },
   {
    "duration": 8,
    "start_time": "2022-01-04T08:09:28.359Z"
   },
   {
    "duration": 59,
    "start_time": "2022-01-04T08:09:28.370Z"
   },
   {
    "duration": 8,
    "start_time": "2022-01-04T08:09:28.431Z"
   },
   {
    "duration": 8,
    "start_time": "2022-01-04T08:09:28.442Z"
   },
   {
    "duration": 23,
    "start_time": "2022-01-04T08:09:28.452Z"
   },
   {
    "duration": 41,
    "start_time": "2022-01-04T08:09:28.478Z"
   },
   {
    "duration": 10,
    "start_time": "2022-01-04T08:09:28.521Z"
   },
   {
    "duration": 9,
    "start_time": "2022-01-04T08:09:28.533Z"
   },
   {
    "duration": 22,
    "start_time": "2022-01-04T08:09:28.546Z"
   },
   {
    "duration": 72,
    "start_time": "2022-01-04T08:09:28.571Z"
   },
   {
    "duration": 8,
    "start_time": "2022-01-04T08:09:28.646Z"
   },
   {
    "duration": 4491,
    "start_time": "2022-01-04T08:09:28.657Z"
   },
   {
    "duration": 8,
    "start_time": "2022-01-04T08:09:33.150Z"
   },
   {
    "duration": 8,
    "start_time": "2022-01-04T08:09:33.160Z"
   },
   {
    "duration": 9,
    "start_time": "2022-01-04T08:09:33.171Z"
   },
   {
    "duration": 75,
    "start_time": "2022-01-04T08:09:33.183Z"
   },
   {
    "duration": 4,
    "start_time": "2022-01-04T08:09:33.260Z"
   },
   {
    "duration": 12,
    "start_time": "2022-01-04T08:09:33.267Z"
   },
   {
    "duration": 39,
    "start_time": "2022-01-04T08:09:33.281Z"
   },
   {
    "duration": 11,
    "start_time": "2022-01-04T08:09:33.323Z"
   },
   {
    "duration": 30,
    "start_time": "2022-01-04T08:09:33.336Z"
   },
   {
    "duration": 55,
    "start_time": "2022-01-04T08:09:33.369Z"
   },
   {
    "duration": 25,
    "start_time": "2022-01-04T08:09:33.427Z"
   },
   {
    "duration": 24,
    "start_time": "2022-01-04T08:09:33.455Z"
   },
   {
    "duration": 739,
    "start_time": "2022-01-04T18:27:43.924Z"
   },
   {
    "duration": 71,
    "start_time": "2022-01-04T18:27:45.892Z"
   },
   {
    "duration": 20,
    "start_time": "2022-01-04T18:27:46.865Z"
   },
   {
    "duration": 22,
    "start_time": "2022-01-04T18:27:48.002Z"
   },
   {
    "duration": 50,
    "start_time": "2022-01-04T18:28:26.173Z"
   },
   {
    "duration": 9,
    "start_time": "2022-01-04T18:28:54.531Z"
   },
   {
    "duration": 11,
    "start_time": "2022-01-04T18:28:57.183Z"
   },
   {
    "duration": 6,
    "start_time": "2022-01-04T18:28:59.686Z"
   },
   {
    "duration": 6,
    "start_time": "2022-01-04T18:29:01.499Z"
   },
   {
    "duration": 10,
    "start_time": "2022-01-04T18:29:04.653Z"
   },
   {
    "duration": 11,
    "start_time": "2022-01-04T18:29:19.531Z"
   },
   {
    "duration": 16,
    "start_time": "2022-01-04T18:29:21.439Z"
   },
   {
    "duration": 57,
    "start_time": "2022-01-04T18:29:25.128Z"
   },
   {
    "duration": 8,
    "start_time": "2022-01-04T18:32:18.210Z"
   },
   {
    "duration": 10,
    "start_time": "2022-01-04T18:32:19.639Z"
   },
   {
    "duration": 26,
    "start_time": "2022-01-04T18:32:26.227Z"
   },
   {
    "duration": 8,
    "start_time": "2022-01-04T18:32:28.441Z"
   },
   {
    "duration": 6,
    "start_time": "2022-01-04T18:34:05.893Z"
   },
   {
    "duration": 22,
    "start_time": "2022-01-04T18:34:07.296Z"
   },
   {
    "duration": 11,
    "start_time": "2022-01-04T18:34:09.592Z"
   },
   {
    "duration": 14,
    "start_time": "2022-01-04T18:34:13.255Z"
   },
   {
    "duration": 10,
    "start_time": "2022-01-04T18:34:13.475Z"
   },
   {
    "duration": 26,
    "start_time": "2022-01-04T18:34:15.920Z"
   },
   {
    "duration": 35,
    "start_time": "2022-01-04T18:34:17.436Z"
   },
   {
    "duration": 9,
    "start_time": "2022-01-04T18:35:13.107Z"
   },
   {
    "duration": 4746,
    "start_time": "2022-01-04T18:35:20.544Z"
   },
   {
    "duration": 8,
    "start_time": "2022-01-04T18:35:27.717Z"
   },
   {
    "duration": 7,
    "start_time": "2022-01-04T18:35:42.103Z"
   },
   {
    "duration": 10,
    "start_time": "2022-01-04T18:35:44.528Z"
   },
   {
    "duration": 42,
    "start_time": "2022-01-04T18:36:24.084Z"
   },
   {
    "duration": 4,
    "start_time": "2022-01-04T18:36:31.453Z"
   },
   {
    "duration": 7,
    "start_time": "2022-01-04T18:36:34.218Z"
   },
   {
    "duration": 14,
    "start_time": "2022-01-04T18:36:36.857Z"
   },
   {
    "duration": 10,
    "start_time": "2022-01-04T18:36:37.885Z"
   },
   {
    "duration": 40,
    "start_time": "2022-01-04T18:38:16.461Z"
   },
   {
    "duration": 29,
    "start_time": "2022-01-04T18:39:49.116Z"
   },
   {
    "duration": 26,
    "start_time": "2022-01-04T18:40:03.930Z"
   },
   {
    "duration": 24,
    "start_time": "2022-01-04T18:40:26.234Z"
   }
  ],
  "kernelspec": {
   "display_name": "Python 3 (ipykernel)",
   "language": "python",
   "name": "python3"
  },
  "language_info": {
   "codemirror_mode": {
    "name": "ipython",
    "version": 3
   },
   "file_extension": ".py",
   "mimetype": "text/x-python",
   "name": "python",
   "nbconvert_exporter": "python",
   "pygments_lexer": "ipython3",
   "version": "3.9.7"
  },
  "latex_envs": {
   "LaTeX_envs_menu_present": true,
   "autoclose": false,
   "autocomplete": true,
   "bibliofile": "biblio.bib",
   "cite_by": "apalike",
   "current_citInitial": 1,
   "eqLabelWithNumbers": true,
   "eqNumInitial": 1,
   "hotkeys": {
    "equation": "Ctrl-E",
    "itemize": "Ctrl-I"
   },
   "labels_anchors": false,
   "latex_user_defs": false,
   "report_style_numbering": false,
   "user_envs_cfg": false
  },
  "toc": {
   "base_numbering": 1,
   "nav_menu": {},
   "number_sections": true,
   "sideBar": true,
   "skip_h1_title": true,
   "title_cell": "Table of Contents",
   "title_sidebar": "Contents",
   "toc_cell": false,
   "toc_position": {},
   "toc_section_display": true,
   "toc_window_display": true
  }
 },
 "nbformat": 4,
 "nbformat_minor": 2
}
